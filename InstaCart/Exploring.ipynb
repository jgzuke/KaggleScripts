{
 "cells": [
  {
   "cell_type": "code",
   "execution_count": 1,
   "metadata": {
    "collapsed": true
   },
   "outputs": [],
   "source": [
    "import numpy as np\n",
    "import pandas as pd"
   ]
  },
  {
   "cell_type": "code",
   "execution_count": 2,
   "metadata": {
    "collapsed": false
   },
   "outputs": [],
   "source": [
    "aisles = pd.read_csv('data/aisles.csv')\n",
    "departments = pd.read_csv('data/departments.csv')\n",
    "order_products__prior = pd.read_csv('data/order_products__prior.csv')\n",
    "order_products__train = pd.read_csv('data/order_products__train.csv')\n",
    "orders = pd.read_csv('data/orders.csv')\n",
    "products = pd.read_csv('data/products.csv')\n",
    "sample_submission = pd.read_csv('data/sample_submission.csv')"
   ]
  },
  {
   "cell_type": "code",
   "execution_count": 3,
   "metadata": {
    "collapsed": false
   },
   "outputs": [],
   "source": [
    "# given prior, predict things in test (scoring https://www.kaggle.com/c/instacart-market-basket-analysis#evaluation)\n",
    "# cluster different buy patterns for items and customers"
   ]
  },
  {
   "cell_type": "code",
   "execution_count": 36,
   "metadata": {
    "collapsed": false
   },
   "outputs": [
    {
     "name": "stderr",
     "output_type": "stream",
     "text": [
      "/Users/jgzuke/anaconda3/lib/python3.5/site-packages/ipykernel/__main__.py:2: SettingWithCopyWarning: \n",
      "A value is trying to be set on a copy of a slice from a DataFrame.\n",
      "Try using .loc[row_indexer,col_indexer] = value instead\n",
      "\n",
      "See the caveats in the documentation: http://pandas.pydata.org/pandas-docs/stable/indexing.html#indexing-view-versus-copy\n",
      "  from ipykernel import kernelapp as app\n"
     ]
    }
   ],
   "source": [
    "orders_train = orders[orders.eval_set == 'train']\n",
    "orders_train['prediction'] = 'None'"
   ]
  },
  {
   "cell_type": "code",
   "execution_count": 63,
   "metadata": {
    "collapsed": false
   },
   "outputs": [
    {
     "name": "stderr",
     "output_type": "stream",
     "text": [
      "/Users/jgzuke/anaconda3/lib/python3.5/site-packages/ipykernel/__main__.py:10: FutureWarning: sort(columns=....) is deprecated, use sort_values(by=.....)\n"
     ]
    }
   ],
   "source": [
    "def aggregate_rows(rows):\n",
    "    if sum(rows.reordered) == 0:\n",
    "        return ('None')\n",
    "    filter_products = [str(product) for reordered, product in zip(rows.reordered, rows.product_id) if reordered]\n",
    "    return (filter_products)\n",
    "\n",
    "grouped = order_products__train.groupby(order_products__train.order_id)\n",
    "products_by_order = grouped.apply(func=aggregate_rows)\n",
    "real_orders = products_by_order.sort_index().values\n",
    "predicted_orders = [(prediction) for prediction in orders_train.sort('order_id').prediction.values]\n",
    "\n",
    "def score_row(real_order, predicted_order):\n",
    "    correct_elements = float(len([product for product in predicted_order if product in real_order]))\n",
    "    precision = correct_elements / len(predicted_order)\n",
    "    recall = correct_elements / len(real_order)\n",
    "    return 2*(precision * recall) / (precision + recall) if correct_elements else 0\n",
    "\n",
    "score = sum(score_row(real, predicted) for real, predicted in zip(real_orders, predicted_orders)) / len(real_orders)"
   ]
  },
  {
   "cell_type": "code",
   "execution_count": 64,
   "metadata": {
    "collapsed": false
   },
   "outputs": [
    {
     "data": {
      "text/plain": [
       "0.06555952716658156"
      ]
     },
     "execution_count": 64,
     "metadata": {},
     "output_type": "execute_result"
    }
   ],
   "source": [
    "score"
   ]
  },
  {
   "cell_type": "code",
   "execution_count": null,
   "metadata": {
    "collapsed": true
   },
   "outputs": [],
   "source": []
  }
 ],
 "metadata": {
  "kernelspec": {
   "display_name": "Python 3",
   "language": "python",
   "name": "python3"
  },
  "language_info": {
   "codemirror_mode": {
    "name": "ipython",
    "version": 3
   },
   "file_extension": ".py",
   "mimetype": "text/x-python",
   "name": "python",
   "nbconvert_exporter": "python",
   "pygments_lexer": "ipython3",
   "version": "3.5.3"
  }
 },
 "nbformat": 4,
 "nbformat_minor": 2
}
