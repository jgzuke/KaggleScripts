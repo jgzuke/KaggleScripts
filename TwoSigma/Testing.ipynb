{
 "cells": [
  {
   "cell_type": "code",
   "execution_count": 3,
   "metadata": {
    "collapsed": true
   },
   "outputs": [],
   "source": [
    "import pandas as pd\n",
    "import numpy as np\n",
    "import xgboost as xgb\n",
    "from xgboost import XGBClassifier\n",
    "from sklearn.ensemble import RandomForestRegressor\n",
    "from sklearn.ensemble import ExtraTreesRegressor"
   ]
  },
  {
   "cell_type": "code",
   "execution_count": 4,
   "metadata": {
    "collapsed": true
   },
   "outputs": [],
   "source": [
    "data = pd.read_hdf('data/train.h5')"
   ]
  },
  {
   "cell_type": "code",
   "execution_count": 5,
   "metadata": {
    "collapsed": true
   },
   "outputs": [],
   "source": [
    "ids = np.unique(data.id.values)\n",
    "np.random.shuffle(ids)\n",
    "cutoff = int(len(ids) * 0.8)\n",
    "train_ids = ids[:cutoff]\n",
    "test_ids = ids[cutoff:]"
   ]
  },
  {
   "cell_type": "code",
   "execution_count": 6,
   "metadata": {
    "collapsed": false
   },
   "outputs": [],
   "source": [
    "train = data[[row_id in train_ids for row_id in data.id]]\n",
    "test = data[[row_id in test_ids for row_id in data.id]]"
   ]
  },
  {
   "cell_type": "code",
   "execution_count": 7,
   "metadata": {
    "collapsed": true
   },
   "outputs": [],
   "source": [
    "X_train = train.drop('y', axis=1)\n",
    "X_test = test.drop('y', axis=1)"
   ]
  },
  {
   "cell_type": "code",
   "execution_count": 8,
   "metadata": {
    "collapsed": false
   },
   "outputs": [],
   "source": [
    "y_train = train['y']\n",
    "y_test = test['y']"
   ]
  },
  {
   "cell_type": "code",
   "execution_count": 8,
   "metadata": {
    "collapsed": false
   },
   "outputs": [
    {
     "data": {
      "text/html": [
       "<div>\n",
       "<table border=\"1\" class=\"dataframe\">\n",
       "  <thead>\n",
       "    <tr style=\"text-align: right;\">\n",
       "      <th></th>\n",
       "      <th>id</th>\n",
       "      <th>timestamp</th>\n",
       "      <th>derived_0</th>\n",
       "      <th>derived_1</th>\n",
       "      <th>derived_2</th>\n",
       "      <th>derived_3</th>\n",
       "      <th>derived_4</th>\n",
       "      <th>fundamental_0</th>\n",
       "      <th>fundamental_1</th>\n",
       "      <th>fundamental_2</th>\n",
       "      <th>...</th>\n",
       "      <th>technical_35</th>\n",
       "      <th>technical_36</th>\n",
       "      <th>technical_37</th>\n",
       "      <th>technical_38</th>\n",
       "      <th>technical_39</th>\n",
       "      <th>technical_40</th>\n",
       "      <th>technical_41</th>\n",
       "      <th>technical_42</th>\n",
       "      <th>technical_43</th>\n",
       "      <th>technical_44</th>\n",
       "    </tr>\n",
       "  </thead>\n",
       "  <tbody>\n",
       "    <tr>\n",
       "      <th>count</th>\n",
       "      <td>1.371207e+06</td>\n",
       "      <td>1.371207e+06</td>\n",
       "      <td>1.317120e+06</td>\n",
       "      <td>1.310691e+06</td>\n",
       "      <td>1.067589e+06</td>\n",
       "      <td>1.256187e+06</td>\n",
       "      <td>1.061032e+06</td>\n",
       "      <td>1.352508e+06</td>\n",
       "      <td>8.134230e+05</td>\n",
       "      <td>1.088758e+06</td>\n",
       "      <td>...</td>\n",
       "      <td>1.368850e+06</td>\n",
       "      <td>1.369262e+06</td>\n",
       "      <td>1.355787e+06</td>\n",
       "      <td>1.355787e+06</td>\n",
       "      <td>1.354936e+06</td>\n",
       "      <td>1.369433e+06</td>\n",
       "      <td>1.335923e+06</td>\n",
       "      <td>1.354936e+06</td>\n",
       "      <td>1.367294e+06</td>\n",
       "      <td>1.181567e+06</td>\n",
       "    </tr>\n",
       "    <tr>\n",
       "      <th>mean</th>\n",
       "      <td>1.087683e+03</td>\n",
       "      <td>9.440066e+02</td>\n",
       "      <td>-5.633810e+00</td>\n",
       "      <td>7.817226e+11</td>\n",
       "      <td>-4.480250e-01</td>\n",
       "      <td>-7.873349e-02</td>\n",
       "      <td>2.214370e+01</td>\n",
       "      <td>-1.758670e-02</td>\n",
       "      <td>-7.234223e+08</td>\n",
       "      <td>-8.905497e-02</td>\n",
       "      <td>...</td>\n",
       "      <td>-9.895878e-02</td>\n",
       "      <td>-8.131217e-02</td>\n",
       "      <td>-9.159923e-02</td>\n",
       "      <td>-8.341625e-02</td>\n",
       "      <td>-7.598376e-02</td>\n",
       "      <td>5.047655e-02</td>\n",
       "      <td>5.379525e-03</td>\n",
       "      <td>-1.752768e-02</td>\n",
       "      <td>-9.759589e-01</td>\n",
       "      <td>3.426999e-04</td>\n",
       "    </tr>\n",
       "    <tr>\n",
       "      <th>std</th>\n",
       "      <td>6.342526e+02</td>\n",
       "      <td>5.207082e+02</td>\n",
       "      <td>2.781022e+02</td>\n",
       "      <td>7.587538e+13</td>\n",
       "      <td>7.218387e+01</td>\n",
       "      <td>2.150803e+01</td>\n",
       "      <td>1.026413e+03</td>\n",
       "      <td>2.476652e-01</td>\n",
       "      <td>8.449003e+10</td>\n",
       "      <td>2.724590e+00</td>\n",
       "      <td>...</td>\n",
       "      <td>5.558925e-01</td>\n",
       "      <td>6.178950e-01</td>\n",
       "      <td>2.479410e-01</td>\n",
       "      <td>2.373510e-01</td>\n",
       "      <td>2.269784e-01</td>\n",
       "      <td>3.110656e-01</td>\n",
       "      <td>1.134372e-01</td>\n",
       "      <td>2.138127e-01</td>\n",
       "      <td>9.610019e-01</td>\n",
       "      <td>2.999181e-02</td>\n",
       "    </tr>\n",
       "    <tr>\n",
       "      <th>min</th>\n",
       "      <td>0.000000e+00</td>\n",
       "      <td>0.000000e+00</td>\n",
       "      <td>-2.017497e+04</td>\n",
       "      <td>-7.375435e-02</td>\n",
       "      <td>-9.848880e+03</td>\n",
       "      <td>-4.186175e+03</td>\n",
       "      <td>-8.551914e+03</td>\n",
       "      <td>-2.344957e+00</td>\n",
       "      <td>-1.043737e+13</td>\n",
       "      <td>-3.828444e+01</td>\n",
       "      <td>...</td>\n",
       "      <td>-1.377945e+00</td>\n",
       "      <td>-1.684077e+00</td>\n",
       "      <td>-1.000000e+00</td>\n",
       "      <td>-1.000000e+00</td>\n",
       "      <td>-1.000000e+00</td>\n",
       "      <td>-5.250904e-01</td>\n",
       "      <td>-4.449529e-01</td>\n",
       "      <td>-1.000000e+00</td>\n",
       "      <td>-2.000000e+00</td>\n",
       "      <td>-1.265686e-01</td>\n",
       "    </tr>\n",
       "    <tr>\n",
       "      <th>25%</th>\n",
       "      <td>5.420000e+02</td>\n",
       "      <td>5.000000e+02</td>\n",
       "      <td>-1.430992e-01</td>\n",
       "      <td>-2.927750e-02</td>\n",
       "      <td>-5.993479e-02</td>\n",
       "      <td>-1.679812e-01</td>\n",
       "      <td>-1.047486e-01</td>\n",
       "      <td>-1.953982e-01</td>\n",
       "      <td>-2.041078e-01</td>\n",
       "      <td>-2.352718e-01</td>\n",
       "      <td>...</td>\n",
       "      <td>-4.219143e-01</td>\n",
       "      <td>-4.053459e-01</td>\n",
       "      <td>-5.258324e-04</td>\n",
       "      <td>-2.308571e-04</td>\n",
       "      <td>-3.314814e-05</td>\n",
       "      <td>-1.496765e-01</td>\n",
       "      <td>-7.345026e-02</td>\n",
       "      <td>-5.892644e-15</td>\n",
       "      <td>-2.000000e+00</td>\n",
       "      <td>-1.994037e-02</td>\n",
       "    </tr>\n",
       "    <tr>\n",
       "      <th>50%</th>\n",
       "      <td>1.085000e+03</td>\n",
       "      <td>9.540000e+02</td>\n",
       "      <td>-7.291897e-04</td>\n",
       "      <td>6.491869e-03</td>\n",
       "      <td>2.201143e-02</td>\n",
       "      <td>3.620134e-04</td>\n",
       "      <td>1.045790e-02</td>\n",
       "      <td>-3.666383e-02</td>\n",
       "      <td>-8.130231e-03</td>\n",
       "      <td>-3.437910e-02</td>\n",
       "      <td>...</td>\n",
       "      <td>-1.126339e-01</td>\n",
       "      <td>-8.421298e-02</td>\n",
       "      <td>-4.539158e-12</td>\n",
       "      <td>-2.488125e-13</td>\n",
       "      <td>-6.364897e-16</td>\n",
       "      <td>-1.183149e-02</td>\n",
       "      <td>3.540279e-04</td>\n",
       "      <td>0.000000e+00</td>\n",
       "      <td>-6.804921e-01</td>\n",
       "      <td>-6.244372e-05</td>\n",
       "    </tr>\n",
       "    <tr>\n",
       "      <th>75%</th>\n",
       "      <td>1.659000e+03</td>\n",
       "      <td>1.402000e+03</td>\n",
       "      <td>1.199108e-01</td>\n",
       "      <td>1.144038e-01</td>\n",
       "      <td>1.997509e-01</td>\n",
       "      <td>3.024452e-01</td>\n",
       "      <td>1.543160e-01</td>\n",
       "      <td>1.336145e-01</td>\n",
       "      <td>1.745031e-01</td>\n",
       "      <td>1.728605e-01</td>\n",
       "      <td>...</td>\n",
       "      <td>1.635433e-01</td>\n",
       "      <td>1.962546e-01</td>\n",
       "      <td>-1.316226e-40</td>\n",
       "      <td>0.000000e+00</td>\n",
       "      <td>0.000000e+00</td>\n",
       "      <td>1.740852e-01</td>\n",
       "      <td>7.887742e-02</td>\n",
       "      <td>0.000000e+00</td>\n",
       "      <td>-6.846776e-08</td>\n",
       "      <td>2.034125e-02</td>\n",
       "    </tr>\n",
       "    <tr>\n",
       "      <th>max</th>\n",
       "      <td>2.158000e+03</td>\n",
       "      <td>1.812000e+03</td>\n",
       "      <td>3.252527e+03</td>\n",
       "      <td>1.068448e+16</td>\n",
       "      <td>3.823001e+03</td>\n",
       "      <td>1.239737e+03</td>\n",
       "      <td>6.785965e+04</td>\n",
       "      <td>1.378195e+00</td>\n",
       "      <td>5.203165e+02</td>\n",
       "      <td>7.677125e+01</td>\n",
       "      <td>...</td>\n",
       "      <td>1.464272e+01</td>\n",
       "      <td>4.957758e+01</td>\n",
       "      <td>0.000000e+00</td>\n",
       "      <td>0.000000e+00</td>\n",
       "      <td>0.000000e+00</td>\n",
       "      <td>1.569265e+00</td>\n",
       "      <td>6.844833e-01</td>\n",
       "      <td>1.000000e+00</td>\n",
       "      <td>0.000000e+00</td>\n",
       "      <td>1.435858e-01</td>\n",
       "    </tr>\n",
       "  </tbody>\n",
       "</table>\n",
       "<p>8 rows × 110 columns</p>\n",
       "</div>"
      ],
      "text/plain": [
       "                 id     timestamp     derived_0     derived_1     derived_2  \\\n",
       "count  1.371207e+06  1.371207e+06  1.317120e+06  1.310691e+06  1.067589e+06   \n",
       "mean   1.087683e+03  9.440066e+02 -5.633810e+00  7.817226e+11 -4.480250e-01   \n",
       "std    6.342526e+02  5.207082e+02  2.781022e+02  7.587538e+13  7.218387e+01   \n",
       "min    0.000000e+00  0.000000e+00 -2.017497e+04 -7.375435e-02 -9.848880e+03   \n",
       "25%    5.420000e+02  5.000000e+02 -1.430992e-01 -2.927750e-02 -5.993479e-02   \n",
       "50%    1.085000e+03  9.540000e+02 -7.291897e-04  6.491869e-03  2.201143e-02   \n",
       "75%    1.659000e+03  1.402000e+03  1.199108e-01  1.144038e-01  1.997509e-01   \n",
       "max    2.158000e+03  1.812000e+03  3.252527e+03  1.068448e+16  3.823001e+03   \n",
       "\n",
       "          derived_3     derived_4  fundamental_0  fundamental_1  \\\n",
       "count  1.256187e+06  1.061032e+06   1.352508e+06   8.134230e+05   \n",
       "mean  -7.873349e-02  2.214370e+01  -1.758670e-02  -7.234223e+08   \n",
       "std    2.150803e+01  1.026413e+03   2.476652e-01   8.449003e+10   \n",
       "min   -4.186175e+03 -8.551914e+03  -2.344957e+00  -1.043737e+13   \n",
       "25%   -1.679812e-01 -1.047486e-01  -1.953982e-01  -2.041078e-01   \n",
       "50%    3.620134e-04  1.045790e-02  -3.666383e-02  -8.130231e-03   \n",
       "75%    3.024452e-01  1.543160e-01   1.336145e-01   1.745031e-01   \n",
       "max    1.239737e+03  6.785965e+04   1.378195e+00   5.203165e+02   \n",
       "\n",
       "       fundamental_2      ...       technical_35  technical_36  technical_37  \\\n",
       "count   1.088758e+06      ...       1.368850e+06  1.369262e+06  1.355787e+06   \n",
       "mean   -8.905497e-02      ...      -9.895878e-02 -8.131217e-02 -9.159923e-02   \n",
       "std     2.724590e+00      ...       5.558925e-01  6.178950e-01  2.479410e-01   \n",
       "min    -3.828444e+01      ...      -1.377945e+00 -1.684077e+00 -1.000000e+00   \n",
       "25%    -2.352718e-01      ...      -4.219143e-01 -4.053459e-01 -5.258324e-04   \n",
       "50%    -3.437910e-02      ...      -1.126339e-01 -8.421298e-02 -4.539158e-12   \n",
       "75%     1.728605e-01      ...       1.635433e-01  1.962546e-01 -1.316226e-40   \n",
       "max     7.677125e+01      ...       1.464272e+01  4.957758e+01  0.000000e+00   \n",
       "\n",
       "       technical_38  technical_39  technical_40  technical_41  technical_42  \\\n",
       "count  1.355787e+06  1.354936e+06  1.369433e+06  1.335923e+06  1.354936e+06   \n",
       "mean  -8.341625e-02 -7.598376e-02  5.047655e-02  5.379525e-03 -1.752768e-02   \n",
       "std    2.373510e-01  2.269784e-01  3.110656e-01  1.134372e-01  2.138127e-01   \n",
       "min   -1.000000e+00 -1.000000e+00 -5.250904e-01 -4.449529e-01 -1.000000e+00   \n",
       "25%   -2.308571e-04 -3.314814e-05 -1.496765e-01 -7.345026e-02 -5.892644e-15   \n",
       "50%   -2.488125e-13 -6.364897e-16 -1.183149e-02  3.540279e-04  0.000000e+00   \n",
       "75%    0.000000e+00  0.000000e+00  1.740852e-01  7.887742e-02  0.000000e+00   \n",
       "max    0.000000e+00  0.000000e+00  1.569265e+00  6.844833e-01  1.000000e+00   \n",
       "\n",
       "       technical_43  technical_44  \n",
       "count  1.367294e+06  1.181567e+06  \n",
       "mean  -9.759589e-01  3.426999e-04  \n",
       "std    9.610019e-01  2.999181e-02  \n",
       "min   -2.000000e+00 -1.265686e-01  \n",
       "25%   -2.000000e+00 -1.994037e-02  \n",
       "50%   -6.804921e-01 -6.244372e-05  \n",
       "75%   -6.846776e-08  2.034125e-02  \n",
       "max    0.000000e+00  1.435858e-01  \n",
       "\n",
       "[8 rows x 110 columns]"
      ]
     },
     "execution_count": 8,
     "metadata": {},
     "output_type": "execute_result"
    }
   ],
   "source": [
    "X_train.describe()"
   ]
  },
  {
   "cell_type": "code",
   "execution_count": 9,
   "metadata": {
    "collapsed": false
   },
   "outputs": [],
   "source": [
    "X_train = X_train.fillna(0)\n",
    "X_test = X_test.fillna(0)"
   ]
  },
  {
   "cell_type": "code",
   "execution_count": null,
   "metadata": {
    "collapsed": true
   },
   "outputs": [],
   "source": []
  },
  {
   "cell_type": "code",
   "execution_count": null,
   "metadata": {
    "collapsed": true
   },
   "outputs": [],
   "source": [
    "structures = [('technical_34', 'technical_22')]\n",
    "nan_structures_split = []\n"
   ]
  },
  {
   "cell_type": "code",
   "execution_count": 10,
   "metadata": {
    "collapsed": false
   },
   "outputs": [
    {
     "data": {
      "text/plain": [
       "1358577"
      ]
     },
     "execution_count": 10,
     "metadata": {},
     "output_type": "execute_result"
    }
   ],
   "source": [
    "len(X_train.values)"
   ]
  },
  {
   "cell_type": "code",
   "execution_count": 11,
   "metadata": {
    "collapsed": false
   },
   "outputs": [
    {
     "data": {
      "text/plain": [
       "-0.14410489174158214"
      ]
     },
     "execution_count": 11,
     "metadata": {},
     "output_type": "execute_result"
    }
   ],
   "source": [
    "clf = RandomForestRegressor()\n",
    "clf.fit(X_train.values, y_train.values)\n",
    "clf.score(X_test.values, y_test.values)"
   ]
  },
  {
   "cell_type": "code",
   "execution_count": null,
   "metadata": {
    "collapsed": false
   },
   "outputs": [],
   "source": [
    "xgb_clf = XGBClassifier()\n",
    "xgb_clf.fit(X_train.values[:20000], y_train.values[:20000])\n",
    "xgb_clf.score(X_test.values[:20000], y_test.values[:20000])"
   ]
  },
  {
   "cell_type": "code",
   "execution_count": null,
   "metadata": {
    "collapsed": false
   },
   "outputs": [
    {
     "data": {
      "text/plain": [
       "0.00062695955961855621"
      ]
     },
     "execution_count": 12,
     "metadata": {},
     "output_type": "execute_result"
    }
   ],
   "source": [
    "et_clf = ExtraTreesRegressor(n_estimators=100, max_depth=4, n_jobs=-1, random_state=17, verbose=0)\n",
    "et_clf.fit(X_train.values, y_train.values)\n",
    "et_clf.score(X_test.values, y_test.values)"
   ]
  },
  {
   "cell_type": "code",
   "execution_count": null,
   "metadata": {
    "collapsed": true
   },
   "outputs": [],
   "source": []
  }
 ],
 "metadata": {
  "kernelspec": {
   "display_name": "Python 3",
   "language": "python",
   "name": "python3"
  },
  "language_info": {
   "codemirror_mode": {
    "name": "ipython",
    "version": 3
   },
   "file_extension": ".py",
   "mimetype": "text/x-python",
   "name": "python",
   "nbconvert_exporter": "python",
   "pygments_lexer": "ipython3",
   "version": "3.5.1"
  }
 },
 "nbformat": 4,
 "nbformat_minor": 0
}
