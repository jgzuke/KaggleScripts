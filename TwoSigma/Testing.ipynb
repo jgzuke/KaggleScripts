{
 "cells": [
  {
   "cell_type": "code",
   "execution_count": 1,
   "metadata": {
    "collapsed": false
   },
   "outputs": [
    {
     "name": "stderr",
     "output_type": "stream",
     "text": [
      "Using Theano backend.\n"
     ]
    }
   ],
   "source": [
    "import pandas as pd\n",
    "import numpy as np\n",
    "import math\n",
    "from keras.models import Sequential\n",
    "from keras.layers import Dense, Activation, Dropout, BatchNormalization, LSTM, GRU, TimeDistributedDense\n",
    "from keras import backend as K\n",
    "import kagglegym\n",
    "import time\n",
    "import gc"
   ]
  },
  {
   "cell_type": "code",
   "execution_count": 9,
   "metadata": {
    "collapsed": false
   },
   "outputs": [],
   "source": [
    "def get_nan_distributions(features):\n",
    "    missing_values = {}\n",
    "    for row in features.values:\n",
    "        key = tuple([not math.isnan(val) for val in row])\n",
    "        if key in missing_values:\n",
    "            missing_values[key] += 1\n",
    "        else:\n",
    "            missing_values[key] = 1\n",
    "\n",
    "    high_frequency_nan_distributions = sorted([(key, missing_values[key]) for key in missing_values], key=lambda key_value: key_value[1])[-500:]\n",
    "    high_frequency_nan_distributions.reverse()\n",
    "    \n",
    "    # TODO this sucks, fix it\n",
    "    cutoff = 1000\n",
    "    high_frequency_nan_distributions_filtered = []\n",
    "    while len(high_frequency_nan_distributions_filtered) < 5:\n",
    "        high_frequency_nan_distributions_filtered = []\n",
    "        for dist, count in high_frequency_nan_distributions:\n",
    "            new = min([sum(int(a != b) for a, b in zip(dist, dist2)) for dist2 in high_frequency_nan_distributions_filtered] + [len(dist)])\n",
    "            if ((count**0.5) * (new**2)) > cutoff:\n",
    "                high_frequency_nan_distributions_filtered.append(dist)\n",
    "        cutoff -= 20\n",
    "    \n",
    "    return np.array(high_frequency_nan_distributions_filtered)\n",
    "\n",
    "def add_nan_distributions_and_normalize_old(data):\n",
    "    features = data.drop(['id', 'timestamp', 'y'], axis=1)\n",
    "    nan_distributions = get_nan_distributions(features, data)\n",
    "    best_distributions = np.argmin([[6 * np.sum(np.logical_and(row, dist)) - np.sum(np.logical_or(row, dist)) for dist in nan_distributions] for row in features.isnull().values], axis=1)\n",
    "    nan_features = np.zeros((len(best_distributions), len(nan_distributions)))\n",
    "    nan_features[np.arange(len(best_distributions)), best_distributions] = 1\n",
    "    nan_columns = ['nan_{}'.format(i) for i in range(len(nan_distributions))]\n",
    "    nan_features = pd.DataFrame(nan_features, columns=nan_columns)\n",
    "    data = data.fillna(data.mean())\n",
    "    \n",
    "    means, stds = data.mean(), data.std()\n",
    "    non_feature_columns = ['id', 'timestamp', 'y']\n",
    "    for column in non_feature_columns:\n",
    "        means[column] = 0\n",
    "        stds[column] = 1\n",
    "    data = (data - means) / stds\n",
    "    new_data = data.join(nan_features)\n",
    "    \n",
    "    means = means.drop(non_feature_columns)\n",
    "    stds = stds.drop(non_feature_columns)\n",
    "    return new_data, nan_distributions, means, stds\n",
    "\n",
    "\n",
    "columns_to_use = ['technical_30', 'technical_20', 'fundamental_11', 'technical_19']\n",
    "\n",
    "def add_nan_distributions_and_normalize(data):\n",
    "    #low_y_cut = -0.086093\n",
    "    #high_y_cut = 0.093497\n",
    "    #y_is_above_cut = (data.y > high_y_cut)\n",
    "    #y_is_below_cut = (data.y < low_y_cut)\n",
    "    #y_is_within_cut = (~y_is_above_cut & ~y_is_below_cut)\n",
    "    #data = data.loc[y_is_within_cut]\n",
    "    #data.index = list(range(len(data)))\n",
    "    \n",
    "    features = data[columns_to_use]\n",
    "    nan_distributions = get_nan_distributions(features)\n",
    "    best_distributions = np.argmin([[6 * np.sum(np.logical_and(row, dist)) - np.sum(np.logical_or(row, dist)) for dist in nan_distributions] for row in features.isnull().values], axis=1)\n",
    "    nan_features = np.zeros((len(best_distributions), len(nan_distributions)))\n",
    "    nan_features[np.arange(len(best_distributions)), best_distributions] = 1\n",
    "    nan_columns = ['nan_{}'.format(i) for i in range(len(nan_distributions))]\n",
    "    nan_features = pd.DataFrame(nan_features, columns=nan_columns)\n",
    "    \n",
    "    non_feature_columns = ['id', 'timestamp', 'y']\n",
    "    means, stds = features.mean(), features.std()\n",
    "    features = (features.fillna(means) - means) / stds\n",
    "    new_data = features.join(nan_features).join(data[non_feature_columns])\n",
    "    \n",
    "    means = means[columns_to_use]\n",
    "    stds = stds[columns_to_use]\n",
    "    return new_data, nan_distributions, means, stds"
   ]
  },
  {
   "cell_type": "code",
   "execution_count": 10,
   "metadata": {
    "collapsed": false
   },
   "outputs": [],
   "source": [
    "def loss_r2(y_true, y_pred):\n",
    "    u = K.mean(y_true, axis=-1)\n",
    "    u = K.expand_dims(u, y_true.ndim - 1)\n",
    "    u = K.repeat_elements(u, y_true.shape[-1], axis=-1)\n",
    "    r2 = 1 - K.sum(K.square(y_pred - y_true), axis=-1) / K.sum(K.square(y_true - u), axis=-1)\n",
    "    r = (K.sign(r2)*K.sqrt(K.abs(r2)))\n",
    "    return K.clip(r, -1., 1.)\n",
    "\n",
    "def loss_r2_1d(y_true, y_pred):\n",
    "    u = K.mean(y_true)\n",
    "    return K.sum(K.square(y_pred - y_true)) / K.sum(K.square(y_true - u))\n",
    "\n",
    "def loss_r_score(y_true, y_pred):\n",
    "    u = K.mean(y_true)\n",
    "    r2 = 1 - K.sum(K.square(y_pred - y_true)) / K.sum(K.square(y_true - u))\n",
    "    return (K.sign(r2)*K.sqrt(K.abs(r2)))\n",
    "    #return K.clip(r, -1., 1.)"
   ]
  },
  {
   "cell_type": "markdown",
   "metadata": {},
   "source": [
    "# For Submission"
   ]
  },
  {
   "cell_type": "code",
   "execution_count": 11,
   "metadata": {
    "collapsed": false
   },
   "outputs": [],
   "source": [
    "def data_generator(data_for_id_X, data_for_id_y, id_range, samples_back_included, batch_size):\n",
    "    X = []\n",
    "    y = []\n",
    "    while True:\n",
    "        for j in range(id_range):\n",
    "            for i in range(samples_back_included, len(data_for_id_X[j])):\n",
    "                X.append(data_for_id_X[j][max(i - samples_back_included, 0):i])\n",
    "                y.append(data_for_id_y[j][i-1:i][0][0])\n",
    "                if len(X) == batch_size:\n",
    "                    yield (np.array(X), np.array(y))\n",
    "                    X = []\n",
    "                    y = []\n",
    "\n",
    "def create_and_train_model(env, data, batch_size, epochs, passes, samples_back_included, dropout, first_layer_size, second_layer_size, first_layer_type, second_layer_type, optimizer):    \n",
    "    ids = np.unique(data.id)\n",
    "    train_samples = int(len(data) / batch_size / (epochs / passes)) * batch_size\n",
    "    \n",
    "    id_range = int(max(ids) - min(ids) + 1)\n",
    "    X_columns = [item for item in data.columns if item not in ('id', 'timestamp', 'y')]\n",
    "    y_columns = ['y']\n",
    "    X_padding = np.zeros((samples_back_included - 1, len(X_columns)), dtype=np.float)\n",
    "    y_padding = np.zeros((samples_back_included - 1, 1), dtype=np.float)\n",
    "\n",
    "    data_for_id_X = [[] for i in range(id_range)]\n",
    "    data_for_id_y = [[] for i in range(id_range)]\n",
    "\n",
    "    for item_id in range(id_range):\n",
    "        data_for_id_X[int(item_id)] = X_padding\n",
    "        data_for_id_y[int(item_id)] = y_padding\n",
    "\n",
    "    for item_id in ids:\n",
    "        data_for_id_X[int(item_id)] = np.concatenate((X_padding, data[data.id == item_id][X_columns].values), axis=0)\n",
    "        data_for_id_y[int(item_id)] = np.concatenate((y_padding, data[data.id == item_id][y_columns].values), axis=0)\n",
    "\n",
    "    data = None\n",
    "    gc.collect()\n",
    "    \n",
    "    model = Sequential()\n",
    "    model.add(first_layer_type(first_layer_size, batch_input_shape=[batch_size, samples_back_included, len(X_columns)], return_sequences=True, stateful=True))\n",
    "    model.add(BatchNormalization())\n",
    "    model.add(Activation('sigmoid'))\n",
    "    model.add(Dropout(dropout))\n",
    "    model.add(second_layer_type(second_layer_size, return_sequences=False, stateful=True))\n",
    "    model.add(BatchNormalization())\n",
    "    model.add(Activation('sigmoid'))\n",
    "    model.add(Dropout(dropout))\n",
    "    model.add(Dense(1))\n",
    "    model.add(Activation('linear'))\n",
    "\n",
    "    model.compile(loss=loss_r2_1d,\n",
    "                  optimizer=optimizer,\n",
    "                  metrics=[loss_r_score])\n",
    "\n",
    "    train_gen = data_generator(data_for_id_X, data_for_id_y, id_range, samples_back_included, batch_size)\n",
    "    history = model.fit_generator(train_gen, samples_per_epoch=train_samples, nb_epoch=epochs, verbose=0)\n",
    "\n",
    "    return data_for_id_X, model, history\n",
    "\n",
    "targets = []\n",
    "def test_model(env, observation, nan_distributions, means, stds, data_for_id_X, model, batch_size, low_y_cut, high_y_cut, samples_back_included):\n",
    "    global targets\n",
    "    nan_columns = ['nan_{}'.format(i) for i in range(len(nan_distributions))]\n",
    "    num_features = len(columns_to_use) + len(nan_distributions)\n",
    "    X_padding = np.zeros((samples_back_included - 1, num_features), dtype=np.float)\n",
    "    full_reward = 0\n",
    "    while True:\n",
    "        target = observation.target\n",
    "        ids = observation.features['id'].values\n",
    "        features = observation.features[columns_to_use]\n",
    "        \n",
    "        best_distributions = np.argmin([[6 * np.sum(np.logical_and(row, dist)) - np.sum(np.logical_or(row, dist)) for dist in nan_distributions] for row in features.isnull().values], axis=1)\n",
    "        nan_features = np.zeros((len(best_distributions), len(nan_distributions)))\n",
    "        nan_features[np.arange(len(best_distributions)), best_distributions] = 1\n",
    "        nan_features = pd.DataFrame(nan_features, columns=nan_columns)\n",
    "        \n",
    "        features = features.fillna(means)\n",
    "        features = (features - means) / stds\n",
    "        features = features.join(nan_features)\n",
    "        for row_id, row in zip(ids, features.values):\n",
    "            if row_id >= len(data_for_id_X):\n",
    "                difference = row_id - len(data_for_id_X) + 1\n",
    "                data_for_id_X.extend([X_padding] * difference)\n",
    "            data_for_id_X[row_id] = np.concatenate((data_for_id_X[row_id], [row]), axis=0)\n",
    "\n",
    "        X_to_predict = np.array([data_for_id_X[row_id][-samples_back_included:] for row_id in ids])\n",
    "\n",
    "        # add extra rows to fit batch_size\n",
    "        batches = math.ceil(len(X_to_predict) / batch_size)\n",
    "        extra_predictions = batch_size * batches - len(X_to_predict)\n",
    "        X_to_predict = np.concatenate((X_to_predict, np.zeros((extra_predictions, samples_back_included, num_features), dtype=np.int)), axis=0)\n",
    "\n",
    "        target_size = len(target.y)\n",
    "        target.y = model.predict(X_to_predict, batch_size=batch_size)[:target_size].clip(low_y_cut, high_y_cut)\n",
    "        targets.append(target)\n",
    "        observation, reward, done, info = env.step(target)\n",
    "        if done:\n",
    "            print(\"Finished, reward: \", info[\"public_score\"])\n",
    "            return info[\"public_score\"]\n",
    "        full_reward += reward\n",
    "        if observation.features.timestamp[0] % 100 == 0:\n",
    "            #print(full_reward / 100)\n",
    "            full_reward = 0"
   ]
  },
  {
   "cell_type": "code",
   "execution_count": 12,
   "metadata": {
    "collapsed": true
   },
   "outputs": [],
   "source": [
    "results_array = np.array([]) #pd.read_csv('data/model_results').values\n",
    "#pd.DataFrame(results_array).to_csv('data/model_results', index=False)"
   ]
  },
  {
   "cell_type": "code",
   "execution_count": 13,
   "metadata": {
    "collapsed": false
   },
   "outputs": [],
   "source": [
    "def test_params(args):\n",
    "    global results_array\n",
    "    start_time = time.time()\n",
    "    results_dict_key = ', '.join('{0}: {1}'.format(key, args[key]) for key in args)\n",
    "    default_args = {\n",
    "        'batch_size': 256,\n",
    "        'epochs': 4,\n",
    "        'passes': 2,\n",
    "        'low_y_cut': -0.075,\n",
    "        'high_y_cut': 0.075,\n",
    "        'samples_back_included': 8,\n",
    "        'dropout': 0.35,\n",
    "        'first_layer_size': 32,\n",
    "        'second_layer_size': 64,\n",
    "        'first_layer_type': GRU,\n",
    "        'second_layer_type': GRU,\n",
    "        'optimizer': 'adam'\n",
    "    }\n",
    "    env = kagglegym.make()\n",
    "    observation = env.reset()\n",
    "    train_args = dict((arg, args[arg] if arg in args else default_args[arg]) for arg in default_args if arg in ('batch_size', 'epochs', 'passes', 'samples_back_included', 'dropout', 'first_layer_size', 'second_layer_size', 'first_layer_type', 'second_layer_type', 'optimizer'))\n",
    "    test_args = dict((arg, args[arg] if arg in args else default_args[arg]) for arg in default_args if arg in ('batch_size', 'samples_back_included', 'low_y_cut', 'high_y_cut'))\n",
    "    data, nan_distributions, means, stds = add_nan_distributions_and_normalize(observation.train)\n",
    "\n",
    "    data_for_id_X, model, history = create_and_train_model(env, data, **train_args)\n",
    "\n",
    "    test_model(env, observation, nan_distributions, means, stds, data_for_id_X, model, **test_args)\n",
    "    # -0.025399358187467365"
   ]
  },
  {
   "cell_type": "code",
   "execution_count": null,
   "metadata": {
    "collapsed": false
   },
   "outputs": [
    {
     "name": "stdout",
     "output_type": "stream",
     "text": [
      "Finished, reward:  -0.0357338281357\n",
      "CPU times: user 9min 58s, sys: 1min 27s, total: 11min 26s\n",
      "Wall time: 10min 33s\n"
     ]
    }
   ],
   "source": [
    "%%time\n",
    "test_params({\n",
    "})\n",
    "# -0.0898194747802"
   ]
  },
  {
   "cell_type": "code",
   "execution_count": null,
   "metadata": {
    "collapsed": false
   },
   "outputs": [],
   "source": [
    "%%time\n",
    "test_params({\n",
    "    'dropout': 0.4\n",
    "})"
   ]
  },
  {
   "cell_type": "code",
   "execution_count": null,
   "metadata": {
    "collapsed": false
   },
   "outputs": [],
   "source": [
    "%%time\n",
    "test_params({\n",
    "    'first_layer_type': LSTM,\n",
    "    'second_layer_type': LSTM,\n",
    "    'dropout': 0.4\n",
    "})"
   ]
  },
  {
   "cell_type": "code",
   "execution_count": null,
   "metadata": {
    "collapsed": true
   },
   "outputs": [],
   "source": [
    "%%time\n",
    "test_params({\n",
    "    'first_layer_type': LSTM,\n",
    "    'second_layer_type': LSTM,\n",
    "    'dropout': 0.4,\n",
    "    'optimizer': 'adagrad'\n",
    "})"
   ]
  },
  {
   "cell_type": "markdown",
   "metadata": {},
   "source": [
    "# TODOS\n",
    "- get nan distributions in a way where total num is more constant and not iterative\n",
    "- do state correctly (prime a bunch of states?)\n",
    "- test optimizers/ltsm"
   ]
  },
  {
   "cell_type": "markdown",
   "metadata": {},
   "source": [
    "# Benchmark"
   ]
  },
  {
   "cell_type": "code",
   "execution_count": 24,
   "metadata": {
    "collapsed": false
   },
   "outputs": [
    {
     "name": "stderr",
     "output_type": "stream",
     "text": [
      "/Users/jgzuke/anaconda3/lib/python3.5/site-packages/ipykernel/__main__.py:20: SettingWithCopyWarning: \n",
      "A value is trying to be set on a copy of a slice from a DataFrame.\n",
      "Try using .loc[row_indexer,col_indexer] = value instead\n",
      "\n",
      "See the caveats in the documentation: http://pandas.pydata.org/pandas-docs/stable/indexing.html#indexing-view-versus-copy\n",
      "/Users/jgzuke/anaconda3/lib/python3.5/site-packages/ipykernel/__main__.py:48: SettingWithCopyWarning: \n",
      "A value is trying to be set on a copy of a slice from a DataFrame.\n",
      "Try using .loc[row_indexer,col_indexer] = value instead\n",
      "\n",
      "See the caveats in the documentation: http://pandas.pydata.org/pandas-docs/stable/indexing.html#indexing-view-versus-copy\n"
     ]
    },
    {
     "name": "stdout",
     "output_type": "stream",
     "text": [
      "-0.00317732370655\n",
      "-0.00182276665545\n",
      "-0.00168791068514\n",
      "0.000110777780049\n",
      "-0.00124967695052\n",
      "-0.00166028695524\n",
      "-0.00208487325573\n",
      "-0.00304625644472\n",
      "-0.000215625001216\n",
      "el fin ... 0.0215442626819\n"
     ]
    }
   ],
   "source": [
    "import kagglegym\n",
    "import numpy as np\n",
    "import pandas as pd\n",
    "from sklearn.ensemble import ExtraTreesRegressor\n",
    "from sklearn.linear_model import LinearRegression\n",
    "\n",
    "def run_benchmark():\n",
    "    env = kagglegym.make()\n",
    "    o = env.reset()\n",
    "    excl = ['id', 'sample', 'y', 'timestamp']\n",
    "    col = [c for c in o.train.columns if c not in excl]\n",
    "\n",
    "    train = pd.read_hdf('data/train.h5')\n",
    "    train = train[col]\n",
    "    d_mean= train.median(axis=0)\n",
    "\n",
    "    train = o.train[col]\n",
    "    n = train.isnull().sum(axis=1)\n",
    "    for c in train.columns:\n",
    "        train[c + '_nan_'] = pd.isnull(train[c])\n",
    "        d_mean[c + '_nan_'] = 0\n",
    "    train = train.fillna(d_mean)\n",
    "    train['znull'] = n\n",
    "    n = []\n",
    "\n",
    "    rfr = ExtraTreesRegressor(n_estimators=100, max_depth=4, n_jobs=-1, random_state=17, verbose=0)\n",
    "    model1 = rfr.fit(train, o.train['y'])\n",
    "    print (model1.feature_importances_)\n",
    "    train = []\n",
    "\n",
    "    #https://www.kaggle.com/bguberfain/two-sigma-financial-modeling/univariate-model-with-clip/run/482189\n",
    "    low_y_cut = -0.075\n",
    "    high_y_cut = 0.075\n",
    "    # 0.075?\n",
    "    y_is_above_cut = (o.train.y > high_y_cut)\n",
    "    y_is_below_cut = (o.train.y < low_y_cut)\n",
    "    y_is_within_cut = (~y_is_above_cut & ~y_is_below_cut)\n",
    "    model2 = LinearRegression(n_jobs=-1)\n",
    "    model2.fit(np.array(o.train[col].fillna(d_mean).loc[y_is_within_cut, 'technical_20'].values).reshape(-1,1), o.train.loc[y_is_within_cut, 'y'])\n",
    "\n",
    "    #https://www.kaggle.com/ymcdull/two-sigma-financial-modeling/ridge-lb-0-0100659\n",
    "    ymean_dict = dict(o.train.groupby([\"id\"])[\"y\"].median())\n",
    "\n",
    "    full_reward = 0\n",
    "    while True:\n",
    "        test = o.features[col]\n",
    "        n = test.isnull().sum(axis=1)\n",
    "        for c in test.columns:\n",
    "            test[c + '_nan_'] = pd.isnull(test[c])\n",
    "        test = test.fillna(d_mean)\n",
    "        test['znull'] = n\n",
    "        pred = o.target\n",
    "        test2 = np.array(o.features[col].fillna(d_mean)['technical_20'].values).reshape(-1,1)\n",
    "        pred['y'] = (model1.predict(test).clip(low_y_cut, high_y_cut) * 0.65) + (model2.predict(test2).clip(low_y_cut, high_y_cut) * 0.35)\n",
    "        pred['y'] = pred.apply(lambda r: 0.95 * r['y'] + 0.05 * ymean_dict[r['id']] if r['id'] in ymean_dict else r['y'], axis = 1)\n",
    "        pred['y'] = [float(format(x, '.6f')) for x in pred['y']]\n",
    "        o, reward, done, info = env.step(pred)\n",
    "        if done:\n",
    "            print(\"el fin ...\", info[\"public_score\"])\n",
    "            break\n",
    "\n",
    "        full_reward += reward\n",
    "        if o.features.timestamp[0] % 100 == 0:\n",
    "            print(full_reward / 100)\n",
    "            full_reward = 0\n",
    "    \n",
    "run_benchmark()"
   ]
  }
 ],
 "metadata": {
  "kernelspec": {
   "display_name": "Python 3",
   "language": "python",
   "name": "python3"
  },
  "language_info": {
   "codemirror_mode": {
    "name": "ipython",
    "version": 3
   },
   "file_extension": ".py",
   "mimetype": "text/x-python",
   "name": "python",
   "nbconvert_exporter": "python",
   "pygments_lexer": "ipython3",
   "version": "3.5.1"
  }
 },
 "nbformat": 4,
 "nbformat_minor": 0
}
