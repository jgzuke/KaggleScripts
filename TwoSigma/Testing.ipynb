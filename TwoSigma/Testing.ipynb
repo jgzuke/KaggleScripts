{
 "cells": [
  {
   "cell_type": "code",
   "execution_count": 1,
   "metadata": {
    "collapsed": true
   },
   "outputs": [],
   "source": [
    "import pandas as pd\n",
    "import numpy as np\n",
    "import math\n",
    "from xgboost import XGBClassifier\n",
    "from sklearn.ensemble import RandomForestRegressor\n",
    "from sklearn.ensemble import ExtraTreesRegressor"
   ]
  },
  {
   "cell_type": "code",
   "execution_count": 2,
   "metadata": {
    "collapsed": true
   },
   "outputs": [],
   "source": [
    "data = pd.read_hdf('data/train.h5')"
   ]
  },
  {
   "cell_type": "code",
   "execution_count": 3,
   "metadata": {
    "collapsed": true
   },
   "outputs": [],
   "source": [
    "ids = np.unique(data.id.values)\n",
    "np.random.shuffle(ids)\n",
    "cutoff = int(len(ids) * 0.8)\n",
    "train_ids = ids[:cutoff]\n",
    "test_ids = ids[cutoff:]"
   ]
  },
  {
   "cell_type": "code",
   "execution_count": 4,
   "metadata": {
    "collapsed": false
   },
   "outputs": [],
   "source": [
    "%%time\n",
    "train = data[[row_id in train_ids for row_id in data.id]]\n",
    "test = data[[row_id in test_ids for row_id in data.id]]"
   ]
  },
  {
   "cell_type": "code",
   "execution_count": 5,
   "metadata": {
    "collapsed": true
   },
   "outputs": [],
   "source": [
    "%%time\n",
    "X_train = train.drop('y', axis=1)\n",
    "X_test = test.drop('y', axis=1)"
   ]
  },
  {
   "cell_type": "code",
   "execution_count": 6,
   "metadata": {
    "collapsed": false
   },
   "outputs": [],
   "source": [
    "%%time\n",
    "y_train = train['y']\n",
    "y_test = test['y']"
   ]
  },
  {
   "cell_type": "code",
   "execution_count": 8,
   "metadata": {
    "collapsed": false
   },
   "outputs": [
    {
     "name": "stdout",
     "output_type": "stream",
     "text": [
      "CPU times: user 10.2 s, sys: 118 ms, total: 10.3 s\n",
      "Wall time: 10.4 s\n"
     ]
    }
   ],
   "source": [
    "%%time\n",
    "missing_values = {}\n",
    "for row in X_test.values:\n",
    "    key = tuple([not math.isnan(val) for val in row])\n",
    "    if key in missing_values:\n",
    "        missing_values[key] += 1\n",
    "    else:\n",
    "        missing_values[key] = 1\n",
    "        \n",
    "high_frequency_nan_distributions = sorted([(key, missing_values[key]) for key in missing_values], key=lambda key_value: key_value[1])[-500:]\n",
    "high_frequency_nan_distributions.reverse()"
   ]
  },
  {
   "cell_type": "code",
   "execution_count": 9,
   "metadata": {
    "collapsed": false
   },
   "outputs": [],
   "source": [
    "def filter_nan_distributions(cutoff):\n",
    "    high_frequency_nan_distributions_filtered = []\n",
    "    for dist, count in high_frequency_nan_distributions:\n",
    "        new = min([sum(int(a != b) for a, b in zip(dist, dist2)) for dist2 in high_frequency_nan_distributions_filtered] + [len(dist)])\n",
    "        if new == -1 or (count * new * new) > cutoff:\n",
    "            high_frequency_nan_distributions_filtered.append(dist)\n",
    "    return high_frequency_nan_distributions_filtered"
   ]
  },
  {
   "cell_type": "code",
   "execution_count": 10,
   "metadata": {
    "collapsed": false
   },
   "outputs": [],
   "source": [
    "# TODO dont use 40000, select number based on wanting 5 buckets\n",
    "nan_distributions = filter_nan_distributions(300000)"
   ]
  },
  {
   "cell_type": "code",
   "execution_count": 11,
   "metadata": {
    "collapsed": false
   },
   "outputs": [
    {
     "data": {
      "text/plain": [
       "['                                                                                                              ',\n",
       " '    x x  xxx  xx x xxxx     xxx   xxxx  xx x x   xx xx xxx  xxx   x                                           ',\n",
       " '        x  xx                   x           x                  x   x                                          ',\n",
       " '        x   x     x       x     x x   x x   x x          xx    xx  x                                          ',\n",
       " '  xx xx x x x  x       x      xxxxx  x   x  x        x         x   x x        x               x               ',\n",
       " '  xxxxxxxxxxxxxxxxxxxxxxxxxxxxxxxxxxxxxxxxxxxxxxxxxxxxxxxxxxxxxxxxxxxxxxxxxxxxxxxxxxxxxxx xxxxxxxxx xxxxxxxxxx']"
      ]
     },
     "execution_count": 11,
     "metadata": {},
     "output_type": "execute_result"
    }
   ],
   "source": [
    "[(''.join([' ' if val else 'x' for val in row])) for row in nan_distributions]"
   ]
  },
  {
   "cell_type": "code",
   "execution_count": 12,
   "metadata": {
    "collapsed": false
   },
   "outputs": [
    {
     "name": "stdout",
     "output_type": "stream",
     "text": [
      "[0, 34, 7, 15, 23, 106]\n",
      "[0, 0, 0, 0, 0, 0]\n",
      "'                                                                                                              '\n",
      "[252, 48, 210, 197, 170, 64]\n",
      "[42, 8, 35, 32, 27, 0]\n",
      "'    x x xxxxx xx x xxxx     xxx x xxxx  xx xxxx  xx xx xxx  xxxx  xx x                                        '\n"
     ]
    }
   ],
   "source": [
    "for row in X_test.values[60000:60002]:\n",
    "    print ([sum(int(math.isnan(val) == b) + 5 * int(math.isnan(val) and b) for val, b in zip(row, dist)) for dist in nan_distributions])  \n",
    "    print ([sum(int(math.isnan(val) and b) for val, b in zip(row, dist)) for dist in nan_distributions])  \n",
    "    print ('\\'' + ''.join(['x' if math.isnan(val) else ' ' for val in row]) + '\\'') "
   ]
  },
  {
   "cell_type": "code",
   "execution_count": 38,
   "metadata": {
    "collapsed": false
   },
   "outputs": [
    {
     "name": "stdout",
     "output_type": "stream",
     "text": [
      "CPU times: user 12min 53s, sys: 14.6 s, total: 13min 8s\n",
      "Wall time: 14min 13s\n"
     ]
    }
   ],
   "source": [
    "%%time\n",
    "best_distribution = [np.argmin([sum(int(not math.isnan(val) and not b) + 6 * int(math.isnan(val) and b) for val, b in zip(row, dist)) for dist in nan_distributions]) for row in X_train.values]\n",
    "nan_structures_split = [[best == i for best in best_distribution] for i in range(len(nan_distributions))]\n",
    "X_train_split = [X_train[split][[column for column, included in zip(list(X_train.columns), distribution) if included]] for split, distribution in zip(nan_structures_split, nan_distributions)]\n",
    "y_train_split = [y_train[split] for split in nan_structures_split]"
   ]
  },
  {
   "cell_type": "code",
   "execution_count": 41,
   "metadata": {
    "collapsed": false
   },
   "outputs": [
    {
     "name": "stdout",
     "output_type": "stream",
     "text": [
      "CPU times: user 3min 1s, sys: 3.09 s, total: 3min 4s\n",
      "Wall time: 3min 7s\n"
     ]
    }
   ],
   "source": [
    "%%time\n",
    "best_distribution_test = [np.argmin([sum(int(not math.isnan(val) and not b) + 6 * int(math.isnan(val) and b) for val, b in zip(row, dist)) for dist in nan_distributions]) for row in X_test.values]\n",
    "nan_structures_split_test = [[best == i for best in best_distribution_test] for i in range(len(nan_distributions))]\n",
    "X_test_split = [X_test[split][[column for column, included in zip(list(X_test.columns), distribution) if included]] for split, distribution in zip(nan_structures_split_test, nan_distributions)]\n",
    "y_test_split = [y_test[split] for split in nan_structures_split_test]"
   ]
  },
  {
   "cell_type": "code",
   "execution_count": null,
   "metadata": {
    "collapsed": false
   },
   "outputs": [
    {
     "name": "stdout",
     "output_type": "stream",
     "text": [
      "0.000642840945508\n",
      "0.00269348490823\n",
      "0.00121844591305\n",
      "0.000747947190825\n"
     ]
    }
   ],
   "source": [
    "et_clfs = []\n",
    "for X_train_section, y_train_section, X_test_section, y_test_section in zip(X_train_split, y_train_split, X_test_split, y_test_split):\n",
    "    X_train_section = X_train_section.fillna(0)\n",
    "    y_train_section = y_train_section.fillna(0)\n",
    "    X_test_section = X_test_section.fillna(0)\n",
    "    y_test_section = y_test_section.fillna(0)\n",
    "    \n",
    "    et_clf = ExtraTreesRegressor(n_estimators=100, max_depth=4, n_jobs=-1, random_state=17, verbose=0)\n",
    "    et_clf.fit(X_train_section.values, y_train_section.values)\n",
    "    print (et_clf.score(X_test_section.values, y_test_section.values))\n",
    "    et_clfs.append(et_clf)"
   ]
  },
  {
   "cell_type": "code",
   "execution_count": 283,
   "metadata": {
    "collapsed": false
   },
   "outputs": [
    {
     "name": "stdout",
     "output_type": "stream",
     "text": [
      "0.000457960105077\n",
      "0.00400984788687\n",
      "0.00126654608904\n",
      "-0.000874518146675\n",
      "-0.00102005127667\n",
      "0.0012806125815\n",
      "-0.00015954796115\n",
      "-0.0255859738641\n",
      "-0.000187927050856\n"
     ]
    }
   ],
   "source": [
    "et_clfs = []\n",
    "for X_train_section, y_train_section, X_test_section, y_test_section in zip(X_train_split, y_train_split, X_test_split, y_test_split):\n",
    "    X_train_section = X_train_section.fillna(0)\n",
    "    y_train_section = y_train_section.fillna(0)\n",
    "    X_test_section = X_test_section.fillna(0)\n",
    "    y_test_section = y_test_section.fillna(0)\n",
    "    \n",
    "    et_clf = ExtraTreesRegressor(n_estimators=100, max_depth=4, n_jobs=-1, random_state=17, verbose=0)\n",
    "    et_clf.fit(X_train_section.values, y_train_section.values)\n",
    "    print (et_clf.score(X_test_section.values, y_test_section.values)\n",
    "    et_clfs.append(et_clf)"
   ]
  },
  {
   "cell_type": "code",
   "execution_count": null,
   "metadata": {
    "collapsed": false
   },
   "outputs": [],
   "source": [
    "rf_clfs = []\n",
    "for X_train_section, y_train_section, X_test_section, y_test_section in zip(X_train_split, y_train_split, X_test_split, y_test_split):\n",
    "    X_train_section = X_train_section.fillna(0)\n",
    "    y_train_section = y_train_section.fillna(0)\n",
    "    X_test_section = X_test_section.fillna(0)\n",
    "    y_test_section = y_test_section.fillna(0)\n",
    "    \n",
    "    clf = RandomForestRegressor()\n",
    "    clf.fit(X_train_section.values, y_train_section.values)\n",
    "    print (len(X_train_section))\n",
    "    print (len(X_test_section))\n",
    "    print (clf.score(X_test_section.values, y_test_section.values))\n",
    "    rf_clfs.append(clf)"
   ]
  },
  {
   "cell_type": "code",
   "execution_count": null,
   "metadata": {
    "collapsed": false
   },
   "outputs": [],
   "source": [
    "xgb_clfs = []\n",
    "for X_train_section, y_train_section, X_test_section, y_test_section in zip(X_train_split, y_train_split, X_test_split, y_test_split):\n",
    "    X_train_section = X_train_section.fillna(0)\n",
    "    y_train_section = y_train_section.fillna(0)\n",
    "    X_test_section = X_test_section.fillna(0)\n",
    "    y_test_section = y_test_section.fillna(0)\n",
    "    \n",
    "    clf = XGBClassifier()\n",
    "    clf.fit(X_train_section.values, y_train_section.values)\n",
    "    print (len(X_train_section))\n",
    "    print (len(X_test_section))\n",
    "    print (clf.score(X_test_section.values, y_test_section.values))\n",
    "    xgb_clfs.append(clf)"
   ]
  },
  {
   "cell_type": "code",
   "execution_count": null,
   "metadata": {
    "collapsed": false
   },
   "outputs": [],
   "source": [
    "et_clf = ExtraTreesRegressor(n_estimators=100, max_depth=4, n_jobs=-1, random_state=17, verbose=0)\n",
    "et_clf.fit(X_train.values, y_train.values)\n",
    "et_clf.score(X_test.values, y_test.values)"
   ]
  },
  {
   "cell_type": "code",
   "execution_count": null,
   "metadata": {
    "collapsed": true
   },
   "outputs": [],
   "source": []
  }
 ],
 "metadata": {
  "kernelspec": {
   "display_name": "Python 3",
   "language": "python",
   "name": "python3"
  },
  "language_info": {
   "codemirror_mode": {
    "name": "ipython",
    "version": 3
   },
   "file_extension": ".py",
   "mimetype": "text/x-python",
   "name": "python",
   "nbconvert_exporter": "python",
   "pygments_lexer": "ipython3",
   "version": "3.5.1"
  }
 },
 "nbformat": 4,
 "nbformat_minor": 0
}
