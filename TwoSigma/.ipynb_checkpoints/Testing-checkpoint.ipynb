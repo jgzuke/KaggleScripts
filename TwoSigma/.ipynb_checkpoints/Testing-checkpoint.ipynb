{
 "cells": [
  {
   "cell_type": "code",
   "execution_count": 22,
   "metadata": {
    "collapsed": true
   },
   "outputs": [],
   "source": [
    "import pandas as pd\n",
    "import numpy as np\n",
    "import math\n",
    "from xgboost import XGBClassifier\n",
    "from sklearn.ensemble import RandomForestRegressor\n",
    "from sklearn.ensemble import ExtraTreesRegressor"
   ]
  },
  {
   "cell_type": "code",
   "execution_count": 2,
   "metadata": {
    "collapsed": true
   },
   "outputs": [],
   "source": [
    "data = pd.read_hdf('data/train.h5')"
   ]
  },
  {
   "cell_type": "code",
   "execution_count": 3,
   "metadata": {
    "collapsed": true
   },
   "outputs": [],
   "source": [
    "ids = np.unique(data.id.values)\n",
    "np.random.shuffle(ids)\n",
    "cutoff = int(len(ids) * 0.8)\n",
    "train_ids = ids[:cutoff]\n",
    "test_ids = ids[cutoff:]"
   ]
  },
  {
   "cell_type": "code",
   "execution_count": 4,
   "metadata": {
    "collapsed": false
   },
   "outputs": [],
   "source": [
    "train = data[[row_id in train_ids for row_id in data.id]]\n",
    "test = data[[row_id in test_ids for row_id in data.id]]"
   ]
  },
  {
   "cell_type": "code",
   "execution_count": 5,
   "metadata": {
    "collapsed": true
   },
   "outputs": [],
   "source": [
    "X_train = train.drop('y', axis=1)\n",
    "X_test = test.drop('y', axis=1)"
   ]
  },
  {
   "cell_type": "code",
   "execution_count": 6,
   "metadata": {
    "collapsed": false
   },
   "outputs": [],
   "source": [
    "y_train = train['y']\n",
    "y_test = test['y']"
   ]
  },
  {
   "cell_type": "code",
   "execution_count": 173,
   "metadata": {
    "collapsed": true
   },
   "outputs": [],
   "source": [
    "missing_values = {}\n",
    "for row in X_test.values:\n",
    "    key = tuple([not math.isnan(val) for val in row])\n",
    "    if key in missing_values:\n",
    "        missing_values[key] += 1\n",
    "    else:\n",
    "        missing_values[key] = 1\n",
    "        \n",
    "high_frequency_nan_distributions = sorted([(key, missing_values[key]) for key in missing_values], key=lambda key_value: key_value[1])[-500:]\n",
    "high_frequency_nan_distributions.reverse()"
   ]
  },
  {
   "cell_type": "code",
   "execution_count": 254,
   "metadata": {
    "collapsed": false
   },
   "outputs": [],
   "source": [
    "def filter_nan_distributions(cutoff):\n",
    "    high_frequency_nan_distributions_filtered = []\n",
    "    for dist, count in high_frequency_nan_distributions:\n",
    "        new = min([sum(int(a != b) for a, b in zip(dist, dist2)) for dist2 in high_frequency_nan_distributions_filtered] + [len(dist)])\n",
    "        if new == -1 or (count * new * new) > cutoff:\n",
    "            high_frequency_nan_distributions_filtered.append(dist)\n",
    "    return high_frequency_nan_distributions_filtered"
   ]
  },
  {
   "cell_type": "code",
   "execution_count": 255,
   "metadata": {
    "collapsed": false
   },
   "outputs": [],
   "source": [
    "# TODO dont use 40000, select number based on wanting 5 buckets\n",
    "nan_distributions = filter_nan_distributions(300000)"
   ]
  },
  {
   "cell_type": "code",
   "execution_count": 256,
   "metadata": {
    "collapsed": false
   },
   "outputs": [
    {
     "data": {
      "text/plain": [
       "['                                                                                                              ',\n",
       " '    x x  xxx  xx x xxxx     xxx   xxxx  xx x x   xx xx xxx  xxx   x                                           ',\n",
       " '        x  xx                   x           x                  x   x                                          ',\n",
       " '    x    xxx     x          x x   x  x   x             x x   xx                                               ',\n",
       " '  xxxxx xxxxxxxx xxxxxxxxxx xxxxxxxxxxx xxxxxxx  xxxxxxxxxx xxxxxxxx x                                        ',\n",
       " '        x x x  x  x       x   xxxxx  xx xx  x x      x   xx    xx  x x                                        ',\n",
       " '  xxxxx x x x  x              xxxxx  x   x  x        x      x  x   x x        x                               ',\n",
       " '        x x x     x    x  x x   xxx  xx xx  x x        x xx    xx  x xx x  x xxxx xxxx        x  x    xxx  xx ',\n",
       " '  xxxxxxxxxxxxxxxxxxxxxxxxxxxxxxxxxxxxxxxxxxxxxxxxxxxxxxxxxxxxxxxxxxxxxxxxxxxxxxxxxxxxxxx xxxxxxxxx xxxxxxxxxx']"
      ]
     },
     "execution_count": 256,
     "metadata": {},
     "output_type": "execute_result"
    }
   ],
   "source": [
    "[(''.join([' ' if val else 'x' for val in row])) for row in nan_distributions]"
   ]
  },
  {
   "cell_type": "code",
   "execution_count": null,
   "metadata": {
    "collapsed": true
   },
   "outputs": [],
   "source": [
    "for row in X_test.values[60000:60002]:\n",
    "    print ([sum(int(math.isnan(val) == b) + 5 * int(math.isnan(val) and b) for val, b in zip(row, dist)) for dist in nan_distributions])  \n",
    "    print ([sum(int(math.isnan(val) and b) for val, b in zip(row, dist)) for dist in nan_distributions])  \n",
    "    print ('\\'' + ''.join(['x' if math.isnan(val) else ' ' for val in row]) + '\\'') "
   ]
  },
  {
   "cell_type": "code",
   "execution_count": 260,
   "metadata": {
    "collapsed": false
   },
   "outputs": [
    {
     "name": "stdout",
     "output_type": "stream",
     "text": [
      "[6, 40, 13, 20, 59, 23, 22, 40, 105]\n",
      "[1, 1, 1, 1, 0, 0, 0, 0, 0]\n",
      "'                                                                     x                                        '\n",
      "[246, 224, 211, 211, 145, 130, 178, 0, 65]\n",
      "[41, 33, 35, 34, 18, 21, 28, 0, 0]\n",
      "'        x x x     x    x  x x   xxx  xx xx  x x        x xx    xx  x xx x  x xxxx xxxx        x  x    xxx  xx '\n",
      "[0, 34, 7, 14, 60, 24, 23, 41, 106]\n",
      "[0, 0, 0, 0, 0, 0, 0, 0, 0]\n",
      "'                                                                                                              '\n",
      "[0, 34, 7, 14, 60, 24, 23, 41, 106]\n",
      "[0, 0, 0, 0, 0, 0, 0, 0, 0]\n",
      "'                                                                                                              '\n",
      "[0, 34, 7, 14, 60, 24, 23, 41, 106]\n",
      "[0, 0, 0, 0, 0, 0, 0, 0, 0]\n",
      "'                                                                                                              '\n"
     ]
    }
   ],
   "source": [
    "best_distribution = [np.argmin([sum(int(not math.isnan(val) and not b) + 6 * int(math.isnan(val) and b) for val, b in zip(row, dist)) for dist in nan_distributions]) for row in X_train.values]\n",
    "nan_structures_split = [[best == i for best in best_distribution] for i in range(len(nan_distributions))]\n",
    "X_train_split = [X_train[split] for split in nan_structures_split]\n",
    "y_train_split = [y_train[split] for split in nan_structures_split]"
   ]
  },
  {
   "cell_type": "code",
   "execution_count": null,
   "metadata": {
    "collapsed": true
   },
   "outputs": [],
   "source": [
    "best_distribution_test = [np.argmin([sum(int(not math.isnan(val) and not b) + 6 * int(math.isnan(val) and b) for val, b in zip(row, dist)) for dist in nan_distributions]) for row in X_test.values]\n",
    "nan_structures_split_test = [[best == i for best in best_distribution_test] for i in range(len(nan_distributions))]\n",
    "X_test_split = [X_test[split] for split in nan_structures_split_test]\n",
    "y_test_split = [y_test[split] for split in nan_structures_split_test]"
   ]
  },
  {
   "cell_type": "code",
   "execution_count": null,
   "metadata": {
    "collapsed": false
   },
   "outputs": [],
   "source": [
    "clf = RandomForestRegressor()\n",
    "clf.fit(X_train.values, y_train.values)\n",
    "clf.score(X_test.values, y_test.values)"
   ]
  },
  {
   "cell_type": "code",
   "execution_count": null,
   "metadata": {
    "collapsed": false
   },
   "outputs": [],
   "source": [
    "xgb_clf = XGBClassifier()\n",
    "xgb_clf.fit(X_train.values[:20000], y_train.values[:20000])\n",
    "xgb_clf.score(X_test.values[:20000], y_test.values[:20000])"
   ]
  },
  {
   "cell_type": "code",
   "execution_count": null,
   "metadata": {
    "collapsed": false
   },
   "outputs": [],
   "source": [
    "et_clf = ExtraTreesRegressor(n_estimators=100, max_depth=4, n_jobs=-1, random_state=17, verbose=0)\n",
    "et_clf.fit(X_train.values, y_train.values)\n",
    "et_clf.score(X_test.values, y_test.values)"
   ]
  },
  {
   "cell_type": "code",
   "execution_count": null,
   "metadata": {
    "collapsed": true
   },
   "outputs": [],
   "source": [
    "import kagglegym\n",
    "import numpy as np\n",
    "import pandas as pd\n",
    "from sklearn.ensemble import ExtraTreesRegressor\n",
    "from sklearn.linear_model import LinearRegression\n",
    "\n",
    "env = kagglegym.make()\n",
    "o = env.reset()\n",
    "excl = [env.ID_COL_NAME, env.SAMPLE_COL_NAME, env.TARGET_COL_NAME, env.TIME_COL_NAME]\n",
    "col = [c for c in o.train.columns if c not in excl]\n",
    "\n",
    "train = pd.read_hdf('../input/train.h5')\n",
    "train = train[col]\n",
    "d_mean= train.median(axis=0)\n",
    "\n",
    "train = o.train[col]\n",
    "n = train.isnull().sum(axis=1)\n",
    "for c in train.columns:\n",
    "    train[c + '_nan_'] = pd.isnull(train[c])\n",
    "    d_mean[c + '_nan_'] = 0\n",
    "train = train.fillna(d_mean)\n",
    "train['znull'] = n\n",
    "n = []\n",
    "\n",
    "rfr = ExtraTreesRegressor(n_estimators=100, max_depth=4, n_jobs=-1, random_state=17, verbose=0)\n",
    "model1 = rfr.fit(train, o.train['y'])\n",
    "\n",
    "#https://www.kaggle.com/bguberfain/two-sigma-financial-modeling/univariate-model-with-clip/run/482189\n",
    "low_y_cut = -0.075\n",
    "high_y_cut = 0.075\n",
    "y_is_above_cut = (o.train.y > high_y_cut)\n",
    "y_is_below_cut = (o.train.y < low_y_cut)\n",
    "y_is_within_cut = (~y_is_above_cut & ~y_is_below_cut)\n",
    "model2 = LinearRegression(n_jobs=-1)\n",
    "model2.fit(np.array(o.train[col].fillna(d_mean).loc[y_is_within_cut, 'technical_20'].values).reshape(-1,1), o.train.loc[y_is_within_cut, 'y'])\n",
    "train = []\n",
    "\n",
    "#https://www.kaggle.com/ymcdull/two-sigma-financial-modeling/ridge-lb-0-0100659\n",
    "ymean_dict = dict(o.train.groupby([\"id\"])[\"y\"].median())\n",
    "\n",
    "while True:\n",
    "    test = o.features[col]\n",
    "    n = test.isnull().sum(axis=1)\n",
    "    for c in test.columns:\n",
    "        test[c + '_nan_'] = pd.isnull(test[c])\n",
    "    test = test.fillna(d_mean)\n",
    "    test['znull'] = n\n",
    "    pred = o.target\n",
    "    test2 = np.array(o.features[col].fillna(d_mean)['technical_20'].values).reshape(-1,1)\n",
    "    pred['y'] = (model1.predict(test).clip(low_y_cut, high_y_cut) * 0.65) + (model2.predict(test2).clip(low_y_cut, high_y_cut) * 0.35)\n",
    "    pred['y'] = pred.apply(lambda r: 0.95 * r['y'] + 0.05 * ymean_dict[r['id']] if r['id'] in ymean_dict else r['y'], axis = 1)\n",
    "    pred['y'] = [float(format(x, '.6f')) for x in pred['y']]\n",
    "    o, reward, done, info = env.step(pred)\n",
    "    if done:\n",
    "        print(\"el fin ...\", info[\"public_score\"])\n",
    "        break\n",
    "    if o.features.timestamp[0] % 100 == 0:\n",
    "        print(reward)"
   ]
  }
 ],
 "metadata": {
  "kernelspec": {
   "display_name": "Python 3",
   "language": "python",
   "name": "python3"
  },
  "language_info": {
   "codemirror_mode": {
    "name": "ipython",
    "version": 3
   },
   "file_extension": ".py",
   "mimetype": "text/x-python",
   "name": "python",
   "nbconvert_exporter": "python",
   "pygments_lexer": "ipython3",
   "version": "3.5.1"
  }
 },
 "nbformat": 4,
 "nbformat_minor": 0
}
