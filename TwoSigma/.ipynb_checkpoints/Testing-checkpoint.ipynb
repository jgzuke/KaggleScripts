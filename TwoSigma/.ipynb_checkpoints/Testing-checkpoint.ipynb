{
 "cells": [
  {
   "cell_type": "code",
   "execution_count": 24,
   "metadata": {
    "collapsed": false
   },
   "outputs": [
    {
     "name": "stderr",
     "output_type": "stream",
     "text": [
      "/Users/jgzuke/anaconda3/lib/python3.5/site-packages/sklearn/cross_validation.py:44: DeprecationWarning: This module was deprecated in version 0.18 in favor of the model_selection module into which all the refactored classes and functions are moved. Also note that the interface of the new CV iterators are different from that of this module. This module will be removed in 0.20.\n",
      "  \"This module will be removed in 0.20.\", DeprecationWarning)\n",
      "Using Theano backend.\n"
     ]
    }
   ],
   "source": [
    "import pandas as pd\n",
    "import numpy as np\n",
    "import math\n",
    "import matplotlib.pyplot as plt\n",
    "import gc\n",
    "from xgboost import XGBClassifier, XGBRegressor\n",
    "from sklearn.linear_model import LinearRegression\n",
    "from sklearn.ensemble import RandomForestRegressor, ExtraTreesRegressor, GradientBoostingRegressor\n",
    "from keras.models import Sequential\n",
    "from keras.layers import Dense, Activation, Dropout, BatchNormalization, LSTM, GRU, TimeDistributedDense\n",
    "from keras import backend as K\n",
    "from sklearn.preprocessing import MinMaxScaler\n",
    "from sklearn.externals import joblib\n",
    "import kagglegym\n",
    "import time"
   ]
  },
  {
   "cell_type": "code",
   "execution_count": 25,
   "metadata": {
    "collapsed": true
   },
   "outputs": [],
   "source": [
    "%matplotlib inline"
   ]
  },
  {
   "cell_type": "code",
   "execution_count": 26,
   "metadata": {
    "collapsed": false
   },
   "outputs": [],
   "source": [
    "def get_high_frequency_nan_distributions(data):\n",
    "    missing_values = {}\n",
    "    for row, row_id in zip(data.drop('y', 1).values, data['id'].values):\n",
    "        key = tuple([not math.isnan(val) for val in row])\n",
    "        if key in missing_values:\n",
    "            missing_values[key] += 1\n",
    "        else:\n",
    "            missing_values[key] = 1\n",
    "\n",
    "    high_frequency_nan_distributions = sorted([(key, missing_values[key]) for key in missing_values], key=lambda key_value: key_value[1])[-500:]\n",
    "    high_frequency_nan_distributions.reverse()\n",
    "    return high_frequency_nan_distributions"
   ]
  },
  {
   "cell_type": "code",
   "execution_count": 27,
   "metadata": {
    "collapsed": false
   },
   "outputs": [],
   "source": [
    "def filter_nan_distributions(cutoff, high_frequency_nan_distributions):\n",
    "    high_frequency_nan_distributions_filtered = []\n",
    "    for dist, count in high_frequency_nan_distributions:\n",
    "        new = min([sum(int(a != b) for a, b in zip(dist, dist2)) for dist2 in high_frequency_nan_distributions_filtered] + [len(dist)])\n",
    "        if (count * new * new) > cutoff:\n",
    "            high_frequency_nan_distributions_filtered.append(dist)\n",
    "    return np.array(high_frequency_nan_distributions_filtered)"
   ]
  },
  {
   "cell_type": "code",
   "execution_count": 28,
   "metadata": {
    "collapsed": false
   },
   "outputs": [],
   "source": [
    "def loss_r2(y_true, y_pred):\n",
    "    u = K.mean(y_true, axis=-1)\n",
    "    u = K.expand_dims(u, y_true.ndim - 1)\n",
    "    u = K.repeat_elements(u, y_true.shape[-1], axis=-1)\n",
    "    r2 = 1 - K.sum(K.square(y_pred - y_true), axis=-1) / K.sum(K.square(y_true - u), axis=-1)\n",
    "    r = (K.sign(r2)*K.sqrt(K.abs(r2)))\n",
    "    return K.clip(r, -1., 1.)\n",
    "\n",
    "def loss_r2_1d(y_true, y_pred):\n",
    "    u = K.mean(y_true)\n",
    "    return K.sum(K.square(y_pred - y_true)) / K.sum(K.square(y_true - u))\n",
    "\n",
    "def loss_r_score(y_true, y_pred):\n",
    "    u = K.mean(y_true)\n",
    "    r2 = 1 - K.sum(K.square(y_pred - y_true)) / K.sum(K.square(y_true - u))\n",
    "    return (K.sign(r2)*K.sqrt(K.abs(r2)))\n",
    "    #return K.clip(r, -1., 1.)"
   ]
  },
  {
   "cell_type": "markdown",
   "metadata": {},
   "source": [
    "# For Testing"
   ]
  },
  {
   "cell_type": "code",
   "execution_count": 7,
   "metadata": {
    "collapsed": false
   },
   "outputs": [
    {
     "name": "stdout",
     "output_type": "stream",
     "text": [
      "CPU times: user 81 ms, sys: 742 ms, total: 823 ms\n",
      "Wall time: 1.52 s\n"
     ]
    }
   ],
   "source": [
    "%%time\n",
    "data = pd.read_hdf('data/train.h5')"
   ]
  },
  {
   "cell_type": "code",
   "execution_count": 8,
   "metadata": {
    "collapsed": false
   },
   "outputs": [
    {
     "name": "stdout",
     "output_type": "stream",
     "text": [
      "6\n",
      "['                                                                                                              ', '    x x  xxx  xx x xxxx     xxx   xxxx  xx x x   xx xx xxx  xxx   x                                           ', '        x   x                   x           x                  x   x                                          ', '  xxxxx xxxxxxxx xxxxxxxxxx xxxxxxxxxxxxxxxxxxx  xxxxxxxxxx xxxxxxxx x                                        ', '  xxxxxxxxxxxxxxxxxxxxxxxxxxxxxxxxxxxxxxxxxxxxxxxxxxxxxxxxxxxxxxxxxxxxxxxxxxxxxxxxxxxxxxx xxxxxxxxx xxxxxxxxxx', '  xxxxx x x x  x  x    x  x x xxxxx  xx  x  x x      x x  x x  xx  x x        x               x               ']\n",
      "CPU times: user 36.3 s, sys: 1.77 s, total: 38.1 s\n",
      "Wall time: 39.2 s\n"
     ]
    }
   ],
   "source": [
    "%%time\n",
    "# TODO dont use 40000, select number based on wanting 6 buckets\n",
    "high_frequency_nan_distributions = get_high_frequency_nan_distributions(data[:cutoff])\n",
    "nan_distributions = filter_nan_distributions(800000, high_frequency_nan_distributions)\n",
    "print (len(nan_distributions))\n",
    "print ([(''.join([' ' if val else 'x' for val in row])) for row in nan_distributions])"
   ]
  },
  {
   "cell_type": "code",
   "execution_count": 14,
   "metadata": {
    "collapsed": false
   },
   "outputs": [
    {
     "name": "stdout",
     "output_type": "stream",
     "text": [
      "CPU times: user 23 s, sys: 7.85 s, total: 30.8 s\n",
      "Wall time: 31.4 s\n"
     ]
    }
   ],
   "source": [
    "%%time\n",
    "data = pd.read_hdf('data/train.h5')\n",
    "data = data.fillna(data.mean())\n",
    "means, stds = data.mean(), data.std()\n",
    "for column in ['id', 'timestamp', 'y']:\n",
    "    means[column] = 0\n",
    "    stds[column] = 1\n",
    "data = (data - means) / stds"
   ]
  },
  {
   "cell_type": "code",
   "execution_count": 22,
   "metadata": {
    "collapsed": false
   },
   "outputs": [],
   "source": [
    "samples_back_included = 10\n",
    "num_features = 108 # length of X + 1 extra for y\n",
    "batch_size = 256\n",
    "\n",
    "train_bounds = (0, 400)\n",
    "test_bounds = (400, 700) # 1812\n",
    "epochs = 5\n",
    "train_samples = int(len(data[(data.timestamp >= train_bounds[0]) & (data.timestamp < train_bounds[1])]) / batch_size / 2) * batch_size\n",
    "test_samples = int(len(data[(data.timestamp >= test_bounds[0]) & (data.timestamp < test_bounds[1])]) / batch_size) * batch_size"
   ]
  },
  {
   "cell_type": "code",
   "execution_count": 19,
   "metadata": {
    "collapsed": false
   },
   "outputs": [],
   "source": [
    "def plot(history):\n",
    "    loss = np.array(history.history['loss_r_score'])\n",
    "    val_loss = np.array(history.history['val_loss_r_score'])\n",
    "    plt.semilogy(np.exp(loss))\n",
    "    plt.semilogy(np.exp(val_loss))\n",
    "    plt.ylabel('loss')\n",
    "    plt.xlabel('epoch')\n",
    "    plt.legend(['train', 'test'], loc='upper left')\n",
    "    plt.show()"
   ]
  },
  {
   "cell_type": "code",
   "execution_count": null,
   "metadata": {
    "collapsed": true
   },
   "outputs": [],
   "source": [
    "model = Sequential()\n",
    "model.add(GRU(64, batch_input_shape=[batch_size, samples_back_included, num_features], return_sequences=True, stateful=True))\n",
    "model.add(BatchNormalization())\n",
    "model.add(Activation('sigmoid'))\n",
    "model.add(Dropout(0.5))\n",
    "model.add(GRU(128, return_sequences=False, stateful=True))\n",
    "model.add(BatchNormalization())\n",
    "model.add(Activation('sigmoid'))\n",
    "model.add(Dropout(0.5))\n",
    "model.add(Dense(1))\n",
    "model.add(Activation('linear'))\n",
    "\n",
    "model.compile(loss=loss_r2_1d,\n",
    "              optimizer='adam',\n",
    "              metrics=[loss_r_score])\n",
    "\n",
    "train_gen = data_generator(data, train_bounds[0], train_bounds[1])\n",
    "test_gen = data_generator(data, test_bounds[0], test_bounds[1])\n",
    "history_128_128 = model.fit_generator(train_gen, samples_per_epoch=train_samples, validation_data=test_gen, nb_val_samples=test_samples, nb_epoch=epochs, verbose=1,)\n",
    "plot(history_128_128)"
   ]
  },
  {
   "cell_type": "markdown",
   "metadata": {},
   "source": [
    "# For Submission"
   ]
  },
  {
   "cell_type": "code",
   "execution_count": 29,
   "metadata": {
    "collapsed": true
   },
   "outputs": [],
   "source": [
    "num_features = 108"
   ]
  },
  {
   "cell_type": "code",
   "execution_count": 30,
   "metadata": {
    "collapsed": false
   },
   "outputs": [],
   "source": [
    "def data_generator(data_for_id_X, data_for_id_y, id_range, samples_back_included, batch_size):\n",
    "    X = []\n",
    "    y = []\n",
    "    while True:\n",
    "        for j in range(id_range):\n",
    "            for i in range(samples_back_included, len(data_for_id_X[j])):\n",
    "                X.append(data_for_id_X[j][max(i - samples_back_included, 0):i])\n",
    "                y.append(data_for_id_y[j][i-1:i][0][0])\n",
    "                if len(X) == batch_size:\n",
    "                    yield (np.array(X), np.array(y))\n",
    "                    X = []\n",
    "                    y = []\n",
    "\n",
    "def create_and_train_model(env, observation, batch_size, epochs, passes, samples_back_included, dropout, first_layer_size, second_layer_size):\n",
    "    global num_features\n",
    "    \n",
    "    data = observation.train\n",
    "    data = data.fillna(data.mean())\n",
    "    means, stds = data.mean(), data.std()\n",
    "    for column in ['id', 'timestamp', 'y']:\n",
    "        means[column] = 0\n",
    "        stds[column] = 1\n",
    "    data = (data - means) / stds\n",
    "\n",
    "    train_samples = int(len(data) / batch_size / (epochs / passes)) * batch_size\n",
    "                        \n",
    "    ids = np.unique(data.id)\n",
    "    id_range = int(max(ids) - min(ids) + 1)\n",
    "    X_columns = [item for item in data.columns if item not in ('id', 'timestamp', 'y')]\n",
    "    y_columns = ['y']\n",
    "    X_padding = np.zeros((samples_back_included - 1, num_features), dtype=np.float)\n",
    "    y_padding = np.zeros((samples_back_included - 1, 1), dtype=np.float)\n",
    "\n",
    "    data_for_id_X = [[] for i in range(id_range)]\n",
    "    data_for_id_y = [[] for i in range(id_range)]\n",
    "\n",
    "    for item_id in range(id_range):\n",
    "        data_for_id_X[int(item_id)] = X_padding\n",
    "        data_for_id_y[int(item_id)] = y_padding\n",
    "\n",
    "    for item_id in ids:\n",
    "        data_for_id_X[int(item_id)] = np.concatenate((X_padding, data[data.id == item_id][X_columns].values), axis=0)\n",
    "        data_for_id_y[int(item_id)] = np.concatenate((y_padding, data[data.id == item_id][y_columns].values), axis=0)\n",
    "\n",
    "    data = None\n",
    "    gc.collect()\n",
    "    \n",
    "    model = Sequential()\n",
    "    model.add(GRU(first_layer_size, batch_input_shape=[batch_size, samples_back_included, num_features], return_sequences=True, stateful=True))\n",
    "    model.add(BatchNormalization())\n",
    "    model.add(Activation('sigmoid'))\n",
    "    model.add(Dropout(dropout))\n",
    "    model.add(GRU(second_layer_size, return_sequences=False, stateful=True))\n",
    "    model.add(BatchNormalization())\n",
    "    model.add(Activation('sigmoid'))\n",
    "    model.add(Dropout(dropout))\n",
    "    model.add(Dense(1))\n",
    "    model.add(Activation('linear'))\n",
    "\n",
    "    model.compile(loss=loss_r2_1d,\n",
    "                  optimizer='adam',\n",
    "                  metrics=[loss_r_score])\n",
    "\n",
    "    train_gen = data_generator(data_for_id_X, data_for_id_y, id_range, samples_back_included, batch_size)\n",
    "    history = model.fit_generator(train_gen, samples_per_epoch=train_samples, nb_epoch=epochs, verbose=0)\n",
    "\n",
    "    return means, stds, data_for_id_X, model, history\n",
    "\n",
    "def test_model(env, observation, means, stds, data_for_id_X, model, batch_size, low_y_cut, high_y_cut, samples_back_included):\n",
    "    global num_features\n",
    "    \n",
    "    X_columns = [item for item in observation.features.columns if item not in ('id', 'timestamp')]\n",
    "    X_padding = np.zeros((samples_back_included - 1, num_features), dtype=np.float)\n",
    "    full_reward = 0\n",
    "    while True:\n",
    "        target = observation.target\n",
    "        features = observation.features\n",
    "        features = features.fillna(0)\n",
    "        features = (features - means) / stds\n",
    "        ids = observation.features['id'].values\n",
    "        for row_id, row in zip(ids, features[X_columns].values):\n",
    "            if row_id >= len(data_for_id_X):\n",
    "                difference = row_id - len(data_for_id_X) + 1\n",
    "                data_for_id_X.extend([X_padding] * difference)\n",
    "            data_for_id_X[row_id] = np.concatenate((data_for_id_X[row_id], [row]), axis=0)\n",
    "\n",
    "        X_to_predict = np.array([data_for_id_X[row_id][-samples_back_included:] for row_id in ids])\n",
    "\n",
    "        # add extra rows to fit batch_size\n",
    "        batches = math.ceil(len(X_to_predict) / batch_size)\n",
    "        extra_predictions = batch_size * batches - len(X_to_predict)\n",
    "        X_to_predict = np.concatenate((X_to_predict, np.zeros((extra_predictions, samples_back_included, 108), dtype=np.int)), axis=0)\n",
    "\n",
    "        target_size = len(target.y)\n",
    "        target.y = model.predict(X_to_predict, batch_size=batch_size)[:target_size].clip(low_y_cut, high_y_cut)\n",
    "        observation, reward, done, info = env.step(target)\n",
    "        if done:\n",
    "            print(\"Finished, reward: \", info[\"public_score\"])\n",
    "            return info[\"public_score\"]\n",
    "        full_reward += reward\n",
    "        if observation.features.timestamp[0] % 200 == 0:\n",
    "            #print(full_reward / 100)\n",
    "            full_reward = 0"
   ]
  },
  {
   "cell_type": "code",
   "execution_count": 15,
   "metadata": {
    "collapsed": true
   },
   "outputs": [],
   "source": [
    "#results_array = pd.read_csv('data/model_results').values"
   ]
  },
  {
   "cell_type": "code",
   "execution_count": 31,
   "metadata": {
    "collapsed": true
   },
   "outputs": [],
   "source": [
    "def test_params(args):\n",
    "    global results_array\n",
    "    start_time = time.time()\n",
    "    results_dict_key = ', '.join('{0}: {1}'.format(key, args[key]) for key in args)\n",
    "    default_args = {\n",
    "        'batch_size': 256,\n",
    "        'epochs': 8,\n",
    "        'passes': 2,\n",
    "        'low_y_cut': -0.075,\n",
    "        'high_y_cut': 0.075,\n",
    "        'samples_back_included': 8,\n",
    "        'dropout': 0.5,\n",
    "        'first_layer_size': 64,\n",
    "        'second_layer_size': 128\n",
    "    }\n",
    "    env = kagglegym.make()\n",
    "    observation = env.reset()\n",
    "    train_args = dict((arg, args[arg] if arg in args else default_args[arg]) for arg in default_args if arg in ('batch_size', 'epochs', 'passes', 'samples_back_included', 'dropout', 'first_layer_size', 'second_layer_size'))\n",
    "    test_args = dict((arg, args[arg] if arg in args else default_args[arg]) for arg in default_args if arg in ('batch_size', 'samples_back_included', 'low_y_cut', 'high_y_cut'))\n",
    "    means, stds, data_for_id_X, model, history = create_and_train_model(env, observation, **train_args)\n",
    "    score = test_model(env, observation, means, stds, data_for_id_X, model, **test_args)\n",
    "    \n",
    "    results_array = np.append(results_array, [[results_dict_key, score, history, start_time - time.time()]], axis=0)"
   ]
  },
  {
   "cell_type": "code",
   "execution_count": 41,
   "metadata": {
    "collapsed": false
   },
   "outputs": [],
   "source": [
    "pd.DataFrame(results_array).to_csv('data/model_results', index=False)"
   ]
  },
  {
   "cell_type": "code",
   "execution_count": 38,
   "metadata": {
    "collapsed": false
   },
   "outputs": [
    {
     "name": "stdout",
     "output_type": "stream",
     "text": [
      "Finished, reward:  -0.0201369730804\n",
      "CPU times: user 16min 8s, sys: 4min 24s, total: 20min 33s\n",
      "Wall time: 18min 37s\n"
     ]
    }
   ],
   "source": [
    "%%time\n",
    "args = {\n",
    "    'batch_size': 256,\n",
    "    'dropout': 0.3,\n",
    "    'epochs': 4,\n",
    "    'passes': 2,\n",
    "    'first_layer_size': 32,\n",
    "    'second_layer_size': 64,\n",
    "}\n",
    "test_params(args)"
   ]
  },
  {
   "cell_type": "code",
   "execution_count": 22,
   "metadata": {
    "collapsed": false
   },
   "outputs": [
    {
     "data": {
      "text/plain": [
       "[('epochs: 8, batch_size: 256, dropout: 0.5, passes: 2',\n",
       "  -0.006045661023625851),\n",
       " ('first_layer_size: 64, second_layer_size: 128, batch_size: 256, dropout: 0.5, passes: 2, epochs: 4',\n",
       "  -0.00914250721655),\n",
       " ('first_layer_size: 64, second_layer_size: 64, batch_size: 256, dropout: 0.5, passes: 2, epochs: 4',\n",
       "  -0.00922768453504),\n",
       " ('epochs: 4, batch_size: 512, dropout: 0.6, passes: 1',\n",
       "  -0.011255786431362215),\n",
       " ('epochs: 4, batch_size: 512, dropout: 0.4, passes: 2',\n",
       "  -0.011561177423752131),\n",
       " ('dropout: 0.5, first_layer_size: 32, second_layer_size: 32, passes: 1',\n",
       "  -0.012636470105368416),\n",
       " ('epochs: 4, batch_size: 256, dropout: 0.6, passes: 2', -0.01349307690811253),\n",
       " ('dropout: 0.6, first_layer_size: 32, second_layer_size: 32, passes: 1',\n",
       "  -0.015118321402473916),\n",
       " ('epochs: 8, batch_size: 256, dropout: 0.4, passes: 2',\n",
       "  -0.016239682554597634),\n",
       " ('first_layer_size: 32, second_layer_size: 64, batch_size: 256, dropout: 0.5, passes: 1, epochs: 4',\n",
       "  -0.0163946674037),\n",
       " ('first_layer_size: 64, second_layer_size: 64, batch_size: 512, dropout: 0.5, passes: 2, epochs: 4',\n",
       "  -0.0166373816208),\n",
       " ('epochs: 4, batch_size: 512, dropout: 0.4, passes: 1',\n",
       "  -0.016814314234536443),\n",
       " ('first_layer_size: 64, second_layer_size: 128, batch_size: 256, dropout: 0.6, passes: 1, epochs: 8',\n",
       "  -0.0179374870404),\n",
       " ('first_layer_size: 32, second_layer_size: 128, batch_size: 256, dropout: 0.6, passes: 1, epochs: 8',\n",
       "  -0.019577184054),\n",
       " ('epochs: 4, batch_size: 512, dropout: 0.5, passes: 2', -0.01961456366079829),\n",
       " ('first_layer_size: 64, second_layer_size: 128, batch_size: 512, dropout: 0.6, passes: 2, epochs: 8',\n",
       "  -0.0196772045011),\n",
       " ('epochs: 4, batch_size: 512, dropout: 0.6, passes: 2',\n",
       "  -0.019685539595266345),\n",
       " ('first_layer_size: 64, second_layer_size: 64, batch_size: 512, dropout: 0.5, passes: 2, epochs: 8',\n",
       "  -0.0207029488162),\n",
       " ('first_layer_size: 32, second_layer_size: 64, batch_size: 512, dropout: 0.5, passes: 2, epochs: 4',\n",
       "  -0.0214136697579),\n",
       " ('epochs: 8, batch_size: 256, dropout: 0.5, passes: 1', -0.02184944318408141),\n",
       " ('epochs: 8, batch_size: 256, dropout: 0.4, passes: 1',\n",
       "  -0.021992787934994103),\n",
       " ('epochs: 4, batch_size: 256, dropout: 0.4, passes: 2', -0.02210658757646737),\n",
       " ('first_layer_size: 64, second_layer_size: 128, batch_size: 256, dropout: 0.5, passes: 1, epochs: 8',\n",
       "  -0.0222026669774),\n",
       " ('first_layer_size: 64, second_layer_size: 64, batch_size: 256, dropout: 0.6, passes: 2, epochs: 8',\n",
       "  -0.0224144817571),\n",
       " ('epochs: 8, batch_size: 128, dropout: 0.5, passes: 2',\n",
       "  -0.022458399590922145),\n",
       " ('first_layer_size: 64, second_layer_size: 128, batch_size: 512, dropout: 0.6, passes: 1, epochs: 4',\n",
       "  -0.0225105778234),\n",
       " ('first_layer_size: 32, second_layer_size: 128, batch_size: 256, dropout: 0.6, passes: 2, epochs: 8',\n",
       "  -0.0240761771618),\n",
       " ('epochs: 4, batch_size: 256, dropout: 0.5, passes: 2', -0.02434021231485014),\n",
       " ('epochs: 4, batch_size: 256, dropout: 0.4, passes: 1', -0.02503094215587108),\n",
       " ('first_layer_size: 32, second_layer_size: 128, batch_size: 512, dropout: 0.5, passes: 2, epochs: 8',\n",
       "  -0.0254129634994),\n",
       " ('first_layer_size: 32, second_layer_size: 128, batch_size: 256, dropout: 0.5, passes: 1, epochs: 4',\n",
       "  -0.0262372259092),\n",
       " ('epochs: 8, batch_size: 128, dropout: 0.6, passes: 2',\n",
       "  -0.026615285404706857),\n",
       " ('first_layer_size: 32, second_layer_size: 128, batch_size: 256, dropout: 0.6, passes: 2, epochs: 4',\n",
       "  -0.0268197282995),\n",
       " ('first_layer_size: 32, second_layer_size: 64, batch_size: 256, dropout: 0.6, passes: 2, epochs: 4',\n",
       "  -0.0291755154234),\n",
       " ('first_layer_size: 64, second_layer_size: 64, batch_size: 256, dropout: 0.6, passes: 1, epochs: 8',\n",
       "  -0.0292031324995),\n",
       " ('first_layer_size: 32, second_layer_size: 64, batch_size: 256, dropout: 0.5, passes: 2, epochs: 8',\n",
       "  -0.0296606383987),\n",
       " ('first_layer_size: 64, second_layer_size: 64, batch_size: 512, dropout: 0.6, passes: 2, epochs: 8',\n",
       "  -0.0306493734487),\n",
       " ('first_layer_size: 32, second_layer_size: 64, batch_size: 256, dropout: 0.6, passes: 1, epochs: 8',\n",
       "  -0.0316138683553),\n",
       " ('first_layer_size: 32, second_layer_size: 128, batch_size: 256, dropout: 0.5, passes: 2, epochs: 4',\n",
       "  -0.0330858730795),\n",
       " ('epochs: 4, batch_size: 256, dropout: 0.6, passes: 1', -0.03528217597841321),\n",
       " ('first_layer_size: 64, second_layer_size: 64, batch_size: 256, dropout: 0.6, passes: 2, epochs: 4',\n",
       "  -0.0353694492677),\n",
       " ('epochs: 4, batch_size: 256, dropout: 0.5, passes: 1',\n",
       "  -0.035704855626323445),\n",
       " ('first_layer_size: 64, second_layer_size: 64, batch_size: 256, dropout: 0.5, passes: 1, epochs: 8',\n",
       "  -0.0402721146853),\n",
       " ('epochs: 4, batch_size: 512, dropout: 0.5, passes: 1', -0.04039646126847025),\n",
       " ('dropout: 0.4, first_layer_size: 32, second_layer_size: 32, passes: 1',\n",
       "  -0.04083876885366819),\n",
       " ('first_layer_size: 64, second_layer_size: 128, batch_size: 256, dropout: 0.5, passes: 2, epochs: 8',\n",
       "  -0.0412797808911),\n",
       " ('first_layer_size: 32, second_layer_size: 128, batch_size: 512, dropout: 0.6, passes: 2, epochs: 4',\n",
       "  -0.0422486141325),\n",
       " ('epochs: 8, batch_size: 512, dropout: 0.6, passes: 1', -0.0428424226582698),\n",
       " ('first_layer_size: 64, second_layer_size: 128, batch_size: 512, dropout: 0.6, passes: 1, epochs: 8',\n",
       "  -0.0439633917166),\n",
       " ('first_layer_size: 32, second_layer_size: 64, batch_size: 512, dropout: 0.5, passes: 2, epochs: 8',\n",
       "  -0.0440498216494),\n",
       " ('epochs: 8, batch_size: 128, dropout: 0.5, passes: 1',\n",
       "  -0.044728361862220525),\n",
       " ('first_layer_size: 64, second_layer_size: 128, batch_size: 256, dropout: 0.6, passes: 2, epochs: 4',\n",
       "  -0.0449598204632),\n",
       " ('first_layer_size: 64, second_layer_size: 128, batch_size: 256, dropout: 0.6, passes: 2, epochs: 8',\n",
       "  -0.0468249420706),\n",
       " ('first_layer_size: 64, second_layer_size: 64, batch_size: 256, dropout: 0.5, passes: 2, epochs: 8',\n",
       "  -0.0472579814496),\n",
       " ('first_layer_size: 32, second_layer_size: 128, batch_size: 512, dropout: 0.5, passes: 1, epochs: 4',\n",
       "  -0.047611785591),\n",
       " ('first_layer_size: 64, second_layer_size: 64, batch_size: 256, dropout: 0.6, passes: 1, epochs: 4',\n",
       "  -0.0479306702363),\n",
       " ('first_layer_size: 32, second_layer_size: 64, batch_size: 256, dropout: 0.6, passes: 2, epochs: 8',\n",
       "  -0.0482915966029),\n",
       " ('first_layer_size: 64, second_layer_size: 64, batch_size: 512, dropout: 0.6, passes: 2, epochs: 4',\n",
       "  -0.048697556977),\n",
       " ('epochs: 8, batch_size: 512, dropout: 0.6, passes: 2', -0.04969417222471064),\n",
       " ('epochs: 4, batch_size: 128, dropout: 0.4, passes: 1', -0.05046502275653002),\n",
       " ('first_layer_size: 64, second_layer_size: 128, batch_size: 512, dropout: 0.5, passes: 1, epochs: 4',\n",
       "  -0.050859882048),\n",
       " ('first_layer_size: 32, second_layer_size: 128, batch_size: 256, dropout: 0.5, passes: 2, epochs: 8',\n",
       "  -0.05104433594),\n",
       " ('epochs: 8, batch_size: 512, dropout: 0.5, passes: 1',\n",
       "  -0.054064578576057856),\n",
       " ('epochs: 8, batch_size: 256, dropout: 0.6, passes: 2', -0.0550759595039552),\n",
       " ('first_layer_size: 32, second_layer_size: 64, batch_size: 512, dropout: 0.6, passes: 2, epochs: 8',\n",
       "  -0.0552032291045),\n",
       " ('first_layer_size: 32, second_layer_size: 64, batch_size: 512, dropout: 0.6, passes: 2, epochs: 4',\n",
       "  -0.055992490197),\n",
       " ('epochs: 8, batch_size: 512, dropout: 0.4, passes: 1',\n",
       "  -0.056043964540067916),\n",
       " ('first_layer_size: 64, second_layer_size: 128, batch_size: 512, dropout: 0.5, passes: 1, epochs: 8',\n",
       "  -0.0568337796932),\n",
       " ('first_layer_size: 64, second_layer_size: 128, batch_size: 256, dropout: 0.6, passes: 1, epochs: 4',\n",
       "  -0.0604413972072),\n",
       " ('epochs: 8, batch_size: 128, dropout: 0.4, passes: 2', -0.06143930944539624),\n",
       " ('first_layer_size: 32, second_layer_size: 64, batch_size: 256, dropout: 0.5, passes: 1, epochs: 8',\n",
       "  -0.0652977829582),\n",
       " ('first_layer_size: 32, second_layer_size: 128, batch_size: 512, dropout: 0.6, passes: 1, epochs: 8',\n",
       "  -0.065895889044),\n",
       " ('first_layer_size: 32, second_layer_size: 128, batch_size: 256, dropout: 0.5, passes: 1, epochs: 8',\n",
       "  -0.0683635839781),\n",
       " ('first_layer_size: 64, second_layer_size: 64, batch_size: 512, dropout: 0.6, passes: 1, epochs: 4',\n",
       "  -0.0687423890221),\n",
       " ('epochs: 4, batch_size: 128, dropout: 0.5, passes: 2', -0.06878339028860628),\n",
       " ('first_layer_size: 64, second_layer_size: 128, batch_size: 256, dropout: 0.5, passes: 1, epochs: 4',\n",
       "  -0.0691600505644),\n",
       " ('dropout: 0.4, first_layer_size: 32, second_layer_size: 64, passes: 1',\n",
       "  -0.07075986487671747),\n",
       " ('epochs: 4, batch_size: 128, dropout: 0.5, passes: 1', -0.0710794721668143),\n",
       " ('first_layer_size: 32, second_layer_size: 128, batch_size: 256, dropout: 0.6, passes: 1, epochs: 4',\n",
       "  -0.0732472393161),\n",
       " ('first_layer_size: 32, second_layer_size: 128, batch_size: 512, dropout: 0.5, passes: 1, epochs: 8',\n",
       "  -0.0749676057924),\n",
       " ('first_layer_size: 32, second_layer_size: 64, batch_size: 256, dropout: 0.5, passes: 2, epochs: 4',\n",
       "  -0.0772612593088),\n",
       " ('first_layer_size: 64, second_layer_size: 128, batch_size: 512, dropout: 0.5, passes: 2, epochs: 8',\n",
       "  -0.0773542466724),\n",
       " ('first_layer_size: 32, second_layer_size: 128, batch_size: 512, dropout: 0.6, passes: 2, epochs: 8',\n",
       "  -0.0826186392875),\n",
       " ('epochs: 8, batch_size: 512, dropout: 0.4, passes: 2', -0.08337815242151962),\n",
       " ('first_layer_size: 64, second_layer_size: 64, batch_size: 256, dropout: 0.5, passes: 1, epochs: 4',\n",
       "  -0.0856132688982),\n",
       " ('epochs: 8, batch_size: 512, dropout: 0.5, passes: 2', -0.08653549302573173),\n",
       " ('first_layer_size: 32, second_layer_size: 128, batch_size: 512, dropout: 0.6, passes: 1, epochs: 4',\n",
       "  -0.0869942881811),\n",
       " ('first_layer_size: 64, second_layer_size: 128, batch_size: 512, dropout: 0.5, passes: 2, epochs: 4',\n",
       "  -0.0992846910033),\n",
       " ('first_layer_size: 64, second_layer_size: 64, batch_size: 512, dropout: 0.5, passes: 1, epochs: 4',\n",
       "  -0.108593890945),\n",
       " ('epochs: 8, batch_size: 128, dropout: 0.6, passes: 1', -0.11470873510721295),\n",
       " ('epochs: 4, batch_size: 128, dropout: 0.6, passes: 2', -0.12938952262805853),\n",
       " ('epochs: 8, batch_size: 256, dropout: 0.6, passes: 1', -0.1311533408170733),\n",
       " ('first_layer_size: 32, second_layer_size: 64, batch_size: 512, dropout: 0.5, passes: 1, epochs: 8',\n",
       "  -0.137547832493),\n",
       " ('first_layer_size: 64, second_layer_size: 64, batch_size: 512, dropout: 0.6, passes: 1, epochs: 8',\n",
       "  -0.140167097424),\n",
       " ('epochs: 8, batch_size: 128, dropout: 0.4, passes: 1', -0.14771435212917064),\n",
       " ('first_layer_size: 32, second_layer_size: 64, batch_size: 256, dropout: 0.6, passes: 1, epochs: 4',\n",
       "  -0.162207222351),\n",
       " ('epochs: 4, batch_size: 128, dropout: 0.4, passes: 2', -0.16806609377813553),\n",
       " ('first_layer_size: 32, second_layer_size: 64, batch_size: 512, dropout: 0.6, passes: 1, epochs: 4',\n",
       "  -0.172214429767),\n",
       " ('first_layer_size: 32, second_layer_size: 64, batch_size: 512, dropout: 0.5, passes: 1, epochs: 4',\n",
       "  -0.17799960368),\n",
       " ('first_layer_size: 64, second_layer_size: 128, batch_size: 512, dropout: 0.6, passes: 2, epochs: 4',\n",
       "  -0.214089567986),\n",
       " ('epochs: 4, batch_size: 128, dropout: 0.6, passes: 1', -0.23198156488479954),\n",
       " ('first_layer_size: 32, second_layer_size: 64, batch_size: 512, dropout: 0.6, passes: 1, epochs: 8',\n",
       "  -0.232916091982),\n",
       " ('first_layer_size: 32, second_layer_size: 128, batch_size: 512, dropout: 0.5, passes: 2, epochs: 4',\n",
       "  -0.248192042453),\n",
       " ('first_layer_size: 64, second_layer_size: 64, batch_size: 512, dropout: 0.5, passes: 1, epochs: 8',\n",
       "  -0.417778521813)]"
      ]
     },
     "execution_count": 22,
     "metadata": {},
     "output_type": "execute_result"
    }
   ],
   "source": [
    "test = [(row[0], row[1]) for row in results_array]\n",
    "sorted(test, key=lambda row: -row[1])"
   ]
  },
  {
   "cell_type": "markdown",
   "metadata": {},
   "source": [
    "# Benchmark"
   ]
  },
  {
   "cell_type": "code",
   "execution_count": 1,
   "metadata": {
    "collapsed": false
   },
   "outputs": [
    {
     "name": "stderr",
     "output_type": "stream",
     "text": [
      "/Users/jgzuke/anaconda3/lib/python3.5/site-packages/ipykernel/__main__.py:20: SettingWithCopyWarning: \n",
      "A value is trying to be set on a copy of a slice from a DataFrame.\n",
      "Try using .loc[row_indexer,col_indexer] = value instead\n",
      "\n",
      "See the caveats in the documentation: http://pandas.pydata.org/pandas-docs/stable/indexing.html#indexing-view-versus-copy\n",
      "/Users/jgzuke/anaconda3/lib/python3.5/site-packages/ipykernel/__main__.py:48: SettingWithCopyWarning: \n",
      "A value is trying to be set on a copy of a slice from a DataFrame.\n",
      "Try using .loc[row_indexer,col_indexer] = value instead\n",
      "\n",
      "See the caveats in the documentation: http://pandas.pydata.org/pandas-docs/stable/indexing.html#indexing-view-versus-copy\n"
     ]
    },
    {
     "name": "stdout",
     "output_type": "stream",
     "text": [
      "-0.00428660145471\n",
      "-0.00217862142254\n",
      "-0.00181563727073\n",
      "-0.00116765333644\n",
      "-0.00235118682059\n",
      "-0.00325396125482\n",
      "-0.00175334010547\n",
      "-0.00440014228298\n",
      "0.0017928211677\n",
      "el fin ... -0.162135141475\n"
     ]
    }
   ],
   "source": [
    "import kagglegym\n",
    "import numpy as np\n",
    "import pandas as pd\n",
    "from sklearn.ensemble import ExtraTreesRegressor\n",
    "from sklearn.linear_model import LinearRegression\n",
    "\n",
    "env = kagglegym.make()\n",
    "o = env.reset()\n",
    "o.train = o.train[:1000]\n",
    "excl = ['id', 'sample', 'y', 'timestamp']\n",
    "col = [c for c in o.train.columns if c not in excl]\n",
    "\n",
    "train = pd.read_hdf('data/train.h5')\n",
    "train = train[col]\n",
    "d_mean= train.median(axis=0)\n",
    "\n",
    "train = o.train[col]\n",
    "n = train.isnull().sum(axis=1)\n",
    "for c in train.columns:\n",
    "    train[c + '_nan_'] = pd.isnull(train[c])\n",
    "    d_mean[c + '_nan_'] = 0\n",
    "train = train.fillna(d_mean)\n",
    "train['znull'] = n\n",
    "n = []\n",
    "\n",
    "rfr = ExtraTreesRegressor(n_estimators=100, max_depth=4, n_jobs=-1, random_state=17, verbose=0)\n",
    "model1 = rfr.fit(train, o.train['y'])\n",
    "train = []\n",
    "\n",
    "#https://www.kaggle.com/bguberfain/two-sigma-financial-modeling/univariate-model-with-clip/run/482189\n",
    "low_y_cut = -0.075\n",
    "high_y_cut = 0.075\n",
    "# 0.075?\n",
    "y_is_above_cut = (o.train.y > high_y_cut)\n",
    "y_is_below_cut = (o.train.y < low_y_cut)\n",
    "y_is_within_cut = (~y_is_above_cut & ~y_is_below_cut)\n",
    "model2 = LinearRegression(n_jobs=-1)\n",
    "model2.fit(np.array(o.train[col].fillna(d_mean).loc[y_is_within_cut, 'technical_20'].values).reshape(-1,1), o.train.loc[y_is_within_cut, 'y'])\n",
    "\n",
    "#https://www.kaggle.com/ymcdull/two-sigma-financial-modeling/ridge-lb-0-0100659\n",
    "ymean_dict = dict(o.train.groupby([\"id\"])[\"y\"].median())\n",
    "\n",
    "while True:\n",
    "    full_reward = 0\n",
    "    test = o.features[col]\n",
    "    n = test.isnull().sum(axis=1)\n",
    "    for c in test.columns:\n",
    "        test[c + '_nan_'] = pd.isnull(test[c])\n",
    "    test = test.fillna(d_mean)\n",
    "    test['znull'] = n\n",
    "    pred = o.target\n",
    "    test2 = np.array(o.features[col].fillna(d_mean)['technical_20'].values).reshape(-1,1)\n",
    "    pred['y'] = (model1.predict(test).clip(low_y_cut, high_y_cut) * 0.65) + (model2.predict(test2).clip(low_y_cut, high_y_cut) * 0.35)\n",
    "    pred['y'] = pred.apply(lambda r: 0.95 * r['y'] + 0.05 * ymean_dict[r['id']] if r['id'] in ymean_dict else r['y'], axis = 1)\n",
    "    pred['y'] = [float(format(x, '.6f')) for x in pred['y']]\n",
    "    o, reward, done, info = env.step(pred)\n",
    "    if done:\n",
    "        print(\"el fin ...\", info[\"public_score\"])\n",
    "        break\n",
    "        \n",
    "    full_reward += reward\n",
    "    if o.features.timestamp[0] % 100 == 0:\n",
    "        print(full_reward / 100)\n",
    "        full_reward = 0\n",
    "# started 11:00"
   ]
  },
  {
   "cell_type": "code",
   "execution_count": null,
   "metadata": {
    "collapsed": true
   },
   "outputs": [],
   "source": []
  }
 ],
 "metadata": {
  "kernelspec": {
   "display_name": "Python 3",
   "language": "python",
   "name": "python3"
  },
  "language_info": {
   "codemirror_mode": {
    "name": "ipython",
    "version": 3
   },
   "file_extension": ".py",
   "mimetype": "text/x-python",
   "name": "python",
   "nbconvert_exporter": "python",
   "pygments_lexer": "ipython3",
   "version": "3.5.1"
  }
 },
 "nbformat": 4,
 "nbformat_minor": 0
}
