{
 "cells": [
  {
   "cell_type": "code",
   "execution_count": 1,
   "metadata": {
    "collapsed": false
   },
   "outputs": [
    {
     "name": "stderr",
     "output_type": "stream",
     "text": [
      "Using Theano backend.\n"
     ]
    }
   ],
   "source": [
    "import pandas as pd\n",
    "import numpy as np\n",
    "import math\n",
    "from keras.models import Sequential\n",
    "from keras.layers import Dense, Activation, Dropout, BatchNormalization, LSTM, GRU, TimeDistributedDense\n",
    "from sklearn.ensemble import RandomForestRegressor, ExtraTreesRegressor, GradientBoostingRegressor\n",
    "from keras import backend as K\n",
    "import kagglegym\n",
    "import time"
   ]
  },
  {
   "cell_type": "code",
   "execution_count": 45,
   "metadata": {
    "collapsed": true
   },
   "outputs": [],
   "source": [
    "data = pd.read_hdf('data/train.h5')\n",
    "train_bounds = (0, 200)\n",
    "test_bounds = (200, 300) # 1812\n",
    "data = data[columns + ['id', 'timestamp', 'y']]"
   ]
  },
  {
   "cell_type": "code",
   "execution_count": 47,
   "metadata": {
    "collapsed": true
   },
   "outputs": [],
   "source": [
    "train = data[(data.id > train_bounds[0]) & (data.id < train_bounds[1])]\n",
    "test = data[(data.id > test_bounds[0]) & (data.id < test_bounds[1])]\n",
    "means = train.mean()\n",
    "train = train.fillna(means)\n",
    "test = test.fillna(means)\n",
    "data = None"
   ]
  },
  {
   "cell_type": "code",
   "execution_count": 62,
   "metadata": {
    "collapsed": false
   },
   "outputs": [],
   "source": [
    "model = Sequential()\n",
    "model.add(LSTM(128, batch_input_shape=[32, 32, 32], return_sequences=True, stateful=True))\n",
    "model.add(BatchNormalization())\n",
    "model.add(Activation('sigmoid'))\n",
    "model.add(Dropout(0.5))\n",
    "model.add(LSTM(128, return_sequences=False, stateful=True))\n",
    "model.add(BatchNormalization())\n",
    "model.add(Activation('sigmoid'))\n",
    "model.add(Dropout(0.5))\n",
    "model.add(Dense(1))\n",
    "model.add(Activation('linear'))\n",
    "\n",
    "model.compile(loss='mse',\n",
    "              optimizer='adam',\n",
    "              metrics=[])"
   ]
  },
  {
   "cell_type": "code",
   "execution_count": 69,
   "metadata": {
    "collapsed": false
   },
   "outputs": [
    {
     "data": {
      "text/plain": [
       "[(<TensorType(float32, matrix)>, DimShuffle{0,1}.0),\n",
       " (<TensorType(float32, matrix)>, DimShuffle{0,1}.0),\n",
       " (batchnormalization_4_running_mean, Elemwise{add,no_inplace}.0),\n",
       " (batchnormalization_4_running_std, Elemwise{add,no_inplace}.0),\n",
       " (<TensorType(float32, matrix)>, DimShuffle{0,1}.0),\n",
       " (<TensorType(float32, matrix)>, DimShuffle{0,1}.0),\n",
       " (batchnormalization_5_running_mean, Elemwise{add,no_inplace}.0),\n",
       " (batchnormalization_5_running_std, Elemwise{add,no_inplace}.0)]"
      ]
     },
     "execution_count": 69,
     "metadata": {},
     "output_type": "execute_result"
    }
   ],
   "source": [
    "model.updates"
   ]
  },
  {
   "cell_type": "code",
   "execution_count": 67,
   "metadata": {
    "collapsed": false
   },
   "outputs": [
    {
     "data": {
      "text/plain": [
       "[]"
      ]
     },
     "execution_count": 67,
     "metadata": {},
     "output_type": "execute_result"
    }
   ],
   "source": [
    "model.state_updates"
   ]
  },
  {
   "cell_type": "code",
   "execution_count": 66,
   "metadata": {
    "collapsed": false
   },
   "outputs": [],
   "source": [
    "model.reset_states()"
   ]
  },
  {
   "cell_type": "code",
   "execution_count": 68,
   "metadata": {
    "collapsed": false
   },
   "outputs": [
    {
     "data": {
      "text/plain": [
       "True"
      ]
     },
     "execution_count": 68,
     "metadata": {},
     "output_type": "execute_result"
    }
   ],
   "source": [
    "model.stateful"
   ]
  },
  {
   "cell_type": "code",
   "execution_count": 48,
   "metadata": {
    "collapsed": false
   },
   "outputs": [
    {
     "name": "stdout",
     "output_type": "stream",
     "text": [
      "CPU times: user 10min 41s, sys: 5.05 s, total: 10min 46s\n",
      "Wall time: 11min 11s\n"
     ]
    }
   ],
   "source": [
    "%%time\n",
    "clf = RandomForestRegressor()\n",
    "clf.fit(train.drop(['id', 'timestamp', 'y'], axis=1).values, train['y'].values)"
   ]
  },
  {
   "cell_type": "code",
   "execution_count": 49,
   "metadata": {
    "collapsed": false
   },
   "outputs": [
    {
     "data": {
      "text/plain": [
       "-0.27078327175892936"
      ]
     },
     "execution_count": 49,
     "metadata": {},
     "output_type": "execute_result"
    }
   ],
   "source": [
    "clf.score(test.drop(['id', 'timestamp', 'y'], axis=1).values, test['y'].values)"
   ]
  },
  {
   "cell_type": "code",
   "execution_count": 56,
   "metadata": {
    "collapsed": true
   },
   "outputs": [],
   "source": [
    "from sklearn.metrics import r2_score\n",
    "def r_score(y_true, y_pred, sample_weight=None, multioutput=None):\n",
    "    r2 = r2_score(y_true, y_pred, sample_weight=sample_weight,\n",
    "                  multioutput=multioutput)\n",
    "    r = (np.sign(r2)*np.sqrt(np.abs(r2)))\n",
    "    if r <= -1:\n",
    "        return -1\n",
    "    else:\n",
    "        return r"
   ]
  },
  {
   "cell_type": "code",
   "execution_count": 57,
   "metadata": {
    "collapsed": false
   },
   "outputs": [
    {
     "data": {
      "text/plain": [
       "-0.52036840003878926"
      ]
     },
     "execution_count": 57,
     "metadata": {},
     "output_type": "execute_result"
    }
   ],
   "source": [
    "r_score(test['y'].values, clf.predict(test.drop(['id', 'timestamp', 'y'], axis=1).values))"
   ]
  },
  {
   "cell_type": "code",
   "execution_count": 50,
   "metadata": {
    "collapsed": false
   },
   "outputs": [],
   "source": [
    "a = [(name, importance) for name, importance in zip(train.columns.drop(['id', 'timestamp', 'y']), clf.feature_importances_)]"
   ]
  },
  {
   "cell_type": "code",
   "execution_count": 51,
   "metadata": {
    "collapsed": false
   },
   "outputs": [],
   "source": [
    "columns = [name for name, importance in sorted(a, key=lambda row: -row[1])[:50]]"
   ]
  },
  {
   "cell_type": "code",
   "execution_count": 52,
   "metadata": {
    "collapsed": false
   },
   "outputs": [
    {
     "data": {
      "text/plain": [
       "['technical_33',\n",
       " 'technical_41',\n",
       " 'technical_24',\n",
       " 'technical_3',\n",
       " 'technical_1',\n",
       " 'technical_30',\n",
       " 'technical_5',\n",
       " 'technical_25',\n",
       " 'technical_31',\n",
       " 'technical_44',\n",
       " 'technical_28',\n",
       " 'technical_20',\n",
       " 'technical_21',\n",
       " 'technical_13',\n",
       " 'technical_19',\n",
       " 'technical_27',\n",
       " 'technical_36',\n",
       " 'technical_35',\n",
       " 'technical_40',\n",
       " 'fundamental_41',\n",
       " 'fundamental_53',\n",
       " 'fundamental_42',\n",
       " 'fundamental_0',\n",
       " 'fundamental_10',\n",
       " 'fundamental_62',\n",
       " 'derived_3',\n",
       " 'fundamental_7',\n",
       " 'fundamental_36',\n",
       " 'technical_7',\n",
       " 'fundamental_45',\n",
       " 'technical_17',\n",
       " 'fundamental_21',\n",
       " 'fundamental_18',\n",
       " 'technical_2',\n",
       " 'fundamental_33',\n",
       " 'technical_11',\n",
       " 'derived_1',\n",
       " 'fundamental_23',\n",
       " 'fundamental_48',\n",
       " 'fundamental_15',\n",
       " 'derived_0',\n",
       " 'fundamental_44',\n",
       " 'fundamental_30',\n",
       " 'fundamental_29',\n",
       " 'fundamental_59',\n",
       " 'fundamental_39',\n",
       " 'fundamental_34',\n",
       " 'fundamental_32',\n",
       " 'fundamental_57',\n",
       " 'fundamental_60']"
      ]
     },
     "execution_count": 52,
     "metadata": {},
     "output_type": "execute_result"
    }
   ],
   "source": [
    "columns"
   ]
  },
  {
   "cell_type": "code",
   "execution_count": 44,
   "metadata": {
    "collapsed": false
   },
   "outputs": [
    {
     "data": {
      "text/plain": [
       "['technical_33',\n",
       " 'technical_41',\n",
       " 'technical_24',\n",
       " 'technical_30',\n",
       " 'technical_3',\n",
       " 'technical_1',\n",
       " 'technical_31',\n",
       " 'technical_28',\n",
       " 'technical_5',\n",
       " 'technical_44',\n",
       " 'technical_25',\n",
       " 'technical_20',\n",
       " 'technical_13',\n",
       " 'technical_21',\n",
       " 'technical_19',\n",
       " 'technical_27',\n",
       " 'technical_36',\n",
       " 'technical_35',\n",
       " 'fundamental_62',\n",
       " 'fundamental_41',\n",
       " 'fundamental_10',\n",
       " 'technical_40',\n",
       " 'technical_17',\n",
       " 'fundamental_42',\n",
       " 'fundamental_53',\n",
       " 'derived_3',\n",
       " 'fundamental_0',\n",
       " 'technical_2',\n",
       " 'fundamental_7',\n",
       " 'technical_7',\n",
       " 'fundamental_36',\n",
       " 'fundamental_18',\n",
       " 'fundamental_21',\n",
       " 'fundamental_33',\n",
       " 'technical_11',\n",
       " 'derived_1',\n",
       " 'fundamental_48',\n",
       " 'fundamental_30',\n",
       " 'fundamental_29',\n",
       " 'derived_0',\n",
       " 'fundamental_60',\n",
       " 'fundamental_23',\n",
       " 'fundamental_45',\n",
       " 'fundamental_44',\n",
       " 'fundamental_59',\n",
       " 'fundamental_15',\n",
       " 'fundamental_57',\n",
       " 'fundamental_34',\n",
       " 'fundamental_39',\n",
       " 'fundamental_32']"
      ]
     },
     "execution_count": 44,
     "metadata": {},
     "output_type": "execute_result"
    }
   ],
   "source": [
    "columns"
   ]
  },
  {
   "cell_type": "code",
   "execution_count": null,
   "metadata": {
    "collapsed": true
   },
   "outputs": [],
   "source": [
    "'technical_30', 'technical_20', 'fundamental_11', 'technical_19'"
   ]
  }
 ],
 "metadata": {
  "kernelspec": {
   "display_name": "Python 3",
   "language": "python",
   "name": "python3"
  },
  "language_info": {
   "codemirror_mode": {
    "name": "ipython",
    "version": 3
   },
   "file_extension": ".py",
   "mimetype": "text/x-python",
   "name": "python",
   "nbconvert_exporter": "python",
   "pygments_lexer": "ipython3",
   "version": "3.5.1"
  }
 },
 "nbformat": 4,
 "nbformat_minor": 0
}
