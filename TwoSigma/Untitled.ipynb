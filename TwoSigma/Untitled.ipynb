{
 "cells": [
  {
   "cell_type": "code",
   "execution_count": 1,
   "metadata": {
    "collapsed": false
   },
   "outputs": [
    {
     "name": "stderr",
     "output_type": "stream",
     "text": [
      "Using Theano backend.\n"
     ]
    }
   ],
   "source": [
    "import pandas as pd\n",
    "import numpy as np\n",
    "import math\n",
    "from keras.models import Sequential\n",
    "from keras.layers import Dense, Activation, Dropout, BatchNormalization, LSTM, GRU, TimeDistributedDense\n",
    "from sklearn.ensemble import RandomForestRegressor, ExtraTreesRegressor, GradientBoostingRegressor\n",
    "from keras import backend as K\n",
    "import kagglegym\n",
    "import time"
   ]
  },
  {
   "cell_type": "code",
   "execution_count": null,
   "metadata": {
    "collapsed": true
   },
   "outputs": [],
   "source": [
    "import kagglegym\n",
    "import numpy as np\n",
    "import pandas as pd\n",
    "from sklearn.ensemble import ExtraTreesRegressor\n",
    "from sklearn.linear_model import LinearRegression\n",
    "\n",
    "env = kagglegym.make()\n",
    "o = env.reset()\n",
    "excl = [env.ID_COL_NAME, env.SAMPLE_COL_NAME, env.TARGET_COL_NAME, env.TIME_COL_NAME]\n",
    "col = ['technical_30', 'technical_20', 'fundamental_11', 'technical_19']\n",
    "#[c for c in o.train.columns if c not in excl]\n",
    "\n",
    "train = pd.read_hdf('../input/train.h5')\n",
    "train = train[col]\n",
    "d_mean= train.median(axis=0)\n",
    "\n",
    "train = o.train[col]\n",
    "n = train.isnull().sum(axis=1)\n",
    "for c in train.columns:\n",
    "    train[c + '_nan_'] = pd.isnull(train[c])\n",
    "    d_mean[c + '_nan_'] = 0\n",
    "    \n",
    "train = train.fillna(d_mean)\n",
    "\n",
    "new_data = np.zeros((0, 8))\n",
    "for data_id in np.unique(o.train.id):\n",
    "    data_filter = (o.train.id == data_id)\n",
    "    data_filtered = data[data_filter].values\n",
    "    timestamps_filtered = o.train[data_filter].timestamp.values\n",
    "    data_prime = np.subtract(data_filtered, np.concatenate(([list(d_mean)], data_filtered.values), axis=0)[:-1])\n",
    "    new_data_for_id = pd.DataFrame(np.concatenate((data_filtered, data_prime), axis=1), columns=col + [column + '_prime_' for column in col])\n",
    "    new_data = np.concatenate((new_data, new_data_for_id), axis=0)\n",
    "\n",
    "columns = [train[c + '_past_'] for c in train.columns]\n",
    "\n",
    "train['znull'] = n\n",
    "n = []\n",
    "\n",
    "rfr = ExtraTreesRegressor(n_estimators=100, max_depth=4, n_jobs=-1, random_state=17, verbose=0)\n",
    "model1 = rfr.fit(train, o.train['y'])\n",
    "\n",
    "#https://www.kaggle.com/bguberfain/two-sigma-financial-modeling/univariate-model-with-clip/run/482189\n",
    "low_y_cut = -0.075\n",
    "high_y_cut = 0.075\n",
    "y_is_above_cut = (o.train.y > high_y_cut)\n",
    "y_is_below_cut = (o.train.y < low_y_cut)\n",
    "y_is_within_cut = (~y_is_above_cut & ~y_is_below_cut)\n",
    "model2 = LinearRegression(n_jobs=-1)\n",
    "model2.fit(np.array(o.train[col].fillna(d_mean).loc[y_is_within_cut, 'technical_20'].values).reshape(-1,1), o.train.loc[y_is_within_cut, 'y'])\n",
    "train = []\n",
    "\n",
    "#https://www.kaggle.com/ymcdull/two-sigma-financial-modeling/ridge-lb-0-0100659\n",
    "ymean_dict = dict(o.train.groupby([\"id\"])[\"y\"].median())\n",
    "\n",
    "while True:\n",
    "    test = o.features[col]\n",
    "    n = test.isnull().sum(axis=1)\n",
    "    for c in test.columns:\n",
    "        test[c + '_nan_'] = pd.isnull(test[c])\n",
    "    test = test.fillna(d_mean)\n",
    "    test['znull'] = n\n",
    "    pred = o.target\n",
    "    test2 = np.array(o.features[col].fillna(d_mean)['technical_20'].values).reshape(-1,1)\n",
    "    pred['y'] = (model1.predict(test).clip(low_y_cut, high_y_cut) * 0.65) + (model2.predict(test2).clip(low_y_cut, high_y_cut) * 0.35)\n",
    "    pred['y'] = pred.apply(lambda r: 0.95 * r['y'] + 0.05 * ymean_dict[r['id']] if r['id'] in ymean_dict else r['y'], axis = 1)\n",
    "    pred['y'] = [float(format(x, '.6f')) for x in pred['y']]\n",
    "    o, reward, done, info = env.step(pred)\n",
    "    if done:\n",
    "        print(\"el fin ...\", info[\"public_score\"])\n",
    "        break\n",
    "    if o.features.timestamp[0] % 100 == 0:\n",
    "        print(reward)"
   ]
  },
  {
   "cell_type": "code",
   "execution_count": null,
   "metadata": {
    "collapsed": true
   },
   "outputs": [],
   "source": []
  },
  {
   "cell_type": "code",
   "execution_count": null,
   "metadata": {
    "collapsed": true
   },
   "outputs": [],
   "source": []
  },
  {
   "cell_type": "code",
   "execution_count": null,
   "metadata": {
    "collapsed": true
   },
   "outputs": [],
   "source": []
  },
  {
   "cell_type": "code",
   "execution_count": null,
   "metadata": {
    "collapsed": true
   },
   "outputs": [],
   "source": []
  },
  {
   "cell_type": "code",
   "execution_count": null,
   "metadata": {
    "collapsed": true
   },
   "outputs": [],
   "source": []
  },
  {
   "cell_type": "code",
   "execution_count": null,
   "metadata": {
    "collapsed": true
   },
   "outputs": [],
   "source": []
  },
  {
   "cell_type": "code",
   "execution_count": null,
   "metadata": {
    "collapsed": true
   },
   "outputs": [],
   "source": []
  },
  {
   "cell_type": "code",
   "execution_count": 45,
   "metadata": {
    "collapsed": true
   },
   "outputs": [],
   "source": [
    "data = pd.read_hdf('data/train.h5')\n",
    "train_bounds = (0, 200)\n",
    "test_bounds = (200, 300) # 1812\n",
    "data = data[columns + ['id', 'timestamp', 'y']]"
   ]
  },
  {
   "cell_type": "code",
   "execution_count": 47,
   "metadata": {
    "collapsed": true
   },
   "outputs": [],
   "source": [
    "train = data[(data.id > train_bounds[0]) & (data.id < train_bounds[1])]\n",
    "test = data[(data.id > test_bounds[0]) & (data.id < test_bounds[1])]\n",
    "means = train.mean()\n",
    "train = train.fillna(means)\n",
    "test = test.fillna(means)\n",
    "data = None"
   ]
  },
  {
   "cell_type": "code",
   "execution_count": 62,
   "metadata": {
    "collapsed": false
   },
   "outputs": [],
   "source": [
    "model = Sequential()\n",
    "model.add(LSTM(128, batch_input_shape=[32, 32, 32], return_sequences=True, stateful=True))\n",
    "model.add(BatchNormalization())\n",
    "model.add(Activation('sigmoid'))\n",
    "model.add(Dropout(0.5))\n",
    "model.add(LSTM(128, return_sequences=False, stateful=True))\n",
    "model.add(BatchNormalization())\n",
    "model.add(Activation('sigmoid'))\n",
    "model.add(Dropout(0.5))\n",
    "model.add(Dense(1))\n",
    "model.add(Activation('linear'))\n",
    "\n",
    "model.compile(loss='mse',\n",
    "              optimizer='adam',\n",
    "              metrics=[])"
   ]
  },
  {
   "cell_type": "code",
   "execution_count": 69,
   "metadata": {
    "collapsed": false
   },
   "outputs": [
    {
     "data": {
      "text/plain": [
       "[(<TensorType(float32, matrix)>, DimShuffle{0,1}.0),\n",
       " (<TensorType(float32, matrix)>, DimShuffle{0,1}.0),\n",
       " (batchnormalization_4_running_mean, Elemwise{add,no_inplace}.0),\n",
       " (batchnormalization_4_running_std, Elemwise{add,no_inplace}.0),\n",
       " (<TensorType(float32, matrix)>, DimShuffle{0,1}.0),\n",
       " (<TensorType(float32, matrix)>, DimShuffle{0,1}.0),\n",
       " (batchnormalization_5_running_mean, Elemwise{add,no_inplace}.0),\n",
       " (batchnormalization_5_running_std, Elemwise{add,no_inplace}.0)]"
      ]
     },
     "execution_count": 69,
     "metadata": {},
     "output_type": "execute_result"
    }
   ],
   "source": [
    "model.updates"
   ]
  },
  {
   "cell_type": "code",
   "execution_count": 67,
   "metadata": {
    "collapsed": false
   },
   "outputs": [
    {
     "data": {
      "text/plain": [
       "[]"
      ]
     },
     "execution_count": 67,
     "metadata": {},
     "output_type": "execute_result"
    }
   ],
   "source": [
    "model.state_updates"
   ]
  },
  {
   "cell_type": "code",
   "execution_count": 66,
   "metadata": {
    "collapsed": false
   },
   "outputs": [],
   "source": [
    "model.reset_states()"
   ]
  },
  {
   "cell_type": "code",
   "execution_count": 68,
   "metadata": {
    "collapsed": false
   },
   "outputs": [
    {
     "data": {
      "text/plain": [
       "True"
      ]
     },
     "execution_count": 68,
     "metadata": {},
     "output_type": "execute_result"
    }
   ],
   "source": [
    "model.stateful"
   ]
  },
  {
   "cell_type": "code",
   "execution_count": 48,
   "metadata": {
    "collapsed": false
   },
   "outputs": [
    {
     "name": "stdout",
     "output_type": "stream",
     "text": [
      "CPU times: user 10min 41s, sys: 5.05 s, total: 10min 46s\n",
      "Wall time: 11min 11s\n"
     ]
    }
   ],
   "source": [
    "%%time\n",
    "clf = RandomForestRegressor()\n",
    "clf.fit(train.drop(['id', 'timestamp', 'y'], axis=1).values, train['y'].values)"
   ]
  },
  {
   "cell_type": "code",
   "execution_count": 49,
   "metadata": {
    "collapsed": false
   },
   "outputs": [
    {
     "data": {
      "text/plain": [
       "-0.27078327175892936"
      ]
     },
     "execution_count": 49,
     "metadata": {},
     "output_type": "execute_result"
    }
   ],
   "source": [
    "clf.score(test.drop(['id', 'timestamp', 'y'], axis=1).values, test['y'].values)"
   ]
  },
  {
   "cell_type": "code",
   "execution_count": 56,
   "metadata": {
    "collapsed": true
   },
   "outputs": [],
   "source": [
    "from sklearn.metrics import r2_score\n",
    "def r_score(y_true, y_pred, sample_weight=None, multioutput=None):\n",
    "    r2 = r2_score(y_true, y_pred, sample_weight=sample_weight,\n",
    "                  multioutput=multioutput)\n",
    "    r = (np.sign(r2)*np.sqrt(np.abs(r2)))\n",
    "    if r <= -1:\n",
    "        return -1\n",
    "    else:\n",
    "        return r"
   ]
  },
  {
   "cell_type": "code",
   "execution_count": 57,
   "metadata": {
    "collapsed": false
   },
   "outputs": [
    {
     "data": {
      "text/plain": [
       "-0.52036840003878926"
      ]
     },
     "execution_count": 57,
     "metadata": {},
     "output_type": "execute_result"
    }
   ],
   "source": [
    "r_score(test['y'].values, clf.predict(test.drop(['id', 'timestamp', 'y'], axis=1).values))"
   ]
  },
  {
   "cell_type": "code",
   "execution_count": 50,
   "metadata": {
    "collapsed": false
   },
   "outputs": [],
   "source": [
    "a = [(name, importance) for name, importance in zip(train.columns.drop(['id', 'timestamp', 'y']), clf.feature_importances_)]"
   ]
  },
  {
   "cell_type": "code",
   "execution_count": 51,
   "metadata": {
    "collapsed": false
   },
   "outputs": [],
   "source": [
    "columns = [name for name, importance in sorted(a, key=lambda row: -row[1])[:50]]"
   ]
  },
  {
   "cell_type": "code",
   "execution_count": 52,
   "metadata": {
    "collapsed": false
   },
   "outputs": [
    {
     "data": {
      "text/plain": [
       "['technical_33',\n",
       " 'technical_41',\n",
       " 'technical_24',\n",
       " 'technical_3',\n",
       " 'technical_1',\n",
       " 'technical_30',\n",
       " 'technical_5',\n",
       " 'technical_25',\n",
       " 'technical_31',\n",
       " 'technical_44',\n",
       " 'technical_28',\n",
       " 'technical_20',\n",
       " 'technical_21',\n",
       " 'technical_13',\n",
       " 'technical_19',\n",
       " 'technical_27',\n",
       " 'technical_36',\n",
       " 'technical_35',\n",
       " 'technical_40',\n",
       " 'fundamental_41',\n",
       " 'fundamental_53',\n",
       " 'fundamental_42',\n",
       " 'fundamental_0',\n",
       " 'fundamental_10',\n",
       " 'fundamental_62',\n",
       " 'derived_3',\n",
       " 'fundamental_7',\n",
       " 'fundamental_36',\n",
       " 'technical_7',\n",
       " 'fundamental_45',\n",
       " 'technical_17',\n",
       " 'fundamental_21',\n",
       " 'fundamental_18',\n",
       " 'technical_2',\n",
       " 'fundamental_33',\n",
       " 'technical_11',\n",
       " 'derived_1',\n",
       " 'fundamental_23',\n",
       " 'fundamental_48',\n",
       " 'fundamental_15',\n",
       " 'derived_0',\n",
       " 'fundamental_44',\n",
       " 'fundamental_30',\n",
       " 'fundamental_29',\n",
       " 'fundamental_59',\n",
       " 'fundamental_39',\n",
       " 'fundamental_34',\n",
       " 'fundamental_32',\n",
       " 'fundamental_57',\n",
       " 'fundamental_60']"
      ]
     },
     "execution_count": 52,
     "metadata": {},
     "output_type": "execute_result"
    }
   ],
   "source": [
    "columns"
   ]
  },
  {
   "cell_type": "code",
   "execution_count": 44,
   "metadata": {
    "collapsed": false
   },
   "outputs": [
    {
     "data": {
      "text/plain": [
       "['technical_33',\n",
       " 'technical_41',\n",
       " 'technical_24',\n",
       " 'technical_30',\n",
       " 'technical_3',\n",
       " 'technical_1',\n",
       " 'technical_31',\n",
       " 'technical_28',\n",
       " 'technical_5',\n",
       " 'technical_44',\n",
       " 'technical_25',\n",
       " 'technical_20',\n",
       " 'technical_13',\n",
       " 'technical_21',\n",
       " 'technical_19',\n",
       " 'technical_27',\n",
       " 'technical_36',\n",
       " 'technical_35',\n",
       " 'fundamental_62',\n",
       " 'fundamental_41',\n",
       " 'fundamental_10',\n",
       " 'technical_40',\n",
       " 'technical_17',\n",
       " 'fundamental_42',\n",
       " 'fundamental_53',\n",
       " 'derived_3',\n",
       " 'fundamental_0',\n",
       " 'technical_2',\n",
       " 'fundamental_7',\n",
       " 'technical_7',\n",
       " 'fundamental_36',\n",
       " 'fundamental_18',\n",
       " 'fundamental_21',\n",
       " 'fundamental_33',\n",
       " 'technical_11',\n",
       " 'derived_1',\n",
       " 'fundamental_48',\n",
       " 'fundamental_30',\n",
       " 'fundamental_29',\n",
       " 'derived_0',\n",
       " 'fundamental_60',\n",
       " 'fundamental_23',\n",
       " 'fundamental_45',\n",
       " 'fundamental_44',\n",
       " 'fundamental_59',\n",
       " 'fundamental_15',\n",
       " 'fundamental_57',\n",
       " 'fundamental_34',\n",
       " 'fundamental_39',\n",
       " 'fundamental_32']"
      ]
     },
     "execution_count": 44,
     "metadata": {},
     "output_type": "execute_result"
    }
   ],
   "source": [
    "columns"
   ]
  },
  {
   "cell_type": "code",
   "execution_count": null,
   "metadata": {
    "collapsed": true
   },
   "outputs": [],
   "source": [
    "'technical_30', 'technical_20', 'fundamental_11', 'technical_19'"
   ]
  }
 ],
 "metadata": {
  "kernelspec": {
   "display_name": "Python 3",
   "language": "python",
   "name": "python3"
  },
  "language_info": {
   "codemirror_mode": {
    "name": "ipython",
    "version": 3
   },
   "file_extension": ".py",
   "mimetype": "text/x-python",
   "name": "python",
   "nbconvert_exporter": "python",
   "pygments_lexer": "ipython3",
   "version": "3.5.1"
  }
 },
 "nbformat": 4,
 "nbformat_minor": 0
}
