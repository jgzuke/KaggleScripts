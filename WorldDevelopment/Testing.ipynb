{
 "cells": [
  {
   "cell_type": "code",
   "execution_count": 168,
   "metadata": {
    "collapsed": false
   },
   "outputs": [],
   "source": [
    "%matplotlib inline\n",
    "import pandas as pd\n",
    "import numpy as np\n",
    "columns=['CountryCode', 'IndicatorCode', 'Year', 'Value']\n",
    "data = pd.read_csv(\"data/indicators.csv\", usecols=(columns))# nrows=1048576)"
   ]
  },
  {
   "cell_type": "code",
   "execution_count": 169,
   "metadata": {
    "collapsed": false
   },
   "outputs": [
    {
     "data": {
      "text/html": [
       "<div>\n",
       "<table border=\"1\" class=\"dataframe\">\n",
       "  <thead>\n",
       "    <tr style=\"text-align: right;\">\n",
       "      <th></th>\n",
       "      <th>CountryCode</th>\n",
       "      <th>IndicatorCode</th>\n",
       "      <th>Year</th>\n",
       "      <th>Value</th>\n",
       "    </tr>\n",
       "  </thead>\n",
       "  <tbody>\n",
       "    <tr>\n",
       "      <th>0</th>\n",
       "      <td>ARB</td>\n",
       "      <td>SP.ADO.TFRT</td>\n",
       "      <td>1960</td>\n",
       "      <td>1.335609e+02</td>\n",
       "    </tr>\n",
       "    <tr>\n",
       "      <th>1</th>\n",
       "      <td>ARB</td>\n",
       "      <td>SP.POP.DPND</td>\n",
       "      <td>1960</td>\n",
       "      <td>8.779760e+01</td>\n",
       "    </tr>\n",
       "    <tr>\n",
       "      <th>2</th>\n",
       "      <td>ARB</td>\n",
       "      <td>SP.POP.DPND.OL</td>\n",
       "      <td>1960</td>\n",
       "      <td>6.634579e+00</td>\n",
       "    </tr>\n",
       "    <tr>\n",
       "      <th>3</th>\n",
       "      <td>ARB</td>\n",
       "      <td>SP.POP.DPND.YG</td>\n",
       "      <td>1960</td>\n",
       "      <td>8.102333e+01</td>\n",
       "    </tr>\n",
       "    <tr>\n",
       "      <th>4</th>\n",
       "      <td>ARB</td>\n",
       "      <td>MS.MIL.XPRT.KD</td>\n",
       "      <td>1960</td>\n",
       "      <td>3.000000e+06</td>\n",
       "    </tr>\n",
       "  </tbody>\n",
       "</table>\n",
       "</div>"
      ],
      "text/plain": [
       "  CountryCode   IndicatorCode  Year         Value\n",
       "0         ARB     SP.ADO.TFRT  1960  1.335609e+02\n",
       "1         ARB     SP.POP.DPND  1960  8.779760e+01\n",
       "2         ARB  SP.POP.DPND.OL  1960  6.634579e+00\n",
       "3         ARB  SP.POP.DPND.YG  1960  8.102333e+01\n",
       "4         ARB  MS.MIL.XPRT.KD  1960  3.000000e+06"
      ]
     },
     "execution_count": 169,
     "metadata": {},
     "output_type": "execute_result"
    }
   ],
   "source": [
    "data.head()"
   ]
  },
  {
   "cell_type": "code",
   "execution_count": 170,
   "metadata": {
    "collapsed": true
   },
   "outputs": [],
   "source": [
    "columns=['CountryCode']\n",
    "countries = pd.read_csv(\"data/Country.csv\", usecols=(columns))"
   ]
  },
  {
   "cell_type": "code",
   "execution_count": 171,
   "metadata": {
    "collapsed": false
   },
   "outputs": [
    {
     "data": {
      "text/html": [
       "<div>\n",
       "<table border=\"1\" class=\"dataframe\">\n",
       "  <thead>\n",
       "    <tr style=\"text-align: right;\">\n",
       "      <th></th>\n",
       "      <th>CountryCode</th>\n",
       "    </tr>\n",
       "  </thead>\n",
       "  <tbody>\n",
       "    <tr>\n",
       "      <th>0</th>\n",
       "      <td>AFG</td>\n",
       "    </tr>\n",
       "    <tr>\n",
       "      <th>1</th>\n",
       "      <td>ALB</td>\n",
       "    </tr>\n",
       "    <tr>\n",
       "      <th>2</th>\n",
       "      <td>DZA</td>\n",
       "    </tr>\n",
       "    <tr>\n",
       "      <th>3</th>\n",
       "      <td>ASM</td>\n",
       "    </tr>\n",
       "    <tr>\n",
       "      <th>4</th>\n",
       "      <td>ADO</td>\n",
       "    </tr>\n",
       "  </tbody>\n",
       "</table>\n",
       "</div>"
      ],
      "text/plain": [
       "  CountryCode\n",
       "0         AFG\n",
       "1         ALB\n",
       "2         DZA\n",
       "3         ASM\n",
       "4         ADO"
      ]
     },
     "execution_count": 171,
     "metadata": {},
     "output_type": "execute_result"
    }
   ],
   "source": [
    "countries.head()"
   ]
  },
  {
   "cell_type": "code",
   "execution_count": 172,
   "metadata": {
    "collapsed": true
   },
   "outputs": [],
   "source": [
    "# find some measures that seem important and are often present, filter countries with all those intact, train network"
   ]
  },
  {
   "cell_type": "code",
   "execution_count": 173,
   "metadata": {
    "collapsed": true
   },
   "outputs": [],
   "source": [
    "columns=['LongDefinition', 'SeriesCode']\n",
    "series = pd.read_csv(\"data/Series.csv\", usecols=(columns))"
   ]
  },
  {
   "cell_type": "code",
   "execution_count": 174,
   "metadata": {
    "collapsed": false
   },
   "outputs": [
    {
     "data": {
      "text/html": [
       "<div>\n",
       "<table border=\"1\" class=\"dataframe\">\n",
       "  <thead>\n",
       "    <tr style=\"text-align: right;\">\n",
       "      <th></th>\n",
       "      <th>SeriesCode</th>\n",
       "      <th>LongDefinition</th>\n",
       "    </tr>\n",
       "  </thead>\n",
       "  <tbody>\n",
       "    <tr>\n",
       "      <th>0</th>\n",
       "      <td>BN.KLT.DINV.CD</td>\n",
       "      <td>Foreign direct investment are the net inflows ...</td>\n",
       "    </tr>\n",
       "    <tr>\n",
       "      <th>1</th>\n",
       "      <td>BX.KLT.DINV.WD.GD.ZS</td>\n",
       "      <td>Foreign direct investment are the net inflows ...</td>\n",
       "    </tr>\n",
       "    <tr>\n",
       "      <th>2</th>\n",
       "      <td>BX.KLT.DINV.CD.WD</td>\n",
       "      <td>Foreign direct investment refers to direct inv...</td>\n",
       "    </tr>\n",
       "    <tr>\n",
       "      <th>3</th>\n",
       "      <td>BM.KLT.DINV.GD.ZS</td>\n",
       "      <td>Foreign direct investment are the net inflows ...</td>\n",
       "    </tr>\n",
       "    <tr>\n",
       "      <th>4</th>\n",
       "      <td>BN.TRF.KOGT.CD</td>\n",
       "      <td>Net capital account records acquisitions and d...</td>\n",
       "    </tr>\n",
       "  </tbody>\n",
       "</table>\n",
       "</div>"
      ],
      "text/plain": [
       "             SeriesCode                                     LongDefinition\n",
       "0        BN.KLT.DINV.CD  Foreign direct investment are the net inflows ...\n",
       "1  BX.KLT.DINV.WD.GD.ZS  Foreign direct investment are the net inflows ...\n",
       "2     BX.KLT.DINV.CD.WD  Foreign direct investment refers to direct inv...\n",
       "3     BM.KLT.DINV.GD.ZS  Foreign direct investment are the net inflows ...\n",
       "4        BN.TRF.KOGT.CD  Net capital account records acquisitions and d..."
      ]
     },
     "execution_count": 174,
     "metadata": {},
     "output_type": "execute_result"
    }
   ],
   "source": [
    "series.head()"
   ]
  },
  {
   "cell_type": "code",
   "execution_count": 175,
   "metadata": {
    "collapsed": false
   },
   "outputs": [
    {
     "name": "stdout",
     "output_type": "stream",
     "text": [
      "247\n",
      "1345\n"
     ]
    }
   ],
   "source": [
    "print (len(countries))\n",
    "print (len(series))"
   ]
  },
  {
   "cell_type": "code",
   "execution_count": 236,
   "metadata": {
    "collapsed": false
   },
   "outputs": [],
   "source": [
    "#isUsedSeries = [(name in seriesToUse) for name in series.SeriesCode.values]\n",
    "#filteredSeries = series[isUsedSeries]\n",
    "#filteredSeriesNames = filteredSeries.SeriesCode.values\n",
    "\n",
    "#useableData = [(name in filteredSeriesNames) for name in data.IndicatorCode.values]\n",
    "#filteredData = data[useableData]\n",
    "\n",
    "a = seriesCounts.to_dict()\n",
    "useableData = [(a.get(name, 0) > 10000) for name in data.IndicatorCode.values]\n",
    "filteredData = data[useableData]"
   ]
  },
  {
   "cell_type": "code",
   "execution_count": 237,
   "metadata": {
    "collapsed": false
   },
   "outputs": [],
   "source": [
    "useableSeries = [(a.get(name, 0) > 10000) for name in series.SeriesCode.values]\n",
    "filteredSeries = series[useableSeries]"
   ]
  },
  {
   "cell_type": "code",
   "execution_count": 238,
   "metadata": {
    "collapsed": false
   },
   "outputs": [
    {
     "name": "stdout",
     "output_type": "stream",
     "text": [
      "494277\n",
      "5656458\n",
      "40\n",
      "1345\n"
     ]
    }
   ],
   "source": [
    "print(len(filteredData))\n",
    "print(len(data))\n",
    "print(len(filteredSeries))\n",
    "print(len(series))"
   ]
  },
  {
   "cell_type": "code",
   "execution_count": 239,
   "metadata": {
    "collapsed": false
   },
   "outputs": [
    {
     "name": "stderr",
     "output_type": "stream",
     "text": [
      "/Users/jgzuke/anaconda3/lib/python3.5/site-packages/ipykernel/__main__.py:5: UserWarning: Boolean Series key will be reindexed to match DataFrame index.\n"
     ]
    },
    {
     "data": {
      "text/plain": [
       "['AFG',\n",
       " 'ALB',\n",
       " 'DZA',\n",
       " 'AGO',\n",
       " 'ATG',\n",
       " 'ARB',\n",
       " 'ARG',\n",
       " 'ARM',\n",
       " 'AUS',\n",
       " 'AUT',\n",
       " 'AZE',\n",
       " 'BHR',\n",
       " 'BGD',\n",
       " 'BRB',\n",
       " 'BLR',\n",
       " 'BEL',\n",
       " 'BLZ',\n",
       " 'BEN',\n",
       " 'BTN',\n",
       " 'BOL',\n",
       " 'BIH',\n",
       " 'BWA',\n",
       " 'BRA',\n",
       " 'BRN',\n",
       " 'BGR',\n",
       " 'BFA',\n",
       " 'BDI',\n",
       " 'CPV',\n",
       " 'KHM',\n",
       " 'CMR',\n",
       " 'CAN',\n",
       " 'CSS',\n",
       " 'CAF',\n",
       " 'CEB',\n",
       " 'TCD',\n",
       " 'CHL',\n",
       " 'CHN',\n",
       " 'COL',\n",
       " 'COM',\n",
       " 'COG',\n",
       " 'CRI',\n",
       " 'CIV',\n",
       " 'HRV',\n",
       " 'CUB',\n",
       " 'CYP',\n",
       " 'CZE',\n",
       " 'PRK',\n",
       " 'ZAR',\n",
       " 'DNK',\n",
       " 'DJI',\n",
       " 'DOM',\n",
       " 'EAS',\n",
       " 'EAP',\n",
       " 'ECU',\n",
       " 'EGY',\n",
       " 'SLV',\n",
       " 'GNQ',\n",
       " 'ERI',\n",
       " 'EST',\n",
       " 'ETH',\n",
       " 'EMU',\n",
       " 'ECS',\n",
       " 'ECA',\n",
       " 'EUU',\n",
       " 'FJI',\n",
       " 'FIN',\n",
       " 'FCS',\n",
       " 'FRA',\n",
       " 'GAB',\n",
       " 'GEO',\n",
       " 'DEU',\n",
       " 'GHA',\n",
       " 'GRC',\n",
       " 'GRD',\n",
       " 'GTM',\n",
       " 'GIN',\n",
       " 'GNB',\n",
       " 'GUY',\n",
       " 'HTI',\n",
       " 'HPC',\n",
       " 'HIC',\n",
       " 'NOC',\n",
       " 'OEC',\n",
       " 'HND',\n",
       " 'HUN',\n",
       " 'ISL',\n",
       " 'IND',\n",
       " 'IDN',\n",
       " 'IRN',\n",
       " 'IRQ',\n",
       " 'IRL',\n",
       " 'ISR',\n",
       " 'ITA',\n",
       " 'JAM',\n",
       " 'JPN',\n",
       " 'JOR',\n",
       " 'KAZ',\n",
       " 'KEN',\n",
       " 'KIR',\n",
       " 'KOR',\n",
       " 'KWT',\n",
       " 'KGZ',\n",
       " 'LAO',\n",
       " 'LCN',\n",
       " 'LAC',\n",
       " 'LVA',\n",
       " 'LDC',\n",
       " 'LBN',\n",
       " 'LSO',\n",
       " 'LBR',\n",
       " 'LBY',\n",
       " 'LTU',\n",
       " 'LMY',\n",
       " 'LIC',\n",
       " 'LMC',\n",
       " 'LUX',\n",
       " 'MKD',\n",
       " 'MDG',\n",
       " 'MWI',\n",
       " 'MYS',\n",
       " 'MDV',\n",
       " 'MLI',\n",
       " 'MLT',\n",
       " 'MRT',\n",
       " 'MUS',\n",
       " 'MEX',\n",
       " 'FSM',\n",
       " 'MEA',\n",
       " 'MNA',\n",
       " 'MIC',\n",
       " 'MDA',\n",
       " 'MNG',\n",
       " 'MNE',\n",
       " 'MAR',\n",
       " 'MOZ',\n",
       " 'MMR',\n",
       " 'NAM',\n",
       " 'NPL',\n",
       " 'NLD',\n",
       " 'NZL',\n",
       " 'NIC',\n",
       " 'NER',\n",
       " 'NGA',\n",
       " 'NAC',\n",
       " 'NOR',\n",
       " 'OED',\n",
       " 'OMN',\n",
       " 'OSS',\n",
       " 'PSS',\n",
       " 'PAK',\n",
       " 'PAN',\n",
       " 'PNG',\n",
       " 'PRY',\n",
       " 'PER',\n",
       " 'PHL',\n",
       " 'POL',\n",
       " 'PRT',\n",
       " 'QAT',\n",
       " 'ROM',\n",
       " 'RUS',\n",
       " 'RWA',\n",
       " 'WSM',\n",
       " 'STP',\n",
       " 'SAU',\n",
       " 'SEN',\n",
       " 'SRB',\n",
       " 'SYC',\n",
       " 'SLE',\n",
       " 'SVK',\n",
       " 'SVN',\n",
       " 'SST',\n",
       " 'SLB',\n",
       " 'ZAF',\n",
       " 'SAS',\n",
       " 'ESP',\n",
       " 'LKA',\n",
       " 'LCA',\n",
       " 'VCT',\n",
       " 'SSF',\n",
       " 'SSA',\n",
       " 'SDN',\n",
       " 'SUR',\n",
       " 'SWZ',\n",
       " 'SWE',\n",
       " 'CHE',\n",
       " 'SYR',\n",
       " 'TJK',\n",
       " 'TZA',\n",
       " 'THA',\n",
       " 'BHS',\n",
       " 'GMB',\n",
       " 'TMP',\n",
       " 'TGO',\n",
       " 'TON',\n",
       " 'TTO',\n",
       " 'TUN',\n",
       " 'TUR',\n",
       " 'TKM',\n",
       " 'UGA',\n",
       " 'UKR',\n",
       " 'ARE',\n",
       " 'GBR',\n",
       " 'USA',\n",
       " 'UMC',\n",
       " 'URY',\n",
       " 'UZB',\n",
       " 'VUT',\n",
       " 'VEN',\n",
       " 'VNM',\n",
       " 'WLD',\n",
       " 'YEM',\n",
       " 'ZMB',\n",
       " 'ZWE']"
      ]
     },
     "execution_count": 239,
     "metadata": {},
     "output_type": "execute_result"
    }
   ],
   "source": [
    "# a = data[(data.CountryCode == 'ARB') & ((data.IndicatorCode == 'SP.ADO.TFRT') | (data.IndicatorCode == 'SP.POP.DPND'))]\n",
    "useableCountries = []\n",
    "for country in countries.CountryCode.values:\n",
    "    useable = True\n",
    "    filterByCountry = filteredData[(data.CountryCode == country)]\n",
    "    for seriesName in filteredSeries.SeriesCode.values:\n",
    "        if len(filterByCountry[(filterByCountry.IndicatorCode == seriesName)]) == 0:\n",
    "            useable = False;\n",
    "            break;\n",
    "    if useable:\n",
    "        useableCountries.append(country)"
   ]
  },
  {
   "cell_type": "code",
   "execution_count": 241,
   "metadata": {
    "collapsed": false
   },
   "outputs": [
    {
     "data": {
      "text/plain": [
       "213"
      ]
     },
     "execution_count": 241,
     "metadata": {},
     "output_type": "execute_result"
    }
   ],
   "source": [
    "len(useableCountries)"
   ]
  },
  {
   "cell_type": "code",
   "execution_count": 242,
   "metadata": {
    "collapsed": false
   },
   "outputs": [],
   "source": [
    "goodData = [(country in useableCountries) for country in filteredData.CountryCode.values]\n",
    "useableData = filteredData[goodData]"
   ]
  },
  {
   "cell_type": "code",
   "execution_count": 245,
   "metadata": {
    "collapsed": false
   },
   "outputs": [
    {
     "name": "stdout",
     "output_type": "stream",
     "text": [
      "450951\n"
     ]
    },
    {
     "data": {
      "text/html": [
       "<div>\n",
       "<table border=\"1\" class=\"dataframe\">\n",
       "  <thead>\n",
       "    <tr style=\"text-align: right;\">\n",
       "      <th></th>\n",
       "      <th>CountryCode</th>\n",
       "      <th>IndicatorCode</th>\n",
       "      <th>Year</th>\n",
       "      <th>Value</th>\n",
       "    </tr>\n",
       "  </thead>\n",
       "  <tbody>\n",
       "    <tr>\n",
       "      <th>0</th>\n",
       "      <td>ARB</td>\n",
       "      <td>SP.ADO.TFRT</td>\n",
       "      <td>1960</td>\n",
       "      <td>133.560907</td>\n",
       "    </tr>\n",
       "    <tr>\n",
       "      <th>1</th>\n",
       "      <td>ARB</td>\n",
       "      <td>SP.POP.DPND</td>\n",
       "      <td>1960</td>\n",
       "      <td>87.797601</td>\n",
       "    </tr>\n",
       "    <tr>\n",
       "      <th>2</th>\n",
       "      <td>ARB</td>\n",
       "      <td>SP.POP.DPND.OL</td>\n",
       "      <td>1960</td>\n",
       "      <td>6.634579</td>\n",
       "    </tr>\n",
       "    <tr>\n",
       "      <th>3</th>\n",
       "      <td>ARB</td>\n",
       "      <td>SP.POP.DPND.YG</td>\n",
       "      <td>1960</td>\n",
       "      <td>81.023330</td>\n",
       "    </tr>\n",
       "    <tr>\n",
       "      <th>6</th>\n",
       "      <td>ARB</td>\n",
       "      <td>SP.DYN.CBRT.IN</td>\n",
       "      <td>1960</td>\n",
       "      <td>47.697888</td>\n",
       "    </tr>\n",
       "  </tbody>\n",
       "</table>\n",
       "</div>"
      ],
      "text/plain": [
       "  CountryCode   IndicatorCode  Year       Value\n",
       "0         ARB     SP.ADO.TFRT  1960  133.560907\n",
       "1         ARB     SP.POP.DPND  1960   87.797601\n",
       "2         ARB  SP.POP.DPND.OL  1960    6.634579\n",
       "3         ARB  SP.POP.DPND.YG  1960   81.023330\n",
       "6         ARB  SP.DYN.CBRT.IN  1960   47.697888"
      ]
     },
     "execution_count": 245,
     "metadata": {},
     "output_type": "execute_result"
    }
   ],
   "source": [
    "print(len(useableData))\n",
    "useableData.head()"
   ]
  },
  {
   "cell_type": "code",
   "execution_count": null,
   "metadata": {
    "collapsed": false
   },
   "outputs": [],
   "source": [
    "# Filtered Data reasonably above, need to:\n",
    "# Seperate into few year blocks, with next year values as results to guess\n",
    "# Train a few different models to guess next years values"
   ]
  },
  {
   "cell_type": "code",
   "execution_count": null,
   "metadata": {
    "collapsed": false
   },
   "outputs": [],
   "source": [
    "trainingValues = []\n",
    "trainingResults = []\n",
    "for country in ['ARB']#useableCountries:\n",
    "    countryData = filteredData[(filteredData.CountryCode == country)]\n",
    "    for startYear in xrange(1960, 2000):\n",
    "        row = []\n",
    "        for additionalYear in xrange(0, 5):\n",
    "            yearData = filteredData[(filteredData.Year == startYear + additionalYear)]\n",
    "            for series in ['SP.ADO.TFRT', 'SP.POP.DPND']#filteredSeries:\n",
    "                value = filteredData[(filteredData.IndicatorCode == series)].Value.values[0]\n",
    "                row.append(value)\n",
    "        \n",
    "                \n",
    "        trainingValues.append(row)\n",
    "        trainingResults.append(row)\n",
    "    \n",
    "trainingData = DataFrame(trainingValues)\n",
    "    "
   ]
  },
  {
   "cell_type": "code",
   "execution_count": 246,
   "metadata": {
    "collapsed": false
   },
   "outputs": [
    {
     "data": {
      "text/plain": [
       "array([['ARB', 'SP.ADO.TFRT', 1960, 133.56090740552298],\n",
       "       ['ARB', 'SP.POP.DPND', 1960, 87.7976011532547],\n",
       "       ['ARB', 'SP.POP.DPND.OL', 1960, 6.634579191565161],\n",
       "       ..., \n",
       "       ['ZMB', 'SH.DYN.MORT', 2015, 64.0],\n",
       "       ['ZWE', 'SP.DYN.IMRT.IN', 2015, 46.6],\n",
       "       ['ZWE', 'SH.DYN.MORT', 2015, 70.7]], dtype=object)"
      ]
     },
     "execution_count": 246,
     "metadata": {},
     "output_type": "execute_result"
    }
   ],
   "source": [
    "useableData.values"
   ]
  },
  {
   "cell_type": "code",
   "execution_count": 252,
   "metadata": {
    "collapsed": false
   },
   "outputs": [],
   "source": [
    "a = useableData[(useableData.CountryCode == 'ARB') & (useableData.IndicatorCode == 'SP.ADO.TFRT') & (useableData.Year == 1961)]"
   ]
  },
  {
   "cell_type": "code",
   "execution_count": 257,
   "metadata": {
    "collapsed": false
   },
   "outputs": [
    {
     "data": {
      "text/plain": [
       "134.16441913597902"
      ]
     },
     "execution_count": 257,
     "metadata": {},
     "output_type": "execute_result"
    }
   ],
   "source": [
    "a.Value.values[0]"
   ]
  },
  {
   "cell_type": "code",
   "execution_count": null,
   "metadata": {
    "collapsed": true
   },
   "outputs": [],
   "source": []
  }
 ],
 "metadata": {
  "kernelspec": {
   "display_name": "Python 3",
   "language": "python",
   "name": "python3"
  },
  "language_info": {
   "codemirror_mode": {
    "name": "ipython",
    "version": 3
   },
   "file_extension": ".py",
   "mimetype": "text/x-python",
   "name": "python",
   "nbconvert_exporter": "python",
   "pygments_lexer": "ipython3",
   "version": "3.5.1"
  }
 },
 "nbformat": 4,
 "nbformat_minor": 0
}
