{
 "cells": [
  {
   "cell_type": "code",
   "execution_count": 53,
   "metadata": {
    "collapsed": false
   },
   "outputs": [],
   "source": [
    "%matplotlib inline\n",
    "import pandas as pd\n",
    "import numpy as np\n",
    "columns=['CountryCode', 'IndicatorCode', 'Year', 'Value']\n",
    "data = pd.read_csv(\"data/indicators.csv\", usecols=(columns))# nrows=1048576)"
   ]
  },
  {
   "cell_type": "code",
   "execution_count": 54,
   "metadata": {
    "collapsed": false
   },
   "outputs": [
    {
     "data": {
      "text/html": [
       "<div>\n",
       "<table border=\"1\" class=\"dataframe\">\n",
       "  <thead>\n",
       "    <tr style=\"text-align: right;\">\n",
       "      <th></th>\n",
       "      <th>CountryCode</th>\n",
       "      <th>IndicatorCode</th>\n",
       "      <th>Year</th>\n",
       "      <th>Value</th>\n",
       "    </tr>\n",
       "  </thead>\n",
       "  <tbody>\n",
       "    <tr>\n",
       "      <th>0</th>\n",
       "      <td>ARB</td>\n",
       "      <td>SP.ADO.TFRT</td>\n",
       "      <td>1960</td>\n",
       "      <td>1.335609e+02</td>\n",
       "    </tr>\n",
       "    <tr>\n",
       "      <th>1</th>\n",
       "      <td>ARB</td>\n",
       "      <td>SP.POP.DPND</td>\n",
       "      <td>1960</td>\n",
       "      <td>8.779760e+01</td>\n",
       "    </tr>\n",
       "    <tr>\n",
       "      <th>2</th>\n",
       "      <td>ARB</td>\n",
       "      <td>SP.POP.DPND.OL</td>\n",
       "      <td>1960</td>\n",
       "      <td>6.634579e+00</td>\n",
       "    </tr>\n",
       "    <tr>\n",
       "      <th>3</th>\n",
       "      <td>ARB</td>\n",
       "      <td>SP.POP.DPND.YG</td>\n",
       "      <td>1960</td>\n",
       "      <td>8.102333e+01</td>\n",
       "    </tr>\n",
       "    <tr>\n",
       "      <th>4</th>\n",
       "      <td>ARB</td>\n",
       "      <td>MS.MIL.XPRT.KD</td>\n",
       "      <td>1960</td>\n",
       "      <td>3.000000e+06</td>\n",
       "    </tr>\n",
       "  </tbody>\n",
       "</table>\n",
       "</div>"
      ],
      "text/plain": [
       "  CountryCode   IndicatorCode  Year         Value\n",
       "0         ARB     SP.ADO.TFRT  1960  1.335609e+02\n",
       "1         ARB     SP.POP.DPND  1960  8.779760e+01\n",
       "2         ARB  SP.POP.DPND.OL  1960  6.634579e+00\n",
       "3         ARB  SP.POP.DPND.YG  1960  8.102333e+01\n",
       "4         ARB  MS.MIL.XPRT.KD  1960  3.000000e+06"
      ]
     },
     "execution_count": 54,
     "metadata": {},
     "output_type": "execute_result"
    }
   ],
   "source": [
    "data.head()"
   ]
  },
  {
   "cell_type": "code",
   "execution_count": 55,
   "metadata": {
    "collapsed": true
   },
   "outputs": [],
   "source": [
    "columns=['CountryCode']\n",
    "countries = pd.read_csv(\"data/Country.csv\", usecols=(columns))"
   ]
  },
  {
   "cell_type": "code",
   "execution_count": 56,
   "metadata": {
    "collapsed": false
   },
   "outputs": [
    {
     "data": {
      "text/html": [
       "<div>\n",
       "<table border=\"1\" class=\"dataframe\">\n",
       "  <thead>\n",
       "    <tr style=\"text-align: right;\">\n",
       "      <th></th>\n",
       "      <th>CountryCode</th>\n",
       "    </tr>\n",
       "  </thead>\n",
       "  <tbody>\n",
       "    <tr>\n",
       "      <th>0</th>\n",
       "      <td>AFG</td>\n",
       "    </tr>\n",
       "    <tr>\n",
       "      <th>1</th>\n",
       "      <td>ALB</td>\n",
       "    </tr>\n",
       "    <tr>\n",
       "      <th>2</th>\n",
       "      <td>DZA</td>\n",
       "    </tr>\n",
       "    <tr>\n",
       "      <th>3</th>\n",
       "      <td>ASM</td>\n",
       "    </tr>\n",
       "    <tr>\n",
       "      <th>4</th>\n",
       "      <td>ADO</td>\n",
       "    </tr>\n",
       "  </tbody>\n",
       "</table>\n",
       "</div>"
      ],
      "text/plain": [
       "  CountryCode\n",
       "0         AFG\n",
       "1         ALB\n",
       "2         DZA\n",
       "3         ASM\n",
       "4         ADO"
      ]
     },
     "execution_count": 56,
     "metadata": {},
     "output_type": "execute_result"
    }
   ],
   "source": [
    "countries.head()"
   ]
  },
  {
   "cell_type": "code",
   "execution_count": 57,
   "metadata": {
    "collapsed": true
   },
   "outputs": [],
   "source": [
    "# find some measures that seem important and are often present, filter countries with all those intact, train network"
   ]
  },
  {
   "cell_type": "code",
   "execution_count": 58,
   "metadata": {
    "collapsed": true
   },
   "outputs": [],
   "source": [
    "columns=['LongDefinition', 'SeriesCode']\n",
    "series = pd.read_csv(\"data/Series.csv\", usecols=(columns))"
   ]
  },
  {
   "cell_type": "code",
   "execution_count": 59,
   "metadata": {
    "collapsed": false
   },
   "outputs": [
    {
     "data": {
      "text/html": [
       "<div>\n",
       "<table border=\"1\" class=\"dataframe\">\n",
       "  <thead>\n",
       "    <tr style=\"text-align: right;\">\n",
       "      <th></th>\n",
       "      <th>SeriesCode</th>\n",
       "      <th>LongDefinition</th>\n",
       "    </tr>\n",
       "  </thead>\n",
       "  <tbody>\n",
       "    <tr>\n",
       "      <th>0</th>\n",
       "      <td>BN.KLT.DINV.CD</td>\n",
       "      <td>Foreign direct investment are the net inflows ...</td>\n",
       "    </tr>\n",
       "    <tr>\n",
       "      <th>1</th>\n",
       "      <td>BX.KLT.DINV.WD.GD.ZS</td>\n",
       "      <td>Foreign direct investment are the net inflows ...</td>\n",
       "    </tr>\n",
       "    <tr>\n",
       "      <th>2</th>\n",
       "      <td>BX.KLT.DINV.CD.WD</td>\n",
       "      <td>Foreign direct investment refers to direct inv...</td>\n",
       "    </tr>\n",
       "    <tr>\n",
       "      <th>3</th>\n",
       "      <td>BM.KLT.DINV.GD.ZS</td>\n",
       "      <td>Foreign direct investment are the net inflows ...</td>\n",
       "    </tr>\n",
       "    <tr>\n",
       "      <th>4</th>\n",
       "      <td>BN.TRF.KOGT.CD</td>\n",
       "      <td>Net capital account records acquisitions and d...</td>\n",
       "    </tr>\n",
       "  </tbody>\n",
       "</table>\n",
       "</div>"
      ],
      "text/plain": [
       "             SeriesCode                                     LongDefinition\n",
       "0        BN.KLT.DINV.CD  Foreign direct investment are the net inflows ...\n",
       "1  BX.KLT.DINV.WD.GD.ZS  Foreign direct investment are the net inflows ...\n",
       "2     BX.KLT.DINV.CD.WD  Foreign direct investment refers to direct inv...\n",
       "3     BM.KLT.DINV.GD.ZS  Foreign direct investment are the net inflows ...\n",
       "4        BN.TRF.KOGT.CD  Net capital account records acquisitions and d..."
      ]
     },
     "execution_count": 59,
     "metadata": {},
     "output_type": "execute_result"
    }
   ],
   "source": [
    "series.head()"
   ]
  },
  {
   "cell_type": "code",
   "execution_count": 60,
   "metadata": {
    "collapsed": false
   },
   "outputs": [
    {
     "name": "stdout",
     "output_type": "stream",
     "text": [
      "247\n",
      "1345\n"
     ]
    }
   ],
   "source": [
    "print (len(countries))\n",
    "print (len(series))"
   ]
  },
  {
   "cell_type": "code",
   "execution_count": 61,
   "metadata": {
    "collapsed": false
   },
   "outputs": [],
   "source": [
    "#isUsedSeries = [(name in seriesToUse) for name in series.SeriesCode.values]\n",
    "#filteredSeries = series[isUsedSeries]\n",
    "#filteredSeriesNames = filteredSeries.SeriesCode.values\n",
    "\n",
    "#useableData = [(name in filteredSeriesNames) for name in data.IndicatorCode.values]\n",
    "#filteredData = data[useableData]\n",
    "seriesCounts = data['IndicatorCode'].value_counts()\n",
    "\n",
    "a = seriesCounts.to_dict()\n",
    "useableData = [(a.get(name, 0) > 10000) for name in data.IndicatorCode.values]\n",
    "filteredData = data[useableData]"
   ]
  },
  {
   "cell_type": "code",
   "execution_count": 62,
   "metadata": {
    "collapsed": false
   },
   "outputs": [],
   "source": [
    "useableSeries = [(a.get(name, 0) > 10000) for name in series.SeriesCode.values]\n",
    "filteredSeries = series[useableSeries].SeriesCode.values"
   ]
  },
  {
   "cell_type": "code",
   "execution_count": 63,
   "metadata": {
    "collapsed": false
   },
   "outputs": [
    {
     "name": "stdout",
     "output_type": "stream",
     "text": [
      "732948\n",
      "5656458\n",
      "63\n",
      "1345\n"
     ]
    }
   ],
   "source": [
    "print(len(filteredData))\n",
    "print(len(data))\n",
    "print(len(filteredSeries))\n",
    "print(len(series))"
   ]
  },
  {
   "cell_type": "code",
   "execution_count": 66,
   "metadata": {
    "collapsed": false
   },
   "outputs": [
    {
     "name": "stderr",
     "output_type": "stream",
     "text": [
      "/Users/jgzuke/anaconda3/lib/python3.5/site-packages/ipykernel/__main__.py:5: UserWarning: Boolean Series key will be reindexed to match DataFrame index.\n"
     ]
    }
   ],
   "source": [
    "# a = data[(data.CountryCode == 'ARB') & ((data.IndicatorCode == 'SP.ADO.TFRT') | (data.IndicatorCode == 'SP.POP.DPND'))]\n",
    "useableCountries = []\n",
    "for country in countries.CountryCode.values:\n",
    "    useable = True\n",
    "    filterByCountry = filteredData[(data.CountryCode == country)]\n",
    "    for seriesName in filteredSeries:\n",
    "        if len(filterByCountry[(filterByCountry.IndicatorCode == seriesName)]) == 0:\n",
    "            useable = False;\n",
    "            break;\n",
    "    if useable:\n",
    "        useableCountries.append(country)"
   ]
  },
  {
   "cell_type": "code",
   "execution_count": 67,
   "metadata": {
    "collapsed": false
   },
   "outputs": [
    {
     "data": {
      "text/plain": [
       "175"
      ]
     },
     "execution_count": 67,
     "metadata": {},
     "output_type": "execute_result"
    }
   ],
   "source": [
    "len(useableCountries)"
   ]
  },
  {
   "cell_type": "code",
   "execution_count": 68,
   "metadata": {
    "collapsed": false
   },
   "outputs": [],
   "source": [
    "goodData = [(country in useableCountries) for country in filteredData.CountryCode.values]\n",
    "useableData = filteredData[goodData]"
   ]
  },
  {
   "cell_type": "code",
   "execution_count": 69,
   "metadata": {
    "collapsed": false
   },
   "outputs": [
    {
     "name": "stdout",
     "output_type": "stream",
     "text": [
      "559891\n"
     ]
    },
    {
     "data": {
      "text/html": [
       "<div>\n",
       "<table border=\"1\" class=\"dataframe\">\n",
       "  <thead>\n",
       "    <tr style=\"text-align: right;\">\n",
       "      <th></th>\n",
       "      <th>CountryCode</th>\n",
       "      <th>IndicatorCode</th>\n",
       "      <th>Year</th>\n",
       "      <th>Value</th>\n",
       "    </tr>\n",
       "  </thead>\n",
       "  <tbody>\n",
       "    <tr>\n",
       "      <th>350</th>\n",
       "      <td>EAP</td>\n",
       "      <td>SP.ADO.TFRT</td>\n",
       "      <td>1960</td>\n",
       "      <td>75.043631</td>\n",
       "    </tr>\n",
       "    <tr>\n",
       "      <th>351</th>\n",
       "      <td>EAP</td>\n",
       "      <td>SP.POP.DPND</td>\n",
       "      <td>1960</td>\n",
       "      <td>78.574185</td>\n",
       "    </tr>\n",
       "    <tr>\n",
       "      <th>352</th>\n",
       "      <td>EAP</td>\n",
       "      <td>SP.POP.DPND.OL</td>\n",
       "      <td>1960</td>\n",
       "      <td>6.480808</td>\n",
       "    </tr>\n",
       "    <tr>\n",
       "      <th>353</th>\n",
       "      <td>EAP</td>\n",
       "      <td>SP.POP.DPND.YG</td>\n",
       "      <td>1960</td>\n",
       "      <td>71.976235</td>\n",
       "    </tr>\n",
       "    <tr>\n",
       "      <th>359</th>\n",
       "      <td>EAP</td>\n",
       "      <td>SP.DYN.CBRT.IN</td>\n",
       "      <td>1960</td>\n",
       "      <td>26.635950</td>\n",
       "    </tr>\n",
       "  </tbody>\n",
       "</table>\n",
       "</div>"
      ],
      "text/plain": [
       "    CountryCode   IndicatorCode  Year      Value\n",
       "350         EAP     SP.ADO.TFRT  1960  75.043631\n",
       "351         EAP     SP.POP.DPND  1960  78.574185\n",
       "352         EAP  SP.POP.DPND.OL  1960   6.480808\n",
       "353         EAP  SP.POP.DPND.YG  1960  71.976235\n",
       "359         EAP  SP.DYN.CBRT.IN  1960  26.635950"
      ]
     },
     "execution_count": 69,
     "metadata": {},
     "output_type": "execute_result"
    }
   ],
   "source": [
    "print(len(useableData))\n",
    "useableData.head()"
   ]
  },
  {
   "cell_type": "code",
   "execution_count": 70,
   "metadata": {
    "collapsed": false
   },
   "outputs": [],
   "source": [
    "# Filtered Data reasonably above, need to:\n",
    "# Seperate into few year blocks, with next year values as results to guess\n",
    "# Train a few different models to guess next years values"
   ]
  },
  {
   "cell_type": "code",
   "execution_count": null,
   "metadata": {
    "collapsed": false
   },
   "outputs": [],
   "source": [
    "predictionFeature = 'SP.ADO.TFRT'\n",
    "\n",
    "trainingValues = []\n",
    "trainingResults = []\n",
    "for country in useableCountries[0:40]: # 213\n",
    "    countryData = filteredData[(filteredData.CountryCode == country)]\n",
    "    pastData_5 = []\n",
    "    pastData_4 = []\n",
    "    pastData_3 = []\n",
    "    pastData_2 = []\n",
    "    pastData_1 = []\n",
    "    for year in range(1960, 2010): # 1960\n",
    "        pastData_5 = pastData_4\n",
    "        pastData_4 = pastData_3\n",
    "        pastData_3 = pastData_2\n",
    "        pastData_2 = pastData_1\n",
    "        \n",
    "        yearData = countryData[(countryData.Year == year)]\n",
    "        \n",
    "        pastData_1 = []\n",
    "        for series in filteredSeries[0:30]: # 40\n",
    "            # TODO: see if I can get rid of this loop\n",
    "            data = yearData[(yearData.IndicatorCode == series)].Value.values\n",
    "            if len(data) != 1:\n",
    "                pastData_5 = []\n",
    "                pastData_4 = []\n",
    "                pastData_3 = []\n",
    "                pastData_2 = []\n",
    "                pastData_1 = []\n",
    "                break;\n",
    "            value = data[0]\n",
    "            #print (value)\n",
    "            pastData_1.append(value)\n",
    "            \n",
    "        predictionValue = countryData[(countryData.Year == year + 1) & (countryData.IndicatorCode == predictionFeature)].Value.values\n",
    "        valid = (len(predictionValue) == 1) & (len(pastData_5) != 0) & (len(pastData_4) != 0) & (len(pastData_3) != 0) & (len(pastData_2) != 0) & (len(pastData_1) != 0)\n",
    "        if valid:\n",
    "            trainingValues.append(pastData_5 + pastData_4 + pastData_3 + pastData_2 + pastData_1)\n",
    "            trainingResults.append(predictionValue[0])"
   ]
  },
  {
   "cell_type": "code",
   "execution_count": null,
   "metadata": {
    "collapsed": false
   },
   "outputs": [],
   "source": [
    "xData = pd.DataFrame(trainingValues)\n",
    "yData = pd.DataFrame(trainingResults)\n",
    "xData"
   ]
  },
  {
   "cell_type": "code",
   "execution_count": 36,
   "metadata": {
    "collapsed": false
   },
   "outputs": [
    {
     "ename": "ValueError",
     "evalue": "Found array with 0 sample(s) (shape=(0, 0)) while a minimum of 1 is required.",
     "output_type": "error",
     "traceback": [
      "\u001b[0;31m---------------------------------------------------------------------------\u001b[0m",
      "\u001b[0;31mValueError\u001b[0m                                Traceback (most recent call last)",
      "\u001b[0;32m<ipython-input-36-c6380c9b2acc>\u001b[0m in \u001b[0;36m<module>\u001b[0;34m()\u001b[0m\n\u001b[1;32m      1\u001b[0m \u001b[0;32mfrom\u001b[0m \u001b[0msklearn\u001b[0m\u001b[0;34m.\u001b[0m\u001b[0mlinear_model\u001b[0m \u001b[0;32mimport\u001b[0m \u001b[0mLinearRegression\u001b[0m\u001b[0;34m\u001b[0m\u001b[0m\n\u001b[1;32m      2\u001b[0m \u001b[0mclf\u001b[0m \u001b[0;34m=\u001b[0m \u001b[0mLinearRegression\u001b[0m\u001b[0;34m(\u001b[0m\u001b[0mnormalize\u001b[0m\u001b[0;34m=\u001b[0m\u001b[0;32mTrue\u001b[0m\u001b[0;34m)\u001b[0m\u001b[0;34m\u001b[0m\u001b[0m\n\u001b[0;32m----> 3\u001b[0;31m \u001b[0mclf\u001b[0m\u001b[0;34m.\u001b[0m\u001b[0mfit\u001b[0m\u001b[0;34m(\u001b[0m\u001b[0mxData\u001b[0m\u001b[0;34m,\u001b[0m \u001b[0myData\u001b[0m\u001b[0;34m)\u001b[0m\u001b[0;34m\u001b[0m\u001b[0m\n\u001b[0m",
      "\u001b[0;32m/Users/jgzuke/anaconda3/lib/python3.5/site-packages/sklearn/linear_model/base.py\u001b[0m in \u001b[0;36mfit\u001b[0;34m(self, X, y, sample_weight)\u001b[0m\n\u001b[1;32m    425\u001b[0m         \u001b[0mn_jobs_\u001b[0m \u001b[0;34m=\u001b[0m \u001b[0mself\u001b[0m\u001b[0;34m.\u001b[0m\u001b[0mn_jobs\u001b[0m\u001b[0;34m\u001b[0m\u001b[0m\n\u001b[1;32m    426\u001b[0m         X, y = check_X_y(X, y, accept_sparse=['csr', 'csc', 'coo'],\n\u001b[0;32m--> 427\u001b[0;31m                          y_numeric=True, multi_output=True)\n\u001b[0m\u001b[1;32m    428\u001b[0m \u001b[0;34m\u001b[0m\u001b[0m\n\u001b[1;32m    429\u001b[0m         \u001b[0;32mif\u001b[0m \u001b[0;34m(\u001b[0m\u001b[0;34m(\u001b[0m\u001b[0msample_weight\u001b[0m \u001b[0;32mis\u001b[0m \u001b[0;32mnot\u001b[0m \u001b[0;32mNone\u001b[0m\u001b[0;34m)\u001b[0m \u001b[0;32mand\u001b[0m \u001b[0mnp\u001b[0m\u001b[0;34m.\u001b[0m\u001b[0matleast_1d\u001b[0m\u001b[0;34m(\u001b[0m\u001b[0msample_weight\u001b[0m\u001b[0;34m)\u001b[0m\u001b[0;34m.\u001b[0m\u001b[0mndim\u001b[0m \u001b[0;34m>\u001b[0m \u001b[0;36m1\u001b[0m\u001b[0;34m)\u001b[0m\u001b[0;34m:\u001b[0m\u001b[0;34m\u001b[0m\u001b[0m\n",
      "\u001b[0;32m/Users/jgzuke/anaconda3/lib/python3.5/site-packages/sklearn/utils/validation.py\u001b[0m in \u001b[0;36mcheck_X_y\u001b[0;34m(X, y, accept_sparse, dtype, order, copy, force_all_finite, ensure_2d, allow_nd, multi_output, ensure_min_samples, ensure_min_features, y_numeric, warn_on_dtype, estimator)\u001b[0m\n\u001b[1;32m    508\u001b[0m     X = check_array(X, accept_sparse, dtype, order, copy, force_all_finite,\n\u001b[1;32m    509\u001b[0m                     \u001b[0mensure_2d\u001b[0m\u001b[0;34m,\u001b[0m \u001b[0mallow_nd\u001b[0m\u001b[0;34m,\u001b[0m \u001b[0mensure_min_samples\u001b[0m\u001b[0;34m,\u001b[0m\u001b[0;34m\u001b[0m\u001b[0m\n\u001b[0;32m--> 510\u001b[0;31m                     ensure_min_features, warn_on_dtype, estimator)\n\u001b[0m\u001b[1;32m    511\u001b[0m     \u001b[0;32mif\u001b[0m \u001b[0mmulti_output\u001b[0m\u001b[0;34m:\u001b[0m\u001b[0;34m\u001b[0m\u001b[0m\n\u001b[1;32m    512\u001b[0m         y = check_array(y, 'csr', force_all_finite=True, ensure_2d=False,\n",
      "\u001b[0;32m/Users/jgzuke/anaconda3/lib/python3.5/site-packages/sklearn/utils/validation.py\u001b[0m in \u001b[0;36mcheck_array\u001b[0;34m(array, accept_sparse, dtype, order, copy, force_all_finite, ensure_2d, allow_nd, ensure_min_samples, ensure_min_features, warn_on_dtype, estimator)\u001b[0m\n\u001b[1;32m    405\u001b[0m                              \u001b[0;34m\" minimum of %d is required%s.\"\u001b[0m\u001b[0;34m\u001b[0m\u001b[0m\n\u001b[1;32m    406\u001b[0m                              % (n_samples, shape_repr, ensure_min_samples,\n\u001b[0;32m--> 407\u001b[0;31m                                 context))\n\u001b[0m\u001b[1;32m    408\u001b[0m \u001b[0;34m\u001b[0m\u001b[0m\n\u001b[1;32m    409\u001b[0m     \u001b[0;32mif\u001b[0m \u001b[0mensure_min_features\u001b[0m \u001b[0;34m>\u001b[0m \u001b[0;36m0\u001b[0m \u001b[0;32mand\u001b[0m \u001b[0marray\u001b[0m\u001b[0;34m.\u001b[0m\u001b[0mndim\u001b[0m \u001b[0;34m==\u001b[0m \u001b[0;36m2\u001b[0m\u001b[0;34m:\u001b[0m\u001b[0;34m\u001b[0m\u001b[0m\n",
      "\u001b[0;31mValueError\u001b[0m: Found array with 0 sample(s) (shape=(0, 0)) while a minimum of 1 is required."
     ]
    }
   ],
   "source": [
    "from sklearn.linear_model import LinearRegression\n",
    "clf = LinearRegression(normalize=True)\n",
    "clf.fit(xData, yData)"
   ]
  },
  {
   "cell_type": "code",
   "execution_count": 27,
   "metadata": {
    "collapsed": false
   },
   "outputs": [
    {
     "data": {
      "text/plain": [
       "[1, 2, 3, 4, 6, 4]"
      ]
     },
     "execution_count": 27,
     "metadata": {},
     "output_type": "execute_result"
    }
   ],
   "source": [
    "a = [1, 2]\n",
    "b = [3, 4]\n",
    "d = [6, 4]\n",
    "c = a+b+d\n",
    "c"
   ]
  },
  {
   "cell_type": "code",
   "execution_count": 48,
   "metadata": {
    "collapsed": false
   },
   "outputs": [
    {
     "data": {
      "text/plain": [
       "['AFG',\n",
       " 'ALB',\n",
       " 'DZA',\n",
       " 'AGO',\n",
       " 'ATG',\n",
       " 'ARG',\n",
       " 'ARM',\n",
       " 'AUS',\n",
       " 'AUT',\n",
       " 'AZE',\n",
       " 'BGD',\n",
       " 'BRB',\n",
       " 'BLR',\n",
       " 'BEL',\n",
       " 'BLZ',\n",
       " 'BEN',\n",
       " 'BOL',\n",
       " 'BIH',\n",
       " 'BRA',\n",
       " 'BRN',\n",
       " 'BGR',\n",
       " 'BFA',\n",
       " 'BDI',\n",
       " 'CPV',\n",
       " 'KHM',\n",
       " 'CMR',\n",
       " 'CAN',\n",
       " 'CAF',\n",
       " 'TCD',\n",
       " 'CHL',\n",
       " 'CHN',\n",
       " 'COL',\n",
       " 'COM',\n",
       " 'COG',\n",
       " 'CRI',\n",
       " 'CIV',\n",
       " 'HRV',\n",
       " 'CUB',\n",
       " 'CYP',\n",
       " 'CZE',\n",
       " 'ZAR',\n",
       " 'DNK',\n",
       " 'DOM',\n",
       " 'EAP',\n",
       " 'ECU',\n",
       " 'EGY',\n",
       " 'SLV',\n",
       " 'EST',\n",
       " 'ETH',\n",
       " 'ECA',\n",
       " 'FJI',\n",
       " 'FIN',\n",
       " 'FRA',\n",
       " 'GAB',\n",
       " 'GEO',\n",
       " 'DEU',\n",
       " 'GHA',\n",
       " 'GRC',\n",
       " 'GRD',\n",
       " 'GTM',\n",
       " 'GIN',\n",
       " 'GNB',\n",
       " 'GUY',\n",
       " 'HTI',\n",
       " 'HIC',\n",
       " 'HND',\n",
       " 'HUN',\n",
       " 'IND',\n",
       " 'IDN',\n",
       " 'IRN',\n",
       " 'IRQ',\n",
       " 'IRL',\n",
       " 'ISR',\n",
       " 'ITA',\n",
       " 'JAM',\n",
       " 'JPN',\n",
       " 'JOR',\n",
       " 'KAZ',\n",
       " 'KEN',\n",
       " 'KOR',\n",
       " 'KWT',\n",
       " 'KGZ',\n",
       " 'LAO',\n",
       " 'LAC',\n",
       " 'LVA',\n",
       " 'LBN',\n",
       " 'LBR',\n",
       " 'LBY',\n",
       " 'LTU',\n",
       " 'LMY',\n",
       " 'LMC',\n",
       " 'LUX',\n",
       " 'MKD',\n",
       " 'MDG',\n",
       " 'MWI',\n",
       " 'MYS',\n",
       " 'MDV',\n",
       " 'MLI',\n",
       " 'MLT',\n",
       " 'MRT',\n",
       " 'MUS',\n",
       " 'MEX',\n",
       " 'MNA',\n",
       " 'MIC',\n",
       " 'MDA',\n",
       " 'MNG',\n",
       " 'MNE',\n",
       " 'MAR',\n",
       " 'MOZ',\n",
       " 'MMR',\n",
       " 'NPL',\n",
       " 'NLD',\n",
       " 'NZL',\n",
       " 'NIC',\n",
       " 'NER',\n",
       " 'NGA',\n",
       " 'NOR',\n",
       " 'OMN',\n",
       " 'PAK',\n",
       " 'PAN',\n",
       " 'PNG',\n",
       " 'PRY',\n",
       " 'PER',\n",
       " 'PHL',\n",
       " 'POL',\n",
       " 'PRT',\n",
       " 'QAT',\n",
       " 'ROM',\n",
       " 'RUS',\n",
       " 'RWA',\n",
       " 'STP',\n",
       " 'SAU',\n",
       " 'SEN',\n",
       " 'SRB',\n",
       " 'SLE',\n",
       " 'SVK',\n",
       " 'SVN',\n",
       " 'SLB',\n",
       " 'ZAF',\n",
       " 'SAS',\n",
       " 'ESP',\n",
       " 'LKA',\n",
       " 'LCA',\n",
       " 'VCT',\n",
       " 'SSA',\n",
       " 'SDN',\n",
       " 'SUR',\n",
       " 'SWE',\n",
       " 'CHE',\n",
       " 'SYR',\n",
       " 'TJK',\n",
       " 'TZA',\n",
       " 'THA',\n",
       " 'BHS',\n",
       " 'GMB',\n",
       " 'TGO',\n",
       " 'TTO',\n",
       " 'TUN',\n",
       " 'TUR',\n",
       " 'TKM',\n",
       " 'UGA',\n",
       " 'UKR',\n",
       " 'ARE',\n",
       " 'GBR',\n",
       " 'USA',\n",
       " 'UMC',\n",
       " 'URY',\n",
       " 'UZB',\n",
       " 'VUT',\n",
       " 'VEN',\n",
       " 'VNM',\n",
       " 'WLD',\n",
       " 'YEM',\n",
       " 'ZMB',\n",
       " 'ZWE']"
      ]
     },
     "execution_count": 48,
     "metadata": {},
     "output_type": "execute_result"
    }
   ],
   "source": [
    "useableCountries"
   ]
  },
  {
   "cell_type": "code",
   "execution_count": null,
   "metadata": {
    "collapsed": false
   },
   "outputs": [],
   "source": []
  },
  {
   "cell_type": "code",
   "execution_count": null,
   "metadata": {
    "collapsed": true
   },
   "outputs": [],
   "source": [
    "for country in useableCountries[0:15]: # 213\n",
    "    countryData = filteredData[(filteredData.CountryCode == country)]\n",
    "    for startYear in range(1960, 2000):\n",
    "        \n",
    "        \n",
    "        \n",
    "        row = []\n",
    "        for additionalYear in range(0, 5):\n",
    "            yearData = countryData[(countryData.Year == startYear + additionalYear)]\n",
    "            for series in filteredSeries[0:15]: # 40\n",
    "                data = yearData[(yearData.IndicatorCode == series)].Value.values\n",
    "                if len(data) != 1:\n",
    "                    valid = False\n",
    "                    break;\n",
    "                value = data[0]\n",
    "                row.append(value)\n",
    "        \n",
    "        predictionValue = countryData[(countryData.Year == startYear + 6) & (countryData.IndicatorCode == predictionFeature)].Value.values\n",
    "        if len(predictionValue) != 1:\n",
    "            valid = False\n",
    "        if valid:\n",
    "            trainingValues.append(row)\n",
    "            trainingResults.append(predictionValue[0])"
   ]
  },
  {
   "cell_type": "code",
   "execution_count": null,
   "metadata": {
    "collapsed": true
   },
   "outputs": [],
   "source": []
  }
 ],
 "metadata": {
  "kernelspec": {
   "display_name": "Python 3",
   "language": "python",
   "name": "python3"
  },
  "language_info": {
   "codemirror_mode": {
    "name": "ipython",
    "version": 3
   },
   "file_extension": ".py",
   "mimetype": "text/x-python",
   "name": "python",
   "nbconvert_exporter": "python",
   "pygments_lexer": "ipython3",
   "version": "3.5.1"
  }
 },
 "nbformat": 4,
 "nbformat_minor": 0
}
