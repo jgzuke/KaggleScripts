{
 "cells": [
  {
   "cell_type": "code",
   "execution_count": 147,
   "metadata": {
    "collapsed": false
   },
   "outputs": [
    {
     "data": {
      "text/html": [
       "<div>\n",
       "<table border=\"1\" class=\"dataframe\">\n",
       "  <thead>\n",
       "    <tr style=\"text-align: right;\">\n",
       "      <th></th>\n",
       "      <th>COUNTRY</th>\n",
       "      <th>YEAR</th>\n",
       "      <th>NY.GDP.MKTP.CD_0</th>\n",
       "      <th>NY.GDP.PCAP.CD_0</th>\n",
       "      <th>AG.PRD.CREL.MT_0</th>\n",
       "      <th>AG.YLD.CREL.KG_0</th>\n",
       "      <th>AG.PRD.CROP.XD_0</th>\n",
       "      <th>AG.PRD.FOOD.XD_0</th>\n",
       "      <th>AG.LND.CREL.HA_0</th>\n",
       "      <th>AG.PRD.LVSK.XD_0</th>\n",
       "      <th>...</th>\n",
       "      <th>SP.DYN.TFRT.IN_4</th>\n",
       "      <th>TX.VAL.MRCH.CD.WT_4</th>\n",
       "      <th>TX.VAL.MRCH.WL.CD_4</th>\n",
       "      <th>TX.VAL.MRCH.RS.ZS_4</th>\n",
       "      <th>TX.VAL.MRCH.HI.ZS_4</th>\n",
       "      <th>TM.VAL.MRCH.CD.WT_4</th>\n",
       "      <th>TM.VAL.MRCH.WL.CD_4</th>\n",
       "      <th>TM.VAL.MRCH.RS.ZS_4</th>\n",
       "      <th>TM.VAL.MRCH.HI.ZS_4</th>\n",
       "      <th>TG.VAL.TOTL.GD.ZS_4</th>\n",
       "    </tr>\n",
       "  </thead>\n",
       "  <tbody>\n",
       "    <tr>\n",
       "      <th>0</th>\n",
       "      <td>AFG</td>\n",
       "      <td>1971</td>\n",
       "      <td>1.673333e+09</td>\n",
       "      <td>161.384702</td>\n",
       "      <td>3826000.0</td>\n",
       "      <td>1224.516</td>\n",
       "      <td>83.05</td>\n",
       "      <td>70.20</td>\n",
       "      <td>3124500.0</td>\n",
       "      <td>60.38</td>\n",
       "      <td>...</td>\n",
       "      <td>7.450</td>\n",
       "      <td>100000000.0</td>\n",
       "      <td>99900000.0</td>\n",
       "      <td>47.314314</td>\n",
       "      <td>42.712713</td>\n",
       "      <td>141000000.0</td>\n",
       "      <td>145386000.0</td>\n",
       "      <td>32.425405</td>\n",
       "      <td>57.253106</td>\n",
       "      <td>13.161423</td>\n",
       "    </tr>\n",
       "    <tr>\n",
       "      <th>1</th>\n",
       "      <td>AFG</td>\n",
       "      <td>1977</td>\n",
       "      <td>1.733333e+09</td>\n",
       "      <td>144.173944</td>\n",
       "      <td>4270000.0</td>\n",
       "      <td>1279.592</td>\n",
       "      <td>91.25</td>\n",
       "      <td>73.56</td>\n",
       "      <td>3337000.0</td>\n",
       "      <td>58.45</td>\n",
       "      <td>...</td>\n",
       "      <td>7.449</td>\n",
       "      <td>306000000.0</td>\n",
       "      <td>313137000.0</td>\n",
       "      <td>45.115397</td>\n",
       "      <td>35.590492</td>\n",
       "      <td>328000000.0</td>\n",
       "      <td>458652000.0</td>\n",
       "      <td>45.553055</td>\n",
       "      <td>45.343964</td>\n",
       "      <td>21.467268</td>\n",
       "    </tr>\n",
       "    <tr>\n",
       "      <th>2</th>\n",
       "      <td>AFG</td>\n",
       "      <td>1978</td>\n",
       "      <td>2.155555e+09</td>\n",
       "      <td>175.027098</td>\n",
       "      <td>4351000.0</td>\n",
       "      <td>1301.915</td>\n",
       "      <td>94.92</td>\n",
       "      <td>76.02</td>\n",
       "      <td>3342000.0</td>\n",
       "      <td>61.00</td>\n",
       "      <td>...</td>\n",
       "      <td>7.449</td>\n",
       "      <td>321000000.0</td>\n",
       "      <td>269156000.0</td>\n",
       "      <td>43.718141</td>\n",
       "      <td>27.069432</td>\n",
       "      <td>395000000.0</td>\n",
       "      <td>450516000.0</td>\n",
       "      <td>53.467801</td>\n",
       "      <td>34.542835</td>\n",
       "      <td>21.696969</td>\n",
       "    </tr>\n",
       "    <tr>\n",
       "      <th>3</th>\n",
       "      <td>AFG</td>\n",
       "      <td>1979</td>\n",
       "      <td>2.366667e+09</td>\n",
       "      <td>188.085136</td>\n",
       "      <td>4481000.0</td>\n",
       "      <td>1316.392</td>\n",
       "      <td>97.68</td>\n",
       "      <td>78.24</td>\n",
       "      <td>3404000.0</td>\n",
       "      <td>63.38</td>\n",
       "      <td>...</td>\n",
       "      <td>7.449</td>\n",
       "      <td>474000000.0</td>\n",
       "      <td>435015000.0</td>\n",
       "      <td>60.016551</td>\n",
       "      <td>18.152248</td>\n",
       "      <td>425000000.0</td>\n",
       "      <td>551216000.0</td>\n",
       "      <td>68.909647</td>\n",
       "      <td>24.561515</td>\n",
       "      <td>24.310830</td>\n",
       "    </tr>\n",
       "    <tr>\n",
       "      <th>4</th>\n",
       "      <td>AFG</td>\n",
       "      <td>1980</td>\n",
       "      <td>2.555556e+09</td>\n",
       "      <td>199.164809</td>\n",
       "      <td>4624000.0</td>\n",
       "      <td>1362.404</td>\n",
       "      <td>102.93</td>\n",
       "      <td>83.72</td>\n",
       "      <td>3394000.0</td>\n",
       "      <td>69.07</td>\n",
       "      <td>...</td>\n",
       "      <td>7.449</td>\n",
       "      <td>670000000.0</td>\n",
       "      <td>670474000.0</td>\n",
       "      <td>64.592065</td>\n",
       "      <td>19.471896</td>\n",
       "      <td>841000000.0</td>\n",
       "      <td>494754000.0</td>\n",
       "      <td>60.669343</td>\n",
       "      <td>32.162044</td>\n",
       "      <td>41.491344</td>\n",
       "    </tr>\n",
       "  </tbody>\n",
       "</table>\n",
       "<p>5 rows × 317 columns</p>\n",
       "</div>"
      ],
      "text/plain": [
       "  COUNTRY  YEAR  NY.GDP.MKTP.CD_0  NY.GDP.PCAP.CD_0  AG.PRD.CREL.MT_0  \\\n",
       "0     AFG  1971      1.673333e+09        161.384702         3826000.0   \n",
       "1     AFG  1977      1.733333e+09        144.173944         4270000.0   \n",
       "2     AFG  1978      2.155555e+09        175.027098         4351000.0   \n",
       "3     AFG  1979      2.366667e+09        188.085136         4481000.0   \n",
       "4     AFG  1980      2.555556e+09        199.164809         4624000.0   \n",
       "\n",
       "   AG.YLD.CREL.KG_0  AG.PRD.CROP.XD_0  AG.PRD.FOOD.XD_0  AG.LND.CREL.HA_0  \\\n",
       "0          1224.516             83.05             70.20         3124500.0   \n",
       "1          1279.592             91.25             73.56         3337000.0   \n",
       "2          1301.915             94.92             76.02         3342000.0   \n",
       "3          1316.392             97.68             78.24         3404000.0   \n",
       "4          1362.404            102.93             83.72         3394000.0   \n",
       "\n",
       "   AG.PRD.LVSK.XD_0         ...           SP.DYN.TFRT.IN_4  \\\n",
       "0             60.38         ...                      7.450   \n",
       "1             58.45         ...                      7.449   \n",
       "2             61.00         ...                      7.449   \n",
       "3             63.38         ...                      7.449   \n",
       "4             69.07         ...                      7.449   \n",
       "\n",
       "   TX.VAL.MRCH.CD.WT_4  TX.VAL.MRCH.WL.CD_4  TX.VAL.MRCH.RS.ZS_4  \\\n",
       "0          100000000.0           99900000.0            47.314314   \n",
       "1          306000000.0          313137000.0            45.115397   \n",
       "2          321000000.0          269156000.0            43.718141   \n",
       "3          474000000.0          435015000.0            60.016551   \n",
       "4          670000000.0          670474000.0            64.592065   \n",
       "\n",
       "   TX.VAL.MRCH.HI.ZS_4  TM.VAL.MRCH.CD.WT_4  TM.VAL.MRCH.WL.CD_4  \\\n",
       "0            42.712713          141000000.0          145386000.0   \n",
       "1            35.590492          328000000.0          458652000.0   \n",
       "2            27.069432          395000000.0          450516000.0   \n",
       "3            18.152248          425000000.0          551216000.0   \n",
       "4            19.471896          841000000.0          494754000.0   \n",
       "\n",
       "   TM.VAL.MRCH.RS.ZS_4  TM.VAL.MRCH.HI.ZS_4  TG.VAL.TOTL.GD.ZS_4  \n",
       "0            32.425405            57.253106            13.161423  \n",
       "1            45.553055            45.343964            21.467268  \n",
       "2            53.467801            34.542835            21.696969  \n",
       "3            68.909647            24.561515            24.310830  \n",
       "4            60.669343            32.162044            41.491344  \n",
       "\n",
       "[5 rows x 317 columns]"
      ]
     },
     "execution_count": 147,
     "metadata": {},
     "output_type": "execute_result"
    }
   ],
   "source": [
    "%matplotlib inline\n",
    "import pandas as pd\n",
    "import numpy as np\n",
    "predictionFeature = 'SP.ADO.TFRT'\n",
    "X = pd.read_csv(\"data/dataMungingSave.csv\", index_col=0)\n",
    "columns=['CountryCode', 'IndicatorCode', 'Year', 'Value']\n",
    "data = pd.read_csv(\"data/indicators.csv\", usecols=(columns))\n",
    "print (len(X))\n",
    "X.head()"
   ]
  },
  {
   "cell_type": "code",
   "execution_count": 149,
   "metadata": {
    "collapsed": false
   },
   "outputs": [
    {
     "name": "stdout",
     "output_type": "stream",
     "text": [
      "5147\n",
      "5147\n"
     ]
    }
   ],
   "source": [
    "# Can use OBSERVATION to get new y Data if we want to train on something else\n",
    "pData = data[data.IndicatorCode == predictionFeature]\n",
    "yearsForward = 5\n",
    "\n",
    "# If I do this I need to add some value to year and filter for things that dont have\n",
    "# it (eg dont have 'SP.ADO.TFRT' 4 years from now, drop this observation)\n",
    "# Also need to remove filtering code from other file\n",
    "futureValues = [pData[(pData.CountryCode == row[0]) & (pData.Year == int(row[1]) + yearsForward)].Value.values for row in X.values]\n",
    "rowsWithPredictions = [len(futureValue) == 1 for futureValue in futureValues]\n",
    "values = [futureValue[0] for futureValue in futureValues if len(futureValue) == 1]\n",
    "X = X[rowsWithPredictions]\n",
    "y = pd.DataFrame(values, columns=['Value'])\n",
    "print (len(X))\n",
    "print (len(y))"
   ]
  },
  {
   "cell_type": "code",
   "execution_count": 49,
   "metadata": {
    "collapsed": false
   },
   "outputs": [
    {
     "data": {
      "text/html": [
       "<div>\n",
       "<table border=\"1\" class=\"dataframe\">\n",
       "  <thead>\n",
       "    <tr style=\"text-align: right;\">\n",
       "      <th></th>\n",
       "      <th>YEAR_0</th>\n",
       "      <th>YEAR_1</th>\n",
       "      <th>YEAR_2</th>\n",
       "      <th>YEAR_3</th>\n",
       "      <th>YEAR_4</th>\n",
       "    </tr>\n",
       "  </thead>\n",
       "  <tbody>\n",
       "    <tr>\n",
       "      <th>0</th>\n",
       "      <td>145.3210</td>\n",
       "      <td>146.2150</td>\n",
       "      <td>147.1090</td>\n",
       "      <td>148.0030</td>\n",
       "      <td>148.8970</td>\n",
       "    </tr>\n",
       "    <tr>\n",
       "      <th>1</th>\n",
       "      <td>150.8782</td>\n",
       "      <td>151.9654</td>\n",
       "      <td>153.0526</td>\n",
       "      <td>154.1398</td>\n",
       "      <td>155.2270</td>\n",
       "    </tr>\n",
       "    <tr>\n",
       "      <th>2</th>\n",
       "      <td>151.9654</td>\n",
       "      <td>153.0526</td>\n",
       "      <td>154.1398</td>\n",
       "      <td>155.2270</td>\n",
       "      <td>156.3758</td>\n",
       "    </tr>\n",
       "    <tr>\n",
       "      <th>3</th>\n",
       "      <td>153.0526</td>\n",
       "      <td>154.1398</td>\n",
       "      <td>155.2270</td>\n",
       "      <td>156.3758</td>\n",
       "      <td>157.5246</td>\n",
       "    </tr>\n",
       "    <tr>\n",
       "      <th>4</th>\n",
       "      <td>154.1398</td>\n",
       "      <td>155.2270</td>\n",
       "      <td>156.3758</td>\n",
       "      <td>157.5246</td>\n",
       "      <td>158.6734</td>\n",
       "    </tr>\n",
       "  </tbody>\n",
       "</table>\n",
       "</div>"
      ],
      "text/plain": [
       "     YEAR_0    YEAR_1    YEAR_2    YEAR_3    YEAR_4\n",
       "0  145.3210  146.2150  147.1090  148.0030  148.8970\n",
       "1  150.8782  151.9654  153.0526  154.1398  155.2270\n",
       "2  151.9654  153.0526  154.1398  155.2270  156.3758\n",
       "3  153.0526  154.1398  155.2270  156.3758  157.5246\n",
       "4  154.1398  155.2270  156.3758  157.5246  158.6734"
      ]
     },
     "execution_count": 49,
     "metadata": {},
     "output_type": "execute_result"
    }
   ],
   "source": [
    "y.head()"
   ]
  },
  {
   "cell_type": "code",
   "execution_count": 51,
   "metadata": {
    "collapsed": false
   },
   "outputs": [],
   "source": [
    "from sklearn.cross_validation import train_test_split\n",
    "X_data = X.drop(['COUNTRY', 'YEAR'], axis=1)\n",
    "X_train, X_test, y_train, y_test = train_test_split(X_data, y, test_size=0.2, random_state=0)"
   ]
  },
  {
   "cell_type": "code",
   "execution_count": 52,
   "metadata": {
    "collapsed": false
   },
   "outputs": [],
   "source": [
    "from sklearn.preprocessing import StandardScaler\n",
    "from sklearn.cross_validation import cross_val_score\n",
    "scaler = StandardScaler()\n",
    "scaler.fit(X_train)\n",
    "X_train = scaler.transform(X_train)\n",
    "X_test = scaler.transform(X_test)"
   ]
  },
  {
   "cell_type": "code",
   "execution_count": 53,
   "metadata": {
    "collapsed": true
   },
   "outputs": [],
   "source": [
    "train = y_train.YEAR_4 \n",
    "test = y_test.YEAR_4"
   ]
  },
  {
   "cell_type": "code",
   "execution_count": 133,
   "metadata": {
    "collapsed": false
   },
   "outputs": [
    {
     "data": {
      "text/plain": [
       "0.99368182314774856"
      ]
     },
     "execution_count": 133,
     "metadata": {},
     "output_type": "execute_result"
    }
   ],
   "source": [
    "from sklearn.linear_model import LinearRegression\n",
    "clf = LinearRegression()\n",
    "clf.fit(X_train, train)\n",
    "#cv_scores = cross_val_score(clf, X_test, test, cv=4)\n",
    "#cv_scores\n",
    "clf.score(X_test, test)"
   ]
  },
  {
   "cell_type": "code",
   "execution_count": 55,
   "metadata": {
    "collapsed": false
   },
   "outputs": [
    {
     "data": {
      "text/plain": [
       "0.87752602923588452"
      ]
     },
     "execution_count": 55,
     "metadata": {},
     "output_type": "execute_result"
    }
   ],
   "source": [
    "from sklearn.svm import SVR\n",
    "clf = SVR()\n",
    "clf.fit(X_train, train)\n",
    "clf.score(X_test, test)"
   ]
  },
  {
   "cell_type": "code",
   "execution_count": 56,
   "metadata": {
    "collapsed": false
   },
   "outputs": [],
   "source": [
    "#from sklearn.grid_search import GridSearchCV\n",
    "#param_grid = [\n",
    "#    {'C': [10], 'kernel': ['linear']},\n",
    "#    {'C': [10], 'gamma': [0.03], 'kernel': ['rbf']},\n",
    "#]\n",
    "#clf = GridSearchCV(SVR(), param_grid, cv=4)\n",
    "#clf = clf.fit(X_train, train)\n",
    "#clf = clf.best_estimator_\n",
    "#clf.score(X_test, test)"
   ]
  },
  {
   "cell_type": "code",
   "execution_count": 142,
   "metadata": {
    "collapsed": false
   },
   "outputs": [],
   "source": [
    "import seaborn as sb\n",
    "import matplotlib.pyplot as plt\n",
    "def getGraphData(clf, country):\n",
    "    indices = (X.COUNTRY == country)\n",
    "    realValues = y[indices].YEAR_4.values\n",
    "    plotData = X[indices]\n",
    "    \n",
    "    dataPoints = []\n",
    "    plotDataValues = plotData.drop(['COUNTRY', 'YEAR'], axis=1).values\n",
    "    plotDataScaledValues = scaler.transform(plotDataValues)\n",
    "    predictions = clf.predict(plotDataScaledValues)\n",
    "    for i in range(len(plotData.YEAR)):\n",
    "        dataPoints.append([country + \"_PREDICTED\", plotData.YEAR.values[i], predictions[i], True])\n",
    "        dataPoints.append([country + \"_REAL\", plotData.YEAR.values[i], realValues[i], False])\n",
    "    return len(plotData.YEAR), dataPoints"
   ]
  },
  {
   "cell_type": "code",
   "execution_count": 143,
   "metadata": {
    "collapsed": true
   },
   "outputs": [],
   "source": [
    "def testClfWithCountries(clf, countries):\n",
    "    countryGraphData = []\n",
    "    for country in countries:\n",
    "        numYears, dataPoints = getGraphData(clf, country)\n",
    "        countryGraphData.append(dataPoints)\n",
    "    \n",
    "    countryGraphDataFlattened = [item for sublist in countryGraphData for item in sublist]\n",
    "    \n",
    "    graphData = pd.DataFrame(countryGraphDataFlattened, columns=['COUNTRY', 'YEAR', 'VALUE', 'IS_PREDICTED'])\n",
    "    \n",
    "    numYears = len(countries)\n",
    "    \n",
    "    linestyles = [\"--\", \"-\"]*numYears\n",
    "    markers= [\"x\", \"o\"]*numYears\n",
    "    palette = np.repeat(sb.color_palette(\"Set1\", n_colors=numYears, desat=.5), 2, axis=0)\n",
    "\n",
    "    fig, (ax) = plt.subplots(1,1, figsize=(20,10))\n",
    "    graph = sb.pointplot(x='YEAR', y='VALUE', hue='COUNTRY', linestyles=linestyles, markers=markers, palette=palette, data=graphData, ax=ax)"
   ]
  },
  {
   "cell_type": "code",
   "execution_count": 144,
   "metadata": {
    "collapsed": false
   },
   "outputs": [],
   "source": [
    "import random\n",
    "def testClf(clf, numCountries=5):\n",
    "    countries = ['AFG', 'ALB', 'DZA', 'AGO', 'ATG', 'ARG', 'ARM', 'AUS', 'AUT',\n",
    "           'AZE', 'BGD', 'BRB', 'BLR', 'BEL', 'BLZ', 'BEN', 'BOL', 'BIH',\n",
    "           'BRA', 'BRN', 'BGR', 'BFA', 'BDI', 'CPV', 'KHM', 'CMR', 'CAN',\n",
    "           'CAF', 'TCD', 'CHL', 'CHN', 'COL', 'COM', 'COG', 'CRI', 'CIV',\n",
    "           'HRV', 'CUB', 'CYP', 'CZE', 'ZAR', 'DNK', 'DOM', 'EAP', 'ECU',\n",
    "           'EGY', 'SLV', 'EST', 'ETH', 'ECA', 'FJI', 'FIN', 'FRA', 'GAB',\n",
    "           'GEO', 'DEU', 'GHA', 'GRC', 'GRD', 'GTM', 'GIN', 'GNB', 'GUY',\n",
    "           'HTI', 'HIC', 'HND', 'HUN', 'IND', 'IDN', 'IRN', 'IRQ', 'IRL',\n",
    "           'ISR', 'ITA', 'JAM', 'JPN', 'JOR', 'KAZ', 'KEN', 'KOR', 'KWT',\n",
    "           'KGZ', 'LAO', 'LAC', 'LVA', 'LBN', 'LBR', 'LBY', 'LTU', 'LMY',\n",
    "           'LMC', 'LUX', 'MKD', 'MDG', 'MWI', 'MYS', 'MDV', 'MLI', 'MLT',\n",
    "           'MRT', 'MUS', 'MEX', 'MNA', 'MIC', 'MDA', 'MNG', 'MAR', 'MOZ',\n",
    "           'NPL', 'NLD', 'NZL', 'NIC', 'NER', 'NGA', 'NOR', 'OMN', 'PAK',\n",
    "           'PAN', 'PNG', 'PRY', 'PER', 'PHL', 'POL', 'PRT', 'QAT', 'ROM',\n",
    "           'RUS', 'RWA', 'STP', 'SAU', 'SEN', 'SLE', 'SVK', 'SVN', 'SLB',\n",
    "           'ZAF', 'SAS', 'ESP', 'LKA', 'VCT', 'SSA', 'SDN', 'SUR', 'SWE',\n",
    "           'CHE', 'SYR', 'TJK', 'TZA', 'THA', 'BHS', 'GMB', 'TGO', 'TTO',\n",
    "           'TUN', 'TUR', 'TKM', 'UGA', 'UKR', 'ARE', 'GBR', 'USA', 'UMC',\n",
    "           'URY', 'UZB', 'VUT', 'VEN', 'VNM', 'WLD', 'YEM', 'ZMB', 'ZWE']\n",
    "    random.shuffle(countries)\n",
    "    testClfWithCountries(clf, countries[0:numCountries])"
   ]
  },
  {
   "cell_type": "code",
   "execution_count": 146,
   "metadata": {
    "collapsed": false
   },
   "outputs": [
    {
     "data": {
      "image/png": "[encoded data removed]",
      "text/plain": [
       "<matplotlib.figure.Figure at 0x11846c6a0>"
      ]
     },
     "metadata": {},
     "output_type": "display_data"
    }
   ],
   "source": [
    "testClf(clf, 1)"
   ]
  },
  {
   "cell_type": "code",
   "execution_count": null,
   "metadata": {
    "collapsed": false
   },
   "outputs": [],
   "source": []
  },
  {
   "cell_type": "code",
   "execution_count": null,
   "metadata": {
    "collapsed": false
   },
   "outputs": [],
   "source": []
  },
  {
   "cell_type": "code",
   "execution_count": null,
   "metadata": {
    "collapsed": false
   },
   "outputs": [],
   "source": []
  },
  {
   "cell_type": "code",
   "execution_count": null,
   "metadata": {
    "collapsed": false
   },
   "outputs": [],
   "source": []
  },
  {
   "cell_type": "code",
   "execution_count": null,
   "metadata": {
    "collapsed": false
   },
   "outputs": [],
   "source": []
  },
  {
   "cell_type": "code",
   "execution_count": null,
   "metadata": {
    "collapsed": false
   },
   "outputs": [],
   "source": []
  },
  {
   "cell_type": "code",
   "execution_count": null,
   "metadata": {
    "collapsed": true
   },
   "outputs": [],
   "source": []
  }
 ],
 "metadata": {
  "kernelspec": {
   "display_name": "Python 3",
   "language": "python",
   "name": "python3"
  },
  "language_info": {
   "codemirror_mode": {
    "name": "ipython",
    "version": 3
   },
   "file_extension": ".py",
   "mimetype": "text/x-python",
   "name": "python",
   "nbconvert_exporter": "python",
   "pygments_lexer": "ipython3",
   "version": "3.5.1"
  }
 },
 "nbformat": 4,
 "nbformat_minor": 0
}
