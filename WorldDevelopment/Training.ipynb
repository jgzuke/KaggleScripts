{
 "cells": [
  {
   "cell_type": "code",
   "execution_count": 62,
   "metadata": {
    "collapsed": false
   },
   "outputs": [
    {
     "data": {
      "text/html": [
       "<div>\n",
       "<table border=\"1\" class=\"dataframe\">\n",
       "  <thead>\n",
       "    <tr style=\"text-align: right;\">\n",
       "      <th></th>\n",
       "      <th>0</th>\n",
       "      <th>1</th>\n",
       "      <th>2</th>\n",
       "      <th>3</th>\n",
       "      <th>4</th>\n",
       "      <th>5</th>\n",
       "      <th>6</th>\n",
       "      <th>7</th>\n",
       "      <th>8</th>\n",
       "      <th>9</th>\n",
       "      <th>...</th>\n",
       "      <th>305</th>\n",
       "      <th>306</th>\n",
       "      <th>307</th>\n",
       "      <th>308</th>\n",
       "      <th>309</th>\n",
       "      <th>310</th>\n",
       "      <th>311</th>\n",
       "      <th>312</th>\n",
       "      <th>313</th>\n",
       "      <th>314</th>\n",
       "    </tr>\n",
       "  </thead>\n",
       "  <tbody>\n",
       "    <tr>\n",
       "      <th>0</th>\n",
       "      <td>1.673333e+09</td>\n",
       "      <td>161.384702</td>\n",
       "      <td>3826000.0</td>\n",
       "      <td>1224.516</td>\n",
       "      <td>83.05</td>\n",
       "      <td>70.20</td>\n",
       "      <td>3124500.0</td>\n",
       "      <td>60.38</td>\n",
       "      <td>15.881812</td>\n",
       "      <td>9287155.0</td>\n",
       "      <td>...</td>\n",
       "      <td>7.450</td>\n",
       "      <td>100000000.0</td>\n",
       "      <td>99900000.0</td>\n",
       "      <td>47.314314</td>\n",
       "      <td>42.712713</td>\n",
       "      <td>141000000.0</td>\n",
       "      <td>145386000.0</td>\n",
       "      <td>32.425405</td>\n",
       "      <td>57.253106</td>\n",
       "      <td>13.161423</td>\n",
       "    </tr>\n",
       "    <tr>\n",
       "      <th>1</th>\n",
       "      <td>1.733333e+09</td>\n",
       "      <td>144.173944</td>\n",
       "      <td>4270000.0</td>\n",
       "      <td>1279.592</td>\n",
       "      <td>91.25</td>\n",
       "      <td>73.56</td>\n",
       "      <td>3337000.0</td>\n",
       "      <td>58.45</td>\n",
       "      <td>18.415149</td>\n",
       "      <td>10492529.0</td>\n",
       "      <td>...</td>\n",
       "      <td>7.449</td>\n",
       "      <td>306000000.0</td>\n",
       "      <td>313137000.0</td>\n",
       "      <td>45.115397</td>\n",
       "      <td>35.590492</td>\n",
       "      <td>328000000.0</td>\n",
       "      <td>458652000.0</td>\n",
       "      <td>45.553055</td>\n",
       "      <td>45.343964</td>\n",
       "      <td>21.467268</td>\n",
       "    </tr>\n",
       "    <tr>\n",
       "      <th>2</th>\n",
       "      <td>2.155555e+09</td>\n",
       "      <td>175.027098</td>\n",
       "      <td>4351000.0</td>\n",
       "      <td>1301.915</td>\n",
       "      <td>94.92</td>\n",
       "      <td>76.02</td>\n",
       "      <td>3342000.0</td>\n",
       "      <td>61.00</td>\n",
       "      <td>18.864003</td>\n",
       "      <td>10696181.0</td>\n",
       "      <td>...</td>\n",
       "      <td>7.449</td>\n",
       "      <td>321000000.0</td>\n",
       "      <td>269156000.0</td>\n",
       "      <td>43.718141</td>\n",
       "      <td>27.069432</td>\n",
       "      <td>395000000.0</td>\n",
       "      <td>450516000.0</td>\n",
       "      <td>53.467801</td>\n",
       "      <td>34.542835</td>\n",
       "      <td>21.696969</td>\n",
       "    </tr>\n",
       "    <tr>\n",
       "      <th>3</th>\n",
       "      <td>2.366667e+09</td>\n",
       "      <td>188.085136</td>\n",
       "      <td>4481000.0</td>\n",
       "      <td>1316.392</td>\n",
       "      <td>97.68</td>\n",
       "      <td>78.24</td>\n",
       "      <td>3404000.0</td>\n",
       "      <td>63.38</td>\n",
       "      <td>19.273587</td>\n",
       "      <td>10873811.0</td>\n",
       "      <td>...</td>\n",
       "      <td>7.449</td>\n",
       "      <td>474000000.0</td>\n",
       "      <td>435015000.0</td>\n",
       "      <td>60.016551</td>\n",
       "      <td>18.152248</td>\n",
       "      <td>425000000.0</td>\n",
       "      <td>551216000.0</td>\n",
       "      <td>68.909647</td>\n",
       "      <td>24.561515</td>\n",
       "      <td>24.310830</td>\n",
       "    </tr>\n",
       "    <tr>\n",
       "      <th>4</th>\n",
       "      <td>2.555556e+09</td>\n",
       "      <td>199.164809</td>\n",
       "      <td>4624000.0</td>\n",
       "      <td>1362.404</td>\n",
       "      <td>102.93</td>\n",
       "      <td>83.72</td>\n",
       "      <td>3394000.0</td>\n",
       "      <td>69.07</td>\n",
       "      <td>19.654077</td>\n",
       "      <td>11031249.0</td>\n",
       "      <td>...</td>\n",
       "      <td>7.449</td>\n",
       "      <td>670000000.0</td>\n",
       "      <td>670474000.0</td>\n",
       "      <td>64.592065</td>\n",
       "      <td>19.471896</td>\n",
       "      <td>841000000.0</td>\n",
       "      <td>494754000.0</td>\n",
       "      <td>60.669343</td>\n",
       "      <td>32.162044</td>\n",
       "      <td>41.491344</td>\n",
       "    </tr>\n",
       "  </tbody>\n",
       "</table>\n",
       "<p>5 rows × 315 columns</p>\n",
       "</div>"
      ],
      "text/plain": [
       "              0           1          2         3       4      5          6  \\\n",
       "0  1.673333e+09  161.384702  3826000.0  1224.516   83.05  70.20  3124500.0   \n",
       "1  1.733333e+09  144.173944  4270000.0  1279.592   91.25  73.56  3337000.0   \n",
       "2  2.155555e+09  175.027098  4351000.0  1301.915   94.92  76.02  3342000.0   \n",
       "3  2.366667e+09  188.085136  4481000.0  1316.392   97.68  78.24  3404000.0   \n",
       "4  2.555556e+09  199.164809  4624000.0  1362.404  102.93  83.72  3394000.0   \n",
       "\n",
       "       7          8           9    ...        305          306          307  \\\n",
       "0  60.38  15.881812   9287155.0    ...      7.450  100000000.0   99900000.0   \n",
       "1  58.45  18.415149  10492529.0    ...      7.449  306000000.0  313137000.0   \n",
       "2  61.00  18.864003  10696181.0    ...      7.449  321000000.0  269156000.0   \n",
       "3  63.38  19.273587  10873811.0    ...      7.449  474000000.0  435015000.0   \n",
       "4  69.07  19.654077  11031249.0    ...      7.449  670000000.0  670474000.0   \n",
       "\n",
       "         308        309          310          311        312        313  \\\n",
       "0  47.314314  42.712713  141000000.0  145386000.0  32.425405  57.253106   \n",
       "1  45.115397  35.590492  328000000.0  458652000.0  45.553055  45.343964   \n",
       "2  43.718141  27.069432  395000000.0  450516000.0  53.467801  34.542835   \n",
       "3  60.016551  18.152248  425000000.0  551216000.0  68.909647  24.561515   \n",
       "4  64.592065  19.471896  841000000.0  494754000.0  60.669343  32.162044   \n",
       "\n",
       "         314  \n",
       "0  13.161423  \n",
       "1  21.467268  \n",
       "2  21.696969  \n",
       "3  24.310830  \n",
       "4  41.491344  \n",
       "\n",
       "[5 rows x 315 columns]"
      ]
     },
     "execution_count": 62,
     "metadata": {},
     "output_type": "execute_result"
    }
   ],
   "source": [
    "%matplotlib inline\n",
    "import pandas as pd\n",
    "import numpy as np\n",
    "X = pd.read_csv(\"data/xSave.csv\", index_col=0)\n",
    "y = pd.read_csv(\"data/ySave.csv\", index_col=0) #, usecols=['YEAR_5'])\n",
    "X.head()"
   ]
  },
  {
   "cell_type": "code",
   "execution_count": 63,
   "metadata": {
    "collapsed": false
   },
   "outputs": [
    {
     "data": {
      "text/html": [
       "<div>\n",
       "<table border=\"1\" class=\"dataframe\">\n",
       "  <thead>\n",
       "    <tr style=\"text-align: right;\">\n",
       "      <th></th>\n",
       "      <th>YEAR_0</th>\n",
       "      <th>YEAR_1</th>\n",
       "      <th>YEAR_2</th>\n",
       "      <th>YEAR_3</th>\n",
       "      <th>YEAR_4</th>\n",
       "    </tr>\n",
       "  </thead>\n",
       "  <tbody>\n",
       "    <tr>\n",
       "      <th>0</th>\n",
       "      <td>145.3210</td>\n",
       "      <td>146.2150</td>\n",
       "      <td>147.1090</td>\n",
       "      <td>148.0030</td>\n",
       "      <td>148.8970</td>\n",
       "    </tr>\n",
       "    <tr>\n",
       "      <th>1</th>\n",
       "      <td>150.8782</td>\n",
       "      <td>151.9654</td>\n",
       "      <td>153.0526</td>\n",
       "      <td>154.1398</td>\n",
       "      <td>155.2270</td>\n",
       "    </tr>\n",
       "    <tr>\n",
       "      <th>2</th>\n",
       "      <td>151.9654</td>\n",
       "      <td>153.0526</td>\n",
       "      <td>154.1398</td>\n",
       "      <td>155.2270</td>\n",
       "      <td>156.3758</td>\n",
       "    </tr>\n",
       "    <tr>\n",
       "      <th>3</th>\n",
       "      <td>153.0526</td>\n",
       "      <td>154.1398</td>\n",
       "      <td>155.2270</td>\n",
       "      <td>156.3758</td>\n",
       "      <td>157.5246</td>\n",
       "    </tr>\n",
       "    <tr>\n",
       "      <th>4</th>\n",
       "      <td>154.1398</td>\n",
       "      <td>155.2270</td>\n",
       "      <td>156.3758</td>\n",
       "      <td>157.5246</td>\n",
       "      <td>158.6734</td>\n",
       "    </tr>\n",
       "  </tbody>\n",
       "</table>\n",
       "</div>"
      ],
      "text/plain": [
       "     YEAR_0    YEAR_1    YEAR_2    YEAR_3    YEAR_4\n",
       "0  145.3210  146.2150  147.1090  148.0030  148.8970\n",
       "1  150.8782  151.9654  153.0526  154.1398  155.2270\n",
       "2  151.9654  153.0526  154.1398  155.2270  156.3758\n",
       "3  153.0526  154.1398  155.2270  156.3758  157.5246\n",
       "4  154.1398  155.2270  156.3758  157.5246  158.6734"
      ]
     },
     "execution_count": 63,
     "metadata": {},
     "output_type": "execute_result"
    }
   ],
   "source": [
    "y.head()"
   ]
  },
  {
   "cell_type": "code",
   "execution_count": 71,
   "metadata": {
    "collapsed": false
   },
   "outputs": [],
   "source": [
    "from sklearn.cross_validation import train_test_split\n",
    "X_train, X_test, y_train, y_test = train_test_split(X, y.YEAR_4, test_size=0.2, random_state=0)"
   ]
  },
  {
   "cell_type": "code",
   "execution_count": 76,
   "metadata": {
    "collapsed": false
   },
   "outputs": [],
   "source": [
    "from sklearn.preprocessing import StandardScaler\n",
    "from sklearn.cross_validation import cross_val_score\n",
    "scaler = StandardScaler()\n",
    "scaler.fit(X_train)\n",
    "X_train = scaler.transform(X_train)\n",
    "X_test = scaler.transform(X_test)"
   ]
  },
  {
   "cell_type": "code",
   "execution_count": 77,
   "metadata": {
    "collapsed": false
   },
   "outputs": [
    {
     "data": {
      "text/plain": [
       "array([ 0.99363517,  0.9913532 ,  0.99371071,  0.99245997,  0.99400507])"
      ]
     },
     "execution_count": 77,
     "metadata": {},
     "output_type": "execute_result"
    }
   ],
   "source": [
    "from sklearn.linear_model import LinearRegression\n",
    "clf = LinearRegression(normalize=True)\n",
    "clf.fit(X_train, y_train)\n",
    "cv_scores = cross_val_score(clf, X_train, y_train, cv=5)\n",
    "cv_scores"
   ]
  },
  {
   "cell_type": "code",
   "execution_count": null,
   "metadata": {
    "collapsed": false
   },
   "outputs": [],
   "source": [
    "param_grid = [\n",
    "    {'C': [10], 'kernel': ['linear']},\n",
    "    {'C': [10], 'gamma': [0.03], 'kernel': ['rbf']},\n",
    "]\n",
    "svm_grid = GridSearchCV(SVR(), param_grid, cv=4)\n",
    "svm_grid = svm_grid.fit(X_train, y_train)\n",
    "svm_grid = svm_grid.best_estimator_\n",
    "svm_grid.score(X_test, y_test)"
   ]
  },
  {
   "cell_type": "code",
   "execution_count": null,
   "metadata": {
    "collapsed": false
   },
   "outputs": [],
   "source": []
  },
  {
   "cell_type": "code",
   "execution_count": null,
   "metadata": {
    "collapsed": false
   },
   "outputs": [],
   "source": []
  },
  {
   "cell_type": "code",
   "execution_count": null,
   "metadata": {
    "collapsed": true
   },
   "outputs": [],
   "source": []
  }
 ],
 "metadata": {
  "kernelspec": {
   "display_name": "Python 3",
   "language": "python",
   "name": "python3"
  },
  "language_info": {
   "codemirror_mode": {
    "name": "ipython",
    "version": 3
   },
   "file_extension": ".py",
   "mimetype": "text/x-python",
   "name": "python",
   "nbconvert_exporter": "python",
   "pygments_lexer": "ipython3",
   "version": "3.5.1"
  }
 },
 "nbformat": 4,
 "nbformat_minor": 0
}
