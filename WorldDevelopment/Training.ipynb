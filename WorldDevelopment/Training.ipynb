{
 "cells": [
  {
   "cell_type": "code",
   "execution_count": 132,
   "metadata": {
    "collapsed": false
   },
   "outputs": [
    {
     "data": {
      "text/html": [
       "<div>\n",
       "<table border=\"1\" class=\"dataframe\">\n",
       "  <thead>\n",
       "    <tr style=\"text-align: right;\">\n",
       "      <th></th>\n",
       "      <th>OBSERVATION</th>\n",
       "      <th>NY.GDP.MKTP.CD_0</th>\n",
       "      <th>NY.GDP.PCAP.CD_0</th>\n",
       "      <th>AG.PRD.CREL.MT_0</th>\n",
       "      <th>AG.YLD.CREL.KG_0</th>\n",
       "      <th>AG.PRD.CROP.XD_0</th>\n",
       "      <th>AG.PRD.FOOD.XD_0</th>\n",
       "      <th>AG.LND.CREL.HA_0</th>\n",
       "      <th>AG.PRD.LVSK.XD_0</th>\n",
       "      <th>EN.POP.DNST_0</th>\n",
       "      <th>...</th>\n",
       "      <th>SP.DYN.TFRT.IN_4</th>\n",
       "      <th>TX.VAL.MRCH.CD.WT_4</th>\n",
       "      <th>TX.VAL.MRCH.WL.CD_4</th>\n",
       "      <th>TX.VAL.MRCH.RS.ZS_4</th>\n",
       "      <th>TX.VAL.MRCH.HI.ZS_4</th>\n",
       "      <th>TM.VAL.MRCH.CD.WT_4</th>\n",
       "      <th>TM.VAL.MRCH.WL.CD_4</th>\n",
       "      <th>TM.VAL.MRCH.RS.ZS_4</th>\n",
       "      <th>TM.VAL.MRCH.HI.ZS_4</th>\n",
       "      <th>TG.VAL.TOTL.GD.ZS_4</th>\n",
       "    </tr>\n",
       "  </thead>\n",
       "  <tbody>\n",
       "    <tr>\n",
       "      <th>0</th>\n",
       "      <td>AFG_1971</td>\n",
       "      <td>1.673333e+09</td>\n",
       "      <td>161.384702</td>\n",
       "      <td>3826000.0</td>\n",
       "      <td>1224.516</td>\n",
       "      <td>83.05</td>\n",
       "      <td>70.20</td>\n",
       "      <td>3124500.0</td>\n",
       "      <td>60.38</td>\n",
       "      <td>15.881812</td>\n",
       "      <td>...</td>\n",
       "      <td>7.450</td>\n",
       "      <td>100000000.0</td>\n",
       "      <td>99900000.0</td>\n",
       "      <td>47.314314</td>\n",
       "      <td>42.712713</td>\n",
       "      <td>141000000.0</td>\n",
       "      <td>145386000.0</td>\n",
       "      <td>32.425405</td>\n",
       "      <td>57.253106</td>\n",
       "      <td>13.161423</td>\n",
       "    </tr>\n",
       "    <tr>\n",
       "      <th>1</th>\n",
       "      <td>AFG_1977</td>\n",
       "      <td>1.733333e+09</td>\n",
       "      <td>144.173944</td>\n",
       "      <td>4270000.0</td>\n",
       "      <td>1279.592</td>\n",
       "      <td>91.25</td>\n",
       "      <td>73.56</td>\n",
       "      <td>3337000.0</td>\n",
       "      <td>58.45</td>\n",
       "      <td>18.415149</td>\n",
       "      <td>...</td>\n",
       "      <td>7.449</td>\n",
       "      <td>306000000.0</td>\n",
       "      <td>313137000.0</td>\n",
       "      <td>45.115397</td>\n",
       "      <td>35.590492</td>\n",
       "      <td>328000000.0</td>\n",
       "      <td>458652000.0</td>\n",
       "      <td>45.553055</td>\n",
       "      <td>45.343964</td>\n",
       "      <td>21.467268</td>\n",
       "    </tr>\n",
       "    <tr>\n",
       "      <th>2</th>\n",
       "      <td>AFG_1978</td>\n",
       "      <td>2.155555e+09</td>\n",
       "      <td>175.027098</td>\n",
       "      <td>4351000.0</td>\n",
       "      <td>1301.915</td>\n",
       "      <td>94.92</td>\n",
       "      <td>76.02</td>\n",
       "      <td>3342000.0</td>\n",
       "      <td>61.00</td>\n",
       "      <td>18.864003</td>\n",
       "      <td>...</td>\n",
       "      <td>7.449</td>\n",
       "      <td>321000000.0</td>\n",
       "      <td>269156000.0</td>\n",
       "      <td>43.718141</td>\n",
       "      <td>27.069432</td>\n",
       "      <td>395000000.0</td>\n",
       "      <td>450516000.0</td>\n",
       "      <td>53.467801</td>\n",
       "      <td>34.542835</td>\n",
       "      <td>21.696969</td>\n",
       "    </tr>\n",
       "    <tr>\n",
       "      <th>3</th>\n",
       "      <td>AFG_1979</td>\n",
       "      <td>2.366667e+09</td>\n",
       "      <td>188.085136</td>\n",
       "      <td>4481000.0</td>\n",
       "      <td>1316.392</td>\n",
       "      <td>97.68</td>\n",
       "      <td>78.24</td>\n",
       "      <td>3404000.0</td>\n",
       "      <td>63.38</td>\n",
       "      <td>19.273587</td>\n",
       "      <td>...</td>\n",
       "      <td>7.449</td>\n",
       "      <td>474000000.0</td>\n",
       "      <td>435015000.0</td>\n",
       "      <td>60.016551</td>\n",
       "      <td>18.152248</td>\n",
       "      <td>425000000.0</td>\n",
       "      <td>551216000.0</td>\n",
       "      <td>68.909647</td>\n",
       "      <td>24.561515</td>\n",
       "      <td>24.310830</td>\n",
       "    </tr>\n",
       "    <tr>\n",
       "      <th>4</th>\n",
       "      <td>AFG_1980</td>\n",
       "      <td>2.555556e+09</td>\n",
       "      <td>199.164809</td>\n",
       "      <td>4624000.0</td>\n",
       "      <td>1362.404</td>\n",
       "      <td>102.93</td>\n",
       "      <td>83.72</td>\n",
       "      <td>3394000.0</td>\n",
       "      <td>69.07</td>\n",
       "      <td>19.654077</td>\n",
       "      <td>...</td>\n",
       "      <td>7.449</td>\n",
       "      <td>670000000.0</td>\n",
       "      <td>670474000.0</td>\n",
       "      <td>64.592065</td>\n",
       "      <td>19.471896</td>\n",
       "      <td>841000000.0</td>\n",
       "      <td>494754000.0</td>\n",
       "      <td>60.669343</td>\n",
       "      <td>32.162044</td>\n",
       "      <td>41.491344</td>\n",
       "    </tr>\n",
       "  </tbody>\n",
       "</table>\n",
       "<p>5 rows × 316 columns</p>\n",
       "</div>"
      ],
      "text/plain": [
       "  OBSERVATION  NY.GDP.MKTP.CD_0  NY.GDP.PCAP.CD_0  AG.PRD.CREL.MT_0  \\\n",
       "0    AFG_1971      1.673333e+09        161.384702         3826000.0   \n",
       "1    AFG_1977      1.733333e+09        144.173944         4270000.0   \n",
       "2    AFG_1978      2.155555e+09        175.027098         4351000.0   \n",
       "3    AFG_1979      2.366667e+09        188.085136         4481000.0   \n",
       "4    AFG_1980      2.555556e+09        199.164809         4624000.0   \n",
       "\n",
       "   AG.YLD.CREL.KG_0  AG.PRD.CROP.XD_0  AG.PRD.FOOD.XD_0  AG.LND.CREL.HA_0  \\\n",
       "0          1224.516             83.05             70.20         3124500.0   \n",
       "1          1279.592             91.25             73.56         3337000.0   \n",
       "2          1301.915             94.92             76.02         3342000.0   \n",
       "3          1316.392             97.68             78.24         3404000.0   \n",
       "4          1362.404            102.93             83.72         3394000.0   \n",
       "\n",
       "   AG.PRD.LVSK.XD_0  EN.POP.DNST_0         ...           SP.DYN.TFRT.IN_4  \\\n",
       "0             60.38      15.881812         ...                      7.450   \n",
       "1             58.45      18.415149         ...                      7.449   \n",
       "2             61.00      18.864003         ...                      7.449   \n",
       "3             63.38      19.273587         ...                      7.449   \n",
       "4             69.07      19.654077         ...                      7.449   \n",
       "\n",
       "   TX.VAL.MRCH.CD.WT_4  TX.VAL.MRCH.WL.CD_4  TX.VAL.MRCH.RS.ZS_4  \\\n",
       "0          100000000.0           99900000.0            47.314314   \n",
       "1          306000000.0          313137000.0            45.115397   \n",
       "2          321000000.0          269156000.0            43.718141   \n",
       "3          474000000.0          435015000.0            60.016551   \n",
       "4          670000000.0          670474000.0            64.592065   \n",
       "\n",
       "   TX.VAL.MRCH.HI.ZS_4  TM.VAL.MRCH.CD.WT_4  TM.VAL.MRCH.WL.CD_4  \\\n",
       "0            42.712713          141000000.0          145386000.0   \n",
       "1            35.590492          328000000.0          458652000.0   \n",
       "2            27.069432          395000000.0          450516000.0   \n",
       "3            18.152248          425000000.0          551216000.0   \n",
       "4            19.471896          841000000.0          494754000.0   \n",
       "\n",
       "   TM.VAL.MRCH.RS.ZS_4  TM.VAL.MRCH.HI.ZS_4  TG.VAL.TOTL.GD.ZS_4  \n",
       "0            32.425405            57.253106            13.161423  \n",
       "1            45.553055            45.343964            21.467268  \n",
       "2            53.467801            34.542835            21.696969  \n",
       "3            68.909647            24.561515            24.310830  \n",
       "4            60.669343            32.162044            41.491344  \n",
       "\n",
       "[5 rows x 316 columns]"
      ]
     },
     "execution_count": 132,
     "metadata": {},
     "output_type": "execute_result"
    }
   ],
   "source": [
    "%matplotlib inline\n",
    "import pandas as pd\n",
    "import numpy as np\n",
    "X = pd.read_csv(\"data/xSave.csv\", index_col=0)\n",
    "y = pd.read_csv(\"data/ySave.csv\", index_col=0) #, usecols=['YEAR_5'])\n",
    "columns=['CountryCode', 'IndicatorCode', 'Year', 'Value']\n",
    "data = pd.read_csv(\"data/indicators.csv\", usecols=(columns))\n",
    "X.head()"
   ]
  },
  {
   "cell_type": "code",
   "execution_count": 133,
   "metadata": {
    "collapsed": false
   },
   "outputs": [
    {
     "data": {
      "text/html": [
       "<div>\n",
       "<table border=\"1\" class=\"dataframe\">\n",
       "  <thead>\n",
       "    <tr style=\"text-align: right;\">\n",
       "      <th></th>\n",
       "      <th>YEAR_0</th>\n",
       "      <th>YEAR_1</th>\n",
       "      <th>YEAR_2</th>\n",
       "      <th>YEAR_3</th>\n",
       "      <th>YEAR_4</th>\n",
       "    </tr>\n",
       "  </thead>\n",
       "  <tbody>\n",
       "    <tr>\n",
       "      <th>0</th>\n",
       "      <td>145.3210</td>\n",
       "      <td>146.2150</td>\n",
       "      <td>147.1090</td>\n",
       "      <td>148.0030</td>\n",
       "      <td>148.8970</td>\n",
       "    </tr>\n",
       "    <tr>\n",
       "      <th>1</th>\n",
       "      <td>150.8782</td>\n",
       "      <td>151.9654</td>\n",
       "      <td>153.0526</td>\n",
       "      <td>154.1398</td>\n",
       "      <td>155.2270</td>\n",
       "    </tr>\n",
       "    <tr>\n",
       "      <th>2</th>\n",
       "      <td>151.9654</td>\n",
       "      <td>153.0526</td>\n",
       "      <td>154.1398</td>\n",
       "      <td>155.2270</td>\n",
       "      <td>156.3758</td>\n",
       "    </tr>\n",
       "    <tr>\n",
       "      <th>3</th>\n",
       "      <td>153.0526</td>\n",
       "      <td>154.1398</td>\n",
       "      <td>155.2270</td>\n",
       "      <td>156.3758</td>\n",
       "      <td>157.5246</td>\n",
       "    </tr>\n",
       "    <tr>\n",
       "      <th>4</th>\n",
       "      <td>154.1398</td>\n",
       "      <td>155.2270</td>\n",
       "      <td>156.3758</td>\n",
       "      <td>157.5246</td>\n",
       "      <td>158.6734</td>\n",
       "    </tr>\n",
       "  </tbody>\n",
       "</table>\n",
       "</div>"
      ],
      "text/plain": [
       "     YEAR_0    YEAR_1    YEAR_2    YEAR_3    YEAR_4\n",
       "0  145.3210  146.2150  147.1090  148.0030  148.8970\n",
       "1  150.8782  151.9654  153.0526  154.1398  155.2270\n",
       "2  151.9654  153.0526  154.1398  155.2270  156.3758\n",
       "3  153.0526  154.1398  155.2270  156.3758  157.5246\n",
       "4  154.1398  155.2270  156.3758  157.5246  158.6734"
      ]
     },
     "execution_count": 133,
     "metadata": {},
     "output_type": "execute_result"
    }
   ],
   "source": [
    "y.head()"
   ]
  },
  {
   "cell_type": "code",
   "execution_count": 134,
   "metadata": {
    "collapsed": false
   },
   "outputs": [],
   "source": [
    "# Can use OBSERVATION to get new y Data if we want to train on something else\n",
    "predictionFeature = 'SP.ADO.TFRT'\n",
    "pData = data[data.IndicatorCode == predictionFeature]\n",
    "pData.head()\n",
    "\n",
    "observations = [observation.split('_') for observation in X.OBSERVATION.values]\n",
    "values = [pData[(pData.CountryCode == value[0]) & (pData.Year == int(value[1]))].Value.values[0] for value in observations]\n",
    "#y = pd.DataFrame(values, index=X.OBSERVATION.values, columns=['Value'])"
   ]
  },
  {
   "cell_type": "code",
   "execution_count": 135,
   "metadata": {
    "collapsed": false
   },
   "outputs": [],
   "source": [
    "from sklearn.cross_validation import train_test_split\n",
    "X_train, X_test, y_train, y_test = train_test_split(X, y.YEAR_4, test_size=0.2, random_state=0)"
   ]
  },
  {
   "cell_type": "code",
   "execution_count": 136,
   "metadata": {
    "collapsed": false
   },
   "outputs": [
    {
     "ename": "ValueError",
     "evalue": "could not convert string to float: 'MWI_1988'",
     "output_type": "error",
     "traceback": [
      "\u001b[0;31m---------------------------------------------------------------------------\u001b[0m",
      "\u001b[0;31mValueError\u001b[0m                                Traceback (most recent call last)",
      "\u001b[0;32m<ipython-input-136-af484f6d957f>\u001b[0m in \u001b[0;36m<module>\u001b[0;34m()\u001b[0m\n\u001b[1;32m      2\u001b[0m \u001b[0;32mfrom\u001b[0m \u001b[0msklearn\u001b[0m\u001b[0;34m.\u001b[0m\u001b[0mcross_validation\u001b[0m \u001b[0;32mimport\u001b[0m \u001b[0mcross_val_score\u001b[0m\u001b[0;34m\u001b[0m\u001b[0m\n\u001b[1;32m      3\u001b[0m \u001b[0mscaler\u001b[0m \u001b[0;34m=\u001b[0m \u001b[0mStandardScaler\u001b[0m\u001b[0;34m(\u001b[0m\u001b[0;34m)\u001b[0m\u001b[0;34m\u001b[0m\u001b[0m\n\u001b[0;32m----> 4\u001b[0;31m \u001b[0mscaler\u001b[0m\u001b[0;34m.\u001b[0m\u001b[0mfit\u001b[0m\u001b[0;34m(\u001b[0m\u001b[0mX_train\u001b[0m\u001b[0;34m)\u001b[0m\u001b[0;34m\u001b[0m\u001b[0m\n\u001b[0m\u001b[1;32m      5\u001b[0m \u001b[0mX_train\u001b[0m \u001b[0;34m=\u001b[0m \u001b[0mscaler\u001b[0m\u001b[0;34m.\u001b[0m\u001b[0mtransform\u001b[0m\u001b[0;34m(\u001b[0m\u001b[0mX_train\u001b[0m\u001b[0;34m)\u001b[0m\u001b[0;34m\u001b[0m\u001b[0m\n\u001b[1;32m      6\u001b[0m \u001b[0mX_test\u001b[0m \u001b[0;34m=\u001b[0m \u001b[0mscaler\u001b[0m\u001b[0;34m.\u001b[0m\u001b[0mtransform\u001b[0m\u001b[0;34m(\u001b[0m\u001b[0mX_test\u001b[0m\u001b[0;34m)\u001b[0m\u001b[0;34m\u001b[0m\u001b[0m\n",
      "\u001b[0;32m/Users/jgzuke/anaconda3/lib/python3.5/site-packages/sklearn/preprocessing/data.py\u001b[0m in \u001b[0;36mfit\u001b[0;34m(self, X, y)\u001b[0m\n\u001b[1;32m    555\u001b[0m         \u001b[0;31m# Reset internal state before fitting\u001b[0m\u001b[0;34m\u001b[0m\u001b[0;34m\u001b[0m\u001b[0m\n\u001b[1;32m    556\u001b[0m         \u001b[0mself\u001b[0m\u001b[0;34m.\u001b[0m\u001b[0m_reset\u001b[0m\u001b[0;34m(\u001b[0m\u001b[0;34m)\u001b[0m\u001b[0;34m\u001b[0m\u001b[0m\n\u001b[0;32m--> 557\u001b[0;31m         \u001b[0;32mreturn\u001b[0m \u001b[0mself\u001b[0m\u001b[0;34m.\u001b[0m\u001b[0mpartial_fit\u001b[0m\u001b[0;34m(\u001b[0m\u001b[0mX\u001b[0m\u001b[0;34m,\u001b[0m \u001b[0my\u001b[0m\u001b[0;34m)\u001b[0m\u001b[0;34m\u001b[0m\u001b[0m\n\u001b[0m\u001b[1;32m    558\u001b[0m \u001b[0;34m\u001b[0m\u001b[0m\n\u001b[1;32m    559\u001b[0m     \u001b[0;32mdef\u001b[0m \u001b[0mpartial_fit\u001b[0m\u001b[0;34m(\u001b[0m\u001b[0mself\u001b[0m\u001b[0;34m,\u001b[0m \u001b[0mX\u001b[0m\u001b[0;34m,\u001b[0m \u001b[0my\u001b[0m\u001b[0;34m=\u001b[0m\u001b[0;32mNone\u001b[0m\u001b[0;34m)\u001b[0m\u001b[0;34m:\u001b[0m\u001b[0;34m\u001b[0m\u001b[0m\n",
      "\u001b[0;32m/Users/jgzuke/anaconda3/lib/python3.5/site-packages/sklearn/preprocessing/data.py\u001b[0m in \u001b[0;36mpartial_fit\u001b[0;34m(self, X, y)\u001b[0m\n\u001b[1;32m    578\u001b[0m         X = check_array(X, accept_sparse=('csr', 'csc'), copy=self.copy,\n\u001b[1;32m    579\u001b[0m                         \u001b[0mensure_2d\u001b[0m\u001b[0;34m=\u001b[0m\u001b[0;32mFalse\u001b[0m\u001b[0;34m,\u001b[0m \u001b[0mwarn_on_dtype\u001b[0m\u001b[0;34m=\u001b[0m\u001b[0;32mTrue\u001b[0m\u001b[0;34m,\u001b[0m\u001b[0;34m\u001b[0m\u001b[0m\n\u001b[0;32m--> 580\u001b[0;31m                         estimator=self, dtype=FLOAT_DTYPES)\n\u001b[0m\u001b[1;32m    581\u001b[0m \u001b[0;34m\u001b[0m\u001b[0m\n\u001b[1;32m    582\u001b[0m         \u001b[0;32mif\u001b[0m \u001b[0mX\u001b[0m\u001b[0;34m.\u001b[0m\u001b[0mndim\u001b[0m \u001b[0;34m==\u001b[0m \u001b[0;36m1\u001b[0m\u001b[0;34m:\u001b[0m\u001b[0;34m\u001b[0m\u001b[0m\n",
      "\u001b[0;32m/Users/jgzuke/anaconda3/lib/python3.5/site-packages/sklearn/utils/validation.py\u001b[0m in \u001b[0;36mcheck_array\u001b[0;34m(array, accept_sparse, dtype, order, copy, force_all_finite, ensure_2d, allow_nd, ensure_min_samples, ensure_min_features, warn_on_dtype, estimator)\u001b[0m\n\u001b[1;32m    371\u001b[0m                                       force_all_finite)\n\u001b[1;32m    372\u001b[0m     \u001b[0;32melse\u001b[0m\u001b[0;34m:\u001b[0m\u001b[0;34m\u001b[0m\u001b[0m\n\u001b[0;32m--> 373\u001b[0;31m         \u001b[0marray\u001b[0m \u001b[0;34m=\u001b[0m \u001b[0mnp\u001b[0m\u001b[0;34m.\u001b[0m\u001b[0marray\u001b[0m\u001b[0;34m(\u001b[0m\u001b[0marray\u001b[0m\u001b[0;34m,\u001b[0m \u001b[0mdtype\u001b[0m\u001b[0;34m=\u001b[0m\u001b[0mdtype\u001b[0m\u001b[0;34m,\u001b[0m \u001b[0morder\u001b[0m\u001b[0;34m=\u001b[0m\u001b[0morder\u001b[0m\u001b[0;34m,\u001b[0m \u001b[0mcopy\u001b[0m\u001b[0;34m=\u001b[0m\u001b[0mcopy\u001b[0m\u001b[0;34m)\u001b[0m\u001b[0;34m\u001b[0m\u001b[0m\n\u001b[0m\u001b[1;32m    374\u001b[0m \u001b[0;34m\u001b[0m\u001b[0m\n\u001b[1;32m    375\u001b[0m         \u001b[0;32mif\u001b[0m \u001b[0mensure_2d\u001b[0m\u001b[0;34m:\u001b[0m\u001b[0;34m\u001b[0m\u001b[0m\n",
      "\u001b[0;31mValueError\u001b[0m: could not convert string to float: 'MWI_1988'"
     ]
    }
   ],
   "source": [
    "from sklearn.preprocessing import StandardScaler\n",
    "from sklearn.cross_validation import cross_val_score\n",
    "scaler = StandardScaler()\n",
    "scaler.fit(X_train)\n",
    "X_train = scaler.transform(X_train)\n",
    "X_test = scaler.transform(X_test)"
   ]
  },
  {
   "cell_type": "code",
   "execution_count": null,
   "metadata": {
    "collapsed": false
   },
   "outputs": [],
   "source": [
    "from sklearn.linear_model import LinearRegression\n",
    "clf = LinearRegression(normalize=True)\n",
    "clf.fit(X_train, y_train)\n",
    "cv_scores = cross_val_score(clf, X_train, y_train, cv=5)\n",
    "cv_scores"
   ]
  },
  {
   "cell_type": "code",
   "execution_count": null,
   "metadata": {
    "collapsed": false
   },
   "outputs": [],
   "source": [
    "from sklearn.svm import SVR\n",
    "clf = SVR()\n",
    "clf.fit(X_train, y_train)\n",
    "cv_scores = cross_val_score(clf, X_train, y_train, cv=5)\n",
    "cv_scores"
   ]
  },
  {
   "cell_type": "code",
   "execution_count": 78,
   "metadata": {
    "collapsed": false
   },
   "outputs": [
    {
     "data": {
      "text/plain": [
       "0.99334943349973914"
      ]
     },
     "execution_count": 78,
     "metadata": {},
     "output_type": "execute_result"
    }
   ],
   "source": [
    "param_grid = [\n",
    "    {'C': [10], 'kernel': ['linear']},\n",
    "    {'C': [10], 'gamma': [0.03], 'kernel': ['rbf']},\n",
    "]\n",
    "svm_grid = GridSearchCV(SVR(), param_grid, cv=4)\n",
    "svm_grid = svm_grid.fit(X_train, y_train)\n",
    "svm_grid = svm_grid.best_estimator_\n",
    "svm_grid.score(X_test, y_test)"
   ]
  },
  {
   "cell_type": "code",
   "execution_count": null,
   "metadata": {
    "collapsed": false
   },
   "outputs": [],
   "source": []
  },
  {
   "cell_type": "code",
   "execution_count": null,
   "metadata": {
    "collapsed": true
   },
   "outputs": [],
   "source": []
  }
 ],
 "metadata": {
  "kernelspec": {
   "display_name": "Python 3",
   "language": "python",
   "name": "python3"
  },
  "language_info": {
   "codemirror_mode": {
    "name": "ipython",
    "version": 3
   },
   "file_extension": ".py",
   "mimetype": "text/x-python",
   "name": "python",
   "nbconvert_exporter": "python",
   "pygments_lexer": "ipython3",
   "version": "3.5.1"
  }
 },
 "nbformat": 4,
 "nbformat_minor": 0
}
