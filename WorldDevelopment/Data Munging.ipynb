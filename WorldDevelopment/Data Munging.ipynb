{
 "cells": [
  {
   "cell_type": "code",
   "execution_count": 53,
   "metadata": {
    "collapsed": false
   },
   "outputs": [],
   "source": [
    "%matplotlib inline\n",
    "import pandas as pd\n",
    "import numpy as np\n",
    "columns=['CountryCode', 'IndicatorCode', 'Year', 'Value']\n",
    "data = pd.read_csv(\"data/indicators.csv\", usecols=(columns))# nrows=1048576)"
   ]
  },
  {
   "cell_type": "code",
   "execution_count": 54,
   "metadata": {
    "collapsed": false
   },
   "outputs": [
    {
     "data": {
      "text/html": [
       "<div>\n",
       "<table border=\"1\" class=\"dataframe\">\n",
       "  <thead>\n",
       "    <tr style=\"text-align: right;\">\n",
       "      <th></th>\n",
       "      <th>CountryCode</th>\n",
       "      <th>IndicatorCode</th>\n",
       "      <th>Year</th>\n",
       "      <th>Value</th>\n",
       "    </tr>\n",
       "  </thead>\n",
       "  <tbody>\n",
       "    <tr>\n",
       "      <th>0</th>\n",
       "      <td>ARB</td>\n",
       "      <td>SP.ADO.TFRT</td>\n",
       "      <td>1960</td>\n",
       "      <td>1.335609e+02</td>\n",
       "    </tr>\n",
       "    <tr>\n",
       "      <th>1</th>\n",
       "      <td>ARB</td>\n",
       "      <td>SP.POP.DPND</td>\n",
       "      <td>1960</td>\n",
       "      <td>8.779760e+01</td>\n",
       "    </tr>\n",
       "    <tr>\n",
       "      <th>2</th>\n",
       "      <td>ARB</td>\n",
       "      <td>SP.POP.DPND.OL</td>\n",
       "      <td>1960</td>\n",
       "      <td>6.634579e+00</td>\n",
       "    </tr>\n",
       "    <tr>\n",
       "      <th>3</th>\n",
       "      <td>ARB</td>\n",
       "      <td>SP.POP.DPND.YG</td>\n",
       "      <td>1960</td>\n",
       "      <td>8.102333e+01</td>\n",
       "    </tr>\n",
       "    <tr>\n",
       "      <th>4</th>\n",
       "      <td>ARB</td>\n",
       "      <td>MS.MIL.XPRT.KD</td>\n",
       "      <td>1960</td>\n",
       "      <td>3.000000e+06</td>\n",
       "    </tr>\n",
       "  </tbody>\n",
       "</table>\n",
       "</div>"
      ],
      "text/plain": [
       "  CountryCode   IndicatorCode  Year         Value\n",
       "0         ARB     SP.ADO.TFRT  1960  1.335609e+02\n",
       "1         ARB     SP.POP.DPND  1960  8.779760e+01\n",
       "2         ARB  SP.POP.DPND.OL  1960  6.634579e+00\n",
       "3         ARB  SP.POP.DPND.YG  1960  8.102333e+01\n",
       "4         ARB  MS.MIL.XPRT.KD  1960  3.000000e+06"
      ]
     },
     "execution_count": 54,
     "metadata": {},
     "output_type": "execute_result"
    }
   ],
   "source": [
    "data.head()"
   ]
  },
  {
   "cell_type": "code",
   "execution_count": 55,
   "metadata": {
    "collapsed": true
   },
   "outputs": [],
   "source": [
    "columns=['CountryCode']\n",
    "countries = pd.read_csv(\"data/Country.csv\", usecols=(columns))"
   ]
  },
  {
   "cell_type": "code",
   "execution_count": 56,
   "metadata": {
    "collapsed": false
   },
   "outputs": [
    {
     "data": {
      "text/html": [
       "<div>\n",
       "<table border=\"1\" class=\"dataframe\">\n",
       "  <thead>\n",
       "    <tr style=\"text-align: right;\">\n",
       "      <th></th>\n",
       "      <th>CountryCode</th>\n",
       "    </tr>\n",
       "  </thead>\n",
       "  <tbody>\n",
       "    <tr>\n",
       "      <th>0</th>\n",
       "      <td>AFG</td>\n",
       "    </tr>\n",
       "    <tr>\n",
       "      <th>1</th>\n",
       "      <td>ALB</td>\n",
       "    </tr>\n",
       "    <tr>\n",
       "      <th>2</th>\n",
       "      <td>DZA</td>\n",
       "    </tr>\n",
       "    <tr>\n",
       "      <th>3</th>\n",
       "      <td>ASM</td>\n",
       "    </tr>\n",
       "    <tr>\n",
       "      <th>4</th>\n",
       "      <td>ADO</td>\n",
       "    </tr>\n",
       "  </tbody>\n",
       "</table>\n",
       "</div>"
      ],
      "text/plain": [
       "  CountryCode\n",
       "0         AFG\n",
       "1         ALB\n",
       "2         DZA\n",
       "3         ASM\n",
       "4         ADO"
      ]
     },
     "execution_count": 56,
     "metadata": {},
     "output_type": "execute_result"
    }
   ],
   "source": [
    "countries.head()"
   ]
  },
  {
   "cell_type": "code",
   "execution_count": 57,
   "metadata": {
    "collapsed": true
   },
   "outputs": [],
   "source": [
    "# find some measures that seem important and are often present, filter countries with all those intact, train network"
   ]
  },
  {
   "cell_type": "code",
   "execution_count": 58,
   "metadata": {
    "collapsed": true
   },
   "outputs": [],
   "source": [
    "columns=['LongDefinition', 'SeriesCode']\n",
    "series = pd.read_csv(\"data/Series.csv\", usecols=(columns))"
   ]
  },
  {
   "cell_type": "code",
   "execution_count": 59,
   "metadata": {
    "collapsed": false
   },
   "outputs": [
    {
     "data": {
      "text/html": [
       "<div>\n",
       "<table border=\"1\" class=\"dataframe\">\n",
       "  <thead>\n",
       "    <tr style=\"text-align: right;\">\n",
       "      <th></th>\n",
       "      <th>SeriesCode</th>\n",
       "      <th>LongDefinition</th>\n",
       "    </tr>\n",
       "  </thead>\n",
       "  <tbody>\n",
       "    <tr>\n",
       "      <th>0</th>\n",
       "      <td>BN.KLT.DINV.CD</td>\n",
       "      <td>Foreign direct investment are the net inflows ...</td>\n",
       "    </tr>\n",
       "    <tr>\n",
       "      <th>1</th>\n",
       "      <td>BX.KLT.DINV.WD.GD.ZS</td>\n",
       "      <td>Foreign direct investment are the net inflows ...</td>\n",
       "    </tr>\n",
       "    <tr>\n",
       "      <th>2</th>\n",
       "      <td>BX.KLT.DINV.CD.WD</td>\n",
       "      <td>Foreign direct investment refers to direct inv...</td>\n",
       "    </tr>\n",
       "    <tr>\n",
       "      <th>3</th>\n",
       "      <td>BM.KLT.DINV.GD.ZS</td>\n",
       "      <td>Foreign direct investment are the net inflows ...</td>\n",
       "    </tr>\n",
       "    <tr>\n",
       "      <th>4</th>\n",
       "      <td>BN.TRF.KOGT.CD</td>\n",
       "      <td>Net capital account records acquisitions and d...</td>\n",
       "    </tr>\n",
       "  </tbody>\n",
       "</table>\n",
       "</div>"
      ],
      "text/plain": [
       "             SeriesCode                                     LongDefinition\n",
       "0        BN.KLT.DINV.CD  Foreign direct investment are the net inflows ...\n",
       "1  BX.KLT.DINV.WD.GD.ZS  Foreign direct investment are the net inflows ...\n",
       "2     BX.KLT.DINV.CD.WD  Foreign direct investment refers to direct inv...\n",
       "3     BM.KLT.DINV.GD.ZS  Foreign direct investment are the net inflows ...\n",
       "4        BN.TRF.KOGT.CD  Net capital account records acquisitions and d..."
      ]
     },
     "execution_count": 59,
     "metadata": {},
     "output_type": "execute_result"
    }
   ],
   "source": [
    "series.head()"
   ]
  },
  {
   "cell_type": "code",
   "execution_count": 60,
   "metadata": {
    "collapsed": false
   },
   "outputs": [
    {
     "name": "stdout",
     "output_type": "stream",
     "text": [
      "247\n",
      "1345\n"
     ]
    }
   ],
   "source": [
    "print (len(countries))\n",
    "print (len(series))"
   ]
  },
  {
   "cell_type": "code",
   "execution_count": 61,
   "metadata": {
    "collapsed": false
   },
   "outputs": [],
   "source": [
    "#isUsedSeries = [(name in seriesToUse) for name in series.SeriesCode.values]\n",
    "#filteredSeries = series[isUsedSeries]\n",
    "#filteredSeriesNames = filteredSeries.SeriesCode.values\n",
    "\n",
    "#useableData = [(name in filteredSeriesNames) for name in data.IndicatorCode.values]\n",
    "#filteredData = data[useableData]\n",
    "seriesCounts = data['IndicatorCode'].value_counts()\n",
    "\n",
    "a = seriesCounts.to_dict()\n",
    "useableData = [(a.get(name, 0) > 10000) for name in data.IndicatorCode.values]\n",
    "filteredData = data[useableData]"
   ]
  },
  {
   "cell_type": "code",
   "execution_count": 62,
   "metadata": {
    "collapsed": false
   },
   "outputs": [],
   "source": [
    "useableSeries = [(a.get(name, 0) > 10000) for name in series.SeriesCode.values]\n",
    "filteredSeries = series[useableSeries].SeriesCode.values"
   ]
  },
  {
   "cell_type": "code",
   "execution_count": 63,
   "metadata": {
    "collapsed": false
   },
   "outputs": [
    {
     "name": "stdout",
     "output_type": "stream",
     "text": [
      "732948\n",
      "5656458\n",
      "63\n",
      "1345\n"
     ]
    }
   ],
   "source": [
    "print(len(filteredData))\n",
    "print(len(data))\n",
    "print(len(filteredSeries))\n",
    "print(len(series))"
   ]
  },
  {
   "cell_type": "code",
   "execution_count": 66,
   "metadata": {
    "collapsed": false
   },
   "outputs": [
    {
     "name": "stderr",
     "output_type": "stream",
     "text": [
      "/Users/jgzuke/anaconda3/lib/python3.5/site-packages/ipykernel/__main__.py:5: UserWarning: Boolean Series key will be reindexed to match DataFrame index.\n"
     ]
    }
   ],
   "source": [
    "# a = data[(data.CountryCode == 'ARB') & ((data.IndicatorCode == 'SP.ADO.TFRT') | (data.IndicatorCode == 'SP.POP.DPND'))]\n",
    "useableCountries = []\n",
    "for country in countries.CountryCode.values:\n",
    "    useable = True\n",
    "    filterByCountry = filteredData[(data.CountryCode == country)]\n",
    "    for seriesName in filteredSeries:\n",
    "        if len(filterByCountry[(filterByCountry.IndicatorCode == seriesName)]) == 0:\n",
    "            useable = False;\n",
    "            break;\n",
    "    if useable:\n",
    "        useableCountries.append(country)"
   ]
  },
  {
   "cell_type": "code",
   "execution_count": 67,
   "metadata": {
    "collapsed": false
   },
   "outputs": [
    {
     "data": {
      "text/plain": [
       "175"
      ]
     },
     "execution_count": 67,
     "metadata": {},
     "output_type": "execute_result"
    }
   ],
   "source": [
    "len(useableCountries)"
   ]
  },
  {
   "cell_type": "code",
   "execution_count": 68,
   "metadata": {
    "collapsed": false
   },
   "outputs": [],
   "source": [
    "goodData = [(country in useableCountries) for country in filteredData.CountryCode.values]\n",
    "useableData = filteredData[goodData]"
   ]
  },
  {
   "cell_type": "code",
   "execution_count": 69,
   "metadata": {
    "collapsed": false
   },
   "outputs": [
    {
     "name": "stdout",
     "output_type": "stream",
     "text": [
      "559891\n"
     ]
    },
    {
     "data": {
      "text/html": [
       "<div>\n",
       "<table border=\"1\" class=\"dataframe\">\n",
       "  <thead>\n",
       "    <tr style=\"text-align: right;\">\n",
       "      <th></th>\n",
       "      <th>CountryCode</th>\n",
       "      <th>IndicatorCode</th>\n",
       "      <th>Year</th>\n",
       "      <th>Value</th>\n",
       "    </tr>\n",
       "  </thead>\n",
       "  <tbody>\n",
       "    <tr>\n",
       "      <th>350</th>\n",
       "      <td>EAP</td>\n",
       "      <td>SP.ADO.TFRT</td>\n",
       "      <td>1960</td>\n",
       "      <td>75.043631</td>\n",
       "    </tr>\n",
       "    <tr>\n",
       "      <th>351</th>\n",
       "      <td>EAP</td>\n",
       "      <td>SP.POP.DPND</td>\n",
       "      <td>1960</td>\n",
       "      <td>78.574185</td>\n",
       "    </tr>\n",
       "    <tr>\n",
       "      <th>352</th>\n",
       "      <td>EAP</td>\n",
       "      <td>SP.POP.DPND.OL</td>\n",
       "      <td>1960</td>\n",
       "      <td>6.480808</td>\n",
       "    </tr>\n",
       "    <tr>\n",
       "      <th>353</th>\n",
       "      <td>EAP</td>\n",
       "      <td>SP.POP.DPND.YG</td>\n",
       "      <td>1960</td>\n",
       "      <td>71.976235</td>\n",
       "    </tr>\n",
       "    <tr>\n",
       "      <th>359</th>\n",
       "      <td>EAP</td>\n",
       "      <td>SP.DYN.CBRT.IN</td>\n",
       "      <td>1960</td>\n",
       "      <td>26.635950</td>\n",
       "    </tr>\n",
       "  </tbody>\n",
       "</table>\n",
       "</div>"
      ],
      "text/plain": [
       "    CountryCode   IndicatorCode  Year      Value\n",
       "350         EAP     SP.ADO.TFRT  1960  75.043631\n",
       "351         EAP     SP.POP.DPND  1960  78.574185\n",
       "352         EAP  SP.POP.DPND.OL  1960   6.480808\n",
       "353         EAP  SP.POP.DPND.YG  1960  71.976235\n",
       "359         EAP  SP.DYN.CBRT.IN  1960  26.635950"
      ]
     },
     "execution_count": 69,
     "metadata": {},
     "output_type": "execute_result"
    }
   ],
   "source": [
    "print(len(useableData))\n",
    "useableData.head()"
   ]
  },
  {
   "cell_type": "code",
   "execution_count": 70,
   "metadata": {
    "collapsed": false
   },
   "outputs": [],
   "source": [
    "# Filtered Data reasonably above, need to:\n",
    "# Seperate into few year blocks, with next year values as results to guess\n",
    "# Train a few different models to guess next years values"
   ]
  },
  {
   "cell_type": "code",
   "execution_count": 101,
   "metadata": {
    "collapsed": false
   },
   "outputs": [],
   "source": [
    "predictionFeature = 'SP.ADO.TFRT'\n",
    "yearsToPredict = 5\n",
    "predictionData = countryData[(countryData.IndicatorCode == predictionFeature)]\n",
    "\n",
    "trainingValues = []\n",
    "trainingResults = []\n",
    "for country in useableCountries:#[0:20]: # 213\n",
    "    countryData = filteredData[(filteredData.CountryCode == country)]\n",
    "    predictionCountryData = predictionData[(predictionData.CountryCode == country)]\n",
    "    pastData_5 = []\n",
    "    pastData_4 = []\n",
    "    pastData_3 = []\n",
    "    pastData_2 = []\n",
    "    pastData_1 = []\n",
    "    for year in range(1960, 2010): # 1960\n",
    "        pastData_5 = pastData_4\n",
    "        pastData_4 = pastData_3\n",
    "        pastData_3 = pastData_2\n",
    "        pastData_2 = pastData_1\n",
    "        \n",
    "        yearData = countryData[(countryData.Year == year)]\n",
    "        \n",
    "        pastData_1 = []\n",
    "        for series in filteredSeries:#[0:30]: # 40\n",
    "            # TODO: see if I can get rid of this loop\n",
    "            seriesData = yearData[(yearData.IndicatorCode == series)].Value.values\n",
    "            if len(seriesData) != 1:\n",
    "                pastData_5 = []\n",
    "                pastData_4 = []\n",
    "                pastData_3 = []\n",
    "                pastData_2 = []\n",
    "                pastData_1 = []\n",
    "                break;\n",
    "            value = seriesData[0]\n",
    "            #print (value)\n",
    "            pastData_1.append(value)\n",
    "            \n",
    "        predictionValues = []\n",
    "        for i in xrange(yearsToPredict):\n",
    "            predictionValues.extend(predictionCountryData[(countryData.Year == year + 1 + i)].Value.values)\n",
    "            \n",
    "        valid = (len(predictionValues) == yearsToPredict) & (len(pastData_5) != 0) & (len(pastData_4) != 0) & (len(pastData_3) != 0) & (len(pastData_2) != 0) & (len(pastData_1) != 0)\n",
    "        if valid:\n",
    "            trainingValues.append(pastData_5 + pastData_4 + pastData_3 + pastData_2 + pastData_1)\n",
    "            trainingResults.append(predictionValue[0])"
   ]
  },
  {
   "cell_type": "code",
   "execution_count": 1,
   "metadata": {
    "collapsed": false
   },
   "outputs": [
    {
     "ename": "NameError",
     "evalue": "name 'pd' is not defined",
     "output_type": "error",
     "traceback": [
      "\u001b[0;31m---------------------------------------------------------------------------\u001b[0m",
      "\u001b[0;31mNameError\u001b[0m                                 Traceback (most recent call last)",
      "\u001b[0;32m<ipython-input-1-5fb9851dceeb>\u001b[0m in \u001b[0;36m<module>\u001b[0;34m()\u001b[0m\n\u001b[0;32m----> 1\u001b[0;31m \u001b[0mxData\u001b[0m \u001b[0;34m=\u001b[0m \u001b[0mpd\u001b[0m\u001b[0;34m.\u001b[0m\u001b[0mDataFrame\u001b[0m\u001b[0;34m(\u001b[0m\u001b[0mtrainingValues\u001b[0m\u001b[0;34m)\u001b[0m\u001b[0;34m\u001b[0m\u001b[0m\n\u001b[0m\u001b[1;32m      2\u001b[0m \u001b[0myData\u001b[0m \u001b[0;34m=\u001b[0m \u001b[0mpd\u001b[0m\u001b[0;34m.\u001b[0m\u001b[0mDataFrame\u001b[0m\u001b[0;34m(\u001b[0m\u001b[0mtrainingResults\u001b[0m\u001b[0;34m)\u001b[0m\u001b[0;34m\u001b[0m\u001b[0m\n\u001b[1;32m      3\u001b[0m \u001b[0mxData\u001b[0m\u001b[0;34m.\u001b[0m\u001b[0mhead\u001b[0m\u001b[0;34m(\u001b[0m\u001b[0;34m)\u001b[0m\u001b[0;34m\u001b[0m\u001b[0m\n",
      "\u001b[0;31mNameError\u001b[0m: name 'pd' is not defined"
     ]
    }
   ],
   "source": [
    "xData = pd.DataFrame(trainingValues)\n",
    "yData = pd.DataFrame(trainingResults)\n",
    "print (len(xData))\n",
    "print (len(yData))\n",
    "xData.head()"
   ]
  },
  {
   "cell_type": "code",
   "execution_count": 97,
   "metadata": {
    "collapsed": false
   },
   "outputs": [
    {
     "data": {
      "text/html": [
       "<div>\n",
       "<table border=\"1\" class=\"dataframe\">\n",
       "  <thead>\n",
       "    <tr style=\"text-align: right;\">\n",
       "      <th></th>\n",
       "      <th>CountryCode</th>\n",
       "      <th>IndicatorCode</th>\n",
       "      <th>Year</th>\n",
       "      <th>Value</th>\n",
       "    </tr>\n",
       "  </thead>\n",
       "  <tbody>\n",
       "    <tr>\n",
       "      <th>4527</th>\n",
       "      <td>AZE</td>\n",
       "      <td>SP.ADO.TFRT</td>\n",
       "      <td>1960</td>\n",
       "      <td>43.221000</td>\n",
       "    </tr>\n",
       "    <tr>\n",
       "      <th>4528</th>\n",
       "      <td>AZE</td>\n",
       "      <td>SP.POP.DPND</td>\n",
       "      <td>1960</td>\n",
       "      <td>81.868653</td>\n",
       "    </tr>\n",
       "    <tr>\n",
       "      <th>4529</th>\n",
       "      <td>AZE</td>\n",
       "      <td>SP.POP.DPND.OL</td>\n",
       "      <td>1960</td>\n",
       "      <td>11.702121</td>\n",
       "    </tr>\n",
       "    <tr>\n",
       "      <th>4530</th>\n",
       "      <td>AZE</td>\n",
       "      <td>SP.POP.DPND.YG</td>\n",
       "      <td>1960</td>\n",
       "      <td>70.166533</td>\n",
       "    </tr>\n",
       "    <tr>\n",
       "      <th>4531</th>\n",
       "      <td>AZE</td>\n",
       "      <td>SP.DYN.CBRT.IN</td>\n",
       "      <td>1960</td>\n",
       "      <td>42.267000</td>\n",
       "    </tr>\n",
       "  </tbody>\n",
       "</table>\n",
       "</div>"
      ],
      "text/plain": [
       "     CountryCode   IndicatorCode  Year      Value\n",
       "4527         AZE     SP.ADO.TFRT  1960  43.221000\n",
       "4528         AZE     SP.POP.DPND  1960  81.868653\n",
       "4529         AZE  SP.POP.DPND.OL  1960  11.702121\n",
       "4530         AZE  SP.POP.DPND.YG  1960  70.166533\n",
       "4531         AZE  SP.DYN.CBRT.IN  1960  42.267000"
      ]
     },
     "execution_count": 97,
     "metadata": {},
     "output_type": "execute_result"
    }
   ],
   "source": [
    "countryData = filteredData[(filteredData.CountryCode == 'AZE')]\n",
    "countryData.head()"
   ]
  },
  {
   "cell_type": "code",
   "execution_count": 100,
   "metadata": {
    "collapsed": false
   },
   "outputs": [
    {
     "data": {
      "text/html": [
       "<div>\n",
       "<table border=\"1\" class=\"dataframe\">\n",
       "  <thead>\n",
       "    <tr style=\"text-align: right;\">\n",
       "      <th></th>\n",
       "      <th>CountryCode</th>\n",
       "      <th>IndicatorCode</th>\n",
       "      <th>Year</th>\n",
       "      <th>Value</th>\n",
       "    </tr>\n",
       "  </thead>\n",
       "  <tbody>\n",
       "    <tr>\n",
       "      <th>141970</th>\n",
       "      <td>AZE</td>\n",
       "      <td>SP.ADO.TFRT</td>\n",
       "      <td>1965</td>\n",
       "      <td>4.320600e+01</td>\n",
       "    </tr>\n",
       "    <tr>\n",
       "      <th>141971</th>\n",
       "      <td>AZE</td>\n",
       "      <td>SP.POP.DPND</td>\n",
       "      <td>1965</td>\n",
       "      <td>9.973410e+01</td>\n",
       "    </tr>\n",
       "    <tr>\n",
       "      <th>141972</th>\n",
       "      <td>AZE</td>\n",
       "      <td>SP.POP.DPND.OL</td>\n",
       "      <td>1965</td>\n",
       "      <td>1.129377e+01</td>\n",
       "    </tr>\n",
       "    <tr>\n",
       "      <th>141973</th>\n",
       "      <td>AZE</td>\n",
       "      <td>SP.POP.DPND.YG</td>\n",
       "      <td>1965</td>\n",
       "      <td>8.844033e+01</td>\n",
       "    </tr>\n",
       "    <tr>\n",
       "      <th>141974</th>\n",
       "      <td>AZE</td>\n",
       "      <td>SP.DYN.CBRT.IN</td>\n",
       "      <td>1965</td>\n",
       "      <td>3.720500e+01</td>\n",
       "    </tr>\n",
       "    <tr>\n",
       "      <th>141975</th>\n",
       "      <td>AZE</td>\n",
       "      <td>AG.PRD.CROP.XD</td>\n",
       "      <td>1965</td>\n",
       "      <td>6.240000e+01</td>\n",
       "    </tr>\n",
       "    <tr>\n",
       "      <th>141976</th>\n",
       "      <td>AZE</td>\n",
       "      <td>SP.DYN.CDRT.IN</td>\n",
       "      <td>1965</td>\n",
       "      <td>1.109800e+01</td>\n",
       "    </tr>\n",
       "    <tr>\n",
       "      <th>141977</th>\n",
       "      <td>AZE</td>\n",
       "      <td>SP.DYN.TFRT.IN</td>\n",
       "      <td>1965</td>\n",
       "      <td>5.352000e+00</td>\n",
       "    </tr>\n",
       "    <tr>\n",
       "      <th>141978</th>\n",
       "      <td>AZE</td>\n",
       "      <td>AG.PRD.FOOD.XD</td>\n",
       "      <td>1965</td>\n",
       "      <td>5.860000e+01</td>\n",
       "    </tr>\n",
       "    <tr>\n",
       "      <th>141979</th>\n",
       "      <td>AZE</td>\n",
       "      <td>AG.LND.TOTL.K2</td>\n",
       "      <td>1965</td>\n",
       "      <td>8.321700e+04</td>\n",
       "    </tr>\n",
       "    <tr>\n",
       "      <th>141980</th>\n",
       "      <td>AZE</td>\n",
       "      <td>SP.DYN.LE00.FE.IN</td>\n",
       "      <td>1965</td>\n",
       "      <td>6.654400e+01</td>\n",
       "    </tr>\n",
       "    <tr>\n",
       "      <th>141981</th>\n",
       "      <td>AZE</td>\n",
       "      <td>SP.DYN.LE00.MA.IN</td>\n",
       "      <td>1965</td>\n",
       "      <td>5.935500e+01</td>\n",
       "    </tr>\n",
       "    <tr>\n",
       "      <th>141982</th>\n",
       "      <td>AZE</td>\n",
       "      <td>SP.DYN.LE00.IN</td>\n",
       "      <td>1965</td>\n",
       "      <td>6.286183e+01</td>\n",
       "    </tr>\n",
       "    <tr>\n",
       "      <th>141983</th>\n",
       "      <td>AZE</td>\n",
       "      <td>AG.PRD.LVSK.XD</td>\n",
       "      <td>1965</td>\n",
       "      <td>6.020000e+01</td>\n",
       "    </tr>\n",
       "    <tr>\n",
       "      <th>141986</th>\n",
       "      <td>AZE</td>\n",
       "      <td>SP.DYN.AMRT.FE</td>\n",
       "      <td>1965</td>\n",
       "      <td>7.357660e+01</td>\n",
       "    </tr>\n",
       "    <tr>\n",
       "      <th>141987</th>\n",
       "      <td>AZE</td>\n",
       "      <td>SP.DYN.AMRT.MA</td>\n",
       "      <td>1965</td>\n",
       "      <td>1.910086e+02</td>\n",
       "    </tr>\n",
       "    <tr>\n",
       "      <th>141988</th>\n",
       "      <td>AZE</td>\n",
       "      <td>SP.POP.65UP.TO.ZS</td>\n",
       "      <td>1965</td>\n",
       "      <td>5.654402e+00</td>\n",
       "    </tr>\n",
       "    <tr>\n",
       "      <th>141989</th>\n",
       "      <td>AZE</td>\n",
       "      <td>EN.POP.DNST</td>\n",
       "      <td>1965</td>\n",
       "      <td>5.503394e+01</td>\n",
       "    </tr>\n",
       "    <tr>\n",
       "      <th>141990</th>\n",
       "      <td>AZE</td>\n",
       "      <td>SP.POP.GROW</td>\n",
       "      <td>1965</td>\n",
       "      <td>2.971961e+00</td>\n",
       "    </tr>\n",
       "    <tr>\n",
       "      <th>141995</th>\n",
       "      <td>AZE</td>\n",
       "      <td>SP.POP.0014.TO.ZS</td>\n",
       "      <td>1965</td>\n",
       "      <td>4.427903e+01</td>\n",
       "    </tr>\n",
       "    <tr>\n",
       "      <th>141996</th>\n",
       "      <td>AZE</td>\n",
       "      <td>SP.POP.1564.TO.ZS</td>\n",
       "      <td>1965</td>\n",
       "      <td>5.006656e+01</td>\n",
       "    </tr>\n",
       "    <tr>\n",
       "      <th>141997</th>\n",
       "      <td>AZE</td>\n",
       "      <td>SP.POP.TOTL.FE.ZS</td>\n",
       "      <td>1965</td>\n",
       "      <td>5.168993e+01</td>\n",
       "    </tr>\n",
       "    <tr>\n",
       "      <th>141998</th>\n",
       "      <td>AZE</td>\n",
       "      <td>SP.POP.TOTL</td>\n",
       "      <td>1965</td>\n",
       "      <td>4.579759e+06</td>\n",
       "    </tr>\n",
       "    <tr>\n",
       "      <th>141999</th>\n",
       "      <td>AZE</td>\n",
       "      <td>SP.RUR.TOTL</td>\n",
       "      <td>1965</td>\n",
       "      <td>2.236571e+06</td>\n",
       "    </tr>\n",
       "    <tr>\n",
       "      <th>142000</th>\n",
       "      <td>AZE</td>\n",
       "      <td>SP.RUR.TOTL.ZS</td>\n",
       "      <td>1965</td>\n",
       "      <td>4.883600e+01</td>\n",
       "    </tr>\n",
       "    <tr>\n",
       "      <th>142001</th>\n",
       "      <td>AZE</td>\n",
       "      <td>SP.RUR.TOTL.ZG</td>\n",
       "      <td>1965</td>\n",
       "      <td>3.588158e+00</td>\n",
       "    </tr>\n",
       "    <tr>\n",
       "      <th>142002</th>\n",
       "      <td>AZE</td>\n",
       "      <td>AG.SRF.TOTL.K2</td>\n",
       "      <td>1965</td>\n",
       "      <td>8.660000e+04</td>\n",
       "    </tr>\n",
       "    <tr>\n",
       "      <th>142003</th>\n",
       "      <td>AZE</td>\n",
       "      <td>SP.DYN.TO65.FE.ZS</td>\n",
       "      <td>1965</td>\n",
       "      <td>7.503927e+01</td>\n",
       "    </tr>\n",
       "    <tr>\n",
       "      <th>142004</th>\n",
       "      <td>AZE</td>\n",
       "      <td>SP.DYN.TO65.MA.ZS</td>\n",
       "      <td>1965</td>\n",
       "      <td>6.039170e+01</td>\n",
       "    </tr>\n",
       "    <tr>\n",
       "      <th>142005</th>\n",
       "      <td>AZE</td>\n",
       "      <td>SP.URB.TOTL</td>\n",
       "      <td>1965</td>\n",
       "      <td>2.343188e+06</td>\n",
       "    </tr>\n",
       "    <tr>\n",
       "      <th>142006</th>\n",
       "      <td>AZE</td>\n",
       "      <td>SP.URB.TOTL.IN.ZS</td>\n",
       "      <td>1965</td>\n",
       "      <td>5.116400e+01</td>\n",
       "    </tr>\n",
       "    <tr>\n",
       "      <th>142007</th>\n",
       "      <td>AZE</td>\n",
       "      <td>SP.URB.GROW</td>\n",
       "      <td>1965</td>\n",
       "      <td>2.387322e+00</td>\n",
       "    </tr>\n",
       "  </tbody>\n",
       "</table>\n",
       "</div>"
      ],
      "text/plain": [
       "       CountryCode      IndicatorCode  Year         Value\n",
       "141970         AZE        SP.ADO.TFRT  1965  4.320600e+01\n",
       "141971         AZE        SP.POP.DPND  1965  9.973410e+01\n",
       "141972         AZE     SP.POP.DPND.OL  1965  1.129377e+01\n",
       "141973         AZE     SP.POP.DPND.YG  1965  8.844033e+01\n",
       "141974         AZE     SP.DYN.CBRT.IN  1965  3.720500e+01\n",
       "141975         AZE     AG.PRD.CROP.XD  1965  6.240000e+01\n",
       "141976         AZE     SP.DYN.CDRT.IN  1965  1.109800e+01\n",
       "141977         AZE     SP.DYN.TFRT.IN  1965  5.352000e+00\n",
       "141978         AZE     AG.PRD.FOOD.XD  1965  5.860000e+01\n",
       "141979         AZE     AG.LND.TOTL.K2  1965  8.321700e+04\n",
       "141980         AZE  SP.DYN.LE00.FE.IN  1965  6.654400e+01\n",
       "141981         AZE  SP.DYN.LE00.MA.IN  1965  5.935500e+01\n",
       "141982         AZE     SP.DYN.LE00.IN  1965  6.286183e+01\n",
       "141983         AZE     AG.PRD.LVSK.XD  1965  6.020000e+01\n",
       "141986         AZE     SP.DYN.AMRT.FE  1965  7.357660e+01\n",
       "141987         AZE     SP.DYN.AMRT.MA  1965  1.910086e+02\n",
       "141988         AZE  SP.POP.65UP.TO.ZS  1965  5.654402e+00\n",
       "141989         AZE        EN.POP.DNST  1965  5.503394e+01\n",
       "141990         AZE        SP.POP.GROW  1965  2.971961e+00\n",
       "141995         AZE  SP.POP.0014.TO.ZS  1965  4.427903e+01\n",
       "141996         AZE  SP.POP.1564.TO.ZS  1965  5.006656e+01\n",
       "141997         AZE  SP.POP.TOTL.FE.ZS  1965  5.168993e+01\n",
       "141998         AZE        SP.POP.TOTL  1965  4.579759e+06\n",
       "141999         AZE        SP.RUR.TOTL  1965  2.236571e+06\n",
       "142000         AZE     SP.RUR.TOTL.ZS  1965  4.883600e+01\n",
       "142001         AZE     SP.RUR.TOTL.ZG  1965  3.588158e+00\n",
       "142002         AZE     AG.SRF.TOTL.K2  1965  8.660000e+04\n",
       "142003         AZE  SP.DYN.TO65.FE.ZS  1965  7.503927e+01\n",
       "142004         AZE  SP.DYN.TO65.MA.ZS  1965  6.039170e+01\n",
       "142005         AZE        SP.URB.TOTL  1965  2.343188e+06\n",
       "142006         AZE  SP.URB.TOTL.IN.ZS  1965  5.116400e+01\n",
       "142007         AZE        SP.URB.GROW  1965  2.387322e+00"
      ]
     },
     "execution_count": 100,
     "metadata": {},
     "output_type": "execute_result"
    }
   ],
   "source": [
    "yearData = countryData[(countryData.Year == 1965)]\n",
    "yearData"
   ]
  },
  {
   "cell_type": "code",
   "execution_count": 104,
   "metadata": {
    "collapsed": true
   },
   "outputs": [],
   "source": [
    "xData.to_csv(\"data/xSave.csv\")\n",
    "yData.to_csv(\"data/ySave.csv\")"
   ]
  },
  {
   "cell_type": "code",
   "execution_count": null,
   "metadata": {
    "collapsed": false
   },
   "outputs": [],
   "source": []
  },
  {
   "cell_type": "code",
   "execution_count": null,
   "metadata": {
    "collapsed": true
   },
   "outputs": [],
   "source": []
  },
  {
   "cell_type": "code",
   "execution_count": null,
   "metadata": {
    "collapsed": false
   },
   "outputs": [],
   "source": []
  },
  {
   "cell_type": "code",
   "execution_count": null,
   "metadata": {
    "collapsed": true
   },
   "outputs": [],
   "source": []
  },
  {
   "cell_type": "code",
   "execution_count": null,
   "metadata": {
    "collapsed": true
   },
   "outputs": [],
   "source": []
  }
 ],
 "metadata": {
  "kernelspec": {
   "display_name": "Python 3",
   "language": "python",
   "name": "python3"
  },
  "language_info": {
   "codemirror_mode": {
    "name": "ipython",
    "version": 3
   },
   "file_extension": ".py",
   "mimetype": "text/x-python",
   "name": "python",
   "nbconvert_exporter": "python",
   "pygments_lexer": "ipython3",
   "version": "3.5.1"
  }
 },
 "nbformat": 4,
 "nbformat_minor": 0
}
