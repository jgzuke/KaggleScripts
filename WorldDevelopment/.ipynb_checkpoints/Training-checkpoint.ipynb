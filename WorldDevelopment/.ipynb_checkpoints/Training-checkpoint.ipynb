{
 "cells": [
  {
   "cell_type": "code",
   "execution_count": 144,
   "metadata": {
    "collapsed": false
   },
   "outputs": [
    {
     "data": {
      "text/html": [
       "<div>\n",
       "<table border=\"1\" class=\"dataframe\">\n",
       "  <thead>\n",
       "    <tr style=\"text-align: right;\">\n",
       "      <th></th>\n",
       "      <th>COUNTRY</th>\n",
       "      <th>YEAR</th>\n",
       "      <th>NY.GDP.MKTP.CD_0</th>\n",
       "      <th>NY.GDP.PCAP.CD_0</th>\n",
       "      <th>AG.PRD.CREL.MT_0</th>\n",
       "      <th>AG.YLD.CREL.KG_0</th>\n",
       "      <th>AG.PRD.CROP.XD_0</th>\n",
       "      <th>AG.PRD.FOOD.XD_0</th>\n",
       "      <th>AG.LND.CREL.HA_0</th>\n",
       "      <th>AG.PRD.LVSK.XD_0</th>\n",
       "      <th>...</th>\n",
       "      <th>SP.DYN.TFRT.IN_4</th>\n",
       "      <th>TX.VAL.MRCH.CD.WT_4</th>\n",
       "      <th>TX.VAL.MRCH.WL.CD_4</th>\n",
       "      <th>TX.VAL.MRCH.RS.ZS_4</th>\n",
       "      <th>TX.VAL.MRCH.HI.ZS_4</th>\n",
       "      <th>TM.VAL.MRCH.CD.WT_4</th>\n",
       "      <th>TM.VAL.MRCH.WL.CD_4</th>\n",
       "      <th>TM.VAL.MRCH.RS.ZS_4</th>\n",
       "      <th>TM.VAL.MRCH.HI.ZS_4</th>\n",
       "      <th>TG.VAL.TOTL.GD.ZS_4</th>\n",
       "    </tr>\n",
       "  </thead>\n",
       "  <tbody>\n",
       "    <tr>\n",
       "      <th>0</th>\n",
       "      <td>AFG</td>\n",
       "      <td>1971</td>\n",
       "      <td>1.673333e+09</td>\n",
       "      <td>161.384702</td>\n",
       "      <td>3826000.0</td>\n",
       "      <td>1224.516</td>\n",
       "      <td>83.05</td>\n",
       "      <td>70.20</td>\n",
       "      <td>3124500.0</td>\n",
       "      <td>60.38</td>\n",
       "      <td>...</td>\n",
       "      <td>7.450</td>\n",
       "      <td>100000000.0</td>\n",
       "      <td>99900000.0</td>\n",
       "      <td>47.314314</td>\n",
       "      <td>42.712713</td>\n",
       "      <td>141000000.0</td>\n",
       "      <td>145386000.0</td>\n",
       "      <td>32.425405</td>\n",
       "      <td>57.253106</td>\n",
       "      <td>13.161423</td>\n",
       "    </tr>\n",
       "    <tr>\n",
       "      <th>1</th>\n",
       "      <td>AFG</td>\n",
       "      <td>1977</td>\n",
       "      <td>1.733333e+09</td>\n",
       "      <td>144.173944</td>\n",
       "      <td>4270000.0</td>\n",
       "      <td>1279.592</td>\n",
       "      <td>91.25</td>\n",
       "      <td>73.56</td>\n",
       "      <td>3337000.0</td>\n",
       "      <td>58.45</td>\n",
       "      <td>...</td>\n",
       "      <td>7.449</td>\n",
       "      <td>306000000.0</td>\n",
       "      <td>313137000.0</td>\n",
       "      <td>45.115397</td>\n",
       "      <td>35.590492</td>\n",
       "      <td>328000000.0</td>\n",
       "      <td>458652000.0</td>\n",
       "      <td>45.553055</td>\n",
       "      <td>45.343964</td>\n",
       "      <td>21.467268</td>\n",
       "    </tr>\n",
       "    <tr>\n",
       "      <th>2</th>\n",
       "      <td>AFG</td>\n",
       "      <td>1978</td>\n",
       "      <td>2.155555e+09</td>\n",
       "      <td>175.027098</td>\n",
       "      <td>4351000.0</td>\n",
       "      <td>1301.915</td>\n",
       "      <td>94.92</td>\n",
       "      <td>76.02</td>\n",
       "      <td>3342000.0</td>\n",
       "      <td>61.00</td>\n",
       "      <td>...</td>\n",
       "      <td>7.449</td>\n",
       "      <td>321000000.0</td>\n",
       "      <td>269156000.0</td>\n",
       "      <td>43.718141</td>\n",
       "      <td>27.069432</td>\n",
       "      <td>395000000.0</td>\n",
       "      <td>450516000.0</td>\n",
       "      <td>53.467801</td>\n",
       "      <td>34.542835</td>\n",
       "      <td>21.696969</td>\n",
       "    </tr>\n",
       "    <tr>\n",
       "      <th>3</th>\n",
       "      <td>AFG</td>\n",
       "      <td>1979</td>\n",
       "      <td>2.366667e+09</td>\n",
       "      <td>188.085136</td>\n",
       "      <td>4481000.0</td>\n",
       "      <td>1316.392</td>\n",
       "      <td>97.68</td>\n",
       "      <td>78.24</td>\n",
       "      <td>3404000.0</td>\n",
       "      <td>63.38</td>\n",
       "      <td>...</td>\n",
       "      <td>7.449</td>\n",
       "      <td>474000000.0</td>\n",
       "      <td>435015000.0</td>\n",
       "      <td>60.016551</td>\n",
       "      <td>18.152248</td>\n",
       "      <td>425000000.0</td>\n",
       "      <td>551216000.0</td>\n",
       "      <td>68.909647</td>\n",
       "      <td>24.561515</td>\n",
       "      <td>24.310830</td>\n",
       "    </tr>\n",
       "    <tr>\n",
       "      <th>4</th>\n",
       "      <td>AFG</td>\n",
       "      <td>1980</td>\n",
       "      <td>2.555556e+09</td>\n",
       "      <td>199.164809</td>\n",
       "      <td>4624000.0</td>\n",
       "      <td>1362.404</td>\n",
       "      <td>102.93</td>\n",
       "      <td>83.72</td>\n",
       "      <td>3394000.0</td>\n",
       "      <td>69.07</td>\n",
       "      <td>...</td>\n",
       "      <td>7.449</td>\n",
       "      <td>670000000.0</td>\n",
       "      <td>670474000.0</td>\n",
       "      <td>64.592065</td>\n",
       "      <td>19.471896</td>\n",
       "      <td>841000000.0</td>\n",
       "      <td>494754000.0</td>\n",
       "      <td>60.669343</td>\n",
       "      <td>32.162044</td>\n",
       "      <td>41.491344</td>\n",
       "    </tr>\n",
       "  </tbody>\n",
       "</table>\n",
       "<p>5 rows × 317 columns</p>\n",
       "</div>"
      ],
      "text/plain": [
       "  COUNTRY  YEAR  NY.GDP.MKTP.CD_0  NY.GDP.PCAP.CD_0  AG.PRD.CREL.MT_0  \\\n",
       "0     AFG  1971      1.673333e+09        161.384702         3826000.0   \n",
       "1     AFG  1977      1.733333e+09        144.173944         4270000.0   \n",
       "2     AFG  1978      2.155555e+09        175.027098         4351000.0   \n",
       "3     AFG  1979      2.366667e+09        188.085136         4481000.0   \n",
       "4     AFG  1980      2.555556e+09        199.164809         4624000.0   \n",
       "\n",
       "   AG.YLD.CREL.KG_0  AG.PRD.CROP.XD_0  AG.PRD.FOOD.XD_0  AG.LND.CREL.HA_0  \\\n",
       "0          1224.516             83.05             70.20         3124500.0   \n",
       "1          1279.592             91.25             73.56         3337000.0   \n",
       "2          1301.915             94.92             76.02         3342000.0   \n",
       "3          1316.392             97.68             78.24         3404000.0   \n",
       "4          1362.404            102.93             83.72         3394000.0   \n",
       "\n",
       "   AG.PRD.LVSK.XD_0         ...           SP.DYN.TFRT.IN_4  \\\n",
       "0             60.38         ...                      7.450   \n",
       "1             58.45         ...                      7.449   \n",
       "2             61.00         ...                      7.449   \n",
       "3             63.38         ...                      7.449   \n",
       "4             69.07         ...                      7.449   \n",
       "\n",
       "   TX.VAL.MRCH.CD.WT_4  TX.VAL.MRCH.WL.CD_4  TX.VAL.MRCH.RS.ZS_4  \\\n",
       "0          100000000.0           99900000.0            47.314314   \n",
       "1          306000000.0          313137000.0            45.115397   \n",
       "2          321000000.0          269156000.0            43.718141   \n",
       "3          474000000.0          435015000.0            60.016551   \n",
       "4          670000000.0          670474000.0            64.592065   \n",
       "\n",
       "   TX.VAL.MRCH.HI.ZS_4  TM.VAL.MRCH.CD.WT_4  TM.VAL.MRCH.WL.CD_4  \\\n",
       "0            42.712713          141000000.0          145386000.0   \n",
       "1            35.590492          328000000.0          458652000.0   \n",
       "2            27.069432          395000000.0          450516000.0   \n",
       "3            18.152248          425000000.0          551216000.0   \n",
       "4            19.471896          841000000.0          494754000.0   \n",
       "\n",
       "   TM.VAL.MRCH.RS.ZS_4  TM.VAL.MRCH.HI.ZS_4  TG.VAL.TOTL.GD.ZS_4  \n",
       "0            32.425405            57.253106            13.161423  \n",
       "1            45.553055            45.343964            21.467268  \n",
       "2            53.467801            34.542835            21.696969  \n",
       "3            68.909647            24.561515            24.310830  \n",
       "4            60.669343            32.162044            41.491344  \n",
       "\n",
       "[5 rows x 317 columns]"
      ]
     },
     "execution_count": 144,
     "metadata": {},
     "output_type": "execute_result"
    }
   ],
   "source": [
    "%matplotlib inline\n",
    "import pandas as pd\n",
    "import numpy as np\n",
    "X = pd.read_csv(\"data/dataMungingSave.csv\", index_col=0)\n",
    "X.head()"
   ]
  },
  {
   "cell_type": "code",
   "execution_count": 145,
   "metadata": {
    "collapsed": false
   },
   "outputs": [
    {
     "name": "stdout",
     "output_type": "stream",
     "text": [
      "5147\n",
      "5147\n"
     ]
    },
    {
     "data": {
      "text/html": [
       "<div>\n",
       "<table border=\"1\" class=\"dataframe\">\n",
       "  <thead>\n",
       "    <tr style=\"text-align: right;\">\n",
       "      <th></th>\n",
       "      <th>Change</th>\n",
       "      <th>FutureValue</th>\n",
       "      <th>CurrentValue</th>\n",
       "    </tr>\n",
       "  </thead>\n",
       "  <tbody>\n",
       "    <tr>\n",
       "      <th>0</th>\n",
       "      <td>3.5760</td>\n",
       "      <td>148.8970</td>\n",
       "      <td>145.3210</td>\n",
       "    </tr>\n",
       "    <tr>\n",
       "      <th>1</th>\n",
       "      <td>5.4360</td>\n",
       "      <td>155.2270</td>\n",
       "      <td>149.7910</td>\n",
       "    </tr>\n",
       "    <tr>\n",
       "      <th>2</th>\n",
       "      <td>5.4976</td>\n",
       "      <td>156.3758</td>\n",
       "      <td>150.8782</td>\n",
       "    </tr>\n",
       "    <tr>\n",
       "      <th>3</th>\n",
       "      <td>5.5592</td>\n",
       "      <td>157.5246</td>\n",
       "      <td>151.9654</td>\n",
       "    </tr>\n",
       "    <tr>\n",
       "      <th>4</th>\n",
       "      <td>5.6208</td>\n",
       "      <td>158.6734</td>\n",
       "      <td>153.0526</td>\n",
       "    </tr>\n",
       "  </tbody>\n",
       "</table>\n",
       "</div>"
      ],
      "text/plain": [
       "   Change  FutureValue  CurrentValue\n",
       "0  3.5760     148.8970      145.3210\n",
       "1  5.4360     155.2270      149.7910\n",
       "2  5.4976     156.3758      150.8782\n",
       "3  5.5592     157.5246      151.9654\n",
       "4  5.6208     158.6734      153.0526"
      ]
     },
     "execution_count": 145,
     "metadata": {},
     "output_type": "execute_result"
    }
   ],
   "source": [
    "predictionFeature = 'NY.GDP.PCAP.KN'\n",
    "columns=['CountryCode', 'IndicatorCode', 'Year', 'Value']\n",
    "data = pd.read_csv(\"data/indicators.csv\", usecols=(columns))\n",
    "pData = data[data.IndicatorCode == predictionFeature]\n",
    "yearsForward = 5\n",
    "\n",
    "# TODO optimize later\n",
    "futureValues = [pData[(pData.CountryCode == row[0]) & (pData.Year == int(row[1]) + yearsForward)].Value.values for row in X.values]\n",
    "currentValues = [pData[(pData.CountryCode == row[0]) & (pData.Year == int(row[1]))].Value.values for row in X.values]\n",
    "rowsWithPredictions = [(len(futureValues[i]) == 1 & len(currentValues[i]) == 1) for i in range(len(futureValues))]\n",
    "values = [[futureValues[i][0] - currentValues[i][0], futureValues[i][0], currentValues[i][0]] for i in range(len(futureValues)) if (len(futureValues[i]) == 1 & len(currentValues[i]) == 1)]\n",
    "X = X[rowsWithPredictions]\n",
    "y = pd.DataFrame(values, columns=['Change', 'FutureValue', 'CurrentValue'])\n",
    "print (len(X))\n",
    "print (len(y))\n",
    "y.head()"
   ]
  },
  {
   "cell_type": "code",
   "execution_count": 146,
   "metadata": {
    "collapsed": false
   },
   "outputs": [],
   "source": [
    "from sklearn.cross_validation import train_test_split\n",
    "countries = ['AFG', 'ALB', 'DZA', 'AGO', 'ATG', 'ARG', 'ARM', 'AUS', 'AUT',\n",
    "           'AZE', 'BGD', 'BRB', 'BLR', 'BEL', 'BLZ', 'BEN', 'BOL', 'BIH',\n",
    "           'BRA', 'BRN', 'BGR', 'BFA', 'BDI', 'CPV', 'KHM', 'CMR', 'CAN',\n",
    "           'CAF', 'TCD', 'CHL', 'CHN', 'COL', 'COM', 'COG', 'CRI', 'CIV',\n",
    "           'HRV', 'CUB', 'CYP', 'CZE', 'ZAR', 'DNK', 'DOM', 'EAP', 'ECU',\n",
    "           'EGY', 'SLV', 'EST', 'ETH', 'ECA', 'FJI', 'FIN', 'FRA', 'GAB',\n",
    "           'GEO', 'DEU', 'GHA', 'GRC', 'GRD', 'GTM', 'GIN', 'GNB', 'GUY',\n",
    "           'HTI', 'HIC', 'HND', 'HUN', 'IND', 'IDN', 'IRN', 'IRQ', 'IRL',\n",
    "           'ISR', 'ITA', 'JAM', 'JPN', 'JOR', 'KAZ', 'KEN', 'KOR', 'KWT',\n",
    "           'KGZ', 'LAO', 'LAC', 'LVA', 'LBN', 'LBR', 'LBY', 'LTU', 'LMY',\n",
    "           'LMC', 'LUX', 'MKD', 'MDG', 'MWI', 'MYS', 'MDV', 'MLI', 'MLT',\n",
    "           'MRT', 'MUS', 'MEX', 'MNA', 'MIC', 'MDA', 'MNG', 'MAR', 'MOZ',\n",
    "           'NPL', 'NLD', 'NZL', 'NIC', 'NER', 'NGA', 'NOR', 'OMN', 'PAK',\n",
    "           'PAN', 'PNG', 'PRY', 'PER', 'PHL', 'POL', 'PRT', 'QAT', 'ROM',\n",
    "           'RUS', 'RWA', 'STP', 'SAU', 'SEN', 'SLE', 'SVK', 'SVN', 'SLB',\n",
    "           'ZAF', 'SAS', 'ESP', 'LKA', 'VCT', 'SSA', 'SDN', 'SUR', 'SWE',\n",
    "           'CHE', 'SYR', 'TJK', 'TZA', 'THA', 'BHS', 'GMB', 'TGO', 'TTO',\n",
    "           'TUN', 'TUR', 'TKM', 'UGA', 'UKR', 'ARE', 'GBR', 'USA', 'UMC',\n",
    "           'URY', 'UZB', 'VUT', 'VEN', 'VNM', 'WLD', 'YEM', 'ZMB', 'ZWE']\n",
    "random.shuffle(countries)\n",
    "split = int(len(countries)*0.2)\n",
    "countries_test = countries[:split]\n",
    "countries_train = countries[split:]\n",
    "test_indices = [row[0] in countries_test for row in X.values]\n",
    "train_indices = np.invert(test_indices)\n",
    "X_data = X.drop(['COUNTRY', 'YEAR'], axis=1)\n",
    "\n",
    "X_train = X_data[train_indices]\n",
    "X_test = X_data[test_indices]\n",
    "y_train = y.Change[train_indices]\n",
    "y_test = y.Change[test_indices]"
   ]
  },
  {
   "cell_type": "code",
   "execution_count": 147,
   "metadata": {
    "collapsed": false
   },
   "outputs": [],
   "source": [
    "from sklearn.preprocessing import StandardScaler\n",
    "from sklearn.cross_validation import cross_val_score\n",
    "scaler = StandardScaler()\n",
    "scaler.fit(X_train)\n",
    "X_train = scaler.transform(X_train)\n",
    "X_test = scaler.transform(X_test)"
   ]
  },
  {
   "cell_type": "code",
   "execution_count": 148,
   "metadata": {
    "collapsed": false
   },
   "outputs": [],
   "source": [
    "import seaborn as sb\n",
    "import matplotlib.pyplot as plt\n",
    "def getGraphData(clf, country, displayRelativeValues):\n",
    "    indices = (X.COUNTRY == country)\n",
    "    realValues = y[indices.values].values\n",
    "    plotData = X[indices]\n",
    "    \n",
    "    dataPoints = []\n",
    "    plotDataValues = plotData.drop(['COUNTRY', 'YEAR'], axis=1).values\n",
    "    plotDataScaledValues = scaler.transform(plotDataValues)\n",
    "    predictions = clf.predict(plotDataScaledValues)\n",
    "    for i in range(len(plotData.YEAR)):\n",
    "        relativePortion = 0 if displayRelativeValues else realValues[i][2] \n",
    "        dataPoints.append([country + \"_PREDICTED\", plotData.YEAR.values[i] + yearsForward, predictions[i] + relativePortion, True])\n",
    "        dataPoints.append([country + \"_REAL\", plotData.YEAR.values[i] + yearsForward, realValues[i][0] + relativePortion, False])\n",
    "    return len(plotData.YEAR), dataPoints"
   ]
  },
  {
   "cell_type": "code",
   "execution_count": 149,
   "metadata": {
    "collapsed": true
   },
   "outputs": [],
   "source": [
    "def testClfWithCountries(clf, countries, displayRelativeValues):\n",
    "    countryGraphData = []\n",
    "    for country in countries:\n",
    "        numYears, dataPoints = getGraphData(clf, country, displayRelativeValues)\n",
    "        countryGraphData.append(dataPoints)\n",
    "    \n",
    "    countryGraphDataFlattened = [item for sublist in countryGraphData for item in sublist]\n",
    "    \n",
    "    graphData = pd.DataFrame(countryGraphDataFlattened, columns=['COUNTRY', 'YEAR', 'VALUE', 'IS_PREDICTED'])\n",
    "    \n",
    "    numYears = len(countries)\n",
    "    \n",
    "    linestyles = [\"--\", \"-\"]*numYears\n",
    "    markers= [\"x\", \"o\"]*numYears\n",
    "    palette = np.repeat(sb.color_palette(\"Set1\", n_colors=numYears, desat=.5), 2, axis=0)\n",
    "\n",
    "    fig, (ax) = plt.subplots(1,1, figsize=(20,7))\n",
    "    graph = sb.pointplot(x='YEAR', y='VALUE', hue='COUNTRY', linestyles=linestyles, markers=markers, palette=palette, data=graphData, ax=ax)"
   ]
  },
  {
   "cell_type": "code",
   "execution_count": 150,
   "metadata": {
    "collapsed": false
   },
   "outputs": [],
   "source": [
    "import random\n",
    "def testClf(clf, numCountries=5, displayRelativeValues=False, samples=len(y_train)):\n",
    "    random.shuffle(countries_test)\n",
    "    clf.fit(X_train[:samples], y_train[:samples])\n",
    "    testClfWithCountries(clf, countries_test[0:numCountries], displayRelativeValues)\n",
    "    print (clf.score(X_test, y_test))"
   ]
  },
  {
   "cell_type": "code",
   "execution_count": 151,
   "metadata": {
    "collapsed": false
   },
   "outputs": [
    {
     "name": "stdout",
     "output_type": "stream",
     "text": [
      "0.587570642574\n"
     ]
    },
    {
     "data": {
      "image/png": "[encoded data removed]",
      "text/plain": [
       "<matplotlib.figure.Figure at 0x13182d208>"
      ]
     },
     "metadata": {},
     "output_type": "display_data"
    }
   ],
   "source": [
    "from sklearn.linear_model import LinearRegression\n",
    "clf_lr = LinearRegression()\n",
    "testClf(clf_lr, 2, True)"
   ]
  },
  {
   "cell_type": "code",
   "execution_count": 114,
   "metadata": {
    "collapsed": false
   },
   "outputs": [
    {
     "ename": "Exception",
     "evalue": "The first layer in a Sequential model must get an `input_shape` or `batch_input_shape` argument.",
     "output_type": "error",
     "traceback": [
      "\u001b[0;31m---------------------------------------------------------------------------\u001b[0m",
      "\u001b[0;31mException\u001b[0m                                 Traceback (most recent call last)",
      "\u001b[0;32m<ipython-input-114-940269ac1013>\u001b[0m in \u001b[0;36m<module>\u001b[0;34m()\u001b[0m\n\u001b[1;32m     17\u001b[0m     \u001b[0;32mreturn\u001b[0m \u001b[0mmodel\u001b[0m\u001b[0;34m\u001b[0m\u001b[0m\n\u001b[1;32m     18\u001b[0m \u001b[0mclf_nn\u001b[0m \u001b[0;34m=\u001b[0m \u001b[0mKerasRegressor\u001b[0m\u001b[0;34m(\u001b[0m\u001b[0mbuild_fn\u001b[0m\u001b[0;34m=\u001b[0m\u001b[0mbaseline_model\u001b[0m\u001b[0;34m,\u001b[0m \u001b[0mnb_epoch\u001b[0m\u001b[0;34m=\u001b[0m\u001b[0;36m30\u001b[0m\u001b[0;34m,\u001b[0m \u001b[0mbatch_size\u001b[0m\u001b[0;34m=\u001b[0m\u001b[0;36m5\u001b[0m\u001b[0;34m)\u001b[0m\u001b[0;34m\u001b[0m\u001b[0m\n\u001b[0;32m---> 19\u001b[0;31m \u001b[0mtestClf\u001b[0m\u001b[0;34m(\u001b[0m\u001b[0mclf_nn\u001b[0m\u001b[0;34m,\u001b[0m \u001b[0;36m2\u001b[0m\u001b[0;34m,\u001b[0m \u001b[0;32mTrue\u001b[0m\u001b[0;34m)\u001b[0m\u001b[0;34m\u001b[0m\u001b[0m\n\u001b[0m",
      "\u001b[0;32m<ipython-input-91-42770df0c0c6>\u001b[0m in \u001b[0;36mtestClf\u001b[0;34m(clf, numCountries, displayRelativeValues, samples)\u001b[0m\n\u001b[1;32m      2\u001b[0m \u001b[0;32mdef\u001b[0m \u001b[0mtestClf\u001b[0m\u001b[0;34m(\u001b[0m\u001b[0mclf\u001b[0m\u001b[0;34m,\u001b[0m \u001b[0mnumCountries\u001b[0m\u001b[0;34m=\u001b[0m\u001b[0;36m5\u001b[0m\u001b[0;34m,\u001b[0m \u001b[0mdisplayRelativeValues\u001b[0m\u001b[0;34m=\u001b[0m\u001b[0;32mFalse\u001b[0m\u001b[0;34m,\u001b[0m \u001b[0msamples\u001b[0m\u001b[0;34m=\u001b[0m\u001b[0mlen\u001b[0m\u001b[0;34m(\u001b[0m\u001b[0my_train\u001b[0m\u001b[0;34m)\u001b[0m\u001b[0;34m)\u001b[0m\u001b[0;34m:\u001b[0m\u001b[0;34m\u001b[0m\u001b[0m\n\u001b[1;32m      3\u001b[0m     \u001b[0mrandom\u001b[0m\u001b[0;34m.\u001b[0m\u001b[0mshuffle\u001b[0m\u001b[0;34m(\u001b[0m\u001b[0mcountries_test\u001b[0m\u001b[0;34m)\u001b[0m\u001b[0;34m\u001b[0m\u001b[0m\n\u001b[0;32m----> 4\u001b[0;31m     \u001b[0mclf\u001b[0m\u001b[0;34m.\u001b[0m\u001b[0mfit\u001b[0m\u001b[0;34m(\u001b[0m\u001b[0mX_train\u001b[0m\u001b[0;34m[\u001b[0m\u001b[0;34m:\u001b[0m\u001b[0msamples\u001b[0m\u001b[0;34m]\u001b[0m\u001b[0;34m,\u001b[0m \u001b[0my_train\u001b[0m\u001b[0;34m[\u001b[0m\u001b[0;34m:\u001b[0m\u001b[0msamples\u001b[0m\u001b[0;34m]\u001b[0m\u001b[0;34m)\u001b[0m\u001b[0;34m\u001b[0m\u001b[0m\n\u001b[0m\u001b[1;32m      5\u001b[0m     \u001b[0mtestClfWithCountries\u001b[0m\u001b[0;34m(\u001b[0m\u001b[0mclf\u001b[0m\u001b[0;34m,\u001b[0m \u001b[0mcountries_test\u001b[0m\u001b[0;34m[\u001b[0m\u001b[0;36m0\u001b[0m\u001b[0;34m:\u001b[0m\u001b[0mnumCountries\u001b[0m\u001b[0;34m]\u001b[0m\u001b[0;34m,\u001b[0m \u001b[0mdisplayRelativeValues\u001b[0m\u001b[0;34m)\u001b[0m\u001b[0;34m\u001b[0m\u001b[0m\n\u001b[1;32m      6\u001b[0m     \u001b[0mprint\u001b[0m \u001b[0;34m(\u001b[0m\u001b[0mclf\u001b[0m\u001b[0;34m.\u001b[0m\u001b[0mscore\u001b[0m\u001b[0;34m(\u001b[0m\u001b[0mX_test\u001b[0m\u001b[0;34m,\u001b[0m \u001b[0my_test\u001b[0m\u001b[0;34m)\u001b[0m\u001b[0;34m)\u001b[0m\u001b[0;34m\u001b[0m\u001b[0m\n",
      "\u001b[0;32m/Users/jgzuke/anaconda3/lib/python3.5/site-packages/keras/wrappers/scikit_learn.py\u001b[0m in \u001b[0;36mfit\u001b[0;34m(self, X, y, **kwargs)\u001b[0m\n\u001b[1;32m    135\u001b[0m                 **self.filter_sk_params(self.build_fn.__call__))\n\u001b[1;32m    136\u001b[0m         \u001b[0;32melse\u001b[0m\u001b[0;34m:\u001b[0m\u001b[0;34m\u001b[0m\u001b[0m\n\u001b[0;32m--> 137\u001b[0;31m             \u001b[0mself\u001b[0m\u001b[0;34m.\u001b[0m\u001b[0mmodel\u001b[0m \u001b[0;34m=\u001b[0m \u001b[0mself\u001b[0m\u001b[0;34m.\u001b[0m\u001b[0mbuild_fn\u001b[0m\u001b[0;34m(\u001b[0m\u001b[0;34m**\u001b[0m\u001b[0mself\u001b[0m\u001b[0;34m.\u001b[0m\u001b[0mfilter_sk_params\u001b[0m\u001b[0;34m(\u001b[0m\u001b[0mself\u001b[0m\u001b[0;34m.\u001b[0m\u001b[0mbuild_fn\u001b[0m\u001b[0;34m)\u001b[0m\u001b[0;34m)\u001b[0m\u001b[0;34m\u001b[0m\u001b[0m\n\u001b[0m\u001b[1;32m    138\u001b[0m \u001b[0;34m\u001b[0m\u001b[0m\n\u001b[1;32m    139\u001b[0m         \u001b[0mloss_name\u001b[0m \u001b[0;34m=\u001b[0m \u001b[0mself\u001b[0m\u001b[0;34m.\u001b[0m\u001b[0mmodel\u001b[0m\u001b[0;34m.\u001b[0m\u001b[0mloss\u001b[0m\u001b[0;34m\u001b[0m\u001b[0m\n",
      "\u001b[0;32m<ipython-input-114-940269ac1013>\u001b[0m in \u001b[0;36mbaseline_model\u001b[0;34m()\u001b[0m\n\u001b[1;32m     12\u001b[0m         \u001b[0mActivation\u001b[0m\u001b[0;34m(\u001b[0m\u001b[0;34m'relu'\u001b[0m\u001b[0;34m)\u001b[0m\u001b[0;34m,\u001b[0m\u001b[0;34m\u001b[0m\u001b[0m\n\u001b[1;32m     13\u001b[0m         \u001b[0mDense\u001b[0m\u001b[0;34m(\u001b[0m\u001b[0;36m1\u001b[0m\u001b[0;34m)\u001b[0m\u001b[0;34m,\u001b[0m\u001b[0;34m\u001b[0m\u001b[0m\n\u001b[0;32m---> 14\u001b[0;31m         \u001b[0mActivation\u001b[0m\u001b[0;34m(\u001b[0m\u001b[0;34m'sigmoid'\u001b[0m\u001b[0;34m)\u001b[0m\u001b[0;34m,\u001b[0m\u001b[0;34m\u001b[0m\u001b[0m\n\u001b[0m\u001b[1;32m     15\u001b[0m     ])\n\u001b[1;32m     16\u001b[0m     \u001b[0mmodel\u001b[0m\u001b[0;34m.\u001b[0m\u001b[0mcompile\u001b[0m\u001b[0;34m(\u001b[0m\u001b[0mloss\u001b[0m\u001b[0;34m=\u001b[0m\u001b[0;34m'mean_squared_error'\u001b[0m\u001b[0;34m,\u001b[0m \u001b[0moptimizer\u001b[0m\u001b[0;34m=\u001b[0m\u001b[0;34m'nadam'\u001b[0m\u001b[0;34m)\u001b[0m\u001b[0;34m\u001b[0m\u001b[0m\n",
      "\u001b[0;32m/Users/jgzuke/anaconda3/lib/python3.5/site-packages/keras/models.py\u001b[0m in \u001b[0;36m__init__\u001b[0;34m(self, layers, name)\u001b[0m\n\u001b[1;32m    253\u001b[0m \u001b[0;34m\u001b[0m\u001b[0m\n\u001b[1;32m    254\u001b[0m         \u001b[0;32mfor\u001b[0m \u001b[0mlayer\u001b[0m \u001b[0;32min\u001b[0m \u001b[0mlayers\u001b[0m\u001b[0;34m:\u001b[0m\u001b[0;34m\u001b[0m\u001b[0m\n\u001b[0;32m--> 255\u001b[0;31m             \u001b[0mself\u001b[0m\u001b[0;34m.\u001b[0m\u001b[0madd\u001b[0m\u001b[0;34m(\u001b[0m\u001b[0mlayer\u001b[0m\u001b[0;34m)\u001b[0m\u001b[0;34m\u001b[0m\u001b[0m\n\u001b[0m\u001b[1;32m    256\u001b[0m \u001b[0;34m\u001b[0m\u001b[0m\n\u001b[1;32m    257\u001b[0m     \u001b[0;32mdef\u001b[0m \u001b[0madd\u001b[0m\u001b[0;34m(\u001b[0m\u001b[0mself\u001b[0m\u001b[0;34m,\u001b[0m \u001b[0mlayer\u001b[0m\u001b[0;34m)\u001b[0m\u001b[0;34m:\u001b[0m\u001b[0;34m\u001b[0m\u001b[0m\n",
      "\u001b[0;32m/Users/jgzuke/anaconda3/lib/python3.5/site-packages/keras/models.py\u001b[0m in \u001b[0;36madd\u001b[0;34m(self, layer)\u001b[0m\n\u001b[1;32m    266\u001b[0m                 \u001b[0;31m# create an input layer\u001b[0m\u001b[0;34m\u001b[0m\u001b[0;34m\u001b[0m\u001b[0m\n\u001b[1;32m    267\u001b[0m                 \u001b[0;32mif\u001b[0m \u001b[0;32mnot\u001b[0m \u001b[0mhasattr\u001b[0m\u001b[0;34m(\u001b[0m\u001b[0mlayer\u001b[0m\u001b[0;34m,\u001b[0m \u001b[0;34m'batch_input_shape'\u001b[0m\u001b[0;34m)\u001b[0m\u001b[0;34m:\u001b[0m\u001b[0;34m\u001b[0m\u001b[0m\n\u001b[0;32m--> 268\u001b[0;31m                     raise Exception('The first layer in a Sequential model must '\n\u001b[0m\u001b[1;32m    269\u001b[0m                                     \u001b[0;34m'get an `input_shape` or '\u001b[0m\u001b[0;34m\u001b[0m\u001b[0m\n\u001b[1;32m    270\u001b[0m                                     '`batch_input_shape` argument.')\n",
      "\u001b[0;31mException\u001b[0m: The first layer in a Sequential model must get an `input_shape` or `batch_input_shape` argument."
     ]
    }
   ],
   "source": [
    "from keras.models import Sequential\n",
    "from keras.layers import Dense, Activation, Dropout\n",
    "from keras.wrappers.scikit_learn import KerasRegressor\n",
    "from keras.regularizers import l2, activity_l2\n",
    "def baseline_model():\n",
    "    model = Sequential([\n",
    "        #Dropout(0.2, input_shape=(315,)),\n",
    "        Dense(315, input_dim=315, W_regularizer=l2(0.01), activity_regularizer=activity_l2(0.01)),\n",
    "        Activation('relu'),\n",
    "        Dense(100, W_regularizer=l2(0.01), activity_regularizer=activity_l2(0.01)),\n",
    "        Activation('relu'),\n",
    "        Dense(10, W_regularizer=l2(0.01), activity_regularizer=activity_l2(0.01)),\n",
    "        Activation('relu'),\n",
    "        Dense(1),\n",
    "        Activation('sigmoid'),\n",
    "    ])\n",
    "    model.compile(loss='mean_squared_error', optimizer='nadam')\n",
    "    return model\n",
    "clf_nn = KerasRegressor(build_fn=baseline_model, nb_epoch=30, batch_size=5)\n",
    "testClf(clf_nn, 2, True)"
   ]
  },
  {
   "cell_type": "code",
   "execution_count": 113,
   "metadata": {
    "collapsed": false
   },
   "outputs": [
    {
     "name": "stdout",
     "output_type": "stream",
     "text": [
      "1240/1249 [============================>.] - ETA: 0s"
     ]
    },
    {
     "data": {
      "text/plain": [
       "79.533087048288863"
      ]
     },
     "execution_count": 113,
     "metadata": {},
     "output_type": "execute_result"
    }
   ],
   "source": [
    "clf_nn.score(X_test, y_test)"
   ]
  },
  {
   "cell_type": "code",
   "execution_count": 66,
   "metadata": {
    "collapsed": false
   },
   "outputs": [
    {
     "name": "stdout",
     "output_type": "stream",
     "text": [
      "Fitting 2 folds for each of 4 candidates, totalling 8 fits\n"
     ]
    },
    {
     "name": "stderr",
     "output_type": "stream",
     "text": [
      "[Parallel(n_jobs=1)]: Done   8 out of   8 | elapsed:   26.5s finished\n"
     ]
    },
    {
     "name": "stdout",
     "output_type": "stream",
     "text": [
      "0.110353438473\n"
     ]
    },
    {
     "data": {
      "text/plain": [
       "SVR(C=40, cache_size=200, coef0=0.0, degree=3, epsilon=0.1, gamma=0.02,\n",
       "  kernel='rbf', max_iter=-1, shrinking=True, tol=0.001, verbose=False)"
      ]
     },
     "execution_count": 66,
     "metadata": {},
     "output_type": "execute_result"
    },
    {
     "data": {
      "image/png": "[encoded data removed]",
      "text/plain": [
       "<matplotlib.figure.Figure at 0x12ae53b38>"
      ]
     },
     "metadata": {},
     "output_type": "display_data"
    }
   ],
   "source": [
    "from sklearn.grid_search import GridSearchCV\n",
    "from sklearn.svm import SVR\n",
    "param_grid = [\n",
    "    {'C': [40, 80], 'gamma': [0.05, 0.02], 'kernel': ['rbf']},\n",
    "]\n",
    "clf_svr = GridSearchCV(SVR(), param_grid, verbose=True, cv=2)\n",
    "# clf_svr = SVR(C=50, gamma=0.01, kernel='rbf')\n",
    "testClf(clf_svr, 2, True) #, samples=2000)\n",
    "clf_svr.best_estimator_"
   ]
  },
  {
   "cell_type": "code",
   "execution_count": null,
   "metadata": {
    "collapsed": true
   },
   "outputs": [],
   "source": []
  },
  {
   "cell_type": "code",
   "execution_count": 248,
   "metadata": {
    "collapsed": false
   },
   "outputs": [],
   "source": [
    "import lasagne\n",
    "import theano\n",
    "import theano.tensor as T"
   ]
  },
  {
   "cell_type": "code",
   "execution_count": 249,
   "metadata": {
    "collapsed": false
   },
   "outputs": [
    {
     "data": {
      "text/plain": [
       "(4117, 315)"
      ]
     },
     "execution_count": 249,
     "metadata": {},
     "output_type": "execute_result"
    }
   ],
   "source": [
    "X_train.shape"
   ]
  },
  {
   "cell_type": "code",
   "execution_count": 250,
   "metadata": {
    "collapsed": false
   },
   "outputs": [
    {
     "data": {
      "text/plain": [
       "(4117,)"
      ]
     },
     "execution_count": 250,
     "metadata": {},
     "output_type": "execute_result"
    }
   ],
   "source": [
    "y_train.shape"
   ]
  },
  {
   "cell_type": "code",
   "execution_count": 258,
   "metadata": {
    "collapsed": false
   },
   "outputs": [],
   "source": [
    "input_var = T.tensor4('X')\n",
    "target_var = T.ivector('y')"
   ]
  },
  {
   "cell_type": "code",
   "execution_count": 259,
   "metadata": {
    "collapsed": false
   },
   "outputs": [],
   "source": [
    "from lasagne.nonlinearities import leaky_rectify, softmax\n",
    "network = lasagne.layers.InputLayer((None, 3, 32, 32), input_var)\n",
    "network = lasagne.layers.Conv2DLayer(network, 64, (3, 3),\n",
    "                                     nonlinearity=leaky_rectify)\n",
    "network = lasagne.layers.Conv2DLayer(network, 32, (3, 3),\n",
    "                                     nonlinearity=leaky_rectify)\n",
    "network = lasagne.layers.Pool2DLayer(network, (3, 3), stride=2, mode='max')\n",
    "network = lasagne.layers.DenseLayer(lasagne.layers.dropout(network, 0.5),\n",
    "                                    128, nonlinearity=leaky_rectify,\n",
    "                                    W=lasagne.init.Orthogonal())\n",
    "network = lasagne.layers.DenseLayer(lasagne.layers.dropout(network, 0.5),\n",
    "                                    10, nonlinearity=softmax)"
   ]
  },
  {
   "cell_type": "code",
   "execution_count": 260,
   "metadata": {
    "collapsed": false
   },
   "outputs": [],
   "source": [
    "# create loss function\n",
    "prediction = lasagne.layers.get_output(network)\n",
    "loss = lasagne.objectives.categorical_crossentropy(prediction, target_var)\n",
    "loss = loss.mean() + 1e-4 * lasagne.regularization.regularize_network_params(\n",
    "        network, lasagne.regularization.l2)"
   ]
  },
  {
   "cell_type": "code",
   "execution_count": 261,
   "metadata": {
    "collapsed": true
   },
   "outputs": [],
   "source": [
    "# create parameter update expressions\n",
    "params = lasagne.layers.get_all_params(network, trainable=True)\n",
    "updates = lasagne.updates.nesterov_momentum(loss, params, learning_rate=0.01,\n",
    "                                            momentum=0.9)\n"
   ]
  },
  {
   "cell_type": "code",
   "execution_count": 262,
   "metadata": {
    "collapsed": true
   },
   "outputs": [],
   "source": [
    "train_fn = theano.function([input_var, target_var], loss, updates=updates)\n"
   ]
  },
  {
   "cell_type": "code",
   "execution_count": 267,
   "metadata": {
    "collapsed": false
   },
   "outputs": [
    {
     "ename": "TypeError",
     "evalue": "('Bad input argument to theano function with name \"<ipython-input-262-a9a5249efc94>:1\"  at index 0(0-based)', 'Wrong number of dimensions: expected 4, got 1 with shape (315,).')",
     "output_type": "error",
     "traceback": [
      "\u001b[0;31m---------------------------------------------------------------------------\u001b[0m",
      "\u001b[0;31mTypeError\u001b[0m                                 Traceback (most recent call last)",
      "\u001b[0;32m<ipython-input-267-bd22883065db>\u001b[0m in \u001b[0;36m<module>\u001b[0;34m()\u001b[0m\n\u001b[1;32m      2\u001b[0m     \u001b[0mloss\u001b[0m \u001b[0;34m=\u001b[0m \u001b[0;36m0\u001b[0m\u001b[0;34m\u001b[0m\u001b[0m\n\u001b[1;32m      3\u001b[0m     \u001b[0;32mfor\u001b[0m \u001b[0mi\u001b[0m \u001b[0;32min\u001b[0m \u001b[0mrange\u001b[0m\u001b[0;34m(\u001b[0m\u001b[0mlen\u001b[0m\u001b[0;34m(\u001b[0m\u001b[0my_train\u001b[0m\u001b[0;34m)\u001b[0m\u001b[0;34m)\u001b[0m\u001b[0;34m:\u001b[0m\u001b[0;34m\u001b[0m\u001b[0m\n\u001b[0;32m----> 4\u001b[0;31m         \u001b[0mloss\u001b[0m \u001b[0;34m+=\u001b[0m \u001b[0mtrain_fn\u001b[0m\u001b[0;34m(\u001b[0m\u001b[0mX_train\u001b[0m\u001b[0;34m[\u001b[0m\u001b[0mi\u001b[0m\u001b[0;34m]\u001b[0m\u001b[0;34m,\u001b[0m \u001b[0my_train\u001b[0m\u001b[0;34m[\u001b[0m\u001b[0mi\u001b[0m\u001b[0;34m]\u001b[0m\u001b[0;34m)\u001b[0m\u001b[0;34m\u001b[0m\u001b[0m\n\u001b[0m\u001b[1;32m      5\u001b[0m     \u001b[0mprint\u001b[0m\u001b[0;34m(\u001b[0m\u001b[0;34m\"Epoch %d: Loss %g\"\u001b[0m \u001b[0;34m%\u001b[0m \u001b[0;34m(\u001b[0m\u001b[0mepoch\u001b[0m \u001b[0;34m+\u001b[0m \u001b[0;36m1\u001b[0m\u001b[0;34m,\u001b[0m \u001b[0mloss\u001b[0m \u001b[0;34m/\u001b[0m \u001b[0mlen\u001b[0m\u001b[0;34m(\u001b[0m\u001b[0my_train\u001b[0m\u001b[0;34m)\u001b[0m\u001b[0;34m)\u001b[0m\u001b[0;34m)\u001b[0m\u001b[0;34m\u001b[0m\u001b[0m\n",
      "\u001b[0;32m/Users/jgzuke/anaconda3/lib/python3.5/site-packages/theano/compile/function_module.py\u001b[0m in \u001b[0;36m__call__\u001b[0;34m(self, *args, **kwargs)\u001b[0m\n\u001b[1;32m    784\u001b[0m                         s.storage[0] = s.type.filter(\n\u001b[1;32m    785\u001b[0m                             \u001b[0marg\u001b[0m\u001b[0;34m,\u001b[0m \u001b[0mstrict\u001b[0m\u001b[0;34m=\u001b[0m\u001b[0ms\u001b[0m\u001b[0;34m.\u001b[0m\u001b[0mstrict\u001b[0m\u001b[0;34m,\u001b[0m\u001b[0;34m\u001b[0m\u001b[0m\n\u001b[0;32m--> 786\u001b[0;31m                             allow_downcast=s.allow_downcast)\n\u001b[0m\u001b[1;32m    787\u001b[0m \u001b[0;34m\u001b[0m\u001b[0m\n\u001b[1;32m    788\u001b[0m                     \u001b[0;32mexcept\u001b[0m \u001b[0mException\u001b[0m \u001b[0;32mas\u001b[0m \u001b[0me\u001b[0m\u001b[0;34m:\u001b[0m\u001b[0;34m\u001b[0m\u001b[0m\n",
      "\u001b[0;32m/Users/jgzuke/anaconda3/lib/python3.5/site-packages/theano/tensor/type.py\u001b[0m in \u001b[0;36mfilter\u001b[0;34m(self, data, strict, allow_downcast)\u001b[0m\n\u001b[1;32m    175\u001b[0m             raise TypeError(\"Wrong number of dimensions: expected %s,\"\n\u001b[1;32m    176\u001b[0m                             \" got %s with shape %s.\" % (self.ndim, data.ndim,\n\u001b[0;32m--> 177\u001b[0;31m                                                         data.shape))\n\u001b[0m\u001b[1;32m    178\u001b[0m         \u001b[0;32mif\u001b[0m \u001b[0;32mnot\u001b[0m \u001b[0mdata\u001b[0m\u001b[0;34m.\u001b[0m\u001b[0mflags\u001b[0m\u001b[0;34m.\u001b[0m\u001b[0maligned\u001b[0m\u001b[0;34m:\u001b[0m\u001b[0;34m\u001b[0m\u001b[0m\n\u001b[1;32m    179\u001b[0m             \u001b[0;32mtry\u001b[0m\u001b[0;34m:\u001b[0m\u001b[0;34m\u001b[0m\u001b[0m\n",
      "\u001b[0;31mTypeError\u001b[0m: ('Bad input argument to theano function with name \"<ipython-input-262-a9a5249efc94>:1\"  at index 0(0-based)', 'Wrong number of dimensions: expected 4, got 1 with shape (315,).')"
     ]
    }
   ],
   "source": [
    "for epoch in range(100):\n",
    "    loss = 0\n",
    "    for i in range(len(y_train)):\n",
    "        loss += train_fn(X_train[i], y_train[i])\n",
    "    print(\"Epoch %d: Loss %g\" % (epoch + 1, loss / len(y_train)))"
   ]
  },
  {
   "cell_type": "code",
   "execution_count": 128,
   "metadata": {
    "collapsed": false
   },
   "outputs": [
    {
     "name": "stdout",
     "output_type": "stream",
     "text": [
      "3711\n",
      "974\n",
      "3711\n",
      "974\n",
      "4685\n",
      "4685\n"
     ]
    }
   ],
   "source": [
    "print (len(X_train))\n",
    "print (len(X_test))\n",
    "print (len(y_train))\n",
    "print (len(y_test))\n",
    "print (len(X))\n",
    "print (len(y))"
   ]
  },
  {
   "cell_type": "code",
   "execution_count": 140,
   "metadata": {
    "collapsed": false
   },
   "outputs": [
    {
     "data": {
      "text/html": [
       "<div>\n",
       "<table border=\"1\" class=\"dataframe\">\n",
       "  <thead>\n",
       "    <tr style=\"text-align: right;\">\n",
       "      <th></th>\n",
       "      <th>Change</th>\n",
       "      <th>FutureValue</th>\n",
       "      <th>CurrentValue</th>\n",
       "    </tr>\n",
       "  </thead>\n",
       "  <tbody>\n",
       "    <tr>\n",
       "      <th>0</th>\n",
       "      <td>3930.517137</td>\n",
       "      <td>13191.561210</td>\n",
       "      <td>9261.044073</td>\n",
       "    </tr>\n",
       "    <tr>\n",
       "      <th>1</th>\n",
       "      <td>4115.300782</td>\n",
       "      <td>13586.523349</td>\n",
       "      <td>9471.222567</td>\n",
       "    </tr>\n",
       "    <tr>\n",
       "      <th>2</th>\n",
       "      <td>4584.049577</td>\n",
       "      <td>15067.761162</td>\n",
       "      <td>10483.711584</td>\n",
       "    </tr>\n",
       "    <tr>\n",
       "      <th>3</th>\n",
       "      <td>4288.751114</td>\n",
       "      <td>14884.432489</td>\n",
       "      <td>10595.681374</td>\n",
       "    </tr>\n",
       "    <tr>\n",
       "      <th>4</th>\n",
       "      <td>2126.064788</td>\n",
       "      <td>14629.222368</td>\n",
       "      <td>12503.157580</td>\n",
       "    </tr>\n",
       "    <tr>\n",
       "      <th>5</th>\n",
       "      <td>35554.807779</td>\n",
       "      <td>122923.478248</td>\n",
       "      <td>87368.670469</td>\n",
       "    </tr>\n",
       "    <tr>\n",
       "      <th>6</th>\n",
       "      <td>32354.627612</td>\n",
       "      <td>131956.680476</td>\n",
       "      <td>99602.052864</td>\n",
       "    </tr>\n",
       "    <tr>\n",
       "      <th>7</th>\n",
       "      <td>34434.162293</td>\n",
       "      <td>143777.475655</td>\n",
       "      <td>109343.313362</td>\n",
       "    </tr>\n",
       "    <tr>\n",
       "      <th>8</th>\n",
       "      <td>52206.804350</td>\n",
       "      <td>150311.307496</td>\n",
       "      <td>98104.503146</td>\n",
       "    </tr>\n",
       "    <tr>\n",
       "      <th>9</th>\n",
       "      <td>51967.746901</td>\n",
       "      <td>159585.488832</td>\n",
       "      <td>107617.741932</td>\n",
       "    </tr>\n",
       "    <tr>\n",
       "      <th>10</th>\n",
       "      <td>46480.147874</td>\n",
       "      <td>169403.626122</td>\n",
       "      <td>122923.478248</td>\n",
       "    </tr>\n",
       "    <tr>\n",
       "      <th>11</th>\n",
       "      <td>48057.161616</td>\n",
       "      <td>180013.842091</td>\n",
       "      <td>131956.680476</td>\n",
       "    </tr>\n",
       "    <tr>\n",
       "      <th>12</th>\n",
       "      <td>47214.135455</td>\n",
       "      <td>190991.611110</td>\n",
       "      <td>143777.475655</td>\n",
       "    </tr>\n",
       "    <tr>\n",
       "      <th>13</th>\n",
       "      <td>53483.116526</td>\n",
       "      <td>203794.424022</td>\n",
       "      <td>150311.307496</td>\n",
       "    </tr>\n",
       "    <tr>\n",
       "      <th>14</th>\n",
       "      <td>61242.679972</td>\n",
       "      <td>220828.168804</td>\n",
       "      <td>159585.488832</td>\n",
       "    </tr>\n",
       "    <tr>\n",
       "      <th>15</th>\n",
       "      <td>60365.481082</td>\n",
       "      <td>229769.107204</td>\n",
       "      <td>169403.626122</td>\n",
       "    </tr>\n",
       "    <tr>\n",
       "      <th>16</th>\n",
       "      <td>59465.677312</td>\n",
       "      <td>239479.519404</td>\n",
       "      <td>180013.842091</td>\n",
       "    </tr>\n",
       "    <tr>\n",
       "      <th>17</th>\n",
       "      <td>55291.375985</td>\n",
       "      <td>246282.987095</td>\n",
       "      <td>190991.611110</td>\n",
       "    </tr>\n",
       "    <tr>\n",
       "      <th>18</th>\n",
       "      <td>46355.307753</td>\n",
       "      <td>250149.731775</td>\n",
       "      <td>203794.424022</td>\n",
       "    </tr>\n",
       "    <tr>\n",
       "      <th>19</th>\n",
       "      <td>32370.848172</td>\n",
       "      <td>253199.016976</td>\n",
       "      <td>220828.168804</td>\n",
       "    </tr>\n",
       "    <tr>\n",
       "      <th>20</th>\n",
       "      <td>29182.711299</td>\n",
       "      <td>258951.818503</td>\n",
       "      <td>229769.107204</td>\n",
       "    </tr>\n",
       "    <tr>\n",
       "      <th>21</th>\n",
       "      <td>957.812535</td>\n",
       "      <td>7205.199987</td>\n",
       "      <td>6247.387453</td>\n",
       "    </tr>\n",
       "    <tr>\n",
       "      <th>22</th>\n",
       "      <td>2203.295947</td>\n",
       "      <td>7590.902737</td>\n",
       "      <td>5387.606790</td>\n",
       "    </tr>\n",
       "    <tr>\n",
       "      <th>23</th>\n",
       "      <td>1085.326774</td>\n",
       "      <td>7764.266743</td>\n",
       "      <td>6678.939969</td>\n",
       "    </tr>\n",
       "    <tr>\n",
       "      <th>24</th>\n",
       "      <td>1490.474655</td>\n",
       "      <td>8236.617520</td>\n",
       "      <td>6746.142866</td>\n",
       "    </tr>\n",
       "    <tr>\n",
       "      <th>25</th>\n",
       "      <td>1539.580797</td>\n",
       "      <td>8593.752833</td>\n",
       "      <td>7054.172037</td>\n",
       "    </tr>\n",
       "    <tr>\n",
       "      <th>26</th>\n",
       "      <td>1198.064544</td>\n",
       "      <td>8403.264531</td>\n",
       "      <td>7205.199987</td>\n",
       "    </tr>\n",
       "    <tr>\n",
       "      <th>27</th>\n",
       "      <td>801.485458</td>\n",
       "      <td>8392.388195</td>\n",
       "      <td>7590.902737</td>\n",
       "    </tr>\n",
       "    <tr>\n",
       "      <th>28</th>\n",
       "      <td>890.942725</td>\n",
       "      <td>8655.209468</td>\n",
       "      <td>7764.266743</td>\n",
       "    </tr>\n",
       "    <tr>\n",
       "      <th>29</th>\n",
       "      <td>605.532426</td>\n",
       "      <td>8842.149946</td>\n",
       "      <td>8236.617520</td>\n",
       "    </tr>\n",
       "    <tr>\n",
       "      <th>...</th>\n",
       "      <td>...</td>\n",
       "      <td>...</td>\n",
       "      <td>...</td>\n",
       "    </tr>\n",
       "    <tr>\n",
       "      <th>4655</th>\n",
       "      <td>1667.523771</td>\n",
       "      <td>6985.184559</td>\n",
       "      <td>5317.660787</td>\n",
       "    </tr>\n",
       "    <tr>\n",
       "      <th>4656</th>\n",
       "      <td>1625.931963</td>\n",
       "      <td>7207.283356</td>\n",
       "      <td>5581.351393</td>\n",
       "    </tr>\n",
       "    <tr>\n",
       "      <th>4657</th>\n",
       "      <td>1583.916279</td>\n",
       "      <td>7461.885834</td>\n",
       "      <td>5877.969555</td>\n",
       "    </tr>\n",
       "    <tr>\n",
       "      <th>4658</th>\n",
       "      <td>1569.503086</td>\n",
       "      <td>7722.842236</td>\n",
       "      <td>6153.339150</td>\n",
       "    </tr>\n",
       "    <tr>\n",
       "      <th>4659</th>\n",
       "      <td>1413.712337</td>\n",
       "      <td>7938.743147</td>\n",
       "      <td>6525.030810</td>\n",
       "    </tr>\n",
       "    <tr>\n",
       "      <th>4660</th>\n",
       "      <td>63.478420</td>\n",
       "      <td>1182.388771</td>\n",
       "      <td>1118.910351</td>\n",
       "    </tr>\n",
       "    <tr>\n",
       "      <th>4661</th>\n",
       "      <td>114.900434</td>\n",
       "      <td>1215.535719</td>\n",
       "      <td>1100.635284</td>\n",
       "    </tr>\n",
       "    <tr>\n",
       "      <th>4662</th>\n",
       "      <td>6.206684</td>\n",
       "      <td>1080.187522</td>\n",
       "      <td>1073.980838</td>\n",
       "    </tr>\n",
       "    <tr>\n",
       "      <th>4663</th>\n",
       "      <td>-47.744973</td>\n",
       "      <td>1068.583208</td>\n",
       "      <td>1116.328181</td>\n",
       "    </tr>\n",
       "    <tr>\n",
       "      <th>4664</th>\n",
       "      <td>7.177667</td>\n",
       "      <td>1144.863497</td>\n",
       "      <td>1137.685830</td>\n",
       "    </tr>\n",
       "    <tr>\n",
       "      <th>4665</th>\n",
       "      <td>-55.966807</td>\n",
       "      <td>1126.421964</td>\n",
       "      <td>1182.388771</td>\n",
       "    </tr>\n",
       "    <tr>\n",
       "      <th>4666</th>\n",
       "      <td>7.231932</td>\n",
       "      <td>1222.767650</td>\n",
       "      <td>1215.535719</td>\n",
       "    </tr>\n",
       "    <tr>\n",
       "      <th>4667</th>\n",
       "      <td>156.389451</td>\n",
       "      <td>1236.576973</td>\n",
       "      <td>1080.187522</td>\n",
       "    </tr>\n",
       "    <tr>\n",
       "      <th>4668</th>\n",
       "      <td>186.306500</td>\n",
       "      <td>1254.889708</td>\n",
       "      <td>1068.583208</td>\n",
       "    </tr>\n",
       "    <tr>\n",
       "      <th>4669</th>\n",
       "      <td>84.949767</td>\n",
       "      <td>1229.813264</td>\n",
       "      <td>1144.863497</td>\n",
       "    </tr>\n",
       "    <tr>\n",
       "      <th>4670</th>\n",
       "      <td>53.755302</td>\n",
       "      <td>1180.177266</td>\n",
       "      <td>1126.421964</td>\n",
       "    </tr>\n",
       "    <tr>\n",
       "      <th>4671</th>\n",
       "      <td>-35.479294</td>\n",
       "      <td>1187.288357</td>\n",
       "      <td>1222.767650</td>\n",
       "    </tr>\n",
       "    <tr>\n",
       "      <th>4672</th>\n",
       "      <td>-162.339088</td>\n",
       "      <td>1074.237885</td>\n",
       "      <td>1236.576973</td>\n",
       "    </tr>\n",
       "    <tr>\n",
       "      <th>4673</th>\n",
       "      <td>-368.994195</td>\n",
       "      <td>885.895513</td>\n",
       "      <td>1254.889708</td>\n",
       "    </tr>\n",
       "    <tr>\n",
       "      <th>4674</th>\n",
       "      <td>-401.440481</td>\n",
       "      <td>828.372784</td>\n",
       "      <td>1229.813264</td>\n",
       "    </tr>\n",
       "    <tr>\n",
       "      <th>4675</th>\n",
       "      <td>-406.126893</td>\n",
       "      <td>774.050373</td>\n",
       "      <td>1180.177266</td>\n",
       "    </tr>\n",
       "    <tr>\n",
       "      <th>4676</th>\n",
       "      <td>-448.201240</td>\n",
       "      <td>739.087117</td>\n",
       "      <td>1187.288357</td>\n",
       "    </tr>\n",
       "    <tr>\n",
       "      <th>4677</th>\n",
       "      <td>-371.247684</td>\n",
       "      <td>702.990202</td>\n",
       "      <td>1074.237885</td>\n",
       "    </tr>\n",
       "    <tr>\n",
       "      <th>4678</th>\n",
       "      <td>-315.593481</td>\n",
       "      <td>570.302032</td>\n",
       "      <td>885.895513</td>\n",
       "    </tr>\n",
       "    <tr>\n",
       "      <th>4679</th>\n",
       "      <td>-233.876815</td>\n",
       "      <td>594.495968</td>\n",
       "      <td>828.372784</td>\n",
       "    </tr>\n",
       "    <tr>\n",
       "      <th>4680</th>\n",
       "      <td>-123.908176</td>\n",
       "      <td>650.142197</td>\n",
       "      <td>774.050373</td>\n",
       "    </tr>\n",
       "    <tr>\n",
       "      <th>4681</th>\n",
       "      <td>-25.919344</td>\n",
       "      <td>713.167773</td>\n",
       "      <td>739.087117</td>\n",
       "    </tr>\n",
       "    <tr>\n",
       "      <th>4682</th>\n",
       "      <td>68.749031</td>\n",
       "      <td>771.739233</td>\n",
       "      <td>702.990202</td>\n",
       "    </tr>\n",
       "    <tr>\n",
       "      <th>4683</th>\n",
       "      <td>218.040529</td>\n",
       "      <td>788.342561</td>\n",
       "      <td>570.302032</td>\n",
       "    </tr>\n",
       "    <tr>\n",
       "      <th>4684</th>\n",
       "      <td>205.509932</td>\n",
       "      <td>800.005900</td>\n",
       "      <td>594.495968</td>\n",
       "    </tr>\n",
       "  </tbody>\n",
       "</table>\n",
       "<p>4685 rows × 3 columns</p>\n",
       "</div>"
      ],
      "text/plain": [
       "            Change    FutureValue   CurrentValue\n",
       "0      3930.517137   13191.561210    9261.044073\n",
       "1      4115.300782   13586.523349    9471.222567\n",
       "2      4584.049577   15067.761162   10483.711584\n",
       "3      4288.751114   14884.432489   10595.681374\n",
       "4      2126.064788   14629.222368   12503.157580\n",
       "5     35554.807779  122923.478248   87368.670469\n",
       "6     32354.627612  131956.680476   99602.052864\n",
       "7     34434.162293  143777.475655  109343.313362\n",
       "8     52206.804350  150311.307496   98104.503146\n",
       "9     51967.746901  159585.488832  107617.741932\n",
       "10    46480.147874  169403.626122  122923.478248\n",
       "11    48057.161616  180013.842091  131956.680476\n",
       "12    47214.135455  190991.611110  143777.475655\n",
       "13    53483.116526  203794.424022  150311.307496\n",
       "14    61242.679972  220828.168804  159585.488832\n",
       "15    60365.481082  229769.107204  169403.626122\n",
       "16    59465.677312  239479.519404  180013.842091\n",
       "17    55291.375985  246282.987095  190991.611110\n",
       "18    46355.307753  250149.731775  203794.424022\n",
       "19    32370.848172  253199.016976  220828.168804\n",
       "20    29182.711299  258951.818503  229769.107204\n",
       "21      957.812535    7205.199987    6247.387453\n",
       "22     2203.295947    7590.902737    5387.606790\n",
       "23     1085.326774    7764.266743    6678.939969\n",
       "24     1490.474655    8236.617520    6746.142866\n",
       "25     1539.580797    8593.752833    7054.172037\n",
       "26     1198.064544    8403.264531    7205.199987\n",
       "27      801.485458    8392.388195    7590.902737\n",
       "28      890.942725    8655.209468    7764.266743\n",
       "29      605.532426    8842.149946    8236.617520\n",
       "...            ...            ...            ...\n",
       "4655   1667.523771    6985.184559    5317.660787\n",
       "4656   1625.931963    7207.283356    5581.351393\n",
       "4657   1583.916279    7461.885834    5877.969555\n",
       "4658   1569.503086    7722.842236    6153.339150\n",
       "4659   1413.712337    7938.743147    6525.030810\n",
       "4660     63.478420    1182.388771    1118.910351\n",
       "4661    114.900434    1215.535719    1100.635284\n",
       "4662      6.206684    1080.187522    1073.980838\n",
       "4663    -47.744973    1068.583208    1116.328181\n",
       "4664      7.177667    1144.863497    1137.685830\n",
       "4665    -55.966807    1126.421964    1182.388771\n",
       "4666      7.231932    1222.767650    1215.535719\n",
       "4667    156.389451    1236.576973    1080.187522\n",
       "4668    186.306500    1254.889708    1068.583208\n",
       "4669     84.949767    1229.813264    1144.863497\n",
       "4670     53.755302    1180.177266    1126.421964\n",
       "4671    -35.479294    1187.288357    1222.767650\n",
       "4672   -162.339088    1074.237885    1236.576973\n",
       "4673   -368.994195     885.895513    1254.889708\n",
       "4674   -401.440481     828.372784    1229.813264\n",
       "4675   -406.126893     774.050373    1180.177266\n",
       "4676   -448.201240     739.087117    1187.288357\n",
       "4677   -371.247684     702.990202    1074.237885\n",
       "4678   -315.593481     570.302032     885.895513\n",
       "4679   -233.876815     594.495968     828.372784\n",
       "4680   -123.908176     650.142197     774.050373\n",
       "4681    -25.919344     713.167773     739.087117\n",
       "4682     68.749031     771.739233     702.990202\n",
       "4683    218.040529     788.342561     570.302032\n",
       "4684    205.509932     800.005900     594.495968\n",
       "\n",
       "[4685 rows x 3 columns]"
      ]
     },
     "execution_count": 140,
     "metadata": {},
     "output_type": "execute_result"
    }
   ],
   "source": [
    "y"
   ]
  },
  {
   "cell_type": "code",
   "execution_count": null,
   "metadata": {
    "collapsed": true
   },
   "outputs": [],
   "source": []
  }
 ],
 "metadata": {
  "kernelspec": {
   "display_name": "Python 3",
   "language": "python",
   "name": "python3"
  },
  "language_info": {
   "codemirror_mode": {
    "name": "ipython",
    "version": 3
   },
   "file_extension": ".py",
   "mimetype": "text/x-python",
   "name": "python",
   "nbconvert_exporter": "python",
   "pygments_lexer": "ipython3",
   "version": "3.5.1"
  }
 },
 "nbformat": 4,
 "nbformat_minor": 0
}
