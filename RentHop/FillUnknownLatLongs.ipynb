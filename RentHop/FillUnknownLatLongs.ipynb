{
 "cells": [
  {
   "cell_type": "code",
   "execution_count": 2,
   "metadata": {
    "collapsed": true
   },
   "outputs": [],
   "source": [
    "%matplotlib inline\n",
    "import numpy as np\n",
    "import json\n",
    "import pandas as pd\n",
    "import geopandas\n",
    "import geocoder\n",
    "from geopandas.tools import sjoin\n",
    "from geopy.geocoders import Nominatim\n",
    "from shapely.geometry import Point\n",
    "from geopy.exc import GeocoderTimedOut\n",
    "\n",
    "geolocator = Nominatim()"
   ]
  },
  {
   "cell_type": "code",
   "execution_count": 3,
   "metadata": {
    "collapsed": false
   },
   "outputs": [
    {
     "name": "stdout",
     "output_type": "stream",
     "text": [
      "(29.9748076, -82.1363356)\n",
      "(40.59678, -73.9750389)\n",
      "(32.7790805284282, -91.799182096111)\n",
      "(35.1380985, -90.007073)\n",
      "(40.454348, -79.981681)\n",
      "(39.7311422, -105.021738)\n",
      "(40.7743715306122, -73.9497069591837)\n",
      "(39.2413453, -9.3087605)\n",
      "(46.3815165, -124.0553937)\n",
      "(41.6866131111111, -71.156345)\n",
      "(44.922287, -69.9509319)\n",
      "(39.75560005, -104.994796349865)\n",
      "(42.7569651, -71.4804334)\n",
      "(40.6970126122449, -73.3902216734694)\n",
      "(29.5496019, -98.5332983)\n",
      "(37.265754, 44.0398983)\n",
      "(45.5254831342282, -122.616047)\n",
      "(60.6864639, 13.7099309)\n",
      "(40.5774143410926, -74.6382967155051)\n",
      "(32.0441805306122, -81.107538)\n",
      "(32.0498347272727, -81.1096415454546)\n",
      "(40.7334326530612, -74.0071844693878)\n",
      "(34.0932966, -118.302499)\n",
      "(50.8235034, -0.1310935)\n",
      "(25.2727794, 55.3260646)\n",
      "(41.69602825, -87.6241898642143)\n",
      "(46.3815165, -124.0553937)\n",
      "(59.4622391428571, -135.309446653061)\n",
      "(47.0277720424441, -91.6733254291717)\n",
      "(39.5303075306122, -119.812594438776)\n",
      "(43.184007, 21.7971241)\n",
      "(40.8012571, -73.96065011003)\n",
      "(50.8235034, -0.1310935)\n",
      "(40.7630702, -73.976902)\n",
      "(40.7916333673469, -73.6450692040816)\n",
      "(23.0139464, -82.3962619)\n",
      "(40.7899778, -73.9747266)\n",
      "(40.4433003333333, -74.167602)\n",
      "(29.5496019, -98.5332983)\n"
     ]
    }
   ],
   "source": [
    "for file in ['train', 'test']:\n",
    "    train_info = pd.read_json('data/backup/{}.json'.format(file))\n",
    "    train = pd.read_json('data/{}.json'.format(file))\n",
    "\n",
    "    lats = []\n",
    "    longs = []\n",
    "    for lat, long, address in train_info[['latitude', 'longitude', 'street_address']].values:\n",
    "        if lat == 0. or long == 0.:\n",
    "            while True:\n",
    "                try:\n",
    "                    location = geolocator.geocode(address)\n",
    "                except Exception:\n",
    "                    #print ('timeout, retry')\n",
    "                    continue\n",
    "                break\n",
    "            lats.append(location.latitude)\n",
    "            longs.append(location.longitude)\n",
    "            print ((location.latitude, location.longitude))\n",
    "        else:\n",
    "            lats.append(lat)\n",
    "            longs.append(long)\n",
    "\n",
    "    train['latitude'] = lats\n",
    "    train['longitude'] = longs\n",
    "\n",
    "    train.to_json('data/{}.json'.format(file), orient='records')"
   ]
  },
  {
   "cell_type": "code",
   "execution_count": null,
   "metadata": {
    "collapsed": true
   },
   "outputs": [],
   "source": []
  }
 ],
 "metadata": {
  "kernelspec": {
   "display_name": "Python 3",
   "language": "python",
   "name": "python3"
  },
  "language_info": {
   "codemirror_mode": {
    "name": "ipython",
    "version": 3
   },
   "file_extension": ".py",
   "mimetype": "text/x-python",
   "name": "python",
   "nbconvert_exporter": "python",
   "pygments_lexer": "ipython3",
   "version": "3.5.3"
  }
 },
 "nbformat": 4,
 "nbformat_minor": 0
}
