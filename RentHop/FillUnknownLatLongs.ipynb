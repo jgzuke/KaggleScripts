{
 "cells": [
  {
   "cell_type": "code",
   "execution_count": 1,
   "metadata": {
    "collapsed": true
   },
   "outputs": [],
   "source": [
    "%matplotlib inline\n",
    "import numpy as np\n",
    "import json\n",
    "import pandas as pd\n",
    "import geopandas\n",
    "import geocoder\n",
    "from geopandas.tools import sjoin\n",
    "from geopy.geocoders import Nominatim\n",
    "from shapely.geometry import Point\n",
    "from geopy.exc import GeocoderTimedOut\n",
    "\n",
    "geolocator = Nominatim()"
   ]
  },
  {
   "cell_type": "code",
   "execution_count": 2,
   "metadata": {
    "collapsed": false
   },
   "outputs": [
    {
     "name": "stdout",
     "output_type": "stream",
     "text": [
      "(52.2448987, -113.818045)\n",
      "(40.59678, -73.9750389)\n",
      "(32.7790805284282, -91.799182096111)\n",
      "(35.1380985, -90.007073)\n",
      "(40.05635216, -80.72417398)\n",
      "(39.7348051, -105.0217201)\n",
      "(40.7743715306122, -73.9497069591837)\n",
      "(39.2413453, -9.3087605)\n",
      "(46.3815165, -124.0553937)\n",
      "(40.72326395, -73.9945680100206)\n",
      "(44.922287, -69.9509319)\n",
      "(39.74381625, -105.019269917466)\n",
      "(42.7569651, -71.4804334)\n",
      "(40.6970126122449, -73.3902216734694)\n",
      "(29.5484875, -98.5325432)\n",
      "(37.265754, 44.0398983)\n",
      "(45.5254831342282, -122.616047)\n",
      "(60.6864639, 13.7099309)\n",
      "(40.5774143410926, -74.6382967155051)\n",
      "(40.7635485, -73.9799185007561)\n",
      "(40.76364175, -73.991704864715)\n",
      "(40.8756999354652, -82.3186952458316)\n",
      "(34.0932966, -118.302499)\n",
      "(50.8235034, -0.1310935)\n",
      "(25.2727794, 55.3260646)\n",
      "(41.69602825, -87.6241898642143)\n",
      "(47.6074578979592, -122.195181836735)\n",
      "(32.4560350283869, -85.012819)\n",
      "(47.0277720424441, -91.6733254291717)\n",
      "(39.5303075306122, -119.812594438776)\n",
      "(45.8300818, 14.9334679)\n",
      "(40.8012571, -73.96065011003)\n",
      "(50.8235034, -0.1310935)\n",
      "(40.7630702, -73.976902)\n",
      "(40.7293221, -73.98874820438)\n",
      "(23.0139464, -82.3962619)\n",
      "(40.7899778, -73.9747266)\n",
      "(40.5775737, -73.9472755)\n",
      "(29.5484875, -98.5325432)\n"
     ]
    }
   ],
   "source": [
    "for file in ['train', 'test']:\n",
    "    train_info = pd.read_json('data/backup/{}.json'.format(file))\n",
    "    train = pd.read_json('data/{}.json'.format(file))\n",
    "\n",
    "    lats = []\n",
    "    longs = []\n",
    "    for lat, long, address in train_info[['latitude', 'longitude', 'street_address']].values:\n",
    "        if lat == 0. or long == 0.:\n",
    "            while True:\n",
    "                try:\n",
    "                    location = geolocator.geocode(address)\n",
    "                except Exception:\n",
    "                    #print ('timeout, retry')\n",
    "                    continue\n",
    "                break\n",
    "            lats.append(location.latitude)\n",
    "            longs.append(location.longitude)\n",
    "            print ((location.latitude, location.longitude))\n",
    "        else:\n",
    "            lats.append(lat)\n",
    "            longs.append(long)\n",
    "\n",
    "    train['latitude'] = lats\n",
    "    train['longitude'] = longs\n",
    "\n",
    "    train.to_json('data/{}.json'.format(file), orient='records')"
   ]
  },
  {
   "cell_type": "code",
   "execution_count": null,
   "metadata": {
    "collapsed": true
   },
   "outputs": [],
   "source": []
  }
 ],
 "metadata": {
  "kernelspec": {
   "display_name": "Python 3",
   "language": "python",
   "name": "python3"
  },
  "language_info": {
   "codemirror_mode": {
    "name": "ipython",
    "version": 3
   },
   "file_extension": ".py",
   "mimetype": "text/x-python",
   "name": "python",
   "nbconvert_exporter": "python",
   "pygments_lexer": "ipython3",
   "version": "3.5.3"
  }
 },
 "nbformat": 4,
 "nbformat_minor": 0
}
