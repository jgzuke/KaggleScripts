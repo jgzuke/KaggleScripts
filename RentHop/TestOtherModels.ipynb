{
 "cells": [
  {
   "cell_type": "code",
   "execution_count": 1,
   "metadata": {
    "collapsed": false
   },
   "outputs": [
    {
     "name": "stderr",
     "output_type": "stream",
     "text": [
      "/Users/jgzuke/anaconda3/lib/python3.5/site-packages/sklearn/cross_validation.py:44: DeprecationWarning: This module was deprecated in version 0.18 in favor of the model_selection module into which all the refactored classes and functions are moved. Also note that the interface of the new CV iterators are different from that of this module. This module will be removed in 0.20.\n",
      "  \"This module will be removed in 0.20.\", DeprecationWarning)\n",
      "Using Theano backend.\n"
     ]
    }
   ],
   "source": [
    "%matplotlib inline\n",
    "import math\n",
    "import numpy as np\n",
    "import pandas as pd\n",
    "import random\n",
    "import xgboost as xgb\n",
    "from sklearn import preprocessing, model_selection\n",
    "from sklearn.metrics import log_loss\n",
    "import string\n",
    "from sklearn.metrics import log_loss\n",
    "from sklearn.feature_extraction.text import  CountVectorizer\n",
    "from scipy.stats import boxcox\n",
    "from scipy import stats\n",
    "from scipy import sparse\n",
    "from sklearn.preprocessing import StandardScaler\n",
    "from sklearn.linear_model import Lasso\n",
    "from sklearn.linear_model import ElasticNet\n",
    "from sklearn.linear_model import RidgeClassifier\n",
    "from sklearn.linear_model import Ridge\n",
    "from sklearn.ensemble import AdaBoostClassifier\n",
    "from sklearn.ensemble import ExtraTreesClassifier\n",
    "from sklearn.ensemble import RandomForestClassifier\n",
    "from keras.models import Sequential\n",
    "from keras.layers import Dense, Dropout, Activation\n",
    "from keras.layers.normalization import BatchNormalization\n",
    "from keras.layers.advanced_activations import PReLU\n",
    "from keras.callbacks import EarlyStopping, ModelCheckpoint\n",
    "from sklearn.feature_extraction.text import TfidfTransformer\n",
    "from keras.regularizers import l2, activity_l2\n",
    "from sklearn.neighbors import KNeighborsClassifier\n",
    "from keras.callbacks import Callback\n",
    "import xgboost as xgb\n",
    "\n",
    "class NBatchLogger(Callback):\n",
    "    def __init__(self):\n",
    "        self.seen = 0\n",
    "\n",
    "    def on_epoch_end(self, batch, logs={}):\n",
    "        self.seen += 1\n",
    "        if self.seen % 500 == 0:\n",
    "            print('epoch {}: loss = {}, val = {}'.format(self.seen, logs['loss'], logs['val_loss'])) \n",
    "            \n",
    "class FakeDMatrix:\n",
    "    def __init__(self, data, labels=None):\n",
    "        self.data = data\n",
    "        self.labels = labels\n",
    "        self.num = len(data)\n",
    "\n",
    "    def num_row(self):\n",
    "        return self.num\n",
    "\n",
    "    def slice(self, rindex):\n",
    "        indices = np.zeros(self.num, dtype=np.bool)\n",
    "        for index in rindex:\n",
    "            indices[index] = True\n",
    "        return FakeDMatrix(data=self.data[indices], labels=self.labels[indices])"
   ]
  },
  {
   "cell_type": "code",
   "execution_count": 2,
   "metadata": {
    "collapsed": true
   },
   "outputs": [],
   "source": [
    "train_X = pd.read_json('data/train_with_leaky_cv.json')\n",
    "train_y = pd.read_json('data/train_interest.json')[0]\n",
    "columns = train_X.columns\n",
    "train_X_scaled = pd.DataFrame(StandardScaler().fit_transform(train_X), columns=columns)\n",
    "#train_X_with_layer_1 = pd.read_json('data/train_scaled_with_leaky_and_added_features_cv.json')"
   ]
  },
  {
   "cell_type": "markdown",
   "metadata": {},
   "source": [
    "# Add a bunch of features to train_X"
   ]
  },
  {
   "cell_type": "code",
   "execution_count": 3,
   "metadata": {
    "collapsed": true
   },
   "outputs": [],
   "source": [
    "from sklearn.cluster import KMeans\n",
    "from sklearn.neighbors import KNeighborsClassifier\n",
    "from sklearn.manifold import TSNE\n",
    "from sklearn.decomposition import PCA\n",
    "from sklearn.neighbors import DistanceMetric"
   ]
  },
  {
   "cell_type": "code",
   "execution_count": 4,
   "metadata": {
    "collapsed": false
   },
   "outputs": [
    {
     "name": "stdout",
     "output_type": "stream",
     "text": [
      "[0]\ttrain-mlogloss:1.09155+1.6606e-05\ttest-mlogloss:1.09173+3.3003e-05\n",
      "[200]\ttrain-mlogloss:0.597445+0.00105445\ttest-mlogloss:0.628598+0.0028406\n",
      "[400]\ttrain-mlogloss:0.515812+0.000920072\ttest-mlogloss:0.570574+0.00291433\n",
      "[600]\ttrain-mlogloss:0.477461+0.000734069\ttest-mlogloss:0.553675+0.00268469\n",
      "[800]\ttrain-mlogloss:0.449402+0.00081771\ttest-mlogloss:0.545549+0.00230202\n",
      "[1000]\ttrain-mlogloss:0.426205+0.000555713\ttest-mlogloss:0.540721+0.00216\n",
      "[1200]\ttrain-mlogloss:0.406055+0.000566897\ttest-mlogloss:0.537628+0.00190077\n",
      "[1400]\ttrain-mlogloss:0.387419+0.000528787\ttest-mlogloss:0.535448+0.00163231\n",
      "[1600]\ttrain-mlogloss:0.370134+0.000625877\ttest-mlogloss:0.533992+0.00149583\n",
      "[1800]\ttrain-mlogloss:0.353876+0.000622638\ttest-mlogloss:0.533029+0.00138961\n",
      "[2000]\ttrain-mlogloss:0.338651+0.000582744\ttest-mlogloss:0.532491+0.00127657\n",
      "[2200]\ttrain-mlogloss:0.32426+0.000509889\ttest-mlogloss:0.532121+0.0013312\n",
      "0.5319384\n",
      "2323\n",
      "train score:  0.342155768556\n",
      "test score:  0.540635572492\n",
      "CPU times: user 3h 50min 8s, sys: 8min 34s, total: 3h 58min 42s\n",
      "Wall time: 1h 13min 2s\n"
     ]
    }
   ],
   "source": [
    "%%time\n",
    "ntrain = int(len(train_X) * 0.75)\n",
    "\n",
    "scaler = StandardScaler()\n",
    "\n",
    "xtr = train_X[:ntrain]\n",
    "xtr = pd.DataFrame(scaler.fit_transform(xtr), columns=xtr.columns)\n",
    "ytr = train_y[:ntrain].values\n",
    "ytr_one_hot = np.eye(3)[ytr]\n",
    "xte = train_X[ntrain:]\n",
    "xte = pd.DataFrame(scaler.transform(xte), columns=xte.columns)\n",
    "yte = train_y[ntrain:].values\n",
    "yte_one_hot = np.eye(3)[yte]\n",
    "\n",
    "\n",
    "NFOLDS = 5\n",
    "y_map = {'low': 2, 'medium': 1, 'high': 0}\n",
    "\n",
    "params = {\n",
    "    'eta':.01,\n",
    "    'colsample_bytree':.6,\n",
    "    'subsample':.6,\n",
    "    'nthread':16,\n",
    "    'objective':'multi:softprob',\n",
    "    'eval_metric':'mlogloss',\n",
    "    'num_class':3,\n",
    "    'silent':1\n",
    "}\n",
    "\n",
    "dtrain = xgb.DMatrix(data=xtr, label=ytr)\n",
    "\n",
    "bst = xgb.cv(params, dtrain, 10000, NFOLDS, early_stopping_rounds=50, verbose_eval=200)\n",
    "best_rounds = np.argmin(bst['test-mlogloss-mean'])\n",
    "print (bst['test-mlogloss-mean'][best_rounds])\n",
    "print (best_rounds)\n",
    "\n",
    "dtest = xgb.DMatrix(data=xte)\n",
    "bst = xgb.train(params, dtrain, best_rounds)\n",
    "xgb_preds = bst.predict(dtrain)\n",
    "print('train score: ', log_loss(ytr_one_hot, xgb_preds))\n",
    "xgb_preds = bst.predict(dtest)\n",
    "print('test score: ', log_loss(yte_one_hot, xgb_preds))\n",
    "# 0.539725"
   ]
  },
  {
   "cell_type": "code",
   "execution_count": 5,
   "metadata": {
    "collapsed": false
   },
   "outputs": [
    {
     "name": "stdout",
     "output_type": "stream",
     "text": [
      "[0]\ttrain-mlogloss:1.09158+1.2254e-05\ttest-mlogloss:1.09177+4.96411e-05\n",
      "[200]\ttrain-mlogloss:0.599951+0.00108291\ttest-mlogloss:0.631008+0.00339957\n",
      "[400]\ttrain-mlogloss:0.520519+0.0011692\ttest-mlogloss:0.575297+0.00369548\n",
      "[600]\ttrain-mlogloss:0.482412+0.00104068\ttest-mlogloss:0.559669+0.00376001\n",
      "[800]\ttrain-mlogloss:0.454044+0.000929429\ttest-mlogloss:0.552468+0.00344735\n",
      "[1000]\ttrain-mlogloss:0.430503+0.000806462\ttest-mlogloss:0.548359+0.00325123\n",
      "[1200]\ttrain-mlogloss:0.409636+0.000810443\ttest-mlogloss:0.545701+0.00313313\n",
      "[1400]\ttrain-mlogloss:0.390699+0.000842407\ttest-mlogloss:0.543955+0.00289192\n",
      "[1600]\ttrain-mlogloss:0.373082+0.000804968\ttest-mlogloss:0.542765+0.00285564\n",
      "[1800]\ttrain-mlogloss:0.356764+0.000801748\ttest-mlogloss:0.54211+0.00291224\n",
      "[2000]\ttrain-mlogloss:0.341275+0.000658387\ttest-mlogloss:0.541757+0.00292154\n",
      "0.5417468\n",
      "1983\n",
      "train score:  0.367440078365\n",
      "test score:  0.552152235208\n",
      "CPU times: user 1h 2min 54s, sys: 7min 22s, total: 1h 10min 16s\n",
      "Wall time: 25min 37s\n"
     ]
    }
   ],
   "source": [
    "%%time\n",
    "cols = [col for col in list(train_X.columns) if not col.startswith('sparse_')]\n",
    "ntrain = int(len(train_X) * 0.75)\n",
    "\n",
    "scaler = StandardScaler()\n",
    "\n",
    "xtr = train_X[cols][:ntrain]\n",
    "xtr = pd.DataFrame(scaler.fit_transform(xtr), columns=xtr.columns)\n",
    "ytr = train_y[:ntrain].values\n",
    "ytr_one_hot = np.eye(3)[ytr]\n",
    "xte = train_X[cols][ntrain:]\n",
    "xte = pd.DataFrame(scaler.transform(xte), columns=xte.columns)\n",
    "yte = train_y[ntrain:].values\n",
    "yte_one_hot = np.eye(3)[yte]\n",
    "\n",
    "\n",
    "NFOLDS = 5\n",
    "y_map = {'low': 2, 'medium': 1, 'high': 0}\n",
    "\n",
    "params = {\n",
    "    'eta':.01,\n",
    "    'colsample_bytree':.6,\n",
    "    'subsample':.6,\n",
    "    'nthread':16,\n",
    "    'objective':'multi:softprob',\n",
    "    'eval_metric':'mlogloss',\n",
    "    'num_class':3,\n",
    "    'silent':1\n",
    "}\n",
    "\n",
    "dtrain = xgb.DMatrix(data=xtr, label=ytr)\n",
    "\n",
    "bst = xgb.cv(params, dtrain, 10000, NFOLDS, early_stopping_rounds=50, verbose_eval=200)\n",
    "best_rounds = np.argmin(bst['test-mlogloss-mean'])\n",
    "print (bst['test-mlogloss-mean'][best_rounds])\n",
    "print (best_rounds)\n",
    "\n",
    "dtest = xgb.DMatrix(data=xte)\n",
    "bst = xgb.train(params, dtrain, best_rounds)\n",
    "xgb_preds = bst.predict(dtrain)\n",
    "print('train score: ', log_loss(ytr_one_hot, xgb_preds))\n",
    "xgb_preds = bst.predict(dtest)\n",
    "print('test score: ', log_loss(yte_one_hot, xgb_preds))\n",
    "# 0.539725"
   ]
  },
  {
   "cell_type": "code",
   "execution_count": 6,
   "metadata": {
    "collapsed": false
   },
   "outputs": [
    {
     "name": "stdout",
     "output_type": "stream",
     "text": [
      "[0]\ttrain-mlogloss:1.09348+1.86719e-05\ttest-mlogloss:1.09352+3.70373e-05\n",
      "[200]\ttrain-mlogloss:0.752481+0.00102072\ttest-mlogloss:0.760523+0.00329792\n",
      "[400]\ttrain-mlogloss:0.71743+0.00122986\ttest-mlogloss:0.731634+0.00417286\n",
      "[600]\ttrain-mlogloss:0.708357+0.00132663\ttest-mlogloss:0.726678+0.00448487\n",
      "[800]\ttrain-mlogloss:0.703372+0.0013688\ttest-mlogloss:0.72493+0.00462091\n",
      "[1000]\ttrain-mlogloss:0.69958+0.00135632\ttest-mlogloss:0.723996+0.00474291\n",
      "[1200]\ttrain-mlogloss:0.696258+0.00140188\ttest-mlogloss:0.723446+0.00477534\n",
      "[1400]\ttrain-mlogloss:0.6933+0.00141791\ttest-mlogloss:0.723054+0.004903\n",
      "[1600]\ttrain-mlogloss:0.690543+0.00142955\ttest-mlogloss:0.722823+0.00495664\n",
      "[1800]\ttrain-mlogloss:0.687899+0.00138574\ttest-mlogloss:0.722638+0.00505372\n",
      "0.7226296\n",
      "1867\n",
      "train score:  0.691460796208\n",
      "test score:  0.718937106058\n",
      "CPU times: user 2h 14min 3s, sys: 5min 28s, total: 2h 19min 32s\n",
      "Wall time: 43min 56s\n"
     ]
    }
   ],
   "source": [
    "%%time\n",
    "cols = [col for col in list(train_X.columns) if col.startswith('sparse_')]\n",
    "ntrain = int(len(train_X) * 0.75)\n",
    "\n",
    "scaler = StandardScaler()\n",
    "\n",
    "xtr = train_X[cols][:ntrain]\n",
    "xtr = pd.DataFrame(scaler.fit_transform(xtr), columns=xtr.columns)\n",
    "ytr = train_y[:ntrain].values\n",
    "ytr_one_hot = np.eye(3)[ytr]\n",
    "xte = train_X[cols][ntrain:]\n",
    "xte = pd.DataFrame(scaler.transform(xte), columns=xte.columns)\n",
    "yte = train_y[ntrain:].values\n",
    "yte_one_hot = np.eye(3)[yte]\n",
    "\n",
    "\n",
    "NFOLDS = 5\n",
    "y_map = {'low': 2, 'medium': 1, 'high': 0}\n",
    "\n",
    "params = {\n",
    "    'eta':.01,\n",
    "    'colsample_bytree':.6,\n",
    "    'subsample':.6,\n",
    "    'nthread':16,\n",
    "    'objective':'multi:softprob',\n",
    "    'eval_metric':'mlogloss',\n",
    "    'num_class':3,\n",
    "    'silent':1\n",
    "}\n",
    "\n",
    "dtrain = xgb.DMatrix(data=xtr, label=ytr)\n",
    "\n",
    "bst = xgb.cv(params, dtrain, 10000, NFOLDS, early_stopping_rounds=50, verbose_eval=200)\n",
    "best_rounds = np.argmin(bst['test-mlogloss-mean'])\n",
    "print (bst['test-mlogloss-mean'][best_rounds])\n",
    "print (best_rounds)\n",
    "\n",
    "dtest = xgb.DMatrix(data=xte)\n",
    "bst = xgb.train(params, dtrain, best_rounds)\n",
    "xgb_preds = bst.predict(dtrain)\n",
    "print('train score: ', log_loss(ytr_one_hot, xgb_preds))\n",
    "xgb_preds = bst.predict(dtest)\n",
    "print('test score: ', log_loss(yte_one_hot, xgb_preds))\n",
    "# 0.539725"
   ]
  },
  {
   "cell_type": "code",
   "execution_count": 7,
   "metadata": {
    "collapsed": false
   },
   "outputs": [
    {
     "name": "stdout",
     "output_type": "stream",
     "text": [
      "[0]\ttrain-mlogloss:1.09157+1.54065e-05\ttest-mlogloss:1.09175+4.85757e-05\n",
      "[200]\ttrain-mlogloss:0.603761+0.000821017\ttest-mlogloss:0.634796+0.00317821\n",
      "[400]\ttrain-mlogloss:0.522318+0.000672977\ttest-mlogloss:0.576766+0.0032528\n",
      "[600]\ttrain-mlogloss:0.482824+0.000676804\ttest-mlogloss:0.558888+0.00294804\n",
      "[800]\ttrain-mlogloss:0.454006+0.000947886\ttest-mlogloss:0.55008+0.00270453\n",
      "[1000]\ttrain-mlogloss:0.43037+0.000936597\ttest-mlogloss:0.544939+0.0027399\n",
      "[1200]\ttrain-mlogloss:0.409605+0.00101806\ttest-mlogloss:0.541477+0.00259963\n",
      "[1400]\ttrain-mlogloss:0.390706+0.000865508\ttest-mlogloss:0.539105+0.00255886\n",
      "[1600]\ttrain-mlogloss:0.373329+0.00101805\ttest-mlogloss:0.537478+0.00242666\n",
      "[1800]\ttrain-mlogloss:0.357109+0.000873868\ttest-mlogloss:0.536388+0.00228088\n",
      "[2000]\ttrain-mlogloss:0.341927+0.000778022\ttest-mlogloss:0.535801+0.00220229\n",
      "[2200]\ttrain-mlogloss:0.32751+0.000739542\ttest-mlogloss:0.535228+0.00218038\n",
      "0.5350862\n",
      "2344\n",
      "train score:  0.344390289525\n",
      "test score:  0.545005589891\n",
      "CPU times: user 3h 45min 56s, sys: 8min 19s, total: 3h 54min 16s\n",
      "Wall time: 1h 10min 52s\n"
     ]
    }
   ],
   "source": [
    "%%time\n",
    "cols = [col for col in list(train_X.columns) if (not col.startswith('worth_')) and (not col.startswith('price_'))]\n",
    "ntrain = int(len(train_X) * 0.75)\n",
    "\n",
    "scaler = StandardScaler()\n",
    "\n",
    "xtr = train_X[cols][:ntrain]\n",
    "xtr = pd.DataFrame(scaler.fit_transform(xtr), columns=xtr.columns)\n",
    "ytr = train_y[:ntrain].values\n",
    "ytr_one_hot = np.eye(3)[ytr]\n",
    "xte = train_X[cols][ntrain:]\n",
    "xte = pd.DataFrame(scaler.transform(xte), columns=xte.columns)\n",
    "yte = train_y[ntrain:].values\n",
    "yte_one_hot = np.eye(3)[yte]\n",
    "\n",
    "\n",
    "NFOLDS = 5\n",
    "y_map = {'low': 2, 'medium': 1, 'high': 0}\n",
    "\n",
    "params = {\n",
    "    'eta':.01,\n",
    "    'colsample_bytree':.6,\n",
    "    'subsample':.6,\n",
    "    'nthread':16,\n",
    "    'objective':'multi:softprob',\n",
    "    'eval_metric':'mlogloss',\n",
    "    'num_class':3,\n",
    "    'silent':1\n",
    "}\n",
    "\n",
    "dtrain = xgb.DMatrix(data=xtr, label=ytr)\n",
    "\n",
    "bst = xgb.cv(params, dtrain, 10000, NFOLDS, early_stopping_rounds=50, verbose_eval=200)\n",
    "best_rounds = np.argmin(bst['test-mlogloss-mean'])\n",
    "print (bst['test-mlogloss-mean'][best_rounds])\n",
    "print (best_rounds)\n",
    "\n",
    "dtest = xgb.DMatrix(data=xte)\n",
    "bst = xgb.train(params, dtrain, best_rounds)\n",
    "xgb_preds = bst.predict(dtrain)\n",
    "print('train score: ', log_loss(ytr_one_hot, xgb_preds))\n",
    "xgb_preds = bst.predict(dtest)\n",
    "print('test score: ', log_loss(yte_one_hot, xgb_preds))\n",
    "# 0.539725"
   ]
  },
  {
   "cell_type": "code",
   "execution_count": 8,
   "metadata": {
    "collapsed": false
   },
   "outputs": [
    {
     "name": "stdout",
     "output_type": "stream",
     "text": [
      "[0]\ttrain-mlogloss:1.09159+1.21425e-05\ttest-mlogloss:1.0918+2.84422e-05\n",
      "[200]\ttrain-mlogloss:0.59996+0.000772096\ttest-mlogloss:0.629595+0.00311747\n",
      "[400]\ttrain-mlogloss:0.519363+0.00077411\ttest-mlogloss:0.571818+0.00340136\n",
      "[600]\ttrain-mlogloss:0.481832+0.00100782\ttest-mlogloss:0.555029+0.00317221\n",
      "[800]\ttrain-mlogloss:0.454291+0.000841793\ttest-mlogloss:0.546885+0.00280976\n",
      "[1000]\ttrain-mlogloss:0.431295+0.000805227\ttest-mlogloss:0.542039+0.00258348\n",
      "[1200]\ttrain-mlogloss:0.411292+0.000437525\ttest-mlogloss:0.538816+0.00239402\n",
      "[1400]\ttrain-mlogloss:0.392856+0.000451856\ttest-mlogloss:0.536676+0.00228001\n",
      "[1600]\ttrain-mlogloss:0.375654+0.000453554\ttest-mlogloss:0.535165+0.00203467\n",
      "[1800]\ttrain-mlogloss:0.359837+0.000431358\ttest-mlogloss:0.534134+0.00194974\n",
      "[2000]\ttrain-mlogloss:0.344842+0.000421464\ttest-mlogloss:0.533491+0.00187691\n",
      "[2200]\ttrain-mlogloss:0.330511+0.000491137\ttest-mlogloss:0.533126+0.00189975\n",
      "0.5330068\n",
      "2347\n",
      "train score:  0.346652655087\n",
      "test score:  0.540746229861\n",
      "CPU times: user 3h 42min 25s, sys: 8min 11s, total: 3h 50min 36s\n",
      "Wall time: 1h 11min 15s\n"
     ]
    }
   ],
   "source": [
    "%%time\n",
    "leaky = ['manager_worths',\n",
    " 'building_worths',\n",
    " 'address_worths',\n",
    " 'boro_worths',\n",
    " 'nta_worths',\n",
    " 'manager_low_frac',\n",
    " 'building_low_frac',\n",
    " 'address_low_frac',\n",
    " 'boro_low_frac',\n",
    " 'nta_low_frac',\n",
    " 'manager_med_frac',\n",
    " 'building_med_frac',\n",
    " 'address_med_frac',\n",
    " 'boro_med_frac',\n",
    " 'nta_med_frac',\n",
    " 'manager_high_frac',\n",
    " 'building_high_frac',\n",
    " 'address_high_frac',\n",
    " 'boro_high_frac',\n",
    " 'nta_high_frac',\n",
    " 'price_by_area',\n",
    " 'real_minus_expected_price',\n",
    " 'real_over_expected_price',\n",
    " 'price_by_area',\n",
    " 'real_minus_expected_price',\n",
    " 'real_over_expected_price']\n",
    "exclude = ['manager_worths',\n",
    " 'building_worths',\n",
    " 'address_worths',\n",
    " 'boro_worths',\n",
    " 'nta_worths',\n",
    " 'price_by_area',\n",
    " 'real_minus_expected_price',\n",
    " 'real_over_expected_price',\n",
    " 'price_by_area',\n",
    " 'real_minus_expected_price',\n",
    " 'real_over_expected_price']\n",
    "cols = [col for col in list(train_X.columns) if not col in exclude]\n",
    "ntrain = int(len(train_X) * 0.75)\n",
    "\n",
    "scaler = StandardScaler()\n",
    "\n",
    "xtr = train_X[cols][:ntrain]\n",
    "xtr = pd.DataFrame(scaler.fit_transform(xtr), columns=xtr.columns)\n",
    "ytr = train_y[:ntrain].values\n",
    "ytr_one_hot = np.eye(3)[ytr]\n",
    "xte = train_X[cols][ntrain:]\n",
    "xte = pd.DataFrame(scaler.transform(xte), columns=xte.columns)\n",
    "yte = train_y[ntrain:].values\n",
    "yte_one_hot = np.eye(3)[yte]\n",
    "\n",
    "\n",
    "NFOLDS = 5\n",
    "y_map = {'low': 2, 'medium': 1, 'high': 0}\n",
    "\n",
    "params = {\n",
    "    'eta':.01,\n",
    "    'colsample_bytree':.6,\n",
    "    'subsample':.6,\n",
    "    'nthread':16,\n",
    "    'objective':'multi:softprob',\n",
    "    'eval_metric':'mlogloss',\n",
    "    'num_class':3,\n",
    "    'silent':1\n",
    "}\n",
    "\n",
    "dtrain = xgb.DMatrix(data=xtr, label=ytr)\n",
    "\n",
    "bst = xgb.cv(params, dtrain, 10000, NFOLDS, early_stopping_rounds=50, verbose_eval=200)\n",
    "best_rounds = np.argmin(bst['test-mlogloss-mean'])\n",
    "print (bst['test-mlogloss-mean'][best_rounds])\n",
    "print (best_rounds)\n",
    "\n",
    "dtest = xgb.DMatrix(data=xte)\n",
    "bst = xgb.train(params, dtrain, best_rounds)\n",
    "xgb_preds = bst.predict(dtrain)\n",
    "print('train score: ', log_loss(ytr_one_hot, xgb_preds))\n",
    "xgb_preds = bst.predict(dtest)\n",
    "print('test score: ', log_loss(yte_one_hot, xgb_preds))\n",
    "# 0.539725"
   ]
  },
  {
   "cell_type": "code",
   "execution_count": 9,
   "metadata": {
    "collapsed": false
   },
   "outputs": [
    {
     "name": "stdout",
     "output_type": "stream",
     "text": [
      "[0]\ttrain-mlogloss:1.09159+1.88425e-05\ttest-mlogloss:1.09178+3.87453e-05\n",
      "[200]\ttrain-mlogloss:0.598728+0.000835398\ttest-mlogloss:0.629345+0.00291743\n",
      "[400]\ttrain-mlogloss:0.517111+0.000724804\ttest-mlogloss:0.570925+0.00310297\n",
      "[600]\ttrain-mlogloss:0.478786+0.000630908\ttest-mlogloss:0.554056+0.00281684\n",
      "[800]\ttrain-mlogloss:0.450959+0.000847722\ttest-mlogloss:0.545784+0.00253017\n",
      "[1000]\ttrain-mlogloss:0.428243+0.000909388\ttest-mlogloss:0.540922+0.00226222\n",
      "[1200]\ttrain-mlogloss:0.408057+0.000964012\ttest-mlogloss:0.537721+0.00215893\n",
      "[1400]\ttrain-mlogloss:0.389692+0.000816921\ttest-mlogloss:0.535661+0.00209449\n",
      "[1600]\ttrain-mlogloss:0.372554+0.000741175\ttest-mlogloss:0.534111+0.00200406\n",
      "[1800]\ttrain-mlogloss:0.356591+0.000803446\ttest-mlogloss:0.533127+0.0019529\n",
      "[2000]\ttrain-mlogloss:0.341646+0.00086717\ttest-mlogloss:0.532504+0.00197845\n",
      "[2200]\ttrain-mlogloss:0.327331+0.000866273\ttest-mlogloss:0.532212+0.00200672\n",
      "0.5321342\n",
      "2253\n",
      "train score:  0.34974735073\n",
      "test score:  0.540574268734\n",
      "CPU times: user 3h 37min 34s, sys: 7min 58s, total: 3h 45min 32s\n",
      "Wall time: 1h 8min 26s\n"
     ]
    }
   ],
   "source": [
    "%%time\n",
    "leaky = ['manager_worths',\n",
    " 'building_worths',\n",
    " 'address_worths',\n",
    " 'boro_worths',\n",
    " 'nta_worths',\n",
    " 'manager_low_frac',\n",
    " 'building_low_frac',\n",
    " 'address_low_frac',\n",
    " 'boro_low_frac',\n",
    " 'nta_low_frac',\n",
    " 'manager_med_frac',\n",
    " 'building_med_frac',\n",
    " 'address_med_frac',\n",
    " 'boro_med_frac',\n",
    " 'nta_med_frac',\n",
    " 'manager_high_frac',\n",
    " 'building_high_frac',\n",
    " 'address_high_frac',\n",
    " 'boro_high_frac',\n",
    " 'nta_high_frac',\n",
    " 'price_by_area',\n",
    " 'real_minus_expected_price',\n",
    " 'real_over_expected_price',\n",
    " 'price_by_area',\n",
    " 'real_minus_expected_price',\n",
    " 'real_over_expected_price']\n",
    "exclude = ['manager_worths',\n",
    " 'building_worths',\n",
    " 'address_worths',\n",
    " 'boro_worths',\n",
    " 'nta_worths',]\n",
    "cols = [col for col in list(train_X.columns) if not col in exclude]\n",
    "ntrain = int(len(train_X) * 0.75)\n",
    "\n",
    "scaler = StandardScaler()\n",
    "\n",
    "xtr = train_X[cols][:ntrain]\n",
    "xtr = pd.DataFrame(scaler.fit_transform(xtr), columns=xtr.columns)\n",
    "ytr = train_y[:ntrain].values\n",
    "ytr_one_hot = np.eye(3)[ytr]\n",
    "xte = train_X[cols][ntrain:]\n",
    "xte = pd.DataFrame(scaler.transform(xte), columns=xte.columns)\n",
    "yte = train_y[ntrain:].values\n",
    "yte_one_hot = np.eye(3)[yte]\n",
    "\n",
    "\n",
    "NFOLDS = 5\n",
    "y_map = {'low': 2, 'medium': 1, 'high': 0}\n",
    "\n",
    "params = {\n",
    "    'eta':.01,\n",
    "    'colsample_bytree':.6,\n",
    "    'subsample':.6,\n",
    "    'nthread':16,\n",
    "    'objective':'multi:softprob',\n",
    "    'eval_metric':'mlogloss',\n",
    "    'num_class':3,\n",
    "    'silent':1\n",
    "}\n",
    "\n",
    "dtrain = xgb.DMatrix(data=xtr, label=ytr)\n",
    "\n",
    "bst = xgb.cv(params, dtrain, 10000, NFOLDS, early_stopping_rounds=50, verbose_eval=200)\n",
    "best_rounds = np.argmin(bst['test-mlogloss-mean'])\n",
    "print (bst['test-mlogloss-mean'][best_rounds])\n",
    "print (best_rounds)\n",
    "\n",
    "dtest = xgb.DMatrix(data=xte)\n",
    "bst = xgb.train(params, dtrain, best_rounds)\n",
    "xgb_preds = bst.predict(dtrain)\n",
    "print('train score: ', log_loss(ytr_one_hot, xgb_preds))\n",
    "xgb_preds = bst.predict(dtest)\n",
    "print('test score: ', log_loss(yte_one_hot, xgb_preds))\n",
    "# 0.539725"
   ]
  },
  {
   "cell_type": "code",
   "execution_count": null,
   "metadata": {
    "collapsed": true
   },
   "outputs": [],
   "source": []
  },
  {
   "cell_type": "code",
   "execution_count": null,
   "metadata": {
    "collapsed": true
   },
   "outputs": [],
   "source": []
  },
  {
   "cell_type": "code",
   "execution_count": null,
   "metadata": {
    "collapsed": true
   },
   "outputs": [],
   "source": []
  },
  {
   "cell_type": "code",
   "execution_count": null,
   "metadata": {
    "collapsed": true
   },
   "outputs": [],
   "source": []
  },
  {
   "cell_type": "code",
   "execution_count": 14,
   "metadata": {
    "collapsed": false
   },
   "outputs": [
    {
     "name": "stdout",
     "output_type": "stream",
     "text": [
      "[0]\ttrain-mlogloss:1.08535+3.11294e-05\ttest-mlogloss:1.08548+0.000107357\n",
      "[200]\ttrain-mlogloss:0.570121+0.000726153\ttest-mlogloss:0.58647+0.00284809\n",
      "[400]\ttrain-mlogloss:0.528479+0.000697556\ttest-mlogloss:0.55939+0.00265658\n",
      "[600]\ttrain-mlogloss:0.505266+0.000626915\ttest-mlogloss:0.549434+0.00231266\n",
      "[800]\ttrain-mlogloss:0.487471+0.000620436\ttest-mlogloss:0.543988+0.00223315\n",
      "[1000]\ttrain-mlogloss:0.472287+0.00066562\ttest-mlogloss:0.540697+0.00195735\n",
      "[1200]\ttrain-mlogloss:0.458689+0.000742891\ttest-mlogloss:0.538394+0.00183402\n",
      "[1400]\ttrain-mlogloss:0.446194+0.000825688\ttest-mlogloss:0.536877+0.00171501\n",
      "[1600]\ttrain-mlogloss:0.434368+0.00080441\ttest-mlogloss:0.535797+0.00159622\n",
      "[1800]\ttrain-mlogloss:0.423102+0.00079824\ttest-mlogloss:0.534951+0.00149836\n",
      "[2000]\ttrain-mlogloss:0.412505+0.000778366\ttest-mlogloss:0.534443+0.00134322\n",
      "[2200]\ttrain-mlogloss:0.402362+0.000796937\ttest-mlogloss:0.534143+0.00136074\n",
      "0.5341148\n",
      "2177\n",
      "train score:  0.422388568301\n",
      "test score:  0.539069741444\n",
      "CPU times: user 2h 32min 56s, sys: 2min 19s, total: 2h 35min 16s\n",
      "Wall time: 47min 36s\n"
     ]
    }
   ],
   "source": [
    "%%time\n",
    "ntrain = int(len(train_X) * 0.75)\n",
    "\n",
    "scaler = StandardScaler()\n",
    "\n",
    "xtr = train_X[:ntrain]\n",
    "xtr = pd.DataFrame(scaler.fit_transform(xtr), columns=xtr.columns)\n",
    "ytr = train_y[:ntrain].values\n",
    "ytr_one_hot = np.eye(3)[ytr]\n",
    "xte = train_X[ntrain:]\n",
    "xte = pd.DataFrame(scaler.transform(xte), columns=xte.columns)\n",
    "yte = train_y[ntrain:].values\n",
    "yte_one_hot = np.eye(3)[yte]\n",
    "\n",
    "\n",
    "NFOLDS = 5\n",
    "y_map = {'low': 2, 'medium': 1, 'high': 0}\n",
    "\n",
    "params = {\n",
    "}\n",
    "params['objective'] = 'multi:softprob'\n",
    "params['eta'] = 0.02\n",
    "params['max_depth'] = 4\n",
    "params['silent'] = 1\n",
    "params['num_class'] = 3\n",
    "params['eval_metric'] = \"mlogloss\"\n",
    "params['min_child_weight'] = 1\n",
    "params['subsample'] = 0.7\n",
    "params['colsample_bytree'] = 0.7\n",
    "params['seed'] = 321\n",
    "params['nthread'] = 8\n",
    "\n",
    "dtrain = xgb.DMatrix(data=xtr, label=ytr)\n",
    "\n",
    "bst = xgb.cv(params, dtrain, 10000, NFOLDS, early_stopping_rounds=50, verbose_eval=200)\n",
    "best_rounds = np.argmin(bst['test-mlogloss-mean'])\n",
    "print (bst['test-mlogloss-mean'][best_rounds])\n",
    "print (best_rounds)\n",
    "\n",
    "dtest = xgb.DMatrix(data=xte)\n",
    "bst = xgb.train(params, dtrain, best_rounds)\n",
    "xgb_preds = bst.predict(dtrain)\n",
    "print('train score: ', log_loss(ytr_one_hot, xgb_preds))\n",
    "xgb_preds = bst.predict(dtest)\n",
    "print('test score: ', log_loss(yte_one_hot, xgb_preds))\n",
    "# 0.539725"
   ]
  },
  {
   "cell_type": "code",
   "execution_count": 176,
   "metadata": {
    "collapsed": false
   },
   "outputs": [
    {
     "name": "stdout",
     "output_type": "stream",
     "text": [
      "Fold 0\n",
      "Fold 1\n",
      "Fold 2\n",
      "Fold 3\n",
      "Fold 4\n"
     ]
    }
   ],
   "source": [
    "#%%time\n",
    "#PCA\n",
    "'''\n",
    "n_components = 3\n",
    "pca_columns = ['layer1_pca_{}'.format(i) for i in range(n_components)]\n",
    "for column in pca_columns:\n",
    "    train_X_with_layer_1[column] = 0\n",
    "pca = PCA(n_components=n_components)\n",
    "pca_representation = pca.fit_transform(train_X_scaled)\n",
    "train_X_with_layer_1.loc[:, pca_cols] = pca_representation\n",
    "'''\n",
    "\n",
    "#tsne = TSNE(n_components = 2)\n",
    "#tsne_representation = tsne.fit_transform(train_X_scaled[knn_features[:15]][:5000])\n",
    "\n",
    "folds = 5\n",
    "full_length = len(train_X_scaled)\n",
    "entries = int(full_length / folds)\n",
    "full_index = train_X_scaled.index\n",
    "fold_indices = []\n",
    "fold_indices_keep = []\n",
    "fold_indices_throw = []\n",
    "for i in range(folds):\n",
    "    print ('Fold {}'.format(i))\n",
    "    indices = sorted(random.sample(list(full_index), entries))\n",
    "    fold_indices.append(indices)\n",
    "    full_index = full_index.drop(indices)\n",
    "\n",
    "    full_index_keep = np.zeros((full_length), dtype=np.bool)\n",
    "    full_index_throw = np.ones((full_length), dtype=np.bool)\n",
    "    for j in fold_indices[i]:\n",
    "        full_index_keep[j] = True\n",
    "        full_index_throw[j] = False\n",
    "    fold_indices_throw.append(full_index_throw)\n",
    "    fold_indices_keep.append(full_index_keep)\n",
    "    \n",
    "    xtr = train_X_scaled[full_index_throw]\n",
    "    ytr = train_y[full_index_throw]\n",
    "    xte = train_X_scaled[full_index_keep]\n",
    "    \n",
    "    '''\n",
    "    knn_features = ['bc_price', 'manager_worths', 'latitude', 'longitude', 'desc_words_length', 'Yday', 'building_worths', 'price_per_bedroom']\n",
    "    knn_n_closest = [2, 4, 8, 16, 32, 64, 128, 256, 512, 1024]\n",
    "    knn_columns = ['layer1_knn_{}_{}'.format(n_neighbors, category) for category in ['high', 'medium', 'low'] for n_neighbors in knn_n_closest]\n",
    "    for column in knn_columns:\n",
    "        train_X_with_layer_1[column] = 0\n",
    "    for n_neighbors in knn_n_closest:\n",
    "        #knn_dist = DistanceMetric.get_metric('mahalanobis', V=np.eye(len(knn_n_closest)))\n",
    "        knn = KNeighborsClassifier(n_neighbors=n_neighbors, metric='manhattan') # metric='manhattan'\n",
    "        knn.fit(train_X_scaled[knn_features][full_index_throw], train_y[full_index_throw])\n",
    "        knn_pred = knn.predict_proba(train_X_scaled[knn_features][full_index_keep])\n",
    "        new_cols = ['layer1_knn_{}_{}'.format(n_neighbors, category) for category in ['high', 'medium', 'low']]\n",
    "        train_X_with_layer_1.loc[indices, new_cols] = knn_pred\n",
    "    \n",
    "    ridge_columns = ['layer1_ridge_predictions']\n",
    "    for column in ridge_columns:\n",
    "        train_X_with_layer_1[column] = 0\n",
    "    ridge = Ridge()\n",
    "    ridge.fit(xtr, ytr)\n",
    "    ridge_predictions = ridge.predict(xte)\n",
    "    train_X_with_layer_1.loc[indices, 'layer1_ridge_predictions'] = ridge_predictions\n",
    "    \n",
    "    rf_columns = ['layer1_rf_{}_{}_predictions'.format(criterion, category) for category in ['high', 'medium', 'low'] for criterion in ['gini', 'entropy']]\n",
    "    for column in rf_columns:\n",
    "        train_X_with_layer_1[column] = 0\n",
    "    for criterion in ['gini', 'entropy']:\n",
    "        rf = RandomForestClassifier(\n",
    "            n_estimators=25,\n",
    "            criterion=criterion,\n",
    "            max_features='auto',\n",
    "            min_samples_split=20)\n",
    "\n",
    "        rf.fit(xtr, ytr)\n",
    "        rf_predictions = rf.predict_proba(xte)\n",
    "        new_cols = ['layer1_rf_{}_{}_predictions'.format(criterion, category) for category in ['high', 'medium', 'low']]\n",
    "        train_X_with_layer_1.loc[indices, new_cols] = rf_predictions\n",
    "    \n",
    "    k_means_columns = ['layer1_k_means_{}_{}'.format(n_clusters, index) for index in range(n_clusters) for n_clusters in [2, 4, 8]]\n",
    "    for column in k_means_columns:\n",
    "        train_X_with_layer_1[column] = 0\n",
    "    for n_clusters in [2, 4, 8]:\n",
    "        k_means = KMeans(n_clusters=n_clusters)\n",
    "        k_means.fit(xtr[knn_features], ytr)\n",
    "        k_means_indices = k_means.predict(xte[knn_features])\n",
    "        new_cols = ['layer1_k_means_{}_{}'.format(n_clusters, index) for index in range(n_clusters)]\n",
    "        train_X_with_layer_1.loc[indices, new_cols] = np.eye(n_clusters)[k_means_indices]\n",
    "    '''"
   ]
  },
  {
   "cell_type": "code",
   "execution_count": 180,
   "metadata": {
    "collapsed": true
   },
   "outputs": [],
   "source": [
    "train_X_with_layer_1.to_json('data/train_scaled_with_leaky_and_added_features_cv.json', orient='records')"
   ]
  },
  {
   "cell_type": "code",
   "execution_count": 276,
   "metadata": {
    "collapsed": true
   },
   "outputs": [],
   "source": [
    "from keras.layers.normalization import BatchNormalization\n",
    "from keras import regularizers\n",
    "from keras.layers.core import ActivityRegularization\n",
    "def create_model(xtr, layer1=256, layer2=32, activation='tanh', activation2=PReLU, dropout=0.75):\n",
    "    model = Sequential()\n",
    "    \n",
    "    model.add(Dense(layer1,\n",
    "                    input_dim=xtr.shape[1],\n",
    "                    init = 'he_normal',\n",
    "                    activation=activation))\n",
    "                    #kernel_regularizer=regularizers.l2(0.01),\n",
    "                    #activity_regularizer=regularizers.activity_l2(0.005)))\n",
    "    #model.add(Dense(64, input_dim=64, W_regularizer=l2(0.01), activity_regularizer=activity_l2(0.01)))\n",
    "    \n",
    "    model.add(BatchNormalization())\n",
    "    model.add(Dropout(dropout))\n",
    "    if activation2 != None:\n",
    "        model.add(activation2())\n",
    "\n",
    "    model.add(Dense(layer2,\n",
    "                    init = 'he_normal',\n",
    "                    activation=activation))\n",
    "                    #activity_regularizer=regularizers.activity_l2(0.005)))\n",
    "    model.add(BatchNormalization())    \n",
    "    model.add(Dropout(dropout))\n",
    "    if activation2 != None:\n",
    "        model.add(activation2())\n",
    "\n",
    "    model.add(Dense(3, init = 'he_normal', activation='softmax'))\n",
    "    model.compile(loss = 'categorical_crossentropy', optimizer = 'adam')\n",
    "    return model"
   ]
  },
  {
   "cell_type": "code",
   "execution_count": 268,
   "metadata": {
    "collapsed": true
   },
   "outputs": [],
   "source": [
    "def test_nn_with_columns(X, y, columns_to_include, layer1, layer2, activation, activation2, dropout):\n",
    "    scaler = StandardScaler()\n",
    "    X_scaled = pd.DataFrame(scaler.fit_transform(X), columns=X.columns)\n",
    "    \n",
    "    ntrain = int(len(X_scaled) * 0.75)\n",
    "\n",
    "    xtr = X_scaled[columns_to_include][:ntrain]\n",
    "    ytr = y[:ntrain].values\n",
    "    ytr_one_hot = np.eye(3)[ytr]\n",
    "    xte = X_scaled[columns_to_include][ntrain:]\n",
    "    yte = y[ntrain:].values\n",
    "    yte_one_hot = np.eye(3)[yte]\n",
    "\n",
    "    filepath = 'data/nn_weights'\n",
    "\n",
    "    logger = NBatchLogger()\n",
    "    early_stop = EarlyStopping(monitor='val_loss', patience=40, verbose=0)\n",
    "    checkpoint = ModelCheckpoint(filepath, monitor='val_loss', verbose=0, save_best_only=True)\n",
    "    model = create_model(xtr, layer1, layer2, activation, activation2, dropout)\n",
    "    model.fit(xtr.values, ytr_one_hot, nb_epoch = 1200, batch_size=1000, verbose = 0, validation_data=[xte.values, yte_one_hot], callbacks=[logger, early_stop, checkpoint])\n",
    "    model = create_model(xtr, layer1, layer2, activation, activation2, dropout)\n",
    "    model.load_weights(filepath)\n",
    "    return log_loss(yte_one_hot, model.predict(xte.values))"
   ]
  },
  {
   "cell_type": "code",
   "execution_count": null,
   "metadata": {
    "collapsed": true
   },
   "outputs": [],
   "source": []
  },
  {
   "cell_type": "code",
   "execution_count": null,
   "metadata": {
    "collapsed": true
   },
   "outputs": [],
   "source": []
  },
  {
   "cell_type": "markdown",
   "metadata": {},
   "source": [
    "# actually build model"
   ]
  },
  {
   "cell_type": "code",
   "execution_count": 274,
   "metadata": {
    "collapsed": false
   },
   "outputs": [],
   "source": [
    "ntrain = int(len(train_X_with_layer_1) * 0.75)\n",
    "\n",
    "scaler = StandardScaler()\n",
    "\n",
    "xtr = train_X_with_layer_1[:ntrain]\n",
    "xtr = pd.DataFrame(scaler.fit_transform(xtr), columns=xtr.columns)\n",
    "ytr = train_y[:ntrain].values\n",
    "ytr_one_hot = np.eye(3)[ytr]\n",
    "xte = train_X_with_layer_1[ntrain:]\n",
    "xte = pd.DataFrame(scaler.transform(xte), columns=xte.columns)\n",
    "yte = train_y[ntrain:].values\n",
    "yte_one_hot = np.eye(3)[yte]"
   ]
  },
  {
   "cell_type": "code",
   "execution_count": 317,
   "metadata": {
    "collapsed": false
   },
   "outputs": [
    {
     "name": "stdout",
     "output_type": "stream",
     "text": [
      "[0]\ttrain-mlogloss:1.09111+1.37637e-05\ttest-mlogloss:1.09132+3.47597e-05\n",
      "[200]\ttrain-mlogloss:0.572365+0.000966518\ttest-mlogloss:0.606583+0.00289119\n",
      "[400]\ttrain-mlogloss:0.495784+0.00111757\ttest-mlogloss:0.556851+0.00274886\n",
      "[600]\ttrain-mlogloss:0.46142+0.00115805\ttest-mlogloss:0.546969+0.00247487\n",
      "[800]\ttrain-mlogloss:0.435288+0.00122307\ttest-mlogloss:0.543303+0.00232122\n",
      "[1000]\ttrain-mlogloss:0.412388+0.00110456\ttest-mlogloss:0.541574+0.00211891\n",
      "[1200]\ttrain-mlogloss:0.391678+0.0010726\ttest-mlogloss:0.540466+0.00189828\n",
      "[1400]\ttrain-mlogloss:0.372348+0.00112275\ttest-mlogloss:0.539871+0.00179687\n",
      "0.5397984\n",
      "1429\n",
      "0.546284733463\n",
      "CPU times: user 3h 44s, sys: 5min 4s, total: 3h 5min 48s\n",
      "Wall time: 53min 48s\n"
     ]
    }
   ],
   "source": [
    "%%time\n",
    "NFOLDS = 5\n",
    "y_map = {'low': 2, 'medium': 1, 'high': 0}\n",
    "\n",
    "xgb_cols = all_columns + k_means_columns + knn_columns + ridge_columns + pca_columns + rf_columns\n",
    "\n",
    "params = {\n",
    "    'eta':.01,\n",
    "    'colsample_bytree':.6,\n",
    "    'subsample':.6,\n",
    "    'nthread':16,\n",
    "    'objective':'multi:softprob',\n",
    "    'eval_metric':'mlogloss',\n",
    "    'num_class':3,\n",
    "    'silent':1\n",
    "}\n",
    "\n",
    "dtrain = xgb.DMatrix(data=xtr[xgb_cols], label=ytr)\n",
    "\n",
    "bst = xgb.cv(params, dtrain, 10000, NFOLDS, early_stopping_rounds=50, verbose_eval=200)\n",
    "best_rounds = np.argmin(bst['test-mlogloss-mean'])\n",
    "print (bst['test-mlogloss-mean'][best_rounds])\n",
    "print (best_rounds)\n",
    "\n",
    "dtest = xgb.DMatrix(data=xte[xgb_cols])\n",
    "bst = xgb.train(params, dtrain, best_rounds)\n",
    "xgb_preds = bst.predict(dtest)\n",
    "print(log_loss(yte_one_hot, xgb_preds))\n",
    "# 0.539725"
   ]
  },
  {
   "cell_type": "code",
   "execution_count": 307,
   "metadata": {
    "collapsed": false
   },
   "outputs": [
    {
     "name": "stdout",
     "output_type": "stream",
     "text": [
      "0.58044096863\n",
      "CPU times: user 11min 51s, sys: 58.1 s, total: 12min 50s\n",
      "Wall time: 10min 9s\n"
     ]
    }
   ],
   "source": [
    "%%time\n",
    "filepath = 'data/nn_weights'\n",
    "\n",
    "nn_cols = all_columns + knn_columns + ridge_columns + k_means_columns\n",
    "\n",
    "logger = NBatchLogger()\n",
    "early_stop = EarlyStopping(monitor='val_loss', patience=40, verbose=0)\n",
    "checkpoint = ModelCheckpoint(filepath, monitor='val_loss', verbose=0, save_best_only=True)\n",
    "model = create_model(xtr[nn_cols])\n",
    "model.fit(xtr[nn_cols].values, ytr_one_hot, nb_epoch = 1200, batch_size=1000, verbose = 0, validation_data=[xte[nn_cols].values, yte_one_hot], callbacks=[logger, early_stop, checkpoint])\n",
    "\n",
    "model = create_model(xtr[nn_cols])\n",
    "model.load_weights(filepath)\n",
    "nn_preds = model.predict(xte[nn_cols].values)\n",
    "print(log_loss(yte_one_hot, nn_preds))\n",
    "# 0.58044096863"
   ]
  },
  {
   "cell_type": "code",
   "execution_count": 310,
   "metadata": {
    "collapsed": false
   },
   "outputs": [
    {
     "name": "stdout",
     "output_type": "stream",
     "text": [
      "0.6084469079023 (test loss 0.5014715811903182)\n",
      "CPU times: user 10 s, sys: 158 ms, total: 10.2 s\n",
      "Wall time: 10.2 s\n"
     ]
    }
   ],
   "source": [
    "%%time\n",
    "et_cols = all_columns# + knn_columns + ridge_columns + k_means_columns\n",
    "\n",
    "test = ExtraTreesClassifier(\n",
    "    n_estimators=100,\n",
    "    criterion='entropy',\n",
    "    max_features='auto',\n",
    "    min_samples_split=50)\n",
    "\n",
    "test.fit(xtr[et_cols], ytr)\n",
    "            \n",
    "et_train_predictions = test.predict_proba(xtr[et_cols])\n",
    "et_predictions = test.predict_proba(xte[et_cols])\n",
    "print ('{} (test loss {})'.format(log_loss(yte_one_hot, et_predictions), log_loss(ytr_one_hot, et_train_predictions)))\n",
    "# 0.5989926646715679"
   ]
  },
  {
   "cell_type": "code",
   "execution_count": 309,
   "metadata": {
    "collapsed": false
   },
   "outputs": [
    {
     "name": "stdout",
     "output_type": "stream",
     "text": [
      "0.5867972591837729 (test loss 0.4744615099148531)\n",
      "CPU times: user 11.2 s, sys: 297 ms, total: 11.5 s\n",
      "Wall time: 11.6 s\n"
     ]
    }
   ],
   "source": [
    "%%time\n",
    "rf_cols = all_columns# + knn_columns + ridge_columns + k_means_columns\n",
    "\n",
    "test = RandomForestClassifier(\n",
    "    n_estimators=100,\n",
    "    criterion='entropy',\n",
    "    max_features='auto',\n",
    "    min_samples_split=50)\n",
    "\n",
    "test.fit(xtr[rf_cols], ytr)\n",
    "            \n",
    "rf_train_predictions = test.predict_proba(xtr[rf_cols])\n",
    "rf_predictions = test.predict_proba(xte[rf_cols])\n",
    "print ('{} (test loss {})'.format(log_loss(yte_one_hot, rf_predictions), log_loss(ytr_one_hot, rf_train_predictions)))\n",
    "# 0.5814357939419752"
   ]
  },
  {
   "cell_type": "code",
   "execution_count": 304,
   "metadata": {
    "collapsed": false
   },
   "outputs": [
    {
     "name": "stdout",
     "output_type": "stream",
     "text": [
      "0.6644185840766779 (test loss 0.6542689234451893)\n",
      "CPU times: user 5min 38s, sys: 4.82 s, total: 5min 43s\n",
      "Wall time: 5min 55s\n"
     ]
    }
   ],
   "source": [
    "%%time\n",
    "test = KNeighborsClassifier(n_neighbors=500)\n",
    "test.fit(xtr[non_sparse_cols], ytr)\n",
    "\n",
    "knn_train_predictions = test.predict_proba(xtr[non_sparse_cols])\n",
    "knn_predictions = test.predict_proba(xte[non_sparse_cols])\n",
    "print ('{} (test loss {})'.format(log_loss(yte_one_hot, knn_predictions), log_loss(ytr_one_hot, knn_train_predictions)))"
   ]
  },
  {
   "cell_type": "code",
   "execution_count": 305,
   "metadata": {
    "collapsed": false
   },
   "outputs": [
    {
     "name": "stdout",
     "output_type": "stream",
     "text": [
      "0.6542388412538083 (test loss 0.6351798773827041)\n",
      "CPU times: user 49.6 s, sys: 1.34 s, total: 51 s\n",
      "Wall time: 52.1 s\n"
     ]
    }
   ],
   "source": [
    "%%time\n",
    "test = KNeighborsClassifier(n_neighbors=500)\n",
    "test.fit(xtr[knn_features], ytr)\n",
    "\n",
    "knn_train_predictions = test.predict_proba(xtr[knn_features])\n",
    "knn_predictions = test.predict_proba(xte[knn_features])\n",
    "print ('{} (test loss {})'.format(log_loss(yte_one_hot, knn_predictions), log_loss(ytr_one_hot, knn_train_predictions)))"
   ]
  },
  {
   "cell_type": "code",
   "execution_count": null,
   "metadata": {
    "collapsed": true
   },
   "outputs": [],
   "source": [
    "print(log_loss(yte_one_hot, xgb_preds))\n",
    "mixed_preds = (0.75 * xgb_preds) + (0.25 * nn_preds)\n",
    "print(log_loss(yte_one_hot, mixed_preds))"
   ]
  },
  {
   "cell_type": "code",
   "execution_count": null,
   "metadata": {
    "collapsed": true
   },
   "outputs": [],
   "source": [
    "train thing on whether or not each classifier did a good job (minimize distance from correct?)\n",
    "use result to go with the best prediction blended from models"
   ]
  },
  {
   "cell_type": "code",
   "execution_count": null,
   "metadata": {
    "collapsed": true
   },
   "outputs": [],
   "source": []
  },
  {
   "cell_type": "code",
   "execution_count": null,
   "metadata": {
    "collapsed": true
   },
   "outputs": [],
   "source": []
  },
  {
   "cell_type": "code",
   "execution_count": 45,
   "metadata": {
    "collapsed": true
   },
   "outputs": [],
   "source": [
    "#new_vects = ['tf_idf_' + x[7:] for x in sparse_cols]\n",
    "#sparse = processed_train[sparse_cols]\n",
    "#tf_idfs = TfidfTransformer().fit_transform(sparse)\n",
    "#tf_idfs_df = pd.DataFrame(tf_idfs.toarray(), columns=new_vects)\n",
    "#processed_train = processed_train.join(tf_idfs_df, how='left')"
   ]
  },
  {
   "cell_type": "markdown",
   "metadata": {},
   "source": [
    "# Ridge Lasso Elastic"
   ]
  },
  {
   "cell_type": "code",
   "execution_count": 308,
   "metadata": {
    "collapsed": false
   },
   "outputs": [
    {
     "data": {
      "text/plain": [
       "ElasticNet(alpha=1.0, copy_X=True, fit_intercept=True, l1_ratio=0.5,\n",
       "      max_iter=1000, normalize=False, positive=False, precompute=False,\n",
       "      random_state=None, selection='cyclic', tol=0.0001, warm_start=False)"
      ]
     },
     "execution_count": 308,
     "metadata": {},
     "output_type": "execute_result"
    }
   ],
   "source": [
    "las = Lasso()\n",
    "enet = ElasticNet()\n",
    "las.fit(xte, yte)\n",
    "enet.fit(xte, yte)"
   ]
  },
  {
   "cell_type": "code",
   "execution_count": 309,
   "metadata": {
    "collapsed": false
   },
   "outputs": [
    {
     "name": "stdout",
     "output_type": "stream",
     "text": [
      "0.0\n",
      "10.478087214\n"
     ]
    }
   ],
   "source": [
    "print (las.score(xte, yte))\n",
    "predictions = las.predict(xte)\n",
    "print (log_loss(yte_one_hot, np.eye(3)[np.round(predictions).astype(int)]))"
   ]
  },
  {
   "cell_type": "code",
   "execution_count": 310,
   "metadata": {
    "collapsed": false
   },
   "outputs": [
    {
     "name": "stdout",
     "output_type": "stream",
     "text": [
      "0.0\n",
      "10.478087214\n"
     ]
    }
   ],
   "source": [
    "print (enet.score(xte, yte))\n",
    "predictions = enet.predict(xte)\n",
    "print (log_loss(yte_one_hot, np.eye(3)[np.round(predictions).astype(int)]))"
   ]
  },
  {
   "cell_type": "code",
   "execution_count": 42,
   "metadata": {
    "collapsed": true
   },
   "outputs": [],
   "source": [
    "for coef, column in zip(enet.coef_, train_X.columns):\n",
    "    if coef != 0:\n",
    "        print (column, \": \", coef)"
   ]
  },
  {
   "cell_type": "code",
   "execution_count": 43,
   "metadata": {
    "collapsed": true
   },
   "outputs": [],
   "source": [
    "for coef, column in zip(las.coef_, train_X.columns):\n",
    "    if coef != 0:\n",
    "        print (column, \": \", coef)"
   ]
  },
  {
   "cell_type": "code",
   "execution_count": null,
   "metadata": {
    "collapsed": true
   },
   "outputs": [],
   "source": []
  },
  {
   "cell_type": "markdown",
   "metadata": {},
   "source": [
    "# TREES"
   ]
  },
  {
   "cell_type": "code",
   "execution_count": 322,
   "metadata": {
    "collapsed": false
   },
   "outputs": [
    {
     "name": "stdout",
     "output_type": "stream",
     "text": [
      "0.5843451108603969 (test loss 0.3912286072900344)\n"
     ]
    }
   ],
   "source": [
    "test = ExtraTreesClassifier(\n",
    "    n_estimators=100,\n",
    "    max_features='auto',\n",
    "    min_samples_split=20)\n",
    "\n",
    "test.fit(xtr, ytr)\n",
    "            \n",
    "predictions = test.predict_proba(xtr)\n",
    "et_predictions = test.predict_proba(xte)\n",
    "print ('{} (test loss {})'.format(log_loss(yte_one_hot, et_predictions), log_loss(ytr_one_hot, predictions)))"
   ]
  },
  {
   "cell_type": "code",
   "execution_count": 323,
   "metadata": {
    "collapsed": false
   },
   "outputs": [
    {
     "name": "stdout",
     "output_type": "stream",
     "text": [
      "0.5841850290743527 (test loss 0.3945679429419886)\n"
     ]
    }
   ],
   "source": [
    "test = ExtraTreesClassifier(\n",
    "    n_estimators=100,\n",
    "    criterion='entropy',\n",
    "    max_features='auto',\n",
    "    min_samples_split=20)\n",
    "\n",
    "test.fit(xtr, ytr)\n",
    "            \n",
    "predictions = test.predict_proba(xtr)\n",
    "et_ent_predictions = test.predict_proba(xte)\n",
    "print ('{} (test loss {})'.format(log_loss(yte_one_hot, et_ent_predictions), log_loss(ytr_one_hot, predictions)))"
   ]
  },
  {
   "cell_type": "code",
   "execution_count": 311,
   "metadata": {
    "collapsed": false
   },
   "outputs": [
    {
     "name": "stdout",
     "output_type": "stream",
     "text": [
      "0.5702881670274706 (test loss 0.34260988988913094)\n"
     ]
    }
   ],
   "source": [
    "test = RandomForestClassifier(\n",
    "    n_estimators=100,\n",
    "    max_features='auto',\n",
    "    min_samples_split=20)\n",
    "\n",
    "test.fit(xtr, ytr)\n",
    "            \n",
    "_predictions = test.predict_proba(xtr)\n",
    "_rf_predictions = test.predict_proba(xte)\n",
    "print ('{} (test loss {})'.format(log_loss(yte_one_hot, _rf_predictions), log_loss(ytr_one_hot, _predictions)))"
   ]
  },
  {
   "cell_type": "code",
   "execution_count": 312,
   "metadata": {
    "collapsed": false
   },
   "outputs": [
    {
     "name": "stdout",
     "output_type": "stream",
     "text": [
      "0.5690015004443815 (test loss 0.34470505904504534)\n"
     ]
    }
   ],
   "source": [
    "test = RandomForestClassifier(\n",
    "    n_estimators=100,\n",
    "    criterion='entropy',\n",
    "    max_features='auto',\n",
    "    min_samples_split=20)\n",
    "\n",
    "test.fit(xtr, ytr)\n",
    "            \n",
    "_predictions = test.predict_proba(xtr)\n",
    "_rf_ent_predictions = test.predict_proba(xte)\n",
    "print ('{} (test loss {})'.format(log_loss(yte_one_hot, _rf_ent_predictions), log_loss(ytr_one_hot, _predictions)))"
   ]
  },
  {
   "cell_type": "code",
   "execution_count": 337,
   "metadata": {
    "collapsed": false
   },
   "outputs": [
    {
     "data": {
      "text/plain": [
       "0.56688904952650898"
      ]
     },
     "execution_count": 337,
     "metadata": {},
     "output_type": "execute_result"
    }
   ],
   "source": [
    "pred_mixed = (0.01 * et_predictions + 0.01 * et_ent_predictions + 0.49 * rf_predictions + 0.49 * rf_ent_predictions)\n",
    "log_loss(yte_one_hot, pred_mixed)"
   ]
  },
  {
   "cell_type": "code",
   "execution_count": 12,
   "metadata": {
    "collapsed": false
   },
   "outputs": [
    {
     "name": "stdout",
     "output_type": "stream",
     "text": [
      "7.076257047822155 (test loss 0.23129250627049086)\n",
      "CPU times: user 3min 15s, sys: 1.48 s, total: 3min 16s\n",
      "Wall time: 3min 20s\n"
     ]
    }
   ],
   "source": [
    "%%time\n",
    "test = KNeighborsClassifier(n_neighbors=2)\n",
    "test.fit(xtr[non_sparse_cols], ytr)\n",
    "\n",
    "predictions = test.predict_proba(xtr[non_sparse_cols])\n",
    "rf_ent_predictions = test.predict_proba(xte[non_sparse_cols])"
   ]
  },
  {
   "cell_type": "code",
   "execution_count": 13,
   "metadata": {
    "collapsed": false
   },
   "outputs": [
    {
     "name": "stdout",
     "output_type": "stream",
     "text": [
      "2.997161309463761 (test loss 0.4189513500335195)\n",
      "CPU times: user 3min 36s, sys: 1.02 s, total: 3min 37s\n",
      "Wall time: 3min 38s\n"
     ]
    }
   ],
   "source": [
    "%%time\n",
    "test = KNeighborsClassifier(n_neighbors=5)\n",
    "test.fit(xtr[non_sparse_cols], ytr)\n",
    "\n",
    "predictions_2 = test.predict_proba(xtr[non_sparse_cols])\n",
    "rf_ent_predictions_2 = test.predict_proba(xte[non_sparse_cols])"
   ]
  },
  {
   "cell_type": "code",
   "execution_count": 14,
   "metadata": {
    "collapsed": false
   },
   "outputs": [
    {
     "name": "stdout",
     "output_type": "stream",
     "text": [
      "1.5474359459916005 (test loss 0.4994428601539661)\n",
      "CPU times: user 3min 48s, sys: 839 ms, total: 3min 49s\n",
      "Wall time: 3min 50s\n"
     ]
    }
   ],
   "source": [
    "%%time\n",
    "test = KNeighborsClassifier(n_neighbors=10)\n",
    "test.fit(xtr[non_sparse_cols], ytr)\n",
    "\n",
    "predictions_3 = test.predict_proba(xtr[non_sparse_cols])\n",
    "rf_ent_predictions_3 = test.predict_proba(xte[non_sparse_cols])"
   ]
  },
  {
   "cell_type": "code",
   "execution_count": 21,
   "metadata": {
    "collapsed": false
   },
   "outputs": [
    {
     "name": "stdout",
     "output_type": "stream",
     "text": [
      "0.6344317626130038 (test loss 0.6195293255389913)\n",
      "CPU times: user 4min 34s, sys: 1.19 s, total: 4min 35s\n",
      "Wall time: 4min 36s\n"
     ]
    }
   ],
   "source": [
    "%%time\n",
    "test = KNeighborsClassifier(n_neighbors=200)\n",
    "test.fit(xtr[non_sparse_cols], ytr)\n",
    "\n",
    "predictions_6 = test.predict_proba(xtr[non_sparse_cols])\n",
    "rf_ent_predictions_6 = test.predict_proba(xte[non_sparse_cols])\n",
    "print ('{} (test loss {})'.format(log_loss(yte_one_hot, rf_ent_predictions_6), log_loss(ytr_one_hot, predictions_6)))"
   ]
  },
  {
   "cell_type": "code",
   "execution_count": null,
   "metadata": {
    "collapsed": true
   },
   "outputs": [],
   "source": [
    "for feat, importance in zip(processed_train[cols].columns, clf.feature_importances_):\n",
    "    if not np.isnan(importance) and importance > 0:\n",
    "        print (feat, \": \", importance)"
   ]
  },
  {
   "cell_type": "code",
   "execution_count": 345,
   "metadata": {
    "collapsed": false
   },
   "outputs": [
    {
     "name": "stdout",
     "output_type": "stream",
     "text": [
      "nn:  0.563593691555\n",
      "ab:  0.566889049527\n",
      "combo:  0.55827286106\n"
     ]
    }
   ],
   "source": [
    "print (\"nn: \", log_loss(yte_one_hot, nn_predictions))\n",
    "print (\"ab: \", log_loss(yte_one_hot, pred_mixed))\n",
    "frac_nn = 0.2\n",
    "averaged_preds = (nn_predictions * frac_nn) + (pred_mixed * (1 - frac_nn))\n",
    "print (\"combo: \", log_loss(yte_one_hot, averaged_preds))"
   ]
  },
  {
   "cell_type": "code",
   "execution_count": null,
   "metadata": {
    "collapsed": true
   },
   "outputs": [],
   "source": [
    "train_X = pd.read_json('data/train_leaky.json')\n",
    "train_y = pd.read_json('data/train_interest.json')[0]\n",
    "scaler = StandardScaler().fit(train_X)\n",
    "train_X = pd.DataFrame(scaler.transform(train_X), columns=columns)\n",
    "test_X = pd.read_json('data/test_leaky.json')\n",
    "test_X = pd.DataFrame(scaler.transform(test_X), columns=columns)\n",
    "listing_id = pd.read_json('data/test_ids.json').values\n",
    "preds = pd.read_csv('data/my_best_preds.csv')"
   ]
  },
  {
   "cell_type": "code",
   "execution_count": 295,
   "metadata": {
    "collapsed": true
   },
   "outputs": [],
   "source": [
    "preds = pd.read_csv('data/my_best_preds.csv')"
   ]
  },
  {
   "cell_type": "code",
   "execution_count": 313,
   "metadata": {
    "collapsed": true
   },
   "outputs": [],
   "source": [
    "et_clf = ExtraTreesClassifier(\n",
    "    n_estimators=100,\n",
    "    criterion='gini',\n",
    "    max_features='auto',\n",
    "    min_samples_split=20)\n",
    "et_clf.fit(train_X, train_y)          \n",
    "et_predictions = et_clf.predict_proba(test_X)"
   ]
  },
  {
   "cell_type": "code",
   "execution_count": 314,
   "metadata": {
    "collapsed": true
   },
   "outputs": [],
   "source": [
    "et_clf_ent = ExtraTreesClassifier(\n",
    "    n_estimators=100,\n",
    "    criterion='entropy',\n",
    "    max_features='auto',\n",
    "    min_samples_split=20)\n",
    "et_clf_ent.fit(train_X, train_y)          \n",
    "et_ent_predictions = et_clf_ent.predict_proba(test_X)"
   ]
  },
  {
   "cell_type": "code",
   "execution_count": 316,
   "metadata": {
    "collapsed": true
   },
   "outputs": [],
   "source": [
    "rf_clf = RandomForestClassifier(\n",
    "    n_estimators=100,\n",
    "    criterion='gini',\n",
    "    min_samples_split=20)\n",
    "rf_clf.fit(train_X, train_y)          \n",
    "rf_predictions = rf_clf.predict_proba(test_X)"
   ]
  },
  {
   "cell_type": "code",
   "execution_count": 317,
   "metadata": {
    "collapsed": true
   },
   "outputs": [],
   "source": [
    "rf_clf_ent = RandomForestClassifier(\n",
    "    n_estimators=100,\n",
    "    criterion='entropy',\n",
    "    min_samples_split=20)\n",
    "rf_clf_ent.fit(train_X, train_y)          \n",
    "rf_ent_predictions = rf_clf_ent.predict_proba(test_X)"
   ]
  },
  {
   "cell_type": "code",
   "execution_count": 259,
   "metadata": {
    "collapsed": true
   },
   "outputs": [],
   "source": [
    "nn_predictions = model.predict(test_X.values)"
   ]
  },
  {
   "cell_type": "code",
   "execution_count": 297,
   "metadata": {
    "collapsed": false
   },
   "outputs": [],
   "source": [
    "xgb_predictions = preds[['high', 'medium', 'low']].values"
   ]
  },
  {
   "cell_type": "code",
   "execution_count": 303,
   "metadata": {
    "collapsed": false
   },
   "outputs": [],
   "source": [
    "new_preds = (0.8 * xgb_predictions) + (0.15 * nn_predictions) + (0.05 * et_predictions)"
   ]
  },
  {
   "cell_type": "code",
   "execution_count": 304,
   "metadata": {
    "collapsed": false
   },
   "outputs": [],
   "source": [
    "new_preds_df = pd.DataFrame(new_preds, columns=['high', 'medium', 'low'])\n",
    "new_preds_df['listing_id'] = preds['listing_id']"
   ]
  },
  {
   "cell_type": "code",
   "execution_count": 306,
   "metadata": {
    "collapsed": true
   },
   "outputs": [],
   "source": [
    "new_preds_df.to_csv('data/combined_preds.csv', index=None)"
   ]
  },
  {
   "cell_type": "code",
   "execution_count": null,
   "metadata": {
    "collapsed": true
   },
   "outputs": [],
   "source": []
  }
 ],
 "metadata": {
  "kernelspec": {
   "display_name": "Python 3",
   "language": "python",
   "name": "python3"
  },
  "language_info": {
   "codemirror_mode": {
    "name": "ipython",
    "version": 3
   },
   "file_extension": ".py",
   "mimetype": "text/x-python",
   "name": "python",
   "nbconvert_exporter": "python",
   "pygments_lexer": "ipython3",
   "version": "3.5.3"
  }
 },
 "nbformat": 4,
 "nbformat_minor": 0
}
