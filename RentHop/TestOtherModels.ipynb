{
 "cells": [
  {
   "cell_type": "code",
   "execution_count": 1,
   "metadata": {
    "collapsed": false
   },
   "outputs": [
    {
     "name": "stderr",
     "output_type": "stream",
     "text": [
      "/Users/jgzuke/anaconda3/lib/python3.5/site-packages/sklearn/cross_validation.py:44: DeprecationWarning: This module was deprecated in version 0.18 in favor of the model_selection module into which all the refactored classes and functions are moved. Also note that the interface of the new CV iterators are different from that of this module. This module will be removed in 0.20.\n",
      "  \"This module will be removed in 0.20.\", DeprecationWarning)\n",
      "Using Theano backend.\n"
     ]
    }
   ],
   "source": [
    "%matplotlib inline\n",
    "import math\n",
    "import numpy as np\n",
    "import pandas as pd\n",
    "import random\n",
    "import xgboost as xgb\n",
    "from sklearn import preprocessing, model_selection\n",
    "from sklearn.metrics import log_loss\n",
    "import string\n",
    "from sklearn.metrics import log_loss\n",
    "from sklearn.feature_extraction.text import  CountVectorizer\n",
    "from scipy.stats import boxcox\n",
    "from scipy import stats\n",
    "from scipy import sparse\n",
    "from sklearn.preprocessing import StandardScaler\n",
    "from sklearn.linear_model import Lasso\n",
    "from sklearn.linear_model import ElasticNet\n",
    "from sklearn.linear_model import RidgeClassifier\n",
    "from sklearn.linear_model import Ridge\n",
    "from sklearn.ensemble import AdaBoostClassifier\n",
    "from sklearn.ensemble import ExtraTreesClassifier\n",
    "from sklearn.ensemble import RandomForestClassifier\n",
    "from keras.models import Sequential\n",
    "from keras.layers import Dense, Dropout, Activation\n",
    "from keras.layers.normalization import BatchNormalization\n",
    "from keras.layers.advanced_activations import PReLU\n",
    "from keras.callbacks import EarlyStopping, ModelCheckpoint\n",
    "from sklearn.feature_extraction.text import TfidfTransformer\n",
    "from keras.regularizers import l2, activity_l2\n",
    "from sklearn.neighbors import KNeighborsClassifier\n",
    "from keras.callbacks import Callback\n",
    "import xgboost as xgb\n",
    "\n",
    "class NBatchLogger(Callback):\n",
    "    def __init__(self):\n",
    "        self.seen = 0\n",
    "\n",
    "    def on_epoch_end(self, batch, logs={}):\n",
    "        self.seen += 1\n",
    "        if self.seen % 500 == 0:\n",
    "            print('epoch {}: loss = {}, val = {}'.format(self.seen, logs['loss'], logs['val_loss'])) \n",
    "            \n",
    "class FakeDMatrix:\n",
    "    def __init__(self, data, labels=None):\n",
    "        self.data = data\n",
    "        self.labels = labels\n",
    "        self.num = len(data)\n",
    "\n",
    "    def num_row(self):\n",
    "        return self.num\n",
    "\n",
    "    def slice(self, rindex):\n",
    "        indices = np.zeros(self.num, dtype=np.bool)\n",
    "        for index in rindex:\n",
    "            indices[index] = True\n",
    "        return FakeDMatrix(data=self.data[indices], labels=self.labels[indices])"
   ]
  },
  {
   "cell_type": "code",
   "execution_count": 2,
   "metadata": {
    "collapsed": true
   },
   "outputs": [],
   "source": [
    "train_X = pd.read_json('data/train_with_leaky_cv.json')\n",
    "train_y = pd.read_json('data/train_interest.json')[0]\n",
    "columns = train_X.columns\n",
    "train_X_scaled = pd.DataFrame(StandardScaler().fit_transform(train_X), columns=columns)"
   ]
  },
  {
   "cell_type": "code",
   "execution_count": 3,
   "metadata": {
    "collapsed": false
   },
   "outputs": [],
   "source": [
    "column_usefulness = [('bc_price', 16597), ('manager_worths', 14684), ('price_by_NTACode', 13343), ('latitude', 12299), ('longitude', 12051), ('desc_words_length', 11477), ('manager_id', 11136), ('price_by_address1', 11125), ('Yday', 10884), ('address1', 10458), ('building_worths', 10298), ('building_id', 10142), ('desc_letters_count', 9832), ('real_minus_expected_price', 9815), ('price_by_area', 9742), ('real_over_expected_price', 9374), ('Day', 9066), ('worth_by_address1', 8782), ('hour', 7722), ('price_per_bathroom', 7590), ('desc_words_count', 7481), ('price_per_bed_and_bath', 7387), ('worth_by_NTACode', 6993), ('photos_count', 6730), ('NTACode', 6324), ('price_by_BoroCode', 6098), ('features_count', 5668), ('Wday', 4445), ('price_per_bedroom', 3903), ('sparse_nofee', 3056), ('bedrooms', 2833), ('sparse_furnished', 1865), ('bathrooms', 1702), ('sparse_laundryinbuilding', 1425), ('sparse_hardwoodfloors', 1132), ('sparse_laundryinunit', 1088), ('Month', 1006), ('sparse_exclusive', 771), ('sparse_dogsallowed', 770), ('BoroCode', 749), ('sparse_catsallowed', 718), ('sparse_prewar', 663), ('sparse_privateoutdoorspace', 634), ('sparse_reducedfee', 631), ('avenue', 595), ('street', 569), ('other_address', 553), ('sparse_commonoutdoorspace', 545), ('Zero_building_id', 534), ('sparse_elevator', 533), ('east', 524), ('sparse_doorman', 510), ('sparse_parkingspace', 506), ('sparse_dishwasher', 500), ('sparse_highspeedinternet', 476), ('sparse_terrace', 424), ('sparse_fitnesscenter', 423), ('sparse_loft', 413), ('sparse_outdoorspace', 406), ('sparse_actualapt', 399), ('sparse_roofdeck', 359), ('sparse_balcony', 346), ('sparse_diningroom', 318), ('sparse_simplex', 292), ('sparse_swimmingpool', 283), ('sparse_shorttermallowed', 263), ('sparse_wheelchairaccess', 248), ('west', 245), ('sparse_newconstruction', 238), ('sparse_garden', 231), ('sparse_multilevel', 201), ('sparse_patio', 199), ('sparse_hardwood', 198), ('worth_by_BoroCode', 179), ('sparse_fireplace', 168), ('sparse_highceiling', 159), ('sparse_petsok', 154), ('sparse_dryerinunit', 153), ('sparse_stainlesssteelappliances', 148), ('sparse_garage', 119), ('south', 118), ('sparse_storage', 118), ('sparse_outdoorareas', 117), ('sparse_lndrybldg', 113), ('sparse_liveinsuper', 110), ('sparse_new', 103), ('sparse_renovated', 99), ('sparse_photos', 88), ('sparse_highceilings', 79), ('sparse_onsitelaundry', 79), ('sparse_view', 78), ('sparse_flex3', 67), ('sparse_centrala', 66), ('sparse_concierge', 64), ('sparse_residentslounge', 63), ('sparse_assignedparkingspace', 62), ('sparse_allutilitiesincluded', 58), ('sparse_onsitegarage', 53), ('north', 46), ('sparse_lowrise', 44), ('sparse_washerinunit', 44)]\n",
    "leaky = ['manager_worths', 'building_worths', 'price_by_area', 'real_minus_expected_price', 'real_over_expected_price', 'price_by_address1', 'worth_by_address1', 'price_by_BoroCode', 'worth_by_BoroCode', 'price_by_NTACode', 'worth_by_NTACode']\n",
    "all_columns = ['BoroCode', 'Day', 'Month', 'NTACode', 'Wday', 'Yday', 'Zero_building_id', 'Zero_manager_id', 'address1', 'avenue', 'bathrooms', 'bc_price', 'bedrooms', 'building_id', 'building_worths', 'desc_letters_count', 'desc_words_count', 'desc_words_length', 'east', 'features_count', 'hour', 'latitude', 'longitude', 'manager_id', 'manager_worths', 'north', 'other_address', 'photos_count', 'price_by_BoroCode', 'price_by_NTACode', 'price_by_address1', 'price_by_area', 'price_per_bathroom', 'price_per_bed_and_bath', 'price_per_bedroom', 'real_minus_expected_price', 'real_over_expected_price', 'south', 'sparse_24', 'sparse_2fullbaths', 'sparse_actualapt', 'sparse_airconditioning', 'sparse_allutilitiesincluded', 'sparse_assignedparkingspace', 'sparse_attendedlobby', 'sparse_backyard', 'sparse_balconies', 'sparse_balcony', 'sparse_basementstorage', 'sparse_bikeroom', 'sparse_bikestorage', 'sparse_billiardsroom', 'sparse_brownstone', 'sparse_buildingcommonoutdoorspace', 'sparse_businesscenter', 'sparse_cable', 'sparse_catsallowed', 'sparse_centrala', 'sparse_centralac', 'sparse_centralair', 'sparse_chef', 'sparse_chefskitchen', 'sparse_children', 'sparse_childrensplayroom', 'sparse_cityview', 'sparse_commonbackyard', 'sparse_commongarden', 'sparse_commonoutdoorspace', 'sparse_commonparking', 'sparse_commonroofdeck', 'sparse_commonterrace', 'sparse_communityrecreationfacilities', 'sparse_concierge', 'sparse_conciergeservice', 'sparse_condofinishes', 'sparse_cook', 'sparse_courtyard', 'sparse_deck', 'sparse_decorativefireplace', 'sparse_diningroom', 'sparse_dishwasher', 'sparse_dogsallowed', 'sparse_doorman', 'sparse_drycleaningservice', 'sparse_dryer', 'sparse_dryerinbuilding', 'sparse_dryerinunit', 'sparse_duplex', 'sparse_eatinkitchen', 'sparse_elev', 'sparse_elevator', 'sparse_elevbldg', 'sparse_exclusive', 'sparse_exposedbrick', 'sparse_fireplace', 'sparse_fireplaces', 'sparse_fitness', 'sparse_fitnesscenter', 'sparse_flex2', 'sparse_flex3', 'sparse_ftdoorman', 'sparse_fullservicegarage', 'sparse_fulltimedoorman', 'sparse_furnished', 'sparse_garage', 'sparse_garden', 'sparse_gourmetkitchen', 'sparse_granitecountertops', 'sparse_granitekitchen', 'sparse_greenbuilding', 'sparse_guarantorsaccepted', 'sparse_gutrenovated', 'sparse_gym', 'sparse_gyminbuilding', 'sparse_hardwood', 'sparse_hardwoodfloors', 'sparse_healthclub', 'sparse_highceiling', 'sparse_highceilings', 'sparse_highrise', 'sparse_highspeedinternet', 'sparse_hirise', 'sparse_housekeeping', 'sparse_indoorpool', 'sparse_inunitwasher', 'sparse_largelivingroom', 'sparse_laundry', 'sparse_laundryinbuilding', 'sparse_laundryinunit', 'sparse_laundryonfloor', 'sparse_laundryroom', 'sparse_light', 'sparse_live', 'sparse_liveinsuper', 'sparse_liveinsuperintendent', 'sparse_lndrybldg', 'sparse_loft', 'sparse_lounge', 'sparse_loungeroom', 'sparse_lowrise', 'sparse_luxurybuilding', 'sparse_mailroom', 'sparse_marblebath', 'sparse_marblebathroom', 'sparse_microwave', 'sparse_midrise', 'sparse_mrcleanapproved', 'sparse_multilevel', 'sparse_new', 'sparse_newconstruction', 'sparse_newlyrenovated', 'sparse_nofee', 'sparse_nopets', 'sparse_nursery', 'sparse_onsitegarage', 'sparse_onsitelaundry', 'sparse_onsiteparking', 'sparse_onsiteparkingavailable', 'sparse_onsiteparkinglot', 'sparse_onsitesuper', 'sparse_ornateprewardetails', 'sparse_outdoorareas', 'sparse_outdoorentertainmentspace', 'sparse_outdoorpool', 'sparse_outdoorspace', 'sparse_packageroom', 'sparse_parking', 'sparse_parkingspace', 'sparse_patio', 'sparse_penthouse', 'sparse_petfriendly', 'sparse_pets', 'sparse_petsallowed', 'sparse_petsok', 'sparse_petsonapproval', 'sparse_photos', 'sparse_playroom', 'sparse_pool', 'sparse_postwar', 'sparse_prewar', 'sparse_privatebackyard', 'sparse_privatebalcony', 'sparse_privatedeck', 'sparse_privatelaundryroomoneveryfloor', 'sparse_privateoutdoorspace', 'sparse_privateparking', 'sparse_privateroofdeck', 'sparse_privateterrace', 'sparse_publicoutdoor', 'sparse_reducedfee', 'sparse_renovated', 'sparse_residentsgarden', 'sparse_residentslounge', 'sparse_roofaccess', 'sparse_roofdeck', 'sparse_rooftopdeck', 'sparse_rooftopterrace', 'sparse_roomyclosets', 'sparse_satellitetv', 'sparse_sauna', 'sparse_screeningroom', 'sparse_sharedbackyard', 'sparse_sharesok', 'sparse_shorttermallowed', 'sparse_simplex', 'sparse_skitchen', 'sparse_skylight', 'sparse_splayroom', 'sparse_sskitchen', 'sparse_stainlesssteelappliances', 'sparse_stepstothepark', 'sparse_storage', 'sparse_storagefacilitiesavailable', 'sparse_storageroom', 'sparse_sublet', 'sparse_subway', 'sparse_sundeck', 'sparse_swimmingpool', 'sparse_tenantlounge', 'sparse_terrace', 'sparse_terraces', 'sparse_tonsofnaturallight', 'sparse_valet', 'sparse_valetparking', 'sparse_valetservices', 'sparse_valetservicesincludingdrycleaning', 'sparse_videointercom', 'sparse_view', 'sparse_virtualdoorman', 'sparse_walkincloset', 'sparse_wallsofwindows', 'sparse_washer', 'sparse_washerinunit', 'sparse_wheelchairaccess', 'sparse_wheelchairramp', 'sparse_wifi', 'sparse_wifiaccess', 'sparse_work', 'street', 'west', 'worth_by_BoroCode', 'worth_by_NTACode', 'worth_by_address1']\n",
    "sparse_cols = [x[0] for x in column_usefulness if x[0].startswith('sparse')][:15]\n",
    "non_sparse_cols = [x[0] for x in column_usefulness if not x[0].startswith('sparse')]"
   ]
  },
  {
   "cell_type": "markdown",
   "metadata": {},
   "source": [
    "# Add a bunch of features to train_X"
   ]
  },
  {
   "cell_type": "code",
   "execution_count": 4,
   "metadata": {
    "collapsed": true
   },
   "outputs": [],
   "source": [
    "from sklearn.cluster import KMeans\n",
    "from sklearn.neighbors import KNeighborsClassifier\n",
    "from sklearn.manifold import TSNE\n",
    "from sklearn.decomposition import PCA\n",
    "from sklearn.neighbors import DistanceMetric"
   ]
  },
  {
   "cell_type": "code",
   "execution_count": 5,
   "metadata": {
    "collapsed": false
   },
   "outputs": [],
   "source": [
    "train_X = pd.read_json('data/train_with_leaky_cv.json')\n",
    "train_y = pd.read_json('data/train_interest.json')[0]\n",
    "columns = train_X.columns\n",
    "train_X_scaled = pd.DataFrame(StandardScaler().fit_transform(train_X), columns=columns)\n",
    "train_X_with_layer_1 = pd.read_json('data/train_scaled_with_leaky_and_added_features_cv.json')"
   ]
  },
  {
   "cell_type": "code",
   "execution_count": null,
   "metadata": {
    "collapsed": true
   },
   "outputs": [],
   "source": [
    "normalize_high_cordiality_data()"
   ]
  },
  {
   "cell_type": "code",
   "execution_count": 176,
   "metadata": {
    "collapsed": false
   },
   "outputs": [
    {
     "name": "stdout",
     "output_type": "stream",
     "text": [
      "Fold 0\n",
      "Fold 1\n",
      "Fold 2\n",
      "Fold 3\n",
      "Fold 4\n"
     ]
    }
   ],
   "source": [
    "#%%time\n",
    "#PCA\n",
    "'''\n",
    "n_components = 3\n",
    "pca_columns = ['layer1_pca_{}'.format(i) for i in range(n_components)]\n",
    "for column in pca_columns:\n",
    "    train_X_with_layer_1[column] = 0\n",
    "pca = PCA(n_components=n_components)\n",
    "pca_representation = pca.fit_transform(train_X_scaled)\n",
    "train_X_with_layer_1.loc[:, pca_cols] = pca_representation\n",
    "'''\n",
    "\n",
    "#tsne = TSNE(n_components = 2)\n",
    "#tsne_representation = tsne.fit_transform(train_X_scaled[knn_features[:15]][:5000])\n",
    "\n",
    "folds = 5\n",
    "full_length = len(train_X_scaled)\n",
    "entries = int(full_length / folds)\n",
    "full_index = train_X_scaled.index\n",
    "fold_indices = []\n",
    "fold_indices_keep = []\n",
    "fold_indices_throw = []\n",
    "for column in leaky:\n",
    "    train_X_scaled[column] = 0\n",
    "for i in range(folds):\n",
    "    print ('Fold {}'.format(i))\n",
    "    indices = sorted(random.sample(list(full_index), entries))\n",
    "    fold_indices.append(indices)\n",
    "    full_index = full_index.drop(indices)\n",
    "\n",
    "    full_index_keep = np.zeros((full_length), dtype=np.bool)\n",
    "    full_index_throw = np.ones((full_length), dtype=np.bool)\n",
    "    for j in fold_indices[i]:\n",
    "        full_index_keep[j] = True\n",
    "        full_index_throw[j] = False\n",
    "    fold_indices_throw.append(full_index_throw)\n",
    "    fold_indices_keep.append(full_index_keep)\n",
    "    \n",
    "    xtr = train_X_scaled[full_index_throw]\n",
    "    ytr = train_y[full_index_throw]\n",
    "    xte = train_X_scaled[full_index_keep]\n",
    "    \n",
    "    '''\n",
    "    knn_features = ['bc_price', 'manager_worths', 'latitude', 'longitude', 'desc_words_length', 'Yday', 'building_worths', 'price_per_bedroom']\n",
    "    knn_n_closest = [2, 4, 8, 16, 32, 64, 128, 256, 512, 1024]\n",
    "    knn_columns = ['layer1_knn_{}_{}'.format(n_neighbors, category) for category in ['high', 'medium', 'low'] for n_neighbors in knn_n_closest]\n",
    "    for column in knn_columns:\n",
    "        train_X_with_layer_1[column] = 0\n",
    "    for n_neighbors in knn_n_closest:\n",
    "        #knn_dist = DistanceMetric.get_metric('mahalanobis', V=np.eye(len(knn_n_closest)))\n",
    "        knn = KNeighborsClassifier(n_neighbors=n_neighbors, metric='manhattan') # metric='manhattan'\n",
    "        knn.fit(train_X_scaled[knn_features][full_index_throw], train_y[full_index_throw])\n",
    "        knn_pred = knn.predict_proba(train_X_scaled[knn_features][full_index_keep])\n",
    "        new_cols = ['layer1_knn_{}_{}'.format(n_neighbors, category) for category in ['high', 'medium', 'low']]\n",
    "        train_X_with_layer_1.loc[indices, new_cols] = knn_pred\n",
    "    \n",
    "    ridge_columns = ['layer1_ridge_predictions']\n",
    "    for column in ridge_columns:\n",
    "        train_X_with_layer_1[column] = 0\n",
    "    ridge = Ridge()\n",
    "    ridge.fit(xtr, ytr)\n",
    "    ridge_predictions = ridge.predict(xte)\n",
    "    train_X_with_layer_1.loc[indices, 'layer1_ridge_predictions'] = ridge_predictions\n",
    "    \n",
    "    rf_columns = ['layer1_rf_{}_{}_predictions'.format(criterion, category) for category in ['high', 'medium', 'low'] for criterion in ['gini', 'entropy']]\n",
    "    for column in rf_columns:\n",
    "        train_X_with_layer_1[column] = 0\n",
    "    for criterion in ['gini', 'entropy']:\n",
    "        rf = RandomForestClassifier(\n",
    "            n_estimators=25,\n",
    "            criterion=criterion,\n",
    "            max_features='auto',\n",
    "            min_samples_split=20)\n",
    "\n",
    "        rf.fit(xtr, ytr)\n",
    "        rf_predictions = rf.predict_proba(xte)\n",
    "        new_cols = ['layer1_rf_{}_{}_predictions'.format(criterion, category) for category in ['high', 'medium', 'low']]\n",
    "        train_X_with_layer_1.loc[indices, new_cols] = rf_predictions\n",
    "    \n",
    "    k_means_columns = ['layer1_k_means_{}_{}'.format(n_clusters, index) for index in range(n_clusters) for n_clusters in [2, 4, 8]]\n",
    "    for column in k_means_columns:\n",
    "        train_X_with_layer_1[column] = 0\n",
    "    for n_clusters in [2, 4, 8]:\n",
    "        k_means = KMeans(n_clusters=n_clusters)\n",
    "        k_means.fit(xtr[knn_features], ytr)\n",
    "        k_means_indices = k_means.predict(xte[knn_features])\n",
    "        new_cols = ['layer1_k_means_{}_{}'.format(n_clusters, index) for index in range(n_clusters)]\n",
    "        train_X_with_layer_1.loc[indices, new_cols] = np.eye(n_clusters)[k_means_indices]\n",
    "    '''"
   ]
  },
  {
   "cell_type": "code",
   "execution_count": 180,
   "metadata": {
    "collapsed": true
   },
   "outputs": [],
   "source": [
    "train_X_with_layer_1.to_json('data/train_scaled_with_leaky_and_added_features_cv.json', orient='records')"
   ]
  },
  {
   "cell_type": "code",
   "execution_count": 276,
   "metadata": {
    "collapsed": true
   },
   "outputs": [],
   "source": [
    "from keras.layers.normalization import BatchNormalization\n",
    "from keras import regularizers\n",
    "from keras.layers.core import ActivityRegularization\n",
    "def create_model(xtr, layer1=256, layer2=32, activation='tanh', activation2=PReLU, dropout=0.75):\n",
    "    model = Sequential()\n",
    "    \n",
    "    model.add(Dense(layer1,\n",
    "                    input_dim=xtr.shape[1],\n",
    "                    init = 'he_normal',\n",
    "                    activation=activation))\n",
    "                    #kernel_regularizer=regularizers.l2(0.01),\n",
    "                    #activity_regularizer=regularizers.activity_l2(0.005)))\n",
    "    #model.add(Dense(64, input_dim=64, W_regularizer=l2(0.01), activity_regularizer=activity_l2(0.01)))\n",
    "    \n",
    "    model.add(BatchNormalization())\n",
    "    model.add(Dropout(dropout))\n",
    "    if activation2 != None:\n",
    "        model.add(activation2())\n",
    "\n",
    "    model.add(Dense(layer2,\n",
    "                    init = 'he_normal',\n",
    "                    activation=activation))\n",
    "                    #activity_regularizer=regularizers.activity_l2(0.005)))\n",
    "    model.add(BatchNormalization())    \n",
    "    model.add(Dropout(dropout))\n",
    "    if activation2 != None:\n",
    "        model.add(activation2())\n",
    "\n",
    "    model.add(Dense(3, init = 'he_normal', activation='softmax'))\n",
    "    model.compile(loss = 'categorical_crossentropy', optimizer = 'adam')\n",
    "    return model"
   ]
  },
  {
   "cell_type": "code",
   "execution_count": 268,
   "metadata": {
    "collapsed": true
   },
   "outputs": [],
   "source": [
    "def test_nn_with_columns(X, y, columns_to_include, layer1, layer2, activation, activation2, dropout):\n",
    "    scaler = StandardScaler()\n",
    "    X_scaled = pd.DataFrame(scaler.fit_transform(X), columns=X.columns)\n",
    "    \n",
    "    ntrain = int(len(X_scaled) * 0.75)\n",
    "\n",
    "    xtr = X_scaled[columns_to_include][:ntrain]\n",
    "    ytr = y[:ntrain].values\n",
    "    ytr_one_hot = np.eye(3)[ytr]\n",
    "    xte = X_scaled[columns_to_include][ntrain:]\n",
    "    yte = y[ntrain:].values\n",
    "    yte_one_hot = np.eye(3)[yte]\n",
    "\n",
    "    filepath = 'data/nn_weights'\n",
    "\n",
    "    logger = NBatchLogger()\n",
    "    early_stop = EarlyStopping(monitor='val_loss', patience=40, verbose=0)\n",
    "    checkpoint = ModelCheckpoint(filepath, monitor='val_loss', verbose=0, save_best_only=True)\n",
    "    model = create_model(xtr, layer1, layer2, activation, activation2, dropout)\n",
    "    model.fit(xtr.values, ytr_one_hot, nb_epoch = 1200, batch_size=1000, verbose = 0, validation_data=[xte.values, yte_one_hot], callbacks=[logger, early_stop, checkpoint])\n",
    "    model = create_model(xtr, layer1, layer2, activation, activation2, dropout)\n",
    "    model.load_weights(filepath)\n",
    "    return log_loss(yte_one_hot, model.predict(xte.values))"
   ]
  },
  {
   "cell_type": "code",
   "execution_count": null,
   "metadata": {
    "collapsed": true
   },
   "outputs": [],
   "source": []
  },
  {
   "cell_type": "code",
   "execution_count": null,
   "metadata": {
    "collapsed": true
   },
   "outputs": [],
   "source": []
  },
  {
   "cell_type": "markdown",
   "metadata": {},
   "source": [
    "# actually build model"
   ]
  },
  {
   "cell_type": "code",
   "execution_count": 274,
   "metadata": {
    "collapsed": false
   },
   "outputs": [],
   "source": [
    "ntrain = int(len(train_X_with_layer_1) * 0.75)\n",
    "\n",
    "scaler = StandardScaler()\n",
    "\n",
    "xtr = train_X_with_layer_1[:ntrain]\n",
    "xtr = pd.DataFrame(scaler.fit_transform(xtr), columns=xtr.columns)\n",
    "ytr = train_y[:ntrain].values\n",
    "ytr_one_hot = np.eye(3)[ytr]\n",
    "xte = train_X_with_layer_1[ntrain:]\n",
    "xte = pd.DataFrame(scaler.transform(xte), columns=xte.columns)\n",
    "yte = train_y[ntrain:].values\n",
    "yte_one_hot = np.eye(3)[yte]"
   ]
  },
  {
   "cell_type": "code",
   "execution_count": 317,
   "metadata": {
    "collapsed": false
   },
   "outputs": [
    {
     "name": "stdout",
     "output_type": "stream",
     "text": [
      "[0]\ttrain-mlogloss:1.09111+1.37637e-05\ttest-mlogloss:1.09132+3.47597e-05\n",
      "[200]\ttrain-mlogloss:0.572365+0.000966518\ttest-mlogloss:0.606583+0.00289119\n",
      "[400]\ttrain-mlogloss:0.495784+0.00111757\ttest-mlogloss:0.556851+0.00274886\n",
      "[600]\ttrain-mlogloss:0.46142+0.00115805\ttest-mlogloss:0.546969+0.00247487\n",
      "[800]\ttrain-mlogloss:0.435288+0.00122307\ttest-mlogloss:0.543303+0.00232122\n",
      "[1000]\ttrain-mlogloss:0.412388+0.00110456\ttest-mlogloss:0.541574+0.00211891\n",
      "[1200]\ttrain-mlogloss:0.391678+0.0010726\ttest-mlogloss:0.540466+0.00189828\n",
      "[1400]\ttrain-mlogloss:0.372348+0.00112275\ttest-mlogloss:0.539871+0.00179687\n",
      "0.5397984\n",
      "1429\n",
      "0.546284733463\n",
      "CPU times: user 3h 44s, sys: 5min 4s, total: 3h 5min 48s\n",
      "Wall time: 53min 48s\n"
     ]
    }
   ],
   "source": [
    "%%time\n",
    "NFOLDS = 5\n",
    "y_map = {'low': 2, 'medium': 1, 'high': 0}\n",
    "\n",
    "xgb_cols = all_columns + k_means_columns + knn_columns + ridge_columns + pca_columns + rf_columns\n",
    "\n",
    "params = {\n",
    "    'eta':.01,\n",
    "    'colsample_bytree':.6,\n",
    "    'subsample':.6,\n",
    "    'nthread':16,\n",
    "    'objective':'multi:softprob',\n",
    "    'eval_metric':'mlogloss',\n",
    "    'num_class':3,\n",
    "    'silent':1\n",
    "}\n",
    "\n",
    "dtrain = xgb.DMatrix(data=xtr[xgb_cols], label=ytr)\n",
    "\n",
    "bst = xgb.cv(params, dtrain, 10000, NFOLDS, early_stopping_rounds=50, verbose_eval=200)\n",
    "best_rounds = np.argmin(bst['test-mlogloss-mean'])\n",
    "print (bst['test-mlogloss-mean'][best_rounds])\n",
    "print (best_rounds)\n",
    "\n",
    "dtest = xgb.DMatrix(data=xte[xgb_cols])\n",
    "bst = xgb.train(params, dtrain, best_rounds)\n",
    "xgb_preds = bst.predict(dtest)\n",
    "print(log_loss(yte_one_hot, xgb_preds))\n",
    "# 0.539725"
   ]
  },
  {
   "cell_type": "code",
   "execution_count": 307,
   "metadata": {
    "collapsed": false
   },
   "outputs": [
    {
     "name": "stdout",
     "output_type": "stream",
     "text": [
      "0.58044096863\n",
      "CPU times: user 11min 51s, sys: 58.1 s, total: 12min 50s\n",
      "Wall time: 10min 9s\n"
     ]
    }
   ],
   "source": [
    "%%time\n",
    "filepath = 'data/nn_weights'\n",
    "\n",
    "nn_cols = all_columns + knn_columns + ridge_columns + k_means_columns\n",
    "\n",
    "logger = NBatchLogger()\n",
    "early_stop = EarlyStopping(monitor='val_loss', patience=40, verbose=0)\n",
    "checkpoint = ModelCheckpoint(filepath, monitor='val_loss', verbose=0, save_best_only=True)\n",
    "model = create_model(xtr[nn_cols])\n",
    "model.fit(xtr[nn_cols].values, ytr_one_hot, nb_epoch = 1200, batch_size=1000, verbose = 0, validation_data=[xte[nn_cols].values, yte_one_hot], callbacks=[logger, early_stop, checkpoint])\n",
    "\n",
    "model = create_model(xtr[nn_cols])\n",
    "model.load_weights(filepath)\n",
    "nn_preds = model.predict(xte[nn_cols].values)\n",
    "print(log_loss(yte_one_hot, nn_preds))\n",
    "# 0.58044096863"
   ]
  },
  {
   "cell_type": "code",
   "execution_count": 310,
   "metadata": {
    "collapsed": false
   },
   "outputs": [
    {
     "name": "stdout",
     "output_type": "stream",
     "text": [
      "0.6084469079023 (test loss 0.5014715811903182)\n",
      "CPU times: user 10 s, sys: 158 ms, total: 10.2 s\n",
      "Wall time: 10.2 s\n"
     ]
    }
   ],
   "source": [
    "%%time\n",
    "et_cols = all_columns# + knn_columns + ridge_columns + k_means_columns\n",
    "\n",
    "test = ExtraTreesClassifier(\n",
    "    n_estimators=100,\n",
    "    criterion='entropy',\n",
    "    max_features='auto',\n",
    "    min_samples_split=50)\n",
    "\n",
    "test.fit(xtr[et_cols], ytr)\n",
    "            \n",
    "et_train_predictions = test.predict_proba(xtr[et_cols])\n",
    "et_predictions = test.predict_proba(xte[et_cols])\n",
    "print ('{} (test loss {})'.format(log_loss(yte_one_hot, et_predictions), log_loss(ytr_one_hot, et_train_predictions)))\n",
    "# 0.5989926646715679"
   ]
  },
  {
   "cell_type": "code",
   "execution_count": 309,
   "metadata": {
    "collapsed": false
   },
   "outputs": [
    {
     "name": "stdout",
     "output_type": "stream",
     "text": [
      "0.5867972591837729 (test loss 0.4744615099148531)\n",
      "CPU times: user 11.2 s, sys: 297 ms, total: 11.5 s\n",
      "Wall time: 11.6 s\n"
     ]
    }
   ],
   "source": [
    "%%time\n",
    "rf_cols = all_columns# + knn_columns + ridge_columns + k_means_columns\n",
    "\n",
    "test = RandomForestClassifier(\n",
    "    n_estimators=100,\n",
    "    criterion='entropy',\n",
    "    max_features='auto',\n",
    "    min_samples_split=50)\n",
    "\n",
    "test.fit(xtr[rf_cols], ytr)\n",
    "            \n",
    "rf_train_predictions = test.predict_proba(xtr[rf_cols])\n",
    "rf_predictions = test.predict_proba(xte[rf_cols])\n",
    "print ('{} (test loss {})'.format(log_loss(yte_one_hot, rf_predictions), log_loss(ytr_one_hot, rf_train_predictions)))\n",
    "# 0.5814357939419752"
   ]
  },
  {
   "cell_type": "code",
   "execution_count": 304,
   "metadata": {
    "collapsed": false
   },
   "outputs": [
    {
     "name": "stdout",
     "output_type": "stream",
     "text": [
      "0.6644185840766779 (test loss 0.6542689234451893)\n",
      "CPU times: user 5min 38s, sys: 4.82 s, total: 5min 43s\n",
      "Wall time: 5min 55s\n"
     ]
    }
   ],
   "source": [
    "%%time\n",
    "test = KNeighborsClassifier(n_neighbors=500)\n",
    "test.fit(xtr[non_sparse_cols], ytr)\n",
    "\n",
    "knn_train_predictions = test.predict_proba(xtr[non_sparse_cols])\n",
    "knn_predictions = test.predict_proba(xte[non_sparse_cols])\n",
    "print ('{} (test loss {})'.format(log_loss(yte_one_hot, knn_predictions), log_loss(ytr_one_hot, knn_train_predictions)))"
   ]
  },
  {
   "cell_type": "code",
   "execution_count": 305,
   "metadata": {
    "collapsed": false
   },
   "outputs": [
    {
     "name": "stdout",
     "output_type": "stream",
     "text": [
      "0.6542388412538083 (test loss 0.6351798773827041)\n",
      "CPU times: user 49.6 s, sys: 1.34 s, total: 51 s\n",
      "Wall time: 52.1 s\n"
     ]
    }
   ],
   "source": [
    "%%time\n",
    "test = KNeighborsClassifier(n_neighbors=500)\n",
    "test.fit(xtr[knn_features], ytr)\n",
    "\n",
    "knn_train_predictions = test.predict_proba(xtr[knn_features])\n",
    "knn_predictions = test.predict_proba(xte[knn_features])\n",
    "print ('{} (test loss {})'.format(log_loss(yte_one_hot, knn_predictions), log_loss(ytr_one_hot, knn_train_predictions)))"
   ]
  },
  {
   "cell_type": "code",
   "execution_count": null,
   "metadata": {
    "collapsed": true
   },
   "outputs": [],
   "source": [
    "print(log_loss(yte_one_hot, xgb_preds))\n",
    "mixed_preds = (0.75 * xgb_preds) + (0.25 * nn_preds)\n",
    "print(log_loss(yte_one_hot, mixed_preds))"
   ]
  },
  {
   "cell_type": "code",
   "execution_count": null,
   "metadata": {
    "collapsed": true
   },
   "outputs": [],
   "source": [
    "train thing on whether or not each classifier did a good job (minimize distance from correct?)\n",
    "use result to go with the best prediction blended from models"
   ]
  },
  {
   "cell_type": "code",
   "execution_count": null,
   "metadata": {
    "collapsed": true
   },
   "outputs": [],
   "source": []
  },
  {
   "cell_type": "code",
   "execution_count": null,
   "metadata": {
    "collapsed": true
   },
   "outputs": [],
   "source": []
  },
  {
   "cell_type": "code",
   "execution_count": 45,
   "metadata": {
    "collapsed": true
   },
   "outputs": [],
   "source": [
    "#new_vects = ['tf_idf_' + x[7:] for x in sparse_cols]\n",
    "#sparse = processed_train[sparse_cols]\n",
    "#tf_idfs = TfidfTransformer().fit_transform(sparse)\n",
    "#tf_idfs_df = pd.DataFrame(tf_idfs.toarray(), columns=new_vects)\n",
    "#processed_train = processed_train.join(tf_idfs_df, how='left')"
   ]
  },
  {
   "cell_type": "markdown",
   "metadata": {},
   "source": [
    "# Ridge Lasso Elastic"
   ]
  },
  {
   "cell_type": "code",
   "execution_count": 308,
   "metadata": {
    "collapsed": false
   },
   "outputs": [
    {
     "data": {
      "text/plain": [
       "ElasticNet(alpha=1.0, copy_X=True, fit_intercept=True, l1_ratio=0.5,\n",
       "      max_iter=1000, normalize=False, positive=False, precompute=False,\n",
       "      random_state=None, selection='cyclic', tol=0.0001, warm_start=False)"
      ]
     },
     "execution_count": 308,
     "metadata": {},
     "output_type": "execute_result"
    }
   ],
   "source": [
    "las = Lasso()\n",
    "enet = ElasticNet()\n",
    "las.fit(xte, yte)\n",
    "enet.fit(xte, yte)"
   ]
  },
  {
   "cell_type": "code",
   "execution_count": 309,
   "metadata": {
    "collapsed": false
   },
   "outputs": [
    {
     "name": "stdout",
     "output_type": "stream",
     "text": [
      "0.0\n",
      "10.478087214\n"
     ]
    }
   ],
   "source": [
    "print (las.score(xte, yte))\n",
    "predictions = las.predict(xte)\n",
    "print (log_loss(yte_one_hot, np.eye(3)[np.round(predictions).astype(int)]))"
   ]
  },
  {
   "cell_type": "code",
   "execution_count": 310,
   "metadata": {
    "collapsed": false
   },
   "outputs": [
    {
     "name": "stdout",
     "output_type": "stream",
     "text": [
      "0.0\n",
      "10.478087214\n"
     ]
    }
   ],
   "source": [
    "print (enet.score(xte, yte))\n",
    "predictions = enet.predict(xte)\n",
    "print (log_loss(yte_one_hot, np.eye(3)[np.round(predictions).astype(int)]))"
   ]
  },
  {
   "cell_type": "code",
   "execution_count": 42,
   "metadata": {
    "collapsed": true
   },
   "outputs": [],
   "source": [
    "for coef, column in zip(enet.coef_, train_X.columns):\n",
    "    if coef != 0:\n",
    "        print (column, \": \", coef)"
   ]
  },
  {
   "cell_type": "code",
   "execution_count": 43,
   "metadata": {
    "collapsed": true
   },
   "outputs": [],
   "source": [
    "for coef, column in zip(las.coef_, train_X.columns):\n",
    "    if coef != 0:\n",
    "        print (column, \": \", coef)"
   ]
  },
  {
   "cell_type": "code",
   "execution_count": null,
   "metadata": {
    "collapsed": true
   },
   "outputs": [],
   "source": []
  },
  {
   "cell_type": "markdown",
   "metadata": {},
   "source": [
    "# TREES"
   ]
  },
  {
   "cell_type": "code",
   "execution_count": 322,
   "metadata": {
    "collapsed": false
   },
   "outputs": [
    {
     "name": "stdout",
     "output_type": "stream",
     "text": [
      "0.5843451108603969 (test loss 0.3912286072900344)\n"
     ]
    }
   ],
   "source": [
    "test = ExtraTreesClassifier(\n",
    "    n_estimators=100,\n",
    "    max_features='auto',\n",
    "    min_samples_split=20)\n",
    "\n",
    "test.fit(xtr, ytr)\n",
    "            \n",
    "predictions = test.predict_proba(xtr)\n",
    "et_predictions = test.predict_proba(xte)\n",
    "print ('{} (test loss {})'.format(log_loss(yte_one_hot, et_predictions), log_loss(ytr_one_hot, predictions)))"
   ]
  },
  {
   "cell_type": "code",
   "execution_count": 323,
   "metadata": {
    "collapsed": false
   },
   "outputs": [
    {
     "name": "stdout",
     "output_type": "stream",
     "text": [
      "0.5841850290743527 (test loss 0.3945679429419886)\n"
     ]
    }
   ],
   "source": [
    "test = ExtraTreesClassifier(\n",
    "    n_estimators=100,\n",
    "    criterion='entropy',\n",
    "    max_features='auto',\n",
    "    min_samples_split=20)\n",
    "\n",
    "test.fit(xtr, ytr)\n",
    "            \n",
    "predictions = test.predict_proba(xtr)\n",
    "et_ent_predictions = test.predict_proba(xte)\n",
    "print ('{} (test loss {})'.format(log_loss(yte_one_hot, et_ent_predictions), log_loss(ytr_one_hot, predictions)))"
   ]
  },
  {
   "cell_type": "code",
   "execution_count": 311,
   "metadata": {
    "collapsed": false
   },
   "outputs": [
    {
     "name": "stdout",
     "output_type": "stream",
     "text": [
      "0.5702881670274706 (test loss 0.34260988988913094)\n"
     ]
    }
   ],
   "source": [
    "test = RandomForestClassifier(\n",
    "    n_estimators=100,\n",
    "    max_features='auto',\n",
    "    min_samples_split=20)\n",
    "\n",
    "test.fit(xtr, ytr)\n",
    "            \n",
    "_predictions = test.predict_proba(xtr)\n",
    "_rf_predictions = test.predict_proba(xte)\n",
    "print ('{} (test loss {})'.format(log_loss(yte_one_hot, _rf_predictions), log_loss(ytr_one_hot, _predictions)))"
   ]
  },
  {
   "cell_type": "code",
   "execution_count": 312,
   "metadata": {
    "collapsed": false
   },
   "outputs": [
    {
     "name": "stdout",
     "output_type": "stream",
     "text": [
      "0.5690015004443815 (test loss 0.34470505904504534)\n"
     ]
    }
   ],
   "source": [
    "test = RandomForestClassifier(\n",
    "    n_estimators=100,\n",
    "    criterion='entropy',\n",
    "    max_features='auto',\n",
    "    min_samples_split=20)\n",
    "\n",
    "test.fit(xtr, ytr)\n",
    "            \n",
    "_predictions = test.predict_proba(xtr)\n",
    "_rf_ent_predictions = test.predict_proba(xte)\n",
    "print ('{} (test loss {})'.format(log_loss(yte_one_hot, _rf_ent_predictions), log_loss(ytr_one_hot, _predictions)))"
   ]
  },
  {
   "cell_type": "code",
   "execution_count": 337,
   "metadata": {
    "collapsed": false
   },
   "outputs": [
    {
     "data": {
      "text/plain": [
       "0.56688904952650898"
      ]
     },
     "execution_count": 337,
     "metadata": {},
     "output_type": "execute_result"
    }
   ],
   "source": [
    "pred_mixed = (0.01 * et_predictions + 0.01 * et_ent_predictions + 0.49 * rf_predictions + 0.49 * rf_ent_predictions)\n",
    "log_loss(yte_one_hot, pred_mixed)"
   ]
  },
  {
   "cell_type": "code",
   "execution_count": 12,
   "metadata": {
    "collapsed": false
   },
   "outputs": [
    {
     "name": "stdout",
     "output_type": "stream",
     "text": [
      "7.076257047822155 (test loss 0.23129250627049086)\n",
      "CPU times: user 3min 15s, sys: 1.48 s, total: 3min 16s\n",
      "Wall time: 3min 20s\n"
     ]
    }
   ],
   "source": [
    "%%time\n",
    "test = KNeighborsClassifier(n_neighbors=2)\n",
    "test.fit(xtr[non_sparse_cols], ytr)\n",
    "\n",
    "predictions = test.predict_proba(xtr[non_sparse_cols])\n",
    "rf_ent_predictions = test.predict_proba(xte[non_sparse_cols])"
   ]
  },
  {
   "cell_type": "code",
   "execution_count": 13,
   "metadata": {
    "collapsed": false
   },
   "outputs": [
    {
     "name": "stdout",
     "output_type": "stream",
     "text": [
      "2.997161309463761 (test loss 0.4189513500335195)\n",
      "CPU times: user 3min 36s, sys: 1.02 s, total: 3min 37s\n",
      "Wall time: 3min 38s\n"
     ]
    }
   ],
   "source": [
    "%%time\n",
    "test = KNeighborsClassifier(n_neighbors=5)\n",
    "test.fit(xtr[non_sparse_cols], ytr)\n",
    "\n",
    "predictions_2 = test.predict_proba(xtr[non_sparse_cols])\n",
    "rf_ent_predictions_2 = test.predict_proba(xte[non_sparse_cols])"
   ]
  },
  {
   "cell_type": "code",
   "execution_count": 14,
   "metadata": {
    "collapsed": false
   },
   "outputs": [
    {
     "name": "stdout",
     "output_type": "stream",
     "text": [
      "1.5474359459916005 (test loss 0.4994428601539661)\n",
      "CPU times: user 3min 48s, sys: 839 ms, total: 3min 49s\n",
      "Wall time: 3min 50s\n"
     ]
    }
   ],
   "source": [
    "%%time\n",
    "test = KNeighborsClassifier(n_neighbors=10)\n",
    "test.fit(xtr[non_sparse_cols], ytr)\n",
    "\n",
    "predictions_3 = test.predict_proba(xtr[non_sparse_cols])\n",
    "rf_ent_predictions_3 = test.predict_proba(xte[non_sparse_cols])"
   ]
  },
  {
   "cell_type": "code",
   "execution_count": 21,
   "metadata": {
    "collapsed": false
   },
   "outputs": [
    {
     "name": "stdout",
     "output_type": "stream",
     "text": [
      "0.6344317626130038 (test loss 0.6195293255389913)\n",
      "CPU times: user 4min 34s, sys: 1.19 s, total: 4min 35s\n",
      "Wall time: 4min 36s\n"
     ]
    }
   ],
   "source": [
    "%%time\n",
    "test = KNeighborsClassifier(n_neighbors=200)\n",
    "test.fit(xtr[non_sparse_cols], ytr)\n",
    "\n",
    "predictions_6 = test.predict_proba(xtr[non_sparse_cols])\n",
    "rf_ent_predictions_6 = test.predict_proba(xte[non_sparse_cols])\n",
    "print ('{} (test loss {})'.format(log_loss(yte_one_hot, rf_ent_predictions_6), log_loss(ytr_one_hot, predictions_6)))"
   ]
  },
  {
   "cell_type": "code",
   "execution_count": null,
   "metadata": {
    "collapsed": true
   },
   "outputs": [],
   "source": [
    "for feat, importance in zip(processed_train[cols].columns, clf.feature_importances_):\n",
    "    if not np.isnan(importance) and importance > 0:\n",
    "        print (feat, \": \", importance)"
   ]
  },
  {
   "cell_type": "code",
   "execution_count": 345,
   "metadata": {
    "collapsed": false
   },
   "outputs": [
    {
     "name": "stdout",
     "output_type": "stream",
     "text": [
      "nn:  0.563593691555\n",
      "ab:  0.566889049527\n",
      "combo:  0.55827286106\n"
     ]
    }
   ],
   "source": [
    "print (\"nn: \", log_loss(yte_one_hot, nn_predictions))\n",
    "print (\"ab: \", log_loss(yte_one_hot, pred_mixed))\n",
    "frac_nn = 0.2\n",
    "averaged_preds = (nn_predictions * frac_nn) + (pred_mixed * (1 - frac_nn))\n",
    "print (\"combo: \", log_loss(yte_one_hot, averaged_preds))"
   ]
  },
  {
   "cell_type": "code",
   "execution_count": null,
   "metadata": {
    "collapsed": true
   },
   "outputs": [],
   "source": [
    "train_X = pd.read_json('data/train_leaky.json')\n",
    "train_y = pd.read_json('data/train_interest.json')[0]\n",
    "scaler = StandardScaler().fit(train_X)\n",
    "train_X = pd.DataFrame(scaler.transform(train_X), columns=columns)\n",
    "test_X = pd.read_json('data/test_leaky.json')\n",
    "test_X = pd.DataFrame(scaler.transform(test_X), columns=columns)\n",
    "listing_id = pd.read_json('data/test_ids.json').values\n",
    "preds = pd.read_csv('data/my_best_preds.csv')"
   ]
  },
  {
   "cell_type": "code",
   "execution_count": 295,
   "metadata": {
    "collapsed": true
   },
   "outputs": [],
   "source": [
    "preds = pd.read_csv('data/my_best_preds.csv')"
   ]
  },
  {
   "cell_type": "code",
   "execution_count": 313,
   "metadata": {
    "collapsed": true
   },
   "outputs": [],
   "source": [
    "et_clf = ExtraTreesClassifier(\n",
    "    n_estimators=100,\n",
    "    criterion='gini',\n",
    "    max_features='auto',\n",
    "    min_samples_split=20)\n",
    "et_clf.fit(train_X, train_y)          \n",
    "et_predictions = et_clf.predict_proba(test_X)"
   ]
  },
  {
   "cell_type": "code",
   "execution_count": 314,
   "metadata": {
    "collapsed": true
   },
   "outputs": [],
   "source": [
    "et_clf_ent = ExtraTreesClassifier(\n",
    "    n_estimators=100,\n",
    "    criterion='entropy',\n",
    "    max_features='auto',\n",
    "    min_samples_split=20)\n",
    "et_clf_ent.fit(train_X, train_y)          \n",
    "et_ent_predictions = et_clf_ent.predict_proba(test_X)"
   ]
  },
  {
   "cell_type": "code",
   "execution_count": 316,
   "metadata": {
    "collapsed": true
   },
   "outputs": [],
   "source": [
    "rf_clf = RandomForestClassifier(\n",
    "    n_estimators=100,\n",
    "    criterion='gini',\n",
    "    min_samples_split=20)\n",
    "rf_clf.fit(train_X, train_y)          \n",
    "rf_predictions = rf_clf.predict_proba(test_X)"
   ]
  },
  {
   "cell_type": "code",
   "execution_count": 317,
   "metadata": {
    "collapsed": true
   },
   "outputs": [],
   "source": [
    "rf_clf_ent = RandomForestClassifier(\n",
    "    n_estimators=100,\n",
    "    criterion='entropy',\n",
    "    min_samples_split=20)\n",
    "rf_clf_ent.fit(train_X, train_y)          \n",
    "rf_ent_predictions = rf_clf_ent.predict_proba(test_X)"
   ]
  },
  {
   "cell_type": "code",
   "execution_count": 259,
   "metadata": {
    "collapsed": true
   },
   "outputs": [],
   "source": [
    "nn_predictions = model.predict(test_X.values)"
   ]
  },
  {
   "cell_type": "code",
   "execution_count": 297,
   "metadata": {
    "collapsed": false
   },
   "outputs": [],
   "source": [
    "xgb_predictions = preds[['high', 'medium', 'low']].values"
   ]
  },
  {
   "cell_type": "code",
   "execution_count": 303,
   "metadata": {
    "collapsed": false
   },
   "outputs": [],
   "source": [
    "new_preds = (0.8 * xgb_predictions) + (0.15 * nn_predictions) + (0.05 * et_predictions)"
   ]
  },
  {
   "cell_type": "code",
   "execution_count": 304,
   "metadata": {
    "collapsed": false
   },
   "outputs": [],
   "source": [
    "new_preds_df = pd.DataFrame(new_preds, columns=['high', 'medium', 'low'])\n",
    "new_preds_df['listing_id'] = preds['listing_id']"
   ]
  },
  {
   "cell_type": "code",
   "execution_count": 306,
   "metadata": {
    "collapsed": true
   },
   "outputs": [],
   "source": [
    "new_preds_df.to_csv('data/combined_preds.csv', index=None)"
   ]
  },
  {
   "cell_type": "code",
   "execution_count": null,
   "metadata": {
    "collapsed": true
   },
   "outputs": [],
   "source": []
  }
 ],
 "metadata": {
  "kernelspec": {
   "display_name": "Python 3",
   "language": "python",
   "name": "python3"
  },
  "language_info": {
   "codemirror_mode": {
    "name": "ipython",
    "version": 3
   },
   "file_extension": ".py",
   "mimetype": "text/x-python",
   "name": "python",
   "nbconvert_exporter": "python",
   "pygments_lexer": "ipython3",
   "version": "3.5.3"
  }
 },
 "nbformat": 4,
 "nbformat_minor": 0
}
