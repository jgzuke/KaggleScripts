{
 "cells": [
  {
   "cell_type": "code",
   "execution_count": 2,
   "metadata": {
    "collapsed": false
   },
   "outputs": [
    {
     "name": "stderr",
     "output_type": "stream",
     "text": [
      "/Users/jgzuke/anaconda3/lib/python3.5/site-packages/sklearn/cross_validation.py:44: DeprecationWarning: This module was deprecated in version 0.18 in favor of the model_selection module into which all the refactored classes and functions are moved. Also note that the interface of the new CV iterators are different from that of this module. This module will be removed in 0.20.\n",
      "  \"This module will be removed in 0.20.\", DeprecationWarning)\n",
      "Using Theano backend.\n"
     ]
    }
   ],
   "source": [
    "%matplotlib inline\n",
    "import math\n",
    "import numpy as np\n",
    "import pandas as pd\n",
    "import random\n",
    "import xgboost as xgb\n",
    "from sklearn import preprocessing, model_selection\n",
    "from sklearn.metrics import log_loss\n",
    "import string\n",
    "from sklearn.metrics import log_loss\n",
    "from sklearn.feature_extraction.text import  CountVectorizer\n",
    "from scipy.stats import boxcox\n",
    "from scipy import stats\n",
    "from scipy import sparse\n",
    "from sklearn.preprocessing import StandardScaler\n",
    "from sklearn.linear_model import Lasso\n",
    "from sklearn.linear_model import ElasticNet\n",
    "from sklearn.linear_model import RidgeClassifier\n",
    "from sklearn.linear_model import Ridge\n",
    "from sklearn.ensemble import AdaBoostClassifier\n",
    "from sklearn.ensemble import ExtraTreesClassifier\n",
    "from sklearn.ensemble import RandomForestClassifier\n",
    "from keras.models import Sequential\n",
    "from keras.layers import Dense, Dropout, Activation\n",
    "from keras.layers.normalization import BatchNormalization\n",
    "from keras.layers.advanced_activations import PReLU\n",
    "from keras.callbacks import EarlyStopping, ModelCheckpoint\n",
    "from sklearn.feature_extraction.text import TfidfTransformer\n",
    "from keras.regularizers import l2, activity_l2\n",
    "from sklearn.neighbors import KNeighborsClassifier\n",
    "from keras.callbacks import Callback\n",
    "import xgboost as xgb\n",
    "\n",
    "class NBatchLogger(Callback):\n",
    "    def __init__(self):\n",
    "        self.seen = 0\n",
    "\n",
    "    def on_epoch_end(self, batch, logs={}):\n",
    "        self.seen += 1\n",
    "        if self.seen % 500 == 0:\n",
    "            print('epoch {}: loss = {}, val = {}'.format(self.seen, logs['loss'], logs['val_loss'])) \n",
    "            \n",
    "class FakeDMatrix:\n",
    "    def __init__(self, data, labels=None):\n",
    "        self.data = data\n",
    "        self.labels = labels\n",
    "        self.num = len(data)\n",
    "\n",
    "    def num_row(self):\n",
    "        return self.num\n",
    "\n",
    "    def slice(self, rindex):\n",
    "        indices = np.zeros(self.num, dtype=np.bool)\n",
    "        for index in rindex:\n",
    "            indices[index] = True\n",
    "        return FakeDMatrix(data=self.data[indices], labels=self.labels[indices])"
   ]
  },
  {
   "cell_type": "code",
   "execution_count": 3,
   "metadata": {
    "collapsed": true
   },
   "outputs": [],
   "source": [
    "train_X = pd.read_json('data/train_scaled_with_leaky_and_added_features_cv.json', orient='records')\n",
    "train_y = pd.read_json('data/train_interest.json')[0]"
   ]
  },
  {
   "cell_type": "code",
   "execution_count": 4,
   "metadata": {
    "collapsed": true
   },
   "outputs": [],
   "source": [
    "cols_to_use = ['BoroCode',\n",
    " 'Day',\n",
    " 'Month',\n",
    " 'NTACode',\n",
    " 'Wday',\n",
    " 'Yday',\n",
    " 'Zero_building_id',\n",
    " 'Zero_manager_id',\n",
    " 'address_high_frac',\n",
    " 'address_low_frac',\n",
    " 'address_med_frac',\n",
    " 'address_worths',\n",
    " 'avenue',\n",
    " 'bathrooms',\n",
    " 'bc_price',\n",
    " 'bedrooms',\n",
    " 'boro_high_frac',\n",
    " 'boro_low_frac',\n",
    " 'boro_med_frac',\n",
    " 'boro_worths',\n",
    " 'building_high_frac',\n",
    " 'building_id',\n",
    " 'building_low_frac',\n",
    " 'building_med_frac',\n",
    " 'building_worths',\n",
    " 'desc_letters_count',\n",
    " 'desc_words_count',\n",
    " 'desc_words_length',\n",
    " 'display_address',\n",
    " 'east',\n",
    " 'features_count',\n",
    " 'hour',\n",
    " 'latitude',\n",
    " 'longitude',\n",
    " 'manager_high_frac',\n",
    " 'manager_id',\n",
    " 'manager_low_frac',\n",
    " 'manager_med_frac',\n",
    " 'manager_worths',\n",
    " 'north',\n",
    " 'nta_high_frac',\n",
    " 'nta_low_frac',\n",
    " 'nta_med_frac',\n",
    " 'nta_worths',\n",
    " 'other_address',\n",
    " 'photos_count',\n",
    " 'price_by_BoroCode',\n",
    " 'price_by_NTACode',\n",
    " 'price_by_area',\n",
    " 'price_by_building_id',\n",
    " 'price_by_display_address',\n",
    " 'price_by_manager_id',\n",
    " 'price_per_bathroom',\n",
    " 'price_per_bed_and_bath',\n",
    " 'price_per_bedroom',\n",
    " 'real_minus_expected_price',\n",
    " 'real_over_expected_price',\n",
    " 'south',\n",
    " 'sparse_24',\n",
    " 'sparse_2fullbaths',\n",
    " 'sparse_actualapt',\n",
    " 'sparse_airconditioning',\n",
    " 'sparse_allutilitiesincluded',\n",
    " 'sparse_assignedparkingspace',\n",
    " 'sparse_attendedlobby',\n",
    " 'sparse_backyard',\n",
    " 'sparse_balconies',\n",
    " 'sparse_balcony',\n",
    " 'sparse_basementstorage',\n",
    " 'sparse_bikeroom',\n",
    " 'sparse_bikestorage',\n",
    " 'sparse_billiardsroom',\n",
    " 'sparse_brownstone',\n",
    " 'sparse_buildingcommonoutdoorspace',\n",
    " 'sparse_businesscenter',\n",
    " 'sparse_cable',\n",
    " 'sparse_catsallowed',\n",
    " 'sparse_centrala',\n",
    " 'sparse_centralac',\n",
    " 'sparse_centralair',\n",
    " 'sparse_chef',\n",
    " 'sparse_chefskitchen',\n",
    " 'sparse_children',\n",
    " 'sparse_childrensplayroom',\n",
    " 'sparse_cityview',\n",
    " 'sparse_commonbackyard',\n",
    " 'sparse_commongarden',\n",
    " 'sparse_commonoutdoorspace',\n",
    " 'sparse_commonparking',\n",
    " 'sparse_commonroofdeck',\n",
    " 'sparse_commonterrace',\n",
    " 'sparse_communityrecreationfacilities',\n",
    " 'sparse_concierge',\n",
    " 'sparse_conciergeservice',\n",
    " 'sparse_condofinishes',\n",
    " 'sparse_cook',\n",
    " 'sparse_courtyard',\n",
    " 'sparse_deck',\n",
    " 'sparse_decorativefireplace',\n",
    " 'sparse_diningroom',\n",
    " 'sparse_dishwasher',\n",
    " 'sparse_dogsallowed',\n",
    " 'sparse_doorman',\n",
    " 'sparse_drycleaningservice',\n",
    " 'sparse_dryer',\n",
    " 'sparse_dryerinbuilding',\n",
    " 'sparse_dryerinunit',\n",
    " 'sparse_duplex',\n",
    " 'sparse_eatinkitchen',\n",
    " 'sparse_elev',\n",
    " 'sparse_elevator',\n",
    " 'sparse_elevbldg',\n",
    " 'sparse_exclusive',\n",
    " 'sparse_exposedbrick',\n",
    " 'sparse_fireplace',\n",
    " 'sparse_fireplaces',\n",
    " 'sparse_fitness',\n",
    " 'sparse_fitnesscenter',\n",
    " 'sparse_flex2',\n",
    " 'sparse_flex3',\n",
    " 'sparse_ftdoorman',\n",
    " 'sparse_fullservicegarage',\n",
    " 'sparse_fulltimedoorman',\n",
    " 'sparse_furnished',\n",
    " 'sparse_garage',\n",
    " 'sparse_garden',\n",
    " 'sparse_gourmetkitchen',\n",
    " 'sparse_granitecountertops',\n",
    " 'sparse_granitekitchen',\n",
    " 'sparse_greenbuilding',\n",
    " 'sparse_guarantorsaccepted',\n",
    " 'sparse_gutrenovated',\n",
    " 'sparse_gym',\n",
    " 'sparse_gyminbuilding',\n",
    " 'sparse_hardwood',\n",
    " 'sparse_hardwoodfloors',\n",
    " 'sparse_healthclub',\n",
    " 'sparse_highceiling',\n",
    " 'sparse_highceilings',\n",
    " 'sparse_highrise',\n",
    " 'sparse_highspeedinternet',\n",
    " 'sparse_hirise',\n",
    " 'sparse_housekeeping',\n",
    " 'sparse_indoorpool',\n",
    " 'sparse_inunitwasher',\n",
    " 'sparse_largelivingroom',\n",
    " 'sparse_laundry',\n",
    " 'sparse_laundryinbuilding',\n",
    " 'sparse_laundryinunit',\n",
    " 'sparse_laundryonfloor',\n",
    " 'sparse_laundryroom',\n",
    " 'sparse_light',\n",
    " 'sparse_live',\n",
    " 'sparse_liveinsuper',\n",
    " 'sparse_liveinsuperintendent',\n",
    " 'sparse_lndrybldg',\n",
    " 'sparse_loft',\n",
    " 'sparse_lounge',\n",
    " 'sparse_loungeroom',\n",
    " 'sparse_lowrise',\n",
    " 'sparse_luxurybuilding',\n",
    " 'sparse_mailroom',\n",
    " 'sparse_marblebath',\n",
    " 'sparse_marblebathroom',\n",
    " 'sparse_microwave',\n",
    " 'sparse_midrise',\n",
    " 'sparse_mrcleanapproved',\n",
    " 'sparse_multilevel',\n",
    " 'sparse_new',\n",
    " 'sparse_newconstruction',\n",
    " 'sparse_newlyrenovated',\n",
    " 'sparse_nofee',\n",
    " 'sparse_nopets',\n",
    " 'sparse_nursery',\n",
    " 'sparse_onsitegarage',\n",
    " 'sparse_onsitelaundry',\n",
    " 'sparse_onsiteparking',\n",
    " 'sparse_onsiteparkingavailable',\n",
    " 'sparse_onsiteparkinglot',\n",
    " 'sparse_onsitesuper',\n",
    " 'sparse_ornateprewardetails',\n",
    " 'sparse_outdoorareas',\n",
    " 'sparse_outdoorentertainmentspace',\n",
    " 'sparse_outdoorpool',\n",
    " 'sparse_outdoorspace',\n",
    " 'sparse_packageroom',\n",
    " 'sparse_parking',\n",
    " 'sparse_parkingspace',\n",
    " 'sparse_patio',\n",
    " 'sparse_penthouse',\n",
    " 'sparse_petfriendly',\n",
    " 'sparse_pets',\n",
    " 'sparse_petsallowed',\n",
    " 'sparse_petsok',\n",
    " 'sparse_petsonapproval',\n",
    " 'sparse_photos',\n",
    " 'sparse_playroom',\n",
    " 'sparse_pool',\n",
    " 'sparse_postwar',\n",
    " 'sparse_prewar',\n",
    " 'sparse_privatebackyard',\n",
    " 'sparse_privatebalcony',\n",
    " 'sparse_privatedeck',\n",
    " 'sparse_privatelaundryroomoneveryfloor',\n",
    " 'sparse_privateoutdoorspace',\n",
    " 'sparse_privateparking',\n",
    " 'sparse_privateroofdeck',\n",
    " 'sparse_privateterrace',\n",
    " 'sparse_publicoutdoor',\n",
    " 'sparse_reducedfee',\n",
    " 'sparse_renovated',\n",
    " 'sparse_residentsgarden',\n",
    " 'sparse_residentslounge',\n",
    " 'sparse_roofaccess',\n",
    " 'sparse_roofdeck',\n",
    " 'sparse_rooftopdeck',\n",
    " 'sparse_rooftopterrace',\n",
    " 'sparse_roomyclosets',\n",
    " 'sparse_satellitetv',\n",
    " 'sparse_sauna',\n",
    " 'sparse_screeningroom',\n",
    " 'sparse_sharedbackyard',\n",
    " 'sparse_sharesok',\n",
    " 'sparse_shorttermallowed',\n",
    " 'sparse_simplex',\n",
    " 'sparse_skitchen',\n",
    " 'sparse_skylight',\n",
    " 'sparse_splayroom',\n",
    " 'sparse_sskitchen',\n",
    " 'sparse_stainlesssteelappliances',\n",
    " 'sparse_stepstothepark',\n",
    " 'sparse_storage',\n",
    " 'sparse_storagefacilitiesavailable',\n",
    " 'sparse_storageroom',\n",
    " 'sparse_sublet',\n",
    " 'sparse_subway',\n",
    " 'sparse_sundeck',\n",
    " 'sparse_swimmingpool',\n",
    " 'sparse_tenantlounge',\n",
    " 'sparse_terrace',\n",
    " 'sparse_terraces',\n",
    " 'sparse_tonsofnaturallight',\n",
    " 'sparse_valet',\n",
    " 'sparse_valetparking',\n",
    " 'sparse_valetservices',\n",
    " 'sparse_valetservicesincludingdrycleaning',\n",
    " 'sparse_videointercom',\n",
    " 'sparse_view',\n",
    " 'sparse_virtualdoorman',\n",
    " 'sparse_walkincloset',\n",
    " 'sparse_wallsofwindows',\n",
    " 'sparse_washer',\n",
    " 'sparse_washerinunit',\n",
    " 'sparse_wheelchairaccess',\n",
    " 'sparse_wheelchairramp',\n",
    " 'sparse_wifi',\n",
    " 'sparse_wifiaccess',\n",
    " 'sparse_work',\n",
    " 'street',\n",
    " 'west',\n",
    " 'worth_by_BoroCode',\n",
    " 'worth_by_NTACode',\n",
    " 'worth_by_building_id',\n",
    " 'worth_by_display_address',\n",
    " 'worth_by_manager_id'] + ['layer1_pca_0', 'layer1_pca_1', 'layer1_pca_2'] + ['layer1_ridge_predictions']"
   ]
  },
  {
   "cell_type": "code",
   "execution_count": 5,
   "metadata": {
    "collapsed": true
   },
   "outputs": [],
   "source": [
    "train_X = train_X[cols_to_use]"
   ]
  },
  {
   "cell_type": "code",
   "execution_count": 6,
   "metadata": {
    "collapsed": true
   },
   "outputs": [],
   "source": [
    "NFOLDS = 5\n",
    "y_map = {'low': 2, 'medium': 1, 'high': 0}\n",
    "\n",
    "params = {\n",
    "    'eta':.01,\n",
    "    'colsample_bytree':.6,\n",
    "    'subsample':.6,\n",
    "    'nthread':16,\n",
    "    'objective':'multi:softprob',\n",
    "    'eval_metric':'mlogloss',\n",
    "    'num_class':3,\n",
    "    'silent':1\n",
    "}"
   ]
  },
  {
   "cell_type": "code",
   "execution_count": 7,
   "metadata": {
    "collapsed": true
   },
   "outputs": [],
   "source": [
    "b = pd.read_json('data/backup/train.json')\n",
    "a = pd.read_csv('data/listing_image_time.csv')"
   ]
  },
  {
   "cell_type": "code",
   "execution_count": 10,
   "metadata": {
    "collapsed": false
   },
   "outputs": [],
   "source": [
    "#train_X['listing_id'] = b.listing_id\n",
    "#a.columns = ['listing_id', 'time_stamp']\n",
    "#length = len(train_X)\n",
    "#train_X = train_X.merge(a, on='listing_id', how='outer')[:length]\n",
    "train_X.to_json('data/train_final.json', orient='records')"
   ]
  },
  {
   "cell_type": "code",
   "execution_count": 11,
   "metadata": {
    "collapsed": true
   },
   "outputs": [],
   "source": [
    "train_X = pd.read_json('data/train_final.json')"
   ]
  },
  {
   "cell_type": "code",
   "execution_count": 12,
   "metadata": {
    "collapsed": false
   },
   "outputs": [],
   "source": [
    "ntrain = int(len(train_X) * 0.75)\n",
    "\n",
    "scaler = StandardScaler()\n",
    "\n",
    "xtr = train_X[:ntrain]\n",
    "xtr = pd.DataFrame(scaler.fit_transform(xtr), columns=xtr.columns)\n",
    "ytr = train_y[:ntrain].values\n",
    "ytr_one_hot = np.eye(3)[ytr]\n",
    "xte = train_X[ntrain:]\n",
    "xte = pd.DataFrame(scaler.transform(xte), columns=xte.columns)\n",
    "yte = train_y[ntrain:].values\n",
    "yte_one_hot = np.eye(3)[yte]"
   ]
  },
  {
   "cell_type": "code",
   "execution_count": 13,
   "metadata": {
    "collapsed": false
   },
   "outputs": [
    {
     "name": "stdout",
     "output_type": "stream",
     "text": [
      "[0]\ttrain-mlogloss:1.09099+1.39914e-05\ttest-mlogloss:1.09119+3.67423e-05\n",
      "[200]\ttrain-mlogloss:0.569646+0.000608634\ttest-mlogloss:0.601149+0.00177252\n",
      "[400]\ttrain-mlogloss:0.488264+0.000712651\ttest-mlogloss:0.543924+0.00235677\n",
      "[600]\ttrain-mlogloss:0.451513+0.000902248\ttest-mlogloss:0.529166+0.00230609\n",
      "[800]\ttrain-mlogloss:0.424251+0.000696344\ttest-mlogloss:0.52251+0.00217816\n",
      "[1000]\ttrain-mlogloss:0.401281+0.000692514\ttest-mlogloss:0.518659+0.00206709\n",
      "[1200]\ttrain-mlogloss:0.380412+0.000862049\ttest-mlogloss:0.516107+0.00187526\n",
      "[1400]\ttrain-mlogloss:0.361306+0.000611157\ttest-mlogloss:0.514412+0.0017931\n",
      "[1600]\ttrain-mlogloss:0.343518+0.000660291\ttest-mlogloss:0.513296+0.00175838\n",
      "[1800]\ttrain-mlogloss:0.3269+0.00067361\ttest-mlogloss:0.512436+0.00175134\n",
      "[2000]\ttrain-mlogloss:0.31124+0.000572575\ttest-mlogloss:0.511954+0.00178174\n",
      "[2200]\ttrain-mlogloss:0.296558+0.000678825\ttest-mlogloss:0.511569+0.00176298\n",
      "0.5115074\n",
      "train score:  0.318907893692\n",
      "test score:  0.532676951063\n"
     ]
    }
   ],
   "source": [
    "cols = list(train_X.columns)\n",
    "dtrain = xgb.DMatrix(data=xtr[cols], label=ytr)\n",
    "dtest = xgb.DMatrix(data=xte[cols])\n",
    "\n",
    "bst = xgb.cv(params, dtrain, 10000, NFOLDS, early_stopping_rounds=50, verbose_eval=200)\n",
    "best_rounds = np.argmin(bst['test-mlogloss-mean'])\n",
    "print (bst['test-mlogloss-mean'][best_rounds])\n",
    "\n",
    "bst = xgb.train(params, dtrain, best_rounds)\n",
    "print('train score: ', log_loss(ytr_one_hot, bst.predict(dtrain)))\n",
    "print('test score: ', log_loss(yte_one_hot, bst.predict(dtest)))"
   ]
  },
  {
   "cell_type": "code",
   "execution_count": 14,
   "metadata": {
    "collapsed": true
   },
   "outputs": [],
   "source": [
    "from keras.layers.normalization import BatchNormalization\n",
    "from keras import regularizers\n",
    "from keras.layers.core import ActivityRegularization\n",
    "def create_model(xtr, layer1=256, layer2=32, activation='tanh', activation2=PReLU, dropout=0.75):\n",
    "    model = Sequential()\n",
    "    \n",
    "    model.add(Dense(layer1,\n",
    "                    input_dim=xtr.shape[1],\n",
    "                    init = 'he_normal',\n",
    "                    activation=activation))\n",
    "                    #kernel_regularizer=regularizers.l2(0.01),\n",
    "                    #activity_regularizer=regularizers.activity_l2(0.005)))\n",
    "    #model.add(Dense(64, input_dim=64, W_regularizer=l2(0.01), activity_regularizer=activity_l2(0.01)))\n",
    "    \n",
    "    model.add(BatchNormalization())\n",
    "    model.add(Dropout(dropout))\n",
    "    if activation2 != None:\n",
    "        model.add(activation2())\n",
    "\n",
    "    model.add(Dense(layer2,\n",
    "                    init = 'he_normal',\n",
    "                    activation=activation))\n",
    "                    #activity_regularizer=regularizers.activity_l2(0.005)))\n",
    "    model.add(BatchNormalization())    \n",
    "    model.add(Dropout(dropout))\n",
    "    if activation2 != None:\n",
    "        model.add(activation2())\n",
    "\n",
    "    model.add(Dense(3, init = 'he_normal', activation='softmax'))\n",
    "    model.compile(loss = 'categorical_crossentropy', optimizer = 'adam')\n",
    "    return model"
   ]
  },
  {
   "cell_type": "code",
   "execution_count": null,
   "metadata": {
    "collapsed": false
   },
   "outputs": [],
   "source": [
    "%%time\n",
    "filepath = 'data/nn_weights'\n",
    "\n",
    "nn_cols = [score[0] for score in scores if score[1] > 200] #list(train_X.columns)\n",
    "\n",
    "logger = NBatchLogger()\n",
    "early_stop = EarlyStopping(monitor='val_loss', patience=40, verbose=0)\n",
    "checkpoint = ModelCheckpoint(filepath, monitor='val_loss', verbose=0, save_best_only=True)\n",
    "model = create_model(xtr[nn_cols])\n",
    "model.fit(xtr[nn_cols].values, ytr_one_hot, nb_epoch = 1200, batch_size=1000, verbose = 0, validation_data=[xte[nn_cols].values, yte_one_hot], callbacks=[logger, early_stop, checkpoint])\n",
    "\n",
    "model = create_model(xtr[nn_cols])\n",
    "model.load_weights(filepath)\n",
    "nn_preds = model.predict(xte[nn_cols].values)\n",
    "print(log_loss(yte_one_hot, nn_preds))"
   ]
  },
  {
   "cell_type": "code",
   "execution_count": 28,
   "metadata": {
    "collapsed": false
   },
   "outputs": [
    {
     "name": "stdout",
     "output_type": "stream",
     "text": [
      "0.6284038621636637 (test loss 0.6043116367972)\n",
      "CPU times: user 5.69 s, sys: 201 ms, total: 5.89 s\n",
      "Wall time: 5.99 s\n"
     ]
    }
   ],
   "source": [
    "%%time\n",
    "et_cols = nn_cols\n",
    "\n",
    "test = ExtraTreesClassifier(\n",
    "    n_estimators=100,\n",
    "    criterion='entropy',\n",
    "    max_features='auto',\n",
    "    min_samples_split=25,\n",
    "    max_depth=10\n",
    "    )\n",
    "\n",
    "test.fit(xtr[et_cols], ytr)\n",
    "            \n",
    "et_train_predictions = test.predict_proba(xtr[et_cols])\n",
    "et_predictions = test.predict_proba(xte[et_cols])\n",
    "print ('{} (test loss {})'.format(log_loss(yte_one_hot, et_predictions), log_loss(ytr_one_hot, et_train_predictions)))\n",
    "# 0.5824240849016719 (test loss 0.3909099642627144)"
   ]
  },
  {
   "cell_type": "code",
   "execution_count": 29,
   "metadata": {
    "collapsed": false
   },
   "outputs": [
    {
     "name": "stdout",
     "output_type": "stream",
     "text": [
      "0.5823083608180835 (test loss 0.5111770718368133)\n",
      "CPU times: user 12.1 s, sys: 197 ms, total: 12.3 s\n",
      "Wall time: 12.6 s\n"
     ]
    }
   ],
   "source": [
    "%%time\n",
    "rf_cols = nn_cols\n",
    "\n",
    "test = RandomForestClassifier(\n",
    "    n_estimators=100,\n",
    "    criterion='entropy',\n",
    "    max_features='auto',\n",
    "    min_samples_split=25,\n",
    "    max_depth=10)\n",
    "\n",
    "test.fit(xtr[rf_cols], ytr)\n",
    "            \n",
    "rf_train_predictions = test.predict_proba(xtr[rf_cols])\n",
    "rf_predictions = test.predict_proba(xte[rf_cols])\n",
    "print ('{} (test loss {})'.format(log_loss(yte_one_hot, rf_predictions), log_loss(ytr_one_hot, rf_train_predictions)))\n",
    "# 0.5714659966135285 (test loss 0.37359374722034255)"
   ]
  },
  {
   "cell_type": "code",
   "execution_count": 18,
   "metadata": {
    "collapsed": false
   },
   "outputs": [
    {
     "name": "stdout",
     "output_type": "stream",
     "text": [
      "0.6327628575671347 (test loss 0.6255989023665038)\n",
      "CPU times: user 16min 7s, sys: 2.28 s, total: 16min 10s\n",
      "Wall time: 16min 11s\n"
     ]
    }
   ],
   "source": [
    "%%time\n",
    "knn_features = nn_cols\n",
    "\n",
    "test = KNeighborsClassifier(n_neighbors=500)\n",
    "test.fit(xtr[knn_features], ytr)\n",
    "\n",
    "knn_train_predictions = test.predict_proba(xtr[knn_features])\n",
    "knn_predictions = test.predict_proba(xte[knn_features])\n",
    "print ('{} (test loss {})'.format(log_loss(yte_one_hot, knn_predictions), log_loss(ytr_one_hot, knn_train_predictions)))"
   ]
  },
  {
   "cell_type": "code",
   "execution_count": 19,
   "metadata": {
    "collapsed": false
   },
   "outputs": [],
   "source": [
    "score_map = bst.get_fscore()\n",
    "scores = [(key, score_map[key]) for key in score_map]"
   ]
  },
  {
   "cell_type": "code",
   "execution_count": 20,
   "metadata": {
    "collapsed": false
   },
   "outputs": [
    {
     "data": {
      "text/plain": [
       "[('sparse_onsitegarage', 1),\n",
       " ('sparse_gutrenovated', 1),\n",
       " ('sparse_privateroofdeck', 1),\n",
       " ('sparse_screeningroom', 1),\n",
       " ('sparse_new', 1),\n",
       " ('sparse_roofaccess', 1),\n",
       " ('sparse_videointercom', 1),\n",
       " ('sparse_privatebackyard', 1),\n",
       " ('sparse_parking', 1),\n",
       " ('sparse_wifi', 1),\n",
       " ('sparse_pets', 1),\n",
       " ('sparse_centralac', 1),\n",
       " ('sparse_petsok', 1),\n",
       " ('sparse_2fullbaths', 1),\n",
       " ('sparse_gourmetkitchen', 1),\n",
       " ('sparse_dryerinbuilding', 1),\n",
       " ('sparse_sharesok', 1),\n",
       " ('sparse_satellitetv', 1),\n",
       " ('sparse_largelivingroom', 1),\n",
       " ('sparse_indoorpool', 2),\n",
       " ('sparse_laundryonfloor', 2),\n",
       " ('sparse_skitchen', 2),\n",
       " ('sparse_buildingcommonoutdoorspace', 2),\n",
       " ('sparse_outdoorpool', 2),\n",
       " ('sparse_postwar', 2),\n",
       " ('sparse_flex3', 2),\n",
       " ('sparse_rooftopterrace', 2),\n",
       " ('sparse_live', 2),\n",
       " ('sparse_petsallowed', 2),\n",
       " ('sparse_valet', 3),\n",
       " ('sparse_courtyard', 3),\n",
       " ('sparse_storageroom', 3),\n",
       " ('sparse_petfriendly', 3),\n",
       " ('sparse_drycleaningservice', 3),\n",
       " ('sparse_cable', 3),\n",
       " ('sparse_subway', 3),\n",
       " ('sparse_microwave', 3),\n",
       " ('sparse_fitness', 3),\n",
       " ('sparse_onsitesuper', 3),\n",
       " ('sparse_commonterrace', 3),\n",
       " ('sparse_sauna', 4),\n",
       " ('sparse_virtualdoorman', 5),\n",
       " ('sparse_valetservices', 5),\n",
       " ('sparse_airconditioning', 5),\n",
       " ('sparse_laundry', 5),\n",
       " ('sparse_commonbackyard', 5),\n",
       " ('sparse_marblebath', 5),\n",
       " ('sparse_wheelchairramp', 6),\n",
       " ('sparse_bikeroom', 6),\n",
       " ('sparse_allutilitiesincluded', 6),\n",
       " ('sparse_granitekitchen', 6),\n",
       " ('sparse_sublet', 7),\n",
       " ('sparse_commonroofdeck', 7),\n",
       " ('sparse_nursery', 8),\n",
       " ('sparse_privateparking', 8),\n",
       " ('sparse_outdoorareas', 8),\n",
       " ('sparse_residentslounge', 9),\n",
       " ('sparse_walkincloset', 10),\n",
       " ('sparse_exposedbrick', 10),\n",
       " ('sparse_healthclub', 10),\n",
       " ('sparse_dryer', 10),\n",
       " ('sparse_privateterrace', 10),\n",
       " ('sparse_eatinkitchen', 10),\n",
       " ('sparse_children', 11),\n",
       " ('sparse_washer', 11),\n",
       " ('sparse_laundryroom', 12),\n",
       " ('sparse_onsiteparking', 12),\n",
       " ('sparse_marblebathroom', 13),\n",
       " ('sparse_privatebalcony', 13),\n",
       " ('sparse_luxurybuilding', 13),\n",
       " ('sparse_light', 13),\n",
       " ('sparse_nopets', 14),\n",
       " ('sparse_lndrybldg', 14),\n",
       " ('sparse_pool', 14),\n",
       " ('sparse_lowrise', 14),\n",
       " ('sparse_assignedparkingspace', 15),\n",
       " ('sparse_stainlesssteelappliances', 15),\n",
       " ('sparse_gym', 15),\n",
       " ('sparse_playroom', 16),\n",
       " ('north', 17),\n",
       " ('sparse_publicoutdoor', 20),\n",
       " ('sparse_fulltimedoorman', 20),\n",
       " ('sparse_photos', 20),\n",
       " ('sparse_liveinsuperintendent', 21),\n",
       " ('sparse_greenbuilding', 21),\n",
       " ('sparse_petsonapproval', 22),\n",
       " ('sparse_liveinsuper', 24),\n",
       " ('sparse_renovated', 26),\n",
       " ('sparse_24', 28),\n",
       " ('sparse_washerinunit', 29),\n",
       " ('sparse_shorttermallowed', 30),\n",
       " ('sparse_duplex', 32),\n",
       " ('sparse_granitecountertops', 32),\n",
       " ('sparse_simplex', 34),\n",
       " ('sparse_concierge', 35),\n",
       " ('sparse_loungeroom', 40),\n",
       " ('sparse_centrala', 41),\n",
       " ('sparse_garage', 41),\n",
       " ('sparse_actualapt', 41),\n",
       " ('sparse_highceilings', 41),\n",
       " ('sparse_storage', 44),\n",
       " ('sparse_highceiling', 48),\n",
       " ('sparse_newlyrenovated', 52),\n",
       " ('sparse_hardwood', 64),\n",
       " ('sparse_onsitelaundry', 70),\n",
       " ('sparse_dryerinunit', 72),\n",
       " ('sparse_commonparking', 77),\n",
       " ('sparse_multilevel', 88),\n",
       " ('sparse_fireplace', 91),\n",
       " ('sparse_patio', 124),\n",
       " ('south', 131),\n",
       " ('sparse_wheelchairaccess', 134),\n",
       " ('sparse_parkingspace', 135),\n",
       " ('sparse_reducedfee', 137),\n",
       " ('BoroCode', 148),\n",
       " ('sparse_garden', 162),\n",
       " ('sparse_highspeedinternet', 195),\n",
       " ('sparse_balcony', 197),\n",
       " ('sparse_swimmingpool', 208),\n",
       " ('sparse_outdoorspace', 210),\n",
       " ('sparse_newconstruction', 211),\n",
       " ('sparse_loft', 211),\n",
       " ('sparse_terrace', 228),\n",
       " ('sparse_roofdeck', 230),\n",
       " ('sparse_fitnesscenter', 235),\n",
       " ('sparse_commonoutdoorspace', 237),\n",
       " ('sparse_diningroom', 242),\n",
       " ('worth_by_BoroCode', 247),\n",
       " ('sparse_exclusive', 254),\n",
       " ('west', 287),\n",
       " ('sparse_doorman', 293),\n",
       " ('Month', 296),\n",
       " ('sparse_privateoutdoorspace', 316),\n",
       " ('sparse_elevator', 325),\n",
       " ('other_address', 386),\n",
       " ('sparse_dishwasher', 391),\n",
       " ('east', 403),\n",
       " ('sparse_dogsallowed', 430),\n",
       " ('sparse_prewar', 443),\n",
       " ('Zero_building_id', 448),\n",
       " ('avenue', 449),\n",
       " ('street', 452),\n",
       " ('sparse_furnished', 463),\n",
       " ('sparse_hardwoodfloors', 472),\n",
       " ('sparse_catsallowed', 489),\n",
       " ('sparse_laundryinunit', 508),\n",
       " ('sparse_laundryinbuilding', 651),\n",
       " ('boro_worths', 680),\n",
       " ('bathrooms', 1094),\n",
       " ('sparse_nofee', 1324),\n",
       " ('boro_low_frac', 1364),\n",
       " ('boro_med_frac', 1743),\n",
       " ('bedrooms', 1761),\n",
       " ('boro_high_frac', 1769),\n",
       " ('worth_by_NTACode', 2142),\n",
       " ('Wday', 2641),\n",
       " ('features_count', 2864),\n",
       " ('price_per_bedroom', 2920),\n",
       " ('nta_worths', 3225),\n",
       " ('worth_by_display_address', 3351),\n",
       " ('worth_by_building_id', 3550),\n",
       " ('nta_low_frac', 3592),\n",
       " ('hour', 3664),\n",
       " ('address_worths', 3678),\n",
       " ('building_worths', 3761),\n",
       " ('photos_count', 3852),\n",
       " ('price_by_area', 3944),\n",
       " ('address_high_frac', 4041),\n",
       " ('NTACode', 4044),\n",
       " ('worth_by_manager_id', 4142),\n",
       " ('building_high_frac', 4338),\n",
       " ('building_low_frac', 4445),\n",
       " ('address_low_frac', 4488),\n",
       " ('price_per_bed_and_bath', 4539),\n",
       " ('Yday', 4595),\n",
       " ('nta_high_frac', 4621),\n",
       " ('manager_worths', 4641),\n",
       " ('building_med_frac', 4645),\n",
       " ('Day', 4967),\n",
       " ('nta_med_frac', 5005),\n",
       " ('manager_high_frac', 5063),\n",
       " ('price_by_BoroCode', 5192),\n",
       " ('price_per_bathroom', 5266),\n",
       " ('manager_low_frac', 5324),\n",
       " ('address_med_frac', 5355),\n",
       " ('desc_words_count', 5417),\n",
       " ('price_by_building_id', 5734),\n",
       " ('display_address', 5790),\n",
       " ('manager_med_frac', 5999),\n",
       " ('real_over_expected_price', 6119),\n",
       " ('price_by_display_address', 6362),\n",
       " ('building_id', 6498),\n",
       " ('layer1_pca_1', 6537),\n",
       " ('desc_letters_count', 6556),\n",
       " ('real_minus_expected_price', 6875),\n",
       " ('manager_id', 7327),\n",
       " ('layer1_pca_0', 7573),\n",
       " ('desc_words_length', 7610),\n",
       " ('price_by_manager_id', 7827),\n",
       " ('longitude', 7899),\n",
       " ('layer1_pca_2', 8013),\n",
       " ('latitude', 8269),\n",
       " ('price_by_NTACode', 8787),\n",
       " ('listing_id', 9002),\n",
       " ('bc_price', 9977),\n",
       " ('time_stamp', 10861),\n",
       " ('layer1_ridge_predictions', 11403)]"
      ]
     },
     "execution_count": 20,
     "metadata": {},
     "output_type": "execute_result"
    }
   ],
   "source": [
    "sorted(scores, key=lambda x: x[1])"
   ]
  },
  {
   "cell_type": "code",
   "execution_count": null,
   "metadata": {
    "collapsed": false
   },
   "outputs": [],
   "source": [
    "cols = [score[0] for score in scores if score[1] > 500]"
   ]
  },
  {
   "cell_type": "code",
   "execution_count": 31,
   "metadata": {
    "collapsed": false
   },
   "outputs": [
    {
     "data": {
      "text/plain": [
       "89"
      ]
     },
     "execution_count": 31,
     "metadata": {},
     "output_type": "execute_result"
    }
   ],
   "source": [
    "len(cols)"
   ]
  },
  {
   "cell_type": "code",
   "execution_count": 32,
   "metadata": {
    "collapsed": false
   },
   "outputs": [
    {
     "name": "stdout",
     "output_type": "stream",
     "text": [
      "0.6286478216063587 (test loss 0.6182119627630555)\n",
      "CPU times: user 9min 15s, sys: 3.1 s, total: 9min 18s\n",
      "Wall time: 9min 27s\n"
     ]
    }
   ],
   "source": [
    "%%time\n",
    "test = KNeighborsClassifier(n_neighbors=500)\n",
    "test.fit(xtr[cols], ytr)\n",
    "knn_train_predictions = test.predict_proba(xtr[cols])\n",
    "knn_predictions = test.predict_proba(xte[cols])\n",
    "print ('{} (test loss {})'.format(log_loss(yte_one_hot, knn_predictions), log_loss(ytr_one_hot, knn_train_predictions)))\n",
    "#0.6220178408396022"
   ]
  },
  {
   "cell_type": "code",
   "execution_count": null,
   "metadata": {
    "collapsed": false
   },
   "outputs": [
    {
     "name": "stdout",
     "output_type": "stream",
     "text": [
      "0.6253617197489705 (test loss 0.6059399788946489)\n",
      "CPU times: user 8min 46s, sys: 1.33 s, total: 8min 48s\n",
      "Wall time: 8min 49s\n"
     ]
    }
   ],
   "source": [
    "%%time\n",
    "test = KNeighborsClassifier(n_neighbors=200)\n",
    "test.fit(xtr[cols], ytr)\n",
    "knn_train_predictions = test.predict_proba(xtr[cols])\n",
    "knn_predictions = test.predict_proba(xte[cols])\n",
    "print ('{} (test loss {})'.format(log_loss(yte_one_hot, knn_predictions), log_loss(ytr_one_hot, knn_train_predictions)))\n",
    "#0.6242524229135699"
   ]
  },
  {
   "cell_type": "code",
   "execution_count": 26,
   "metadata": {
    "collapsed": false
   },
   "outputs": [
    {
     "name": "stdout",
     "output_type": "stream",
     "text": [
      "0.6228269282266731 (test loss 0.6057507141706729)\n",
      "CPU times: user 6min 6s, sys: 1.18 s, total: 6min 7s\n",
      "Wall time: 6min 7s\n"
     ]
    }
   ],
   "source": [
    "%%time\n",
    "test = KNeighborsClassifier(n_neighbors=500)\n",
    "test.fit(xtr[cols], ytr)\n",
    "knn_train_predictions = test.predict_proba(xtr[cols])\n",
    "knn_predictions = test.predict_proba(xte[cols])\n",
    "print ('{} (test loss {})'.format(log_loss(yte_one_hot, knn_predictions), log_loss(ytr_one_hot, knn_train_predictions)))"
   ]
  },
  {
   "cell_type": "code",
   "execution_count": 27,
   "metadata": {
    "collapsed": false
   },
   "outputs": [
    {
     "name": "stdout",
     "output_type": "stream",
     "text": [
      "0.6283323043737444 (test loss 0.5945800788494582)\n",
      "CPU times: user 5min 52s, sys: 712 ms, total: 5min 53s\n",
      "Wall time: 5min 53s\n"
     ]
    }
   ],
   "source": [
    "%%time\n",
    "test = KNeighborsClassifier(n_neighbors=200)\n",
    "test.fit(xtr[cols], ytr)\n",
    "knn_train_predictions = test.predict_proba(xtr[cols])\n",
    "knn_predictions = test.predict_proba(xte[cols])\n",
    "print ('{} (test loss {})'.format(log_loss(yte_one_hot, knn_predictions), log_loss(ytr_one_hot, knn_train_predictions)))"
   ]
  },
  {
   "cell_type": "code",
   "execution_count": null,
   "metadata": {
    "collapsed": true
   },
   "outputs": [],
   "source": []
  },
  {
   "cell_type": "code",
   "execution_count": null,
   "metadata": {
    "collapsed": true
   },
   "outputs": [],
   "source": []
  },
  {
   "cell_type": "code",
   "execution_count": null,
   "metadata": {
    "collapsed": true
   },
   "outputs": [],
   "source": []
  },
  {
   "cell_type": "code",
   "execution_count": null,
   "metadata": {
    "collapsed": true
   },
   "outputs": [],
   "source": []
  }
 ],
 "metadata": {
  "kernelspec": {
   "display_name": "Python 3",
   "language": "python",
   "name": "python3"
  },
  "language_info": {
   "codemirror_mode": {
    "name": "ipython",
    "version": 3
   },
   "file_extension": ".py",
   "mimetype": "text/x-python",
   "name": "python",
   "nbconvert_exporter": "python",
   "pygments_lexer": "ipython3",
   "version": "3.5.3"
  }
 },
 "nbformat": 4,
 "nbformat_minor": 2
}
