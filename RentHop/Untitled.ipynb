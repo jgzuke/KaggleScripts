{
 "cells": [
  {
   "cell_type": "code",
   "execution_count": 1,
   "metadata": {
    "collapsed": false
   },
   "outputs": [
    {
     "name": "stderr",
     "output_type": "stream",
     "text": [
      "/Users/jgzuke/anaconda3/lib/python3.5/site-packages/sklearn/cross_validation.py:44: DeprecationWarning: This module was deprecated in version 0.18 in favor of the model_selection module into which all the refactored classes and functions are moved. Also note that the interface of the new CV iterators are different from that of this module. This module will be removed in 0.20.\n",
      "  \"This module will be removed in 0.20.\", DeprecationWarning)\n"
     ]
    }
   ],
   "source": [
    "import numpy as np\n",
    "import pandas as pd\n",
    "import xgboost as xgb\n",
    "from sklearn import preprocessing, model_selection\n",
    "import string\n",
    "from sklearn.feature_extraction.text import  CountVectorizer\n",
    "from scipy.stats import boxcox\n",
    "from scipy import sparse"
   ]
  },
  {
   "cell_type": "code",
   "execution_count": 4,
   "metadata": {
    "collapsed": false
   },
   "outputs": [],
   "source": [
    "train_file = 'data/train.json'\n",
    "test_file = 'data/test.json'\n",
    "train = pd.read_json(train_file)\n",
    "test = pd.read_json(test_file)"
   ]
  },
  {
   "cell_type": "code",
   "execution_count": 48,
   "metadata": {
    "collapsed": true
   },
   "outputs": [],
   "source": [
    "def get_manager_worth(manager_id):\n",
    "    interests = train[train.manager_id == manager_id].interest_level.apply(lambda x: 2 - y_map[x])\n",
    "    return sum(interests) / len(interests) if len(interests) > 0 else 0\n",
    "\n",
    "manager_ids = np.concatenate((np.unique(train.manager_id), np.unique(test.manager_id)), axis=0)\n",
    "\n",
    "manager_worths = {}\n",
    "for manager_id in manager_ids:\n",
    "    manager_worths[manager_id] = get_manager_worth(manager_id)"
   ]
  },
  {
   "cell_type": "code",
   "execution_count": 3,
   "metadata": {
    "collapsed": false
   },
   "outputs": [
    {
     "ename": "ValueError",
     "evalue": "cannot copy sequence with size 124011 to array axis with dimension 44",
     "output_type": "error",
     "traceback": [
      "\u001b[0;31m---------------------------\u001b[0m",
      "\u001b[0;31mValueError\u001b[0mTraceback (most recent call last)",
      "\u001b[0;32m<ipython-input-3-0ad00d55b3c6>\u001b[0m in \u001b[0;36m<module>\u001b[0;34m()\u001b[0m\n\u001b[1;32m    157\u001b[0m \u001b[0;34m\u001b[0m\u001b[0m\n\u001b[1;32m    158\u001b[0m \u001b[0;31m#train_test_cv1_sparse = sparse.hstack((train_test, c_vect_sparse_1)).tocsr()\u001b[0m\u001b[0;34m\u001b[0m\u001b[0;34m\u001b[0m\u001b[0m\n\u001b[0;32m--> 159\u001b[0;31m \u001b[0mtrain_test_cv1_sparse\u001b[0m \u001b[0;34m=\u001b[0m \u001b[0msparse\u001b[0m\u001b[0;34m.\u001b[0m\u001b[0mhstack\u001b[0m\u001b[0;34m(\u001b[0m\u001b[0;34m(\u001b[0m\u001b[0mtrain_test\u001b[0m\u001b[0;34m)\u001b[0m\u001b[0;34m)\u001b[0m\u001b[0;34m.\u001b[0m\u001b[0mtocsr\u001b[0m\u001b[0;34m(\u001b[0m\u001b[0;34m)\u001b[0m\u001b[0;34m\u001b[0m\u001b[0m\n\u001b[0m\u001b[1;32m    160\u001b[0m \u001b[0;34m\u001b[0m\u001b[0m\n\u001b[1;32m    161\u001b[0m \u001b[0;34m\u001b[0m\u001b[0m\n",
      "\u001b[0;32m/Users/jgzuke/anaconda3/lib/python3.5/site-packages/scipy/sparse/construct.py\u001b[0m in \u001b[0;36mhstack\u001b[0;34m(blocks, format, dtype)\u001b[0m\n\u001b[1;32m    462\u001b[0m \u001b[0;34m\u001b[0m\u001b[0m\n\u001b[1;32m    463\u001b[0m     \"\"\"\n\u001b[0;32m--> 464\u001b[0;31m     \u001b[0;32mreturn\u001b[0m \u001b[0mbmat\u001b[0m\u001b[0;34m(\u001b[0m\u001b[0;34m[\u001b[0m\u001b[0mblocks\u001b[0m\u001b[0;34m]\u001b[0m\u001b[0;34m,\u001b[0m \u001b[0mformat\u001b[0m\u001b[0;34m=\u001b[0m\u001b[0mformat\u001b[0m\u001b[0;34m,\u001b[0m \u001b[0mdtype\u001b[0m\u001b[0;34m=\u001b[0m\u001b[0mdtype\u001b[0m\u001b[0;34m)\u001b[0m\u001b[0;34m\u001b[0m\u001b[0m\n\u001b[0m\u001b[1;32m    465\u001b[0m \u001b[0;34m\u001b[0m\u001b[0m\n\u001b[1;32m    466\u001b[0m \u001b[0;34m\u001b[0m\u001b[0m\n",
      "\u001b[0;32m/Users/jgzuke/anaconda3/lib/python3.5/site-packages/scipy/sparse/construct.py\u001b[0m in \u001b[0;36mbmat\u001b[0;34m(blocks, format, dtype)\u001b[0m\n\u001b[1;32m    542\u001b[0m     \"\"\"\n\u001b[1;32m    543\u001b[0m \u001b[0;34m\u001b[0m\u001b[0m\n\u001b[0;32m--> 544\u001b[0;31m     \u001b[0mblocks\u001b[0m \u001b[0;34m=\u001b[0m \u001b[0mnp\u001b[0m\u001b[0;34m.\u001b[0m\u001b[0masarray\u001b[0m\u001b[0;34m(\u001b[0m\u001b[0mblocks\u001b[0m\u001b[0;34m,\u001b[0m \u001b[0mdtype\u001b[0m\u001b[0;34m=\u001b[0m\u001b[0;34m'object'\u001b[0m\u001b[0;34m)\u001b[0m\u001b[0;34m\u001b[0m\u001b[0m\n\u001b[0m\u001b[1;32m    545\u001b[0m \u001b[0;34m\u001b[0m\u001b[0m\n\u001b[1;32m    546\u001b[0m     \u001b[0;32mif\u001b[0m \u001b[0mblocks\u001b[0m\u001b[0;34m.\u001b[0m\u001b[0mndim\u001b[0m \u001b[0;34m!=\u001b[0m \u001b[0;36m2\u001b[0m\u001b[0;34m:\u001b[0m\u001b[0;34m\u001b[0m\u001b[0m\n",
      "\u001b[0;32m/Users/jgzuke/anaconda3/lib/python3.5/site-packages/numpy/core/numeric.py\u001b[0m in \u001b[0;36masarray\u001b[0;34m(a, dtype, order)\u001b[0m\n\u001b[1;32m    529\u001b[0m \u001b[0;34m\u001b[0m\u001b[0m\n\u001b[1;32m    530\u001b[0m     \"\"\"\n\u001b[0;32m--> 531\u001b[0;31m     \u001b[0;32mreturn\u001b[0m \u001b[0marray\u001b[0m\u001b[0;34m(\u001b[0m\u001b[0ma\u001b[0m\u001b[0;34m,\u001b[0m \u001b[0mdtype\u001b[0m\u001b[0;34m,\u001b[0m \u001b[0mcopy\u001b[0m\u001b[0;34m=\u001b[0m\u001b[0;32mFalse\u001b[0m\u001b[0;34m,\u001b[0m \u001b[0morder\u001b[0m\u001b[0;34m=\u001b[0m\u001b[0morder\u001b[0m\u001b[0;34m)\u001b[0m\u001b[0;34m\u001b[0m\u001b[0m\n\u001b[0m\u001b[1;32m    532\u001b[0m \u001b[0;34m\u001b[0m\u001b[0m\n\u001b[1;32m    533\u001b[0m \u001b[0;34m\u001b[0m\u001b[0m\n",
      "\u001b[0;31mValueError\u001b[0m: cannot copy sequence with size 124011 to array axis with dimension 44"
     ]
    }
   ],
   "source": [
    "listing_id = test.listing_id.values\n",
    "\n",
    "y_map = {'low': 2, 'medium': 1, 'high': 0}\n",
    "train['interest_level'] = train['interest_level'].apply(lambda x: y_map[x])\n",
    "y_train = train.interest_level.values\n",
    "\n",
    "train = train.drop(['listing_id', 'interest_level'], axis=1)\n",
    "test = test.drop('listing_id', axis=1)\n",
    "\n",
    "ntrain = train.shape[0]\n",
    "\n",
    "train_test = pd.concat((train, test), axis=0).reset_index(drop=True)\n",
    "\n",
    "train_test['Date'] = pd.to_datetime(train_test['created'])\n",
    "train_test['Year'] = train_test['Date'].dt.year\n",
    "train_test['Month'] = train_test['Date'].dt.month\n",
    "train_test['Day'] = train_test['Date'].dt.day\n",
    "train_test['Wday'] = train_test['Date'].dt.dayofweek\n",
    "train_test['Yday'] = train_test['Date'].dt.dayofyear\n",
    "train_test['hour'] = train_test['Date'].dt.hour\n",
    "\n",
    "train_test = train_test.drop(['Date', 'created'], axis=1)\n",
    "\n",
    "train_test['Zero_building_id'] = train_test['building_id'].apply(lambda x: 1 if x == '0' else 0)\n",
    "\n",
    "train_test['desc'] = train_test['description']\n",
    "train_test['desc'] = train_test['desc'].apply(lambda x: x.replace('<p><a  website_redacted ', ''))\n",
    "train_test['desc'] = train_test['desc'].apply(lambda x: x.replace('!<br /><br />', ''))\n",
    "\n",
    "string.punctuation.__add__('!!')\n",
    "string.punctuation.__add__('(')\n",
    "string.punctuation.__add__(')')\n",
    "\n",
    "remove_punct_map = dict.fromkeys(map(ord, string.punctuation))\n",
    "\n",
    "train_test['desc'] = train_test['desc'].apply(lambda x: x.translate(remove_punct_map))\n",
    "train_test['desc_letters_count'] = train_test['description'].apply(lambda x: len(x.strip()))\n",
    "train_test['desc_words_count'] = train_test['desc'].apply(lambda x: 0 if len(x.strip()) == 0 else len(x.split(' ')))\n",
    "\n",
    "train_test.drop(['description', 'desc'], axis=1, inplace=True)\n",
    "\n",
    "train_test['address1'] = train_test['display_address']\n",
    "train_test['address1'] = train_test['address1'].apply(lambda x: x.lower())\n",
    "\n",
    "address_map = {\n",
    "    'w': 'west',\n",
    "    'st.': 'street',\n",
    "    'ave': 'avenue',\n",
    "    'st': 'street',\n",
    "    'e': 'east',\n",
    "    'n': 'north',\n",
    "    's': 'south'\n",
    "}\n",
    "\n",
    "\n",
    "def address_map_func(s):\n",
    "    s = s.split(' ')\n",
    "    out = []\n",
    "    for x in s:\n",
    "        if x in address_map:\n",
    "            out.append(address_map[x])\n",
    "        else:\n",
    "            out.append(x)\n",
    "    return ' '.join(out)\n",
    "\n",
    "\n",
    "train_test['address1'] = train_test['address1'].apply(lambda x: x.translate(remove_punct_map))\n",
    "train_test['address1'] = train_test['address1'].apply(lambda x: address_map_func(x))\n",
    "\n",
    "new_cols = ['street', 'avenue', 'east', 'west', 'north', 'south']\n",
    "\n",
    "for col in new_cols:\n",
    "    train_test[col] = train_test['address1'].apply(lambda x: 1 if col in x else 0)\n",
    "\n",
    "train_test['other_address'] = train_test[new_cols].apply(lambda x: 1 if x.sum() == 0 else 0, axis=1)\n",
    "\n",
    "train_test['features_count'] = train_test['features'].apply(lambda x: len(x))\n",
    "train_test['features2'] = train_test['features']\n",
    "train_test['features2'] = train_test['features2'].apply(lambda x: ' '.join(x))\n",
    "\n",
    "c_vect = CountVectorizer(stop_words='english', max_features=200, ngram_range=(1, 1))\n",
    "c_vect.fit(train_test['features2'])\n",
    "\n",
    "c_vect_sparse_1 = c_vect.transform(train_test['features2'])\n",
    "c_vect_sparse1_cols = c_vect.get_feature_names()\n",
    "\n",
    "\n",
    "\n",
    "train_test.drop(['features', 'features2'], axis=1, inplace=True)\n",
    "\n",
    "train_test['manager_worths'] = train_test['manager_id'].apply(lambda x: manager_worths[x] if x in manager_worths else 0)\n",
    "\n",
    "#managers_count = train_test['manager_id'].value_counts()\n",
    "\n",
    "#train_test['top_10_manager'] = train_test['manager_id'].apply(lambda x: 1 if x in managers_count.index.values[\n",
    "#    managers_count.values >= np.percentile(managers_count.values, 90)] else 0)\n",
    "#train_test['top_25_manager'] = train_test['manager_id'].apply(lambda x: 1 if x in managers_count.index.values[\n",
    "#    managers_count.values >= np.percentile(managers_count.values, 75)] else 0)\n",
    "#train_test['top_5_manager'] = train_test['manager_id'].apply(lambda x: 1 if x in managers_count.index.values[\n",
    "#    managers_count.values >= np.percentile(managers_count.values, 95)] else 0)\n",
    "#train_test['top_50_manager'] = train_test['manager_id'].apply(lambda x: 1 if x in managers_count.index.values[\n",
    "#    managers_count.values >= np.percentile(managers_count.values, 50)] else 0)\n",
    "#train_test['top_1_manager'] = train_test['manager_id'].apply(lambda x: 1 if x in managers_count.index.values[\n",
    "#    managers_count.values >= np.percentile(managers_count.values, 99)] else 0)\n",
    "#train_test['top_2_manager'] = train_test['manager_id'].apply(lambda x: 1 if x in managers_count.index.values[\n",
    "#    managers_count.values >= np.percentile(managers_count.values, 98)] else 0)\n",
    "#train_test['top_15_manager'] = train_test['manager_id'].apply(lambda x: 1 if x in managers_count.index.values[\n",
    "#    managers_count.values >= np.percentile(managers_count.values, 85)] else 0)\n",
    "#train_test['top_20_manager'] = train_test['manager_id'].apply(lambda x: 1 if x in managers_count.index.values[\n",
    "#    managers_count.values >= np.percentile(managers_count.values, 80)] else 0)\n",
    "#train_test['top_30_manager'] = train_test['manager_id'].apply(lambda x: 1 if x in managers_count.index.values[\n",
    "#    managers_count.values >= np.percentile(managers_count.values, 70)] else 0)\n",
    "\n",
    "buildings_count = train_test['building_id'].value_counts()\n",
    "\n",
    "train_test['top_10_building'] = train_test['building_id'].apply(lambda x: 1 if x in buildings_count.index.values[\n",
    "    buildings_count.values >= np.percentile(buildings_count.values, 90)] else 0)\n",
    "train_test['top_25_building'] = train_test['building_id'].apply(lambda x: 1 if x in buildings_count.index.values[\n",
    "    buildings_count.values >= np.percentile(buildings_count.values, 75)] else 0)\n",
    "train_test['top_5_building'] = train_test['building_id'].apply(lambda x: 1 if x in buildings_count.index.values[\n",
    "    buildings_count.values >= np.percentile(buildings_count.values, 95)] else 0)\n",
    "train_test['top_50_building'] = train_test['building_id'].apply(lambda x: 1 if x in buildings_count.index.values[\n",
    "    buildings_count.values >= np.percentile(buildings_count.values, 50)] else 0)\n",
    "train_test['top_1_building'] = train_test['building_id'].apply(lambda x: 1 if x in buildings_count.index.values[\n",
    "    buildings_count.values >= np.percentile(buildings_count.values, 99)] else 0)\n",
    "train_test['top_2_building'] = train_test['building_id'].apply(lambda x: 1 if x in buildings_count.index.values[\n",
    "    buildings_count.values >= np.percentile(buildings_count.values, 98)] else 0)\n",
    "train_test['top_15_building'] = train_test['building_id'].apply(lambda x: 1 if x in buildings_count.index.values[\n",
    "    buildings_count.values >= np.percentile(buildings_count.values, 85)] else 0)\n",
    "train_test['top_20_building'] = train_test['building_id'].apply(lambda x: 1 if x in buildings_count.index.values[\n",
    "    buildings_count.values >= np.percentile(buildings_count.values, 80)] else 0)\n",
    "train_test['top_30_building'] = train_test['building_id'].apply(lambda x: 1 if x in buildings_count.index.values[\n",
    "    buildings_count.values >= np.percentile(buildings_count.values, 70)] else 0)\n",
    "\n",
    "train_test['photos_count'] = train_test['photos'].apply(lambda x: len(x))\n",
    "train_test.drop(['photos', 'display_address', 'street_address'], axis=1, inplace=True)\n",
    "\n",
    "categoricals = [x for x in train_test.columns if train_test[x].dtype == 'object']\n",
    "\n",
    "for feat in categoricals:\n",
    "    lbl = preprocessing.LabelEncoder()\n",
    "    lbl.fit(list(train_test[feat].values))\n",
    "    train_test[feat] = lbl.transform(list(train_test[feat].values))\n",
    "\n",
    "bc_price, tmp = boxcox(train_test.price)\n",
    "train_test['bc_price'] = bc_price\n",
    "\n",
    "train_test.drop('price', axis=1, inplace=True)\n",
    "train_test['bathrooms_cat'] = train_test['bathrooms'].apply(lambda x: str(x))\n",
    "\n",
    "train_test['bathrooms_cat'], labels = pd.factorize(train_test['bathrooms_cat'].values, sort=True)\n",
    "train_test.drop('bathrooms', axis=1, inplace=True)\n",
    "\n",
    "train_test['bedroom_cat'], labels = pd.factorize(train_test['bedrooms'].values, sort=True)\n",
    "train_test.drop('bedrooms', axis=1, inplace=True)\n",
    "\n",
    "features = list(train_test.columns)\n",
    "\n",
    "\n",
    "train_test_cv1_sparse = sparse.hstack((train_test, c_vect_sparse_1)).tocsr()\n",
    "#train_test_cv1_sparse = sparse.hstack((train_test)).tocsr()\n",
    "\n",
    "\n",
    "x_train = train_test_cv1_sparse[:ntrain, :]\n",
    "x_test = train_test_cv1_sparse[ntrain:, :]\n",
    "features += c_vect_sparse1_cols\n",
    "\n",
    "SEED = 777\n",
    "NFOLDS = 5\n",
    "\n",
    "params = {\n",
    "    'eta':.01,\n",
    "    'colsample_bytree':.8,\n",
    "    'subsample':.8,\n",
    "    'seed':0,\n",
    "    'nthread':16,\n",
    "    'objective':'multi:softprob',\n",
    "    'eval_metric':'mlogloss',\n",
    "    'num_class':3,\n",
    "    'silent':1\n",
    "}\n",
    "\n",
    "\n",
    "dtrain = xgb.DMatrix(data=x_train, label=y_train)\n",
    "dtest = xgb.DMatrix(data=x_test)"
   ]
  },
  {
   "cell_type": "code",
   "execution_count": null,
   "metadata": {
    "collapsed": false
   },
   "outputs": [],
   "source": [
    "bst = xgb.cv(params, dtrain, 10000, NFOLDS, early_stopping_rounds=50, verbose_eval=25)\n",
    "best_rounds = np.argmin(bst['test-mlogloss-mean'])\n",
    "bst = xgb.train(params, dtrain, best_rounds)"
   ]
  },
  {
   "cell_type": "code",
   "execution_count": null,
   "metadata": {
    "collapsed": true
   },
   "outputs": [],
   "source": []
  },
  {
   "cell_type": "code",
   "execution_count": null,
   "metadata": {
    "collapsed": true
   },
   "outputs": [],
   "source": []
  },
  {
   "cell_type": "code",
   "execution_count": null,
   "metadata": {
    "collapsed": true
   },
   "outputs": [],
   "source": []
  },
  {
   "cell_type": "code",
   "execution_count": null,
   "metadata": {
    "collapsed": true
   },
   "outputs": [],
   "source": []
  },
  {
   "cell_type": "code",
   "execution_count": null,
   "metadata": {
    "collapsed": true
   },
   "outputs": [],
   "source": []
  },
  {
   "cell_type": "code",
   "execution_count": 4,
   "metadata": {
    "collapsed": false
   },
   "outputs": [
    {
     "name": "stdout",
     "output_type": "stream",
     "text": [
      "[0]\ttrain-mlogloss:1.09232+2.37908e-05\ttest-mlogloss:1.09241+4.19733e-05\n",
      "[25]\ttrain-mlogloss:0.961509+0.000742988\ttest-mlogloss:0.96392+0.00104601\n",
      "[50]\ttrain-mlogloss:0.870132+0.00115059\ttest-mlogloss:0.874708+0.0016257\n",
      "[75]\ttrain-mlogloss:0.803892+0.00116569\ttest-mlogloss:0.810538+0.00225172\n",
      "[100]\ttrain-mlogloss:0.754486+0.00121665\ttest-mlogloss:0.763157+0.00282007\n",
      "[125]\ttrain-mlogloss:0.716823+0.00129038\ttest-mlogloss:0.727558+0.00335259\n",
      "[150]\ttrain-mlogloss:0.687709+0.00129095\ttest-mlogloss:0.700406+0.00386878\n",
      "[175]\ttrain-mlogloss:0.664784+0.0014248\ttest-mlogloss:0.679541+0.00420693\n",
      "[200]\ttrain-mlogloss:0.646375+0.0015535\ttest-mlogloss:0.663145+0.00443946\n",
      "[225]\ttrain-mlogloss:0.631351+0.00157149\ttest-mlogloss:0.650149+0.00470338\n",
      "[250]\ttrain-mlogloss:0.618784+0.00149985\ttest-mlogloss:0.639614+0.004965\n",
      "[275]\ttrain-mlogloss:0.608031+0.00139843\ttest-mlogloss:0.630912+0.00520895\n",
      "[300]\ttrain-mlogloss:0.598699+0.00129332\ttest-mlogloss:0.623642+0.00541186\n",
      "[325]\ttrain-mlogloss:0.590417+0.00127663\ttest-mlogloss:0.617404+0.00557324\n",
      "[350]\ttrain-mlogloss:0.582934+0.00135472\ttest-mlogloss:0.612011+0.00563628\n",
      "[375]\ttrain-mlogloss:0.57603+0.00116339\ttest-mlogloss:0.607183+0.00588448\n",
      "[400]\ttrain-mlogloss:0.569868+0.00116852\ttest-mlogloss:0.603085+0.00590186\n",
      "[425]\ttrain-mlogloss:0.56412+0.00112787\ttest-mlogloss:0.599382+0.00597505\n",
      "[450]\ttrain-mlogloss:0.558845+0.00112437\ttest-mlogloss:0.596077+0.00600601\n",
      "[475]\ttrain-mlogloss:0.553698+0.0010672\ttest-mlogloss:0.592991+0.00612325\n",
      "[500]\ttrain-mlogloss:0.548923+0.00105051\ttest-mlogloss:0.590272+0.00612709\n",
      "[525]\ttrain-mlogloss:0.544379+0.00103189\ttest-mlogloss:0.587784+0.00615521\n",
      "[550]\ttrain-mlogloss:0.540074+0.00105362\ttest-mlogloss:0.585443+0.0061347\n",
      "[575]\ttrain-mlogloss:0.535903+0.00108212\ttest-mlogloss:0.583243+0.00611845\n",
      "[600]\ttrain-mlogloss:0.531999+0.00109789\ttest-mlogloss:0.581275+0.00615347\n",
      "[625]\ttrain-mlogloss:0.528188+0.00107377\ttest-mlogloss:0.579429+0.00616112\n",
      "[650]\ttrain-mlogloss:0.52468+0.00100873\ttest-mlogloss:0.577772+0.00620247\n",
      "[675]\ttrain-mlogloss:0.521253+0.000959677\ttest-mlogloss:0.576246+0.0062467\n",
      "[700]\ttrain-mlogloss:0.517878+0.00101776\ttest-mlogloss:0.574724+0.00625565\n",
      "[725]\ttrain-mlogloss:0.514679+0.000920667\ttest-mlogloss:0.573344+0.0063275\n",
      "[750]\ttrain-mlogloss:0.511494+0.0008552\ttest-mlogloss:0.571996+0.00636067\n",
      "[775]\ttrain-mlogloss:0.508566+0.000899894\ttest-mlogloss:0.570815+0.00635169\n",
      "[800]\ttrain-mlogloss:0.50569+0.000928994\ttest-mlogloss:0.569683+0.00636978\n",
      "[825]\ttrain-mlogloss:0.502925+0.000943296\ttest-mlogloss:0.568607+0.00639735\n",
      "[850]\ttrain-mlogloss:0.500192+0.000926303\ttest-mlogloss:0.567581+0.00641213\n",
      "[875]\ttrain-mlogloss:0.497532+0.000860123\ttest-mlogloss:0.566594+0.00645467\n",
      "[900]\ttrain-mlogloss:0.495012+0.000893877\ttest-mlogloss:0.565664+0.00642624\n",
      "[925]\ttrain-mlogloss:0.492521+0.000845642\ttest-mlogloss:0.564797+0.00644855\n",
      "[950]\ttrain-mlogloss:0.489998+0.000847091\ttest-mlogloss:0.563966+0.00643562\n",
      "[975]\ttrain-mlogloss:0.487656+0.000841184\ttest-mlogloss:0.563227+0.0064303\n",
      "[1000]\ttrain-mlogloss:0.485275+0.000866264\ttest-mlogloss:0.562462+0.00641452\n",
      "[1025]\ttrain-mlogloss:0.482939+0.000882437\ttest-mlogloss:0.561752+0.00642259\n",
      "[1050]\ttrain-mlogloss:0.480722+0.000889732\ttest-mlogloss:0.561079+0.00646214\n",
      "[1075]\ttrain-mlogloss:0.478519+0.000861966\ttest-mlogloss:0.560429+0.00645936\n",
      "[1100]\ttrain-mlogloss:0.476329+0.000825722\ttest-mlogloss:0.559795+0.00649891\n",
      "[1125]\ttrain-mlogloss:0.474243+0.000803784\ttest-mlogloss:0.5592+0.00653848\n",
      "[1150]\ttrain-mlogloss:0.472109+0.000828734\ttest-mlogloss:0.558603+0.00657308\n",
      "[1175]\ttrain-mlogloss:0.469994+0.000799669\ttest-mlogloss:0.558037+0.00663164\n",
      "[1200]\ttrain-mlogloss:0.467921+0.000854501\ttest-mlogloss:0.557503+0.0066007\n",
      "[1225]\ttrain-mlogloss:0.465932+0.000842811\ttest-mlogloss:0.557004+0.00661842\n",
      "[1250]\ttrain-mlogloss:0.463971+0.000904692\ttest-mlogloss:0.556517+0.00664079\n",
      "[1275]\ttrain-mlogloss:0.461964+0.000861546\ttest-mlogloss:0.556009+0.00663044\n",
      "[1300]\ttrain-mlogloss:0.460042+0.000876776\ttest-mlogloss:0.55555+0.00666843\n",
      "[1325]\ttrain-mlogloss:0.458129+0.000891879\ttest-mlogloss:0.5551+0.00667717\n",
      "[1350]\ttrain-mlogloss:0.456242+0.000921078\ttest-mlogloss:0.554699+0.00670398\n",
      "[1375]\ttrain-mlogloss:0.45444+0.000899922\ttest-mlogloss:0.554289+0.00673742\n",
      "[1400]\ttrain-mlogloss:0.452685+0.000877416\ttest-mlogloss:0.553906+0.00678733\n",
      "[1425]\ttrain-mlogloss:0.450905+0.000881704\ttest-mlogloss:0.553516+0.00680299\n",
      "[1450]\ttrain-mlogloss:0.449145+0.000872749\ttest-mlogloss:0.553144+0.00683509\n",
      "[1475]\ttrain-mlogloss:0.447431+0.000878357\ttest-mlogloss:0.552794+0.00686192\n",
      "[1500]\ttrain-mlogloss:0.44575+0.000867969\ttest-mlogloss:0.552439+0.00684957\n",
      "[1525]\ttrain-mlogloss:0.444041+0.000852296\ttest-mlogloss:0.552098+0.0068623\n",
      "[1550]\ttrain-mlogloss:0.442361+0.000862411\ttest-mlogloss:0.551792+0.00685227\n",
      "[1575]\ttrain-mlogloss:0.440696+0.000878396\ttest-mlogloss:0.551505+0.00686061\n",
      "[1600]\ttrain-mlogloss:0.439018+0.000846321\ttest-mlogloss:0.551231+0.00685543\n",
      "[1625]\ttrain-mlogloss:0.437401+0.000840756\ttest-mlogloss:0.550946+0.00687152\n",
      "[1650]\ttrain-mlogloss:0.435747+0.000876201\ttest-mlogloss:0.550652+0.00688468\n",
      "[1675]\ttrain-mlogloss:0.434169+0.000914063\ttest-mlogloss:0.550393+0.00690505\n",
      "[1700]\ttrain-mlogloss:0.432573+0.00093562\ttest-mlogloss:0.550126+0.00693065\n",
      "[1725]\ttrain-mlogloss:0.430957+0.000929669\ttest-mlogloss:0.549871+0.00694384\n",
      "[1750]\ttrain-mlogloss:0.429416+0.000928779\ttest-mlogloss:0.549619+0.00694659\n",
      "[1775]\ttrain-mlogloss:0.427815+0.00095608\ttest-mlogloss:0.549366+0.00695238\n",
      "[1800]\ttrain-mlogloss:0.42622+0.000956081\ttest-mlogloss:0.549139+0.00697824\n",
      "[1825]\ttrain-mlogloss:0.424703+0.000907589\ttest-mlogloss:0.54889+0.00698318\n",
      "[1850]\ttrain-mlogloss:0.423137+0.000908862\ttest-mlogloss:0.548652+0.00701819\n",
      "[1875]\ttrain-mlogloss:0.421614+0.000932341\ttest-mlogloss:0.54844+0.00703768\n",
      "[1900]\ttrain-mlogloss:0.420064+0.000966103\ttest-mlogloss:0.548204+0.0070567\n",
      "[1925]\ttrain-mlogloss:0.418585+0.000966038\ttest-mlogloss:0.548019+0.00705323\n",
      "[1950]\ttrain-mlogloss:0.417172+0.000941544\ttest-mlogloss:0.547835+0.00705753\n",
      "[1975]\ttrain-mlogloss:0.415692+0.000974988\ttest-mlogloss:0.547648+0.00704872\n",
      "[2000]\ttrain-mlogloss:0.414233+0.00098693\ttest-mlogloss:0.547422+0.00703547\n",
      "[2025]\ttrain-mlogloss:0.412767+0.00101887\ttest-mlogloss:0.547232+0.00705668\n",
      "[2050]\ttrain-mlogloss:0.411312+0.00100541\ttest-mlogloss:0.547058+0.00706143\n",
      "[2075]\ttrain-mlogloss:0.409881+0.00104695\ttest-mlogloss:0.546897+0.00705855\n",
      "[2100]\ttrain-mlogloss:0.408439+0.00102201\ttest-mlogloss:0.546724+0.00708063\n",
      "[2125]\ttrain-mlogloss:0.407008+0.000999725\ttest-mlogloss:0.54654+0.00710652\n",
      "[2150]\ttrain-mlogloss:0.405628+0.0010567\ttest-mlogloss:0.546375+0.00711059\n",
      "[2175]\ttrain-mlogloss:0.40422+0.00105491\ttest-mlogloss:0.546222+0.00712635\n",
      "[2200]\ttrain-mlogloss:0.402873+0.00104039\ttest-mlogloss:0.546068+0.00715118\n",
      "[2225]\ttrain-mlogloss:0.401521+0.00101845\ttest-mlogloss:0.54592+0.0071546\n",
      "[2250]\ttrain-mlogloss:0.400187+0.00100278\ttest-mlogloss:0.545781+0.00716213\n",
      "[2275]\ttrain-mlogloss:0.398805+0.0010259\ttest-mlogloss:0.545633+0.00716005\n",
      "[2300]\ttrain-mlogloss:0.39751+0.00107266\ttest-mlogloss:0.545498+0.00714526\n",
      "[2325]\ttrain-mlogloss:0.396145+0.00108759\ttest-mlogloss:0.545354+0.0071387\n",
      "[2350]\ttrain-mlogloss:0.394802+0.00115106\ttest-mlogloss:0.545219+0.00714635\n",
      "[2375]\ttrain-mlogloss:0.393505+0.00119825\ttest-mlogloss:0.545111+0.00715378\n",
      "[2400]\ttrain-mlogloss:0.392194+0.00124712\ttest-mlogloss:0.544989+0.00715888\n",
      "[2425]\ttrain-mlogloss:0.390881+0.00126344\ttest-mlogloss:0.544858+0.00717042\n",
      "[2450]\ttrain-mlogloss:0.389612+0.00125061\ttest-mlogloss:0.544752+0.00716809\n",
      "[2475]\ttrain-mlogloss:0.388307+0.00124898\ttest-mlogloss:0.544636+0.00715404\n",
      "[2500]\ttrain-mlogloss:0.387013+0.00123628\ttest-mlogloss:0.544552+0.00715139\n",
      "[2525]\ttrain-mlogloss:0.385716+0.00130437\ttest-mlogloss:0.544447+0.00712931\n",
      "[2550]\ttrain-mlogloss:0.384463+0.00134441\ttest-mlogloss:0.544335+0.00712516\n",
      "[2575]\ttrain-mlogloss:0.383216+0.00133755\ttest-mlogloss:0.54425+0.00715031\n",
      "[2600]\ttrain-mlogloss:0.381982+0.00137884\ttest-mlogloss:0.544134+0.00717488\n",
      "[2625]\ttrain-mlogloss:0.380725+0.00135224\ttest-mlogloss:0.54402+0.00719511\n",
      "[2650]\ttrain-mlogloss:0.379458+0.00136436\ttest-mlogloss:0.543933+0.00721294\n",
      "[2675]\ttrain-mlogloss:0.378231+0.00139694\ttest-mlogloss:0.543853+0.00722662\n",
      "[2700]\ttrain-mlogloss:0.37702+0.00139996\ttest-mlogloss:0.543785+0.00721415\n",
      "[2725]\ttrain-mlogloss:0.375808+0.00138163\ttest-mlogloss:0.543707+0.00724549\n",
      "[2750]\ttrain-mlogloss:0.374593+0.00143618\ttest-mlogloss:0.543659+0.00724208\n",
      "[2775]\ttrain-mlogloss:0.373321+0.00149775\ttest-mlogloss:0.543574+0.00725295\n",
      "[2800]\ttrain-mlogloss:0.372114+0.00154635\ttest-mlogloss:0.543499+0.00725337\n",
      "[2825]\ttrain-mlogloss:0.370944+0.0015374\ttest-mlogloss:0.543413+0.00726321\n",
      "[2850]\ttrain-mlogloss:0.369789+0.0015408\ttest-mlogloss:0.543314+0.00727957\n",
      "[2875]\ttrain-mlogloss:0.368657+0.00153659\ttest-mlogloss:0.543262+0.00726721\n",
      "[2900]\ttrain-mlogloss:0.367437+0.00155523\ttest-mlogloss:0.5432+0.00726003\n",
      "[2925]\ttrain-mlogloss:0.366268+0.0015686\ttest-mlogloss:0.543157+0.00727256\n",
      "[2950]\ttrain-mlogloss:0.365113+0.00161055\ttest-mlogloss:0.543109+0.00730333\n",
      "[2975]\ttrain-mlogloss:0.36396+0.00163893\ttest-mlogloss:0.543057+0.00732219\n",
      "[3000]\ttrain-mlogloss:0.362755+0.0016382\ttest-mlogloss:0.543017+0.00733602\n",
      "[3025]\ttrain-mlogloss:0.361604+0.00162262\ttest-mlogloss:0.542945+0.00734497\n",
      "[3050]\ttrain-mlogloss:0.360474+0.00163197\ttest-mlogloss:0.542896+0.00737496\n",
      "[3075]\ttrain-mlogloss:0.359318+0.0016607\ttest-mlogloss:0.542854+0.00740171\n",
      "[3100]\ttrain-mlogloss:0.358187+0.00167023\ttest-mlogloss:0.542834+0.00743207\n",
      "[3125]\ttrain-mlogloss:0.357083+0.001694\ttest-mlogloss:0.54281+0.00744995\n",
      "[3150]\ttrain-mlogloss:0.35594+0.00166927\ttest-mlogloss:0.542788+0.00745669\n",
      "[3175]\ttrain-mlogloss:0.354821+0.00168686\ttest-mlogloss:0.542747+0.00745528\n",
      "[3200]\ttrain-mlogloss:0.353712+0.00172464\ttest-mlogloss:0.542722+0.00746378\n",
      "[3225]\ttrain-mlogloss:0.352613+0.00172905\ttest-mlogloss:0.542665+0.00748538\n",
      "[3250]\ttrain-mlogloss:0.351546+0.00170771\ttest-mlogloss:0.542625+0.0074941\n",
      "[3275]\ttrain-mlogloss:0.350432+0.00170597\ttest-mlogloss:0.542604+0.00751918\n",
      "[3300]\ttrain-mlogloss:0.349339+0.00168741\ttest-mlogloss:0.542583+0.00752489\n",
      "[3325]\ttrain-mlogloss:0.348236+0.00170603\ttest-mlogloss:0.542579+0.00753878\n",
      "[3350]\ttrain-mlogloss:0.34711+0.00170869\ttest-mlogloss:0.542543+0.00756512\n",
      "[3375]\ttrain-mlogloss:0.346011+0.00170733\ttest-mlogloss:0.542512+0.00760252\n",
      "[3400]\ttrain-mlogloss:0.344906+0.00172558\ttest-mlogloss:0.542465+0.00760635\n",
      "[3425]\ttrain-mlogloss:0.343831+0.0017382\ttest-mlogloss:0.542445+0.00762354\n",
      "[3450]\ttrain-mlogloss:0.34278+0.00172715\ttest-mlogloss:0.542436+0.00762941\n",
      "[3475]\ttrain-mlogloss:0.341694+0.0017266\ttest-mlogloss:0.542426+0.00766946\n",
      "[3500]\ttrain-mlogloss:0.340651+0.00171525\ttest-mlogloss:0.542411+0.00770794\n",
      "[3525]\ttrain-mlogloss:0.339603+0.00174263\ttest-mlogloss:0.542412+0.00772413\n",
      "[3550]\ttrain-mlogloss:0.338572+0.00170809\ttest-mlogloss:0.542391+0.00774917\n",
      "[3575]\ttrain-mlogloss:0.337527+0.00166242\ttest-mlogloss:0.542394+0.0077508\n",
      "[3600]\ttrain-mlogloss:0.33647+0.00169297\ttest-mlogloss:0.542364+0.00775834\n",
      "[3625]\ttrain-mlogloss:0.335443+0.00170431\ttest-mlogloss:0.542351+0.00778433\n",
      "[3650]\ttrain-mlogloss:0.334414+0.0017119\ttest-mlogloss:0.542341+0.00779135\n",
      "[3675]\ttrain-mlogloss:0.333381+0.00170987\ttest-mlogloss:0.542328+0.00780276\n",
      "[3700]\ttrain-mlogloss:0.332376+0.00170527\ttest-mlogloss:0.542346+0.00781932\n",
      "[3725]\ttrain-mlogloss:0.331374+0.00167165\ttest-mlogloss:0.542343+0.00782682\n"
     ]
    }
   ],
   "source": [
    "bst = xgb.cv(params, dtrain, 10000, NFOLDS, early_stopping_rounds=50, verbose_eval=25)\n",
    "best_rounds = np.argmin(bst['test-mlogloss-mean'])"
   ]
  },
  {
   "cell_type": "code",
   "execution_count": 7,
   "metadata": {
    "collapsed": false
   },
   "outputs": [],
   "source": [
    "bst = xgb.train(params, dtrain, best_rounds)\n",
    "preds = bst.predict(dtest)\n",
    "preds = pd.DataFrame(preds)\n",
    "cols = ['high', 'medium', 'low']\n",
    "preds.columns = cols\n",
    "preds['listing_id'] = listing_id\n",
    "preds.to_csv('my_preds.csv', index=None)"
   ]
  },
  {
   "cell_type": "code",
   "execution_count": 9,
   "metadata": {
    "collapsed": true
   },
   "outputs": [],
   "source": [
    "%matplotlib inline"
   ]
  },
  {
   "cell_type": "code",
   "execution_count": 10,
   "metadata": {
    "collapsed": false
   },
   "outputs": [
    {
     "data": {
      "text/plain": [
       "<matplotlib.axes._subplots.AxesSubplot at 0x1323f20f0>"
      ]
     },
     "execution_count": 10,
     "metadata": {},
     "output_type": "execute_result"
    },
    {
     "data": {
      "image/png": "[encoded data removed]",
      "text/plain": [
       "<matplotlib.figure.Figure at 0x132b60668>"
      ]
     },
     "metadata": {},
     "output_type": "display_data"
    }
   ],
   "source": [
    "xgb.plot_importance(bst)"
   ]
  },
  {
   "cell_type": "code",
   "execution_count": 18,
   "metadata": {
    "collapsed": false
   },
   "outputs": [],
   "source": []
  },
  {
   "cell_type": "code",
   "execution_count": 19,
   "metadata": {
    "collapsed": false
   },
   "outputs": [],
   "source": [
    "importance = sorted(importance.items(), key=lambda x: x[1])"
   ]
  },
  {
   "cell_type": "code",
   "execution_count": 34,
   "metadata": {
    "collapsed": false
   },
   "outputs": [
    {
     "data": {
      "text/plain": [
       "234"
      ]
     },
     "execution_count": 34,
     "metadata": {},
     "output_type": "execute_result"
    }
   ],
   "source": [
    "len(importance)"
   ]
  },
  {
   "cell_type": "code",
   "execution_count": 33,
   "metadata": {
    "collapsed": false
   },
   "outputs": [
    {
     "data": {
      "text/plain": [
       "244"
      ]
     },
     "execution_count": 33,
     "metadata": {},
     "output_type": "execute_result"
    }
   ],
   "source": [
    "len(features)"
   ]
  },
  {
   "cell_type": "code",
   "execution_count": null,
   "metadata": {
    "collapsed": true
   },
   "outputs": [],
   "source": []
  }
 ],
 "metadata": {
  "kernelspec": {
   "display_name": "Python 3",
   "language": "python",
   "name": "python3"
  },
  "language_info": {
   "codemirror_mode": {
    "name": "ipython",
    "version": 3
   },
   "file_extension": ".py",
   "mimetype": "text/x-python",
   "name": "python",
   "nbconvert_exporter": "python",
   "pygments_lexer": "ipython3",
   "version": "3.5.1"
  }
 },
 "nbformat": 4,
 "nbformat_minor": 0
}
