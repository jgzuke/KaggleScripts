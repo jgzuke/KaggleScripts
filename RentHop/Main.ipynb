{
 "cells": [
  {
   "cell_type": "code",
   "execution_count": 1,
   "metadata": {
    "collapsed": false
   },
   "outputs": [
    {
     "name": "stderr",
     "output_type": "stream",
     "text": [
      "/Users/jgzuke/anaconda3/lib/python3.5/site-packages/sklearn/cross_validation.py:44: DeprecationWarning: This module was deprecated in version 0.18 in favor of the model_selection module into which all the refactored classes and functions are moved. Also note that the interface of the new CV iterators are different from that of this module. This module will be removed in 0.20.\n",
      "  \"This module will be removed in 0.20.\", DeprecationWarning)\n"
     ]
    }
   ],
   "source": [
    "%matplotlib inline\n",
    "import math\n",
    "import numpy as np\n",
    "import pandas as pd\n",
    "import random\n",
    "import xgboost as xgb\n",
    "from sklearn import preprocessing, model_selection\n",
    "from sklearn.metrics import log_loss\n",
    "import string\n",
    "from sklearn.metrics import log_loss\n",
    "from sklearn.feature_extraction.text import  CountVectorizer\n",
    "from scipy.stats import boxcox\n",
    "from scipy import stats\n",
    "from scipy import sparse"
   ]
  },
  {
   "cell_type": "code",
   "execution_count": 2,
   "metadata": {
    "collapsed": false
   },
   "outputs": [],
   "source": [
    "def fpreproc_leaky(dtrain, dtest, param):\n",
    "    train, test = dtrain.data, dtest.data\n",
    "    ntrain = train.shape[0]\n",
    "    train_test = pd.concat((train, test), axis=0).reset_index(drop=True)\n",
    "    y_train = dtrain.labels\n",
    "    \n",
    "    '''\n",
    "    # add manager worths\n",
    "    manager_ids = np.unique(train.manager_id)\n",
    "    manager_worths = {}\n",
    "    for manager_id in manager_ids:\n",
    "        interests = y_train[train.manager_id == manager_id].apply(lambda x: 2 - x)\n",
    "        if len(interests) > 5:\n",
    "            manager_worths[manager_id] = sum(interests) / len(interests)\n",
    "    average_interest = y_train.apply(lambda x: 2 - x)\n",
    "    average_manager_worth = 0 #sum(average_interest) / len(average_interest)\n",
    "    train_test['manager_worths'] = train_test['manager_id'].apply(lambda x: manager_worths[x] if x in manager_worths else average_manager_worth)\n",
    "\n",
    "    \n",
    "    # add building worths\n",
    "    building_ids = np.unique(train.building_id)\n",
    "    building_worths = {}\n",
    "    for building_id in building_ids:\n",
    "        interests = y_train[train.building_id == building_id].apply(lambda x: 2 - x)\n",
    "        if len(interests) > 5:\n",
    "            building_worths[building_id] = sum(interests) / len(interests)\n",
    "    average_interest = y_train.apply(lambda x: 2 - x)\n",
    "    average_building_worth = 0 #sum(average_interest) / len(average_interest)\n",
    "    train_test['building_worths'] = train_test['building_id'].apply(lambda x: building_worths[x] if x in building_worths else average_building_worth)\n",
    "\n",
    "    \n",
    "    # add price by area\n",
    "    lat_long_price = train_test[['latitude', 'longitude', 'price_per_bedroom']]\n",
    "    remove_outliers = (np.abs(stats.zscore(lat_long_price)) < 0.15).all(axis=1)\n",
    "    lat_long_price = lat_long_price[remove_outliers]\n",
    "    lat_max, lat_min = max(lat_long_price.latitude), min(lat_long_price.latitude)\n",
    "    long_max, long_min = max(lat_long_price.longitude), min(lat_long_price.longitude)\n",
    "    lat_scale, long_scale = lat_max - lat_min, long_max - long_min\n",
    "    costs = np.zeros((100,100))\n",
    "    num_listings = np.zeros((100,100))\n",
    "    for lat, long, price_per_bedroom in lat_long_price.values:\n",
    "        scaled_lat, scaled_long = int((lat - lat_min) * 99 / lat_scale), int((long - long_min) * 99 / long_scale)\n",
    "        costs[scaled_lat][scaled_long] += price_per_bedroom\n",
    "        num_listings[scaled_lat][scaled_long] += 1\n",
    "\n",
    "    price_by_area = []\n",
    "    for lat, long, price_per_bedroom in train_test[['latitude', 'longitude', 'price_per_bedroom']].values:\n",
    "        scaled_lat, scaled_long = int((lat - lat_min) * 99 / lat_scale), int((long - long_min) * 99 / long_scale)\n",
    "        if scaled_lat < 0 or scaled_lat >= 100 or scaled_long < 0 or scaled_long >= 100:\n",
    "            price_by_area.append(1)\n",
    "        elif num_listings[scaled_lat][scaled_long] > 8:\n",
    "            price_by_area.append(price_per_bedroom / (costs[scaled_lat][scaled_long] / num_listings[scaled_lat][scaled_long]))\n",
    "        else:\n",
    "            cost = 0\n",
    "            num = 0\n",
    "            for i in range(scaled_lat - 1, scaled_lat + 2):\n",
    "                for j in range(scaled_long - 1, scaled_long + 2):\n",
    "                    if i > 0 and i < 100 and j >= 0 and j < 100:\n",
    "                        cost += costs[i][j]\n",
    "                        num += num_listings[i][j]\n",
    "            if num > 8:\n",
    "                price_by_area.append(price_per_bedroom / (cost / num))\n",
    "            else:\n",
    "                price_by_area.append(1)\n",
    "\n",
    "    train_test['price_by_area'] = price_by_area\n",
    "    \n",
    "    \n",
    "    # try adding real - predicted price\n",
    "    # Try to predict price for a listing and add real_price - expected_price as a feature\n",
    "    features_to_use = ['BoroCode', 'NTACode', 'bathrooms', 'bedrooms', 'address1', 'other_address', 'building_worths', 'manager_worths']\n",
    "    feature_to_predict = 'price'\n",
    "    params = {\n",
    "        'objective': 'reg:linear',\n",
    "        'booster':'gblinear',\n",
    "        'lambda': 0,\n",
    "        'lambda_bias' : 0,\n",
    "        'alpha': 0.2\n",
    "    }\n",
    "    prices = train_test[feature_to_predict]\n",
    "    remove_outliers = np.abs(prices-prices.mean())<=(3*prices.std())\n",
    "    dtrain = xgb.DMatrix(data=train_test[remove_outliers][features_to_use], label=train_test[remove_outliers][feature_to_predict])\n",
    "\n",
    "    bst = xgb.cv(params, dtrain, 10000, 4, early_stopping_rounds=50, verbose_eval=200)\n",
    "    best_rounds = np.argmin(bst['test-rmse-mean'])\n",
    "    print (bst['test-rmse-mean'][best_rounds])\n",
    "    bst = xgb.train(params, dtrain, best_rounds)\n",
    "    dtrain = xgb.DMatrix(data=train_test[features_to_use])\n",
    "    expected_price = bst.predict(dtrain)\n",
    "    train_test['real_minus_expected_price'] = train_test[feature_to_predict] - expected_price\n",
    "    train_test['real_over_expected_price'] = train_test[feature_to_predict] / expected_price\n",
    "    \n",
    "    \n",
    "    # enumerated streets / price / price per street (/ num bedrooms) / price / price per street (/ num bedrooms + 0.1*bath)\n",
    "    reasonable_prices = train_test[np.abs(prices-prices.mean())<=(3*prices.std())]\n",
    "    for split in []:# ['address1', 'BoroCode', 'NTACode']:\n",
    "        unique_labels = np.unique(reasonable_prices[split])\n",
    "        label_to_price = {}\n",
    "        for label in unique_labels:\n",
    "            listings = reasonable_prices[reasonable_prices[split] == label]\n",
    "            if len(listings) > 10:\n",
    "                label_to_price[label] = sum(listings.price_per_bedroom) / len(listings)\n",
    "                \n",
    "        train_test['price_by_{}'.format(split)] = train_test.apply(lambda x: (x.price_per_bedroom / label_to_price[x[split]]) if x[split] in label_to_price else 1, axis=1)\n",
    "\n",
    "    '''\n",
    "    \n",
    "    # remove extra\n",
    "    train_test.drop('price', axis=1, inplace=True)\n",
    "    \n",
    "    dtrain = xgb.DMatrix(data=train_test[:ntrain], label=y_train)\n",
    "    dtest = xgb.DMatrix(data=train_test[ntrain:], label=dtest.labels)\n",
    "    return dtrain, dtest, param"
   ]
  },
  {
   "cell_type": "code",
   "execution_count": 3,
   "metadata": {
    "collapsed": true
   },
   "outputs": [],
   "source": [
    "current_filter = ['bc_price', 'price_per_bedroom', 'price_per_bathroom', 'price_per_bed_and_bath', 'BoroCode', 'NTACode', 'price', 'latitude', 'price_by_area', 'longitude', 'manager_worths', 'address1', 'real_over_expected_price', 'desc_words_length', 'real_minus_expected_price', 'manager_id', 'Yday', 'building_id', 'building_worths', 'desc_letters_count', 'Day', 'desc_words_count', 'hour', 'bedrooms', 'photos_count', 'features_count', 'Wday', 'sparse_nofee', 'bathrooms', 'sparse_furnished', 'sparse_laundryinbuilding', 'sparse_hardwoodfloors', 'sparse_laundryinunit', 'Month', 'sparse_catsallowed', 'sparse_exclusive', 'street', 'sparse_elevator', 'sparse_prewar', 'sparse_dogsallowed', 'sparse_reducedfee', 'avenue', 'east', 'sparse_doorman', 'sparse_dishwasher', 'other_address', 'sparse_fitnesscenter', 'sparse_privateoutdoorspace', 'sparse_commonoutdoorspace', 'sparse_outdoorspace', 'sparse_loft', 'sparse_diningroom', 'sparse_balcony', 'sparse_highspeedinternet', 'sparse_parkingspace', 'sparse_terrace', 'sparse_swimmingpool', 'west', 'sparse_roofdeck', 'sparse_actualapt', 'sparse_wheelchairaccess', 'sparse_newconstruction', 'Zero_building_id', 'sparse_simplex', 'sparse_patio', 'sparse_garden', 'sparse_multilevel', 'sparse_hardwood', 'sparse_shorttermallowed', 'south', 'sparse_stainlesssteelappliances', 'sparse_fireplace', 'sparse_highceiling', 'sparse_renovated', 'sparse_liveinsuper', 'sparse_storage', 'sparse_garage', 'sparse_dryerinunit', 'sparse_outdoorareas', 'sparse_petsok', 'sparse_lndrybldg', 'sparse_concierge', 'sparse_new', 'sparse_highceilings', 'sparse_onsitelaundry', 'sparse_centrala', 'sparse_flex3', 'sparse_photos', 'sparse_view', 'sparse_publicoutdoor', 'sparse_allutilitiesincluded', 'sparse_residentslounge', 'sparse_newlyrenovated', 'sparse_washerinunit', 'sparse_onsitegarage', 'sparse_assignedparkingspace', 'north', 'sparse_washer', 'sparse_light', 'sparse_dryer', 'sparse_lowrise', 'sparse_sublet', 'sparse_granitekitchen', 'sparse_elev', 'sparse_virtualdoorman', 'sparse_sundeck', 'sparse_rooftopdeck', 'sparse_wallsofwindows', 'sparse_sharesok', 'sparse_duplex', 'sparse_nopets', 'sparse_cable', 'sparse_microwave', 'sparse_wifiaccess', 'sparse_walkincloset', 'sparse_petsonapproval', 'sparse_pool', 'sparse_eatinkitchen', 'sparse_marblebath', 'sparse_live', 'sparse_sauna', 'sparse_greenbuilding', 'sparse_exposedbrick', 'sparse_largelivingroom', 'sparse_bikeroom', 'sparse_highrise', 'sparse_laundry', 'sparse_privateroofdeck', 'sparse_laundryroom', 'sparse_commonbackyard', 'sparse_privatebackyard', 'sparse_parking', 'sparse_privateparking', 'sparse_childrensplayroom', 'sparse_privatebalcony', 'sparse_indoorpool']\n",
    "leaky = ['manager_worths', 'building_worths', 'price_by_area', 'real_minus_expected_price', 'real_over_expected_price', 'address1']\n",
    "excluded = ['BoroCode', 'NTACode'] #, 'price_per_bedroom', 'price_per_bathroom', 'price_per_bed_and_bath']\n",
    "def filter_data_to_columns(data):\n",
    "    return data[[col for col in current_filter if col not in leaky and col not in excluded]]"
   ]
  },
  {
   "cell_type": "markdown",
   "metadata": {},
   "source": [
    "# Run CV"
   ]
  },
  {
   "cell_type": "code",
   "execution_count": 4,
   "metadata": {
    "collapsed": false
   },
   "outputs": [
    {
     "name": "stdout",
     "output_type": "stream",
     "text": [
      "[0]\ttrain-mlogloss:1.09199+5.04997e-05\ttest-mlogloss:1.09211+2.75802e-05\n",
      "[200]\ttrain-mlogloss:0.635882+0.00209481\ttest-mlogloss:0.656265+0.00441317\n",
      "[400]\ttrain-mlogloss:0.56255+0.00232078\ttest-mlogloss:0.600346+0.0055522\n",
      "[600]\ttrain-mlogloss:0.52836+0.00236048\ttest-mlogloss:0.582248+0.00567578\n",
      "[800]\ttrain-mlogloss:0.503882+0.00243597\ttest-mlogloss:0.572789+0.00578039\n",
      "[1000]\ttrain-mlogloss:0.483854+0.0024353\ttest-mlogloss:0.566757+0.00574324\n",
      "[1200]\ttrain-mlogloss:0.466266+0.00218088\ttest-mlogloss:0.562407+0.00587802\n",
      "[1400]\ttrain-mlogloss:0.450232+0.00176134\ttest-mlogloss:0.559268+0.00598037\n",
      "[1600]\ttrain-mlogloss:0.435421+0.00174083\ttest-mlogloss:0.556837+0.00598201\n",
      "[1800]\ttrain-mlogloss:0.421676+0.00157247\ttest-mlogloss:0.554981+0.00605523\n",
      "[2000]\ttrain-mlogloss:0.408641+0.00152666\ttest-mlogloss:0.553541+0.00605184\n",
      "[2200]\ttrain-mlogloss:0.396407+0.00131219\ttest-mlogloss:0.552398+0.0060881\n",
      "[2400]\ttrain-mlogloss:0.384558+0.00128334\ttest-mlogloss:0.551395+0.0060911\n",
      "[2600]\ttrain-mlogloss:0.373385+0.0012235\ttest-mlogloss:0.550771+0.00616827\n",
      "[2800]\ttrain-mlogloss:0.362597+0.00118726\ttest-mlogloss:0.550285+0.0062805\n",
      "[3000]\ttrain-mlogloss:0.35238+0.00104891\ttest-mlogloss:0.549945+0.00634408\n",
      "[3200]\ttrain-mlogloss:0.342387+0.00116626\ttest-mlogloss:0.549699+0.00643843\n",
      "0.549637333333\n",
      "3286\n",
      "CPU times: user 1h 57min 5s, sys: 5min 19s, total: 2h 2min 24s\n",
      "Wall time: 50min 31s\n"
     ]
    }
   ],
   "source": [
    "%%time\n",
    "class FakeDMatrix:\n",
    "    def __init__(self, data, labels=None):\n",
    "        self.data = data\n",
    "        self.labels = labels\n",
    "        self.num = len(data)\n",
    "\n",
    "    def num_row(self):\n",
    "        return self.num\n",
    "\n",
    "    def slice(self, rindex):\n",
    "        indices = np.zeros(self.num, dtype=np.bool)\n",
    "        for index in rindex:\n",
    "            indices[index] = True\n",
    "        return FakeDMatrix(data=self.data[indices], labels=self.labels[indices])\n",
    "    \n",
    "SEED = 777\n",
    "NFOLDS = 3\n",
    "y_map = {'low': 2, 'medium': 1, 'high': 0}\n",
    "\n",
    "params = {\n",
    "    'eta':.01,\n",
    "    'colsample_bytree':.8,\n",
    "    'subsample':.8,\n",
    "    'seed':0,\n",
    "    'nthread':16,\n",
    "    'objective':'multi:softprob',\n",
    "    'eval_metric':'mlogloss',\n",
    "    'num_class':3,\n",
    "    'silent':1\n",
    "}\n",
    "\n",
    "processed_train = filter_data_to_columns(pd.read_json('data/train.json'))\n",
    "y_train = pd.read_json('data/train_interest.json')\n",
    "\n",
    "dtrain = FakeDMatrix(data=processed_train, labels=y_train)\n",
    "processed_train = None\n",
    "y_train = None\n",
    "\n",
    "bst = xgb.cv(params, dtrain, 10000, NFOLDS, early_stopping_rounds=50, verbose_eval=200, fpreproc=fpreproc_leaky)\n",
    "best_rounds = np.argmin(bst['test-mlogloss-mean'])\n",
    "print (bst['test-mlogloss-mean'][best_rounds])\n",
    "print (best_rounds)"
   ]
  },
  {
   "cell_type": "markdown",
   "metadata": {},
   "source": [
    "# Run To Submit"
   ]
  },
  {
   "cell_type": "code",
   "execution_count": 5,
   "metadata": {
    "collapsed": false
   },
   "outputs": [
    {
     "name": "stdout",
     "output_type": "stream",
     "text": [
      "[('manager_id', 36363), ('latitude', 35680), ('longitude', 33206), ('bc_price', 29800), ('desc_words_length', 27866), ('building_id', 25638), ('Yday', 23643), ('desc_letters_count', 23153), ('price_per_bedroom', 21492), ('price_per_bathroom', 18244), ('desc_words_count', 17357), ('price_per_bed_and_bath', 17146), ('Day', 17000), ('hour', 16170), ('photos_count', 13436), ('features_count', 12331), ('Wday', 9506), ('bedrooms', 5737), ('sparse_nofee', 4416), ('bathrooms', 3068), ('sparse_laundryinbuilding', 2976), ('sparse_hardwoodfloors', 2734), ('sparse_furnished', 2689), ('sparse_laundryinunit', 2200), ('east', 1951), ('sparse_prewar', 1873), ('street', 1801), ('sparse_catsallowed', 1680), ('west', 1628), ('sparse_exclusive', 1603), ('avenue', 1597), ('sparse_dogsallowed', 1529), ('other_address', 1422), ('sparse_dishwasher', 1393), ('sparse_doorman', 1306), ('sparse_reducedfee', 1300), ('sparse_elevator', 1292), ('sparse_outdoorspace', 1245), ('sparse_fitnesscenter', 1196), ('sparse_loft', 1105), ('sparse_diningroom', 1064), ('Month', 966), ('sparse_commonoutdoorspace', 961), ('sparse_balcony', 941), ('sparse_privateoutdoorspace', 938), ('sparse_roofdeck', 873), ('sparse_swimmingpool', 849), ('sparse_highspeedinternet', 844), ('sparse_newconstruction', 813), ('sparse_terrace', 786), ('sparse_patio', 768), ('sparse_wheelchairaccess', 744), ('sparse_parkingspace', 665), ('sparse_simplex', 663), ('sparse_actualapt', 648), ('Zero_building_id', 616), ('sparse_multilevel', 389), ('sparse_hardwood', 378), ('sparse_garden', 358), ('south', 350), ('sparse_shorttermallowed', 345), ('sparse_highceiling', 332), ('sparse_storage', 329), ('sparse_renovated', 292), ('sparse_fireplace', 288), ('sparse_liveinsuper', 236), ('sparse_outdoorareas', 218), ('sparse_newlyrenovated', 212), ('north', 197), ('sparse_stainlesssteelappliances', 194), ('sparse_highceilings', 188), ('sparse_garage', 187), ('sparse_petsok', 184), ('sparse_concierge', 169), ('sparse_washerinunit', 161), ('sparse_onsitelaundry', 159), ('sparse_dryerinunit', 158), ('sparse_greenbuilding', 154), ('sparse_lndrybldg', 153), ('sparse_publicoutdoor', 150), ('sparse_granitekitchen', 136), ('sparse_walkincloset', 135), ('sparse_assignedparkingspace', 132), ('sparse_cable', 132), ('sparse_onsitegarage', 132), ('sparse_photos', 126), ('sparse_allutilitiesincluded', 122), ('sparse_new', 105), ('sparse_view', 102), ('sparse_petsonapproval', 101), ('sparse_sublet', 94), ('sparse_residentslounge', 93), ('sparse_microwave', 91), ('sparse_pool', 90), ('sparse_live', 89), ('sparse_sundeck', 87), ('sparse_flex3', 86), ('sparse_lowrise', 82), ('sparse_washer', 81), ('sparse_eatinkitchen', 71), ('sparse_wallsofwindows', 71), ('sparse_commonbackyard', 69), ('sparse_exposedbrick', 69), ('sparse_sauna', 67), ('sparse_elev', 64), ('sparse_light', 64), ('sparse_wifiaccess', 60), ('sparse_bikeroom', 59), ('sparse_indoorpool', 59), ('sparse_duplex', 58), ('sparse_laundry', 56), ('sparse_dryer', 56), ('sparse_centrala', 52), ('sparse_virtualdoorman', 50), ('sparse_highrise', 48), ('sparse_privateroofdeck', 44), ('sparse_largelivingroom', 43), ('sparse_sharesok', 40), ('sparse_nopets', 39), ('sparse_rooftopdeck', 26), ('sparse_privateparking', 26), ('sparse_parking', 24), ('sparse_laundryroom', 22), ('sparse_privatebackyard', 19), ('sparse_childrensplayroom', 15), ('sparse_marblebath', 15), ('sparse_privatebalcony', 14)]\n",
      "CPU times: user 59min 52s, sys: 1min 56s, total: 1h 1min 49s\n",
      "Wall time: 25min 42s\n"
     ]
    }
   ],
   "source": [
    "%%time\n",
    "processed_test = filter_data_to_columns(pd.read_json('data/test.json'))\n",
    "listing_id = pd.read_json('data/test_ids.json', typ='series').values\n",
    "\n",
    "dtest = FakeDMatrix(data=processed_test)\n",
    "processed_test = None\n",
    "\n",
    "dtrain_final, dtest_final, _ = fpreproc_leaky(dtrain, dtest, None)\n",
    "dtrain = None\n",
    "dtest = None\n",
    "\n",
    "bst = xgb.train(params, dtrain_final, best_rounds)\n",
    "dtrain_final = None\n",
    "\n",
    "preds = bst.predict(dtest_final)\n",
    "# save for column names\n",
    "#dtest_final = None\n",
    "\n",
    "preds = pd.DataFrame(preds)\n",
    "preds.columns = ['high', 'medium', 'low']\n",
    "preds['listing_id'] = listing_id\n",
    "preds.to_csv('data/my_preds.csv', index=None)\n",
    "\n",
    "importance = bst.get_fscore()\n",
    "feature_importance = [(feature, (importance[feature])) for feature in importance]\n",
    "print (sorted(feature_importance, key=lambda x: -x[1]))"
   ]
  },
  {
   "cell_type": "code",
   "execution_count": 6,
   "metadata": {
    "collapsed": false
   },
   "outputs": [
    {
     "data": {
      "text/plain": [
       "0.99658869292590713"
      ]
     },
     "execution_count": 6,
     "metadata": {},
     "output_type": "execute_result"
    }
   ],
   "source": [
    "best_preds = pd.read_csv('data/my_best_preds.csv')\n",
    "truths = np.argmax(best_preds[['high', 'medium', 'low']].values, axis=1)\n",
    "# should be < 0.5 for a good submission\n",
    "log_loss(truths, preds[['high', 'medium', 'low']].values)"
   ]
  },
  {
   "cell_type": "code",
   "execution_count": null,
   "metadata": {
    "collapsed": true
   },
   "outputs": [],
   "source": []
  }
 ],
 "metadata": {
  "kernelspec": {
   "display_name": "Python 3",
   "language": "python",
   "name": "python3"
  },
  "language_info": {
   "codemirror_mode": {
    "name": "ipython",
    "version": 3
   },
   "file_extension": ".py",
   "mimetype": "text/x-python",
   "name": "python",
   "nbconvert_exporter": "python",
   "pygments_lexer": "ipython3",
   "version": "3.5.3"
  }
 },
 "nbformat": 4,
 "nbformat_minor": 0
}
