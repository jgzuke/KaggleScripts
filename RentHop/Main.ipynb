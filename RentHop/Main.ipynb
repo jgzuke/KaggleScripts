{
 "cells": [
  {
   "cell_type": "code",
   "execution_count": 1,
   "metadata": {
    "collapsed": false
   },
   "outputs": [
    {
     "name": "stderr",
     "output_type": "stream",
     "text": [
      "/Users/jgzuke/anaconda3/lib/python3.5/site-packages/sklearn/cross_validation.py:44: DeprecationWarning: This module was deprecated in version 0.18 in favor of the model_selection module into which all the refactored classes and functions are moved. Also note that the interface of the new CV iterators are different from that of this module. This module will be removed in 0.20.\n",
      "  \"This module will be removed in 0.20.\", DeprecationWarning)\n"
     ]
    }
   ],
   "source": [
    "%matplotlib inline\n",
    "import math\n",
    "import numpy as np\n",
    "import pandas as pd\n",
    "import random\n",
    "import xgboost as xgb\n",
    "from sklearn import preprocessing, model_selection\n",
    "from sklearn.metrics import log_loss\n",
    "import string\n",
    "from sklearn.metrics import log_loss\n",
    "from sklearn.feature_extraction.text import  CountVectorizer\n",
    "from scipy.stats import boxcox\n",
    "from scipy import stats\n",
    "from scipy import sparse"
   ]
  },
  {
   "cell_type": "code",
   "execution_count": 9,
   "metadata": {
    "collapsed": false
   },
   "outputs": [],
   "source": [
    "def fpreproc_leaky(dtrain, dtest, param):\n",
    "    train, test = dtrain.data, dtest.data\n",
    "    ntrain = train.shape[0]\n",
    "    train_test = pd.concat((train, test), axis=0).reset_index(drop=True)\n",
    "    y_train = dtrain.labels\n",
    "    \n",
    "    # average listing worth\n",
    "    average_listing_worth = 0 #sum(average_interest) / len(average_interest)\n",
    "    \n",
    "    # add manager worths\n",
    "    manager_ids = np.unique(train.manager_id)\n",
    "    manager_worths = {}\n",
    "    for manager_id in manager_ids:\n",
    "        interests = y_train[train.manager_id == manager_id].apply(lambda x: 2 - x)\n",
    "        if len(interests) > 5:\n",
    "            manager_worths[manager_id] = sum(interests.values)[0] / len(interests)\n",
    "    average_interest = y_train.apply(lambda x: 2 - x)\n",
    "    train_test['manager_worths'] = train_test['manager_id'].apply(lambda x: manager_worths[x] if x in manager_worths else average_listing_worth)\n",
    "\n",
    "    \n",
    "    # add building worths\n",
    "    building_ids = np.unique(train.building_id)\n",
    "    building_worths = {}\n",
    "    for building_id in building_ids:\n",
    "        interests = y_train[train.building_id == building_id].apply(lambda x: 2 - x)\n",
    "        if len(interests) > 5:\n",
    "            building_worths[building_id] = sum(interests.values)[0] / len(interests)\n",
    "    average_interest = y_train.apply(lambda x: 2 - x)\n",
    "    train_test['building_worths'] = train_test['building_id'].apply(lambda x: building_worths[x] if x in building_worths else average_listing_worth)\n",
    "\n",
    "    \n",
    "    # add price by area\n",
    "    lat_long_price = train_test[['latitude', 'longitude', 'price_per_bedroom']]\n",
    "    remove_outliers = (np.abs(stats.zscore(lat_long_price)) < 0.15).all(axis=1)\n",
    "    lat_long_price = lat_long_price[remove_outliers]\n",
    "    lat_max, lat_min = max(lat_long_price.latitude), min(lat_long_price.latitude)\n",
    "    long_max, long_min = max(lat_long_price.longitude), min(lat_long_price.longitude)\n",
    "    lat_scale, long_scale = lat_max - lat_min, long_max - long_min\n",
    "    costs = np.zeros((100,100))\n",
    "    num_listings = np.zeros((100,100))\n",
    "    for lat, long, price_per_bedroom in lat_long_price.values:\n",
    "        scaled_lat, scaled_long = int((lat - lat_min) * 99 / lat_scale), int((long - long_min) * 99 / long_scale)\n",
    "        costs[scaled_lat][scaled_long] += price_per_bedroom\n",
    "        num_listings[scaled_lat][scaled_long] += 1\n",
    "\n",
    "    price_by_area = []\n",
    "    for lat, long, price_per_bedroom in train_test[['latitude', 'longitude', 'price_per_bedroom']].values:\n",
    "        scaled_lat, scaled_long = int((lat - lat_min) * 99 / lat_scale), int((long - long_min) * 99 / long_scale)\n",
    "        if scaled_lat < 0 or scaled_lat >= 100 or scaled_long < 0 or scaled_long >= 100:\n",
    "            price_by_area.append(1)\n",
    "        elif num_listings[scaled_lat][scaled_long] > 8:\n",
    "            price_by_area.append(price_per_bedroom / (costs[scaled_lat][scaled_long] / num_listings[scaled_lat][scaled_long]))\n",
    "        else:\n",
    "            cost = 0\n",
    "            num = 0\n",
    "            for i in range(scaled_lat - 1, scaled_lat + 2):\n",
    "                for j in range(scaled_long - 1, scaled_long + 2):\n",
    "                    if i > 0 and i < 100 and j >= 0 and j < 100:\n",
    "                        cost += costs[i][j]\n",
    "                        num += num_listings[i][j]\n",
    "            if num > 8:\n",
    "                price_by_area.append(price_per_bedroom / (cost / num))\n",
    "            else:\n",
    "                price_by_area.append(1)\n",
    "\n",
    "    train_test['price_by_area'] = price_by_area\n",
    "    \n",
    "    \n",
    "    # try adding real - predicted price\n",
    "    # Try to predict price for a listing and add real_price - expected_price as a feature\n",
    "    features_to_use = ['BoroCode', 'NTACode', 'bathrooms', 'bedrooms', 'address1', 'other_address', 'building_worths', 'manager_worths']\n",
    "    feature_to_predict = 'price'\n",
    "    params = {\n",
    "        'objective': 'reg:linear',\n",
    "        'booster':'gblinear',\n",
    "        'lambda': 0,\n",
    "        'lambda_bias' : 0,\n",
    "        'alpha': 0.2\n",
    "    }\n",
    "    prices = train_test[feature_to_predict]\n",
    "    remove_outliers = np.abs(prices-prices.mean())<=(3*prices.std())\n",
    "    dtrain = xgb.DMatrix(data=train_test[remove_outliers][features_to_use], label=train_test[remove_outliers][feature_to_predict])\n",
    "\n",
    "    bst = xgb.cv(params, dtrain, 10000, 4, early_stopping_rounds=50, verbose_eval=200)\n",
    "    best_rounds = np.argmin(bst['test-rmse-mean'])\n",
    "    print (bst['test-rmse-mean'][best_rounds])\n",
    "    bst = xgb.train(params, dtrain, best_rounds)\n",
    "    dtrain = xgb.DMatrix(data=train_test[features_to_use])\n",
    "    expected_price = bst.predict(dtrain)\n",
    "    train_test['real_minus_expected_price'] = train_test[feature_to_predict] - expected_price\n",
    "    train_test['real_over_expected_price'] = train_test[feature_to_predict] / expected_price\n",
    "    \n",
    "    \n",
    "    # enumerated streets / price / price per street (/ num bedrooms) / price / price per street (/ num bedrooms + 0.1*bath)\n",
    "    reasonable_prices = train_test[np.abs(prices-prices.mean())<=(3*prices.std())]\n",
    "    for split in ['address1', 'BoroCode', 'NTACode']:\n",
    "        unique_labels = np.unique(reasonable_prices[split])\n",
    "        label_to_price = {}\n",
    "        label_to_interest = {}\n",
    "        for label in unique_labels:\n",
    "            listings = reasonable_prices[reasonable_prices[split] == label]\n",
    "            if len(listings) > 10:\n",
    "                label_to_price[label] = sum(listings.price_per_bedroom) / len(listings)\n",
    "                \n",
    "            interests = y_train[train[split] == label].apply(lambda x: 2 - x)\n",
    "            if len(interests) > 5:\n",
    "                label_to_interest[label] = sum(interests.values)[0] / len(interests)\n",
    "                \n",
    "        train_test['price_by_{}'.format(split)] = train_test.apply(lambda x: (x.price_per_bedroom / label_to_price[x[split]]) if x[split] in label_to_price else 1, axis=1)\n",
    "        train_test['worth_by_{}'.format(split)] = train_test[split].apply(lambda x: label_to_interest[x] if x in label_to_interest else average_listing_worth)\n",
    "    \n",
    "    # remove extra\n",
    "    train_test.drop('price', axis=1, inplace=True)\n",
    "    \n",
    "    dtrain = xgb.DMatrix(data=train_test[:ntrain], label=y_train)\n",
    "    dtest = xgb.DMatrix(data=train_test[ntrain:], label=dtest.labels)\n",
    "    return dtrain, dtest, param"
   ]
  },
  {
   "cell_type": "code",
   "execution_count": 3,
   "metadata": {
    "collapsed": true
   },
   "outputs": [],
   "source": [
    "current_filter = ['bc_price', 'price_per_bedroom', 'price_per_bathroom', 'price_per_bed_and_bath', 'BoroCode', 'NTACode', 'price', 'latitude', 'price_by_area', 'longitude', 'manager_worths', 'address1', 'real_over_expected_price', 'desc_words_length', 'real_minus_expected_price', 'manager_id', 'Yday', 'building_id', 'building_worths', 'desc_letters_count', 'Day', 'desc_words_count', 'hour', 'bedrooms', 'photos_count', 'features_count', 'Wday', 'sparse_nofee', 'bathrooms', 'sparse_furnished', 'sparse_laundryinbuilding', 'sparse_hardwoodfloors', 'sparse_laundryinunit', 'Month', 'sparse_catsallowed', 'sparse_exclusive', 'street', 'sparse_elevator', 'sparse_prewar', 'sparse_dogsallowed', 'sparse_reducedfee', 'avenue', 'east', 'sparse_doorman', 'sparse_dishwasher', 'other_address', 'sparse_fitnesscenter', 'sparse_privateoutdoorspace', 'sparse_commonoutdoorspace', 'sparse_outdoorspace', 'sparse_loft', 'sparse_diningroom', 'sparse_balcony', 'sparse_highspeedinternet', 'sparse_parkingspace', 'sparse_terrace', 'sparse_swimmingpool', 'west', 'sparse_roofdeck', 'sparse_actualapt', 'sparse_wheelchairaccess', 'sparse_newconstruction', 'Zero_building_id', 'sparse_simplex', 'sparse_patio', 'sparse_garden', 'sparse_multilevel', 'sparse_hardwood', 'sparse_shorttermallowed', 'south', 'sparse_stainlesssteelappliances', 'sparse_fireplace', 'sparse_highceiling', 'sparse_renovated', 'sparse_liveinsuper', 'sparse_storage', 'sparse_garage', 'sparse_dryerinunit', 'sparse_outdoorareas', 'sparse_petsok', 'sparse_lndrybldg', 'sparse_concierge', 'sparse_new', 'sparse_highceilings', 'sparse_onsitelaundry', 'sparse_centrala', 'sparse_flex3', 'sparse_photos', 'sparse_view', 'sparse_publicoutdoor', 'sparse_allutilitiesincluded', 'sparse_residentslounge', 'sparse_newlyrenovated', 'sparse_washerinunit', 'sparse_onsitegarage', 'sparse_assignedparkingspace', 'north', 'sparse_washer', 'sparse_light', 'sparse_dryer', 'sparse_lowrise', 'sparse_sublet', 'sparse_granitekitchen', 'sparse_elev', 'sparse_virtualdoorman', 'sparse_sundeck', 'sparse_rooftopdeck', 'sparse_wallsofwindows', 'sparse_sharesok', 'sparse_duplex', 'sparse_nopets', 'sparse_cable', 'sparse_microwave', 'sparse_wifiaccess', 'sparse_walkincloset', 'sparse_petsonapproval', 'sparse_pool', 'sparse_eatinkitchen', 'sparse_marblebath', 'sparse_live', 'sparse_sauna', 'sparse_greenbuilding', 'sparse_exposedbrick', 'sparse_largelivingroom', 'sparse_bikeroom', 'sparse_highrise', 'sparse_laundry', 'sparse_privateroofdeck', 'sparse_laundryroom', 'sparse_commonbackyard', 'sparse_privatebackyard', 'sparse_parking', 'sparse_privateparking', 'sparse_childrensplayroom', 'sparse_privatebalcony', 'sparse_indoorpool']\n",
    "leaky = ['manager_worths', 'building_worths', 'price_by_area', 'real_minus_expected_price', 'real_over_expected_price']\n",
    "excluded = [] #'BoroCode', 'NTACode'] #, 'price_per_bedroom', 'price_per_bathroom', 'price_per_bed_and_bath']\n",
    "def filter_data_to_columns(data):\n",
    "    return data #[[col for col in current_filter if col not in leaky and col not in excluded]]"
   ]
  },
  {
   "cell_type": "markdown",
   "metadata": {},
   "source": [
    "# Run CV"
   ]
  },
  {
   "cell_type": "code",
   "execution_count": 4,
   "metadata": {
    "collapsed": false
   },
   "outputs": [
    {
     "name": "stdout",
     "output_type": "stream",
     "text": [
      "[0]\ttrain-rmse:2028.02+4.95931\ttest-rmse:2026.61+63.9387\n",
      "1577.82290675\n",
      "[0]\ttrain-rmse:2042.58+48.7314\ttest-rmse:2040.43+112.343\n",
      "1572.832428\n",
      "[0]\ttrain-rmse:2040.83+24.4325\ttest-rmse:2040.08+66.6658\n",
      "[200]\ttrain-rmse:1576.46+25.7335\ttest-rmse:1575.47+74.8311\n",
      "1575.4721375\n",
      "[0]\ttrain-mlogloss:1.09149+4.76189e-05\ttest-mlogloss:1.09179+3.25201e-05\n",
      "[200]\ttrain-mlogloss:0.590529+0.00206352\ttest-mlogloss:0.632937+0.00437172\n",
      "[400]\ttrain-mlogloss:0.509094+0.00245771\ttest-mlogloss:0.577507+0.00577111\n",
      "[600]\ttrain-mlogloss:0.473041+0.00278344\ttest-mlogloss:0.5614+0.00599762\n",
      "[800]\ttrain-mlogloss:0.448223+0.00272998\ttest-mlogloss:0.553912+0.00611605\n",
      "[1000]\ttrain-mlogloss:0.428439+0.00247294\ttest-mlogloss:0.549505+0.00607799\n",
      "[1200]\ttrain-mlogloss:0.411654+0.00215984\ttest-mlogloss:0.546701+0.00602279\n",
      "[1400]\ttrain-mlogloss:0.396108+0.00176339\ttest-mlogloss:0.544981+0.00610467\n",
      "[1600]\ttrain-mlogloss:0.382032+0.00165274\ttest-mlogloss:0.543897+0.00606365\n",
      "[1800]\ttrain-mlogloss:0.368611+0.001446\ttest-mlogloss:0.543268+0.00609572\n",
      "[2000]\ttrain-mlogloss:0.355869+0.00141072\ttest-mlogloss:0.542751+0.00609818\n",
      "[2200]\ttrain-mlogloss:0.343891+0.00150263\ttest-mlogloss:0.542609+0.00612448\n",
      "0.542595333333\n",
      "2163\n",
      "CPU times: user 2h 15min 35s, sys: 3min 43s, total: 2h 19min 19s\n",
      "Wall time: 46min 39s\n"
     ]
    }
   ],
   "source": [
    "%%time\n",
    "class FakeDMatrix:\n",
    "    def __init__(self, data, labels=None):\n",
    "        self.data = data\n",
    "        self.labels = labels\n",
    "        self.num = len(data)\n",
    "\n",
    "    def num_row(self):\n",
    "        return self.num\n",
    "\n",
    "    def slice(self, rindex):\n",
    "        indices = np.zeros(self.num, dtype=np.bool)\n",
    "        for index in rindex:\n",
    "            indices[index] = True\n",
    "        return FakeDMatrix(data=self.data[indices], labels=self.labels[indices])\n",
    "    \n",
    "SEED = 777\n",
    "NFOLDS = 3\n",
    "y_map = {'low': 2, 'medium': 1, 'high': 0}\n",
    "\n",
    "params = {\n",
    "    'eta':.01,\n",
    "    'colsample_bytree':.8,\n",
    "    'subsample':.8,\n",
    "    'seed':0,\n",
    "    'nthread':16,\n",
    "    'objective':'multi:softprob',\n",
    "    'eval_metric':'mlogloss',\n",
    "    'num_class':3,\n",
    "    'silent':1\n",
    "}\n",
    "\n",
    "processed_train = filter_data_to_columns(pd.read_json('data/train.json'))\n",
    "y_train = pd.read_json('data/train_interest.json')\n",
    "\n",
    "dtrain = FakeDMatrix(data=processed_train, labels=y_train)\n",
    "processed_train = None\n",
    "y_train = None\n",
    "\n",
    "bst = xgb.cv(params, dtrain, 10000, NFOLDS, early_stopping_rounds=50, verbose_eval=200, fpreproc=fpreproc_leaky)\n",
    "best_rounds = np.argmin(bst['test-mlogloss-mean'])\n",
    "print (bst['test-mlogloss-mean'][best_rounds])\n",
    "print (best_rounds)"
   ]
  },
  {
   "cell_type": "markdown",
   "metadata": {},
   "source": [
    "- 0.548561666667 for all features (lb 0.54993)\n",
    "- 0.542629666667 for all features after fixing from all worths being 0"
   ]
  },
  {
   "cell_type": "markdown",
   "metadata": {},
   "source": [
    "# Run To Submit"
   ]
  },
  {
   "cell_type": "code",
   "execution_count": 5,
   "metadata": {
    "collapsed": false
   },
   "outputs": [
    {
     "name": "stdout",
     "output_type": "stream",
     "text": [
      "[0]\ttrain-rmse:2001.04+15.3439\ttest-rmse:1999.82+26.0661\n",
      "1772.45883175\n",
      "[('bc_price', 16597), ('manager_worths', 14684), ('price_by_NTACode', 13343), ('latitude', 12299), ('longitude', 12051), ('desc_words_length', 11477), ('manager_id', 11136), ('price_by_address1', 11125), ('Yday', 10884), ('address1', 10458), ('building_worths', 10298), ('building_id', 10142), ('desc_letters_count', 9832), ('real_minus_expected_price', 9815), ('price_by_area', 9742), ('real_over_expected_price', 9374), ('Day', 9066), ('worth_by_address1', 8782), ('hour', 7722), ('price_per_bathroom', 7590), ('desc_words_count', 7481), ('price_per_bed_and_bath', 7387), ('worth_by_NTACode', 6993), ('photos_count', 6730), ('NTACode', 6324), ('price_by_BoroCode', 6098), ('features_count', 5668), ('Wday', 4445), ('price_per_bedroom', 3903), ('sparse_nofee', 3056), ('bedrooms', 2833), ('sparse_furnished', 1865), ('bathrooms', 1702), ('sparse_laundryinbuilding', 1425), ('sparse_hardwoodfloors', 1132), ('sparse_laundryinunit', 1088), ('Month', 1006), ('sparse_exclusive', 771), ('sparse_dogsallowed', 770), ('BoroCode', 749), ('sparse_catsallowed', 718), ('sparse_prewar', 663), ('sparse_privateoutdoorspace', 634), ('sparse_reducedfee', 631), ('avenue', 595), ('street', 569), ('other_address', 553), ('sparse_commonoutdoorspace', 545), ('Zero_building_id', 534), ('sparse_elevator', 533), ('east', 524), ('sparse_doorman', 510), ('sparse_parkingspace', 506), ('sparse_dishwasher', 500), ('sparse_highspeedinternet', 476), ('sparse_terrace', 424), ('sparse_fitnesscenter', 423), ('sparse_loft', 413), ('sparse_outdoorspace', 406), ('sparse_actualapt', 399), ('sparse_roofdeck', 359), ('sparse_balcony', 346), ('sparse_diningroom', 318), ('sparse_simplex', 292), ('sparse_swimmingpool', 283), ('sparse_shorttermallowed', 263), ('sparse_wheelchairaccess', 248), ('west', 245), ('sparse_newconstruction', 238), ('sparse_garden', 231), ('sparse_multilevel', 201), ('sparse_patio', 199), ('sparse_hardwood', 198), ('worth_by_BoroCode', 179), ('sparse_fireplace', 168), ('sparse_highceiling', 159), ('sparse_petsok', 154), ('sparse_dryerinunit', 153), ('sparse_stainlesssteelappliances', 148), ('sparse_garage', 119), ('south', 118), ('sparse_storage', 118), ('sparse_outdoorareas', 117), ('sparse_lndrybldg', 113), ('sparse_liveinsuper', 110), ('sparse_new', 103), ('sparse_renovated', 99), ('sparse_photos', 88), ('sparse_highceilings', 79), ('sparse_onsitelaundry', 79), ('sparse_view', 78), ('sparse_flex3', 67), ('sparse_centrala', 66), ('sparse_concierge', 64), ('sparse_residentslounge', 63), ('sparse_assignedparkingspace', 62), ('sparse_allutilitiesincluded', 58), ('sparse_onsitegarage', 53), ('north', 46), ('sparse_lowrise', 44), ('sparse_washerinunit', 44), ('sparse_granitekitchen', 41), ('sparse_dryer', 41), ('sparse_publicoutdoor', 40), ('sparse_washer', 40), ('sparse_newlyrenovated', 38), ('sparse_cable', 37), ('sparse_wifiaccess', 34), ('sparse_light', 34), ('sparse_live', 33), ('sparse_virtualdoorman', 32), ('sparse_elev', 32), ('sparse_sublet', 27), ('sparse_eatinkitchen', 25), ('sparse_duplex', 24), ('sparse_microwave', 24), ('sparse_sharesok', 23), ('sparse_nopets', 21), ('sparse_rooftopdeck', 21), ('sparse_petsonapproval', 19), ('sparse_privateroofdeck', 19), ('sparse_indoorpool', 18), ('sparse_highrise', 18), ('sparse_marblebath', 17), ('sparse_greenbuilding', 15), ('sparse_largelivingroom', 15), ('sparse_bikeroom', 14), ('sparse_pool', 12), ('sparse_privatebackyard', 12), ('sparse_commonparking', 11), ('sparse_privateparking', 11), ('sparse_commonbackyard', 10), ('sparse_walkincloset', 10), ('sparse_satellitetv', 10), ('sparse_work', 10), ('sparse_parking', 10), ('sparse_liveinsuperintendent', 8), ('sparse_subway', 8), ('sparse_children', 8), ('sparse_sauna', 7), ('sparse_laundryroom', 7), ('sparse_sundeck', 6), ('sparse_laundry', 6), ('sparse_wallsofwindows', 6), ('sparse_wheelchairramp', 6), ('sparse_privatebalcony', 6), ('sparse_exposedbrick', 6), ('sparse_childrensplayroom', 5), ('sparse_valet', 5), ('sparse_postwar', 5), ('sparse_privateterrace', 4), ('sparse_buildingcommonoutdoorspace', 4), ('sparse_fitness', 4), ('sparse_conciergeservice', 3), ('sparse_marblebathroom', 3), ('sparse_gym', 3), ('sparse_lounge', 2), ('sparse_bikestorage', 2), ('sparse_gourmetkitchen', 2), ('sparse_luxurybuilding', 2), ('sparse_24', 2), ('sparse_ornateprewardetails', 2), ('sparse_skitchen', 2), ('sparse_loungeroom', 2), ('sparse_commonterrace', 2), ('sparse_healthclub', 2), ('sparse_centralac', 2), ('sparse_businesscenter', 1), ('sparse_midrise', 1), ('sparse_packageroom', 1), ('sparse_tonsofnaturallight', 1), ('sparse_courtyard', 1), ('sparse_petfriendly', 1), ('sparse_billiardsroom', 1), ('sparse_onsitesuper', 1), ('sparse_roomyclosets', 1), ('sparse_residentsgarden', 1), ('sparse_backyard', 1), ('sparse_airconditioning', 1), ('sparse_basementstorage', 1), ('sparse_commonroofdeck', 1), ('sparse_flex2', 1)]\n",
      "CPU times: user 1h 9min 54s, sys: 1min 41s, total: 1h 11min 35s\n",
      "Wall time: 25min 15s\n"
     ]
    }
   ],
   "source": [
    "%%time\n",
    "processed_test = filter_data_to_columns(pd.read_json('data/test.json'))\n",
    "listing_id = pd.read_json('data/test_ids.json').values\n",
    "\n",
    "dtest = FakeDMatrix(data=processed_test)\n",
    "processed_test = None\n",
    "\n",
    "dtrain_final, dtest_final, _ = fpreproc_leaky(dtrain, dtest, None)\n",
    "dtrain = None\n",
    "dtest = None\n",
    "\n",
    "bst = xgb.train(params, dtrain_final, best_rounds)\n",
    "dtrain_final = None\n",
    "\n",
    "preds = bst.predict(dtest_final)\n",
    "# save for column names\n",
    "#dtest_final = None\n",
    "\n",
    "preds = pd.DataFrame(preds)\n",
    "preds.columns = ['high', 'medium', 'low']\n",
    "preds['listing_id'] = listing_id\n",
    "preds.to_csv('data/my_preds.csv', index=None)\n",
    "\n",
    "importance = bst.get_fscore()\n",
    "feature_importance = [(feature, (importance[feature])) for feature in importance]\n",
    "print (sorted(feature_importance, key=lambda x: -x[1]))"
   ]
  },
  {
   "cell_type": "code",
   "execution_count": 8,
   "metadata": {
    "collapsed": false
   },
   "outputs": [
    {
     "data": {
      "text/plain": [
       "1.0488940684429542"
      ]
     },
     "execution_count": 8,
     "metadata": {},
     "output_type": "execute_result"
    }
   ],
   "source": [
    "#best_preds = pd.read_csv('data/my_best_preds.csv')\n",
    "#truths = np.argmax(best_preds[['high', 'medium', 'low']].values, axis=1)\n",
    "#should be < 0.5 for a good submission\n",
    "#log_loss(truths, preds[['high', 'medium', 'low']].values)"
   ]
  },
  {
   "cell_type": "code",
   "execution_count": null,
   "metadata": {
    "collapsed": true
   },
   "outputs": [],
   "source": []
  },
  {
   "cell_type": "code",
   "execution_count": null,
   "metadata": {
    "collapsed": true
   },
   "outputs": [],
   "source": []
  },
  {
   "cell_type": "code",
   "execution_count": null,
   "metadata": {
    "collapsed": true
   },
   "outputs": [],
   "source": []
  },
  {
   "cell_type": "code",
   "execution_count": null,
   "metadata": {
    "collapsed": true
   },
   "outputs": [],
   "source": []
  },
  {
   "cell_type": "code",
   "execution_count": 10,
   "metadata": {
    "collapsed": false
   },
   "outputs": [
    {
     "name": "stdout",
     "output_type": "stream",
     "text": [
      "[0]\ttrain-rmse:2095.17+87.0239\ttest-rmse:2091.08+95.2272\n",
      "1770.60357675\n"
     ]
    }
   ],
   "source": [
    "processed_train = filter_data_to_columns(pd.read_json('data/train.json'))\n",
    "y_train = pd.read_json('data/train_interest.json')\n",
    "dtrain = FakeDMatrix(data=processed_train, labels=y_train)\n",
    "\n",
    "processed_test = filter_data_to_columns(pd.read_json('data/test.json'))\n",
    "listing_id = pd.read_json('data/test_ids.json').values\n",
    "dtest = FakeDMatrix(data=processed_test)\n",
    "\n",
    "dtrain_final, dtest_final, _ = fpreproc_leaky(dtrain, dtest, None)"
   ]
  },
  {
   "cell_type": "code",
   "execution_count": 147,
   "metadata": {
    "collapsed": false
   },
   "outputs": [],
   "source": [
    "all_columns = list(dtrain_final.columns)\n",
    "to_remove = [] #['BoroCode', 'NTACode', 'Day', 'Month', 'address1', 'building_id', 'manager_id', 'hour', 'latitude', 'longitude']\n",
    "final_columns = [x for x in all_columns if x not in to_remove]\n",
    "\n",
    "train_X = dtrain_final[final_columns]\n",
    "train_y = y_train[0]"
   ]
  },
  {
   "cell_type": "code",
   "execution_count": null,
   "metadata": {
    "collapsed": true
   },
   "outputs": [],
   "source": [
    "train_X_scaled = StandardScaler().fit_transform(train_X[nn_columns])"
   ]
  },
  {
   "cell_type": "code",
   "execution_count": 148,
   "metadata": {
    "collapsed": false
   },
   "outputs": [
    {
     "name": "stdout",
     "output_type": "stream",
     "text": [
      "0.69465688301\n",
      "10.5461776415\n"
     ]
    }
   ],
   "source": [
    "from sklearn.linear_model import RidgeClassifier\n",
    "clf = RidgeClassifier()\n",
    "clf.fit(train_X_scaled[ridge_columns][:30000], train_y[:30000])\n",
    "print (clf.score(train_X_scaled[ridge_columns][30000:], train_y[30000:]))\n",
    "predictions = clf.predict(train_X_scaled[ridge_columns][30000:])\n",
    "print (log_loss(train_y[30000:], np.eye(3)[predictions]))"
   ]
  },
  {
   "cell_type": "code",
   "execution_count": 149,
   "metadata": {
    "collapsed": false
   },
   "outputs": [
    {
     "name": "stderr",
     "output_type": "stream",
     "text": [
      "/Users/jgzuke/anaconda3/lib/python3.5/site-packages/sklearn/linear_model/coordinate_descent.py:484: ConvergenceWarning: Objective did not converge. You might want to increase the number of iterations. Fitting data with very small alpha may cause precision problems.\n",
      "  ConvergenceWarning)\n"
     ]
    },
    {
     "data": {
      "text/plain": [
       "ElasticNet(alpha=1.0, copy_X=True, fit_intercept=True, l1_ratio=0.5,\n",
       "      max_iter=1000, normalize=False, positive=False, precompute=False,\n",
       "      random_state=None, selection='cyclic', tol=0.0001, warm_start=False)"
      ]
     },
     "execution_count": 149,
     "metadata": {},
     "output_type": "execute_result"
    }
   ],
   "source": [
    "from sklearn.linear_model import Lasso\n",
    "from sklearn.linear_model import ElasticNet\n",
    "las = Lasso()\n",
    "enet = ElasticNet()\n",
    "las.fit(train_X_scaled[:30000], train_y[:30000])\n",
    "enet.fit(train_X_scaled[:30000], train_y[:30000])"
   ]
  },
  {
   "cell_type": "code",
   "execution_count": 150,
   "metadata": {
    "collapsed": false
   },
   "outputs": [
    {
     "name": "stdout",
     "output_type": "stream",
     "text": [
      "0.0352097843285\n",
      "11.809791412\n"
     ]
    }
   ],
   "source": [
    "print (las.score(train_X_scaled[30000:], train_y[30000:]))\n",
    "predictions = las.predict(train_X_scaled[30000:])\n",
    "print (log_loss(train_y[30000:], np.eye(3)[np.round(predictions).astype(int)]))"
   ]
  },
  {
   "cell_type": "code",
   "execution_count": 151,
   "metadata": {
    "collapsed": false
   },
   "outputs": [
    {
     "name": "stdout",
     "output_type": "stream",
     "text": [
      "11.8222847685\n"
     ]
    }
   ],
   "source": [
    "enet.score(train_X_scaled[30000:], train_y[30000:])\n",
    "predictions = enet.predict(train_X_scaled[30000:])\n",
    "print (log_loss(train_y[30000:], np.eye(3)[np.round(predictions).astype(int)]))"
   ]
  },
  {
   "cell_type": "code",
   "execution_count": 152,
   "metadata": {
    "collapsed": false
   },
   "outputs": [
    {
     "name": "stdout",
     "output_type": "stream",
     "text": [
      "address1 :  2.32365491057e-05\n",
      "building_id :  -1.84829459252e-05\n",
      "desc_letters_count :  -6.79551087636e-05\n",
      "manager_id :  -2.40155330067e-05\n",
      "price_per_bathroom :  1.34252912617e-05\n",
      "price_per_bed_and_bath :  5.86961411328e-06\n",
      "price_per_bedroom :  1.73797748797e-06\n",
      "real_minus_expected_price :  -1.71338175675e-05\n"
     ]
    }
   ],
   "source": [
    "for coef, column in zip(enet.coef_, train_X.columns):\n",
    "    if coef != 0:\n",
    "        print (column, \": \", coef)"
   ]
  },
  {
   "cell_type": "code",
   "execution_count": 153,
   "metadata": {
    "collapsed": false
   },
   "outputs": [
    {
     "name": "stdout",
     "output_type": "stream",
     "text": [
      "address1 :  2.31898448989e-05\n",
      "building_id :  -1.84795507727e-05\n",
      "desc_letters_count :  -6.48799177199e-05\n",
      "manager_id :  -2.37266506205e-05\n",
      "price_per_bathroom :  1.29454934733e-05\n",
      "price_per_bed_and_bath :  5.61099255267e-06\n",
      "price_per_bedroom :  1.93396750553e-06\n",
      "real_minus_expected_price :  -1.66276671859e-05\n"
     ]
    }
   ],
   "source": [
    "for coef, column in zip(las.coef_, train_X.columns):\n",
    "    if coef != 0:\n",
    "        print (column, \": \", coef)"
   ]
  },
  {
   "cell_type": "code",
   "execution_count": null,
   "metadata": {
    "collapsed": true
   },
   "outputs": [],
   "source": []
  },
  {
   "cell_type": "code",
   "execution_count": 107,
   "metadata": {
    "collapsed": true
   },
   "outputs": [],
   "source": [
    "from sklearn.ensemble import AdaBoostClassifier\n",
    "from sklearn.ensemble import ExtraTreesClassifier"
   ]
  },
  {
   "cell_type": "code",
   "execution_count": 108,
   "metadata": {
    "collapsed": true
   },
   "outputs": [],
   "source": [
    "clf = AdaBoostClassifier(\n",
    "    ExtraTreesClassifier(),\n",
    "    n_estimators=600,\n",
    "    learning_rate=1.5,\n",
    "    algorithm=\"SAMME.R\")"
   ]
  },
  {
   "cell_type": "code",
   "execution_count": 112,
   "metadata": {
    "collapsed": false
   },
   "outputs": [
    {
     "data": {
      "text/plain": [
       "AdaBoostClassifier(algorithm='SAMME',\n",
       "          base_estimator=ExtraTreesClassifier(bootstrap=False, class_weight=None, criterion='gini',\n",
       "           max_depth=None, max_features='auto', max_leaf_nodes=None,\n",
       "           min_impurity_split=1e-07, min_samples_leaf=1,\n",
       "           min_samples_split=2, min_weight_fraction_leaf=0.0,\n",
       "           n_estimators=10, n_jobs=1, oob_score=False, random_state=None,\n",
       "           verbose=0, warm_start=False),\n",
       "          learning_rate=1.5, n_estimators=600, random_state=None)"
      ]
     },
     "execution_count": 112,
     "metadata": {},
     "output_type": "execute_result"
    }
   ],
   "source": [
    "%%time\n",
    "clf.fit(train_X[:30000], train_y[0][:30000])"
   ]
  },
  {
   "cell_type": "code",
   "execution_count": 114,
   "metadata": {
    "collapsed": false
   },
   "outputs": [
    {
     "data": {
      "text/plain": [
       "0.72307771806531629"
      ]
     },
     "execution_count": 114,
     "metadata": {},
     "output_type": "execute_result"
    }
   ],
   "source": [
    "clf.score(train_X[30000:], train_y[0][30000:])"
   ]
  },
  {
   "cell_type": "code",
   "execution_count": 119,
   "metadata": {
    "collapsed": false
   },
   "outputs": [
    {
     "name": "stdout",
     "output_type": "stream",
     "text": [
      "1.07066192075\n",
      "CPU times: user 20.2 s, sys: 3.21 s, total: 23.4 s\n",
      "Wall time: 25.8 s\n"
     ]
    }
   ],
   "source": [
    "%%time\n",
    "a = clf.predict_proba(train_X[30000:])\n",
    "print (log_loss(train_y[30000:], a))"
   ]
  },
  {
   "cell_type": "code",
   "execution_count": 120,
   "metadata": {
    "collapsed": false
   },
   "outputs": [
    {
     "data": {
      "text/plain": [
       "array([             nan,              nan,              nan,\n",
       "                    nan,              nan,              nan,\n",
       "                    nan,   0.00000000e+00,              nan,\n",
       "                    nan,              nan,              nan,\n",
       "                    nan,              nan,              nan,\n",
       "                    nan,              nan,              nan,\n",
       "                    nan,              nan,              nan,\n",
       "                    nan,              nan,   2.31225636e-06,\n",
       "                    nan,              nan,              nan,\n",
       "                    nan,              nan,   5.02411074e-06,\n",
       "         3.55567116e-07,   8.76669585e-08,   2.35113652e-06,\n",
       "         6.74598557e-07,   2.20465599e-07,   2.08069778e-07,\n",
       "         2.10954890e-08,   3.16375940e-07,   4.37580078e-10,\n",
       "                    nan,   8.96049351e-08,   7.56719487e-07,\n",
       "         2.58871252e-07,   3.51489228e-08,   3.57170115e-09,\n",
       "                    nan,   5.85453690e-08,   5.37793560e-07,\n",
       "                    nan,              nan,   9.93760478e-08,\n",
       "         2.39554348e-07,   2.25419774e-07,   1.23745999e-07,\n",
       "         2.23217282e-07,   1.67088931e-07,   4.51172248e-08,\n",
       "         5.57141973e-07,   1.44039681e-07,              nan,\n",
       "         4.86975466e-07,   4.11863063e-07,   3.22101106e-08,\n",
       "         5.26984046e-08,   1.76735003e-06,   2.60171601e-07,\n",
       "         6.65453045e-08,   1.32175890e-07,   6.69189260e-07,\n",
       "         1.14351244e-07,   1.13198213e-07,              nan,\n",
       "                    nan,              nan,              nan,\n",
       "         1.38408098e-07,   1.63555847e-06,   9.01376389e-10,\n",
       "         1.36595139e-06,   1.32616150e-06,   1.94567381e-06,\n",
       "         1.39471185e-07,              nan,   3.09167550e-08,\n",
       "                    nan,   1.65689017e-06,   8.08806149e-06,\n",
       "         6.06687221e-10,   5.98678326e-08,              nan,\n",
       "         1.03659066e-07,   3.49471610e-07,   9.59248892e-08,\n",
       "         3.94473975e-08,   6.00661260e-07,              nan,\n",
       "                    nan,   1.18450688e-05,   3.81598286e-07,\n",
       "         4.12678395e-07,   8.30155363e-07,   2.68069533e-06,\n",
       "         4.38798614e-07,   3.37203903e-07,   1.02760848e-06,\n",
       "         4.13539102e-10,              nan,              nan,\n",
       "         1.34093655e-07,   2.45093995e-06,              nan,\n",
       "         9.39143105e-08,              nan,   5.42367606e-08,\n",
       "         1.59664859e-07,   1.71326514e-08,   2.63694231e-09,\n",
       "         5.91685461e-07,   2.79495575e-03,              nan,\n",
       "                    nan,   1.99677669e-07,   4.14107698e-06,\n",
       "                    nan,   5.57090418e-07,              nan,\n",
       "         1.67644042e-06,   3.66493037e-07,   1.91675558e-05,\n",
       "         5.79459893e-07,   3.15677107e-07,              nan,\n",
       "         1.56903901e-07,   3.16080437e-16,   6.54524410e-07,\n",
       "         2.60391248e-07,   9.65767149e-07,   2.45075555e-07,\n",
       "         3.49676008e-07,              nan,   3.23469867e-07,\n",
       "         1.78805852e-05,   2.69832534e-06,              nan,\n",
       "         1.48978723e-06,   4.52341480e-08,   3.78330879e-07,\n",
       "                    nan,   1.94253792e-07,   3.58979641e-10,\n",
       "         2.49978974e-07,   3.76426331e-07,   2.37312113e-07,\n",
       "         3.35840300e-07,   9.27438961e-08,   7.16513575e-08,\n",
       "         7.47593945e-05,   5.40253267e-08,              nan,\n",
       "                    nan,              nan,   5.51433576e-14,\n",
       "         5.40555117e-07,   2.28361900e-07,   2.59370552e-07,\n",
       "         2.48673154e-07,   2.02526250e-06,   3.14564444e-06,\n",
       "         1.00879618e-07,              nan,   1.19110924e-07,\n",
       "                    nan,   4.15119689e-07,   4.87532786e-07,\n",
       "         3.06418514e-07,   1.19666959e-07,   1.05960748e-05,\n",
       "         1.82291010e-07,   1.87391844e-07,   4.37003810e-07,\n",
       "         4.29219150e-06,   2.08433270e-05,              nan,\n",
       "         4.73519658e-07,   9.74685284e-07,   1.36600477e-07,\n",
       "                    nan,   1.29698186e-07,   1.65391292e-10,\n",
       "         3.93181793e-07,   4.48453703e-07,   8.54209523e-07,\n",
       "         5.97754390e-07,   6.03162403e-08,   4.52286019e-07,\n",
       "         2.84451838e-06,   3.60897841e-03,   7.59052585e-07,\n",
       "         3.32760922e-07,              nan,   1.37677679e-07,\n",
       "                    nan,   2.73585052e-07,   1.28521777e-06,\n",
       "         8.93333184e-09,   4.71095817e-08,   5.03951425e-07,\n",
       "         1.32371320e-06,   1.56399261e-08,   1.66599251e-05,\n",
       "         1.04471417e-07,              nan,   2.48109462e-10,\n",
       "         4.02031352e-07,   3.86006359e-07,   7.64724513e-08,\n",
       "         4.25539614e-07,   1.73430664e-08,   6.35947911e-08,\n",
       "         2.46207673e-07,   5.72756509e-07,              nan,\n",
       "         4.96028455e-07,              nan,   1.50367529e-06,\n",
       "                    nan,              nan,   3.32117526e-07,\n",
       "         1.96828819e-07,   3.18219021e-07,              nan,\n",
       "                    nan,              nan,              nan,\n",
       "                    nan,              nan,              nan,\n",
       "                    nan,              nan,              nan,\n",
       "                    nan,              nan,              nan])"
      ]
     },
     "execution_count": 120,
     "metadata": {},
     "output_type": "execute_result"
    }
   ],
   "source": [
    "clf.feature_importances_"
   ]
  },
  {
   "cell_type": "code",
   "execution_count": null,
   "metadata": {
    "collapsed": true
   },
   "outputs": [],
   "source": []
  },
  {
   "cell_type": "code",
   "execution_count": null,
   "metadata": {
    "collapsed": true
   },
   "outputs": [],
   "source": []
  },
  {
   "cell_type": "code",
   "execution_count": 33,
   "metadata": {
    "collapsed": false
   },
   "outputs": [
    {
     "name": "stderr",
     "output_type": "stream",
     "text": [
      "Using Theano backend.\n"
     ]
    }
   ],
   "source": [
    "from keras.models import Sequential\n",
    "from keras.layers import Dense, Dropout, Activation\n",
    "from keras.layers.normalization import BatchNormalization\n",
    "from keras.layers.advanced_activations import PReLU\n",
    "from keras.callbacks import EarlyStopping, ModelCheckpoint"
   ]
  },
  {
   "cell_type": "code",
   "execution_count": 176,
   "metadata": {
    "collapsed": true
   },
   "outputs": [],
   "source": [
    "current_filter = ['bc_price', 'price_per_bedroom', 'price_per_bathroom', 'price_per_bed_and_bath', 'BoroCode', 'NTACode', 'price', 'latitude', 'price_by_area', 'longitude', 'manager_worths', 'address1', 'real_over_expected_price', 'desc_words_length', 'real_minus_expected_price', 'manager_id', 'Yday', 'building_id', 'building_worths', 'desc_letters_count', 'Day', 'desc_words_count', 'hour', 'bedrooms', 'photos_count', 'features_count', 'Wday', 'sparse_nofee', 'bathrooms', 'sparse_furnished', 'sparse_laundryinbuilding', 'sparse_hardwoodfloors', 'sparse_laundryinunit', 'Month', 'sparse_catsallowed', 'sparse_exclusive', 'street', 'sparse_elevator', 'sparse_prewar', 'sparse_dogsallowed', 'sparse_reducedfee', 'avenue', 'east', 'sparse_doorman', 'sparse_dishwasher', 'other_address', 'sparse_fitnesscenter', 'sparse_privateoutdoorspace', 'sparse_commonoutdoorspace', 'sparse_outdoorspace', 'sparse_loft', 'sparse_diningroom', 'sparse_balcony', 'sparse_highspeedinternet', 'sparse_parkingspace', 'sparse_terrace', 'sparse_swimmingpool', 'west', 'sparse_roofdeck', 'sparse_actualapt', 'sparse_wheelchairaccess', 'sparse_newconstruction', 'Zero_building_id', 'sparse_simplex', 'sparse_patio', 'sparse_garden', 'sparse_multilevel', 'sparse_hardwood', 'sparse_shorttermallowed', 'south', 'sparse_stainlesssteelappliances', 'sparse_fireplace', 'sparse_highceiling', 'sparse_renovated', 'sparse_liveinsuper', 'sparse_storage', 'sparse_garage', 'sparse_dryerinunit', 'sparse_outdoorareas', 'sparse_petsok', 'sparse_lndrybldg', 'sparse_concierge', 'sparse_new', 'sparse_highceilings', 'sparse_onsitelaundry', 'sparse_centrala', 'sparse_flex3', 'sparse_photos', 'sparse_view', 'sparse_publicoutdoor', 'sparse_allutilitiesincluded', 'sparse_residentslounge', 'sparse_newlyrenovated', 'sparse_washerinunit', 'sparse_onsitegarage', 'sparse_assignedparkingspace', 'north', 'sparse_washer', 'sparse_light', 'sparse_dryer', 'sparse_lowrise', 'sparse_sublet', 'sparse_granitekitchen', 'sparse_elev', 'sparse_virtualdoorman', 'sparse_sundeck', 'sparse_rooftopdeck', 'sparse_wallsofwindows', 'sparse_sharesok', 'sparse_duplex', 'sparse_nopets', 'sparse_cable', 'sparse_microwave', 'sparse_wifiaccess', 'sparse_walkincloset', 'sparse_petsonapproval', 'sparse_pool', 'sparse_eatinkitchen', 'sparse_marblebath', 'sparse_live', 'sparse_sauna', 'sparse_greenbuilding', 'sparse_exposedbrick', 'sparse_largelivingroom', 'sparse_bikeroom', 'sparse_highrise', 'sparse_laundry', 'sparse_privateroofdeck', 'sparse_laundryroom', 'sparse_commonbackyard', 'sparse_privatebackyard', 'sparse_parking', 'sparse_privateparking', 'sparse_childrensplayroom', 'sparse_privatebalcony', 'sparse_indoorpool']\n",
    "leaky = ['manager_worths', 'building_worths', 'price_by_area', 'real_minus_expected_price', 'real_over_expected_price', 'price_by_address1', 'worth_by_address1', 'price_by_BoroCode', 'worth_by_BoroCode', 'price_by_NTACode', 'worth_by_NTACode']\n",
    "excluded = ['price']\n",
    "nn_columns = [col for col in train_X.columns if col not in leaky and col not in excluded]"
   ]
  },
  {
   "cell_type": "code",
   "execution_count": 190,
   "metadata": {
    "collapsed": false
   },
   "outputs": [],
   "source": [
    "from sklearn.preprocessing import StandardScaler\n",
    "processed_train_scaled = StandardScaler().fit_transform(processed_train)\n",
    "\n",
    "xtr = processed_train_scaled[:30000]\n",
    "ytr = np.eye(3)[train_y[:30000].values]\n",
    "xte = processed_train_scaled[30000:]\n",
    "yte = np.eye(3)[train_y[30000:].values]"
   ]
  },
  {
   "cell_type": "code",
   "execution_count": 194,
   "metadata": {
    "collapsed": true
   },
   "outputs": [],
   "source": [
    "def create_model():\n",
    "    model = Sequential()\n",
    "    \n",
    "    model.add(Dense(500, input_dim = processed_train.shape[1], init = 'he_normal', activation='sigmoid'))\n",
    "    model.add(BatchNormalization())\n",
    "    model.add(Dropout(0.5))\n",
    "    model.add(PReLU())\n",
    "\n",
    "    model.add(Dense(50, init = 'he_normal', activation='sigmoid'))\n",
    "    model.add(BatchNormalization())    \n",
    "    model.add(Dropout(0.5))\n",
    "    model.add(PReLU())\n",
    "\n",
    "    model.add(Dense(3, init = 'he_normal', activation='softmax'))\n",
    "    model.compile(loss = 'categorical_crossentropy', optimizer = 'adam')\n",
    "    return model"
   ]
  },
  {
   "cell_type": "code",
   "execution_count": 195,
   "metadata": {
    "collapsed": false
   },
   "outputs": [
    {
     "name": "stderr",
     "output_type": "stream",
     "text": [
      "INFO (theano.gof.compilelock): Refreshing lock /Users/jgzuke/.theano/compiledir_Darwin-15.6.0-x86_64-i386-64bit-i386-3.5.3-64/lock_dir/lock\n"
     ]
    },
    {
     "name": "stdout",
     "output_type": "stream",
     "text": [
      "epoch 20: loss = 0.6220818996429444, val = 0.6195430807852459\n",
      "epoch 40: loss = 0.5851057330767314, val = 0.6069866230340968\n",
      "epoch 60: loss = 0.561422390739123, val = 0.607030198513944\n",
      "epoch 80: loss = 0.5377430597941081, val = 0.6089193273694519\n"
     ]
    }
   ],
   "source": [
    "from keras.callbacks import Callback\n",
    "filepath = 'data/nn_weights'\n",
    "\n",
    "class NBatchLogger(Callback):\n",
    "    def __init__(self):\n",
    "        self.seen = 0\n",
    "\n",
    "    def on_epoch_end(self, batch, logs={}):\n",
    "        self.seen += 1\n",
    "        if self.seen % 20 == 0:\n",
    "            print('epoch {}: loss = {}, val = {}'.format(self.seen, logs['loss'], logs['val_loss'])) \n",
    "\n",
    "logger = NBatchLogger()\n",
    "early_stop = EarlyStopping(monitor='val_loss', patience=40, verbose=0)\n",
    "checkpoint = ModelCheckpoint(filepath, monitor='val_loss', verbose=0, save_best_only=True)\n",
    "#model.fit(xtr, ytr, nb_epoch = 1200, batch_size=1024, verbose = 0, validation_data=[xte, yte], callbacks=[NBatchLogger()])\n",
    "model = create_model()\n",
    "model.fit(xtr, ytr, nb_epoch = 1200, batch_size=1000, verbose = 0, validation_data=[xte, yte], callbacks=[logger, early_stop, checkpoint])\n",
    "model = create_model()\n",
    "model.load_weights(filepath)"
   ]
  },
  {
   "cell_type": "code",
   "execution_count": 193,
   "metadata": {
    "collapsed": false
   },
   "outputs": [
    {
     "data": {
      "text/plain": [
       "0.60965967797495035"
      ]
     },
     "execution_count": 193,
     "metadata": {},
     "output_type": "execute_result"
    }
   ],
   "source": [
    "log_loss(yte, model.predict(xte))"
   ]
  },
  {
   "cell_type": "code",
   "execution_count": null,
   "metadata": {
    "collapsed": true
   },
   "outputs": [],
   "source": []
  }
 ],
 "metadata": {
  "kernelspec": {
   "display_name": "Python 3",
   "language": "python",
   "name": "python3"
  },
  "language_info": {
   "codemirror_mode": {
    "name": "ipython",
    "version": 3
   },
   "file_extension": ".py",
   "mimetype": "text/x-python",
   "name": "python",
   "nbconvert_exporter": "python",
   "pygments_lexer": "ipython3",
   "version": "3.5.3"
  }
 },
 "nbformat": 4,
 "nbformat_minor": 0
}
