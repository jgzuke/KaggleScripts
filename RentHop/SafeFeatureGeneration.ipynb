{
 "cells": [
  {
   "cell_type": "code",
   "execution_count": 1,
   "metadata": {
    "collapsed": false
   },
   "outputs": [
    {
     "name": "stderr",
     "output_type": "stream",
     "text": [
      "/Users/jgzuke/anaconda3/lib/python3.5/site-packages/sklearn/cross_validation.py:44: DeprecationWarning: This module was deprecated in version 0.18 in favor of the model_selection module into which all the refactored classes and functions are moved. Also note that the interface of the new CV iterators are different from that of this module. This module will be removed in 0.20.\n",
      "  \"This module will be removed in 0.20.\", DeprecationWarning)\n"
     ]
    }
   ],
   "source": [
    "import math\n",
    "import numpy as np\n",
    "import pandas as pd\n",
    "import random\n",
    "import xgboost as xgb\n",
    "from sklearn import preprocessing, model_selection\n",
    "from sklearn.metrics import log_loss\n",
    "import string\n",
    "from sklearn.feature_extraction.text import  CountVectorizer\n",
    "from scipy.stats import boxcox\n",
    "from scipy import stats\n",
    "from scipy import sparse\n",
    "\n",
    "y_map = {'low': 2, 'medium': 1, 'high': 0}\n",
    "\n",
    "train = pd.read_json('data/backup/train.json')\n",
    "test = pd.read_json('data/backup/test.json')\n",
    "\n",
    "y_train = train['interest_level'].apply(lambda x: y_map[x]).reset_index(drop=True)\n",
    "train = train.drop(['listing_id', 'interest_level'], axis=1)\n",
    "listing_id = test.listing_id\n",
    "test = test.drop('listing_id', axis=1)\n",
    "\n",
    "y_train.to_json('data/train_interest.json', orient='records')\n",
    "listing_id.to_json('data/test_ids.json', orient='records')"
   ]
  },
  {
   "cell_type": "code",
   "execution_count": 3,
   "metadata": {
    "collapsed": true
   },
   "outputs": [],
   "source": [
    "ntrain = train.shape[0]\n",
    "train_test = pd.concat((train, test), axis=0).reset_index(drop=True)"
   ]
  },
  {
   "cell_type": "code",
   "execution_count": 5,
   "metadata": {
    "collapsed": false
   },
   "outputs": [
    {
     "data": {
      "text/plain": [
       "['building_id',\n",
       " 'created',\n",
       " 'description',\n",
       " 'display_address',\n",
       " 'features',\n",
       " 'manager_id',\n",
       " 'photos',\n",
       " 'street_address']"
      ]
     },
     "execution_count": 5,
     "metadata": {},
     "output_type": "execute_result"
    }
   ],
   "source": [
    "categoricals = [x for x in train_test.columns if train_test[x].dtype == 'object']\n",
    "categoricals = 'building_id', 'display_address', 'manager_id', 'street_address'"
   ]
  },
  {
   "cell_type": "code",
   "execution_count": 33,
   "metadata": {
    "collapsed": false
   },
   "outputs": [
    {
     "data": {
      "text/plain": [
       "building_id\n",
       "00005cb939f9986300d987652c933e15    1\n",
       "0012f1955391bca600ec301035b97b65    1\n",
       "003d8740e21484dcc2280639b25539a4    1\n",
       "0055c8662ba19e95f78df97592d2b83e    1\n",
       "0056dbdf2881b76f2a0171eb753ec9e0    1\n",
       "0059ae562b9e338a59eaf962cb3eedd2    1\n",
       "005e0f8d7fb7b92be351cbf1dd985149    1\n",
       "0070bc94a3f80aa717bb15708e98ba54    1\n",
       "0078281cd69f4bfec17e42e5cf5eecd9    1\n",
       "007ae1cd90420f18bad7b6892a9a1411    1\n",
       "008ff72d77a8fc85eccfc4ec33ec09a3    1\n",
       "009c6ad006e8fd679991c5f8cffaef9f    1\n",
       "00a61b88186b5115356374b0f5dd0d1e    1\n",
       "00a7b4a6aec7ca1a1635c622918b68f0    1\n",
       "00bb734cde488aa3e1f3e5f1376b9c13    1\n",
       "00d1b109f921cd8bc69a203bf35a9bac    1\n",
       "00dfd2bccb9127f2e7966ff29ae1e060    1\n",
       "00e8bbc4c74980a06c187165d9a5869e    1\n",
       "00ffdfd150acc0b097182bbf9dd1db28    1\n",
       "010435ab3b0b415421d583937a55283e    1\n",
       "010f3d0141cd76667ca8e3d86e221cf2    1\n",
       "0114c80bf2a9027612083e354d7fbdbc    1\n",
       "013a96b772f0e46731faee50ad25d727    1\n",
       "01401bc9a8908b2d6ffa84ebf9e1b984    1\n",
       "0145e758b990b8d2648ee57c30762d76    1\n",
       "0152c6255a4e29051b817ce6f3f6dd6f    1\n",
       "0155fa9629c4d68dbe9106b9ac3866ad    1\n",
       "015cf622b143eb8703307cf591e9dd46    1\n",
       "016124e48651db465762bfbaf7a9080b    1\n",
       "0166aa8add8bdc29ca360ab1db5c77f9    1\n",
       "                                   ..\n",
       "feceae997ce057ede3d33ec418928a59    1\n",
       "fee5ec9105ce8790cc6bcda70f43a7d2    1\n",
       "fee98a79b110b5ead29d0b5575686044    1\n",
       "fef9520cb34b16d8dbd880ce068a60cf    1\n",
       "ff0464522f5689ad824a04a83d1123b6    1\n",
       "ff0c3c4366788f1a1b7b485d1fc03e99    1\n",
       "ff0f3f51af18f6aab218309915d976fd    1\n",
       "ff14838ddf821c6b2acd55e2399cb982    1\n",
       "ff204678502efb6921df4f6aa672ee3d    1\n",
       "ff23a52f5218f308405e76d55258b7b8    1\n",
       "ff33c69d405ce2f7e597272f0bd19870    1\n",
       "ff41508ff3c6176e268c7814214cffed    1\n",
       "ff4bd0394cd35bd6ad3eaad4c9ca1a06    1\n",
       "ff57f3cd7c8be0a58cc0954d5fa9dc3d    1\n",
       "ff6b348f029d5fa24bd795847b9fa609    1\n",
       "ff6d50086471b8a2f09f02251fd1d491    1\n",
       "ff743eb409c74fd5b21bf6146e363eb5    1\n",
       "ff759cef25d94f4a3a3e7a81e955e462    1\n",
       "ff8a1b773d0dd0e89d0a7eead2c3dc88    1\n",
       "ff9562f67b7a60dda6d3d7a97acabeae    1\n",
       "ff96756315bfede08ea5f98784dbbe37    1\n",
       "ff9cb36cb1b282cbb65ea6b6c7e7672f    1\n",
       "ff9f6c6b905161520ef9bd7660310cb4    1\n",
       "ffa3716946d0237a26c13705a5bc0402    1\n",
       "ffb9cd5ab08b2abf1f918633cebff0b8    1\n",
       "ffcadcb9a320e7d43e13b53041fac87f    1\n",
       "ffee101c01081fb04f6ede4807a0703d    1\n",
       "fff0a02ad82421c226c6d6765a0dde57    1\n",
       "fff4d2a45cf0eecb1cf3ea8937f0d804    1\n",
       "fffdcb49cb93d2a90e5324da13932876    1\n",
       "dtype: int64"
      ]
     },
     "execution_count": 33,
     "metadata": {},
     "output_type": "execute_result"
    }
   ],
   "source": [
    "section_with_one_lot"
   ]
  },
  {
   "cell_type": "code",
   "execution_count": 29,
   "metadata": {
    "collapsed": false
   },
   "outputs": [
    {
     "data": {
      "text/plain": [
       "1"
      ]
     },
     "execution_count": 29,
     "metadata": {},
     "output_type": "execute_result"
    }
   ],
   "source": [
    "sum(train_test[feat].isin(section_with_one_lot))"
   ]
  },
  {
   "cell_type": "code",
   "execution_count": 22,
   "metadata": {
    "collapsed": true
   },
   "outputs": [],
   "source": [
    "for feat in ['building_id']:\n",
    "    # clump all things with one entry per section\n",
    "    counts = train_test.groupby(feat, as_index = False).size()\n",
    "    section_with_one_lot = counts[counts == 1]\n",
    "    train_test.loc[train_test[feat].isin(section_with_one_lot.ravel()), feat] = \"-1\""
   ]
  },
  {
   "cell_type": "code",
   "execution_count": 23,
   "metadata": {
    "collapsed": false
   },
   "outputs": [
    {
     "data": {
      "text/plain": [
       "building_id\n",
       "00005cb939f9986300d987652c933e15    1\n",
       "0012f1955391bca600ec301035b97b65    1\n",
       "003d8740e21484dcc2280639b25539a4    1\n",
       "0055c8662ba19e95f78df97592d2b83e    1\n",
       "0056dbdf2881b76f2a0171eb753ec9e0    1\n",
       "0059ae562b9e338a59eaf962cb3eedd2    1\n",
       "005e0f8d7fb7b92be351cbf1dd985149    1\n",
       "0070bc94a3f80aa717bb15708e98ba54    1\n",
       "0078281cd69f4bfec17e42e5cf5eecd9    1\n",
       "007ae1cd90420f18bad7b6892a9a1411    1\n",
       "008ff72d77a8fc85eccfc4ec33ec09a3    1\n",
       "009c6ad006e8fd679991c5f8cffaef9f    1\n",
       "00a61b88186b5115356374b0f5dd0d1e    1\n",
       "00a7b4a6aec7ca1a1635c622918b68f0    1\n",
       "00bb734cde488aa3e1f3e5f1376b9c13    1\n",
       "00d1b109f921cd8bc69a203bf35a9bac    1\n",
       "00dfd2bccb9127f2e7966ff29ae1e060    1\n",
       "00e8bbc4c74980a06c187165d9a5869e    1\n",
       "00ffdfd150acc0b097182bbf9dd1db28    1\n",
       "010435ab3b0b415421d583937a55283e    1\n",
       "010f3d0141cd76667ca8e3d86e221cf2    1\n",
       "0114c80bf2a9027612083e354d7fbdbc    1\n",
       "013a96b772f0e46731faee50ad25d727    1\n",
       "01401bc9a8908b2d6ffa84ebf9e1b984    1\n",
       "0145e758b990b8d2648ee57c30762d76    1\n",
       "0152c6255a4e29051b817ce6f3f6dd6f    1\n",
       "0155fa9629c4d68dbe9106b9ac3866ad    1\n",
       "015cf622b143eb8703307cf591e9dd46    1\n",
       "016124e48651db465762bfbaf7a9080b    1\n",
       "0166aa8add8bdc29ca360ab1db5c77f9    1\n",
       "                                   ..\n",
       "feceae997ce057ede3d33ec418928a59    1\n",
       "fee5ec9105ce8790cc6bcda70f43a7d2    1\n",
       "fee98a79b110b5ead29d0b5575686044    1\n",
       "fef9520cb34b16d8dbd880ce068a60cf    1\n",
       "ff0464522f5689ad824a04a83d1123b6    1\n",
       "ff0c3c4366788f1a1b7b485d1fc03e99    1\n",
       "ff0f3f51af18f6aab218309915d976fd    1\n",
       "ff14838ddf821c6b2acd55e2399cb982    1\n",
       "ff204678502efb6921df4f6aa672ee3d    1\n",
       "ff23a52f5218f308405e76d55258b7b8    1\n",
       "ff33c69d405ce2f7e597272f0bd19870    1\n",
       "ff41508ff3c6176e268c7814214cffed    1\n",
       "ff4bd0394cd35bd6ad3eaad4c9ca1a06    1\n",
       "ff57f3cd7c8be0a58cc0954d5fa9dc3d    1\n",
       "ff6b348f029d5fa24bd795847b9fa609    1\n",
       "ff6d50086471b8a2f09f02251fd1d491    1\n",
       "ff743eb409c74fd5b21bf6146e363eb5    1\n",
       "ff759cef25d94f4a3a3e7a81e955e462    1\n",
       "ff8a1b773d0dd0e89d0a7eead2c3dc88    1\n",
       "ff9562f67b7a60dda6d3d7a97acabeae    1\n",
       "ff96756315bfede08ea5f98784dbbe37    1\n",
       "ff9cb36cb1b282cbb65ea6b6c7e7672f    1\n",
       "ff9f6c6b905161520ef9bd7660310cb4    1\n",
       "ffa3716946d0237a26c13705a5bc0402    1\n",
       "ffb9cd5ab08b2abf1f918633cebff0b8    1\n",
       "ffcadcb9a320e7d43e13b53041fac87f    1\n",
       "ffee101c01081fb04f6ede4807a0703d    1\n",
       "fff0a02ad82421c226c6d6765a0dde57    1\n",
       "fff4d2a45cf0eecb1cf3ea8937f0d804    1\n",
       "fffdcb49cb93d2a90e5324da13932876    1\n",
       "dtype: int64"
      ]
     },
     "execution_count": 23,
     "metadata": {},
     "output_type": "execute_result"
    }
   ],
   "source": [
    "counts = train_test.groupby('building_id', as_index = False).size()\n",
    "counts[counts == 1]"
   ]
  },
  {
   "cell_type": "code",
   "execution_count": 2,
   "metadata": {
    "collapsed": false
   },
   "outputs": [],
   "source": [
    "ntrain = train.shape[0]\n",
    "train_test = pd.concat((train, test), axis=0).reset_index(drop=True)\n",
    "\n",
    "# convert date to be more useable\n",
    "train_test['Date'] = pd.to_datetime(train_test['created'])\n",
    "# year is all the same\n",
    "#train_test['Year'] = train_test['Date'].dt.year\n",
    "train_test['Month'] = train_test['Date'].dt.month\n",
    "train_test['Day'] = train_test['Date'].dt.day\n",
    "train_test['Wday'] = train_test['Date'].dt.dayofweek\n",
    "train_test['Yday'] = train_test['Date'].dt.dayofyear\n",
    "train_test['hour'] = train_test['Date'].dt.hour\n",
    "train_test = train_test.drop(['Date', 'created'], axis=1)\n",
    "\n",
    "\n",
    "# check if this building id/manager id and add worths is 0\n",
    "train_test['Zero_building_id'] = train_test['building_id'].apply(lambda x: 1 if x == '0' else 0)\n",
    "train_test['Zero_manager_id'] = train_test['manager_id'].apply(lambda x: 1 if x == '0' else 0)\n",
    "\n",
    "\n",
    "# mess with description meta data\n",
    "train_test['desc'] = train_test['description']\n",
    "train_test['desc'] = train_test['desc'].apply(lambda x: x.replace('<p><a  website_redacted ', ''))\n",
    "train_test['desc'] = train_test['desc'].apply(lambda x: x.replace('!<br /><br />', ''))\n",
    "\n",
    "string.punctuation.__add__('!!')\n",
    "string.punctuation.__add__('(')\n",
    "string.punctuation.__add__(')')\n",
    "remove_punct_map = dict.fromkeys(map(ord, string.punctuation))\n",
    "\n",
    "train_test['desc'] = train_test['desc'].apply(lambda x: x.translate(remove_punct_map))\n",
    "train_test['desc_letters_count'] = train_test['description'].apply(lambda x: len(x.strip()))\n",
    "train_test['desc_words_count'] = train_test['desc'].apply(lambda x: 0 if len(x.strip()) == 0 else len(x.split(' ')))\n",
    "train_test['desc_words_length'] = (train_test['desc_letters_count'] / train_test['desc_words_count']).apply(lambda x: 0 if math.isnan(x) or math.isinf(x) else x)\n",
    "\n",
    "train_test.drop(['description', 'desc'], axis=1, inplace=True)\n",
    "\n",
    "\n",
    "# address\n",
    "train_test['address1'] = train_test['display_address']\n",
    "train_test['address1'] = train_test['address1'].apply(lambda x: x.lower())\n",
    "\n",
    "address_map = {\n",
    "    'w': 'west',\n",
    "    'st.': 'street',\n",
    "    'ave': 'avenue',\n",
    "    'st': 'street',\n",
    "    'e': 'east',\n",
    "    'n': 'north',\n",
    "    's': 'south'\n",
    "}\n",
    "\n",
    "def address_map_func(s):\n",
    "    s = s.split(' ')\n",
    "    out = []\n",
    "    for x in s:\n",
    "        if x in address_map:\n",
    "            out.append(address_map[x])\n",
    "        else:\n",
    "            out.append(x)\n",
    "    return ' '.join(out)\n",
    "\n",
    "\n",
    "train_test['address1'] = train_test['address1'].apply(lambda x: x.translate(remove_punct_map))\n",
    "train_test['address1'] = train_test['address1'].apply(lambda x: address_map_func(x))\n",
    "\n",
    "new_cols = ['street', 'avenue', 'east', 'west', 'north', 'south']\n",
    "for col in new_cols:\n",
    "    train_test[col] = train_test['address1'].apply(lambda x: 1 if col in x else 0)\n",
    "\n",
    "train_test['other_address'] = train_test[new_cols].apply(lambda x: 1 if x.sum() == 0 else 0, axis=1)\n",
    "train_test.drop(['display_address', 'street_address'], axis=1, inplace=True)\n",
    "\n",
    "\n",
    "# features (better not to lower)\n",
    "train_test['features_count'] = train_test['features'].apply(lambda x: len(x))\n",
    "train_test['features2'] = train_test['features']\n",
    "train_test['features2'] = train_test['features2'].apply(lambda x: ' '.join([''.join(i.replace('_',' ').replace('-',' ').split(' ')) for i in x]))\n",
    "\n",
    "c_vect = CountVectorizer(stop_words='english', max_features=200, ngram_range=(1, 1))\n",
    "c_vect.fit(train_test['features2'])\n",
    "\n",
    "c_vect_sparse_1 = c_vect.transform(train_test['features2'])\n",
    "c_vect_sparse1_cols = c_vect.get_feature_names()\n",
    "train_test.drop(['features', 'features2'], axis=1, inplace=True)\n",
    "\n",
    "\n",
    "# photos\n",
    "train_test['photos_count'] = train_test['photos'].apply(lambda x: len(x))\n",
    "train_test.drop(['photos'], axis=1, inplace=True)\n",
    "\n",
    "# clump all things with one entry per section\n",
    "def find_objects_with_only_one_record(feature_name):\n",
    "    temp = pd.concat([X_train[feature_name].reset_index(), \n",
    "                      X_test[feature_name].reset_index()])\n",
    "    temp = temp.groupby(feature_name, as_index = False).count()\n",
    "    return temp[temp['index'] == 1]\n",
    "\n",
    "managers_with_one_lot = find_objects_with_only_one_record('manager_id')\n",
    "\n",
    "# convert ['building_id', 'manager_id', 'address1'] to enumerated labels\n",
    "categoricals = ['building_id', 'display_address', 'manager_id']\n",
    "for feat in categoricals:\n",
    "    # clump all things with one entry per section\n",
    "    counts = train_test.groupby(feat, as_index = False).size()\n",
    "    section_with_one_lot = counts[counts == 1]\n",
    "    train_test.loc[train_test[feat].isin(section_with_one_lot.ravel()), feat] = \"-1\"\n",
    "    \n",
    "    # convert ['building_id', 'manager_id', 'address1'] to enumerated labels\n",
    "    encoder = preprocessing.LabelEncoder()\n",
    "    encoder.fit(list(train_test[feat].values))\n",
    "    train_test[feat] = encoder.transform(train_test[feat].ravel())\n",
    "\n",
    "# transform managers and building ids\n",
    "#train_test['manager_id'] = train_test['manager_id'].apply(lambda x: str(x))\n",
    "#train_test['manager_id'], labels = pd.factorize(train_test['manager_id'].values, sort=True)\n",
    "#train_test['building_id'] = train_test['building_id'].apply(lambda x: str(x))\n",
    "#train_test['building_id'], labels = pd.factorize(train_test['building_id'].values, sort=True)\n",
    "\n",
    "\n",
    "# transform price\n",
    "bc_price, tmp = boxcox(train_test.price)\n",
    "train_test['bc_price'] = bc_price\n",
    "\n",
    "\n",
    "# add price per bed/bath\n",
    "train_test['price_per_bedroom'] = train_test.apply(lambda x: x.price / max(1, x.bedrooms), axis=1)\n",
    "train_test['price_per_bathroom'] = train_test.apply(lambda x: x.price / max(1, x.bathrooms), axis=1)\n",
    "train_test['price_per_bed_and_bath'] = train_test.apply(lambda x: x.price / (max(1, x.bedrooms) + max(1, x.bathrooms)*0.1), axis=1)\n",
    "\n",
    "\n",
    "train_test.loc[train_test['manager_id'].isin(managers_with_one_lot['manager_id'].ravel()), \n",
    "      'manager_id'] = \"-1\"\n",
    "train_test.loc[train_test['building_id'].isin(buildings_with_one_lot['building_id'].ravel()), \n",
    "      'building_id'] = \"-1\"\n",
    "train_test.loc[train_test['display_address'].isin(addresses_with_one_lot['display_address'].ravel()), \n",
    "      'display_address'] = \"-1\"\n",
    "\n",
    "\n",
    "# add sparse\n",
    "train_test_cv1_sparse = sparse.hstack((train_test, c_vect_sparse_1)).tocsr()\n",
    "x_train = train_test_cv1_sparse[:ntrain, :]\n",
    "x_test = train_test_cv1_sparse[ntrain:, :]\n",
    "\n",
    "# add feature names\n",
    "features = list(train_test.columns) + ['sparse_' + vect_name for vect_name in c_vect_sparse1_cols]\n",
    "dtrain_data = pd.DataFrame(np.array(x_train.todense()), columns=features)\n",
    "dtest_data = pd.DataFrame(np.array(x_test.todense()), columns=features)"
   ]
  },
  {
   "cell_type": "code",
   "execution_count": 3,
   "metadata": {
    "collapsed": false
   },
   "outputs": [],
   "source": [
    "dtrain_data.to_json('data/train.json', orient='records')\n",
    "dtest_data.to_json('data/test.json', orient='records')"
   ]
  },
  {
   "cell_type": "code",
   "execution_count": null,
   "metadata": {
    "collapsed": true
   },
   "outputs": [],
   "source": []
  }
 ],
 "metadata": {
  "kernelspec": {
   "display_name": "Python 3",
   "language": "python",
   "name": "python3"
  },
  "language_info": {
   "codemirror_mode": {
    "name": "ipython",
    "version": 3
   },
   "file_extension": ".py",
   "mimetype": "text/x-python",
   "name": "python",
   "nbconvert_exporter": "python",
   "pygments_lexer": "ipython3",
   "version": "3.5.3"
  }
 },
 "nbformat": 4,
 "nbformat_minor": 0
}
