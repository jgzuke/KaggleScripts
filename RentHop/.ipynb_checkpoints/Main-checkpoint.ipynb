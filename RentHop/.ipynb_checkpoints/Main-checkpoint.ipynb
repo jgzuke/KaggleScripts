{
 "cells": [
  {
   "cell_type": "code",
   "execution_count": 1,
   "metadata": {
    "collapsed": false
   },
   "outputs": [
    {
     "name": "stderr",
     "output_type": "stream",
     "text": [
      "/Users/jgzuke/anaconda3/lib/python3.5/site-packages/sklearn/cross_validation.py:44: DeprecationWarning: This module was deprecated in version 0.18 in favor of the model_selection module into which all the refactored classes and functions are moved. Also note that the interface of the new CV iterators are different from that of this module. This module will be removed in 0.20.\n",
      "  \"This module will be removed in 0.20.\", DeprecationWarning)\n"
     ]
    }
   ],
   "source": [
    "%matplotlib inline\n",
    "import math\n",
    "import numpy as np\n",
    "import pandas as pd\n",
    "import random\n",
    "import xgboost as xgb\n",
    "from sklearn import preprocessing, model_selection\n",
    "from sklearn.metrics import log_loss\n",
    "import string\n",
    "from sklearn.feature_extraction.text import  CountVectorizer\n",
    "from scipy.stats import boxcox\n",
    "from scipy import stats\n",
    "from scipy import sparse"
   ]
  },
  {
   "cell_type": "code",
   "execution_count": 3,
   "metadata": {
    "collapsed": true
   },
   "outputs": [],
   "source": [
    "def fpreproc_leaky(dtrain, dtest, param):\n",
    "    train, test = dtrain.data, dtest.data\n",
    "    ntrain = train.shape[0]\n",
    "    train_test = pd.concat((train, test), axis=0).reset_index(drop=True)\n",
    "    y_train = dtrain.labels\n",
    "    \n",
    "    \n",
    "    # add manager worths\n",
    "    manager_ids = np.unique(train.manager_id)\n",
    "    manager_worths = {}\n",
    "    for manager_id in manager_ids:\n",
    "        interests = y_train[train.manager_id == manager_id].apply(lambda x: 2 - x)\n",
    "        if len(interests) > 5:\n",
    "            manager_worths[manager_id] = sum(interests) / len(interests)\n",
    "    average_interest = y_train.apply(lambda x: 2 - x)\n",
    "    average_manager_worth = 0 #sum(average_interest) / len(average_interest)\n",
    "    train_test['manager_worths'] = train_test['manager_id'].apply(lambda x: manager_worths[x] if x in manager_worths else average_manager_worth)\n",
    "\n",
    "    \n",
    "    # add building worths\n",
    "    building_ids = np.unique(train.building_id)\n",
    "    building_worths = {}\n",
    "    for building_id in building_ids:\n",
    "        interests = y_train[train.building_id == building_id].apply(lambda x: 2 - x)\n",
    "        if len(interests) > 5:\n",
    "            building_worths[building_id] = sum(interests) / len(interests)\n",
    "    average_interest = y_train.apply(lambda x: 2 - x)\n",
    "    average_building_worth = 0 #sum(average_interest) / len(average_interest)\n",
    "    train_test['building_worths'] = train_test['building_id'].apply(lambda x: building_worths[x] if x in building_worths else average_building_worth)\n",
    "\n",
    "    \n",
    "    # add price by area\n",
    "    lat_long_price = train_test[['latitude', 'longitude', 'price', 'bedroom_cat']]\n",
    "    remove_outliers = (np.abs(stats.zscore(lat_long_price)) < 0.15).all(axis=1)\n",
    "    lat_long_price = lat_long_price[remove_outliers]\n",
    "    lat_max, lat_min = max(lat_long_price.latitude), min(lat_long_price.latitude)\n",
    "    long_max, long_min = max(lat_long_price.longitude), min(lat_long_price.longitude)\n",
    "    lat_scale, long_scale = lat_max - lat_min, long_max - long_min\n",
    "    costs = np.zeros((100,100))\n",
    "    num_listings = np.zeros((100,100))\n",
    "    for lat, long, price, beds in lat_long_price.values:\n",
    "        scaled_lat, scaled_long = int((lat - lat_min) * 99 / lat_scale), int((long - long_min) * 99 / long_scale)\n",
    "        costs[scaled_lat][scaled_long] += price / beds\n",
    "        num_listings[scaled_lat][scaled_long] += 1\n",
    "\n",
    "    price_by_area = []\n",
    "    for lat, long, price, beds in train_test[['latitude', 'longitude', 'price', 'bedroom_cat']].values:\n",
    "        scaled_lat, scaled_long = int((lat - lat_min) * 99 / lat_scale), int((long - long_min) * 99 / long_scale)\n",
    "        if scaled_lat < 0 or scaled_lat >= 100 or scaled_long < 0 or scaled_long >= 100:\n",
    "            price_by_area.append(0)\n",
    "        elif num_listings[scaled_lat][scaled_long] > 8:\n",
    "            price_by_area.append((price / beds) - (costs[scaled_lat][scaled_long] / num_listings[scaled_lat][scaled_long]))\n",
    "        else:\n",
    "            cost = 0\n",
    "            num = 0\n",
    "            for i in range(scaled_lat - 1, scaled_lat + 2):\n",
    "                for j in range(scaled_long - 1, scaled_long + 2):\n",
    "                    if i > 0 and i < 100 and j >= 0 and j < 100:\n",
    "                        cost += costs[i][j]\n",
    "                        num += num_listings[i][j]\n",
    "            if num > 8:\n",
    "                price_by_area.append((price / beds) - (cost / num))\n",
    "            else:\n",
    "                price_by_area.append(0)\n",
    "\n",
    "    train_test['price_by_area'] = price_by_area\n",
    "    \n",
    "    \n",
    "    # try adding real - predicted price\n",
    "    # Try to predict price for a listing and add real_price - expected_price as a feature\n",
    "    # train on [exclusive, byowner, nofee] and #bed, #bath, display address\n",
    "    features_to_use = ['bathrooms', 'bedroom', 'street', 'avenue', 'east', 'west', 'north', 'south', 'address1', 'other_address', 'building_worths', 'manager_worths']\n",
    "    feature_to_predict = 'price'\n",
    "    params = {\n",
    "        'objective': 'reg:linear',\n",
    "        'booster':'gblinear',\n",
    "        'lambda': 0,\n",
    "        'lambda_bias' : 0,\n",
    "        'alpha': 0.2\n",
    "    }\n",
    "    prices = train_test[feature_to_predict]\n",
    "    remove_outliers = np.abs(prices-prices.mean())<=(3*prices.std())\n",
    "    dtrain = xgb.DMatrix(data=train_test[remove_outliers][features_to_use], label=train_test[remove_outliers][feature_to_predict])\n",
    "\n",
    "    bst = xgb.cv(params, dtrain, 10000, 4, early_stopping_rounds=50, verbose_eval=200)\n",
    "    best_rounds = np.argmin(bst['test-rmse-mean'])\n",
    "    print (bst['test-rmse-mean'][best_rounds])\n",
    "    bst = xgb.train(params, dtrain, best_rounds)\n",
    "    dtrain = xgb.DMatrix(data=train_test[features_to_use])\n",
    "    expected_price = bst.predict(dtrain)\n",
    "    train_test['real_minus_expected_price'] = train_test[feature_to_predict] - expected_price\n",
    "    train_test['real_over_expected_price'] = train_test[feature_to_predict] / expected_price\n",
    "    \n",
    "    \n",
    "    # enumerated streets / price / price per street (/ num bedrooms) / price / price per street (/ num bedrooms + 0.1*bath)\n",
    "    \n",
    "    address1\n",
    "    BoroCode\n",
    "    NTACode\n",
    "    \n",
    "    # enumerated neighborhoods / same as above\n",
    "    \n",
    "    \n",
    "    \n",
    "    # remove extra\n",
    "    train_test.drop('price', axis=1, inplace=True)\n",
    "    \n",
    "    dtrain = xgb.DMatrix(data=train_test[:ntrain], label=y_train)\n",
    "    dtest = xgb.DMatrix(data=train_test[ntrain:], label=dtest.labels)\n",
    "    return dtrain, dtest, param"
   ]
  },
  {
   "cell_type": "code",
   "execution_count": 60,
   "metadata": {
    "collapsed": true
   },
   "outputs": [],
   "source": [
    "current_filter = ['bc_price', 'price_per_bedroom', 'price_per_bathroom', 'price_per_bed_and_bath', 'price', 'latitude', 'price_by_area', 'BoroCode', 'NTACode', 'longitude', 'manager_worths', 'address1', 'real_over_expected_price', 'desc_words_length', 'real_minus_expected_price', 'manager_id', 'Yday', 'building_id', 'building_worths', 'desc_letters_count', 'Day', 'desc_words_count', 'hour', 'bedrooms', 'photos_count', 'features_count', 'Wday', 'sparse_nofee', 'bathrooms', 'sparse_furnished', 'sparse_laundryinbuilding', 'sparse_hardwoodfloors', 'sparse_laundryinunit', 'Month', 'sparse_catsallowed', 'sparse_exclusive', 'street', 'sparse_elevator', 'sparse_prewar', 'sparse_dogsallowed', 'sparse_reducedfee', 'avenue', 'east', 'sparse_doorman', 'sparse_dishwasher', 'other_address', 'sparse_fitnesscenter', 'sparse_privateoutdoorspace', 'sparse_commonoutdoorspace', 'sparse_outdoorspace', 'sparse_loft', 'sparse_diningroom', 'sparse_balcony', 'sparse_highspeedinternet', 'sparse_parkingspace', 'sparse_terrace', 'sparse_swimmingpool', 'west', 'sparse_roofdeck', 'sparse_actualapt', 'sparse_wheelchairaccess', 'sparse_newconstruction', 'Zero_building_id', 'sparse_simplex', 'sparse_patio', 'sparse_garden', 'sparse_multilevel', 'sparse_hardwood', 'sparse_shorttermallowed', 'south', 'sparse_stainlesssteelappliances', 'sparse_fireplace', 'sparse_highceiling', 'sparse_renovated', 'sparse_liveinsuper', 'sparse_storage', 'sparse_garage', 'sparse_dryerinunit', 'sparse_outdoorareas', 'sparse_petsok', 'sparse_lndrybldg', 'sparse_concierge', 'sparse_new', 'sparse_highceilings', 'sparse_onsitelaundry', 'sparse_centrala', 'sparse_flex3', 'sparse_photos', 'sparse_view', 'sparse_publicoutdoor', 'sparse_allutilitiesincluded', 'sparse_residentslounge', 'sparse_newlyrenovated', 'sparse_washerinunit', 'sparse_onsitegarage', 'sparse_assignedparkingspace', 'north', 'sparse_washer', 'sparse_light', 'sparse_dryer', 'sparse_lowrise', 'sparse_sublet', 'sparse_granitekitchen', 'sparse_elev', 'sparse_virtualdoorman', 'sparse_sundeck', 'sparse_rooftopdeck', 'sparse_wallsofwindows', 'sparse_sharesok', 'sparse_duplex', 'sparse_nopets', 'sparse_cable', 'sparse_microwave', 'sparse_wifiaccess', 'sparse_walkincloset', 'sparse_petsonapproval', 'sparse_pool', 'sparse_eatinkitchen', 'sparse_marblebath', 'sparse_live', 'sparse_sauna', 'sparse_greenbuilding', 'sparse_exposedbrick', 'sparse_largelivingroom', 'sparse_bikeroom', 'sparse_highrise', 'sparse_laundry', 'sparse_privateroofdeck', 'sparse_laundryroom', 'sparse_commonbackyard', 'sparse_privatebackyard', 'sparse_parking', 'sparse_privateparking', 'sparse_childrensplayroom', 'sparse_privatebalcony', 'sparse_indoorpool']\n",
    "leaky = ['manager_worths', 'building_worths', 'price_by_area', 'real_minus_expected_price', 'real_over_expected_price']\n",
    "def filter_data_to_columns(data):\n",
    "    return data[[col for col in current_filter if col not in leaky]]"
   ]
  },
  {
   "cell_type": "markdown",
   "metadata": {},
   "source": [
    "# Run CV"
   ]
  },
  {
   "cell_type": "code",
   "execution_count": 5,
   "metadata": {
    "collapsed": false
   },
   "outputs": [
    {
     "name": "stdout",
     "output_type": "stream",
     "text": [
      "[0]\ttrain-rmse:1950.96+34.4251\ttest-rmse:1949.5+53.2433\n",
      "[200]\ttrain-rmse:1645.32+20.4463\ttest-rmse:1645.08+61.1426\n",
      "1645.081482\n",
      "[0]\ttrain-rmse:1935.76+52.4955\ttest-rmse:1934.8+64.7097\n",
      "[200]\ttrain-rmse:1645.64+22.1719\ttest-rmse:1645.95+66.6588\n",
      "1645.953247\n",
      "[0]\ttrain-rmse:1966.36+22.6638\ttest-rmse:1966.06+67.9858\n",
      "[200]\ttrain-rmse:1645.48+22.4534\ttest-rmse:1645.44+67.2012\n",
      "1645.440918\n",
      "[0]\ttrain-mlogloss:1.09143+2.00499e-05\ttest-mlogloss:1.09176+1.41657e-05\n",
      "[200]\ttrain-mlogloss:0.598601+0.000625148\ttest-mlogloss:0.641504+0.00183947\n",
      "[400]\ttrain-mlogloss:0.519138+0.000594581\ttest-mlogloss:0.587296+0.00274033\n",
      "[600]\ttrain-mlogloss:0.482462+0.000448078\ttest-mlogloss:0.569714+0.0029264\n",
      "[800]\ttrain-mlogloss:0.457343+0.000351523\ttest-mlogloss:0.561291+0.00289459\n",
      "[1000]\ttrain-mlogloss:0.437719+0.000530272\ttest-mlogloss:0.556462+0.00286698\n",
      "[1200]\ttrain-mlogloss:0.420989+0.000573644\ttest-mlogloss:0.553342+0.00277451\n",
      "[1400]\ttrain-mlogloss:0.405876+0.000678381\ttest-mlogloss:0.551211+0.00266778\n",
      "[1600]\ttrain-mlogloss:0.391966+0.000602259\ttest-mlogloss:0.549823+0.00260127\n",
      "[1800]\ttrain-mlogloss:0.378924+0.000707846\ttest-mlogloss:0.548824+0.00264383\n",
      "[2000]\ttrain-mlogloss:0.36666+0.000673437\ttest-mlogloss:0.548222+0.00261629\n",
      "[2200]\ttrain-mlogloss:0.354755+0.000679709\ttest-mlogloss:0.547901+0.00259569\n",
      "[2400]\ttrain-mlogloss:0.34347+0.000562036\ttest-mlogloss:0.547689+0.00258573\n",
      "0.547625333333\n",
      "2448\n",
      "CPU times: user 2h 21min 25s, sys: 4min 18s, total: 2h 25min 44s\n",
      "Wall time: 47min 33s\n"
     ]
    }
   ],
   "source": [
    "%%time\n",
    "class FakeDMatrix:\n",
    "    def __init__(self, data, labels=None):\n",
    "        self.data = data\n",
    "        self.labels = labels\n",
    "        self.num = len(data)\n",
    "\n",
    "    def num_row(self):\n",
    "        return self.num\n",
    "\n",
    "    def slice(self, rindex):\n",
    "        indices = np.zeros(self.num, dtype=np.bool)\n",
    "        for index in rindex:\n",
    "            indices[index] = True\n",
    "        return FakeDMatrix(data=self.data[indices], labels=self.labels[indices])\n",
    "    \n",
    "SEED = 777\n",
    "NFOLDS = 3\n",
    "y_map = {'low': 2, 'medium': 1, 'high': 0}\n",
    "\n",
    "params = {\n",
    "    'eta':.01,\n",
    "    'colsample_bytree':.8,\n",
    "    'subsample':.8,\n",
    "    'seed':0,\n",
    "    'nthread':16,\n",
    "    'objective':'multi:softprob',\n",
    "    'eval_metric':'mlogloss',\n",
    "    'num_class':3,\n",
    "    'silent':1\n",
    "}\n",
    "\n",
    "processed_train = filter_data_to_columns(pd.read_json('data/train.json'))\n",
    "processed_test = filter_data_to_columns(pd.read_json('data/test.json'))\n",
    "y_train = pd.read_json('data/train_interest.json', typ='series')\n",
    "listing_id = pd.read_json('data/test_ids.json', typ='series').values\n",
    "\n",
    "\n",
    "dtrain = FakeDMatrix(data=processed_train, labels=y_train)\n",
    "processed_train = None\n",
    "y_train = None\n",
    "\n",
    "bst = xgb.cv(params, dtrain, 10000, NFOLDS, early_stopping_rounds=50, verbose_eval=200, fpreproc=fpreproc_leaky)\n",
    "best_rounds = np.argmin(bst['test-mlogloss-mean'])\n",
    "print (bst['test-mlogloss-mean'][best_rounds])\n",
    "print (best_rounds)"
   ]
  },
  {
   "cell_type": "markdown",
   "metadata": {},
   "source": [
    "# Run To Submit"
   ]
  },
  {
   "cell_type": "code",
   "execution_count": 7,
   "metadata": {
    "collapsed": false
   },
   "outputs": [
    {
     "name": "stdout",
     "output_type": "stream",
     "text": [
      "[('bc_price', 22052), ('latitude', 20582), ('price_by_area', 20205), ('longitude', 19794), ('manager_worths', 18563), ('address1', 17124), ('real_over_expected_price', 16990), ('desc_words_length', 16945), ('real_minus_expected_price', 16153), ('manager_id', 15467), ('Yday', 14915), ('building_id', 14768), ('building_worths', 14457), ('desc_letters_count', 13911), ('Day', 11938), ('desc_words_count', 10407), ('hour', 10283), ('bedroom_cat', 8818), ('photos_count', 8595), ('features_count', 7736), ('Wday', 6037), ('sparse_nofee', 3430), ('bathrooms_cat', 2698), ('sparse_furnished', 1896), ('sparse_laundryinbuilding', 1860), ('sparse_hardwoodfloors', 1452), ('sparse_laundryinunit', 1402), ('Month', 1303), ('sparse_catsallowed', 1091), ('sparse_exclusive', 1067), ('street', 1064), ('sparse_elevator', 1006), ('sparse_prewar', 997), ('sparse_dogsallowed', 983), ('sparse_reducedfee', 915), ('avenue', 906), ('east', 885), ('sparse_doorman', 878), ('sparse_dishwasher', 828), ('other_address', 754), ('sparse_fitnesscenter', 661), ('sparse_privateoutdoorspace', 660), ('sparse_commonoutdoorspace', 646), ('sparse_outdoorspace', 612), ('sparse_loft', 581), ('sparse_diningroom', 570), ('sparse_balcony', 556), ('sparse_highspeedinternet', 545), ('sparse_parkingspace', 530), ('sparse_terrace', 513), ('sparse_swimmingpool', 500), ('west', 468), ('sparse_roofdeck', 462), ('sparse_actualapt', 441), ('sparse_wheelchairaccess', 378), ('sparse_newconstruction', 367), ('Zero_building_id', 327), ('sparse_simplex', 326), ('sparse_patio', 306), ('sparse_garden', 290), ('sparse_multilevel', 279), ('sparse_hardwood', 257), ('sparse_shorttermallowed', 248), ('south', 220), ('sparse_stainlesssteelappliances', 195), ('sparse_fireplace', 186), ('sparse_highceiling', 185), ('sparse_renovated', 181), ('sparse_liveinsuper', 176), ('sparse_storage', 174), ('sparse_garage', 169), ('sparse_dryerinunit', 168), ('sparse_outdoorareas', 155), ('sparse_petsok', 152), ('sparse_lndrybldg', 135), ('sparse_concierge', 124), ('sparse_new', 117), ('sparse_highceilings', 115), ('sparse_onsitelaundry', 105), ('sparse_centrala', 95), ('sparse_flex3', 94), ('sparse_photos', 88), ('sparse_view', 84), ('sparse_publicoutdoor', 78), ('sparse_allutilitiesincluded', 77), ('sparse_residentslounge', 76), ('sparse_newlyrenovated', 75), ('sparse_washerinunit', 70), ('sparse_onsitegarage', 69), ('sparse_assignedparkingspace', 65), ('north', 64), ('sparse_washer', 63), ('sparse_light', 60), ('sparse_dryer', 55), ('sparse_lowrise', 49), ('sparse_sublet', 46), ('sparse_granitekitchen', 45), ('sparse_elev', 45), ('sparse_virtualdoorman', 42), ('sparse_sundeck', 40), ('sparse_rooftopdeck', 39), ('sparse_wallsofwindows', 38), ('sparse_sharesok', 36), ('sparse_duplex', 35), ('sparse_nopets', 35), ('sparse_cable', 34), ('sparse_microwave', 33), ('sparse_wifiaccess', 33), ('sparse_walkincloset', 32), ('sparse_petsonapproval', 28), ('sparse_pool', 27), ('sparse_eatinkitchen', 27), ('sparse_marblebath', 27), ('sparse_live', 27), ('sparse_sauna', 26), ('sparse_greenbuilding', 25), ('sparse_exposedbrick', 24), ('sparse_largelivingroom', 23), ('sparse_bikeroom', 22), ('sparse_highrise', 20), ('sparse_laundry', 20), ('sparse_privateroofdeck', 20), ('sparse_laundryroom', 18), ('sparse_commonbackyard', 17), ('sparse_privatebackyard', 17), ('sparse_parking', 13), ('sparse_privateparking', 13), ('sparse_childrensplayroom', 13), ('sparse_privatebalcony', 12), ('sparse_indoorpool', 11), ('sparse_tonsofnaturallight', 10), ('sparse_gym', 10), ('sparse_liveinsuperintendent', 10), ('sparse_fitness', 9), ('sparse_work', 8), ('sparse_buildingcommonoutdoorspace', 7), ('sparse_subway', 7), ('sparse_midrise', 7), ('sparse_wheelchairramp', 6), ('sparse_marblebathroom', 6), ('sparse_ornateprewardetails', 6), ('sparse_lounge', 5), ('sparse_satellitetv', 5), ('sparse_postwar', 5), ('sparse_24', 4), ('sparse_conciergeservice', 4), ('sparse_airconditioning', 4), ('sparse_valet', 4), ('sparse_commonparking', 3), ('sparse_onsiteparkinglot', 3), ('sparse_packageroom', 3), ('sparse_courtyard', 3), ('sparse_onsitesuper', 3), ('sparse_privateterrace', 3), ('sparse_gourmetkitchen', 3), ('sparse_laundryonfloor', 3), ('sparse_loungeroom', 2), ('sparse_wifi', 2), ('sparse_granitecountertops', 2), ('sparse_petfriendly', 2), ('sparse_playroom', 2), ('sparse_commonterrace', 2), ('sparse_children', 2), ('sparse_gutrenovated', 2), ('sparse_rooftopterrace', 1), ('sparse_roofaccess', 1), ('sparse_luxurybuilding', 1), ('sparse_fulltimedoorman', 1), ('sparse_communityrecreationfacilities', 1), ('sparse_healthclub', 1), ('sparse_backyard', 1), ('sparse_tenantlounge', 1), ('sparse_centralac', 1), ('sparse_billiardsroom', 1), ('sparse_bikestorage', 1), ('sparse_guarantorsaccepted', 1), ('sparse_hirise', 1), ('sparse_stepstothepark', 1)]\n",
      "CPU times: user 1h 12min 10s, sys: 1min 31s, total: 1h 13min 42s\n",
      "Wall time: 23min 49s\n"
     ]
    }
   ],
   "source": [
    "%%time\n",
    "dtest = FakeDMatrix(data=processed_test)\n",
    "processed_test = None\n",
    "\n",
    "dtrain_final, dtest_final, _ = fpreproc_leaky(dtrain, dtest, None)\n",
    "dtrain = None\n",
    "dtest = None\n",
    "\n",
    "bst = xgb.train(params, dtrain_final, best_rounds)\n",
    "dtrain_final = None\n",
    "\n",
    "preds = bst.predict(dtest_final)\n",
    "# save for column names\n",
    "#dtest_final = None\n",
    "\n",
    "preds = pd.DataFrame(preds)\n",
    "preds.columns = ['high', 'medium', 'low']\n",
    "preds['listing_id'] = listing_id\n",
    "preds.to_csv('data/my_preds.csv', index=None)\n",
    "\n",
    "importance = bst.get_fscore()\n",
    "feature_importance = [(feature, (importance[feature])) for feature in importance]\n",
    "print (sorted(feature_importance, key=lambda x: -x[1]))"
   ]
  },
  {
   "cell_type": "code",
   "execution_count": null,
   "metadata": {
    "collapsed": true
   },
   "outputs": [],
   "source": []
  }
 ],
 "metadata": {
  "kernelspec": {
   "display_name": "Python 3",
   "language": "python",
   "name": "python3"
  },
  "language_info": {
   "codemirror_mode": {
    "name": "ipython",
    "version": 3
   },
   "file_extension": ".py",
   "mimetype": "text/x-python",
   "name": "python",
   "nbconvert_exporter": "python",
   "pygments_lexer": "ipython3",
   "version": "3.5.3"
  }
 },
 "nbformat": 4,
 "nbformat_minor": 0
}
