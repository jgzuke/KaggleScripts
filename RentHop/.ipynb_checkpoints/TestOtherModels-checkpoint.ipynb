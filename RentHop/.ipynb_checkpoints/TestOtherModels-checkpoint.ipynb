{
 "cells": [
  {
   "cell_type": "code",
   "execution_count": 57,
   "metadata": {
    "collapsed": false
   },
   "outputs": [],
   "source": [
    "%matplotlib inline\n",
    "import math\n",
    "import numpy as np\n",
    "import pandas as pd\n",
    "import random\n",
    "import xgboost as xgb\n",
    "from sklearn import preprocessing, model_selection\n",
    "from sklearn.metrics import log_loss\n",
    "import string\n",
    "from sklearn.metrics import log_loss\n",
    "from sklearn.feature_extraction.text import  CountVectorizer\n",
    "from scipy.stats import boxcox\n",
    "from scipy import stats\n",
    "from scipy import sparse\n",
    "from sklearn.preprocessing import StandardScaler\n",
    "from sklearn.linear_model import Lasso\n",
    "from sklearn.linear_model import ElasticNet\n",
    "from sklearn.linear_model import RidgeClassifier\n",
    "from sklearn.linear_model import Ridge\n",
    "from sklearn.ensemble import AdaBoostClassifier\n",
    "from sklearn.ensemble import ExtraTreesClassifier\n",
    "from sklearn.ensemble import RandomForestClassifier\n",
    "from keras.models import Sequential\n",
    "from keras.layers import Dense, Dropout, Activation\n",
    "from keras.layers.normalization import BatchNormalization\n",
    "from keras.layers.advanced_activations import PReLU\n",
    "from keras.callbacks import EarlyStopping, ModelCheckpoint\n",
    "from sklearn.feature_extraction.text import TfidfTransformer\n",
    "from keras.regularizers import l2, activity_l2\n",
    "from sklearn.neighbors import KNeighborsClassifier\n",
    "from keras.callbacks import Callback\n",
    "import xgboost as xgb\n",
    "\n",
    "class NBatchLogger(Callback):\n",
    "    def __init__(self):\n",
    "        self.seen = 0\n",
    "\n",
    "    def on_epoch_end(self, batch, logs={}):\n",
    "        self.seen += 1\n",
    "        if self.seen % 500 == 0:\n",
    "            print('epoch {}: loss = {}, val = {}'.format(self.seen, logs['loss'], logs['val_loss'])) \n",
    "            \n",
    "class FakeDMatrix:\n",
    "    def __init__(self, data, labels=None):\n",
    "        self.data = data\n",
    "        self.labels = labels\n",
    "        self.num = len(data)\n",
    "\n",
    "    def num_row(self):\n",
    "        return self.num\n",
    "\n",
    "    def slice(self, rindex):\n",
    "        indices = np.zeros(self.num, dtype=np.bool)\n",
    "        for index in rindex:\n",
    "            indices[index] = True\n",
    "        return FakeDMatrix(data=self.data[indices], labels=self.labels[indices])"
   ]
  },
  {
   "cell_type": "code",
   "execution_count": 43,
   "metadata": {
    "collapsed": true
   },
   "outputs": [],
   "source": [
    "train_X = pd.read_json('data/train_with_leaky_cv.json')\n",
    "train_y = pd.read_json('data/train_interest.json')[0]\n",
    "columns = train_X.columns\n",
    "train_X_scaled = pd.DataFrame(StandardScaler().fit_transform(train_X), columns=columns)"
   ]
  },
  {
   "cell_type": "code",
   "execution_count": 44,
   "metadata": {
    "collapsed": false
   },
   "outputs": [],
   "source": [
    "column_usefulness = [('bc_price', 16597), ('manager_worths', 14684), ('price_by_NTACode', 13343), ('latitude', 12299), ('longitude', 12051), ('desc_words_length', 11477), ('manager_id', 11136), ('price_by_address1', 11125), ('Yday', 10884), ('address1', 10458), ('building_worths', 10298), ('building_id', 10142), ('desc_letters_count', 9832), ('real_minus_expected_price', 9815), ('price_by_area', 9742), ('real_over_expected_price', 9374), ('Day', 9066), ('worth_by_address1', 8782), ('hour', 7722), ('price_per_bathroom', 7590), ('desc_words_count', 7481), ('price_per_bed_and_bath', 7387), ('worth_by_NTACode', 6993), ('photos_count', 6730), ('NTACode', 6324), ('price_by_BoroCode', 6098), ('features_count', 5668), ('Wday', 4445), ('price_per_bedroom', 3903), ('sparse_nofee', 3056), ('bedrooms', 2833), ('sparse_furnished', 1865), ('bathrooms', 1702), ('sparse_laundryinbuilding', 1425), ('sparse_hardwoodfloors', 1132), ('sparse_laundryinunit', 1088), ('Month', 1006), ('sparse_exclusive', 771), ('sparse_dogsallowed', 770), ('BoroCode', 749), ('sparse_catsallowed', 718), ('sparse_prewar', 663), ('sparse_privateoutdoorspace', 634), ('sparse_reducedfee', 631), ('avenue', 595), ('street', 569), ('other_address', 553), ('sparse_commonoutdoorspace', 545), ('Zero_building_id', 534), ('sparse_elevator', 533), ('east', 524), ('sparse_doorman', 510), ('sparse_parkingspace', 506), ('sparse_dishwasher', 500), ('sparse_highspeedinternet', 476), ('sparse_terrace', 424), ('sparse_fitnesscenter', 423), ('sparse_loft', 413), ('sparse_outdoorspace', 406), ('sparse_actualapt', 399), ('sparse_roofdeck', 359), ('sparse_balcony', 346), ('sparse_diningroom', 318), ('sparse_simplex', 292), ('sparse_swimmingpool', 283), ('sparse_shorttermallowed', 263), ('sparse_wheelchairaccess', 248), ('west', 245), ('sparse_newconstruction', 238), ('sparse_garden', 231), ('sparse_multilevel', 201), ('sparse_patio', 199), ('sparse_hardwood', 198), ('worth_by_BoroCode', 179), ('sparse_fireplace', 168), ('sparse_highceiling', 159), ('sparse_petsok', 154), ('sparse_dryerinunit', 153), ('sparse_stainlesssteelappliances', 148), ('sparse_garage', 119), ('south', 118), ('sparse_storage', 118), ('sparse_outdoorareas', 117), ('sparse_lndrybldg', 113), ('sparse_liveinsuper', 110), ('sparse_new', 103), ('sparse_renovated', 99), ('sparse_photos', 88), ('sparse_highceilings', 79), ('sparse_onsitelaundry', 79), ('sparse_view', 78), ('sparse_flex3', 67), ('sparse_centrala', 66), ('sparse_concierge', 64), ('sparse_residentslounge', 63), ('sparse_assignedparkingspace', 62), ('sparse_allutilitiesincluded', 58), ('sparse_onsitegarage', 53), ('north', 46), ('sparse_lowrise', 44), ('sparse_washerinunit', 44)]\n",
    "leaky = ['manager_worths', 'building_worths', 'price_by_area', 'real_minus_expected_price', 'real_over_expected_price', 'price_by_address1', 'worth_by_address1', 'price_by_BoroCode', 'worth_by_BoroCode', 'price_by_NTACode', 'worth_by_NTACode']\n",
    "all_columns = ['BoroCode', 'Day', 'Month', 'NTACode', 'Wday', 'Yday', 'Zero_building_id', 'Zero_manager_id', 'address1', 'avenue', 'bathrooms', 'bc_price', 'bedrooms', 'building_id', 'building_worths', 'desc_letters_count', 'desc_words_count', 'desc_words_length', 'east', 'features_count', 'hour', 'latitude', 'longitude', 'manager_id', 'manager_worths', 'north', 'other_address', 'photos_count', 'price_by_BoroCode', 'price_by_NTACode', 'price_by_address1', 'price_by_area', 'price_per_bathroom', 'price_per_bed_and_bath', 'price_per_bedroom', 'real_minus_expected_price', 'real_over_expected_price', 'south', 'sparse_24', 'sparse_2fullbaths', 'sparse_actualapt', 'sparse_airconditioning', 'sparse_allutilitiesincluded', 'sparse_assignedparkingspace', 'sparse_attendedlobby', 'sparse_backyard', 'sparse_balconies', 'sparse_balcony', 'sparse_basementstorage', 'sparse_bikeroom', 'sparse_bikestorage', 'sparse_billiardsroom', 'sparse_brownstone', 'sparse_buildingcommonoutdoorspace', 'sparse_businesscenter', 'sparse_cable', 'sparse_catsallowed', 'sparse_centrala', 'sparse_centralac', 'sparse_centralair', 'sparse_chef', 'sparse_chefskitchen', 'sparse_children', 'sparse_childrensplayroom', 'sparse_cityview', 'sparse_commonbackyard', 'sparse_commongarden', 'sparse_commonoutdoorspace', 'sparse_commonparking', 'sparse_commonroofdeck', 'sparse_commonterrace', 'sparse_communityrecreationfacilities', 'sparse_concierge', 'sparse_conciergeservice', 'sparse_condofinishes', 'sparse_cook', 'sparse_courtyard', 'sparse_deck', 'sparse_decorativefireplace', 'sparse_diningroom', 'sparse_dishwasher', 'sparse_dogsallowed', 'sparse_doorman', 'sparse_drycleaningservice', 'sparse_dryer', 'sparse_dryerinbuilding', 'sparse_dryerinunit', 'sparse_duplex', 'sparse_eatinkitchen', 'sparse_elev', 'sparse_elevator', 'sparse_elevbldg', 'sparse_exclusive', 'sparse_exposedbrick', 'sparse_fireplace', 'sparse_fireplaces', 'sparse_fitness', 'sparse_fitnesscenter', 'sparse_flex2', 'sparse_flex3', 'sparse_ftdoorman', 'sparse_fullservicegarage', 'sparse_fulltimedoorman', 'sparse_furnished', 'sparse_garage', 'sparse_garden', 'sparse_gourmetkitchen', 'sparse_granitecountertops', 'sparse_granitekitchen', 'sparse_greenbuilding', 'sparse_guarantorsaccepted', 'sparse_gutrenovated', 'sparse_gym', 'sparse_gyminbuilding', 'sparse_hardwood', 'sparse_hardwoodfloors', 'sparse_healthclub', 'sparse_highceiling', 'sparse_highceilings', 'sparse_highrise', 'sparse_highspeedinternet', 'sparse_hirise', 'sparse_housekeeping', 'sparse_indoorpool', 'sparse_inunitwasher', 'sparse_largelivingroom', 'sparse_laundry', 'sparse_laundryinbuilding', 'sparse_laundryinunit', 'sparse_laundryonfloor', 'sparse_laundryroom', 'sparse_light', 'sparse_live', 'sparse_liveinsuper', 'sparse_liveinsuperintendent', 'sparse_lndrybldg', 'sparse_loft', 'sparse_lounge', 'sparse_loungeroom', 'sparse_lowrise', 'sparse_luxurybuilding', 'sparse_mailroom', 'sparse_marblebath', 'sparse_marblebathroom', 'sparse_microwave', 'sparse_midrise', 'sparse_mrcleanapproved', 'sparse_multilevel', 'sparse_new', 'sparse_newconstruction', 'sparse_newlyrenovated', 'sparse_nofee', 'sparse_nopets', 'sparse_nursery', 'sparse_onsitegarage', 'sparse_onsitelaundry', 'sparse_onsiteparking', 'sparse_onsiteparkingavailable', 'sparse_onsiteparkinglot', 'sparse_onsitesuper', 'sparse_ornateprewardetails', 'sparse_outdoorareas', 'sparse_outdoorentertainmentspace', 'sparse_outdoorpool', 'sparse_outdoorspace', 'sparse_packageroom', 'sparse_parking', 'sparse_parkingspace', 'sparse_patio', 'sparse_penthouse', 'sparse_petfriendly', 'sparse_pets', 'sparse_petsallowed', 'sparse_petsok', 'sparse_petsonapproval', 'sparse_photos', 'sparse_playroom', 'sparse_pool', 'sparse_postwar', 'sparse_prewar', 'sparse_privatebackyard', 'sparse_privatebalcony', 'sparse_privatedeck', 'sparse_privatelaundryroomoneveryfloor', 'sparse_privateoutdoorspace', 'sparse_privateparking', 'sparse_privateroofdeck', 'sparse_privateterrace', 'sparse_publicoutdoor', 'sparse_reducedfee', 'sparse_renovated', 'sparse_residentsgarden', 'sparse_residentslounge', 'sparse_roofaccess', 'sparse_roofdeck', 'sparse_rooftopdeck', 'sparse_rooftopterrace', 'sparse_roomyclosets', 'sparse_satellitetv', 'sparse_sauna', 'sparse_screeningroom', 'sparse_sharedbackyard', 'sparse_sharesok', 'sparse_shorttermallowed', 'sparse_simplex', 'sparse_skitchen', 'sparse_skylight', 'sparse_splayroom', 'sparse_sskitchen', 'sparse_stainlesssteelappliances', 'sparse_stepstothepark', 'sparse_storage', 'sparse_storagefacilitiesavailable', 'sparse_storageroom', 'sparse_sublet', 'sparse_subway', 'sparse_sundeck', 'sparse_swimmingpool', 'sparse_tenantlounge', 'sparse_terrace', 'sparse_terraces', 'sparse_tonsofnaturallight', 'sparse_valet', 'sparse_valetparking', 'sparse_valetservices', 'sparse_valetservicesincludingdrycleaning', 'sparse_videointercom', 'sparse_view', 'sparse_virtualdoorman', 'sparse_walkincloset', 'sparse_wallsofwindows', 'sparse_washer', 'sparse_washerinunit', 'sparse_wheelchairaccess', 'sparse_wheelchairramp', 'sparse_wifi', 'sparse_wifiaccess', 'sparse_work', 'street', 'west', 'worth_by_BoroCode', 'worth_by_NTACode', 'worth_by_address1']\n",
    "sparse_cols = [x[0] for x in column_usefulness if x[0].startswith('sparse')][:15]\n",
    "non_sparse_cols = [x[0] for x in column_usefulness if not x[0].startswith('sparse')]"
   ]
  },
  {
   "cell_type": "markdown",
   "metadata": {},
   "source": [
    "# Add a bunch of features to train_X"
   ]
  },
  {
   "cell_type": "code",
   "execution_count": 106,
   "metadata": {
    "collapsed": true
   },
   "outputs": [],
   "source": [
    "from sklearn.cluster import KMeans\n",
    "from sklearn.neighbors import KNeighborsClassifier\n",
    "from sklearn.manifold import TSNE\n",
    "from sklearn.decomposition import PCA\n",
    "from sklearn.neighbors import DistanceMetric"
   ]
  },
  {
   "cell_type": "code",
   "execution_count": 173,
   "metadata": {
    "collapsed": false
   },
   "outputs": [],
   "source": [
    "train_X = pd.read_json('data/train_with_leaky_cv.json')\n",
    "train_y = pd.read_json('data/train_interest.json')[0]\n",
    "columns = train_X.columns\n",
    "train_X_scaled = pd.DataFrame(StandardScaler().fit_transform(train_X), columns=columns)\n",
    "train_X_with_layer_1 = pd.read_json('data/train_scaled_with_leaky_and_added_features_cv.json')"
   ]
  },
  {
   "cell_type": "code",
   "execution_count": 176,
   "metadata": {
    "collapsed": false
   },
   "outputs": [
    {
     "name": "stdout",
     "output_type": "stream",
     "text": [
      "Fold 0\n",
      "Fold 1\n",
      "Fold 2\n",
      "Fold 3\n",
      "Fold 4\n"
     ]
    }
   ],
   "source": [
    "#%%time\n",
    "#PCA\n",
    "'''\n",
    "n_components = 3\n",
    "pca_columns = ['layer1_pca_{}'.format(i) for i in range(n_components)]\n",
    "for column in pca_columns:\n",
    "    train_X_with_layer_1[column] = 0\n",
    "pca = PCA(n_components=n_components)\n",
    "pca_representation = pca.fit_transform(train_X_scaled)\n",
    "train_X_with_layer_1.loc[:, pca_cols] = pca_representation\n",
    "'''\n",
    "\n",
    "#tsne = TSNE(n_components = 2)\n",
    "#tsne_representation = tsne.fit_transform(train_X_scaled[knn_features[:15]][:5000])\n",
    "\n",
    "folds = 5\n",
    "full_length = len(train_X_scaled)\n",
    "entries = int(full_length / folds)\n",
    "full_index = train_X_scaled.index\n",
    "fold_indices = []\n",
    "fold_indices_keep = []\n",
    "fold_indices_throw = []\n",
    "for column in leaky:\n",
    "    train_X_scaled[column] = 0\n",
    "for i in range(folds):\n",
    "    print ('Fold {}'.format(i))\n",
    "    indices = sorted(random.sample(list(full_index), entries))\n",
    "    fold_indices.append(indices)\n",
    "    full_index = full_index.drop(indices)\n",
    "\n",
    "    full_index_keep = np.zeros((full_length), dtype=np.bool)\n",
    "    full_index_throw = np.ones((full_length), dtype=np.bool)\n",
    "    for j in fold_indices[i]:\n",
    "        full_index_keep[j] = True\n",
    "        full_index_throw[j] = False\n",
    "    fold_indices_throw.append(full_index_throw)\n",
    "    fold_indices_keep.append(full_index_keep)\n",
    "    \n",
    "    xtr = train_X_scaled[full_index_throw]\n",
    "    ytr = train_y[full_index_throw]\n",
    "    xte = train_X_scaled[full_index_keep]\n",
    "    \n",
    "    '''\n",
    "    knn_features = ['bc_price', 'manager_worths', 'latitude', 'longitude', 'desc_words_length', 'Yday', 'building_worths', 'price_per_bedroom']\n",
    "    knn_n_closest = [2, 4, 8, 16, 32, 64, 128, 256, 512, 1024]\n",
    "    knn_columns = ['layer1_knn_{}_{}'.format(n_neighbors, category) for category in ['high', 'medium', 'low'] for n_neighbors in knn_n_closest]\n",
    "    for column in knn_columns:\n",
    "        train_X_with_layer_1[column] = 0\n",
    "    for n_neighbors in knn_n_closest:\n",
    "        #knn_dist = DistanceMetric.get_metric('mahalanobis', V=np.eye(len(knn_n_closest)))\n",
    "        knn = KNeighborsClassifier(n_neighbors=n_neighbors, metric='manhattan') # metric='manhattan'\n",
    "        knn.fit(train_X_scaled[knn_features][full_index_throw], train_y[full_index_throw])\n",
    "        knn_pred = knn.predict_proba(train_X_scaled[knn_features][full_index_keep])\n",
    "        new_cols = ['layer1_knn_{}_{}'.format(n_neighbors, category) for category in ['high', 'medium', 'low']]\n",
    "        train_X_with_layer_1.loc[indices, new_cols] = knn_pred\n",
    "    \n",
    "    ridge_columns = ['layer1_ridge_predictions']\n",
    "    for column in ridge_columns:\n",
    "        train_X_with_layer_1[column] = 0\n",
    "    ridge = Ridge()\n",
    "    ridge.fit(xtr, ytr)\n",
    "    ridge_predictions = ridge.predict(xte)\n",
    "    train_X_with_layer_1.loc[indices, 'layer1_ridge_predictions'] = ridge_predictions\n",
    "    \n",
    "    rf_columns = ['layer1_rf_{}_{}_predictions'.format(criterion, category) for category in ['high', 'medium', 'low'] for criterion in ['gini', 'entropy']]\n",
    "    for column in rf_columns:\n",
    "        train_X_with_layer_1[column] = 0\n",
    "    for criterion in ['gini', 'entropy']:\n",
    "        rf = RandomForestClassifier(\n",
    "            n_estimators=25,\n",
    "            criterion=criterion,\n",
    "            max_features='auto',\n",
    "            min_samples_split=20)\n",
    "\n",
    "        rf.fit(xtr, ytr)\n",
    "        rf_predictions = rf.predict_proba(xte)\n",
    "        new_cols = ['layer1_rf_{}_{}_predictions'.format(criterion, category) for category in ['high', 'medium', 'low']]\n",
    "        train_X_with_layer_1.loc[indices, new_cols] = rf_predictions\n",
    "    \n",
    "    k_means_columns = ['layer1_k_means_{}_{}'.format(n_clusters, index) for index in range(n_clusters) for n_clusters in [2, 4, 8]]\n",
    "    for column in k_means_columns:\n",
    "        train_X_with_layer_1[column] = 0\n",
    "    for n_clusters in [2, 4, 8]:\n",
    "        k_means = KMeans(n_clusters=n_clusters)\n",
    "        k_means.fit(xtr[knn_features], ytr)\n",
    "        k_means_indices = k_means.predict(xte[knn_features])\n",
    "        new_cols = ['layer1_k_means_{}_{}'.format(n_clusters, index) for index in range(n_clusters)]\n",
    "        train_X_with_layer_1.loc[indices, new_cols] = np.eye(n_clusters)[k_means_indices]\n",
    "    '''"
   ]
  },
  {
   "cell_type": "code",
   "execution_count": 180,
   "metadata": {
    "collapsed": true
   },
   "outputs": [],
   "source": [
    "train_X_with_layer_1.to_json('data/train_scaled_with_leaky_and_added_features_cv.json', orient='records')"
   ]
  },
  {
   "cell_type": "code",
   "execution_count": 179,
   "metadata": {
    "collapsed": false
   },
   "outputs": [
    {
     "name": "stdout",
     "output_type": "stream",
     "text": [
      "[0]\ttrain-mlogloss:1.09161+4.3866e-05\ttest-mlogloss:1.09178+2.80832e-05\n",
      "[200]\ttrain-mlogloss:0.604103+0.00255871\ttest-mlogloss:0.632168+0.00399742\n",
      "[400]\ttrain-mlogloss:0.524497+0.00259504\ttest-mlogloss:0.573999+0.00561709\n",
      "[600]\ttrain-mlogloss:0.488225+0.00294409\ttest-mlogloss:0.556872+0.00591175\n",
      "[800]\ttrain-mlogloss:0.46269+0.00298919\ttest-mlogloss:0.548789+0.00591421\n",
      "[1000]\ttrain-mlogloss:0.442188+0.00256586\ttest-mlogloss:0.544056+0.0058507\n",
      "[1200]\ttrain-mlogloss:0.424699+0.00197415\ttest-mlogloss:0.540991+0.00599084\n",
      "[1400]\ttrain-mlogloss:0.408548+0.00184061\ttest-mlogloss:0.538944+0.00595479\n",
      "[1600]\ttrain-mlogloss:0.393438+0.00160207\ttest-mlogloss:0.537602+0.00596283\n",
      "[1800]\ttrain-mlogloss:0.379067+0.00127742\ttest-mlogloss:0.536573+0.00599593\n",
      "[2000]\ttrain-mlogloss:0.365765+0.00126818\ttest-mlogloss:0.535949+0.0061073\n",
      "[2200]\ttrain-mlogloss:0.353147+0.00121505\ttest-mlogloss:0.535555+0.00614947\n",
      "[2400]\ttrain-mlogloss:0.341061+0.00120173\ttest-mlogloss:0.535352+0.00620537\n",
      "0.535346\n",
      "2458\n",
      "CPU times: user 2h 42min 11s, sys: 4min 19s, total: 2h 46min 31s\n",
      "Wall time: 50min 29s\n"
     ]
    }
   ],
   "source": [
    "%%time\n",
    "\n",
    "SEED = 777\n",
    "NFOLDS = 3\n",
    "y_map = {'low': 2, 'medium': 1, 'high': 0}\n",
    "\n",
    "params = {\n",
    "    'eta':.01,\n",
    "    'colsample_bytree':.8,\n",
    "    'subsample':.8,\n",
    "    'seed':0,\n",
    "    'nthread':16,\n",
    "    'objective':'multi:softprob',\n",
    "    'eval_metric':'mlogloss',\n",
    "    'num_class':3,\n",
    "    'silent':1\n",
    "}\n",
    "\n",
    "dtrain = xgb.DMatrix(data=train_X_with_layer_1[all_columns + k_means_columns], label=train_y)\n",
    "\n",
    "bst = xgb.cv(params, dtrain, 10000, NFOLDS, early_stopping_rounds=50, verbose_eval=200)\n",
    "best_rounds = np.argmin(bst['test-mlogloss-mean'])\n",
    "print (bst['test-mlogloss-mean'][best_rounds])\n",
    "print (best_rounds)"
   ]
  },
  {
   "cell_type": "code",
   "execution_count": 160,
   "metadata": {
    "collapsed": false
   },
   "outputs": [
    {
     "name": "stdout",
     "output_type": "stream",
     "text": [
      "epoch 50: loss = 0.5649700285666069, val = 0.572438541485166\n",
      "epoch 100: loss = 0.5498048347515245, val = 0.5685226855333668\n",
      "0.567759582826\n",
      "epoch 50: loss = 0.5696146477239473, val = 0.5726314065792241\n",
      "epoch 100: loss = 0.5520132357267608, val = 0.5688680623334779\n",
      "0.567985834183\n",
      "epoch 50: loss = 0.5693765175189901, val = 0.5731799195353459\n",
      "epoch 100: loss = 0.5507716724511489, val = 0.5683384024839885\n",
      "0.567333364159\n",
      "epoch 50: loss = 0.5648338377601344, val = 0.5728322172748499\n",
      "epoch 100: loss = 0.5466469908163846, val = 0.5687166146799972\n",
      "0.567192236381\n",
      "epoch 50: loss = 0.5648575120796201, val = 0.5716612895645418\n",
      "epoch 100: loss = 0.5489631769735333, val = 0.5680941440989933\n",
      "0.567073255846\n"
     ]
    }
   ],
   "source": [
    "for i in range(5):\n",
    "    test_nn_with_columns(train_X_with_layer_1, train_y, all_columns + rf_columns + [x for x in knn_columns if int(x.split('_')[2]) > 128])"
   ]
  },
  {
   "cell_type": "code",
   "execution_count": 267,
   "metadata": {
    "collapsed": true
   },
   "outputs": [],
   "source": [
    "from keras.layers.normalization import BatchNormalization\n",
    "from keras import regularizers\n",
    "from keras.layers.core import ActivityRegularization\n",
    "def create_model(xtr, layer1, layer2, activation, activation2, dropout):\n",
    "    model = Sequential()\n",
    "    \n",
    "    model.add(Dense(layer1,\n",
    "                    input_dim=xtr.shape[1],\n",
    "                    init = 'he_normal',\n",
    "                    activation=activation))\n",
    "                    #kernel_regularizer=regularizers.l2(0.01),\n",
    "                    #activity_regularizer=regularizers.activity_l2(0.005)))\n",
    "    #model.add(Dense(64, input_dim=64, W_regularizer=l2(0.01), activity_regularizer=activity_l2(0.01)))\n",
    "    \n",
    "    model.add(BatchNormalization())\n",
    "    model.add(Dropout(dropout))\n",
    "    if activation2 != None:\n",
    "        model.add(activation2())\n",
    "\n",
    "    model.add(Dense(layer2,\n",
    "                    init = 'he_normal',\n",
    "                    activation=activation))\n",
    "                    #activity_regularizer=regularizers.activity_l2(0.005)))\n",
    "    model.add(BatchNormalization())    \n",
    "    model.add(Dropout(dropout))\n",
    "    if activation2 != None:\n",
    "        model.add(activation2())\n",
    "\n",
    "    model.add(Dense(3, init = 'he_normal', activation='softmax'))\n",
    "    model.compile(loss = 'categorical_crossentropy', optimizer = 'adam')\n",
    "    return model"
   ]
  },
  {
   "cell_type": "code",
   "execution_count": 268,
   "metadata": {
    "collapsed": true
   },
   "outputs": [],
   "source": [
    "def test_nn_with_columns(X, y, columns_to_include, layer1, layer2, activation, activation2, dropout):\n",
    "    scaler = StandardScaler()\n",
    "    X_scaled = pd.DataFrame(scaler.fit_transform(X), columns=X.columns)\n",
    "    \n",
    "    ntrain = int(len(X_scaled) * 0.75)\n",
    "\n",
    "    xtr = X_scaled[columns_to_include][:ntrain]\n",
    "    ytr = y[:ntrain].values\n",
    "    ytr_one_hot = np.eye(3)[ytr]\n",
    "    xte = X_scaled[columns_to_include][ntrain:]\n",
    "    yte = y[ntrain:].values\n",
    "    yte_one_hot = np.eye(3)[yte]\n",
    "\n",
    "    filepath = 'data/nn_weights'\n",
    "\n",
    "    logger = NBatchLogger()\n",
    "    early_stop = EarlyStopping(monitor='val_loss', patience=40, verbose=0)\n",
    "    checkpoint = ModelCheckpoint(filepath, monitor='val_loss', verbose=0, save_best_only=True)\n",
    "    model = create_model(xtr, layer1, layer2, activation, activation2, dropout)\n",
    "    model.fit(xtr.values, ytr_one_hot, nb_epoch = 1200, batch_size=1000, verbose = 0, validation_data=[xte.values, yte_one_hot], callbacks=[logger, early_stop, checkpoint])\n",
    "    model = create_model(xtr, layer1, layer2, activation, activation2, dropout)\n",
    "    model.load_weights(filepath)\n",
    "    return log_loss(yte_one_hot, model.predict(xte.values))"
   ]
  },
  {
   "cell_type": "code",
   "execution_count": 265,
   "metadata": {
    "collapsed": false
   },
   "outputs": [
    {
     "name": "stdout",
     "output_type": "stream",
     "text": [
      "128 32 32 0.2\n",
      "epoch 50: loss = 0.5365259934345765, val = 0.5778951441223298\n",
      "0.576405056639\n",
      "128 32 32 0.4\n",
      "epoch 50: loss = 0.564164007815381, val = 0.5747666084258168\n",
      "epoch 100: loss = 0.5418064823273406, val = 0.5716225595601008\n",
      "0.571334091085\n",
      "128 32 32 0.6\n",
      "epoch 50: loss = 0.6043178451153359, val = 0.598980199075205\n",
      "epoch 100: loss = 0.5784549211067004, val = 0.5762665007311127\n",
      "epoch 150: loss = 0.5650818812945045, val = 0.5703357351253322\n",
      "epoch 200: loss = 0.5520456175740498, val = 0.5697696818430432\n",
      "0.568883531167\n",
      "128 32 32 0.7\n",
      "epoch 50: loss = 0.628486968234311, val = 0.6219142156938889\n",
      "epoch 100: loss = 0.5974411439997402, val = 0.5823401036361451\n",
      "epoch 150: loss = 0.5843140723453178, val = 0.5745042647606629\n",
      "epoch 200: loss = 0.5707976462685541, val = 0.5725511092192003\n",
      "epoch 250: loss = 0.5640039942897351, val = 0.5710457777799209\n",
      "epoch 300: loss = 0.5619772072709759, val = 0.5702381483989474\n",
      "epoch 350: loss = 0.5536961764453096, val = 0.5688631013313555\n",
      "0.56829718985\n",
      "128 32 32 0.8\n",
      "epoch 50: loss = 0.6684195061212306, val = 0.6429604682065927\n",
      "epoch 100: loss = 0.6402534434917379, val = 0.6286374827821825\n",
      "epoch 150: loss = 0.617105660605303, val = 0.5923512399554117\n",
      "epoch 200: loss = 0.6006215269480428, val = 0.5781343738038336\n",
      "epoch 250: loss = 0.5907361608866375, val = 0.5749836283673883\n",
      "epoch 300: loss = 0.5869087506784717, val = 0.5740010907747\n",
      "epoch 350: loss = 0.5838588584491626, val = 0.573593855899357\n",
      "epoch 400: loss = 0.5828784420823023, val = 0.5725647287887429\n",
      "epoch 450: loss = 0.5798483430540542, val = 0.5714719505166289\n",
      "0.5705058211\n",
      "128 32 64 0.2\n",
      "epoch 50: loss = 0.5355991076684278, val = 0.5789031793820373\n",
      "0.576317929501\n",
      "128 32 64 0.4\n",
      "epoch 50: loss = 0.5644854642251531, val = 0.5802715273764516\n",
      "epoch 100: loss = 0.5399117044323093, val = 0.5754094148478336\n",
      "0.573185506062\n",
      "128 32 64 0.6\n",
      "epoch 50: loss = 0.599123184643708, val = 0.5936742848448707\n",
      "epoch 100: loss = 0.5706792727644984, val = 0.5741141828730845\n",
      "epoch 150: loss = 0.5586179162148119, val = 0.5731753255525194\n",
      "epoch 200: loss = 0.5492613945928689, val = 0.5713616138069609\n",
      "0.571140296395\n",
      "128 32 64 0.7\n",
      "epoch 50: loss = 0.6253116341057051, val = 0.6334698800040444\n",
      "epoch 100: loss = 0.5987201635787441, val = 0.5898727393262408\n",
      "epoch 150: loss = 0.5796919118909104, val = 0.5768349109524594\n",
      "epoch 200: loss = 0.5701359288293242, val = 0.5728908652694246\n",
      "epoch 250: loss = 0.561543112631883, val = 0.5708079037779945\n",
      "epoch 300: loss = 0.5569384347009537, val = 0.5701090456948982\n",
      "0.569149431445\n",
      "128 32 64 0.8\n",
      "epoch 50: loss = 0.646527916629407, val = 0.6408468629324875\n",
      "epoch 100: loss = 0.6258207577766164, val = 0.6195993517472806\n",
      "epoch 150: loss = 0.6087884607909982, val = 0.5894539581452028\n",
      "epoch 200: loss = 0.594838606027496, val = 0.5791035248155357\n",
      "epoch 250: loss = 0.5867716850650596, val = 0.5752926762476214\n",
      "epoch 300: loss = 0.5802528161911612, val = 0.5742746348473025\n",
      "epoch 350: loss = 0.5779951582685658, val = 0.5737422968661462\n",
      "epoch 400: loss = 0.5714885052308636, val = 0.5728998916387597\n",
      "epoch 450: loss = 0.5726374568500299, val = 0.5731179482219169\n",
      "epoch 500: loss = 0.5690372091461221, val = 0.5718545746834202\n",
      "0.571315354591\n",
      "128 64 32 0.2\n",
      "epoch 50: loss = 0.5378973956831323, val = 0.5766810378372853\n",
      "0.575771184637\n",
      "128 64 32 0.4\n",
      "epoch 50: loss = 0.5617996722165103, val = 0.5738649449833094\n",
      "epoch 100: loss = 0.542381037529267, val = 0.5728210810614784\n",
      "0.570775139494\n",
      "128 64 32 0.6\n",
      "epoch 50: loss = 0.5958679566515022, val = 0.5953466057159039\n",
      "epoch 100: loss = 0.5711311086486519, val = 0.5742176360820406\n",
      "epoch 150: loss = 0.5577334481712524, val = 0.5699886627957855\n",
      "epoch 200: loss = 0.5488541984458909, val = 0.5695041945618697\n",
      "epoch 250: loss = 0.5424670387771416, val = 0.5692940792227356\n",
      "0.568087425053\n",
      "128 64 32 0.7\n",
      "epoch 50: loss = 0.6253432551185606, val = 0.618656967230797\n",
      "epoch 100: loss = 0.5944722113871088, val = 0.5829877676386407\n",
      "epoch 150: loss = 0.5778419540123866, val = 0.5727673941559838\n",
      "epoch 200: loss = 0.5707519138729565, val = 0.5711133767128919\n",
      "epoch 250: loss = 0.5624374117026513, val = 0.5690442493928466\n",
      "epoch 300: loss = 0.5599084940288135, val = 0.5683499781040767\n",
      "0.56799147838\n",
      "128 64 32 0.8\n",
      "epoch 50: loss = 0.6519710184071164, val = 0.6416141730031969\n",
      "epoch 100: loss = 0.6294023221168538, val = 0.6138701297645921\n",
      "epoch 150: loss = 0.6103911757462736, val = 0.5859981468419894\n",
      "epoch 200: loss = 0.5991293035466518, val = 0.5794361083854209\n",
      "epoch 250: loss = 0.5904935806910764, val = 0.5762591398038631\n",
      "epoch 300: loss = 0.5864484023125456, val = 0.5761241112734707\n",
      "epoch 350: loss = 0.5788045017073978, val = 0.5742777715550189\n",
      "epoch 400: loss = 0.5763660930940512, val = 0.5728866657072189\n",
      "epoch 450: loss = 0.5748878767342623, val = 0.5730778503541641\n",
      "epoch 500: loss = 0.5732972254714851, val = 0.5727994675225851\n",
      "0.571871584061\n",
      "128 64 64 0.2\n",
      "epoch 50: loss = 0.5295781022456153, val = 0.5792329411372158\n",
      "0.575395497036\n",
      "128 64 64 0.4\n",
      "epoch 50: loss = 0.5588862702098305, val = 0.5773266408079775\n",
      "epoch 100: loss = 0.5373939540962439, val = 0.5743389734863984\n",
      "0.571915143347\n",
      "128 64 64 0.6\n",
      "epoch 50: loss = 0.589006956992598, val = 0.5949767582960309\n",
      "epoch 100: loss = 0.5642459115056053, val = 0.5754996699033902\n",
      "epoch 150: loss = 0.5551778140511603, val = 0.5709291893169393\n",
      "epoch 200: loss = 0.5460958563509151, val = 0.5710374256706175\n",
      "epoch 250: loss = 0.5371825890595957, val = 0.5708445000250426\n",
      "0.568825115752\n",
      "128 64 64 0.7\n",
      "epoch 50: loss = 0.6197720917792517, val = 0.6298286547284397\n",
      "epoch 100: loss = 0.5870139448828369, val = 0.5854319145911747\n",
      "epoch 150: loss = 0.5735943242114439, val = 0.5755981457911699\n",
      "epoch 200: loss = 0.5653888720834044, val = 0.5719246700838447\n",
      "epoch 250: loss = 0.5562952839974589, val = 0.5715086942342058\n",
      "epoch 300: loss = 0.5526257765320819, val = 0.5692536589449665\n",
      "0.569014337942\n",
      "128 64 64 0.8\n",
      "epoch 50: loss = 0.6340059284717625, val = 0.6385652170437897\n",
      "epoch 100: loss = 0.6118408554572433, val = 0.6041800219751019\n",
      "epoch 150: loss = 0.5975238562512708, val = 0.5833949999342399\n",
      "epoch 200: loss = 0.5884216940337927, val = 0.5778532373613391\n",
      "epoch 250: loss = 0.582156465403579, val = 0.5759736264441848\n",
      "epoch 300: loss = 0.576509586258569, val = 0.5751045914093589\n",
      "epoch 350: loss = 0.5712524594605926, val = 0.5746871531154604\n",
      "epoch 400: loss = 0.5684363169151451, val = 0.5732145953707881\n",
      "epoch 450: loss = 0.5639868778209668, val = 0.5727728899670373\n",
      "0.57230998592\n",
      "256 32 32 0.2\n",
      "epoch 50: loss = 0.5141325859519917, val = 0.5843132248302008\n",
      "0.575200169389\n",
      "256 32 32 0.4\n",
      "epoch 50: loss = 0.5594989182307254, val = 0.5763851987289482\n",
      "epoch 100: loss = 0.533737273394543, val = 0.5762337076256236\n",
      "0.572352112929\n",
      "256 32 32 0.6\n",
      "epoch 50: loss = 0.5965884949845098, val = 0.5856118177861328\n",
      "epoch 100: loss = 0.5708402779246997, val = 0.5721407546701801\n",
      "epoch 150: loss = 0.5567837488247406, val = 0.5704246842797407\n",
      "0.568812921876\n",
      "256 32 32 0.7\n",
      "epoch 50: loss = 0.6178160480695573, val = 0.6061876242677519\n",
      "epoch 100: loss = 0.5899298480188672, val = 0.5766455764746546\n",
      "epoch 150: loss = 0.574743989735283, val = 0.571819990829858\n",
      "0.571492007176\n",
      "256 32 32 0.8\n",
      "epoch 50: loss = 0.6642846562277912, val = 0.6430960735947758\n",
      "epoch 100: loss = 0.6337104947664766, val = 0.6141763559943719\n",
      "epoch 150: loss = 0.6164943294212872, val = 0.5848235795864662\n",
      "epoch 200: loss = 0.6026207523291325, val = 0.5774856687152495\n",
      "epoch 250: loss = 0.5939198258714505, val = 0.5763027099682652\n",
      "epoch 300: loss = 0.58834145606263, val = 0.5742510879304502\n",
      "epoch 350: loss = 0.5823695278634076, val = 0.5726390086690502\n",
      "0.572149815312\n",
      "256 32 64 0.2\n",
      "epoch 50: loss = 0.5161569416055984, val = 0.5837913149468689\n",
      "0.574619818305\n",
      "256 32 64 0.4\n",
      "epoch 50: loss = 0.5559856149657797, val = 0.5767067315745033\n",
      "epoch 100: loss = 0.5301572486074648, val = 0.5740902293325534\n",
      "0.570962079631\n",
      "256 32 64 0.6\n",
      "epoch 50: loss = 0.5883001413834619, val = 0.5859552383770682\n",
      "epoch 100: loss = 0.5646616430299856, val = 0.5739935147528479\n",
      "epoch 150: loss = 0.5503410491344576, val = 0.5729675724568601\n",
      "epoch 200: loss = 0.5360046456407263, val = 0.5729992094699249\n",
      "0.570189933118\n",
      "256 32 64 0.7\n",
      "epoch 50: loss = 0.6140004575603584, val = 0.6234444748120518\n",
      "epoch 100: loss = 0.5874614124553944, val = 0.5796280808784254\n",
      "epoch 150: loss = 0.5704429463609251, val = 0.5742588493556948\n",
      "epoch 200: loss = 0.5643598801726273, val = 0.5709468897804678\n",
      "epoch 250: loss = 0.5543038365217007, val = 0.5704640009392021\n",
      "0.569684999729\n",
      "256 32 64 0.8\n",
      "epoch 50: loss = 0.640841188758391, val = 0.6392253901761749\n",
      "epoch 100: loss = 0.6206809282367269, val = 0.6031000044400349\n",
      "epoch 150: loss = 0.6068222402025482, val = 0.580128915220243\n",
      "epoch 200: loss = 0.5932588233513996, val = 0.5756193330056433\n",
      "epoch 250: loss = 0.5880032782971508, val = 0.5733367151428727\n",
      "epoch 300: loss = 0.5828198011763872, val = 0.5733110549713113\n",
      "0.572142135043\n",
      "256 64 32 0.2\n",
      "epoch 50: loss = 0.5170642620706092, val = 0.5809632421776587\n",
      "0.576423426798\n",
      "256 64 32 0.4\n",
      "epoch 50: loss = 0.5531230819452689, val = 0.5721856540210593\n",
      "0.571335771181\n",
      "256 64 32 0.6\n",
      "epoch 50: loss = 0.5829655208193181, val = 0.5811491842632415\n",
      "epoch 100: loss = 0.5618686396375998, val = 0.5714544698337544\n",
      "epoch 150: loss = 0.5464748605540681, val = 0.5690805515877372\n",
      "0.568224484174\n",
      "256 64 32 0.7\n",
      "epoch 50: loss = 0.6130868617104848, val = 0.5980756433049909\n",
      "epoch 100: loss = 0.5873280473863852, val = 0.5757148156078733\n",
      "epoch 150: loss = 0.5714094655088766, val = 0.5711485005252113\n",
      "epoch 200: loss = 0.5634986108867741, val = 0.5695367819545218\n",
      "0.568554814441\n",
      "256 64 32 0.8\n",
      "epoch 50: loss = 0.6519033114952767, val = 0.6392363262130136\n",
      "epoch 100: loss = 0.6182586206650111, val = 0.6009157193037501\n",
      "epoch 150: loss = 0.6053454482575358, val = 0.5807189626426282\n",
      "epoch 200: loss = 0.5995607866555938, val = 0.5756171452668676\n",
      "epoch 250: loss = 0.5842355226700018, val = 0.5730749223255072\n",
      "epoch 300: loss = 0.5780287049137072, val = 0.5733716864024709\n",
      "epoch 350: loss = 0.572384011982493, val = 0.5724604716272365\n",
      "0.570993068987\n",
      "256 64 64 0.2\n",
      "epoch 50: loss = 0.5110552400252341, val = 0.5860311978155875\n",
      "0.574356832311\n",
      "256 64 64 0.4\n",
      "epoch 50: loss = 0.5480219123106744, val = 0.5750212677681846\n",
      "0.573283809264\n",
      "256 64 64 0.6\n",
      "epoch 50: loss = 0.579263426724584, val = 0.585206807809472\n",
      "epoch 100: loss = 0.5572292874928276, val = 0.5739730641760341\n",
      "epoch 150: loss = 0.5410348117100321, val = 0.5727316151466839\n",
      "0.569610747555\n",
      "256 64 64 0.7\n",
      "epoch 50: loss = 0.6031624095965006, val = 0.6031885406228552\n",
      "epoch 100: loss = 0.5750684359732328, val = 0.5758806555366609\n",
      "epoch 150: loss = 0.5634548925642334, val = 0.5714075110549575\n",
      "epoch 200: loss = 0.5488237149471169, val = 0.5702305214778784\n",
      "0.569001155085\n",
      "256 64 64 0.8\n",
      "epoch 50: loss = 0.6326308018556257, val = 0.6373939644500026\n",
      "epoch 100: loss = 0.610102337595902, val = 0.5937706904157013\n",
      "epoch 150: loss = 0.5894515418752561, val = 0.5789641101794336\n",
      "epoch 200: loss = 0.5792644466091067, val = 0.5732277703934501\n",
      "epoch 250: loss = 0.5777969980085921, val = 0.5727392903775639\n",
      "epoch 300: loss = 0.5695656519168817, val = 0.5719009404882733\n",
      "epoch 350: loss = 0.5670181064485389, val = 0.5710333788543722\n",
      "0.570820109464\n"
     ]
    }
   ],
   "source": [
    "for layer1 in [128, 256]:\n",
    "    for layer2 in [32, 64]:\n",
    "        for activation in ['tanh']:\n",
    "            for activation2 in [PReLU]:\n",
    "                for dropout in [0.2, 0.4, 0.6, 0.7, 0.8]:\n",
    "                    print (layer1, layer2, dropout)\n",
    "                    a = 0\n",
    "                    for i in range(5):\n",
    "                        a += test_nn_with_columns(train_X_with_layer_1,\n",
    "                                             train_y,\n",
    "                                             all_columns + rf_columns + [x for x in knn_columns if int(x.split('_')[2]) > 128],\n",
    "                                             layer1,\n",
    "                                             layer2,\n",
    "                                             activation,\n",
    "                                             activation2,\n",
    "                                             dropout)\n",
    "                    print a / 5"
   ]
  },
  {
   "cell_type": "code",
   "execution_count": null,
   "metadata": {
    "collapsed": true
   },
   "outputs": [],
   "source": []
  },
  {
   "cell_type": "markdown",
   "metadata": {},
   "source": [
    "# BACKUP Train Models"
   ]
  },
  {
   "cell_type": "code",
   "execution_count": 6,
   "metadata": {
    "collapsed": true
   },
   "outputs": [],
   "source": [
    "def create_model(xtr):\n",
    "    model = Sequential()\n",
    "    \n",
    "    model.add(Dense(500, input_dim=xtr.shape[1], init = 'he_normal', activation='sigmoid'))\n",
    "    #model.add(Dense(64, input_dim=64, W_regularizer=l2(0.01), activity_regularizer=activity_l2(0.01)))\n",
    "    model.add(BatchNormalization())\n",
    "    model.add(Dropout(0.75))\n",
    "    model.add(PReLU())\n",
    "\n",
    "    model.add(Dense(100, init = 'he_normal', activation='sigmoid'))\n",
    "    model.add(BatchNormalization())    \n",
    "    model.add(Dropout(0.75))\n",
    "    model.add(PReLU())\n",
    "\n",
    "    model.add(Dense(3, init = 'he_normal', activation='softmax'))\n",
    "    model.compile(loss = 'categorical_crossentropy', optimizer = 'adam')\n",
    "    return model"
   ]
  },
  {
   "cell_type": "code",
   "execution_count": 58,
   "metadata": {
    "collapsed": true
   },
   "outputs": [],
   "source": [
    "def test_nn_with_columns(X, y, columns_to_include):\n",
    "    scaler = StandardScaler()\n",
    "    X_scaled = pd.DataFrame(scaler.fit_transform(X), columns=X.columns)\n",
    "    \n",
    "    ntrain = int(len(train_X) * 0.75)\n",
    "\n",
    "    xtr = X_scaled[columns_to_include][:ntrain]\n",
    "    ytr = y[:ntrain].values\n",
    "    ytr_one_hot = np.eye(3)[ytr]\n",
    "    xte = X_scaled[columns_to_include][ntrain:]\n",
    "    yte = y[ntrain:].values\n",
    "    yte_one_hot = np.eye(3)[yte]\n",
    "\n",
    "    filepath = 'data/nn_weights'\n",
    "\n",
    "    logger = NBatchLogger()\n",
    "    early_stop = EarlyStopping(monitor='val_loss', patience=40, verbose=0)\n",
    "    checkpoint = ModelCheckpoint(filepath, monitor='val_loss', verbose=0, save_best_only=True)\n",
    "    model = create_model(xtr)\n",
    "    model.fit(xtr.values, ytr_one_hot, nb_epoch = 1200, batch_size=1000, verbose = 0, validation_data=[xte.values, yte_one_hot], callbacks=[logger, early_stop, checkpoint])\n",
    "    model = create_model(xtr)\n",
    "    model.load_weights(filepath)\n",
    "    print (log_loss(yte_one_hot, model.predict(xte.values)))"
   ]
  },
  {
   "cell_type": "code",
   "execution_count": null,
   "metadata": {
    "collapsed": true
   },
   "outputs": [],
   "source": []
  },
  {
   "cell_type": "code",
   "execution_count": 188,
   "metadata": {
    "collapsed": false
   },
   "outputs": [
    {
     "name": "stdout",
     "output_type": "stream",
     "text": [
      "10.5452723845\n"
     ]
    }
   ],
   "source": [
    "print (log_loss(np.eye(3)[train_y], np.eye(3)[(np.ones((49352,), dtype=np.int)*2)]))"
   ]
  },
  {
   "cell_type": "code",
   "execution_count": 45,
   "metadata": {
    "collapsed": true
   },
   "outputs": [],
   "source": [
    "#new_vects = ['tf_idf_' + x[7:] for x in sparse_cols]\n",
    "#sparse = processed_train[sparse_cols]\n",
    "#tf_idfs = TfidfTransformer().fit_transform(sparse)\n",
    "#tf_idfs_df = pd.DataFrame(tf_idfs.toarray(), columns=new_vects)\n",
    "#processed_train = processed_train.join(tf_idfs_df, how='left')"
   ]
  },
  {
   "cell_type": "markdown",
   "metadata": {},
   "source": [
    "# Ridge Lasso Elastic"
   ]
  },
  {
   "cell_type": "code",
   "execution_count": 308,
   "metadata": {
    "collapsed": false
   },
   "outputs": [
    {
     "data": {
      "text/plain": [
       "ElasticNet(alpha=1.0, copy_X=True, fit_intercept=True, l1_ratio=0.5,\n",
       "      max_iter=1000, normalize=False, positive=False, precompute=False,\n",
       "      random_state=None, selection='cyclic', tol=0.0001, warm_start=False)"
      ]
     },
     "execution_count": 308,
     "metadata": {},
     "output_type": "execute_result"
    }
   ],
   "source": [
    "las = Lasso()\n",
    "enet = ElasticNet()\n",
    "las.fit(xte, yte)\n",
    "enet.fit(xte, yte)"
   ]
  },
  {
   "cell_type": "code",
   "execution_count": 309,
   "metadata": {
    "collapsed": false
   },
   "outputs": [
    {
     "name": "stdout",
     "output_type": "stream",
     "text": [
      "0.0\n",
      "10.478087214\n"
     ]
    }
   ],
   "source": [
    "print (las.score(xte, yte))\n",
    "predictions = las.predict(xte)\n",
    "print (log_loss(yte_one_hot, np.eye(3)[np.round(predictions).astype(int)]))"
   ]
  },
  {
   "cell_type": "code",
   "execution_count": 310,
   "metadata": {
    "collapsed": false
   },
   "outputs": [
    {
     "name": "stdout",
     "output_type": "stream",
     "text": [
      "0.0\n",
      "10.478087214\n"
     ]
    }
   ],
   "source": [
    "print (enet.score(xte, yte))\n",
    "predictions = enet.predict(xte)\n",
    "print (log_loss(yte_one_hot, np.eye(3)[np.round(predictions).astype(int)]))"
   ]
  },
  {
   "cell_type": "code",
   "execution_count": 42,
   "metadata": {
    "collapsed": true
   },
   "outputs": [],
   "source": [
    "for coef, column in zip(enet.coef_, train_X.columns):\n",
    "    if coef != 0:\n",
    "        print (column, \": \", coef)"
   ]
  },
  {
   "cell_type": "code",
   "execution_count": 43,
   "metadata": {
    "collapsed": true
   },
   "outputs": [],
   "source": [
    "for coef, column in zip(las.coef_, train_X.columns):\n",
    "    if coef != 0:\n",
    "        print (column, \": \", coef)"
   ]
  },
  {
   "cell_type": "code",
   "execution_count": null,
   "metadata": {
    "collapsed": true
   },
   "outputs": [],
   "source": []
  },
  {
   "cell_type": "markdown",
   "metadata": {},
   "source": [
    "# TREES"
   ]
  },
  {
   "cell_type": "code",
   "execution_count": 322,
   "metadata": {
    "collapsed": false
   },
   "outputs": [
    {
     "name": "stdout",
     "output_type": "stream",
     "text": [
      "0.5843451108603969 (test loss 0.3912286072900344)\n"
     ]
    }
   ],
   "source": [
    "test = ExtraTreesClassifier(\n",
    "    n_estimators=100,\n",
    "    max_features='auto',\n",
    "    min_samples_split=20)\n",
    "\n",
    "test.fit(xtr, ytr)\n",
    "            \n",
    "predictions = test.predict_proba(xtr)\n",
    "et_predictions = test.predict_proba(xte)\n",
    "print ('{} (test loss {})'.format(log_loss(yte_one_hot, et_predictions), log_loss(ytr_one_hot, predictions)))"
   ]
  },
  {
   "cell_type": "code",
   "execution_count": 323,
   "metadata": {
    "collapsed": false
   },
   "outputs": [
    {
     "name": "stdout",
     "output_type": "stream",
     "text": [
      "0.5841850290743527 (test loss 0.3945679429419886)\n"
     ]
    }
   ],
   "source": [
    "test = ExtraTreesClassifier(\n",
    "    n_estimators=100,\n",
    "    criterion='entropy',\n",
    "    max_features='auto',\n",
    "    min_samples_split=20)\n",
    "\n",
    "test.fit(xtr, ytr)\n",
    "            \n",
    "predictions = test.predict_proba(xtr)\n",
    "et_ent_predictions = test.predict_proba(xte)\n",
    "print ('{} (test loss {})'.format(log_loss(yte_one_hot, et_ent_predictions), log_loss(ytr_one_hot, predictions)))"
   ]
  },
  {
   "cell_type": "code",
   "execution_count": 335,
   "metadata": {
    "collapsed": false
   },
   "outputs": [
    {
     "name": "stdout",
     "output_type": "stream",
     "text": [
      "0.5693372215730407 (test loss 0.3780482702094549)\n"
     ]
    }
   ],
   "source": [
    "test = RandomForestClassifier(\n",
    "    n_estimators=100,\n",
    "    max_features='auto',\n",
    "    min_samples_split=20)\n",
    "\n",
    "test.fit(xtr, ytr)\n",
    "            \n",
    "predictions = test.predict_proba(xtr)\n",
    "rf_predictions = test.predict_proba(xte)\n",
    "print ('{} (test loss {})'.format(log_loss(yte_one_hot, rf_predictions), log_loss(ytr_one_hot, predictions)))"
   ]
  },
  {
   "cell_type": "code",
   "execution_count": 336,
   "metadata": {
    "collapsed": false
   },
   "outputs": [
    {
     "name": "stdout",
     "output_type": "stream",
     "text": [
      "0.5668175898671493 (test loss 0.3773447326368733)\n"
     ]
    }
   ],
   "source": [
    "test = RandomForestClassifier(\n",
    "    n_estimators=100,\n",
    "    criterion='entropy',\n",
    "    max_features='auto',\n",
    "    min_samples_split=20)\n",
    "\n",
    "test.fit(xtr, ytr)\n",
    "            \n",
    "predictions = test.predict_proba(xtr)\n",
    "rf_ent_predictions = test.predict_proba(xte)\n",
    "print ('{} (test loss {})'.format(log_loss(yte_one_hot, rf_ent_predictions), log_loss(ytr_one_hot, predictions)))"
   ]
  },
  {
   "cell_type": "code",
   "execution_count": 337,
   "metadata": {
    "collapsed": false
   },
   "outputs": [
    {
     "data": {
      "text/plain": [
       "0.56688904952650898"
      ]
     },
     "execution_count": 337,
     "metadata": {},
     "output_type": "execute_result"
    }
   ],
   "source": [
    "pred_mixed = (0.01 * et_predictions + 0.01 * et_ent_predictions + 0.49 * rf_predictions + 0.49 * rf_ent_predictions)\n",
    "log_loss(yte_one_hot, pred_mixed)"
   ]
  },
  {
   "cell_type": "code",
   "execution_count": 12,
   "metadata": {
    "collapsed": false
   },
   "outputs": [
    {
     "name": "stdout",
     "output_type": "stream",
     "text": [
      "7.076257047822155 (test loss 0.23129250627049086)\n",
      "CPU times: user 3min 15s, sys: 1.48 s, total: 3min 16s\n",
      "Wall time: 3min 20s\n"
     ]
    }
   ],
   "source": [
    "%%time\n",
    "test = KNeighborsClassifier(n_neighbors=2)\n",
    "test.fit(xtr[non_sparse_cols], ytr)\n",
    "\n",
    "predictions = test.predict_proba(xtr[non_sparse_cols])\n",
    "rf_ent_predictions = test.predict_proba(xte[non_sparse_cols])"
   ]
  },
  {
   "cell_type": "code",
   "execution_count": 13,
   "metadata": {
    "collapsed": false
   },
   "outputs": [
    {
     "name": "stdout",
     "output_type": "stream",
     "text": [
      "2.997161309463761 (test loss 0.4189513500335195)\n",
      "CPU times: user 3min 36s, sys: 1.02 s, total: 3min 37s\n",
      "Wall time: 3min 38s\n"
     ]
    }
   ],
   "source": [
    "%%time\n",
    "test = KNeighborsClassifier(n_neighbors=5)\n",
    "test.fit(xtr[non_sparse_cols], ytr)\n",
    "\n",
    "predictions_2 = test.predict_proba(xtr[non_sparse_cols])\n",
    "rf_ent_predictions_2 = test.predict_proba(xte[non_sparse_cols])"
   ]
  },
  {
   "cell_type": "code",
   "execution_count": 14,
   "metadata": {
    "collapsed": false
   },
   "outputs": [
    {
     "name": "stdout",
     "output_type": "stream",
     "text": [
      "1.5474359459916005 (test loss 0.4994428601539661)\n",
      "CPU times: user 3min 48s, sys: 839 ms, total: 3min 49s\n",
      "Wall time: 3min 50s\n"
     ]
    }
   ],
   "source": [
    "%%time\n",
    "test = KNeighborsClassifier(n_neighbors=10)\n",
    "test.fit(xtr[non_sparse_cols], ytr)\n",
    "\n",
    "predictions_3 = test.predict_proba(xtr[non_sparse_cols])\n",
    "rf_ent_predictions_3 = test.predict_proba(xte[non_sparse_cols])"
   ]
  },
  {
   "cell_type": "code",
   "execution_count": 21,
   "metadata": {
    "collapsed": false
   },
   "outputs": [
    {
     "name": "stdout",
     "output_type": "stream",
     "text": [
      "0.6344317626130038 (test loss 0.6195293255389913)\n",
      "CPU times: user 4min 34s, sys: 1.19 s, total: 4min 35s\n",
      "Wall time: 4min 36s\n"
     ]
    }
   ],
   "source": [
    "%%time\n",
    "test = KNeighborsClassifier(n_neighbors=200)\n",
    "test.fit(xtr[non_sparse_cols], ytr)\n",
    "\n",
    "predictions_6 = test.predict_proba(xtr[non_sparse_cols])\n",
    "rf_ent_predictions_6 = test.predict_proba(xte[non_sparse_cols])\n",
    "print ('{} (test loss {})'.format(log_loss(yte_one_hot, rf_ent_predictions_6), log_loss(ytr_one_hot, predictions_6)))"
   ]
  },
  {
   "cell_type": "code",
   "execution_count": null,
   "metadata": {
    "collapsed": true
   },
   "outputs": [],
   "source": [
    "for feat, importance in zip(processed_train[cols].columns, clf.feature_importances_):\n",
    "    if not np.isnan(importance) and importance > 0:\n",
    "        print (feat, \": \", importance)"
   ]
  },
  {
   "cell_type": "code",
   "execution_count": 345,
   "metadata": {
    "collapsed": false
   },
   "outputs": [
    {
     "name": "stdout",
     "output_type": "stream",
     "text": [
      "nn:  0.563593691555\n",
      "ab:  0.566889049527\n",
      "combo:  0.55827286106\n"
     ]
    }
   ],
   "source": [
    "print (\"nn: \", log_loss(yte_one_hot, nn_predictions))\n",
    "print (\"ab: \", log_loss(yte_one_hot, pred_mixed))\n",
    "frac_nn = 0.2\n",
    "averaged_preds = (nn_predictions * frac_nn) + (pred_mixed * (1 - frac_nn))\n",
    "print (\"combo: \", log_loss(yte_one_hot, averaged_preds))"
   ]
  },
  {
   "cell_type": "code",
   "execution_count": null,
   "metadata": {
    "collapsed": true
   },
   "outputs": [],
   "source": [
    "train_X = pd.read_json('data/train_leaky.json')\n",
    "train_y = pd.read_json('data/train_interest.json')[0]\n",
    "scaler = StandardScaler().fit(train_X)\n",
    "train_X = pd.DataFrame(scaler.transform(train_X), columns=columns)\n",
    "test_X = pd.read_json('data/test_leaky.json')\n",
    "test_X = pd.DataFrame(scaler.transform(test_X), columns=columns)\n",
    "listing_id = pd.read_json('data/test_ids.json').values\n",
    "preds = pd.read_csv('data/my_best_preds.csv')"
   ]
  },
  {
   "cell_type": "code",
   "execution_count": 295,
   "metadata": {
    "collapsed": true
   },
   "outputs": [],
   "source": [
    "preds = pd.read_csv('data/my_best_preds.csv')"
   ]
  },
  {
   "cell_type": "code",
   "execution_count": 313,
   "metadata": {
    "collapsed": true
   },
   "outputs": [],
   "source": [
    "et_clf = ExtraTreesClassifier(\n",
    "    n_estimators=100,\n",
    "    criterion='gini',\n",
    "    max_features='auto',\n",
    "    min_samples_split=20)\n",
    "et_clf.fit(train_X, train_y)          \n",
    "et_predictions = et_clf.predict_proba(test_X)"
   ]
  },
  {
   "cell_type": "code",
   "execution_count": 314,
   "metadata": {
    "collapsed": true
   },
   "outputs": [],
   "source": [
    "et_clf_ent = ExtraTreesClassifier(\n",
    "    n_estimators=100,\n",
    "    criterion='entropy',\n",
    "    max_features='auto',\n",
    "    min_samples_split=20)\n",
    "et_clf_ent.fit(train_X, train_y)          \n",
    "et_ent_predictions = et_clf_ent.predict_proba(test_X)"
   ]
  },
  {
   "cell_type": "code",
   "execution_count": 316,
   "metadata": {
    "collapsed": true
   },
   "outputs": [],
   "source": [
    "rf_clf = RandomForestClassifier(\n",
    "    n_estimators=100,\n",
    "    criterion='gini',\n",
    "    min_samples_split=20)\n",
    "rf_clf.fit(train_X, train_y)          \n",
    "rf_predictions = rf_clf.predict_proba(test_X)"
   ]
  },
  {
   "cell_type": "code",
   "execution_count": 317,
   "metadata": {
    "collapsed": true
   },
   "outputs": [],
   "source": [
    "rf_clf_ent = RandomForestClassifier(\n",
    "    n_estimators=100,\n",
    "    criterion='entropy',\n",
    "    min_samples_split=20)\n",
    "rf_clf_ent.fit(train_X, train_y)          \n",
    "rf_ent_predictions = rf_clf_ent.predict_proba(test_X)"
   ]
  },
  {
   "cell_type": "code",
   "execution_count": 259,
   "metadata": {
    "collapsed": true
   },
   "outputs": [],
   "source": [
    "nn_predictions = model.predict(test_X.values)"
   ]
  },
  {
   "cell_type": "code",
   "execution_count": 297,
   "metadata": {
    "collapsed": false
   },
   "outputs": [],
   "source": [
    "xgb_predictions = preds[['high', 'medium', 'low']].values"
   ]
  },
  {
   "cell_type": "code",
   "execution_count": 303,
   "metadata": {
    "collapsed": false
   },
   "outputs": [],
   "source": [
    "new_preds = (0.8 * xgb_predictions) + (0.15 * nn_predictions) + (0.05 * et_predictions)"
   ]
  },
  {
   "cell_type": "code",
   "execution_count": 304,
   "metadata": {
    "collapsed": false
   },
   "outputs": [],
   "source": [
    "new_preds_df = pd.DataFrame(new_preds, columns=['high', 'medium', 'low'])\n",
    "new_preds_df['listing_id'] = preds['listing_id']"
   ]
  },
  {
   "cell_type": "code",
   "execution_count": 306,
   "metadata": {
    "collapsed": true
   },
   "outputs": [],
   "source": [
    "new_preds_df.to_csv('data/combined_preds.csv', index=None)"
   ]
  },
  {
   "cell_type": "code",
   "execution_count": null,
   "metadata": {
    "collapsed": true
   },
   "outputs": [],
   "source": []
  }
 ],
 "metadata": {
  "kernelspec": {
   "display_name": "Python 3",
   "language": "python",
   "name": "python3"
  },
  "language_info": {
   "codemirror_mode": {
    "name": "ipython",
    "version": 3
   },
   "file_extension": ".py",
   "mimetype": "text/x-python",
   "name": "python",
   "nbconvert_exporter": "python",
   "pygments_lexer": "ipython3",
   "version": "3.5.3"
  }
 },
 "nbformat": 4,
 "nbformat_minor": 0
}
