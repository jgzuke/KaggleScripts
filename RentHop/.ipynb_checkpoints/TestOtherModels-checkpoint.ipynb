{
 "cells": [
  {
   "cell_type": "code",
   "execution_count": null,
   "metadata": {
    "collapsed": false
   },
   "outputs": [],
   "source": [
    "%matplotlib inline\n",
    "import math\n",
    "import numpy as np\n",
    "import pandas as pd\n",
    "import random\n",
    "import xgboost as xgb\n",
    "from sklearn import preprocessing, model_selection\n",
    "from sklearn.metrics import log_loss\n",
    "import string\n",
    "from sklearn.metrics import log_loss\n",
    "from sklearn.feature_extraction.text import  CountVectorizer\n",
    "from scipy.stats import boxcox\n",
    "from scipy import stats\n",
    "from scipy import sparse\n",
    "from sklearn.preprocessing import StandardScaler\n",
    "from sklearn.linear_model import Lasso\n",
    "from sklearn.linear_model import ElasticNet\n",
    "from sklearn.linear_model import RidgeClassifier\n",
    "from sklearn.linear_model import Ridge\n",
    "from sklearn.ensemble import AdaBoostClassifier\n",
    "from sklearn.ensemble import ExtraTreesClassifier\n",
    "from sklearn.ensemble import RandomForestClassifier\n",
    "from keras.models import Sequential\n",
    "from keras.layers import Dense, Dropout, Activation\n",
    "from keras.layers.normalization import BatchNormalization\n",
    "from keras.layers.advanced_activations import PReLU\n",
    "from keras.callbacks import EarlyStopping, ModelCheckpoint\n",
    "from sklearn.feature_extraction.text import TfidfTransformer\n",
    "from keras.regularizers import l2, activity_l2\n",
    "from sklearn.neighbors import KNeighborsClassifier\n",
    "from keras.callbacks import Callback\n",
    "\n",
    "class NBatchLogger(Callback):\n",
    "    def __init__(self):\n",
    "        self.seen = 0\n",
    "\n",
    "    def on_epoch_end(self, batch, logs={}):\n",
    "        self.seen += 1\n",
    "        if self.seen % 50 == 0:\n",
    "            print('epoch {}: loss = {}, val = {}'.format(self.seen, logs['loss'], logs['val_loss'])) "
   ]
  },
  {
   "cell_type": "code",
   "execution_count": 43,
   "metadata": {
    "collapsed": true
   },
   "outputs": [],
   "source": [
    "train_X = pd.read_json('data/train_with_leaky_cv.json')\n",
    "train_y = pd.read_json('data/train_interest.json')[0]\n",
    "columns = train_X.columns\n",
    "train_X_scaled = pd.DataFrame(StandardScaler().fit_transform(train_X), columns=columns)"
   ]
  },
  {
   "cell_type": "code",
   "execution_count": 44,
   "metadata": {
    "collapsed": false
   },
   "outputs": [],
   "source": [
    "column_usefulness = [('bc_price', 16597), ('manager_worths', 14684), ('price_by_NTACode', 13343), ('latitude', 12299), ('longitude', 12051), ('desc_words_length', 11477), ('manager_id', 11136), ('price_by_address1', 11125), ('Yday', 10884), ('address1', 10458), ('building_worths', 10298), ('building_id', 10142), ('desc_letters_count', 9832), ('real_minus_expected_price', 9815), ('price_by_area', 9742), ('real_over_expected_price', 9374), ('Day', 9066), ('worth_by_address1', 8782), ('hour', 7722), ('price_per_bathroom', 7590), ('desc_words_count', 7481), ('price_per_bed_and_bath', 7387), ('worth_by_NTACode', 6993), ('photos_count', 6730), ('NTACode', 6324), ('price_by_BoroCode', 6098), ('features_count', 5668), ('Wday', 4445), ('price_per_bedroom', 3903), ('sparse_nofee', 3056), ('bedrooms', 2833), ('sparse_furnished', 1865), ('bathrooms', 1702), ('sparse_laundryinbuilding', 1425), ('sparse_hardwoodfloors', 1132), ('sparse_laundryinunit', 1088), ('Month', 1006), ('sparse_exclusive', 771), ('sparse_dogsallowed', 770), ('BoroCode', 749), ('sparse_catsallowed', 718), ('sparse_prewar', 663), ('sparse_privateoutdoorspace', 634), ('sparse_reducedfee', 631), ('avenue', 595), ('street', 569), ('other_address', 553), ('sparse_commonoutdoorspace', 545), ('Zero_building_id', 534), ('sparse_elevator', 533), ('east', 524), ('sparse_doorman', 510), ('sparse_parkingspace', 506), ('sparse_dishwasher', 500), ('sparse_highspeedinternet', 476), ('sparse_terrace', 424), ('sparse_fitnesscenter', 423), ('sparse_loft', 413), ('sparse_outdoorspace', 406), ('sparse_actualapt', 399), ('sparse_roofdeck', 359), ('sparse_balcony', 346), ('sparse_diningroom', 318), ('sparse_simplex', 292), ('sparse_swimmingpool', 283), ('sparse_shorttermallowed', 263), ('sparse_wheelchairaccess', 248), ('west', 245), ('sparse_newconstruction', 238), ('sparse_garden', 231), ('sparse_multilevel', 201), ('sparse_patio', 199), ('sparse_hardwood', 198), ('worth_by_BoroCode', 179), ('sparse_fireplace', 168), ('sparse_highceiling', 159), ('sparse_petsok', 154), ('sparse_dryerinunit', 153), ('sparse_stainlesssteelappliances', 148), ('sparse_garage', 119), ('south', 118), ('sparse_storage', 118), ('sparse_outdoorareas', 117), ('sparse_lndrybldg', 113), ('sparse_liveinsuper', 110), ('sparse_new', 103), ('sparse_renovated', 99), ('sparse_photos', 88), ('sparse_highceilings', 79), ('sparse_onsitelaundry', 79), ('sparse_view', 78), ('sparse_flex3', 67), ('sparse_centrala', 66), ('sparse_concierge', 64), ('sparse_residentslounge', 63), ('sparse_assignedparkingspace', 62), ('sparse_allutilitiesincluded', 58), ('sparse_onsitegarage', 53), ('north', 46), ('sparse_lowrise', 44), ('sparse_washerinunit', 44)]\n",
    "leaky = ['manager_worths', 'building_worths', 'price_by_area', 'real_minus_expected_price', 'real_over_expected_price', 'price_by_address1', 'worth_by_address1', 'price_by_BoroCode', 'worth_by_BoroCode', 'price_by_NTACode', 'worth_by_NTACode']\n",
    "all_columns = ['BoroCode', 'Day', 'Month', 'NTACode', 'Wday', 'Yday', 'Zero_building_id', 'Zero_manager_id', 'address1', 'avenue', 'bathrooms', 'bc_price', 'bedrooms', 'building_id', 'building_worths', 'desc_letters_count', 'desc_words_count', 'desc_words_length', 'east', 'features_count', 'hour', 'latitude', 'longitude', 'manager_id', 'manager_worths', 'north', 'other_address', 'photos_count', 'price_by_BoroCode', 'price_by_NTACode', 'price_by_address1', 'price_by_area', 'price_per_bathroom', 'price_per_bed_and_bath', 'price_per_bedroom', 'real_minus_expected_price', 'real_over_expected_price', 'south', 'sparse_24', 'sparse_2fullbaths', 'sparse_actualapt', 'sparse_airconditioning', 'sparse_allutilitiesincluded', 'sparse_assignedparkingspace', 'sparse_attendedlobby', 'sparse_backyard', 'sparse_balconies', 'sparse_balcony', 'sparse_basementstorage', 'sparse_bikeroom', 'sparse_bikestorage', 'sparse_billiardsroom', 'sparse_brownstone', 'sparse_buildingcommonoutdoorspace', 'sparse_businesscenter', 'sparse_cable', 'sparse_catsallowed', 'sparse_centrala', 'sparse_centralac', 'sparse_centralair', 'sparse_chef', 'sparse_chefskitchen', 'sparse_children', 'sparse_childrensplayroom', 'sparse_cityview', 'sparse_commonbackyard', 'sparse_commongarden', 'sparse_commonoutdoorspace', 'sparse_commonparking', 'sparse_commonroofdeck', 'sparse_commonterrace', 'sparse_communityrecreationfacilities', 'sparse_concierge', 'sparse_conciergeservice', 'sparse_condofinishes', 'sparse_cook', 'sparse_courtyard', 'sparse_deck', 'sparse_decorativefireplace', 'sparse_diningroom', 'sparse_dishwasher', 'sparse_dogsallowed', 'sparse_doorman', 'sparse_drycleaningservice', 'sparse_dryer', 'sparse_dryerinbuilding', 'sparse_dryerinunit', 'sparse_duplex', 'sparse_eatinkitchen', 'sparse_elev', 'sparse_elevator', 'sparse_elevbldg', 'sparse_exclusive', 'sparse_exposedbrick', 'sparse_fireplace', 'sparse_fireplaces', 'sparse_fitness', 'sparse_fitnesscenter', 'sparse_flex2', 'sparse_flex3', 'sparse_ftdoorman', 'sparse_fullservicegarage', 'sparse_fulltimedoorman', 'sparse_furnished', 'sparse_garage', 'sparse_garden', 'sparse_gourmetkitchen', 'sparse_granitecountertops', 'sparse_granitekitchen', 'sparse_greenbuilding', 'sparse_guarantorsaccepted', 'sparse_gutrenovated', 'sparse_gym', 'sparse_gyminbuilding', 'sparse_hardwood', 'sparse_hardwoodfloors', 'sparse_healthclub', 'sparse_highceiling', 'sparse_highceilings', 'sparse_highrise', 'sparse_highspeedinternet', 'sparse_hirise', 'sparse_housekeeping', 'sparse_indoorpool', 'sparse_inunitwasher', 'sparse_largelivingroom', 'sparse_laundry', 'sparse_laundryinbuilding', 'sparse_laundryinunit', 'sparse_laundryonfloor', 'sparse_laundryroom', 'sparse_light', 'sparse_live', 'sparse_liveinsuper', 'sparse_liveinsuperintendent', 'sparse_lndrybldg', 'sparse_loft', 'sparse_lounge', 'sparse_loungeroom', 'sparse_lowrise', 'sparse_luxurybuilding', 'sparse_mailroom', 'sparse_marblebath', 'sparse_marblebathroom', 'sparse_microwave', 'sparse_midrise', 'sparse_mrcleanapproved', 'sparse_multilevel', 'sparse_new', 'sparse_newconstruction', 'sparse_newlyrenovated', 'sparse_nofee', 'sparse_nopets', 'sparse_nursery', 'sparse_onsitegarage', 'sparse_onsitelaundry', 'sparse_onsiteparking', 'sparse_onsiteparkingavailable', 'sparse_onsiteparkinglot', 'sparse_onsitesuper', 'sparse_ornateprewardetails', 'sparse_outdoorareas', 'sparse_outdoorentertainmentspace', 'sparse_outdoorpool', 'sparse_outdoorspace', 'sparse_packageroom', 'sparse_parking', 'sparse_parkingspace', 'sparse_patio', 'sparse_penthouse', 'sparse_petfriendly', 'sparse_pets', 'sparse_petsallowed', 'sparse_petsok', 'sparse_petsonapproval', 'sparse_photos', 'sparse_playroom', 'sparse_pool', 'sparse_postwar', 'sparse_prewar', 'sparse_privatebackyard', 'sparse_privatebalcony', 'sparse_privatedeck', 'sparse_privatelaundryroomoneveryfloor', 'sparse_privateoutdoorspace', 'sparse_privateparking', 'sparse_privateroofdeck', 'sparse_privateterrace', 'sparse_publicoutdoor', 'sparse_reducedfee', 'sparse_renovated', 'sparse_residentsgarden', 'sparse_residentslounge', 'sparse_roofaccess', 'sparse_roofdeck', 'sparse_rooftopdeck', 'sparse_rooftopterrace', 'sparse_roomyclosets', 'sparse_satellitetv', 'sparse_sauna', 'sparse_screeningroom', 'sparse_sharedbackyard', 'sparse_sharesok', 'sparse_shorttermallowed', 'sparse_simplex', 'sparse_skitchen', 'sparse_skylight', 'sparse_splayroom', 'sparse_sskitchen', 'sparse_stainlesssteelappliances', 'sparse_stepstothepark', 'sparse_storage', 'sparse_storagefacilitiesavailable', 'sparse_storageroom', 'sparse_sublet', 'sparse_subway', 'sparse_sundeck', 'sparse_swimmingpool', 'sparse_tenantlounge', 'sparse_terrace', 'sparse_terraces', 'sparse_tonsofnaturallight', 'sparse_valet', 'sparse_valetparking', 'sparse_valetservices', 'sparse_valetservicesincludingdrycleaning', 'sparse_videointercom', 'sparse_view', 'sparse_virtualdoorman', 'sparse_walkincloset', 'sparse_wallsofwindows', 'sparse_washer', 'sparse_washerinunit', 'sparse_wheelchairaccess', 'sparse_wheelchairramp', 'sparse_wifi', 'sparse_wifiaccess', 'sparse_work', 'street', 'west', 'worth_by_BoroCode', 'worth_by_NTACode', 'worth_by_address1']\n",
    "sparse_cols = [x[0] for x in column_usefulness if x[0].startswith('sparse')][:15]\n",
    "non_sparse_cols = [x[0] for x in column_usefulness if not x[0].startswith('sparse')]"
   ]
  },
  {
   "cell_type": "markdown",
   "metadata": {},
   "source": [
    "# Add a bunch of features to train_X"
   ]
  },
  {
   "cell_type": "code",
   "execution_count": 45,
   "metadata": {
    "collapsed": true
   },
   "outputs": [],
   "source": [
    "from sklearn.cluster import KMeans\n",
    "from sklearn.neighbors import KNeighborsClassifier\n",
    "from sklearn.manifold import TSNE\n",
    "from sklearn.decomposition import PCA"
   ]
  },
  {
   "cell_type": "code",
   "execution_count": null,
   "metadata": {
    "collapsed": true
   },
   "outputs": [],
   "source": [
    "train_X = pd.read_json('data/train_with_leaky_cv.json')\n",
    "train_y = pd.read_json('data/train_interest.json')[0]\n",
    "columns = train_X.columns\n",
    "train_X_scaled = pd.DataFrame(StandardScaler().fit_transform(train_X), columns=columns)\n",
    "train_X_with_layer_1 = pd.read_json('data/train_scaled_with_leaky_and_added_features_cv.json')"
   ]
  },
  {
   "cell_type": "code",
   "execution_count": 46,
   "metadata": {
    "collapsed": true
   },
   "outputs": [],
   "source": [
    "knn_features = [x[0] for x in column_usefulness[:29]]\n",
    "n_components = 5\n",
    "ridge_columns = ['layer1_ridge_predictions']\n",
    "pca_columns = ['layer1_pca_{}'.format(i) for i in range(n_components)]\n",
    "knn_columns = ['layer1_knn_{}'.format(i) for i in [2, 4, 8, 16, 64, 256, 1024]]\n",
    "rf_columns = ['layer1_rf_{}_{}_predictions'.format(criterion, category) for category in ['high', 'medium', 'low'] for criterion in ['gini', 'entropy']]\n",
    "k_means_columns = ['layer1_k_means_{}'.format(n_clusters) for n_clusters in [2, 4, 8]]\n",
    "new_columns_generated = ridge_columns + pca_columns + knn_columns + rf_columns + k_means_columns\n",
    "for column in new_columns_generated:\n",
    "    train_X_with_layer_1[column] = 0"
   ]
  },
  {
   "cell_type": "code",
   "execution_count": 47,
   "metadata": {
    "collapsed": false
   },
   "outputs": [
    {
     "name": "stdout",
     "output_type": "stream",
     "text": [
      "Fold 0\n",
      "Fold 1\n",
      "Fold 2\n",
      "Fold 3\n",
      "Fold 4\n"
     ]
    }
   ],
   "source": [
    "#%%time\n",
    "#PCA\n",
    "pca_cols = ['layer1_pca_{}'.format(i) for i in range(n_components)]\n",
    "pca = PCA(n_components=n_components)\n",
    "pca_representation = pca.fit_transform(train_X_scaled)\n",
    "train_X_with_layer_1.loc[:, pca_cols] = pca_representation\n",
    "\n",
    "#tsne = TSNE(n_components = 2)\n",
    "#tsne_representation = tsne.fit_transform(train_X_scaled[knn_features[:15]][:5000])\n",
    "\n",
    "folds = 5\n",
    "full_length = len(train_X_scaled)\n",
    "entries = int(full_length / folds)\n",
    "full_index = train_X_scaled.index\n",
    "fold_indices = []\n",
    "fold_indices_keep = []\n",
    "fold_indices_throw = []\n",
    "for column in leaky:\n",
    "    train_X_scaled[column] = 0\n",
    "for i in range(folds):\n",
    "    print ('Fold {}'.format(i))\n",
    "    indices = sorted(random.sample(list(full_index), entries))\n",
    "    fold_indices.append(indices)\n",
    "    full_index = full_index.drop(indices)\n",
    "\n",
    "    full_index_keep = np.zeros((full_length), dtype=np.bool)\n",
    "    full_index_throw = np.ones((full_length), dtype=np.bool)\n",
    "    for j in fold_indices[i]:\n",
    "        full_index_keep[j] = True\n",
    "        full_index_throw[j] = False\n",
    "    fold_indices_throw.append(full_index_throw)\n",
    "    fold_indices_keep.append(full_index_keep)\n",
    "    \n",
    "    xtr = train_X_scaled[full_index_throw]\n",
    "    ytr = train_y[full_index_throw]\n",
    "    xte = train_X_scaled[full_index_keep]\n",
    "    \n",
    "    ridge = Ridge()\n",
    "    ridge.fit(xtr, ytr)\n",
    "    ridge_predictions = ridge.predict(xte)\n",
    "    train_X_with_layer_1.loc[indices, 'layer1_ridge_predictions'] = ridge_predictions\n",
    "    \n",
    "    for criterion in ['gini', 'entropy']:\n",
    "        rf = RandomForestClassifier(\n",
    "            n_estimators=25,\n",
    "            criterion=criterion,\n",
    "            max_features='auto',\n",
    "            min_samples_split=20)\n",
    "\n",
    "        rf.fit(xtr, ytr)\n",
    "        rf_predictions = rf.predict_proba(xte)\n",
    "        new_cols = ['layer1_rf_{}_{}_predictions'.format(criterion, category) for category in ['high', 'medium', 'low']]\n",
    "        train_X_with_layer_1.loc[indices, new_cols] = rf_predictions\n",
    "    \n",
    "    for n_clusters in [2, 4, 8]:\n",
    "        k_means = KMeans(n_clusters=n_clusters)\n",
    "        k_means.fit(xtr[knn_features], ytr)\n",
    "        k_means_indices = k_means.predict(xte[knn_features])\n",
    "        train_X_with_layer_1.loc[indices, 'layer1_k_means_{}'.format(n_clusters)] = k_means_indices\n",
    "    \n",
    "    for n_neighbors in [2, 4, 8, 16, 64, 256, 1024]:\n",
    "        knn = KNeighborsClassifier(n_neighbors=n_neighbors, metric='manhattan') # mahalanobis\n",
    "        knn.fit(train_X_scaled[knn_features][full_index_throw], train_y[full_index_throw])\n",
    "        knn_pred = knn.predict(train_X_scaled[knn_features][full_index_keep])\n",
    "        train_X_with_layer_1.loc[indices, 'layer1_knn_{}'.format(n_neighbors)] = knn_pred"
   ]
  },
  {
   "cell_type": "code",
   "execution_count": 50,
   "metadata": {
    "collapsed": true
   },
   "outputs": [],
   "source": [
    "train_X_with_layer_1.to_json('data/train_scaled_with_leaky_and_added_features_cv.json', orient='records')"
   ]
  },
  {
   "cell_type": "code",
   "execution_count": 8,
   "metadata": {
    "collapsed": false
   },
   "outputs": [
    {
     "name": "stdout",
     "output_type": "stream",
     "text": [
      "epoch 20: loss = 0.6282488227328573, val = 0.6304333341877238\n",
      "epoch 40: loss = 0.602916426069766, val = 0.6082626919940411\n",
      "epoch 60: loss = 0.5895092058440703, val = 0.5969279052218349\n",
      "epoch 80: loss = 0.5772994322103548, val = 0.5906748343352697\n",
      "epoch 100: loss = 0.5699147400505868, val = 0.5870956487218146\n",
      "epoch 120: loss = 0.5630399156358799, val = 0.5826580229851352\n",
      "epoch 140: loss = 0.5593149274524829, val = 0.5801880013944651\n",
      "epoch 160: loss = 0.5514334796999277, val = 0.5789788522950678\n",
      "epoch 180: loss = 0.5482507364051156, val = 0.5786111967009806\n",
      "epoch 200: loss = 0.5419276234376641, val = 0.5787578904081887\n",
      "epoch 220: loss = 0.5418956373185813, val = 0.5778461213261831\n",
      "epoch 240: loss = 0.5354831423923456, val = 0.5794174659675361\n"
     ]
    }
   ],
   "source": [
    "# before adding others\n",
    "test_nn_with_columns(train_X, train_y, all_columns)"
   ]
  },
  {
   "cell_type": "code",
   "execution_count": 48,
   "metadata": {
    "collapsed": false
   },
   "outputs": [
    {
     "name": "stdout",
     "output_type": "stream",
     "text": [
      "epoch 20: loss = 0.6252966431091972, val = 0.6219801042469882\n",
      "epoch 40: loss = 0.6014496944464283, val = 0.6046303781683933\n",
      "epoch 60: loss = 0.5871426490438283, val = 0.596425072689616\n",
      "epoch 80: loss = 0.5777446810517827, val = 0.5886232381528655\n",
      "epoch 100: loss = 0.5694397648330148, val = 0.5844546216371709\n",
      "epoch 120: loss = 0.5596226601254878, val = 0.5823725822834127\n",
      "epoch 140: loss = 0.5549956179840055, val = 0.581384726186339\n",
      "epoch 160: loss = 0.5500929861650504, val = 0.579431453454937\n",
      "epoch 180: loss = 0.547056355861312, val = 0.5785074271400583\n",
      "epoch 200: loss = 0.5411116264479895, val = 0.5784396723016655\n",
      "epoch 220: loss = 0.5382139513137926, val = 0.5782431788219589\n",
      "epoch 240: loss = 0.5361092508985755, val = 0.5773262221938035\n"
     ]
    }
   ],
   "source": [
    "# after adding others\n",
    "test_nn_with_columns(train_X, train_y, all_columns)"
   ]
  },
  {
   "cell_type": "code",
   "execution_count": 49,
   "metadata": {
    "collapsed": false
   },
   "outputs": [
    {
     "name": "stdout",
     "output_type": "stream",
     "text": [
      "epoch 20: loss = 0.594692775784084, val = 0.5937427879442637\n",
      "epoch 40: loss = 0.5717681471288394, val = 0.5755988104568731\n",
      "epoch 60: loss = 0.5636358953001511, val = 0.5738864941542104\n",
      "epoch 80: loss = 0.5523670226852441, val = 0.5699458899171798\n",
      "epoch 100: loss = 0.5477904247482045, val = 0.5696808212018705\n",
      "epoch 120: loss = 0.5394519402688756, val = 0.569996047047012\n",
      "epoch 140: loss = 0.537069498447543, val = 0.5698982835840147\n"
     ]
    }
   ],
   "source": [
    "# after adding others using all columns\n",
    "test_nn_with_columns(train_X, train_y, all_columns + new_columns_generated)"
   ]
  },
  {
   "cell_type": "code",
   "execution_count": 51,
   "metadata": {
    "collapsed": false
   },
   "outputs": [
    {
     "data": {
      "text/plain": [
       "['layer1_ridge_predictions',\n",
       " 'layer1_pca_0',\n",
       " 'layer1_pca_1',\n",
       " 'layer1_pca_2',\n",
       " 'layer1_pca_3',\n",
       " 'layer1_pca_4',\n",
       " 'layer1_knn_2',\n",
       " 'layer1_knn_4',\n",
       " 'layer1_knn_8',\n",
       " 'layer1_knn_16',\n",
       " 'layer1_knn_64',\n",
       " 'layer1_knn_256',\n",
       " 'layer1_knn_1024',\n",
       " 'layer1_rf_gini_high_predictions',\n",
       " 'layer1_rf_entropy_high_predictions',\n",
       " 'layer1_rf_gini_medium_predictions',\n",
       " 'layer1_rf_entropy_medium_predictions',\n",
       " 'layer1_rf_gini_low_predictions',\n",
       " 'layer1_rf_entropy_low_predictions',\n",
       " 'layer1_k_means_2',\n",
       " 'layer1_k_means_4',\n",
       " 'layer1_k_means_8']"
      ]
     },
     "execution_count": 51,
     "metadata": {},
     "output_type": "execute_result"
    }
   ],
   "source": [
    "new_columns_generated"
   ]
  },
  {
   "cell_type": "code",
   "execution_count": 52,
   "metadata": {
    "collapsed": false
   },
   "outputs": [
    {
     "name": "stdout",
     "output_type": "stream",
     "text": [
      "epoch 20: loss = 0.6274871152572077, val = 0.6247000663936341\n",
      "epoch 40: loss = 0.6047098483517303, val = 0.6044650601788034\n",
      "epoch 60: loss = 0.5890790377861549, val = 0.5930914153038614\n",
      "epoch 80: loss = 0.5775404910526728, val = 0.5873081307682502\n",
      "epoch 100: loss = 0.5681085705905291, val = 0.5828830631669326\n",
      "epoch 120: loss = 0.563491647718353, val = 0.5804468416514514\n",
      "epoch 140: loss = 0.555108283480994, val = 0.5793847489596611\n",
      "epoch 160: loss = 0.5504081200766217, val = 0.5787764805065482\n",
      "epoch 180: loss = 0.5488234282461024, val = 0.5776976341462287\n",
      "epoch 200: loss = 0.5426555740496402, val = 0.5772768416635066\n",
      "epoch 220: loss = 0.5406084106176787, val = 0.5770171429315172\n",
      "epoch 240: loss = 0.5348834769841871, val = 0.576155166752355\n"
     ]
    }
   ],
   "source": [
    "test_nn_with_columns(train_X, train_y, all_columns + [x for x in new_columns_generated if x.startswith('layer1_pca')])"
   ]
  },
  {
   "cell_type": "code",
   "execution_count": 53,
   "metadata": {
    "collapsed": false
   },
   "outputs": [
    {
     "name": "stdout",
     "output_type": "stream",
     "text": [
      "epoch 20: loss = 0.6218288513979894, val = 0.6244735462794255\n",
      "epoch 40: loss = 0.5983325737978539, val = 0.603542815597387\n",
      "epoch 60: loss = 0.588081652041018, val = 0.5929175764008268\n",
      "epoch 80: loss = 0.5742937396931392, val = 0.5879954479949984\n",
      "epoch 100: loss = 0.5657440222513542, val = 0.5850336156878484\n",
      "epoch 120: loss = 0.5586280097527024, val = 0.5814274310350689\n",
      "epoch 140: loss = 0.5533935880650704, val = 0.5793858718342595\n",
      "epoch 160: loss = 0.5450499003566167, val = 0.5795510628560042\n",
      "epoch 180: loss = 0.5383935571360988, val = 0.5787819302010563\n",
      "epoch 200: loss = 0.535565908201743, val = 0.5789446432966528\n",
      "epoch 220: loss = 0.5331212121003154, val = 0.5787855651954871\n"
     ]
    }
   ],
   "source": [
    "test_nn_with_columns(train_X, train_y, all_columns + [x for x in new_columns_generated if x.startswith('layer1_knn')])"
   ]
  },
  {
   "cell_type": "code",
   "execution_count": 54,
   "metadata": {
    "collapsed": false
   },
   "outputs": [
    {
     "name": "stdout",
     "output_type": "stream",
     "text": [
      "epoch 20: loss = 0.5861334311180797, val = 0.5845404114845333\n",
      "epoch 40: loss = 0.5701741235095291, val = 0.5747236682793216\n",
      "epoch 60: loss = 0.5582373594132404, val = 0.5703679034013883\n",
      "epoch 80: loss = 0.5551384917668265, val = 0.5693936597626529\n",
      "epoch 100: loss = 0.55127847117698, val = 0.5693316848936218\n",
      "epoch 120: loss = 0.5427552124051289, val = 0.569251566724349\n",
      "epoch 140: loss = 0.540238233724895, val = 0.5680365600990194\n",
      "epoch 160: loss = 0.5353732464469, val = 0.56814564182608\n",
      "epoch 180: loss = 0.5289155062667077, val = 0.5696722246932334\n"
     ]
    }
   ],
   "source": [
    "test_nn_with_columns(train_X, train_y, all_columns + [x for x in new_columns_generated if x.startswith('layer1_rf')])"
   ]
  },
  {
   "cell_type": "code",
   "execution_count": null,
   "metadata": {
    "collapsed": false
   },
   "outputs": [
    {
     "name": "stdout",
     "output_type": "stream",
     "text": [
      "epoch 20: loss = 0.628779214195786, val = 0.6294644766194756\n",
      "epoch 40: loss = 0.6048849787016178, val = 0.6077035613917207\n",
      "epoch 60: loss = 0.5893889235517494, val = 0.596033688340548\n",
      "epoch 80: loss = 0.5793164114405349, val = 0.5909391725772511\n",
      "epoch 100: loss = 0.5704366445811917, val = 0.5858190372226342\n",
      "epoch 120: loss = 0.5618863223633761, val = 0.5828055919888224\n",
      "epoch 140: loss = 0.5602322290497261, val = 0.5813193029340149\n",
      "epoch 160: loss = 0.5519290715882745, val = 0.5803600586606572\n",
      "epoch 180: loss = 0.546598615849972, val = 0.5795815264624083\n",
      "epoch 200: loss = 0.5402377768847778, val = 0.5793152741857162\n",
      "epoch 220: loss = 0.5367797630342214, val = 0.5785147997872682\n",
      "epoch 240: loss = 0.5337055064602932, val = 0.5784255874603335\n",
      "epoch 260: loss = 0.5337795146655475, val = 0.5784522006588597\n"
     ]
    }
   ],
   "source": [
    "test_nn_with_columns(train_X, train_y, all_columns + [x for x in new_columns_generated if x.startswith('layer1_k_means')])"
   ]
  },
  {
   "cell_type": "code",
   "execution_count": null,
   "metadata": {
    "collapsed": false
   },
   "outputs": [
    {
     "name": "stdout",
     "output_type": "stream",
     "text": [
      "epoch 20: loss = 0.6228451684343568, val = 0.6287035754538951\n",
      "epoch 40: loss = 0.6037661537714031, val = 0.6065653185439392\n",
      "epoch 60: loss = 0.5871989463216489, val = 0.5939665831049367\n",
      "epoch 80: loss = 0.578306686561292, val = 0.5896029750422346\n",
      "epoch 100: loss = 0.569159480108591, val = 0.5845856770237796\n",
      "epoch 120: loss = 0.5637089496926009, val = 0.5812352509934544\n",
      "epoch 140: loss = 0.5550625511176029, val = 0.5803377565523662\n",
      "epoch 160: loss = 0.551002747062965, val = 0.5790234030616749\n",
      "epoch 180: loss = 0.5468537851152772, val = 0.577901040286449\n",
      "epoch 200: loss = 0.5434627643507935, val = 0.5784149550699805\n"
     ]
    }
   ],
   "source": [
    "test_nn_with_columns(train_X, train_y, all_columns + [x for x in new_columns_generated if x.startswith('layer1_ridge')])"
   ]
  },
  {
   "cell_type": "markdown",
   "metadata": {},
   "source": [
    "# Train Models"
   ]
  },
  {
   "cell_type": "code",
   "execution_count": 6,
   "metadata": {
    "collapsed": true
   },
   "outputs": [],
   "source": [
    "def create_model(xtr):\n",
    "    model = Sequential()\n",
    "    \n",
    "    model.add(Dense(500, input_dim=xtr.shape[1], init = 'he_normal', activation='sigmoid'))\n",
    "    #model.add(Dense(64, input_dim=64, W_regularizer=l2(0.01), activity_regularizer=activity_l2(0.01)))\n",
    "    model.add(BatchNormalization())\n",
    "    model.add(Dropout(0.75))\n",
    "    model.add(PReLU())\n",
    "\n",
    "    model.add(Dense(100, init = 'he_normal', activation='sigmoid'))\n",
    "    model.add(BatchNormalization())    \n",
    "    model.add(Dropout(0.75))\n",
    "    model.add(PReLU())\n",
    "\n",
    "    model.add(Dense(3, init = 'he_normal', activation='softmax'))\n",
    "    model.compile(loss = 'categorical_crossentropy', optimizer = 'adam')\n",
    "    return model"
   ]
  },
  {
   "cell_type": "code",
   "execution_count": 7,
   "metadata": {
    "collapsed": true
   },
   "outputs": [],
   "source": [
    "def test_nn_with_columns(X, y, columns_to_include):\n",
    "    scaler = StandardScaler()\n",
    "    X_scaled = pd.DataFrame(scaler.fit_transform(X), columns=X.columns)\n",
    "    \n",
    "    ntrain = int(len(train_X) * 0.75)\n",
    "\n",
    "    xtr = X_scaled[columns_to_include][:ntrain]\n",
    "    ytr = y[:ntrain].values\n",
    "    ytr_one_hot = np.eye(3)[ytr]\n",
    "    xte = X_scaled[columns_to_include][ntrain:]\n",
    "    yte = y[ntrain:].values\n",
    "    yte_one_hot = np.eye(3)[yte]\n",
    "\n",
    "    filepath = 'data/nn_weights'\n",
    "\n",
    "    logger = NBatchLogger()\n",
    "    early_stop = EarlyStopping(monitor='val_loss', patience=40, verbose=0)\n",
    "    checkpoint = ModelCheckpoint(filepath, monitor='val_loss', verbose=0, save_best_only=True)\n",
    "    model = create_model(xtr)\n",
    "    model.fit(xtr.values, ytr_one_hot, nb_epoch = 1200, batch_size=1000, verbose = 0, validation_data=[xte.values, yte_one_hot], callbacks=[logger, early_stop, checkpoint])\n",
    "    model = create_model(xtr)\n",
    "    model.load_weights(filepath)\n",
    "    "
   ]
  },
  {
   "cell_type": "code",
   "execution_count": null,
   "metadata": {
    "collapsed": true
   },
   "outputs": [],
   "source": []
  },
  {
   "cell_type": "code",
   "execution_count": 45,
   "metadata": {
    "collapsed": true
   },
   "outputs": [],
   "source": [
    "#new_vects = ['tf_idf_' + x[7:] for x in sparse_cols]\n",
    "#sparse = processed_train[sparse_cols]\n",
    "#tf_idfs = TfidfTransformer().fit_transform(sparse)\n",
    "#tf_idfs_df = pd.DataFrame(tf_idfs.toarray(), columns=new_vects)\n",
    "#processed_train = processed_train.join(tf_idfs_df, how='left')"
   ]
  },
  {
   "cell_type": "markdown",
   "metadata": {},
   "source": [
    "# Ridge Lasso Elastic"
   ]
  },
  {
   "cell_type": "code",
   "execution_count": 308,
   "metadata": {
    "collapsed": false
   },
   "outputs": [
    {
     "data": {
      "text/plain": [
       "ElasticNet(alpha=1.0, copy_X=True, fit_intercept=True, l1_ratio=0.5,\n",
       "      max_iter=1000, normalize=False, positive=False, precompute=False,\n",
       "      random_state=None, selection='cyclic', tol=0.0001, warm_start=False)"
      ]
     },
     "execution_count": 308,
     "metadata": {},
     "output_type": "execute_result"
    }
   ],
   "source": [
    "las = Lasso()\n",
    "enet = ElasticNet()\n",
    "las.fit(xte, yte)\n",
    "enet.fit(xte, yte)"
   ]
  },
  {
   "cell_type": "code",
   "execution_count": 309,
   "metadata": {
    "collapsed": false
   },
   "outputs": [
    {
     "name": "stdout",
     "output_type": "stream",
     "text": [
      "0.0\n",
      "10.478087214\n"
     ]
    }
   ],
   "source": [
    "print (las.score(xte, yte))\n",
    "predictions = las.predict(xte)\n",
    "print (log_loss(yte_one_hot, np.eye(3)[np.round(predictions).astype(int)]))"
   ]
  },
  {
   "cell_type": "code",
   "execution_count": 310,
   "metadata": {
    "collapsed": false
   },
   "outputs": [
    {
     "name": "stdout",
     "output_type": "stream",
     "text": [
      "0.0\n",
      "10.478087214\n"
     ]
    }
   ],
   "source": [
    "print (enet.score(xte, yte))\n",
    "predictions = enet.predict(xte)\n",
    "print (log_loss(yte_one_hot, np.eye(3)[np.round(predictions).astype(int)]))"
   ]
  },
  {
   "cell_type": "code",
   "execution_count": 42,
   "metadata": {
    "collapsed": true
   },
   "outputs": [],
   "source": [
    "for coef, column in zip(enet.coef_, train_X.columns):\n",
    "    if coef != 0:\n",
    "        print (column, \": \", coef)"
   ]
  },
  {
   "cell_type": "code",
   "execution_count": 43,
   "metadata": {
    "collapsed": true
   },
   "outputs": [],
   "source": [
    "for coef, column in zip(las.coef_, train_X.columns):\n",
    "    if coef != 0:\n",
    "        print (column, \": \", coef)"
   ]
  },
  {
   "cell_type": "code",
   "execution_count": null,
   "metadata": {
    "collapsed": true
   },
   "outputs": [],
   "source": []
  },
  {
   "cell_type": "markdown",
   "metadata": {},
   "source": [
    "# TREES"
   ]
  },
  {
   "cell_type": "code",
   "execution_count": 322,
   "metadata": {
    "collapsed": false
   },
   "outputs": [
    {
     "name": "stdout",
     "output_type": "stream",
     "text": [
      "0.5843451108603969 (test loss 0.3912286072900344)\n"
     ]
    }
   ],
   "source": [
    "test = ExtraTreesClassifier(\n",
    "    n_estimators=100,\n",
    "    max_features='auto',\n",
    "    min_samples_split=20)\n",
    "\n",
    "test.fit(xtr, ytr)\n",
    "            \n",
    "predictions = test.predict_proba(xtr)\n",
    "et_predictions = test.predict_proba(xte)\n",
    "print ('{} (test loss {})'.format(log_loss(yte_one_hot, et_predictions), log_loss(ytr_one_hot, predictions)))"
   ]
  },
  {
   "cell_type": "code",
   "execution_count": 323,
   "metadata": {
    "collapsed": false
   },
   "outputs": [
    {
     "name": "stdout",
     "output_type": "stream",
     "text": [
      "0.5841850290743527 (test loss 0.3945679429419886)\n"
     ]
    }
   ],
   "source": [
    "test = ExtraTreesClassifier(\n",
    "    n_estimators=100,\n",
    "    criterion='entropy',\n",
    "    max_features='auto',\n",
    "    min_samples_split=20)\n",
    "\n",
    "test.fit(xtr, ytr)\n",
    "            \n",
    "predictions = test.predict_proba(xtr)\n",
    "et_ent_predictions = test.predict_proba(xte)\n",
    "print ('{} (test loss {})'.format(log_loss(yte_one_hot, et_ent_predictions), log_loss(ytr_one_hot, predictions)))"
   ]
  },
  {
   "cell_type": "code",
   "execution_count": 335,
   "metadata": {
    "collapsed": false
   },
   "outputs": [
    {
     "name": "stdout",
     "output_type": "stream",
     "text": [
      "0.5693372215730407 (test loss 0.3780482702094549)\n"
     ]
    }
   ],
   "source": [
    "test = RandomForestClassifier(\n",
    "    n_estimators=100,\n",
    "    max_features='auto',\n",
    "    min_samples_split=20)\n",
    "\n",
    "test.fit(xtr, ytr)\n",
    "            \n",
    "predictions = test.predict_proba(xtr)\n",
    "rf_predictions = test.predict_proba(xte)\n",
    "print ('{} (test loss {})'.format(log_loss(yte_one_hot, rf_predictions), log_loss(ytr_one_hot, predictions)))"
   ]
  },
  {
   "cell_type": "code",
   "execution_count": 336,
   "metadata": {
    "collapsed": false
   },
   "outputs": [
    {
     "name": "stdout",
     "output_type": "stream",
     "text": [
      "0.5668175898671493 (test loss 0.3773447326368733)\n"
     ]
    }
   ],
   "source": [
    "test = RandomForestClassifier(\n",
    "    n_estimators=100,\n",
    "    criterion='entropy',\n",
    "    max_features='auto',\n",
    "    min_samples_split=20)\n",
    "\n",
    "test.fit(xtr, ytr)\n",
    "            \n",
    "predictions = test.predict_proba(xtr)\n",
    "rf_ent_predictions = test.predict_proba(xte)\n",
    "print ('{} (test loss {})'.format(log_loss(yte_one_hot, rf_ent_predictions), log_loss(ytr_one_hot, predictions)))"
   ]
  },
  {
   "cell_type": "code",
   "execution_count": 337,
   "metadata": {
    "collapsed": false
   },
   "outputs": [
    {
     "data": {
      "text/plain": [
       "0.56688904952650898"
      ]
     },
     "execution_count": 337,
     "metadata": {},
     "output_type": "execute_result"
    }
   ],
   "source": [
    "pred_mixed = (0.01 * et_predictions + 0.01 * et_ent_predictions + 0.49 * rf_predictions + 0.49 * rf_ent_predictions)\n",
    "log_loss(yte_one_hot, pred_mixed)"
   ]
  },
  {
   "cell_type": "code",
   "execution_count": 12,
   "metadata": {
    "collapsed": false
   },
   "outputs": [
    {
     "name": "stdout",
     "output_type": "stream",
     "text": [
      "7.076257047822155 (test loss 0.23129250627049086)\n",
      "CPU times: user 3min 15s, sys: 1.48 s, total: 3min 16s\n",
      "Wall time: 3min 20s\n"
     ]
    }
   ],
   "source": [
    "%%time\n",
    "test = KNeighborsClassifier(n_neighbors=2)\n",
    "test.fit(xtr[non_sparse_cols], ytr)\n",
    "\n",
    "predictions = test.predict_proba(xtr[non_sparse_cols])\n",
    "rf_ent_predictions = test.predict_proba(xte[non_sparse_cols])"
   ]
  },
  {
   "cell_type": "code",
   "execution_count": 13,
   "metadata": {
    "collapsed": false
   },
   "outputs": [
    {
     "name": "stdout",
     "output_type": "stream",
     "text": [
      "2.997161309463761 (test loss 0.4189513500335195)\n",
      "CPU times: user 3min 36s, sys: 1.02 s, total: 3min 37s\n",
      "Wall time: 3min 38s\n"
     ]
    }
   ],
   "source": [
    "%%time\n",
    "test = KNeighborsClassifier(n_neighbors=5)\n",
    "test.fit(xtr[non_sparse_cols], ytr)\n",
    "\n",
    "predictions_2 = test.predict_proba(xtr[non_sparse_cols])\n",
    "rf_ent_predictions_2 = test.predict_proba(xte[non_sparse_cols])"
   ]
  },
  {
   "cell_type": "code",
   "execution_count": 14,
   "metadata": {
    "collapsed": false
   },
   "outputs": [
    {
     "name": "stdout",
     "output_type": "stream",
     "text": [
      "1.5474359459916005 (test loss 0.4994428601539661)\n",
      "CPU times: user 3min 48s, sys: 839 ms, total: 3min 49s\n",
      "Wall time: 3min 50s\n"
     ]
    }
   ],
   "source": [
    "%%time\n",
    "test = KNeighborsClassifier(n_neighbors=10)\n",
    "test.fit(xtr[non_sparse_cols], ytr)\n",
    "\n",
    "predictions_3 = test.predict_proba(xtr[non_sparse_cols])\n",
    "rf_ent_predictions_3 = test.predict_proba(xte[non_sparse_cols])"
   ]
  },
  {
   "cell_type": "code",
   "execution_count": 21,
   "metadata": {
    "collapsed": false
   },
   "outputs": [
    {
     "name": "stdout",
     "output_type": "stream",
     "text": [
      "0.6344317626130038 (test loss 0.6195293255389913)\n",
      "CPU times: user 4min 34s, sys: 1.19 s, total: 4min 35s\n",
      "Wall time: 4min 36s\n"
     ]
    }
   ],
   "source": [
    "%%time\n",
    "test = KNeighborsClassifier(n_neighbors=200)\n",
    "test.fit(xtr[non_sparse_cols], ytr)\n",
    "\n",
    "predictions_6 = test.predict_proba(xtr[non_sparse_cols])\n",
    "rf_ent_predictions_6 = test.predict_proba(xte[non_sparse_cols])\n",
    "print ('{} (test loss {})'.format(log_loss(yte_one_hot, rf_ent_predictions_6), log_loss(ytr_one_hot, predictions_6)))"
   ]
  },
  {
   "cell_type": "code",
   "execution_count": null,
   "metadata": {
    "collapsed": true
   },
   "outputs": [],
   "source": [
    "for feat, importance in zip(processed_train[cols].columns, clf.feature_importances_):\n",
    "    if not np.isnan(importance) and importance > 0:\n",
    "        print (feat, \": \", importance)"
   ]
  },
  {
   "cell_type": "code",
   "execution_count": 345,
   "metadata": {
    "collapsed": false
   },
   "outputs": [
    {
     "name": "stdout",
     "output_type": "stream",
     "text": [
      "nn:  0.563593691555\n",
      "ab:  0.566889049527\n",
      "combo:  0.55827286106\n"
     ]
    }
   ],
   "source": [
    "print (\"nn: \", log_loss(yte_one_hot, nn_predictions))\n",
    "print (\"ab: \", log_loss(yte_one_hot, pred_mixed))\n",
    "frac_nn = 0.2\n",
    "averaged_preds = (nn_predictions * frac_nn) + (pred_mixed * (1 - frac_nn))\n",
    "print (\"combo: \", log_loss(yte_one_hot, averaged_preds))"
   ]
  },
  {
   "cell_type": "code",
   "execution_count": null,
   "metadata": {
    "collapsed": true
   },
   "outputs": [],
   "source": [
    "train_X = pd.read_json('data/train_leaky.json')\n",
    "train_y = pd.read_json('data/train_interest.json')[0]\n",
    "scaler = StandardScaler().fit(train_X)\n",
    "train_X = pd.DataFrame(scaler.transform(train_X), columns=columns)\n",
    "test_X = pd.read_json('data/test_leaky.json')\n",
    "test_X = pd.DataFrame(scaler.transform(test_X), columns=columns)\n",
    "listing_id = pd.read_json('data/test_ids.json').values\n",
    "preds = pd.read_csv('data/my_best_preds.csv')"
   ]
  },
  {
   "cell_type": "code",
   "execution_count": 295,
   "metadata": {
    "collapsed": true
   },
   "outputs": [],
   "source": [
    "preds = pd.read_csv('data/my_best_preds.csv')"
   ]
  },
  {
   "cell_type": "code",
   "execution_count": 313,
   "metadata": {
    "collapsed": true
   },
   "outputs": [],
   "source": [
    "et_clf = ExtraTreesClassifier(\n",
    "    n_estimators=100,\n",
    "    criterion='gini',\n",
    "    max_features='auto',\n",
    "    min_samples_split=20)\n",
    "et_clf.fit(train_X, train_y)          \n",
    "et_predictions = et_clf.predict_proba(test_X)"
   ]
  },
  {
   "cell_type": "code",
   "execution_count": 314,
   "metadata": {
    "collapsed": true
   },
   "outputs": [],
   "source": [
    "et_clf_ent = ExtraTreesClassifier(\n",
    "    n_estimators=100,\n",
    "    criterion='entropy',\n",
    "    max_features='auto',\n",
    "    min_samples_split=20)\n",
    "et_clf_ent.fit(train_X, train_y)          \n",
    "et_ent_predictions = et_clf_ent.predict_proba(test_X)"
   ]
  },
  {
   "cell_type": "code",
   "execution_count": 316,
   "metadata": {
    "collapsed": true
   },
   "outputs": [],
   "source": [
    "rf_clf = RandomForestClassifier(\n",
    "    n_estimators=100,\n",
    "    criterion='gini',\n",
    "    min_samples_split=20)\n",
    "rf_clf.fit(train_X, train_y)          \n",
    "rf_predictions = rf_clf.predict_proba(test_X)"
   ]
  },
  {
   "cell_type": "code",
   "execution_count": 317,
   "metadata": {
    "collapsed": true
   },
   "outputs": [],
   "source": [
    "rf_clf_ent = RandomForestClassifier(\n",
    "    n_estimators=100,\n",
    "    criterion='entropy',\n",
    "    min_samples_split=20)\n",
    "rf_clf_ent.fit(train_X, train_y)          \n",
    "rf_ent_predictions = rf_clf_ent.predict_proba(test_X)"
   ]
  },
  {
   "cell_type": "code",
   "execution_count": 259,
   "metadata": {
    "collapsed": true
   },
   "outputs": [],
   "source": [
    "nn_predictions = model.predict(test_X.values)"
   ]
  },
  {
   "cell_type": "code",
   "execution_count": 297,
   "metadata": {
    "collapsed": false
   },
   "outputs": [],
   "source": [
    "xgb_predictions = preds[['high', 'medium', 'low']].values"
   ]
  },
  {
   "cell_type": "code",
   "execution_count": 303,
   "metadata": {
    "collapsed": false
   },
   "outputs": [],
   "source": [
    "new_preds = (0.8 * xgb_predictions) + (0.15 * nn_predictions) + (0.05 * et_predictions)"
   ]
  },
  {
   "cell_type": "code",
   "execution_count": 304,
   "metadata": {
    "collapsed": false
   },
   "outputs": [],
   "source": [
    "new_preds_df = pd.DataFrame(new_preds, columns=['high', 'medium', 'low'])\n",
    "new_preds_df['listing_id'] = preds['listing_id']"
   ]
  },
  {
   "cell_type": "code",
   "execution_count": 306,
   "metadata": {
    "collapsed": true
   },
   "outputs": [],
   "source": [
    "new_preds_df.to_csv('data/combined_preds.csv', index=None)"
   ]
  },
  {
   "cell_type": "code",
   "execution_count": null,
   "metadata": {
    "collapsed": true
   },
   "outputs": [],
   "source": []
  }
 ],
 "metadata": {
  "kernelspec": {
   "display_name": "Python 3",
   "language": "python",
   "name": "python3"
  },
  "language_info": {
   "codemirror_mode": {
    "name": "ipython",
    "version": 3
   },
   "file_extension": ".py",
   "mimetype": "text/x-python",
   "name": "python",
   "nbconvert_exporter": "python",
   "pygments_lexer": "ipython3",
   "version": "3.5.3"
  }
 },
 "nbformat": 4,
 "nbformat_minor": 0
}
