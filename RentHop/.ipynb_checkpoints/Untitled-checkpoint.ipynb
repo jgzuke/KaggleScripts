{
 "cells": [
  {
   "cell_type": "code",
   "execution_count": 2,
   "metadata": {
    "collapsed": false
   },
   "outputs": [
    {
     "name": "stderr",
     "output_type": "stream",
     "text": [
      "/Users/jgzuke/anaconda3/lib/python3.5/site-packages/sklearn/cross_validation.py:44: DeprecationWarning: This module was deprecated in version 0.18 in favor of the model_selection module into which all the refactored classes and functions are moved. Also note that the interface of the new CV iterators are different from that of this module. This module will be removed in 0.20.\n",
      "  \"This module will be removed in 0.20.\", DeprecationWarning)\n",
      "Using Theano backend.\n"
     ]
    }
   ],
   "source": [
    "%matplotlib inline\n",
    "import math\n",
    "import numpy as np\n",
    "import pandas as pd\n",
    "import random\n",
    "import xgboost as xgb\n",
    "from sklearn import preprocessing, model_selection\n",
    "from sklearn.metrics import log_loss\n",
    "import string\n",
    "from sklearn.metrics import log_loss\n",
    "from sklearn.feature_extraction.text import  CountVectorizer\n",
    "from scipy.stats import boxcox\n",
    "from scipy import stats\n",
    "from scipy import sparse\n",
    "from sklearn.preprocessing import StandardScaler\n",
    "from sklearn.linear_model import Lasso\n",
    "from sklearn.linear_model import ElasticNet\n",
    "from sklearn.linear_model import RidgeClassifier\n",
    "from sklearn.linear_model import Ridge\n",
    "from sklearn.ensemble import AdaBoostClassifier\n",
    "from sklearn.ensemble import ExtraTreesClassifier\n",
    "from sklearn.ensemble import RandomForestClassifier\n",
    "from keras.models import Sequential\n",
    "from keras.layers import Dense, Dropout, Activation\n",
    "from keras.layers.normalization import BatchNormalization\n",
    "from keras.layers.advanced_activations import PReLU\n",
    "from keras.callbacks import EarlyStopping, ModelCheckpoint\n",
    "from sklearn.feature_extraction.text import TfidfTransformer\n",
    "from keras.regularizers import l2, activity_l2\n",
    "from sklearn.neighbors import KNeighborsClassifier\n",
    "from keras.callbacks import Callback\n",
    "import xgboost as xgb\n",
    "\n",
    "class NBatchLogger(Callback):\n",
    "    def __init__(self):\n",
    "        self.seen = 0\n",
    "\n",
    "    def on_epoch_end(self, batch, logs={}):\n",
    "        self.seen += 1\n",
    "        if self.seen % 500 == 0:\n",
    "            print('epoch {}: loss = {}, val = {}'.format(self.seen, logs['loss'], logs['val_loss'])) \n",
    "            \n",
    "class FakeDMatrix:\n",
    "    def __init__(self, data, labels=None):\n",
    "        self.data = data\n",
    "        self.labels = labels\n",
    "        self.num = len(data)\n",
    "\n",
    "    def num_row(self):\n",
    "        return self.num\n",
    "\n",
    "    def slice(self, rindex):\n",
    "        indices = np.zeros(self.num, dtype=np.bool)\n",
    "        for index in rindex:\n",
    "            indices[index] = True\n",
    "        return FakeDMatrix(data=self.data[indices], labels=self.labels[indices])"
   ]
  },
  {
   "cell_type": "code",
   "execution_count": 3,
   "metadata": {
    "collapsed": true
   },
   "outputs": [],
   "source": [
    "train_X = pd.read_json('data/train_scaled_with_leaky_and_added_features_cv.json', orient='records')\n",
    "train_y = pd.read_json('data/train_interest.json')[0]"
   ]
  },
  {
   "cell_type": "code",
   "execution_count": 4,
   "metadata": {
    "collapsed": true
   },
   "outputs": [],
   "source": [
    "cols_to_use = ['BoroCode',\n",
    " 'Day',\n",
    " 'Month',\n",
    " 'NTACode',\n",
    " 'Wday',\n",
    " 'Yday',\n",
    " 'Zero_building_id',\n",
    " 'Zero_manager_id',\n",
    " 'address_high_frac',\n",
    " 'address_low_frac',\n",
    " 'address_med_frac',\n",
    " 'address_worths',\n",
    " 'avenue',\n",
    " 'bathrooms',\n",
    " 'bc_price',\n",
    " 'bedrooms',\n",
    " 'boro_high_frac',\n",
    " 'boro_low_frac',\n",
    " 'boro_med_frac',\n",
    " 'boro_worths',\n",
    " 'building_high_frac',\n",
    " 'building_id',\n",
    " 'building_low_frac',\n",
    " 'building_med_frac',\n",
    " 'building_worths',\n",
    " 'desc_letters_count',\n",
    " 'desc_words_count',\n",
    " 'desc_words_length',\n",
    " 'display_address',\n",
    " 'east',\n",
    " 'features_count',\n",
    " 'hour',\n",
    " 'latitude',\n",
    " 'longitude',\n",
    " 'manager_high_frac',\n",
    " 'manager_id',\n",
    " 'manager_low_frac',\n",
    " 'manager_med_frac',\n",
    " 'manager_worths',\n",
    " 'north',\n",
    " 'nta_high_frac',\n",
    " 'nta_low_frac',\n",
    " 'nta_med_frac',\n",
    " 'nta_worths',\n",
    " 'other_address',\n",
    " 'photos_count',\n",
    " 'price_by_BoroCode',\n",
    " 'price_by_NTACode',\n",
    " 'price_by_area',\n",
    " 'price_by_building_id',\n",
    " 'price_by_display_address',\n",
    " 'price_by_manager_id',\n",
    " 'price_per_bathroom',\n",
    " 'price_per_bed_and_bath',\n",
    " 'price_per_bedroom',\n",
    " 'real_minus_expected_price',\n",
    " 'real_over_expected_price',\n",
    " 'south',\n",
    " 'sparse_24',\n",
    " 'sparse_2fullbaths',\n",
    " 'sparse_actualapt',\n",
    " 'sparse_airconditioning',\n",
    " 'sparse_allutilitiesincluded',\n",
    " 'sparse_assignedparkingspace',\n",
    " 'sparse_attendedlobby',\n",
    " 'sparse_backyard',\n",
    " 'sparse_balconies',\n",
    " 'sparse_balcony',\n",
    " 'sparse_basementstorage',\n",
    " 'sparse_bikeroom',\n",
    " 'sparse_bikestorage',\n",
    " 'sparse_billiardsroom',\n",
    " 'sparse_brownstone',\n",
    " 'sparse_buildingcommonoutdoorspace',\n",
    " 'sparse_businesscenter',\n",
    " 'sparse_cable',\n",
    " 'sparse_catsallowed',\n",
    " 'sparse_centrala',\n",
    " 'sparse_centralac',\n",
    " 'sparse_centralair',\n",
    " 'sparse_chef',\n",
    " 'sparse_chefskitchen',\n",
    " 'sparse_children',\n",
    " 'sparse_childrensplayroom',\n",
    " 'sparse_cityview',\n",
    " 'sparse_commonbackyard',\n",
    " 'sparse_commongarden',\n",
    " 'sparse_commonoutdoorspace',\n",
    " 'sparse_commonparking',\n",
    " 'sparse_commonroofdeck',\n",
    " 'sparse_commonterrace',\n",
    " 'sparse_communityrecreationfacilities',\n",
    " 'sparse_concierge',\n",
    " 'sparse_conciergeservice',\n",
    " 'sparse_condofinishes',\n",
    " 'sparse_cook',\n",
    " 'sparse_courtyard',\n",
    " 'sparse_deck',\n",
    " 'sparse_decorativefireplace',\n",
    " 'sparse_diningroom',\n",
    " 'sparse_dishwasher',\n",
    " 'sparse_dogsallowed',\n",
    " 'sparse_doorman',\n",
    " 'sparse_drycleaningservice',\n",
    " 'sparse_dryer',\n",
    " 'sparse_dryerinbuilding',\n",
    " 'sparse_dryerinunit',\n",
    " 'sparse_duplex',\n",
    " 'sparse_eatinkitchen',\n",
    " 'sparse_elev',\n",
    " 'sparse_elevator',\n",
    " 'sparse_elevbldg',\n",
    " 'sparse_exclusive',\n",
    " 'sparse_exposedbrick',\n",
    " 'sparse_fireplace',\n",
    " 'sparse_fireplaces',\n",
    " 'sparse_fitness',\n",
    " 'sparse_fitnesscenter',\n",
    " 'sparse_flex2',\n",
    " 'sparse_flex3',\n",
    " 'sparse_ftdoorman',\n",
    " 'sparse_fullservicegarage',\n",
    " 'sparse_fulltimedoorman',\n",
    " 'sparse_furnished',\n",
    " 'sparse_garage',\n",
    " 'sparse_garden',\n",
    " 'sparse_gourmetkitchen',\n",
    " 'sparse_granitecountertops',\n",
    " 'sparse_granitekitchen',\n",
    " 'sparse_greenbuilding',\n",
    " 'sparse_guarantorsaccepted',\n",
    " 'sparse_gutrenovated',\n",
    " 'sparse_gym',\n",
    " 'sparse_gyminbuilding',\n",
    " 'sparse_hardwood',\n",
    " 'sparse_hardwoodfloors',\n",
    " 'sparse_healthclub',\n",
    " 'sparse_highceiling',\n",
    " 'sparse_highceilings',\n",
    " 'sparse_highrise',\n",
    " 'sparse_highspeedinternet',\n",
    " 'sparse_hirise',\n",
    " 'sparse_housekeeping',\n",
    " 'sparse_indoorpool',\n",
    " 'sparse_inunitwasher',\n",
    " 'sparse_largelivingroom',\n",
    " 'sparse_laundry',\n",
    " 'sparse_laundryinbuilding',\n",
    " 'sparse_laundryinunit',\n",
    " 'sparse_laundryonfloor',\n",
    " 'sparse_laundryroom',\n",
    " 'sparse_light',\n",
    " 'sparse_live',\n",
    " 'sparse_liveinsuper',\n",
    " 'sparse_liveinsuperintendent',\n",
    " 'sparse_lndrybldg',\n",
    " 'sparse_loft',\n",
    " 'sparse_lounge',\n",
    " 'sparse_loungeroom',\n",
    " 'sparse_lowrise',\n",
    " 'sparse_luxurybuilding',\n",
    " 'sparse_mailroom',\n",
    " 'sparse_marblebath',\n",
    " 'sparse_marblebathroom',\n",
    " 'sparse_microwave',\n",
    " 'sparse_midrise',\n",
    " 'sparse_mrcleanapproved',\n",
    " 'sparse_multilevel',\n",
    " 'sparse_new',\n",
    " 'sparse_newconstruction',\n",
    " 'sparse_newlyrenovated',\n",
    " 'sparse_nofee',\n",
    " 'sparse_nopets',\n",
    " 'sparse_nursery',\n",
    " 'sparse_onsitegarage',\n",
    " 'sparse_onsitelaundry',\n",
    " 'sparse_onsiteparking',\n",
    " 'sparse_onsiteparkingavailable',\n",
    " 'sparse_onsiteparkinglot',\n",
    " 'sparse_onsitesuper',\n",
    " 'sparse_ornateprewardetails',\n",
    " 'sparse_outdoorareas',\n",
    " 'sparse_outdoorentertainmentspace',\n",
    " 'sparse_outdoorpool',\n",
    " 'sparse_outdoorspace',\n",
    " 'sparse_packageroom',\n",
    " 'sparse_parking',\n",
    " 'sparse_parkingspace',\n",
    " 'sparse_patio',\n",
    " 'sparse_penthouse',\n",
    " 'sparse_petfriendly',\n",
    " 'sparse_pets',\n",
    " 'sparse_petsallowed',\n",
    " 'sparse_petsok',\n",
    " 'sparse_petsonapproval',\n",
    " 'sparse_photos',\n",
    " 'sparse_playroom',\n",
    " 'sparse_pool',\n",
    " 'sparse_postwar',\n",
    " 'sparse_prewar',\n",
    " 'sparse_privatebackyard',\n",
    " 'sparse_privatebalcony',\n",
    " 'sparse_privatedeck',\n",
    " 'sparse_privatelaundryroomoneveryfloor',\n",
    " 'sparse_privateoutdoorspace',\n",
    " 'sparse_privateparking',\n",
    " 'sparse_privateroofdeck',\n",
    " 'sparse_privateterrace',\n",
    " 'sparse_publicoutdoor',\n",
    " 'sparse_reducedfee',\n",
    " 'sparse_renovated',\n",
    " 'sparse_residentsgarden',\n",
    " 'sparse_residentslounge',\n",
    " 'sparse_roofaccess',\n",
    " 'sparse_roofdeck',\n",
    " 'sparse_rooftopdeck',\n",
    " 'sparse_rooftopterrace',\n",
    " 'sparse_roomyclosets',\n",
    " 'sparse_satellitetv',\n",
    " 'sparse_sauna',\n",
    " 'sparse_screeningroom',\n",
    " 'sparse_sharedbackyard',\n",
    " 'sparse_sharesok',\n",
    " 'sparse_shorttermallowed',\n",
    " 'sparse_simplex',\n",
    " 'sparse_skitchen',\n",
    " 'sparse_skylight',\n",
    " 'sparse_splayroom',\n",
    " 'sparse_sskitchen',\n",
    " 'sparse_stainlesssteelappliances',\n",
    " 'sparse_stepstothepark',\n",
    " 'sparse_storage',\n",
    " 'sparse_storagefacilitiesavailable',\n",
    " 'sparse_storageroom',\n",
    " 'sparse_sublet',\n",
    " 'sparse_subway',\n",
    " 'sparse_sundeck',\n",
    " 'sparse_swimmingpool',\n",
    " 'sparse_tenantlounge',\n",
    " 'sparse_terrace',\n",
    " 'sparse_terraces',\n",
    " 'sparse_tonsofnaturallight',\n",
    " 'sparse_valet',\n",
    " 'sparse_valetparking',\n",
    " 'sparse_valetservices',\n",
    " 'sparse_valetservicesincludingdrycleaning',\n",
    " 'sparse_videointercom',\n",
    " 'sparse_view',\n",
    " 'sparse_virtualdoorman',\n",
    " 'sparse_walkincloset',\n",
    " 'sparse_wallsofwindows',\n",
    " 'sparse_washer',\n",
    " 'sparse_washerinunit',\n",
    " 'sparse_wheelchairaccess',\n",
    " 'sparse_wheelchairramp',\n",
    " 'sparse_wifi',\n",
    " 'sparse_wifiaccess',\n",
    " 'sparse_work',\n",
    " 'street',\n",
    " 'west',\n",
    " 'worth_by_BoroCode',\n",
    " 'worth_by_NTACode',\n",
    " 'worth_by_building_id',\n",
    " 'worth_by_display_address',\n",
    " 'worth_by_manager_id'] + ['layer1_pca_0', 'layer1_pca_1', 'layer1_pca_2'] + ['layer1_ridge_predictions']"
   ]
  },
  {
   "cell_type": "code",
   "execution_count": 5,
   "metadata": {
    "collapsed": true
   },
   "outputs": [],
   "source": [
    "train_X = train_X[cols_to_use]"
   ]
  },
  {
   "cell_type": "code",
   "execution_count": 6,
   "metadata": {
    "collapsed": true
   },
   "outputs": [],
   "source": [
    "NFOLDS = 5\n",
    "y_map = {'low': 2, 'medium': 1, 'high': 0}\n",
    "\n",
    "params = {\n",
    "    'eta':.01,\n",
    "    'colsample_bytree':.6,\n",
    "    'subsample':.6,\n",
    "    'nthread':16,\n",
    "    'objective':'multi:softprob',\n",
    "    'eval_metric':'mlogloss',\n",
    "    'num_class':3,\n",
    "    'silent':1\n",
    "}"
   ]
  },
  {
   "cell_type": "code",
   "execution_count": 7,
   "metadata": {
    "collapsed": true
   },
   "outputs": [],
   "source": [
    "b = pd.read_json('data/backup/train.json')\n",
    "a = pd.read_csv('data/listing_image_time.csv')"
   ]
  },
  {
   "cell_type": "code",
   "execution_count": 10,
   "metadata": {
    "collapsed": false
   },
   "outputs": [],
   "source": [
    "#train_X['listing_id'] = b.listing_id\n",
    "#a.columns = ['listing_id', 'time_stamp']\n",
    "#length = len(train_X)\n",
    "#train_X = train_X.merge(a, on='listing_id', how='outer')[:length]\n",
    "train_X.to_json('data/train_final.json', orient='records')"
   ]
  },
  {
   "cell_type": "code",
   "execution_count": 11,
   "metadata": {
    "collapsed": true
   },
   "outputs": [],
   "source": [
    "train_X = pd.read_json('data/train_final.json')"
   ]
  },
  {
   "cell_type": "code",
   "execution_count": 12,
   "metadata": {
    "collapsed": false
   },
   "outputs": [],
   "source": [
    "ntrain = int(len(train_X) * 0.75)\n",
    "\n",
    "scaler = StandardScaler()\n",
    "\n",
    "xtr = train_X[:ntrain]\n",
    "xtr = pd.DataFrame(scaler.fit_transform(xtr), columns=xtr.columns)\n",
    "ytr = train_y[:ntrain].values\n",
    "ytr_one_hot = np.eye(3)[ytr]\n",
    "xte = train_X[ntrain:]\n",
    "xte = pd.DataFrame(scaler.transform(xte), columns=xte.columns)\n",
    "yte = train_y[ntrain:].values\n",
    "yte_one_hot = np.eye(3)[yte]"
   ]
  },
  {
   "cell_type": "code",
   "execution_count": 13,
   "metadata": {
    "collapsed": false
   },
   "outputs": [
    {
     "name": "stdout",
     "output_type": "stream",
     "text": [
      "[0]\ttrain-mlogloss:1.09099+1.39914e-05\ttest-mlogloss:1.09119+3.67423e-05\n",
      "[200]\ttrain-mlogloss:0.569646+0.000608634\ttest-mlogloss:0.601149+0.00177252\n",
      "[400]\ttrain-mlogloss:0.488264+0.000712651\ttest-mlogloss:0.543924+0.00235677\n",
      "[600]\ttrain-mlogloss:0.451513+0.000902248\ttest-mlogloss:0.529166+0.00230609\n",
      "[800]\ttrain-mlogloss:0.424251+0.000696344\ttest-mlogloss:0.52251+0.00217816\n",
      "[1000]\ttrain-mlogloss:0.401281+0.000692514\ttest-mlogloss:0.518659+0.00206709\n",
      "[1200]\ttrain-mlogloss:0.380412+0.000862049\ttest-mlogloss:0.516107+0.00187526\n",
      "[1400]\ttrain-mlogloss:0.361306+0.000611157\ttest-mlogloss:0.514412+0.0017931\n",
      "[1600]\ttrain-mlogloss:0.343518+0.000660291\ttest-mlogloss:0.513296+0.00175838\n",
      "[1800]\ttrain-mlogloss:0.3269+0.00067361\ttest-mlogloss:0.512436+0.00175134\n",
      "[2000]\ttrain-mlogloss:0.31124+0.000572575\ttest-mlogloss:0.511954+0.00178174\n",
      "[2200]\ttrain-mlogloss:0.296558+0.000678825\ttest-mlogloss:0.511569+0.00176298\n",
      "0.5115074\n",
      "train score:  0.318907893692\n",
      "test score:  0.532676951063\n"
     ]
    }
   ],
   "source": [
    "cols = list(train_X.columns)\n",
    "dtrain = xgb.DMatrix(data=xtr[cols], label=ytr)\n",
    "dtest = xgb.DMatrix(data=xte[cols])\n",
    "\n",
    "bst = xgb.cv(params, dtrain, 10000, NFOLDS, early_stopping_rounds=50, verbose_eval=200)\n",
    "best_rounds = np.argmin(bst['test-mlogloss-mean'])\n",
    "print (bst['test-mlogloss-mean'][best_rounds])\n",
    "\n",
    "bst = xgb.train(params, dtrain, best_rounds)\n",
    "print('train score: ', log_loss(ytr_one_hot, bst.predict(dtrain)))\n",
    "print('test score: ', log_loss(yte_one_hot, bst.predict(dtest)))"
   ]
  },
  {
   "cell_type": "code",
   "execution_count": 14,
   "metadata": {
    "collapsed": true
   },
   "outputs": [],
   "source": [
    "from keras.layers.normalization import BatchNormalization\n",
    "from keras import regularizers\n",
    "from keras.layers.core import ActivityRegularization\n",
    "def create_model(xtr, layer1=256, layer2=32, activation='tanh', activation2=PReLU, dropout=0.75):\n",
    "    model = Sequential()\n",
    "    \n",
    "    model.add(Dense(layer1,\n",
    "                    input_dim=xtr.shape[1],\n",
    "                    init = 'he_normal',\n",
    "                    activation=activation))\n",
    "                    #kernel_regularizer=regularizers.l2(0.01),\n",
    "                    #activity_regularizer=regularizers.activity_l2(0.005)))\n",
    "    #model.add(Dense(64, input_dim=64, W_regularizer=l2(0.01), activity_regularizer=activity_l2(0.01)))\n",
    "    \n",
    "    model.add(BatchNormalization())\n",
    "    model.add(Dropout(dropout))\n",
    "    if activation2 != None:\n",
    "        model.add(activation2())\n",
    "\n",
    "    model.add(Dense(layer2,\n",
    "                    init = 'he_normal',\n",
    "                    activation=activation))\n",
    "                    #activity_regularizer=regularizers.activity_l2(0.005)))\n",
    "    model.add(BatchNormalization())    \n",
    "    model.add(Dropout(dropout))\n",
    "    if activation2 != None:\n",
    "        model.add(activation2())\n",
    "\n",
    "    model.add(Dense(3, init = 'he_normal', activation='softmax'))\n",
    "    model.compile(loss = 'categorical_crossentropy', optimizer = 'adam')\n",
    "    return model"
   ]
  },
  {
   "cell_type": "code",
   "execution_count": 38,
   "metadata": {
    "collapsed": false
   },
   "outputs": [
    {
     "name": "stdout",
     "output_type": "stream",
     "text": [
      "epoch 500: loss = 0.5578148834189532, val = 0.5647433804507231\n",
      "0.564004813656\n",
      "CPU times: user 14min 33s, sys: 46.9 s, total: 15min 20s\n",
      "Wall time: 13min 12s\n"
     ]
    }
   ],
   "source": [
    "%%time\n",
    "filepath = 'data/nn_weights'\n",
    "\n",
    "nn_cols = [score[0] for score in scores if score[1] > 500] #list(train_X.columns)\n",
    "\n",
    "logger = NBatchLogger()\n",
    "early_stop = EarlyStopping(monitor='val_loss', patience=40, verbose=0)\n",
    "checkpoint = ModelCheckpoint(filepath, monitor='val_loss', verbose=0, save_best_only=True)\n",
    "model = create_model(xtr[nn_cols])\n",
    "model.fit(xtr[nn_cols].values, ytr_one_hot, nb_epoch = 1200, batch_size=1000, verbose = 0, validation_data=[xte[nn_cols].values, yte_one_hot], callbacks=[logger, early_stop, checkpoint])\n",
    "\n",
    "model = create_model(xtr[nn_cols])\n",
    "model.load_weights(filepath)\n",
    "nn_preds = model.predict(xte[nn_cols].values)\n",
    "print(log_loss(yte_one_hot, nn_preds))\n",
    "# 0.564223714209 for >200"
   ]
  },
  {
   "cell_type": "code",
   "execution_count": 56,
   "metadata": {
    "collapsed": false
   },
   "outputs": [
    {
     "name": "stdout",
     "output_type": "stream",
     "text": [
      "0.5815231228405486 (test loss 0.18504464808184037)\n",
      "0.5751710887165601 (test loss 0.25724081402264104)\n",
      "0.5702799360850157 (test loss 0.3405002338679113)\n",
      "0.583080803297095 (test loss 0.23871743823738117)\n",
      "0.5788464429357323 (test loss 0.33485320706809557)\n",
      "0.5807555472584812 (test loss 0.4169813891423389)\n",
      "0.5845829569607253 (test loss 0.2524850635713293)\n",
      "0.5817292797474636 (test loss 0.3498321340987434)\n",
      "0.5851231634705742 (test loss 0.4314366287161682)\n",
      "0.5902080556676249 (test loss 0.17651429742933455)\n",
      "0.5722831228907187 (test loss 0.25392857632687477)\n",
      "0.5694844626608567 (test loss 0.34295595343390806)\n",
      "0.5850938463310074 (test loss 0.23480152888926434)\n",
      "0.5788125319577924 (test loss 0.33409853537214124)\n",
      "0.5800836038929759 (test loss 0.41788872400483384)\n",
      "0.58170888525117 (test loss 0.24925969066801218)\n",
      "0.5817410243631246 (test loss 0.34923043660911113)\n",
      "0.5837466365700981 (test loss 0.4325967545730091)\n",
      "0.5820023900968342 (test loss 0.053447501379040856)\n",
      "0.5700327628277739 (test loss 0.14026168262963729)\n",
      "0.5678347515474559 (test loss 0.24743402946038778)\n",
      "0.589852848162631 (test loss 0.10987470492195951)\n",
      "0.5754036466386271 (test loss 0.22945520073697723)\n",
      "0.5767908530140241 (test loss 0.34172511338306233)\n",
      "0.5779117314356834 (test loss 0.12515510759138845)\n",
      "0.5773348935049474 (test loss 0.24899442977580633)\n",
      "0.5785920858059342 (test loss 0.35806443893545575)\n",
      "0.5884228313627821 (test loss 0.04583571440206438)\n",
      "0.5678736752661966 (test loss 0.13890930764204307)\n",
      "0.5682318255221431 (test loss 0.2538209762369021)\n",
      "0.5781577289541135 (test loss 0.1065809052799829)\n",
      "0.5779523657396117 (test loss 0.23171128362260945)\n",
      "0.5781919567168904 (test loss 0.3453116783110557)\n",
      "0.5811997512819173 (test loss 0.12313880181753215)\n",
      "0.5775747284607409 (test loss 0.25189314179396344)\n",
      "0.5796004982743461 (test loss 0.3634622324820428)\n",
      "CPU times: user 9min 26s, sys: 6.92 s, total: 9min 33s\n",
      "Wall time: 27min 12s\n"
     ]
    }
   ],
   "source": [
    "%%time\n",
    "for bootstrap in [True, False]:\n",
    "    for criterion in ['gini', 'entropy']:\n",
    "        for max_features in [None, 'sqrt', 'log2']:\n",
    "            for min_samples_split in [5, 10, 20]:\n",
    "                et_cols = nn_cols\n",
    "\n",
    "                test = ExtraTreesClassifier(\n",
    "                    n_estimators=100,\n",
    "                    criterion=criterion,\n",
    "                    max_features=max_features,\n",
    "                    bootstrap=bootstrap,\n",
    "                    min_samples_split=min_samples_split)\n",
    "\n",
    "                test.fit(xtr[et_cols], ytr)\n",
    "\n",
    "                et_train_predictions = test.predict_proba(xtr[et_cols])\n",
    "                et_predictions = test.predict_proba(xte[et_cols])\n",
    "                print ('{} (test loss {})'.format(log_loss(yte_one_hot, et_predictions), log_loss(ytr_one_hot, et_train_predictions)))\n",
    "                # 0.5678736752661966"
   ]
  },
  {
   "cell_type": "code",
   "execution_count": 57,
   "metadata": {
    "collapsed": false
   },
   "outputs": [
    {
     "name": "stdout",
     "output_type": "stream",
     "text": [
      "0.6032613628794811 (test loss 0.21150656757683198)\n",
      "0.5913706072915192 (test loss 0.27599923182084884)\n",
      "0.5795688503087291 (test loss 0.34783804257890777)\n",
      "0.5737293764169943 (test loss 0.2497283658194284)\n",
      "0.5736945602607224 (test loss 0.32428968568479055)\n",
      "0.5722748744956095 (test loss 0.39693285300432635)\n",
      "0.5748176206928157 (test loss 0.26011177851863704)\n",
      "0.5736646174656743 (test loss 0.33715382533187704)\n",
      "0.5744164920357939 (test loss 0.4080563706366086)\n",
      "0.5855099511096951 (test loss 0.20280901132174672)\n",
      "0.5761201528204519 (test loss 0.27853400408999235)\n",
      "0.5727581275853768 (test loss 0.3553023840509797)\n",
      "0.5686442583377095 (test loss 0.2439635208667789)\n",
      "0.5694618948127168 (test loss 0.32497300506624377)\n",
      "0.5685946133125664 (test loss 0.39855563457181525)\n",
      "0.5734687366518167 (test loss 0.25502484784583507)\n",
      "0.5694310482065686 (test loss 0.3371205599022084)\n",
      "0.5715265275090531 (test loss 0.4090080491122298)\n",
      "7.57895794779057 (test loss 0.11726069748227633)\n",
      "5.646730642606744 (test loss 0.22009825536500915)\n",
      "3.1061104664077424 (test loss 0.32882921422914335)\n",
      "0.5760005264865181 (test loss 0.1283993710350475)\n",
      "0.5673564030050388 (test loss 0.2246312023967788)\n",
      "0.5676901799486513 (test loss 0.3209325193791458)\n",
      "0.5700177130220861 (test loss 0.14044470483165508)\n",
      "0.5681638100190793 (test loss 0.23903989194234862)\n",
      "0.5681038286611658 (test loss 0.333767105508663)\n",
      "7.6845812765088395 (test loss 0.10218518420274346)\n",
      "5.432707057006817 (test loss 0.21840635283288284)\n",
      "3.523595559104854 (test loss 0.32938044086146345)\n",
      "0.5667382017802138 (test loss 0.12480654761287675)\n",
      "0.5652252188414822 (test loss 0.22945219434456693)\n",
      "0.5627383714241226 (test loss 0.32904971267187727)\n",
      "0.574543921200985 (test loss 0.136691189609209)\n",
      "0.565446603829608 (test loss 0.2420502416473185)\n",
      "0.5660546638855714 (test loss 0.34098082979010874)\n",
      "CPU times: user 52min 47s, sys: 7.38 s, total: 52min 54s\n",
      "Wall time: 1h 25min 55s\n"
     ]
    }
   ],
   "source": [
    "%%time\n",
    "for bootstrap in [True, False]:\n",
    "    for criterion in ['gini', 'entropy']:\n",
    "        for max_features in [None, 'sqrt', 'log2']:\n",
    "            for min_samples_split in [10, 20, 40]:\n",
    "                rf_cols = nn_cols\n",
    "\n",
    "                test = RandomForestClassifier(\n",
    "                    n_estimators=100,\n",
    "                    criterion=criterion,\n",
    "                    max_features=max_features,\n",
    "                    bootstrap=bootstrap,\n",
    "                    min_samples_split=min_samples_split)\n",
    "\n",
    "                test.fit(xtr[rf_cols], ytr)\n",
    "\n",
    "                rf_train_predictions = test.predict_proba(xtr[rf_cols])\n",
    "                rf_predictions = test.predict_proba(xte[rf_cols])\n",
    "                print ('{} (test loss {})'.format(log_loss(yte_one_hot, rf_predictions), log_loss(ytr_one_hot, rf_train_predictions)))\n",
    "                # 0.5627383714241226"
   ]
  },
  {
   "cell_type": "code",
   "execution_count": 18,
   "metadata": {
    "collapsed": false
   },
   "outputs": [
    {
     "name": "stdout",
     "output_type": "stream",
     "text": [
      "0.6327628575671347 (test loss 0.6255989023665038)\n",
      "CPU times: user 16min 7s, sys: 2.28 s, total: 16min 10s\n",
      "Wall time: 16min 11s\n"
     ]
    }
   ],
   "source": [
    "%%time\n",
    "knn_features = nn_cols\n",
    "\n",
    "test = KNeighborsClassifier(n_neighbors=500)\n",
    "test.fit(xtr[knn_features], ytr)\n",
    "\n",
    "knn_train_predictions = test.predict_proba(xtr[knn_features])\n",
    "knn_predictions = test.predict_proba(xte[knn_features])\n",
    "print ('{} (test loss {})'.format(log_loss(yte_one_hot, knn_predictions), log_loss(ytr_one_hot, knn_train_predictions)))"
   ]
  },
  {
   "cell_type": "code",
   "execution_count": 19,
   "metadata": {
    "collapsed": false
   },
   "outputs": [],
   "source": [
    "score_map = bst.get_fscore()\n",
    "scores = [(key, score_map[key]) for key in score_map]"
   ]
  },
  {
   "cell_type": "code",
   "execution_count": 20,
   "metadata": {
    "collapsed": false
   },
   "outputs": [
    {
     "data": {
      "text/plain": [
       "[('sparse_onsitegarage', 1),\n",
       " ('sparse_gutrenovated', 1),\n",
       " ('sparse_privateroofdeck', 1),\n",
       " ('sparse_screeningroom', 1),\n",
       " ('sparse_new', 1),\n",
       " ('sparse_roofaccess', 1),\n",
       " ('sparse_videointercom', 1),\n",
       " ('sparse_privatebackyard', 1),\n",
       " ('sparse_parking', 1),\n",
       " ('sparse_wifi', 1),\n",
       " ('sparse_pets', 1),\n",
       " ('sparse_centralac', 1),\n",
       " ('sparse_petsok', 1),\n",
       " ('sparse_2fullbaths', 1),\n",
       " ('sparse_gourmetkitchen', 1),\n",
       " ('sparse_dryerinbuilding', 1),\n",
       " ('sparse_sharesok', 1),\n",
       " ('sparse_satellitetv', 1),\n",
       " ('sparse_largelivingroom', 1),\n",
       " ('sparse_indoorpool', 2),\n",
       " ('sparse_laundryonfloor', 2),\n",
       " ('sparse_skitchen', 2),\n",
       " ('sparse_buildingcommonoutdoorspace', 2),\n",
       " ('sparse_outdoorpool', 2),\n",
       " ('sparse_postwar', 2),\n",
       " ('sparse_flex3', 2),\n",
       " ('sparse_rooftopterrace', 2),\n",
       " ('sparse_live', 2),\n",
       " ('sparse_petsallowed', 2),\n",
       " ('sparse_valet', 3),\n",
       " ('sparse_courtyard', 3),\n",
       " ('sparse_storageroom', 3),\n",
       " ('sparse_petfriendly', 3),\n",
       " ('sparse_drycleaningservice', 3),\n",
       " ('sparse_cable', 3),\n",
       " ('sparse_subway', 3),\n",
       " ('sparse_microwave', 3),\n",
       " ('sparse_fitness', 3),\n",
       " ('sparse_onsitesuper', 3),\n",
       " ('sparse_commonterrace', 3),\n",
       " ('sparse_sauna', 4),\n",
       " ('sparse_virtualdoorman', 5),\n",
       " ('sparse_valetservices', 5),\n",
       " ('sparse_airconditioning', 5),\n",
       " ('sparse_laundry', 5),\n",
       " ('sparse_commonbackyard', 5),\n",
       " ('sparse_marblebath', 5),\n",
       " ('sparse_wheelchairramp', 6),\n",
       " ('sparse_bikeroom', 6),\n",
       " ('sparse_allutilitiesincluded', 6),\n",
       " ('sparse_granitekitchen', 6),\n",
       " ('sparse_sublet', 7),\n",
       " ('sparse_commonroofdeck', 7),\n",
       " ('sparse_nursery', 8),\n",
       " ('sparse_privateparking', 8),\n",
       " ('sparse_outdoorareas', 8),\n",
       " ('sparse_residentslounge', 9),\n",
       " ('sparse_walkincloset', 10),\n",
       " ('sparse_exposedbrick', 10),\n",
       " ('sparse_healthclub', 10),\n",
       " ('sparse_dryer', 10),\n",
       " ('sparse_privateterrace', 10),\n",
       " ('sparse_eatinkitchen', 10),\n",
       " ('sparse_children', 11),\n",
       " ('sparse_washer', 11),\n",
       " ('sparse_laundryroom', 12),\n",
       " ('sparse_onsiteparking', 12),\n",
       " ('sparse_marblebathroom', 13),\n",
       " ('sparse_privatebalcony', 13),\n",
       " ('sparse_luxurybuilding', 13),\n",
       " ('sparse_light', 13),\n",
       " ('sparse_nopets', 14),\n",
       " ('sparse_lndrybldg', 14),\n",
       " ('sparse_pool', 14),\n",
       " ('sparse_lowrise', 14),\n",
       " ('sparse_assignedparkingspace', 15),\n",
       " ('sparse_stainlesssteelappliances', 15),\n",
       " ('sparse_gym', 15),\n",
       " ('sparse_playroom', 16),\n",
       " ('north', 17),\n",
       " ('sparse_publicoutdoor', 20),\n",
       " ('sparse_fulltimedoorman', 20),\n",
       " ('sparse_photos', 20),\n",
       " ('sparse_liveinsuperintendent', 21),\n",
       " ('sparse_greenbuilding', 21),\n",
       " ('sparse_petsonapproval', 22),\n",
       " ('sparse_liveinsuper', 24),\n",
       " ('sparse_renovated', 26),\n",
       " ('sparse_24', 28),\n",
       " ('sparse_washerinunit', 29),\n",
       " ('sparse_shorttermallowed', 30),\n",
       " ('sparse_duplex', 32),\n",
       " ('sparse_granitecountertops', 32),\n",
       " ('sparse_simplex', 34),\n",
       " ('sparse_concierge', 35),\n",
       " ('sparse_loungeroom', 40),\n",
       " ('sparse_centrala', 41),\n",
       " ('sparse_garage', 41),\n",
       " ('sparse_actualapt', 41),\n",
       " ('sparse_highceilings', 41),\n",
       " ('sparse_storage', 44),\n",
       " ('sparse_highceiling', 48),\n",
       " ('sparse_newlyrenovated', 52),\n",
       " ('sparse_hardwood', 64),\n",
       " ('sparse_onsitelaundry', 70),\n",
       " ('sparse_dryerinunit', 72),\n",
       " ('sparse_commonparking', 77),\n",
       " ('sparse_multilevel', 88),\n",
       " ('sparse_fireplace', 91),\n",
       " ('sparse_patio', 124),\n",
       " ('south', 131),\n",
       " ('sparse_wheelchairaccess', 134),\n",
       " ('sparse_parkingspace', 135),\n",
       " ('sparse_reducedfee', 137),\n",
       " ('BoroCode', 148),\n",
       " ('sparse_garden', 162),\n",
       " ('sparse_highspeedinternet', 195),\n",
       " ('sparse_balcony', 197),\n",
       " ('sparse_swimmingpool', 208),\n",
       " ('sparse_outdoorspace', 210),\n",
       " ('sparse_newconstruction', 211),\n",
       " ('sparse_loft', 211),\n",
       " ('sparse_terrace', 228),\n",
       " ('sparse_roofdeck', 230),\n",
       " ('sparse_fitnesscenter', 235),\n",
       " ('sparse_commonoutdoorspace', 237),\n",
       " ('sparse_diningroom', 242),\n",
       " ('worth_by_BoroCode', 247),\n",
       " ('sparse_exclusive', 254),\n",
       " ('west', 287),\n",
       " ('sparse_doorman', 293),\n",
       " ('Month', 296),\n",
       " ('sparse_privateoutdoorspace', 316),\n",
       " ('sparse_elevator', 325),\n",
       " ('other_address', 386),\n",
       " ('sparse_dishwasher', 391),\n",
       " ('east', 403),\n",
       " ('sparse_dogsallowed', 430),\n",
       " ('sparse_prewar', 443),\n",
       " ('Zero_building_id', 448),\n",
       " ('avenue', 449),\n",
       " ('street', 452),\n",
       " ('sparse_furnished', 463),\n",
       " ('sparse_hardwoodfloors', 472),\n",
       " ('sparse_catsallowed', 489),\n",
       " ('sparse_laundryinunit', 508),\n",
       " ('sparse_laundryinbuilding', 651),\n",
       " ('boro_worths', 680),\n",
       " ('bathrooms', 1094),\n",
       " ('sparse_nofee', 1324),\n",
       " ('boro_low_frac', 1364),\n",
       " ('boro_med_frac', 1743),\n",
       " ('bedrooms', 1761),\n",
       " ('boro_high_frac', 1769),\n",
       " ('worth_by_NTACode', 2142),\n",
       " ('Wday', 2641),\n",
       " ('features_count', 2864),\n",
       " ('price_per_bedroom', 2920),\n",
       " ('nta_worths', 3225),\n",
       " ('worth_by_display_address', 3351),\n",
       " ('worth_by_building_id', 3550),\n",
       " ('nta_low_frac', 3592),\n",
       " ('hour', 3664),\n",
       " ('address_worths', 3678),\n",
       " ('building_worths', 3761),\n",
       " ('photos_count', 3852),\n",
       " ('price_by_area', 3944),\n",
       " ('address_high_frac', 4041),\n",
       " ('NTACode', 4044),\n",
       " ('worth_by_manager_id', 4142),\n",
       " ('building_high_frac', 4338),\n",
       " ('building_low_frac', 4445),\n",
       " ('address_low_frac', 4488),\n",
       " ('price_per_bed_and_bath', 4539),\n",
       " ('Yday', 4595),\n",
       " ('nta_high_frac', 4621),\n",
       " ('manager_worths', 4641),\n",
       " ('building_med_frac', 4645),\n",
       " ('Day', 4967),\n",
       " ('nta_med_frac', 5005),\n",
       " ('manager_high_frac', 5063),\n",
       " ('price_by_BoroCode', 5192),\n",
       " ('price_per_bathroom', 5266),\n",
       " ('manager_low_frac', 5324),\n",
       " ('address_med_frac', 5355),\n",
       " ('desc_words_count', 5417),\n",
       " ('price_by_building_id', 5734),\n",
       " ('display_address', 5790),\n",
       " ('manager_med_frac', 5999),\n",
       " ('real_over_expected_price', 6119),\n",
       " ('price_by_display_address', 6362),\n",
       " ('building_id', 6498),\n",
       " ('layer1_pca_1', 6537),\n",
       " ('desc_letters_count', 6556),\n",
       " ('real_minus_expected_price', 6875),\n",
       " ('manager_id', 7327),\n",
       " ('layer1_pca_0', 7573),\n",
       " ('desc_words_length', 7610),\n",
       " ('price_by_manager_id', 7827),\n",
       " ('longitude', 7899),\n",
       " ('layer1_pca_2', 8013),\n",
       " ('latitude', 8269),\n",
       " ('price_by_NTACode', 8787),\n",
       " ('listing_id', 9002),\n",
       " ('bc_price', 9977),\n",
       " ('time_stamp', 10861),\n",
       " ('layer1_ridge_predictions', 11403)]"
      ]
     },
     "execution_count": 20,
     "metadata": {},
     "output_type": "execute_result"
    }
   ],
   "source": [
    "sorted(scores, key=lambda x: x[1])"
   ]
  },
  {
   "cell_type": "code",
   "execution_count": 51,
   "metadata": {
    "collapsed": true
   },
   "outputs": [],
   "source": [
    "test = pd.DataFrame(scores, columns = ['col_name', 'score'])"
   ]
  },
  {
   "cell_type": "code",
   "execution_count": 53,
   "metadata": {
    "collapsed": false
   },
   "outputs": [],
   "source": [
    "test.to_json('data/final/test_col_importances.json', orient='records')"
   ]
  },
  {
   "cell_type": "code",
   "execution_count": 35,
   "metadata": {
    "collapsed": false
   },
   "outputs": [],
   "source": [
    "cols = [score[0] for score in scores if score[1] > 1000]\n",
    "len(cols)"
   ]
  },
  {
   "cell_type": "code",
   "execution_count": 40,
   "metadata": {
    "collapsed": false
   },
   "outputs": [
    {
     "name": "stdout",
     "output_type": "stream",
     "text": [
      "0.6505058468757265 (test loss 0.5858915773597919)\n",
      "CPU times: user 7min 28s, sys: 3.91 s, total: 7min 31s\n",
      "Wall time: 8min 1s\n"
     ]
    }
   ],
   "source": [
    "%%time\n",
    "knn_100 = KNeighborsClassifier(n_neighbors=100)\n",
    "knn_100.fit(xtr[cols], ytr)\n",
    "knn_train_predictions = knn_100.predict_proba(xtr[cols])\n",
    "knn_predictions = knn_100.predict_proba(xte[cols])\n",
    "print ('{} (test loss {})'.format(log_loss(yte_one_hot, knn_predictions), log_loss(ytr_one_hot, knn_train_predictions)))\n",
    "#0.6220178408396022"
   ]
  },
  {
   "cell_type": "code",
   "execution_count": 41,
   "metadata": {
    "collapsed": false
   },
   "outputs": [
    {
     "name": "stdout",
     "output_type": "stream",
     "text": [
      "0.624032300113021 (test loss 0.5974663651769551)\n",
      "CPU times: user 7min 18s, sys: 3.45 s, total: 7min 21s\n",
      "Wall time: 7min 37s\n"
     ]
    }
   ],
   "source": [
    "%%time\n",
    "knn_200 = KNeighborsClassifier(n_neighbors=200)\n",
    "knn_200.fit(xtr[cols], ytr)\n",
    "knn_train_predictions = knn_200.predict_proba(xtr[cols])\n",
    "knn_predictions = knn_200.predict_proba(xte[cols])\n",
    "print ('{} (test loss {})'.format(log_loss(yte_one_hot, knn_predictions), log_loss(ytr_one_hot, knn_train_predictions)))\n",
    "#0.6242524229135699"
   ]
  },
  {
   "cell_type": "code",
   "execution_count": 42,
   "metadata": {
    "collapsed": false
   },
   "outputs": [
    {
     "name": "stdout",
     "output_type": "stream",
     "text": [
      "0.6244890204994673 (test loss 0.6061723799809988)\n",
      "CPU times: user 6min 55s, sys: 1.82 s, total: 6min 57s\n",
      "Wall time: 7min 4s\n"
     ]
    }
   ],
   "source": [
    "%%time\n",
    "knn_400 = KNeighborsClassifier(n_neighbors=400)\n",
    "knn_400.fit(xtr[cols], ytr)\n",
    "knn_train_predictions = knn_400.predict_proba(xtr[cols])\n",
    "knn_predictions = knn_400.predict_proba(xte[cols])\n",
    "print ('{} (test loss {})'.format(log_loss(yte_one_hot, knn_predictions), log_loss(ytr_one_hot, knn_train_predictions)))\n",
    "#0.6242524229135699"
   ]
  },
  {
   "cell_type": "code",
   "execution_count": 43,
   "metadata": {
    "collapsed": false
   },
   "outputs": [
    {
     "name": "stdout",
     "output_type": "stream",
     "text": [
      "0.6272638903393175 (test loss 0.6145440084644814)\n",
      "CPU times: user 6min 57s, sys: 1.68 s, total: 6min 59s\n",
      "Wall time: 6min 59s\n"
     ]
    }
   ],
   "source": [
    "%%time\n",
    "knn_800 = KNeighborsClassifier(n_neighbors=800)\n",
    "knn_800.fit(xtr[cols], ytr)\n",
    "knn_train_predictions = knn_800.predict_proba(xtr[cols])\n",
    "knn_predictions = knn_800.predict_proba(xte[cols])\n",
    "print ('{} (test loss {})'.format(log_loss(yte_one_hot, knn_predictions), log_loss(ytr_one_hot, knn_train_predictions)))\n",
    "#0.6242524229135699"
   ]
  },
  {
   "cell_type": "code",
   "execution_count": null,
   "metadata": {
    "collapsed": true
   },
   "outputs": [],
   "source": []
  },
  {
   "cell_type": "code",
   "execution_count": null,
   "metadata": {
    "collapsed": true
   },
   "outputs": [],
   "source": []
  },
  {
   "cell_type": "code",
   "execution_count": null,
   "metadata": {
    "collapsed": true
   },
   "outputs": [],
   "source": []
  },
  {
   "cell_type": "code",
   "execution_count": null,
   "metadata": {
    "collapsed": true
   },
   "outputs": [],
   "source": []
  }
 ],
 "metadata": {
  "kernelspec": {
   "display_name": "Python 3",
   "language": "python",
   "name": "python3"
  },
  "language_info": {
   "codemirror_mode": {
    "name": "ipython",
    "version": 3
   },
   "file_extension": ".py",
   "mimetype": "text/x-python",
   "name": "python",
   "nbconvert_exporter": "python",
   "pygments_lexer": "ipython3",
   "version": "3.5.3"
  }
 },
 "nbformat": 4,
 "nbformat_minor": 2
}
