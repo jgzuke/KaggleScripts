{
 "cells": [
  {
   "cell_type": "code",
   "execution_count": 1,
   "metadata": {
    "collapsed": true
   },
   "outputs": [],
   "source": [
    "%matplotlib inline\n",
    "import pandas as pd\n",
    "import numpy as np\n",
    "from scipy.stats import norm\n",
    "from scipy.stats import beta\n",
    "from scipy.stats import chi2\n",
    "from scipy.stats import gamma\n",
    "from scipy.stats import triang"
   ]
  },
  {
   "cell_type": "code",
   "execution_count": 2,
   "metadata": {
    "collapsed": false
   },
   "outputs": [],
   "source": [
    "types = ['ball', 'bike', 'blocks', 'book', 'coal', 'doll', 'gloves', 'horse', 'train']\n",
    "num_types = len(types)\n",
    "key_to_item = dict((key, index) for key, index in zip(types, range(len(types))))\n",
    "step = 0.1"
   ]
  },
  {
   "cell_type": "code",
   "execution_count": 3,
   "metadata": {
    "collapsed": false
   },
   "outputs": [],
   "source": [
    "def normal(x, mu, sigma):\n",
    "    if x > 0:\n",
    "        return norm.pdf(x, mu, sigma)\n",
    "    return norm.cdf(0, mu, sigma)\n",
    "\n",
    "weight_gen_map = {\n",
    "    'horse': lambda: max(0, np.random.normal(5,2,1)[0]),\n",
    "    'ball': lambda: max(0, 1 + np.random.normal(1,0.3,1)[0]),\n",
    "    'bike': lambda: max(0, np.random.normal(20,10,1)[0]),\n",
    "    'train': lambda: max(0, np.random.normal(10,5,1)[0]),\n",
    "    'coal': lambda: 47 * np.random.beta(0.5,0.5,1)[0],\n",
    "    'book': lambda: np.random.chisquare(2,1)[0],\n",
    "    'doll': lambda: np.random.gamma(5,1,1)[0],\n",
    "    'blocks': lambda: np.random.triangular(5,10,20,1)[0],\n",
    "    'gloves': lambda: 3.0 + np.random.rand(1)[0] if np.random.rand(1) < 0.3 else np.random.rand(1)[0]\n",
    "}\n",
    "\n",
    "distribution_map = {\n",
    "    'horse': lambda x: normal(x, *(5, 2)),\n",
    "    'ball': lambda x: normal(x - 1, *(2, 0.3)),\n",
    "    'bike': lambda x: normal(x, *(20,10)),\n",
    "    'train': lambda x: normal(x, *(10,5)),\n",
    "    'coal': lambda x: beta.pdf(x / 47 , 0.5, 0.5),\n",
    "    'book': lambda x: chi2.pdf(x, 2),\n",
    "    'doll': lambda x: (x**4) * np.exp(-x) / 25,\n",
    "    'blocks': lambda x: triang.pdf(x, c = 1.0/3, loc = 5, scale = 15),\n",
    "    'gloves': lambda x: 0.7 if (0 < x and x < 1) else 0.3 if (3 < x and x < 4) else 0\n",
    "}"
   ]
  },
  {
   "cell_type": "code",
   "execution_count": 4,
   "metadata": {
    "collapsed": false
   },
   "outputs": [],
   "source": [
    "def save_expected_weights():\n",
    "    expected_weight_list = [list(key) + [expected_weight_map[key]] for key in expected_weight_map]\n",
    "    pd.DataFrame(expected_weight_list).to_csv('data/expected_weights', index=False)\n",
    "\n",
    "def load_expected_weights():\n",
    "    expected_weight_list = pd.read_csv('data/expected_weights')\n",
    "    return dict([(tuple(int(val) for val in row[:9]), row[9]) for row in expected_weight_list.values])"
   ]
  },
  {
   "cell_type": "code",
   "execution_count": 5,
   "metadata": {
    "collapsed": false
   },
   "outputs": [],
   "source": [
    "def bag_to_key(bag):\n",
    "    return tuple(bag)\n",
    "\n",
    "def item_to_key(item):\n",
    "    return tuple(1 if item == i else 0 for i in range(num_types))\n",
    "\n",
    "def item_to_full_item(item):\n",
    "    item_full = np.zeros((num_types,), dtype=np.int)\n",
    "    item_full[item] += 1\n",
    "    return item_full"
   ]
  },
  {
   "cell_type": "code",
   "execution_count": 6,
   "metadata": {
    "collapsed": false
   },
   "outputs": [],
   "source": [
    "def get_expected(bag):\n",
    "    key = bag_to_key(bag)\n",
    "    if key in expected_weight_map:\n",
    "        return expected_weight_map[key]\n",
    "    expected_weight = sum(prob * weight for prob, weight in zip(weight_map[key], weight_slices))\n",
    "    expected_weight_map[key] = expected_weight\n",
    "    return expected_weight\n",
    "\n",
    "def get_chance_too_full(bag):\n",
    "    key = bag_to_key(bag)\n",
    "    if key in chance_too_full_map:\n",
    "        return chance_too_full_map[key]\n",
    "    chance_too_full = sum(weight_map[key])\n",
    "    chance_too_full_map[key] = chance_too_full\n",
    "    return 1 - chance_too_full\n",
    "\n",
    "def calculate_combined_distribution(old_bag, item):\n",
    "    bag = old_bag.copy()\n",
    "    bag[item] += 1\n",
    "    key = bag_to_key(bag)\n",
    "    # already caculated\n",
    "    if key in weight_map:\n",
    "        return None\n",
    "    \n",
    "    distribution = np.zeros((500,), dtype=np.float)\n",
    "    d1 = weight_map[bag_to_key(old_bag)]\n",
    "    d2 = weight_array_singles[item]\n",
    "    for p1, w1 in zip(d1, weight_indices):\n",
    "        for p2, w2 in zip(d2, weight_indices):\n",
    "            new_weight = w1 + w2\n",
    "            if new_weight < 500:\n",
    "                distribution[new_weight] += (p1 * p2)\n",
    "    weight_map[key] = distribution\n",
    "    return bag"
   ]
  },
  {
   "cell_type": "markdown",
   "metadata": {},
   "source": [
    "# TODOS\n",
    "- make fill_bags faster by \n",
    "    - add method to give chance of going over\n",
    "    - for all values with a certain chance of going over add it plus given item to expected_map\n",
    "- try increasing variance by increasing expected value if high chance of going over (multiply expected by (1/chance_under)^(0.5))\n",
    "- iteratively try different subset swaps\n",
    "- actually submit"
   ]
  },
  {
   "cell_type": "code",
   "execution_count": 7,
   "metadata": {
    "collapsed": false
   },
   "outputs": [],
   "source": [
    "# use this to populate map with combinations\n",
    "# TODO make this faster and lower trial area\n",
    "def hydrate_map(iterations=10):\n",
    "    last_bags = [np.array([0, 0, 0, 0, 0, 0, 0, 0, 0])]\n",
    "    new_bags = []\n",
    "    for i in range(iterations):\n",
    "        for bag in last_bags:\n",
    "            expected = get_expected(bag)\n",
    "            for j in range(num_types):\n",
    "                new_bag = calculate_combined_distribution(bag, j)\n",
    "                if new_bag != None and get_expected(new_bag) > expected:\n",
    "                    new_bags.append(new_bag)\n",
    "        last_bags = new_bags\n",
    "        new_bags = []"
   ]
  },
  {
   "cell_type": "code",
   "execution_count": 8,
   "metadata": {
    "collapsed": true
   },
   "outputs": [],
   "source": [
    "weight_map = {tuple([0] * num_types): np.zeros((500,), dtype=np.float)}\n",
    "weight_map[tuple([0] * num_types)][0] = 1\n",
    "expected_weight_map = {tuple([0] * num_types): 0}\n",
    "chance_too_full_map = {tuple([0] * num_types): 0}\n",
    "\n",
    "weight_slices = np.arange(step / 2, 50, step)\n",
    "weight_indices = list(range(500))\n",
    "weight_array_singles = [np.array([step * distribution_map[key](weight) for weight in weight_slices]) for key in types]"
   ]
  },
  {
   "cell_type": "code",
   "execution_count": null,
   "metadata": {
    "collapsed": true
   },
   "outputs": [],
   "source": [
    "# Normalize to make prop 1 by dividing by get_chance_too_full\n",
    "\n",
    "weight_slices = np.arange(step / 2, 50, step)\n",
    "weight_indices = list(range(500))\n",
    "weight_array_singles = [np.array([step * distribution_map[key](weight) for weight in weight_slices]) for key in types]"
   ]
  },
  {
   "cell_type": "code",
   "execution_count": 53,
   "metadata": {
    "collapsed": false
   },
   "outputs": [
    {
     "name": "stderr",
     "output_type": "stream",
     "text": [
      "/Users/jgzuke/anaconda3/lib/python3.5/site-packages/ipykernel/__main__.py:11: FutureWarning: comparison to `None` will result in an elementwise object comparison in the future.\n"
     ]
    },
    {
     "name": "stdout",
     "output_type": "stream",
     "text": [
      "220\n",
      "CPU times: user 17.7 s, sys: 44.3 ms, total: 17.7 s\n",
      "Wall time: 18.1 s\n"
     ]
    }
   ],
   "source": [
    "%%time\n",
    "hydrate_map(3)\n",
    "print (len(weight_map))"
   ]
  },
  {
   "cell_type": "code",
   "execution_count": 55,
   "metadata": {
    "collapsed": false
   },
   "outputs": [
    {
     "name": "stderr",
     "output_type": "stream",
     "text": [
      "/Users/jgzuke/anaconda3/lib/python3.5/site-packages/ipykernel/__main__.py:11: FutureWarning: comparison to `None` will result in an elementwise object comparison in the future.\n"
     ]
    },
    {
     "name": "stdout",
     "output_type": "stream",
     "text": [
      "1891\n",
      "CPU times: user 2min 31s, sys: 883 ms, total: 2min 32s\n",
      "Wall time: 2min 36s\n"
     ]
    }
   ],
   "source": [
    "%%time\n",
    "hydrate_map(5)\n",
    "print (len(weight_map))"
   ]
  },
  {
   "cell_type": "code",
   "execution_count": null,
   "metadata": {
    "collapsed": false
   },
   "outputs": [
    {
     "name": "stderr",
     "output_type": "stream",
     "text": [
      "/Users/jgzuke/anaconda3/lib/python3.5/site-packages/ipykernel/__main__.py:11: FutureWarning: comparison to `None` will result in an elementwise object comparison in the future.\n"
     ]
    }
   ],
   "source": [
    "%%time\n",
    "hydrate_map(50)\n",
    "print (len(weight_map))"
   ]
  },
  {
   "cell_type": "code",
   "execution_count": 19,
   "metadata": {
    "collapsed": false
   },
   "outputs": [],
   "source": [
    "def normalize(key, usefulness):\n",
    "    return expected_weight_map[key] - sum(float(item) * factor for item, factor in zip(key, usefulness))\n",
    "\n",
    "def accumulate(rows):\n",
    "    counts = np.array([0] * num_types)\n",
    "    score = 0\n",
    "    for row in rows:\n",
    "        counts += np.array(row[0])\n",
    "        score += row[1]\n",
    "    print (len(rows))\n",
    "    print (counts)\n",
    "    print (np.array([1100, 500, 1000, 1200, 166, 1000, 200, 1000, 1000]) - counts)\n",
    "    print (score)"
   ]
  },
  {
   "cell_type": "code",
   "execution_count": 20,
   "metadata": {
    "collapsed": true
   },
   "outputs": [],
   "source": [
    "# add normally as same in test_usefullness\n",
    "# iteratively\n",
    "    # remove some subset of elements and add in other possible combinations"
   ]
  },
  {
   "cell_type": "code",
   "execution_count": 182,
   "metadata": {
    "collapsed": false
   },
   "outputs": [],
   "source": [
    "def test_usefullness(usefulness):\n",
    "    sorted_normalized = sorted(expected_weight_map, key=lambda key: normalize(key, usefulness) )\n",
    "    sorted_normalized.reverse()\n",
    "\n",
    "    items_left = np.array([1100, 500, 1000, 1200, 166, 1000, 200, 1000, 1000])\n",
    "    score = 0\n",
    "    items = 0\n",
    "    bag_counts = []\n",
    "    for row in sorted_normalized:\n",
    "        num_of_item = 0\n",
    "        while items < 1000 and sum(item < 0 for item in (items_left - np.array(row))) == 0:\n",
    "            items_left -= np.array(row)\n",
    "            score += expected_weight_map[row]\n",
    "            items += 1\n",
    "            num_of_item += 1\n",
    "        \n",
    "        if num_of_item > 0:\n",
    "            #bag_counts.append((num_of_item, (row, expected_weight_map[row])))\n",
    "            bag_counts.append((num_of_item, row))\n",
    "        \n",
    "        if items == 1000:\n",
    "            break\n",
    "\n",
    "    return (score, bag_counts)"
   ]
  },
  {
   "cell_type": "code",
   "execution_count": 36,
   "metadata": {
    "collapsed": false
   },
   "outputs": [
    {
     "name": "stdout",
     "output_type": "stream",
     "text": [
      "[0.6, -1.7, 1.4000000000000001, 1.45, -0.7, -0.15, -0.7, 0.55, -0.5]\n",
      "32208.5902146\n"
     ]
    },
    {
     "ename": "KeyboardInterrupt",
     "evalue": "",
     "output_type": "error",
     "traceback": [
      "\u001b[0;31m-------------------------------------------------------\u001b[0m",
      "\u001b[0;31mKeyboardInterrupt\u001b[0m     Traceback (most recent call last)",
      "\u001b[0;32m<ipython-input-36-18eb5ecfe2c2>\u001b[0m in \u001b[0;36m<module>\u001b[0;34m()\u001b[0m\n\u001b[1;32m     12\u001b[0m                     \u001b[0musefulness\u001b[0m\u001b[0;34m[\u001b[0m\u001b[0mj\u001b[0m\u001b[0;34m]\u001b[0m \u001b[0;34m+=\u001b[0m \u001b[0mjitter1\u001b[0m\u001b[0;34m\u001b[0m\u001b[0m\n\u001b[1;32m     13\u001b[0m                     \u001b[0musefulness\u001b[0m\u001b[0;34m[\u001b[0m\u001b[0mk\u001b[0m\u001b[0;34m]\u001b[0m \u001b[0;34m+=\u001b[0m \u001b[0mjitter2\u001b[0m\u001b[0;34m\u001b[0m\u001b[0m\n\u001b[0;32m---> 14\u001b[0;31m                     \u001b[0mscore\u001b[0m\u001b[0;34m,\u001b[0m \u001b[0mbag_counts\u001b[0m \u001b[0;34m=\u001b[0m \u001b[0mtest_usefullness\u001b[0m\u001b[0;34m(\u001b[0m\u001b[0musefulness\u001b[0m\u001b[0;34m)\u001b[0m\u001b[0;34m\u001b[0m\u001b[0m\n\u001b[0m\u001b[1;32m     15\u001b[0m                     \u001b[0;32mif\u001b[0m \u001b[0mscore\u001b[0m \u001b[0;34m>\u001b[0m \u001b[0mbest_score\u001b[0m\u001b[0;34m:\u001b[0m\u001b[0;34m\u001b[0m\u001b[0m\n\u001b[1;32m     16\u001b[0m                         \u001b[0mbest_score\u001b[0m \u001b[0;34m=\u001b[0m \u001b[0mscore\u001b[0m\u001b[0;34m\u001b[0m\u001b[0m\n",
      "\u001b[0;32m<ipython-input-28-9d9308042435>\u001b[0m in \u001b[0;36mtest_usefullness\u001b[0;34m(usefulness)\u001b[0m\n\u001b[1;32m      9\u001b[0m     \u001b[0;32mfor\u001b[0m \u001b[0mrow\u001b[0m \u001b[0;32min\u001b[0m \u001b[0msorted_normalized\u001b[0m\u001b[0;34m:\u001b[0m\u001b[0;34m\u001b[0m\u001b[0m\n\u001b[1;32m     10\u001b[0m         \u001b[0mnum_of_item\u001b[0m \u001b[0;34m=\u001b[0m \u001b[0;36m0\u001b[0m\u001b[0;34m\u001b[0m\u001b[0m\n\u001b[0;32m---> 11\u001b[0;31m         \u001b[0;32mwhile\u001b[0m \u001b[0mitems\u001b[0m \u001b[0;34m<\u001b[0m \u001b[0;36m1000\u001b[0m \u001b[0;32mand\u001b[0m \u001b[0msum\u001b[0m\u001b[0;34m(\u001b[0m\u001b[0mitem\u001b[0m \u001b[0;34m<\u001b[0m \u001b[0;36m0\u001b[0m \u001b[0;32mfor\u001b[0m \u001b[0mitem\u001b[0m \u001b[0;32min\u001b[0m \u001b[0;34m(\u001b[0m\u001b[0mitems_left\u001b[0m \u001b[0;34m-\u001b[0m \u001b[0mnp\u001b[0m\u001b[0;34m.\u001b[0m\u001b[0marray\u001b[0m\u001b[0;34m(\u001b[0m\u001b[0mrow\u001b[0m\u001b[0;34m)\u001b[0m\u001b[0;34m)\u001b[0m\u001b[0;34m)\u001b[0m \u001b[0;34m==\u001b[0m \u001b[0;36m0\u001b[0m\u001b[0;34m:\u001b[0m\u001b[0;34m\u001b[0m\u001b[0m\n\u001b[0m\u001b[1;32m     12\u001b[0m             \u001b[0mitems_left\u001b[0m \u001b[0;34m-=\u001b[0m \u001b[0mnp\u001b[0m\u001b[0;34m.\u001b[0m\u001b[0marray\u001b[0m\u001b[0;34m(\u001b[0m\u001b[0mrow\u001b[0m\u001b[0;34m)\u001b[0m\u001b[0;34m\u001b[0m\u001b[0m\n\u001b[1;32m     13\u001b[0m             \u001b[0mscore\u001b[0m \u001b[0;34m+=\u001b[0m \u001b[0mexpected_weight_map\u001b[0m\u001b[0;34m[\u001b[0m\u001b[0mrow\u001b[0m\u001b[0;34m]\u001b[0m\u001b[0;34m\u001b[0m\u001b[0m\n",
      "\u001b[0;32m<ipython-input-28-9d9308042435>\u001b[0m in \u001b[0;36m<genexpr>\u001b[0;34m(.0)\u001b[0m\n\u001b[1;32m      9\u001b[0m     \u001b[0;32mfor\u001b[0m \u001b[0mrow\u001b[0m \u001b[0;32min\u001b[0m \u001b[0msorted_normalized\u001b[0m\u001b[0;34m:\u001b[0m\u001b[0;34m\u001b[0m\u001b[0m\n\u001b[1;32m     10\u001b[0m         \u001b[0mnum_of_item\u001b[0m \u001b[0;34m=\u001b[0m \u001b[0;36m0\u001b[0m\u001b[0;34m\u001b[0m\u001b[0m\n\u001b[0;32m---> 11\u001b[0;31m         \u001b[0;32mwhile\u001b[0m \u001b[0mitems\u001b[0m \u001b[0;34m<\u001b[0m \u001b[0;36m1000\u001b[0m \u001b[0;32mand\u001b[0m \u001b[0msum\u001b[0m\u001b[0;34m(\u001b[0m\u001b[0mitem\u001b[0m \u001b[0;34m<\u001b[0m \u001b[0;36m0\u001b[0m \u001b[0;32mfor\u001b[0m \u001b[0mitem\u001b[0m \u001b[0;32min\u001b[0m \u001b[0;34m(\u001b[0m\u001b[0mitems_left\u001b[0m \u001b[0;34m-\u001b[0m \u001b[0mnp\u001b[0m\u001b[0;34m.\u001b[0m\u001b[0marray\u001b[0m\u001b[0;34m(\u001b[0m\u001b[0mrow\u001b[0m\u001b[0;34m)\u001b[0m\u001b[0;34m)\u001b[0m\u001b[0;34m)\u001b[0m \u001b[0;34m==\u001b[0m \u001b[0;36m0\u001b[0m\u001b[0;34m:\u001b[0m\u001b[0;34m\u001b[0m\u001b[0m\n\u001b[0m\u001b[1;32m     12\u001b[0m             \u001b[0mitems_left\u001b[0m \u001b[0;34m-=\u001b[0m \u001b[0mnp\u001b[0m\u001b[0;34m.\u001b[0m\u001b[0marray\u001b[0m\u001b[0;34m(\u001b[0m\u001b[0mrow\u001b[0m\u001b[0;34m)\u001b[0m\u001b[0;34m\u001b[0m\u001b[0m\n\u001b[1;32m     13\u001b[0m             \u001b[0mscore\u001b[0m \u001b[0;34m+=\u001b[0m \u001b[0mexpected_weight_map\u001b[0m\u001b[0;34m[\u001b[0m\u001b[0mrow\u001b[0m\u001b[0;34m]\u001b[0m\u001b[0;34m\u001b[0m\u001b[0m\n",
      "\u001b[0;31mKeyboardInterrupt\u001b[0m: "
     ]
    }
   ],
   "source": [
    "usefulness_base = [0.6, -1.7, 1.4, 1.45, -0.7, -0.15, -0.7, 0.55, -0.5]\n",
    "jitters = [0, -0.05, 0.05, 0.1, -0.1]\n",
    "\n",
    "for i in range(4):\n",
    "    best_usefulness = None\n",
    "    best_score = 0\n",
    "    for j in range(len(usefulness_base)):\n",
    "        for k in range(j, len(usefulness_base)):\n",
    "            for jitter1 in jitters:\n",
    "                for jitter2 in jitters:\n",
    "                    usefulness = usefulness_base.copy()\n",
    "                    usefulness[j] += jitter1\n",
    "                    usefulness[k] += jitter2\n",
    "                    score, bag_counts = test_usefullness(usefulness)\n",
    "                    if score > best_score:\n",
    "                        best_score = score\n",
    "                        best_usefulness = usefulness\n",
    "\n",
    "    print (best_usefulness)\n",
    "    print (best_score)\n",
    "    usefulness_base = best_usefulness"
   ]
  },
  {
   "cell_type": "code",
   "execution_count": 138,
   "metadata": {
    "collapsed": true
   },
   "outputs": [],
   "source": [
    "def score_bag(bag_counts):\n",
    "    assert (sum(count for count, bag in bag_counts) == 1000)\n",
    "    score_sum = 0\n",
    "    for count, bag in bag_counts:\n",
    "        for i in range(count):\n",
    "            weight = sum(weight_gen_map[item_type]() for item_type, item_num in zip(types, bag) for j in range(item_num))\n",
    "            if weight > 50:\n",
    "                continue\n",
    "            score_sum += weight\n",
    "    return score_sum"
   ]
  },
  {
   "cell_type": "code",
   "execution_count": 139,
   "metadata": {
    "collapsed": false
   },
   "outputs": [
    {
     "name": "stdout",
     "output_type": "stream",
     "text": [
      "31786.4814366\n",
      "32191.9035177\n"
     ]
    }
   ],
   "source": [
    "score, bag_counts = test_usefullness([0.5, -1.7, 1.3, 1.45, -0.7, -0.15, -0.7, 0.55, -0.5])\n",
    "print (max(score_bag(bag_counts) for i in range(10)))\n",
    "print (score)"
   ]
  },
  {
   "cell_type": "code",
   "execution_count": null,
   "metadata": {
    "collapsed": true
   },
   "outputs": [],
   "source": []
  },
  {
   "cell_type": "code",
   "execution_count": 140,
   "metadata": {
    "collapsed": false
   },
   "outputs": [
    {
     "data": {
      "text/plain": [
       "[(200, (3, 0, 2, 6, 0, 0, 0, 0, 0)),\n",
       " (21, (23, 0, 0, 0, 0, 0, 0, 0, 0)),\n",
       " (8, (2, 0, 3, 0, 0, 0, 0, 0, 0)),\n",
       " (192, (0, 0, 3, 0, 0, 1, 0, 0, 0)),\n",
       " (269, (0, 1, 0, 0, 0, 3, 0, 0, 0)),\n",
       " (115, (0, 2, 0, 0, 0, 0, 0, 0, 0)),\n",
       " (1, (1, 1, 0, 0, 0, 1, 0, 0, 0)),\n",
       " (166, (0, 0, 0, 0, 1, 0, 0, 0, 0)),\n",
       " (28, (0, 0, 0, 0, 0, 0, 0, 0, 1))]"
      ]
     },
     "execution_count": 140,
     "metadata": {},
     "output_type": "execute_result"
    }
   ],
   "source": [
    "bag_counts"
   ]
  },
  {
   "cell_type": "code",
   "execution_count": 185,
   "metadata": {
    "collapsed": false
   },
   "outputs": [],
   "source": [
    "usefulness = [0.6, -1.7, 1.4, 1.45, -0.7, -0.15, -0.7, 0.55, -0.5]\n",
    "sorted_normalized = sorted(expected_weight_map, key=lambda key: normalize(key, usefulness) )\n",
    "sorted_normalized.reverse()"
   ]
  },
  {
   "cell_type": "code",
   "execution_count": 188,
   "metadata": {
    "collapsed": true
   },
   "outputs": [],
   "source": [
    "sorted_normalized = sorted(expected_weight_map, key=lambda key: expected_weight_map[key])\n",
    "sorted_normalized.reverse()"
   ]
  },
  {
   "cell_type": "code",
   "execution_count": 189,
   "metadata": {
    "collapsed": false
   },
   "outputs": [
    {
     "data": {
      "text/plain": [
       "[((11, 0, 0, 0, 1, 1, 0, 0, 0), nan),\n",
       " ((2, 0, 0, 10, 0, 0, 0, 0, 1), 53.338088232424653),\n",
       " ((0, 0, 0, 11, 0, 2, 0, 1, 0), 53.20608199314939),\n",
       " ((5, 0, 0, 1, 0, 0, 0, 1, 2), 34.58874623790323),\n",
       " ((7, 0, 1, 1, 0, 0, 2, 2, 0), 21.123966234117738),\n",
       " ((3, 0, 0, 6, 1, 0, 0, 1, 1), nan),\n",
       " ((1, 0, 0, 9, 0, 2, 1, 2, 0), 39.354008523834658),\n",
       " ((0, 0, 0, 14, 1, 1, 5, 0, 0), nan),\n",
       " ((1, 0, 1, 1, 1, 0, 4, 3, 0), nan),\n",
       " ((3, 0, 1, 0, 1, 0, 2, 1, 1), nan),\n",
       " ((0, 1, 0, 0, 1, 3, 0, 0, 0), nan),\n",
       " ((1, 0, 0, 3, 1, 5, 0, 0, 0), nan),\n",
       " ((3, 0, 0, 14, 1, 0, 4, 0, 0), nan),\n",
       " ((7, 0, 0, 11, 0, 0, 0, 1, 0), 52.064875814323784),\n",
       " ((3, 0, 0, 8, 0, 1, 0, 0, 1), 48.379097720237169),\n",
       " ((1, 0, 2, 1, 0, 2, 0, 0, 0), 35.674275303204212),\n",
       " ((0, 0, 1, 0, 0, 1, 0, 3, 0), 29.944803409912744),\n",
       " ((3, 0, 0, 4, 0, 1, 2, 3, 0), 27.166941293789307),\n",
       " ((1, 0, 0, 1, 0, 3, 1, 4, 0), 27.013106547395317),\n",
       " ((2, 0, 1, 3, 0, 3, 0, 0, 1), 25.863402203273761)]"
      ]
     },
     "execution_count": 189,
     "metadata": {},
     "output_type": "execute_result"
    }
   ],
   "source": [
    "[(a, expected_weight_map[a]) for a in sorted_normalized][:20]"
   ]
  },
  {
   "cell_type": "code",
   "execution_count": 175,
   "metadata": {
    "collapsed": false
   },
   "outputs": [
    {
     "data": {
      "text/plain": [
       "47.48061178056939"
      ]
     },
     "execution_count": 175,
     "metadata": {},
     "output_type": "execute_result"
    }
   ],
   "source": [
    "get_expected((2, 0, 1, 7, 0, 0, 0, 0, 1))"
   ]
  },
  {
   "cell_type": "code",
   "execution_count": 173,
   "metadata": {
    "collapsed": false
   },
   "outputs": [
    {
     "data": {
      "text/plain": [
       "array([  0.00000000e+00,   0.00000000e+00,   0.00000000e+00,\n",
       "         0.00000000e+00,   0.00000000e+00,   0.00000000e+00,\n",
       "         0.00000000e+00,   0.00000000e+00,   0.00000000e+00,\n",
       "         0.00000000e+00,   0.00000000e+00,   0.00000000e+00,\n",
       "         0.00000000e+00,   0.00000000e+00,   0.00000000e+00,\n",
       "         0.00000000e+00,   0.00000000e+00,   0.00000000e+00,\n",
       "         0.00000000e+00,   0.00000000e+00,   0.00000000e+00,\n",
       "         0.00000000e+00,   0.00000000e+00,   0.00000000e+00,\n",
       "         0.00000000e+00,   0.00000000e+00,   3.32337005e-37,\n",
       "         3.90577832e-36,   2.48449688e-35,   1.13386006e-34,\n",
       "         4.15552727e-34,   1.29883834e-33,   4.62069359e-33,\n",
       "         6.50493562e-32,   1.83019076e-30,   3.93730541e-29,\n",
       "         5.97292817e-28,   6.54549203e-27,   5.36588954e-26,\n",
       "         3.41604448e-25,   1.75423463e-24,   7.62020873e-24,\n",
       "         3.17537428e-23,   1.88566648e-22,   2.08828122e-21,\n",
       "         2.79386546e-20,   3.35804555e-19,   3.40717011e-18,\n",
       "         2.90446140e-17,   2.09287771e-16,   1.28590135e-15,\n",
       "         6.80312297e-15,   3.13168346e-14,   1.26796339e-13,\n",
       "         4.56485096e-13,   1.47705251e-12,   4.34007071e-12,\n",
       "         1.16937096e-11,   2.91520525e-11,   6.77963110e-11,\n",
       "         1.48171628e-10,   3.06337388e-10,   6.02611460e-10,\n",
       "         1.13371473e-09,   2.04906845e-09,   3.57202159e-09,\n",
       "         6.02678880e-09,   9.87186170e-09,   1.57406197e-08,\n",
       "         2.44898132e-08,   3.72565241e-08,   5.55241298e-08,\n",
       "         8.11977096e-08,   1.16689239e-07,   1.65012821e-07,\n",
       "         2.29890107e-07,   3.15865960e-07,   4.28434318e-07,\n",
       "         5.74174114e-07,   7.60894997e-07,   9.97792478e-07,\n",
       "         1.29561197e-06,   1.66682104e-06,   2.12578896e-06,\n",
       "         2.68897252e-06,   3.37510677e-06,   4.20539931e-06,\n",
       "         5.20372640e-06,   6.39682924e-06,   7.81450855e-06,\n",
       "         9.48981547e-06,   1.14592370e-05,   1.37628737e-05,\n",
       "         1.64446086e-05,   1.95522640e-05,   2.31377461e-05,\n",
       "         2.72571747e-05,   3.19709966e-05,   3.73440820e-05,\n",
       "         4.34458015e-05,   5.03500834e-05,   5.81354501e-05,\n",
       "         6.68850323e-05,   7.66865612e-05,   8.76323367e-05,\n",
       "         9.98191720e-05,   1.13348314e-04,   1.28325340e-04,\n",
       "         1.44860026e-04,   1.63066194e-04,   1.83061535e-04,\n",
       "         2.04967397e-04,   2.28908563e-04,   2.55012990e-04,\n",
       "         2.83411531e-04,   3.14237629e-04,   3.47626986e-04,\n",
       "         3.83717215e-04,   4.22647454e-04,   4.64557971e-04,\n",
       "         5.09589738e-04,   5.57883988e-04,   6.09581748e-04,\n",
       "         6.64823350e-04,   7.23747931e-04,   7.86492904e-04,\n",
       "         8.53193423e-04,   9.23981823e-04,   9.98987055e-04,\n",
       "         1.07833410e-03,   1.16214339e-03,   1.25053020e-03,\n",
       "         1.34360401e-03,   1.44146798e-03,   1.54421826e-03,\n",
       "         1.65194339e-03,   1.76472374e-03,   1.88263088e-03,\n",
       "         2.00572699e-03,   2.13406428e-03,   2.26768445e-03,\n",
       "         2.40661814e-03,   2.55088443e-03,   2.70049032e-03,\n",
       "         2.85543026e-03,   3.01568579e-03,   3.18122506e-03,\n",
       "         3.35200254e-03,   3.52795866e-03,   3.70901956e-03,\n",
       "         3.89509687e-03,   4.08608752e-03,   4.28187362e-03,\n",
       "         4.48232239e-03,   4.68728610e-03,   4.89660218e-03,\n",
       "         5.11009324e-03,   5.32756725e-03,   5.54881774e-03,\n",
       "         5.77362403e-03,   6.00175162e-03,   6.23295248e-03,\n",
       "         6.46696553e-03,   6.70351715e-03,   6.94232164e-03,\n",
       "         7.18308189e-03,   7.42549000e-03,   7.66922794e-03,\n",
       "         7.91396834e-03,   8.15937525e-03,   8.40510493e-03,\n",
       "         8.65080678e-03,   8.89612417e-03,   9.14069540e-03,\n",
       "         9.38415464e-03,   9.62613293e-03,   9.86625914e-03,\n",
       "         1.01041610e-02,   1.03394662e-02,   1.05718032e-02,\n",
       "         1.08008025e-02,   1.10260976e-02,   1.12473261e-02,\n",
       "         1.14641305e-02,   1.16761593e-02,   1.18830682e-02,\n",
       "         1.20845207e-02,   1.22801896e-02,   1.24697571e-02,\n",
       "         1.26529164e-02,   1.28293723e-02,   1.29988418e-02,\n",
       "         1.31610552e-02,   1.33157566e-02,   1.34627046e-02,\n",
       "         1.36016730e-02,   1.37324512e-02,   1.38548450e-02,\n",
       "         1.39686768e-02,   1.40737860e-02,   1.41700295e-02,\n",
       "         1.42572818e-02,   1.43354353e-02,   1.44044008e-02,\n",
       "         1.44641068e-02,   1.45145004e-02,   1.45555467e-02,\n",
       "         1.45872291e-02,   1.46095487e-02,   1.46225249e-02,\n",
       "         1.46261941e-02,   1.46206106e-02,   1.46058451e-02,\n",
       "         1.45819853e-02,   1.45491346e-02,   1.45074125e-02,\n",
       "         1.44569531e-02,   1.43979056e-02,   1.43304328e-02,\n",
       "         1.42547109e-02,   1.41709290e-02,   1.40792879e-02,\n",
       "         1.39799999e-02,   1.38732879e-02,   1.37593846e-02,\n",
       "         1.36385316e-02,   1.35109791e-02,   1.33769847e-02,\n",
       "         1.32368127e-02,   1.30907336e-02,   1.29390229e-02,\n",
       "         1.27819606e-02,   1.26198304e-02,   1.24529188e-02,\n",
       "         1.22815145e-02,   1.21059076e-02,   1.19263891e-02,\n",
       "         1.17432496e-02,   1.15567793e-02,   1.13672670e-02,\n",
       "         1.11749996e-02,   1.09802612e-02,   1.07833330e-02,\n",
       "         1.05844922e-02,   1.03840119e-02,   1.01821605e-02,\n",
       "         9.97920110e-03,   9.77539108e-03,   9.57098186e-03,\n",
       "         9.36621836e-03,   9.16133875e-03])"
      ]
     },
     "execution_count": 173,
     "metadata": {},
     "output_type": "execute_result"
    }
   ],
   "source": [
    "get_combined_distribution([0, 0, 0, 1, 0, 0, 0, 0, 0], 3)\n",
    "get_combined_distribution([0, 0, 0, 2, 0, 0, 0, 0, 0], 3)\n",
    "get_combined_distribution([0, 0, 0, 3, 0, 0, 0, 0, 0], 3)\n",
    "get_combined_distribution([0, 0, 0, 4, 0, 0, 0, 0, 0], 0)\n",
    "get_combined_distribution([1, 0, 0, 4, 0, 0, 0, 0, 0], 0)\n",
    "get_combined_distribution([2, 0, 0, 4, 0, 0, 0, 0, 0], 3)\n",
    "get_combined_distribution([2, 0, 0, 5, 0, 0, 0, 0, 0], 3)\n",
    "get_combined_distribution([2, 0, 0, 6, 0, 0, 0, 0, 0], 3)\n",
    "get_combined_distribution([2, 0, 0, 7, 0, 0, 0, 0, 0], 8)\n",
    "get_combined_distribution([2, 0, 0, 7, 0, 0, 0, 0, 1], 3)\n",
    "get_combined_distribution([2, 0, 0, 7, 0, 0, 0, 0, 1], 2)\n",
    "get_combined_distribution([2, 0, 1, 7, 0, 0, 0, 0, 1], 2)\n",
    "get_combined_distribution([2, 0, 1, 7, 0, 0, 0, 0, 1], 3)"
   ]
  },
  {
   "cell_type": "code",
   "execution_count": null,
   "metadata": {
    "collapsed": true
   },
   "outputs": [],
   "source": []
  }
 ],
 "metadata": {
  "kernelspec": {
   "display_name": "Python 3",
   "language": "python",
   "name": "python3"
  },
  "language_info": {
   "codemirror_mode": {
    "name": "ipython",
    "version": 3
   },
   "file_extension": ".py",
   "mimetype": "text/x-python",
   "name": "python",
   "nbconvert_exporter": "python",
   "pygments_lexer": "ipython3",
   "version": "3.5.1"
  }
 },
 "nbformat": 4,
 "nbformat_minor": 0
}
