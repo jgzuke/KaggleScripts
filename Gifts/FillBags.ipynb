{
 "cells": [
  {
   "cell_type": "code",
   "execution_count": 148,
   "metadata": {
    "collapsed": true
   },
   "outputs": [],
   "source": [
    "%matplotlib inline\n",
    "import pandas as pd\n",
    "import numpy as np\n",
    "from scipy.stats import norm\n",
    "from scipy.stats import beta\n",
    "from scipy.stats import chi2\n",
    "from scipy.stats import gamma\n",
    "from scipy.stats import triang\n",
    "from pulp import *"
   ]
  },
  {
   "cell_type": "code",
   "execution_count": 266,
   "metadata": {
    "collapsed": false
   },
   "outputs": [],
   "source": [
    "types = ['ball', 'bike', 'blocks', 'book', 'coal', 'doll', 'gloves', 'horse', 'train']\n",
    "num_types = len(types)\n",
    "key_to_item = dict((key, index) for key, index in zip(types, range(len(types))))\n",
    "step = 0.1"
   ]
  },
  {
   "cell_type": "code",
   "execution_count": 23,
   "metadata": {
    "collapsed": false
   },
   "outputs": [],
   "source": [
    "def normal(x, mu, sigma):\n",
    "    if x > 0:\n",
    "        return norm.pdf(x, mu, sigma)\n",
    "    return norm.cdf(0, mu, sigma)\n",
    "\n",
    "weight_gen_map = {\n",
    "    'horse': lambda: max(0, np.random.normal(5,2,1)[0]),\n",
    "    'ball': lambda: max(0, 1 + np.random.normal(1,0.3,1)[0]),\n",
    "    'bike': lambda: max(0, np.random.normal(20,10,1)[0]),\n",
    "    'train': lambda: max(0, np.random.normal(10,5,1)[0]),\n",
    "    'coal': lambda: 47 * np.random.beta(0.5,0.5,1)[0],\n",
    "    'book': lambda: np.random.chisquare(2,1)[0],\n",
    "    'doll': lambda: np.random.gamma(5,1,1)[0],\n",
    "    'blocks': lambda: np.random.triangular(5,10,20,1)[0],\n",
    "    'gloves': lambda: 3.0 + np.random.rand(1)[0] if np.random.rand(1) < 0.3 else np.random.rand(1)[0]\n",
    "}\n",
    "\n",
    "distribution_map = {\n",
    "    'horse': lambda x: normal(x, *(5, 2)),\n",
    "    'ball': lambda x: normal(x - 1, *(2, 0.3)),\n",
    "    'bike': lambda x: normal(x, *(20,10)),\n",
    "    'train': lambda x: normal(x, *(10,5)),\n",
    "    'coal': lambda x: beta.pdf(x / 47 , 0.5, 0.5) / 47,\n",
    "    'book': lambda x: chi2.pdf(x, 2),\n",
    "    'doll': lambda x: (x**4) * np.exp(-x) / 25,\n",
    "    'blocks': lambda x: triang.pdf(x, c = 1.0/3, loc = 5, scale = 15),\n",
    "    'gloves': lambda x: 0.7 if (0 < x and x < 1) else 0.3 if (3 < x and x < 4) else 0\n",
    "}"
   ]
  },
  {
   "cell_type": "code",
   "execution_count": 32,
   "metadata": {
    "collapsed": false
   },
   "outputs": [],
   "source": [
    "def save_expected_weights():\n",
    "    expected_weight_list = [list(key) + [expected_weight_map[key]] for key in expected_weight_map]\n",
    "    pd.DataFrame(expected_weight_list).to_csv('data/expected_weights', index=False)\n",
    "\n",
    "def load_expected_weights():\n",
    "    expected_weight_list = pd.read_csv('data/expected_weights')\n",
    "    return dict([(tuple(int(val) for val in row[:9]), row[9]) for row in expected_weight_list.values])"
   ]
  },
  {
   "cell_type": "code",
   "execution_count": 5,
   "metadata": {
    "collapsed": false
   },
   "outputs": [],
   "source": [
    "def bag_to_key(bag):\n",
    "    return tuple(bag)\n",
    "\n",
    "def item_to_key(item):\n",
    "    return tuple(1 if item == i else 0 for i in range(num_types))\n",
    "\n",
    "def item_to_full_item(item):\n",
    "    item_full = np.zeros((num_types,), dtype=np.int)\n",
    "    item_full[item] += 1\n",
    "    return item_full"
   ]
  },
  {
   "cell_type": "code",
   "execution_count": 6,
   "metadata": {
    "collapsed": false
   },
   "outputs": [],
   "source": [
    "def get_expected(bag):\n",
    "    key = bag_to_key(bag)\n",
    "    if key in expected_weight_map:\n",
    "        return expected_weight_map[key]\n",
    "    expected_weight = sum(prob * weight for prob, weight in zip(weight_map[key], weight_slices))\n",
    "    expected_weight_map[key] = expected_weight\n",
    "    return expected_weight\n",
    "\n",
    "variance_reduce = 0.3\n",
    "def get_expected_high_variance(bag):\n",
    "    key = bag_to_key(bag)\n",
    "    if key in expected_weight_map:\n",
    "        return expected_weight_map[key]\n",
    "    expected_weight = sum(prob * weight for prob, weight in zip(weight_map[key], weight_slices))\n",
    "    chance_under = sum(weight_map[key])\n",
    "    expected_weight /= (chance_under ** variance_reduce)\n",
    "    expected_weight_map[key] = expected_weight\n",
    "    return expected_weight\n",
    "\n",
    "def get_chance_too_full(bag):\n",
    "    key = bag_to_key(bag)\n",
    "    if key in chance_too_full_map:\n",
    "        return chance_too_full_map[key]\n",
    "    chance_too_full = sum(weight_map[key])\n",
    "    chance_too_full_map[key] = chance_too_full\n",
    "    return 1 - chance_too_full\n",
    "\n",
    "def calculate_combined_distribution(old_bag, item):\n",
    "    bag = old_bag.copy()\n",
    "    bag[item] += 1\n",
    "    key = bag_to_key(bag)\n",
    "    # already caculated\n",
    "    if key in weight_map:\n",
    "        return None\n",
    "    \n",
    "    distribution = np.zeros((500,), dtype=np.float)\n",
    "    d1 = weight_map[bag_to_key(old_bag)]\n",
    "    d2 = weight_array_singles[item]\n",
    "    for p1, w1 in zip(d1, weight_indices):\n",
    "        for p2, w2 in zip(d2, weight_indices):\n",
    "            new_weight = w1 + w2\n",
    "            if new_weight < 500:\n",
    "                distribution[new_weight] += (p1 * p2)\n",
    "    weight_map[key] = distribution\n",
    "    return bag"
   ]
  },
  {
   "cell_type": "markdown",
   "metadata": {},
   "source": [
    "# TODOS\n",
    "- figure out how to do add_weights beter given that step/2 + step/2 isnt 3/2 step\n",
    "- try increasing variance by increasing expected value if high chance of going over (multiply expected by (1/chance_under)^(0.5))\n",
    "- iteratively try different subset swaps\n",
    "- actually submit"
   ]
  },
  {
   "cell_type": "code",
   "execution_count": 7,
   "metadata": {
    "collapsed": false
   },
   "outputs": [],
   "source": [
    "# use this to populate map with combinations\n",
    "# TODO make this faster and lower trial area\n",
    "def hydrate_map(iterations=10):\n",
    "    last_bags = [np.array([0, 0, 0, 0, 0, 0, 0, 0, 0])]\n",
    "    new_bags = []\n",
    "    for i in range(iterations):\n",
    "        for bag in last_bags:\n",
    "            expected = get_expected(bag)\n",
    "            for j in range(num_types):\n",
    "                new_bag = calculate_combined_distribution(bag, j)\n",
    "                if new_bag != None and get_expected(new_bag) > expected:\n",
    "                    new_bags.append(new_bag)\n",
    "        last_bags = new_bags\n",
    "        new_bags = []"
   ]
  },
  {
   "cell_type": "code",
   "execution_count": 36,
   "metadata": {
    "collapsed": true
   },
   "outputs": [],
   "source": [
    "weight_map = {tuple([0] * num_types): np.zeros((500,), dtype=np.float)}\n",
    "weight_map[tuple([0] * num_types)][0] = 1\n",
    "expected_weight_map = {tuple([0] * num_types): 0}\n",
    "chance_too_full_map = {tuple([0] * num_types): 0}\n",
    "\n",
    "weight_slices = np.arange(step / 2, 50, step)\n",
    "weight_indices = list(range(500))\n",
    "weight_array_singles = [np.array([step * distribution_map[key](weight) for weight in weight_slices]) for key in types]\n",
    "for weight_single in weight_array_singles:\n",
    "    total_prob = sum(weight_single)\n",
    "    for i in range(len(weight_single)):\n",
    "        weight_single[i] /= total_prob"
   ]
  },
  {
   "cell_type": "code",
   "execution_count": 37,
   "metadata": {
    "collapsed": false
   },
   "outputs": [
    {
     "name": "stderr",
     "output_type": "stream",
     "text": [
      "/Users/jgzuke/anaconda3/lib/python3.5/site-packages/ipykernel/__main__.py:11: FutureWarning: comparison to `None` will result in an elementwise object comparison in the future.\n"
     ]
    },
    {
     "name": "stdout",
     "output_type": "stream",
     "text": [
      "116168\n",
      "CPU times: user 2h 34min 9s, sys: 33 s, total: 2h 34min 42s\n",
      "Wall time: 2h 39min 39s\n"
     ]
    }
   ],
   "source": [
    "%%time\n",
    "hydrate_map(50)\n",
    "print (len(weight_map))\n",
    "#save_expected_weights()"
   ]
  },
  {
   "cell_type": "code",
   "execution_count": 49,
   "metadata": {
    "collapsed": true
   },
   "outputs": [],
   "source": [
    "#expected_weight_map = load_expected_weights()"
   ]
  },
  {
   "cell_type": "code",
   "execution_count": 200,
   "metadata": {
    "collapsed": true
   },
   "outputs": [],
   "source": [
    "usefulness = [0.8, 0, 2.3, 2.0, 0, 1.05, 0.5, 1.2, 0.8]\n",
    "useable_bags = [[np.array(key), expected_weight_map[key]] for key in expected_weight_map if sum(key) > 2]\n",
    "sorted_normalized = sorted(useable_bags, key=lambda row: row[1] - sum(float(item) * factor for item, factor in zip(row[0], usefulness)))\n",
    "sorted_normalized.reverse()"
   ]
  },
  {
   "cell_type": "code",
   "execution_count": 202,
   "metadata": {
    "collapsed": false
   },
   "outputs": [
    {
     "data": {
      "text/plain": [
       "116113"
      ]
     },
     "execution_count": 202,
     "metadata": {},
     "output_type": "execute_result"
    }
   ],
   "source": [
    "len(sorted_normalized)"
   ]
  },
  {
   "cell_type": "code",
   "execution_count": 194,
   "metadata": {
    "collapsed": false
   },
   "outputs": [],
   "source": [
    "def solve_best_bags(useable_bags):\n",
    "    counts = [1100, 500, 1000, 1200, 166, 1000, 200, 1000, 1000]\n",
    "    bag_keys = LpVariable.dicts(\"bag\", [str(i) for i in range(len(useable_bags))], 0, None, LpInteger)\n",
    "    bag_names = [bag_keys[str(i)] for i in range(len(useable_bags))]\n",
    "    prob = LpProblem(\"The Santa Uncertain Bags Problem\", LpMaximize)\n",
    "\n",
    "    # Add bag expected values\n",
    "    prob += lpSum([bag[1] * bag_name for bag, bag_name in zip(useable_bags, bag_names)]), \"objective\"\n",
    "\n",
    "    # Add item max constraints\n",
    "    for count, i in zip(counts, range(len(counts))):\n",
    "        prob += lpSum([bag[0][i] * bag_name for bag, bag_name in zip(useable_bags, bag_names)]) <= count, \"\"\n",
    "\n",
    "    # Add bag maximum constraint    \n",
    "    prob += lpSum(bag_names) <= 1000, \"\"\n",
    "\n",
    "    prob.solve()\n",
    "    print (\"Status:\", LpStatus[prob.status])\n",
    "    print (\"Score:\", value(prob.objective))\n",
    "    return [(useable_bags[int(var.name.split('_')[1])][0], int(var.varValue)) for var in prob.variables() if var.varValue != 0]"
   ]
  },
  {
   "cell_type": "code",
   "execution_count": 286,
   "metadata": {
    "collapsed": false
   },
   "outputs": [],
   "source": [
    "weight_gens = [\n",
    "    lambda: max(0, 1 + np.random.normal(1,0.3,1)[0]),\n",
    "    lambda: max(0, np.random.normal(20,10,1)[0]),\n",
    "    lambda: np.random.triangular(5,10,20,1)[0],\n",
    "    lambda: np.random.chisquare(2,1)[0],\n",
    "    lambda: 47 * np.random.beta(0.5,0.5,1)[0],\n",
    "    lambda: np.random.gamma(5,1,1)[0],\n",
    "    lambda: 3.0 + np.random.rand(1)[0] if np.random.rand(1) < 0.3 else np.random.rand(1)[0],\n",
    "    lambda: max(0, np.random.normal(5,2,1)[0]),\n",
    "    lambda: max(0, np.random.normal(10,5,1)[0])\n",
    "]\n",
    "num_tests = 1000"
   ]
  },
  {
   "cell_type": "code",
   "execution_count": 310,
   "metadata": {
    "collapsed": false
   },
   "outputs": [],
   "source": [
    "def gen_weight(bag):\n",
    "    weight = sum(weight_gen() for weight_gen, item_num in zip(weight_gens, bag) for j in range(item_num))\n",
    "    return weight if weight <= 50 else 0"
   ]
  },
  {
   "cell_type": "code",
   "execution_count": 301,
   "metadata": {
    "collapsed": false
   },
   "outputs": [
    {
     "data": {
      "text/plain": [
       "[[array([16,  0,  0,  0,  0,  0,  0,  0,  0]), 46.69832242138849],\n",
       " [array([15,  0,  0,  0,  0,  0,  1,  0,  0]), 45.195482550000605],\n",
       " [array([15,  0,  0,  0,  0,  0,  0,  0,  0]), 44.299976810829868],\n",
       " [array([13,  0,  0,  0,  0,  0,  0,  1,  0]), 43.297438176350681],\n",
       " [array([14,  0,  0,  0,  0,  0,  2,  0,  0]), 43.724964537990999],\n",
       " [array([13,  0,  0,  0,  0,  0,  1,  1,  0]), 43.360761076107039],\n",
       " [array([13,  0,  0,  0,  0,  1,  0,  0,  0]), 42.706284350339693],\n",
       " [array([14,  0,  0,  0,  0,  0,  0,  1,  0]), 43.600190198800917],\n",
       " [array([14,  0,  0,  0,  0,  0,  1,  0,  0]), 42.699949368059087],\n",
       " [array([11,  0,  0,  0,  0,  0,  0,  2,  0]), 42.180295486424562]]"
      ]
     },
     "execution_count": 301,
     "metadata": {},
     "output_type": "execute_result"
    }
   ],
   "source": [
    "sorted_normalized[:10]"
   ]
  },
  {
   "cell_type": "code",
   "execution_count": null,
   "metadata": {
    "collapsed": false
   },
   "outputs": [],
   "source": [
    "%%time\n",
    "sorted_sampled = [(row[0], sum((gen_weight(row[0])) for i in range(num_tests)) / num_tests) for row in sorted_normalized[:1000]]"
   ]
  },
  {
   "cell_type": "code",
   "execution_count": 269,
   "metadata": {
    "collapsed": true
   },
   "outputs": [],
   "source": [
    "def score_bag(bag_counts):\n",
    "    assert (sum(count for bag, count in bag_counts) == 1000)\n",
    "    score_sum = 0\n",
    "    for bag, count in bag_counts:\n",
    "        for i in range(count):\n",
    "            weight = sum(weight_gen_map[item_type]() for item_type, item_num in zip(types, bag) for j in range(item_num))\n",
    "            if weight > 50:\n",
    "                continue\n",
    "            score_sum += weight\n",
    "    return score_sum"
   ]
  },
  {
   "cell_type": "code",
   "execution_count": 212,
   "metadata": {
    "collapsed": false
   },
   "outputs": [
    {
     "name": "stdout",
     "output_type": "stream",
     "text": [
      "Status: Optimal\n",
      "Score: 36110.36807102873\n"
     ]
    }
   ],
   "source": [
    "bag_counts = solve_best_bags(sorted_normalized[:50000])"
   ]
  },
  {
   "cell_type": "code",
   "execution_count": 297,
   "metadata": {
    "collapsed": false
   },
   "outputs": [
    {
     "name": "stdout",
     "output_type": "stream",
     "text": [
      "35275.6782183\n",
      "35058.9798178\n",
      "34365.734187\n",
      "35346.7707041\n",
      "34481.6150485\n",
      "35037.6340763\n",
      "35109.0912403\n",
      "35535.8879257\n",
      "35195.609544\n",
      "34395.5126702\n"
     ]
    }
   ],
   "source": [
    "for i in range(10):\n",
    "    print (score_bag(bag_counts))"
   ]
  },
  {
   "cell_type": "code",
   "execution_count": null,
   "metadata": {
    "collapsed": true
   },
   "outputs": [],
   "source": []
  }
 ],
 "metadata": {
  "kernelspec": {
   "display_name": "Python 3",
   "language": "python",
   "name": "python3"
  },
  "language_info": {
   "codemirror_mode": {
    "name": "ipython",
    "version": 3
   },
   "file_extension": ".py",
   "mimetype": "text/x-python",
   "name": "python",
   "nbconvert_exporter": "python",
   "pygments_lexer": "ipython3",
   "version": "3.5.1"
  }
 },
 "nbformat": 4,
 "nbformat_minor": 0
}
