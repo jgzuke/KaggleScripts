{
 "cells": [
  {
   "cell_type": "code",
   "execution_count": 2,
   "metadata": {
    "collapsed": true
   },
   "outputs": [],
   "source": [
    "%matplotlib inline\n",
    "import pandas as pd\n",
    "import numpy as np\n",
    "from scipy.stats import norm\n",
    "from scipy.stats import beta\n",
    "from scipy.stats import chi2\n",
    "from scipy.stats import gamma\n",
    "from scipy.stats import triang\n",
    "from pulp import LpVariable, LpInteger, LpProblem, LpMaximize, LpStatus, lpSum, value"
   ]
  },
  {
   "cell_type": "code",
   "execution_count": 3,
   "metadata": {
    "collapsed": false
   },
   "outputs": [],
   "source": [
    "types = ['ball', 'bike', 'blocks', 'book', 'coal', 'doll', 'gloves', 'horse', 'train']\n",
    "num_types = len(types)\n",
    "key_to_item = dict((key, index) for key, index in zip(types, range(len(types))))"
   ]
  },
  {
   "cell_type": "code",
   "execution_count": 4,
   "metadata": {
    "collapsed": false
   },
   "outputs": [],
   "source": [
    "weight_gens = [\n",
    "    lambda: max(0, 1 + np.random.normal(1,0.3,1)[0]),\n",
    "    lambda: max(0, np.random.normal(20,10,1)[0]),\n",
    "    lambda: np.random.triangular(5,10,20,1)[0],\n",
    "    lambda: np.random.chisquare(2,1)[0],\n",
    "    lambda: 47 * np.random.beta(0.5,0.5,1)[0],\n",
    "    lambda: np.random.gamma(5,1,1)[0],\n",
    "    lambda: 3.0 + np.random.rand(1)[0] if np.random.rand(1) < 0.3 else np.random.rand(1)[0],\n",
    "    lambda: max(0, np.random.normal(5,2,1)[0]),\n",
    "    lambda: max(0, np.random.normal(10,5,1)[0])\n",
    "]\n",
    "num_tests = 2000"
   ]
  },
  {
   "cell_type": "code",
   "execution_count": 5,
   "metadata": {
    "collapsed": false
   },
   "outputs": [],
   "source": [
    "def save_expected_weights():\n",
    "    expected_weight_list = [list(key) + [expected_weight_map[key]] for key in expected_weight_map]\n",
    "    pd.DataFrame(expected_weight_list).to_csv('data/expected_weights', index=False)\n",
    "    over_weight_list = [list(key) + [over_weight_map[key]] for key in over_weight_map]\n",
    "    pd.DataFrame(over_weight_list).to_csv('data/over_weights', index=False)\n",
    "\n",
    "def load_expected_weights():\n",
    "    expected_weight_list = pd.read_csv('data/expected_weights')\n",
    "    expected_weight_dict =  dict([(tuple(int(val) for val in row[:9]), row[9]) for row in expected_weight_list.values])\n",
    "    over_weight_list = pd.read_csv('data/over_weights')\n",
    "    over_weight_map = dict([(tuple(int(val) for val in row[:9]), row[9]) for row in over_weight_list.values])\n",
    "    return expected_weight_dict, over_weight_map"
   ]
  },
  {
   "cell_type": "code",
   "execution_count": 6,
   "metadata": {
    "collapsed": false
   },
   "outputs": [],
   "source": [
    "def bag_to_key(bag):\n",
    "    return tuple(bag)\n",
    "\n",
    "def item_to_key(item):\n",
    "    return tuple(1 if item == i else 0 for i in range(num_types))\n",
    "\n",
    "def item_to_full_item(item):\n",
    "    item_full = np.zeros((num_types,), dtype=np.int)\n",
    "    item_full[item] += 1\n",
    "    return item_full"
   ]
  },
  {
   "cell_type": "code",
   "execution_count": 7,
   "metadata": {
    "collapsed": false
   },
   "outputs": [],
   "source": [
    "def gen_weight(bag):\n",
    "    weight = sum(weight_gen() for weight_gen, item_num in zip(weight_gens, bag) for j in range(item_num))\n",
    "    return weight if weight <= 50 else 0\n",
    "\n",
    "def get_expected(old_bag, item = None):\n",
    "    bag = old_bag.copy()\n",
    "    if item != None:\n",
    "        bag[item] += 1\n",
    "    \n",
    "    key = bag_to_key(bag)\n",
    "    # already caculated\n",
    "    if key in expected_weight_map:\n",
    "        return bag, None\n",
    "    \n",
    "    expected_weight = 0\n",
    "    over_weights = 0\n",
    "    for i in range(num_tests):\n",
    "        weight = gen_weight(bag)\n",
    "        expected_weight += weight\n",
    "        if weight == 0:\n",
    "            over_weights += 1\n",
    "    expected_weight /= num_tests\n",
    "    over_weight_fraction = (float(num_tests - over_weights) / num_tests)\n",
    "    if over_weight_fraction > 0:\n",
    "        expected_weight /= over_weight_fraction**0.8\n",
    "    over_weight_map[key] = over_weight_fraction\n",
    "    expected_weight_map[key] = expected_weight\n",
    "    return bag, expected_weight"
   ]
  },
  {
   "cell_type": "markdown",
   "metadata": {},
   "source": [
    "# TODOS\n",
    "- actually submit"
   ]
  },
  {
   "cell_type": "code",
   "execution_count": 8,
   "metadata": {
    "collapsed": false
   },
   "outputs": [],
   "source": [
    "# use this to populate map with combinations\n",
    "# TODO make this faster and lower trial area\n",
    "def hydrate_map(iterations):\n",
    "    last_bags = [(np.array([0, 0, 0, 0, 0, 0, 0, 0, 0]), 0)]\n",
    "    new_bags = []\n",
    "    for i in range(iterations):\n",
    "        print ('Iteration {0} Layer Size {1}'.format(i, len(last_bags)))\n",
    "        for bag, expected in last_bags:\n",
    "            for j in range(num_types):\n",
    "                new_bag, new_expected = get_expected(bag, j)\n",
    "                if new_expected != None and new_expected > expected:\n",
    "                    new_bags.append((new_bag, new_expected))\n",
    "        last_bags = new_bags\n",
    "        new_bags = []"
   ]
  },
  {
   "cell_type": "code",
   "execution_count": 9,
   "metadata": {
    "collapsed": false
   },
   "outputs": [],
   "source": [
    "def solve_best_bags(useable_bags):\n",
    "    counts = [1100, 500, 1000, 1200, 166, 1000, 200, 1000, 1000]\n",
    "    bag_keys = LpVariable.dicts(\"bag\", [str(i) for i in range(len(useable_bags))], 0, None, LpInteger)\n",
    "    bag_names = [bag_keys[str(i)] for i in range(len(useable_bags))]\n",
    "    prob = LpProblem(\"The Santa Uncertain Bags Problem\", LpMaximize)\n",
    "\n",
    "    # Add bag expected values\n",
    "    prob += lpSum([bag[1] * bag_name for bag, bag_name in zip(useable_bags, bag_names)]), \"objective\"\n",
    "\n",
    "    # Add item max constraints\n",
    "    for count, i in zip(counts, range(len(counts))):\n",
    "        prob += lpSum([bag[0][i] * bag_name for bag, bag_name in zip(useable_bags, bag_names)]) <= count, \"\"\n",
    "\n",
    "    # Add bag maximum constraint    \n",
    "    prob += lpSum(bag_names) <= 1000, \"\"\n",
    "\n",
    "    prob.solve()\n",
    "    print (\"Status:\", LpStatus[prob.status])\n",
    "    print (\"Score:\", value(prob.objective))\n",
    "    return [(useable_bags[int(var.name.split('_')[1])][0], int(var.varValue)) for var in prob.variables() if var.varValue != 0]"
   ]
  },
  {
   "cell_type": "code",
   "execution_count": 10,
   "metadata": {
    "collapsed": true
   },
   "outputs": [],
   "source": [
    "def score_bag(bag_counts):\n",
    "    assert (sum(count for bag, count in bag_counts) == 1000)\n",
    "    score_sum = 0\n",
    "    for bag, count in bag_counts:\n",
    "        for i in range(count):\n",
    "            score_sum += gen_weight(bag)\n",
    "    return score_sum"
   ]
  },
  {
   "cell_type": "code",
   "execution_count": null,
   "metadata": {
    "collapsed": true
   },
   "outputs": [],
   "source": [
    "%%time\n",
    "expected_weight_map = {tuple([0] * num_types): 0}\n",
    "over_weight_map = {tuple([0] * num_types): 0}\n",
    "hydrate_map(35)\n",
    "print (len(expected_weight_map))"
   ]
  },
  {
   "cell_type": "code",
   "execution_count": 23,
   "metadata": {
    "collapsed": true
   },
   "outputs": [],
   "source": [
    "expected_weight_map, over_weight_map = load_expected_weights()"
   ]
  },
  {
   "cell_type": "code",
   "execution_count": null,
   "metadata": {
    "collapsed": false
   },
   "outputs": [
    {
     "name": "stdout",
     "output_type": "stream",
     "text": [
      "Penalty: 0.5\n"
     ]
    }
   ],
   "source": [
    "for penalty in [0.5, 0.45, 0.4, 0.35, 0.3, 0.25, 0.2, 0.15, 0.1, 0.5, 0]:\n",
    "    print ('Penalty: {}'.format(penalty))\n",
    "    useable_bags = [[np.array(key), expected_weight_map[key] / (over_weight_map[key] if over_weight_map[key] > 0 else 1)**penalty] for key in expected_weight_map if sum(key) > 2]\n",
    "    bag_counts = solve_best_bags(useable_bags)\n",
    "    print (sorted([max(score_bag(bag_counts) for i in range(70)) for j in range(30)]))\n",
    "    print ('')"
   ]
  },
  {
   "cell_type": "code",
   "execution_count": null,
   "metadata": {
    "collapsed": true
   },
   "outputs": [],
   "source": []
  }
 ],
 "metadata": {
  "kernelspec": {
   "display_name": "Python 3",
   "language": "python",
   "name": "python3"
  },
  "language_info": {
   "codemirror_mode": {
    "name": "ipython",
    "version": 3
   },
   "file_extension": ".py",
   "mimetype": "text/x-python",
   "name": "python",
   "nbconvert_exporter": "python",
   "pygments_lexer": "ipython3",
   "version": "3.5.1"
  }
 },
 "nbformat": 4,
 "nbformat_minor": 0
}
