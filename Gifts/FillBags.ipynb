{
 "cells": [
  {
   "cell_type": "code",
   "execution_count": 2,
   "metadata": {
    "collapsed": true
   },
   "outputs": [],
   "source": [
    "%matplotlib inline\n",
    "import pandas as pd\n",
    "import numpy as np\n",
    "from scipy.stats import norm\n",
    "from scipy.stats import beta\n",
    "from scipy.stats import chi2\n",
    "from scipy.stats import gamma\n",
    "from scipy.stats import triang\n",
    "from pulp import LpVariable, LpInteger, LpProblem, LpMaximize, LpStatus, lpSum, value"
   ]
  },
  {
   "cell_type": "code",
   "execution_count": 3,
   "metadata": {
    "collapsed": false
   },
   "outputs": [],
   "source": [
    "types = ['ball', 'bike', 'blocks', 'book', 'coal', 'doll', 'gloves', 'horse', 'train']\n",
    "num_types = len(types)\n",
    "key_to_item = dict((key, index) for key, index in zip(types, range(len(types))))"
   ]
  },
  {
   "cell_type": "code",
   "execution_count": 4,
   "metadata": {
    "collapsed": false
   },
   "outputs": [],
   "source": [
    "weight_gens = [\n",
    "    lambda: max(0, 1 + np.random.normal(1,0.3,1)[0]),\n",
    "    lambda: max(0, np.random.normal(20,10,1)[0]),\n",
    "    lambda: np.random.triangular(5,10,20,1)[0],\n",
    "    lambda: np.random.chisquare(2,1)[0],\n",
    "    lambda: 47 * np.random.beta(0.5,0.5,1)[0],\n",
    "    lambda: np.random.gamma(5,1,1)[0],\n",
    "    lambda: 3.0 + np.random.rand(1)[0] if np.random.rand(1) < 0.3 else np.random.rand(1)[0],\n",
    "    lambda: max(0, np.random.normal(5,2,1)[0]),\n",
    "    lambda: max(0, np.random.normal(10,5,1)[0])\n",
    "]\n",
    "num_tests = 2000"
   ]
  },
  {
   "cell_type": "code",
   "execution_count": 5,
   "metadata": {
    "collapsed": false
   },
   "outputs": [],
   "source": [
    "def save_expected_weights():\n",
    "    expected_weight_list = [list(key) + [expected_weight_map[key]] for key in expected_weight_map]\n",
    "    pd.DataFrame(expected_weight_list).to_csv('data/expected_weights', index=False)\n",
    "    over_weight_list = [list(key) + [over_weight_map[key]] for key in over_weight_map]\n",
    "    pd.DataFrame(over_weight_list).to_csv('data/over_weights', index=False)\n",
    "\n",
    "def load_expected_weights():\n",
    "    expected_weight_list = pd.read_csv('data/expected_weights')\n",
    "    expected_weight_dict =  dict([(tuple(int(val) for val in row[:9]), row[9]) for row in expected_weight_list.values])\n",
    "    over_weight_list = pd.read_csv('data/over_weights')\n",
    "    over_weight_map = dict([(tuple(int(val) for val in row[:9]), row[9]) for row in over_weight_list.values])\n",
    "    return expected_weight_dict, over_weight_map"
   ]
  },
  {
   "cell_type": "code",
   "execution_count": 6,
   "metadata": {
    "collapsed": false
   },
   "outputs": [],
   "source": [
    "def bag_to_key(bag):\n",
    "    return tuple(bag)\n",
    "\n",
    "def item_to_key(item):\n",
    "    return tuple(1 if item == i else 0 for i in range(num_types))\n",
    "\n",
    "def item_to_full_item(item):\n",
    "    item_full = np.zeros((num_types,), dtype=np.int)\n",
    "    item_full[item] += 1\n",
    "    return item_full"
   ]
  },
  {
   "cell_type": "code",
   "execution_count": 7,
   "metadata": {
    "collapsed": false
   },
   "outputs": [],
   "source": [
    "def gen_weight(bag):\n",
    "    weight = sum(weight_gen() for weight_gen, item_num in zip(weight_gens, bag) for j in range(item_num))\n",
    "    return weight if weight <= 50 else 0\n",
    "\n",
    "def get_expected(old_bag, item = None):\n",
    "    bag = old_bag.copy()\n",
    "    if item != None:\n",
    "        bag[item] += 1\n",
    "    \n",
    "    key = bag_to_key(bag)\n",
    "    # already caculated\n",
    "    if key in expected_weight_map:\n",
    "        return bag, None\n",
    "    \n",
    "    expected_weight = 0\n",
    "    over_weights = 0\n",
    "    for i in range(num_tests):\n",
    "        weight = gen_weight(bag)\n",
    "        expected_weight += weight\n",
    "        if weight == 0:\n",
    "            over_weights += 1\n",
    "    expected_weight /= num_tests\n",
    "    over_weight_fraction = (float(num_tests - over_weights) / num_tests)\n",
    "    if over_weight_fraction > 0:\n",
    "        expected_weight /= over_weight_fraction**0.8\n",
    "    over_weight_map[key] = over_weight_fraction\n",
    "    expected_weight_map[key] = expected_weight\n",
    "    return bag, expected_weight"
   ]
  },
  {
   "cell_type": "markdown",
   "metadata": {},
   "source": [
    "# TODOS\n",
    "- actually submit"
   ]
  },
  {
   "cell_type": "code",
   "execution_count": 8,
   "metadata": {
    "collapsed": false
   },
   "outputs": [],
   "source": [
    "# use this to populate map with combinations\n",
    "# TODO make this faster and lower trial area\n",
    "def hydrate_map(iterations):\n",
    "    last_bags = [(np.array([0, 0, 0, 0, 0, 0, 0, 0, 0]), 0)]\n",
    "    new_bags = []\n",
    "    for i in range(iterations):\n",
    "        print ('Iteration {0} Layer Size {1}'.format(i, len(last_bags)))\n",
    "        for bag, expected in last_bags:\n",
    "            for j in range(num_types):\n",
    "                new_bag, new_expected = get_expected(bag, j)\n",
    "                if new_expected != None and new_expected > expected:\n",
    "                    new_bags.append((new_bag, new_expected))\n",
    "        last_bags = new_bags\n",
    "        new_bags = []"
   ]
  },
  {
   "cell_type": "code",
   "execution_count": 9,
   "metadata": {
    "collapsed": false
   },
   "outputs": [],
   "source": [
    "def solve_best_bags(useable_bags):\n",
    "    counts = [1100, 500, 1000, 1200, 166, 1000, 200, 1000, 1000]\n",
    "    bag_keys = LpVariable.dicts(\"bag\", [str(i) for i in range(len(useable_bags))], 0, None, LpInteger)\n",
    "    bag_names = [bag_keys[str(i)] for i in range(len(useable_bags))]\n",
    "    prob = LpProblem(\"The Santa Uncertain Bags Problem\", LpMaximize)\n",
    "\n",
    "    # Add bag expected values\n",
    "    prob += lpSum([bag[1] * bag_name for bag, bag_name in zip(useable_bags, bag_names)]), \"objective\"\n",
    "\n",
    "    # Add item max constraints\n",
    "    for count, i in zip(counts, range(len(counts))):\n",
    "        prob += lpSum([bag[0][i] * bag_name for bag, bag_name in zip(useable_bags, bag_names)]) <= count, \"\"\n",
    "\n",
    "    # Add bag maximum constraint    \n",
    "    prob += lpSum(bag_names) <= 1000, \"\"\n",
    "\n",
    "    prob.solve()\n",
    "    print (\"Status:\", LpStatus[prob.status])\n",
    "    print (\"Score:\", value(prob.objective))\n",
    "    return [(useable_bags[int(var.name.split('_')[1])][0], int(var.varValue)) for var in prob.variables() if var.varValue != 0]"
   ]
  },
  {
   "cell_type": "code",
   "execution_count": 10,
   "metadata": {
    "collapsed": true
   },
   "outputs": [],
   "source": [
    "def score_bag(bag_counts):\n",
    "    assert (sum(count for bag, count in bag_counts) == 1000)\n",
    "    score_sum = 0\n",
    "    for bag, count in bag_counts:\n",
    "        for i in range(count):\n",
    "            score_sum += gen_weight(bag)\n",
    "    return score_sum"
   ]
  },
  {
   "cell_type": "code",
   "execution_count": null,
   "metadata": {
    "collapsed": true
   },
   "outputs": [],
   "source": [
    "%%time\n",
    "expected_weight_map = {tuple([0] * num_types): 0}\n",
    "over_weight_map = {tuple([0] * num_types): 0}\n",
    "hydrate_map(35)\n",
    "print (len(expected_weight_map))"
   ]
  },
  {
   "cell_type": "code",
   "execution_count": 23,
   "metadata": {
    "collapsed": true
   },
   "outputs": [],
   "source": [
    "expected_weight_map, over_weight_map = load_expected_weights()"
   ]
  },
  {
   "cell_type": "code",
   "execution_count": 27,
   "metadata": {
    "collapsed": false
   },
   "outputs": [
    {
     "name": "stdout",
     "output_type": "stream",
     "text": [
      "Penalty: 0.5\n",
      "Status: Optimal\n",
      "Score: 36959.83809802585\n",
      "[35031.888250628668, 35102.46301605129, 35111.094167529947, 35125.903381395576, 35141.158085450974, 35170.750478976363, 35191.555552458776, 35250.832837975249, 35261.268894565954, 35271.700980369962, 35283.919605456977, 35306.739120375911, 35308.121018650476, 35322.246084689723, 35352.269277349042, 35363.992774757615, 35372.322195247703, 35376.24712865043, 35378.405761047296, 35381.260080222884, 35383.829387248523, 35395.702679864589, 35429.943138346127, 35434.935363075099, 35435.231537773172, 35447.104762900941, 35514.957281125113, 35522.658048799662, 35569.336521125915, 35604.779621683687]\n",
      "\n",
      "Penalty: 0.45\n",
      "Status: Optimal\n",
      "Score: 36765.92418635625\n",
      "[35447.672943693833, 35459.489298605731, 35465.933451131357, 35549.338188089547, 35554.466569323202, 35580.337392462294, 35619.944041738119, 35629.480080230009, 35643.444310338826, 35682.062034785667, 35683.11187541343, 35690.162853686372, 35690.617367089166, 35702.01249809139, 35711.908078244611, 35717.7722088179, 35721.639322852177, 35741.952443846305, 35778.764380958542, 35781.767543823371, 35788.624242360405, 35788.758662255015, 35792.097064275629, 35801.373550971046, 35871.789848807763, 35922.296966798582, 35930.10575162938, 35934.020576445866, 35941.782692668748, 35964.236905199439]\n",
      "\n",
      "Penalty: 0.4\n",
      "Status: Optimal\n",
      "Score: 36638.52496001357\n",
      "[35956.747688862481, 36007.168145517535, 36008.563449310263, 36037.815285473669, 36040.594526746441, 36045.733087463341, 36053.188466952903, 36056.395696904481, 36074.940645243987, 36083.213148753297, 36083.529844388926, 36103.188768261491, 36121.621803094429, 36121.650710865193, 36154.466956296535, 36160.348102025418, 36179.786933393669, 36181.903086809652, 36193.352266620677, 36196.43399396426, 36204.000019533043, 36209.56359644606, 36259.41573541308, 36352.906847073107, 36443.43394689315, 36457.65044368626, 36525.743149224072, 36589.018346063342, 36616.880467963892, 36647.868767636595]\n",
      "\n",
      "Penalty: 0.35\n",
      "Status: Optimal\n",
      "Score: 36525.51334081653\n",
      "[35875.408706155322, 35951.736748530522, 35981.359005406062, 35991.725741655551, 35992.872011842541, 36018.28152227871, 36026.016839636199, 36037.64659988846, 36062.465428066229, 36066.57555264957, 36082.476943427238, 36088.705148757828, 36100.573576797717, 36102.357506621483, 36116.217679230285, 36119.40962087045, 36139.988082480624, 36149.008639160609, 36160.982374840649, 36166.227724094701, 36189.10276001929, 36217.023335681173, 36242.895938408728, 36248.268718332038, 36283.776955109926, 36317.140862929366, 36360.051578566039, 36543.720766442049, 36581.556768524373, 36790.21201356448]\n",
      "\n",
      "Penalty: 0.3\n",
      "Status: Optimal\n",
      "Score: 36423.26633921524\n",
      "[35900.506434594477, 35912.004876502935, 35966.17839041516, 36002.88142765042, 36052.247483316547, 36059.712240153181, 36062.434127638335, 36070.523740260418, 36077.528327289358, 36086.056588676263, 36095.021478929622, 36109.429459129205, 36115.744190556834, 36145.036894709447, 36152.171731265465, 36155.841450240347, 36168.462173960179, 36188.449225026874, 36192.76790783547, 36202.583912124712, 36222.191654846043, 36229.182691294867, 36232.26167059697, 36274.995912667, 36284.138284552573, 36295.765750855113, 36300.307165030899, 36445.764769704343, 36552.965205825683, 36594.079455667605]\n",
      "\n",
      "Penalty: 0.25\n",
      "Status: Optimal\n",
      "Score: 36323.612882517635\n",
      "[36077.345333040015, 36085.031754937161, 36088.611488572955, 36092.002519094582, 36093.278538075137, 36155.815813758774, 36159.552159117804, 36185.545934584508, 36212.922854952791, 36220.0473562759, 36224.907165464421, 36248.933169724216, 36261.018117294574, 36265.104599558792, 36269.914953433719, 36279.366730752387, 36285.1494006086, 36297.282358851844, 36312.035106199684, 36314.079026503809, 36326.402098494327, 36346.373391401001, 36350.363318038762, 36361.604826183939, 36372.122894683824, 36398.74996806214, 36438.785602182426, 36509.456422448449, 36554.510787235791, 36573.486419583613]\n",
      "\n",
      "Penalty: 0.2\n",
      "Status: Optimal\n",
      "Score: 36224.327872523056\n",
      "[36040.00546009557, 36074.073579175834, 36079.387920429959, 36098.449977098455, 36105.90653528284, 36116.373551330544, 36117.939981763011, 36138.425951444769, 36150.820940520753, 36173.15361751389, 36174.391017493625, 36179.371407673032, 36191.885654693855, 36211.162985506155, 36219.120725499459, 36219.193785803422, 36228.935195680497, 36232.430762846139, 36233.443374237962, 36243.965908866456, 36295.473549273571, 36297.079697615751, 36303.293948562648, 36305.760048648925, 36351.72681148594, 36399.57517189932, 36402.411106730608, 36434.374395726576, 36473.6719788966, 36551.998863473396]\n",
      "\n",
      "Penalty: 0.15\n",
      "Status: Optimal\n",
      "Score: 36125.45075770905\n",
      "[35878.270626426645, 35946.372803321414, 36020.865372973858, 36059.250876894388, 36076.812368573082, 36106.016548366388, 36115.81760923173, 36128.832725683169, 36143.530829983254, 36153.884293296469, 36156.654720073864, 36160.749169920666, 36161.083235675324, 36161.584711647556, 36168.211447988731, 36175.817765354812, 36181.374875906236, 36182.150611493918, 36212.52983381995, 36220.140914968331, 36224.088093747203, 36264.028846078632, 36285.483117461838, 36291.383293481333, 36308.216907622002, 36313.207510181011, 36353.005195672384, 36369.609678966619, 36372.917809901221, 36459.667663581618]\n",
      "\n",
      "Penalty: 0.1\n",
      "Status: Optimal\n",
      "Score: 36027.33573738782\n",
      "[35969.081312842143, 35971.913633498145, 35994.041500548672, 36007.187839261635, 36047.930147759325, 36073.774701463779, 36074.278587479967, 36088.360092876923, 36092.361560322111, 36095.077942600852, 36101.574261921007, 36108.152233681329, 36132.602616477314, 36141.342795899902, 36143.092221107552, 36167.903102501812, 36168.888393233181, 36171.870138470826, 36172.947105650572, 36175.680014363636, 36207.380389329897, 36211.4859177443, 36235.569871779117, 36267.347157651035, 36293.222677070313, 36300.145473430341, 36304.725174775107, 36475.444847325321, 36538.238563773593, 36548.280665202619]\n",
      "\n",
      "Penalty: 0.5\n",
      "Status: Optimal\n",
      "Score: 36959.83809802585\n",
      "[35107.563303038303, 35141.390937926844, 35150.465250575537, 35156.464262283509, 35171.843205712081, 35178.773416226613, 35210.885834359658, 35239.61394879812, 35245.195259030515, 35247.917501195952, 35260.80888665848, 35310.812064350997, 35311.538791824649, 35315.572285527465, 35319.905350959576, 35328.066453550513, 35346.141579698211, 35346.164087194113, 35358.754148154352, 35376.327485100584, 35392.446389830031, 35416.693164910263, 35428.675392945312, 35434.172045150503, 35439.459896160959, 35483.794655521917, 35515.188391525095, 35543.63158060782, 35630.57583675276, 35723.773792688931]\n",
      "\n",
      "Penalty: 0\n",
      "Status: Optimal\n",
      "Score: 35843.93257497238\n",
      "[35927.094501546489, 36003.082102833017, 36050.559553178871, 36061.300886716395, 36076.097189371023, 36085.820364188185, 36098.746122929799, 36110.436992924886, 36110.863159935689, 36133.373421041935, 36140.04802174319, 36141.972893603663, 36167.44881056797, 36169.683502722939, 36181.098976193527, 36209.234586344945, 36224.13778929985, 36244.737035170925, 36247.173241335462, 36249.578074571218, 36250.402675992387, 36279.936865044649, 36283.273978654994, 36323.712729192754, 36327.043382823293, 36338.960112551191, 36376.214582834946, 36377.018398994311, 36563.429592766661, 36580.110039472151]\n",
      "\n"
     ]
    }
   ],
   "source": [
    "for penalty in [0.5, 0.45, 0.4, 0.35, 0.3, 0.25, 0.2, 0.15, 0.1, 0.5, 0]:\n",
    "    print ('Penalty: {}'.format(penalty))\n",
    "    useable_bags = [[np.array(key), expected_weight_map[key] / (over_weight_map[key] if over_weight_map[key] > 0 else 1)**penalty] for key in expected_weight_map if sum(key) > 2]\n",
    "    bag_counts = solve_best_bags(useable_bags)\n",
    "    print (sorted([max(score_bag(bag_counts) for i in range(70)) for j in range(30)]))\n",
    "    print ('')"
   ]
  },
  {
   "cell_type": "code",
   "execution_count": null,
   "metadata": {
    "collapsed": true
   },
   "outputs": [],
   "source": []
  }
 ],
 "metadata": {
  "kernelspec": {
   "display_name": "Python 3",
   "language": "python",
   "name": "python3"
  },
  "language_info": {
   "codemirror_mode": {
    "name": "ipython",
    "version": 3
   },
   "file_extension": ".py",
   "mimetype": "text/x-python",
   "name": "python",
   "nbconvert_exporter": "python",
   "pygments_lexer": "ipython3",
   "version": "3.5.1"
  }
 },
 "nbformat": 4,
 "nbformat_minor": 0
}
