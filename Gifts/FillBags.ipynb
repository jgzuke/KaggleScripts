{
 "cells": [
  {
   "cell_type": "code",
   "execution_count": 1,
   "metadata": {
    "collapsed": true
   },
   "outputs": [],
   "source": [
    "%matplotlib inline\n",
    "import pandas as pd\n",
    "import numpy as np\n",
    "from scipy.stats import norm\n",
    "from scipy.stats import beta\n",
    "from scipy.stats import chi2\n",
    "from scipy.stats import gamma\n",
    "from scipy.stats import triang\n",
    "from pulp import LpVariable, LpInteger, LpProblem, LpMaximize, LpStatus, lpSum, value"
   ]
  },
  {
   "cell_type": "code",
   "execution_count": 2,
   "metadata": {
    "collapsed": false
   },
   "outputs": [],
   "source": [
    "types = ['ball', 'bike', 'blocks', 'book', 'coal', 'doll', 'gloves', 'horse', 'train']\n",
    "num_types = len(types)\n",
    "key_to_item = dict((key, index) for key, index in zip(types, range(len(types))))"
   ]
  },
  {
   "cell_type": "code",
   "execution_count": 3,
   "metadata": {
    "collapsed": false
   },
   "outputs": [],
   "source": [
    "weight_gens = [\n",
    "    lambda: max(0, 1 + np.random.normal(1,0.3,1)[0]),\n",
    "    lambda: max(0, np.random.normal(20,10,1)[0]),\n",
    "    lambda: np.random.triangular(5,10,20,1)[0],\n",
    "    lambda: np.random.chisquare(2,1)[0],\n",
    "    lambda: 47 * np.random.beta(0.5,0.5,1)[0],\n",
    "    lambda: np.random.gamma(5,1,1)[0],\n",
    "    lambda: 3.0 + np.random.rand(1)[0] if np.random.rand(1) < 0.3 else np.random.rand(1)[0],\n",
    "    lambda: max(0, np.random.normal(5,2,1)[0]),\n",
    "    lambda: max(0, np.random.normal(10,5,1)[0])\n",
    "]\n",
    "num_tests = 2000"
   ]
  },
  {
   "cell_type": "code",
   "execution_count": 14,
   "metadata": {
    "collapsed": false
   },
   "outputs": [],
   "source": [
    "def save_expected_weights():\n",
    "    expected_weight_list = [list(key) + [expected_weight_map[key]] for key in expected_weight_map]\n",
    "    pd.DataFrame(expected_weight_list).to_csv('data/expected_weights', index=False)\n",
    "    over_weight_list = [list(key) + [over_weight_map[key]] for key in over_weight_map]\n",
    "    pd.DataFrame(over_weight_list).to_csv('data/over_weights', index=False)\n",
    "\n",
    "def load_expected_weights():\n",
    "    expected_weight_list = pd.read_csv('data/expected_weights')\n",
    "    expected_weight_dict =  dict([(tuple(int(val) for val in row[:9]), row[9]) for row in expected_weight_list.values])\n",
    "    over_weight_list = pd.read_csv('data/over_weights')\n",
    "    over_weight_map = dict([(tuple(int(val) for val in row[:9]), row[9]) for row in over_weight_list.values])\n",
    "    return expected_weight_dict, over_weight_map"
   ]
  },
  {
   "cell_type": "code",
   "execution_count": 5,
   "metadata": {
    "collapsed": false
   },
   "outputs": [],
   "source": [
    "def bag_to_key(bag):\n",
    "    return tuple(bag)\n",
    "\n",
    "def item_to_key(item):\n",
    "    return tuple(1 if item == i else 0 for i in range(num_types))\n",
    "\n",
    "def item_to_full_item(item):\n",
    "    item_full = np.zeros((num_types,), dtype=np.int)\n",
    "    item_full[item] += 1\n",
    "    return item_full"
   ]
  },
  {
   "cell_type": "code",
   "execution_count": 6,
   "metadata": {
    "collapsed": false
   },
   "outputs": [],
   "source": [
    "def gen_weight(bag):\n",
    "    weight = sum(weight_gen() for weight_gen, item_num in zip(weight_gens, bag) for j in range(item_num))\n",
    "    return weight if weight <= 50 else 0\n",
    "\n",
    "def get_expected(old_bag, item = None):\n",
    "    bag = old_bag.copy()\n",
    "    if item != None:\n",
    "        bag[item] += 1\n",
    "    \n",
    "    key = bag_to_key(bag)\n",
    "    # already caculated\n",
    "    if key in expected_weight_map:\n",
    "        return bag, None\n",
    "    \n",
    "    expected_weight = 0\n",
    "    over_weights = 0\n",
    "    for i in range(num_tests):\n",
    "        weight = gen_weight(bag)\n",
    "        expected_weight += weight\n",
    "        if weight == 0:\n",
    "            over_weights += 1\n",
    "    expected_weight /= num_tests\n",
    "    over_weight_fraction = (float(num_tests - over_weights) / num_tests)\n",
    "    if over_weight_fraction > 0:\n",
    "        expected_weight /= over_weight_fraction**0.8\n",
    "    over_weight_map[key] = over_weight_fraction\n",
    "    expected_weight_map[key] = expected_weight\n",
    "    return bag, expected_weight"
   ]
  },
  {
   "cell_type": "markdown",
   "metadata": {},
   "source": [
    "# TODOS\n",
    "- try increasing variance by increasing expected value if high chance of going over (multiply expected by (1/chance_under)^(0.5))\n",
    "- iteratively try different subset swaps\n",
    "- actually submit"
   ]
  },
  {
   "cell_type": "code",
   "execution_count": 7,
   "metadata": {
    "collapsed": false
   },
   "outputs": [],
   "source": [
    "# use this to populate map with combinations\n",
    "# TODO make this faster and lower trial area\n",
    "def hydrate_map(iterations):\n",
    "    last_bags = [(np.array([0, 0, 0, 0, 0, 0, 0, 0, 0]), 0)]\n",
    "    new_bags = []\n",
    "    for i in range(iterations):\n",
    "        print ('Iteration {0} Layer Size {1}'.format(i, len(last_bags)))\n",
    "        for bag, expected in last_bags:\n",
    "            for j in range(num_types):\n",
    "                new_bag, new_expected = get_expected(bag, j)\n",
    "                if new_expected != None and new_expected > expected:\n",
    "                    new_bags.append((new_bag, new_expected))\n",
    "        last_bags = new_bags\n",
    "        new_bags = []"
   ]
  },
  {
   "cell_type": "code",
   "execution_count": 8,
   "metadata": {
    "collapsed": false
   },
   "outputs": [],
   "source": [
    "def solve_best_bags(useable_bags):\n",
    "    counts = [1100, 500, 1000, 1200, 166, 1000, 200, 1000, 1000]\n",
    "    bag_keys = LpVariable.dicts(\"bag\", [str(i) for i in range(len(useable_bags))], 0, None, LpInteger)\n",
    "    bag_names = [bag_keys[str(i)] for i in range(len(useable_bags))]\n",
    "    prob = LpProblem(\"The Santa Uncertain Bags Problem\", LpMaximize)\n",
    "\n",
    "    # Add bag expected values\n",
    "    prob += lpSum([bag[1] * bag_name for bag, bag_name in zip(useable_bags, bag_names)]), \"objective\"\n",
    "\n",
    "    # Add item max constraints\n",
    "    for count, i in zip(counts, range(len(counts))):\n",
    "        prob += lpSum([bag[0][i] * bag_name for bag, bag_name in zip(useable_bags, bag_names)]) <= count, \"\"\n",
    "\n",
    "    # Add bag maximum constraint    \n",
    "    prob += lpSum(bag_names) <= 1000, \"\"\n",
    "\n",
    "    prob.solve()\n",
    "    print (\"Status:\", LpStatus[prob.status])\n",
    "    print (\"Score:\", value(prob.objective))\n",
    "    return [(useable_bags[int(var.name.split('_')[1])][0], int(var.varValue)) for var in prob.variables() if var.varValue != 0]"
   ]
  },
  {
   "cell_type": "code",
   "execution_count": 9,
   "metadata": {
    "collapsed": true
   },
   "outputs": [],
   "source": [
    "def score_bag(bag_counts):\n",
    "    assert (sum(count for bag, count in bag_counts) == 1000)\n",
    "    score_sum = 0\n",
    "    for bag, count in bag_counts:\n",
    "        for i in range(count):\n",
    "            score_sum += gen_weight(bag)\n",
    "    return score_sum"
   ]
  },
  {
   "cell_type": "code",
   "execution_count": 10,
   "metadata": {
    "collapsed": false
   },
   "outputs": [
    {
     "name": "stdout",
     "output_type": "stream",
     "text": [
      "Iteration 0 Layer Size 1\n",
      "Iteration 1 Layer Size 9\n",
      "Iteration 2 Layer Size 45\n",
      "Iteration 3 Layer Size 148\n",
      "Iteration 4 Layer Size 412\n",
      "Iteration 5 Layer Size 937\n",
      "Iteration 6 Layer Size 1735\n",
      "Iteration 7 Layer Size 2800\n",
      "Iteration 8 Layer Size 4022\n",
      "Iteration 9 Layer Size 5145\n",
      "Iteration 10 Layer Size 6231\n",
      "Iteration 11 Layer Size 7191\n",
      "Iteration 12 Layer Size 7730\n",
      "Iteration 13 Layer Size 8013\n",
      "Iteration 14 Layer Size 7870\n",
      "Iteration 15 Layer Size 7711\n",
      "Iteration 16 Layer Size 7227\n",
      "Iteration 17 Layer Size 6532\n",
      "Iteration 18 Layer Size 5765\n",
      "Iteration 19 Layer Size 4786\n",
      "Iteration 20 Layer Size 3938\n",
      "Iteration 21 Layer Size 3140\n",
      "Iteration 22 Layer Size 2402\n",
      "Iteration 23 Layer Size 1770\n",
      "Iteration 24 Layer Size 1217\n",
      "Iteration 25 Layer Size 822\n",
      "Iteration 26 Layer Size 510\n",
      "Iteration 27 Layer Size 331\n",
      "Iteration 28 Layer Size 189\n",
      "Iteration 29 Layer Size 79\n",
      "Iteration 30 Layer Size 50\n",
      "Iteration 31 Layer Size 21\n",
      "Iteration 32 Layer Size 9\n",
      "Iteration 33 Layer Size 3\n",
      "Iteration 34 Layer Size 1\n",
      "369388\n",
      "Status: Optimal\n",
      "Score: 38702.456753969236\n"
     ]
    },
    {
     "ename": "NameError",
     "evalue": "name 'scores_1' is not defined",
     "output_type": "error",
     "traceback": [
      "\u001b[0;31m---------------------------------------------------------------------------\u001b[0m",
      "\u001b[0;31mNameError\u001b[0m                                 Traceback (most recent call last)",
      "\u001b[0;32m<ipython-input-10-a07d52cd1a2f>\u001b[0m in \u001b[0;36m<module>\u001b[0;34m()\u001b[0m\n\u001b[0;32m----> 1\u001b[0;31m \u001b[0mget_ipython\u001b[0m\u001b[0;34m(\u001b[0m\u001b[0;34m)\u001b[0m\u001b[0;34m.\u001b[0m\u001b[0mrun_cell_magic\u001b[0m\u001b[0;34m(\u001b[0m\u001b[0;34m'time'\u001b[0m\u001b[0;34m,\u001b[0m \u001b[0;34m''\u001b[0m\u001b[0;34m,\u001b[0m \u001b[0;34m'expected_weight_map = {tuple([0] * num_types): 0}\\nover_weight_map = {tuple([0] * num_types): 0}\\nhydrate_map(35)\\nprint (len(expected_weight_map))\\n\\nuseable_bags = [[np.array(key), expected_weight_map[key]] for key in expected_weight_map if sum(key) > 2]\\nbag_counts = solve_best_bags(useable_bags)\\nfor i in range(500):\\n    scores_1.append(score_bag(bag_counts))'\u001b[0m\u001b[0;34m)\u001b[0m\u001b[0;34m\u001b[0m\u001b[0m\n\u001b[0m",
      "\u001b[0;32m/Users/jgzuke/anaconda3/lib/python3.5/site-packages/IPython/core/interactiveshell.py\u001b[0m in \u001b[0;36mrun_cell_magic\u001b[0;34m(self, magic_name, line, cell)\u001b[0m\n\u001b[1;32m   2113\u001b[0m             \u001b[0mmagic_arg_s\u001b[0m \u001b[0;34m=\u001b[0m \u001b[0mself\u001b[0m\u001b[0;34m.\u001b[0m\u001b[0mvar_expand\u001b[0m\u001b[0;34m(\u001b[0m\u001b[0mline\u001b[0m\u001b[0;34m,\u001b[0m \u001b[0mstack_depth\u001b[0m\u001b[0;34m)\u001b[0m\u001b[0;34m\u001b[0m\u001b[0m\n\u001b[1;32m   2114\u001b[0m             \u001b[0;32mwith\u001b[0m \u001b[0mself\u001b[0m\u001b[0;34m.\u001b[0m\u001b[0mbuiltin_trap\u001b[0m\u001b[0;34m:\u001b[0m\u001b[0;34m\u001b[0m\u001b[0m\n\u001b[0;32m-> 2115\u001b[0;31m                 \u001b[0mresult\u001b[0m \u001b[0;34m=\u001b[0m \u001b[0mfn\u001b[0m\u001b[0;34m(\u001b[0m\u001b[0mmagic_arg_s\u001b[0m\u001b[0;34m,\u001b[0m \u001b[0mcell\u001b[0m\u001b[0;34m)\u001b[0m\u001b[0;34m\u001b[0m\u001b[0m\n\u001b[0m\u001b[1;32m   2116\u001b[0m             \u001b[0;32mreturn\u001b[0m \u001b[0mresult\u001b[0m\u001b[0;34m\u001b[0m\u001b[0m\n\u001b[1;32m   2117\u001b[0m \u001b[0;34m\u001b[0m\u001b[0m\n",
      "\u001b[0;32m<decorator-gen-59>\u001b[0m in \u001b[0;36mtime\u001b[0;34m(self, line, cell, local_ns)\u001b[0m\n",
      "\u001b[0;32m/Users/jgzuke/anaconda3/lib/python3.5/site-packages/IPython/core/magic.py\u001b[0m in \u001b[0;36m<lambda>\u001b[0;34m(f, *a, **k)\u001b[0m\n\u001b[1;32m    186\u001b[0m     \u001b[0;31m# but it's overkill for just that one bit of state.\u001b[0m\u001b[0;34m\u001b[0m\u001b[0;34m\u001b[0m\u001b[0m\n\u001b[1;32m    187\u001b[0m     \u001b[0;32mdef\u001b[0m \u001b[0mmagic_deco\u001b[0m\u001b[0;34m(\u001b[0m\u001b[0marg\u001b[0m\u001b[0;34m)\u001b[0m\u001b[0;34m:\u001b[0m\u001b[0;34m\u001b[0m\u001b[0m\n\u001b[0;32m--> 188\u001b[0;31m         \u001b[0mcall\u001b[0m \u001b[0;34m=\u001b[0m \u001b[0;32mlambda\u001b[0m \u001b[0mf\u001b[0m\u001b[0;34m,\u001b[0m \u001b[0;34m*\u001b[0m\u001b[0ma\u001b[0m\u001b[0;34m,\u001b[0m \u001b[0;34m**\u001b[0m\u001b[0mk\u001b[0m\u001b[0;34m:\u001b[0m \u001b[0mf\u001b[0m\u001b[0;34m(\u001b[0m\u001b[0;34m*\u001b[0m\u001b[0ma\u001b[0m\u001b[0;34m,\u001b[0m \u001b[0;34m**\u001b[0m\u001b[0mk\u001b[0m\u001b[0;34m)\u001b[0m\u001b[0;34m\u001b[0m\u001b[0m\n\u001b[0m\u001b[1;32m    189\u001b[0m \u001b[0;34m\u001b[0m\u001b[0m\n\u001b[1;32m    190\u001b[0m         \u001b[0;32mif\u001b[0m \u001b[0mcallable\u001b[0m\u001b[0;34m(\u001b[0m\u001b[0marg\u001b[0m\u001b[0;34m)\u001b[0m\u001b[0;34m:\u001b[0m\u001b[0;34m\u001b[0m\u001b[0m\n",
      "\u001b[0;32m/Users/jgzuke/anaconda3/lib/python3.5/site-packages/IPython/core/magics/execution.py\u001b[0m in \u001b[0;36mtime\u001b[0;34m(self, line, cell, local_ns)\u001b[0m\n\u001b[1;32m   1178\u001b[0m         \u001b[0;32melse\u001b[0m\u001b[0;34m:\u001b[0m\u001b[0;34m\u001b[0m\u001b[0m\n\u001b[1;32m   1179\u001b[0m             \u001b[0mst\u001b[0m \u001b[0;34m=\u001b[0m \u001b[0mclock2\u001b[0m\u001b[0;34m(\u001b[0m\u001b[0;34m)\u001b[0m\u001b[0;34m\u001b[0m\u001b[0m\n\u001b[0;32m-> 1180\u001b[0;31m             \u001b[0mexec\u001b[0m\u001b[0;34m(\u001b[0m\u001b[0mcode\u001b[0m\u001b[0;34m,\u001b[0m \u001b[0mglob\u001b[0m\u001b[0;34m,\u001b[0m \u001b[0mlocal_ns\u001b[0m\u001b[0;34m)\u001b[0m\u001b[0;34m\u001b[0m\u001b[0m\n\u001b[0m\u001b[1;32m   1181\u001b[0m             \u001b[0mend\u001b[0m \u001b[0;34m=\u001b[0m \u001b[0mclock2\u001b[0m\u001b[0;34m(\u001b[0m\u001b[0;34m)\u001b[0m\u001b[0;34m\u001b[0m\u001b[0m\n\u001b[1;32m   1182\u001b[0m             \u001b[0mout\u001b[0m \u001b[0;34m=\u001b[0m \u001b[0;32mNone\u001b[0m\u001b[0;34m\u001b[0m\u001b[0m\n",
      "\u001b[0;32m<timed exec>\u001b[0m in \u001b[0;36m<module>\u001b[0;34m()\u001b[0m\n",
      "\u001b[0;31mNameError\u001b[0m: name 'scores_1' is not defined"
     ]
    }
   ],
   "source": [
    "%%time\n",
    "expected_weight_map = {tuple([0] * num_types): 0}\n",
    "over_weight_map = {tuple([0] * num_types): 0}\n",
    "hydrate_map(35)\n",
    "print (len(expected_weight_map))\n",
    "useable_bags = [[np.array(key), expected_weight_map[key]] for key in expected_weight_map if sum(key) > 2]"
   ]
  },
  {
   "cell_type": "code",
   "execution_count": 15,
   "metadata": {
    "collapsed": false
   },
   "outputs": [],
   "source": [
    "save_expected_weights()"
   ]
  },
  {
   "cell_type": "code",
   "execution_count": 39,
   "metadata": {
    "collapsed": false
   },
   "outputs": [
    {
     "name": "stdout",
     "output_type": "stream",
     "text": [
      "Penalty: 0.5\n",
      "Status: Optimal\n",
      "Score: 36959.838098025844\n",
      "[35519.819233105794, 35412.7357025772, 35596.464485179284, 35340.302613359956, 35421.032450233259, 35341.416682087052, 35291.842582083867, 35348.756479706273, 35473.846944644887, 35349.447527608485]\n",
      "\n",
      "Penalty: 0.45\n",
      "Status: Optimal\n",
      "Score: 36765.92418635625\n",
      "[35810.683067635553, 35898.521289790835, 35763.047807866475, 35904.37584465689, 35657.668784859925, 35495.898623919318, 35448.209818802447, 35919.584218360666, 35657.51398557701, 35430.532005284935]\n",
      "\n",
      "Penalty: 0.425\n",
      "Status: Optimal\n",
      "Score: 36697.10475506003\n",
      "[36240.995364497045, 36107.960536769489, 36180.082244085512, 36040.044494377871, 35979.532864297071, 36127.88136752112, 36032.534285964699, 36176.872929040706, 36594.580480478602, 36050.531813633737]\n",
      "\n",
      "Penalty: 0.4\n",
      "Status: Optimal\n",
      "Score: 36638.52496001357\n",
      "[36215.66926150574, 36047.202903213802, 36543.717491973046, 36225.320381099431, 36178.118322795221, 36197.431506324028, 36272.972655397993, 36152.757687167214, 36210.52053497202, 36304.286975919851]\n",
      "\n",
      "Penalty: 0.375\n",
      "Status: Optimal\n",
      "Score: 36580.24833383801\n",
      "[36264.415207207821, 36109.047515076876, 36347.724817003327, 36102.879982121369, 36062.980614318913, 36042.468295284831, 36259.841420781115, 36168.502763268189, 36088.615177133659, 36212.873529412689]\n",
      "\n",
      "Penalty: 0.35\n",
      "Status: Optimal\n",
      "Score: 36525.51334081653\n",
      "[36002.374274879643, 36244.228966852555, 35920.850023838582, 36326.598570331553, 36063.963025603713, 36076.668176957253, 36358.220008983655, 36086.296942015542, 35994.965200885599, 36124.505935477617]\n",
      "\n",
      "Penalty: 0.3\n",
      "Status: Optimal\n",
      "Score: 36423.26633921524\n",
      "[36121.834920653811, 36162.943981293021, 36316.336174648008, 36104.66178239631, 36179.544001584589, 36198.923203266284, 36235.782121632677, 36636.752245857504, 35937.319451532523, 36176.011443682444]\n",
      "\n"
     ]
    }
   ],
   "source": [
    "for penalty in [0.5, 0.45, 0.425, 0.4, 0.375, 0.35, 0.3]:\n",
    "    print ('Penalty: {}'.format(penalty))\n",
    "    for key in expected_weight_map:\n",
    "        if over_weight_map[key] > 0:\n",
    "            expected_weight_map[key] /= over_weight_map[key]**penalty\n",
    "\n",
    "    useable_bags = [[np.array(key), expected_weight_map[key]] for key in expected_weight_map if sum(key) > 2]\n",
    "    bag_counts = solve_best_bags(useable_bags)\n",
    "    print ([max(score_bag(bag_counts) for i in range(70)) for j in range(10)])\n",
    "\n",
    "    for key in expected_weight_map:\n",
    "        if over_weight_map[key] > 0:\n",
    "            expected_weight_map[key] *= over_weight_map[key]**penalty\n",
    "    print ('')"
   ]
  }
 ],
 "metadata": {
  "kernelspec": {
   "display_name": "Python 3",
   "language": "python",
   "name": "python3"
  },
  "language_info": {
   "codemirror_mode": {
    "name": "ipython",
    "version": 3
   },
   "file_extension": ".py",
   "mimetype": "text/x-python",
   "name": "python",
   "nbconvert_exporter": "python",
   "pygments_lexer": "ipython3",
   "version": "3.5.1"
  }
 },
 "nbformat": 4,
 "nbformat_minor": 0
}
