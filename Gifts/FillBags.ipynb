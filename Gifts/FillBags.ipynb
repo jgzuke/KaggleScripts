{
 "cells": [
  {
   "cell_type": "code",
   "execution_count": 245,
   "metadata": {
    "collapsed": true
   },
   "outputs": [],
   "source": [
    "%matplotlib inline\n",
    "import pandas as pd\n",
    "import numpy as np\n",
    "import seaborn as sb"
   ]
  },
  {
   "cell_type": "code",
   "execution_count": 246,
   "metadata": {
    "collapsed": false
   },
   "outputs": [],
   "source": [
    "types = ['book', 'train', 'bike', 'coal', 'blocks', 'ball', 'gloves', 'horse', 'doll']"
   ]
  },
  {
   "cell_type": "code",
   "execution_count": 247,
   "metadata": {
    "collapsed": false
   },
   "outputs": [],
   "source": [
    "weight_gen_map = {\n",
    "    'horse': lambda: max(0, np.random.normal(5,2,1)[0]),\n",
    "    'ball': lambda: max(0, 1 + np.random.normal(1,0.3,1)[0]),\n",
    "    'bike': lambda: max(0, np.random.normal(20,10,1)[0]),\n",
    "    'train': lambda: max(0, np.random.normal(10,5,1)[0]),\n",
    "    'coal': lambda: 47 * np.random.beta(0.5,0.5,1)[0],\n",
    "    'book': lambda: np.random.chisquare(2,1)[0],\n",
    "    'doll': lambda: np.random.gamma(5,1,1)[0],\n",
    "    'blocks': lambda: np.random.triangular(5,10,20,1)[0],\n",
    "    'gloves': lambda: 3.0 + np.random.rand(1)[0] if np.random.rand(1) < 0.3 else np.random.rand(1)[0]\n",
    "}"
   ]
  },
  {
   "cell_type": "code",
   "execution_count": 248,
   "metadata": {
    "collapsed": false
   },
   "outputs": [],
   "source": [
    "step = 0.2\n",
    "def normal_above_zero(x, mu, sigma):\n",
    "    return 1 / (sigma * np.sqrt(2 * np.pi)) * np.exp(-(x - mu)**2 / (2 * sigma**2))\n",
    "\n",
    "def normal(x, mu, sigma):\n",
    "    if x > 0:\n",
    "        return normal_above_zero(x, mu, sigma)\n",
    "    return sum(normal_above_zero(new_x, mu, sigma) * 0.05 for new_x in np.arange(-30, step / 2, 0.05))\n",
    "\n",
    "distribution_map = {\n",
    "    'horse': lambda x: normal(x, *(5, 2)),\n",
    "    'ball': lambda x: normal(x, *(2, 0.3)),\n",
    "    'bike': lambda x: normal(x, *(20,10)),\n",
    "    'train': lambda x: normal(x, *(10,5)),\n",
    "    'coal': lambda x: ((x + (step / 2)) / 47)**(-0.5) * (1 - ((x - (step / 2)) / 47))**(-0.5) / (47 * np.pi) if x <= 47 else 0,\n",
    "    'book': lambda x: np.exp(-(x / 2)) / 2,\n",
    "    'doll': lambda x: (x**4) * np.exp(-x) / 25,\n",
    "    'blocks': lambda x: (2 * (x - 5) / 75) if (5 < x and x <= 10) else (2 * (20 - x) / 150) if (10 < x and x < 20) else 0,\n",
    "    'gloves': lambda x: 0.7 if (0 < x and x < 1) else 0.3 if (3 < x and x < 4) else 0\n",
    "}\n",
    "\n",
    "bound_map = {\n",
    "    'horse': (0, 14),\n",
    "    'ball': (0.5, 3.5),\n",
    "    'bike': (0, 60),\n",
    "    'train': (0, 30),\n",
    "    'coal': (0, 50),\n",
    "    'book': (0, 15),\n",
    "    'doll': (0, 20),\n",
    "    'blocks': (5, 20),\n",
    "    'gloves': (0, 4),\n",
    "}"
   ]
  },
  {
   "cell_type": "code",
   "execution_count": 249,
   "metadata": {
    "collapsed": false
   },
   "outputs": [],
   "source": [
    "weight_slices = np.arange(0, 50 + step, step)\n",
    "weight_indices = list(range(251))\n",
    "weight_map = {}\n",
    "for key in distribution_map:\n",
    "    probs = [step * distribution_map[key](weight, ) for weight in weight_slices]\n",
    "    weight_map[key] = probs"
   ]
  },
  {
   "cell_type": "code",
   "execution_count": 250,
   "metadata": {
    "collapsed": false
   },
   "outputs": [],
   "source": [
    "def plot_weight(key):\n",
    "    x = weight_slices\n",
    "    y = weight_map[key]\n",
    "    data = pd.DataFrame(np.flipud(np.rot90([x, y])), columns=['weight {}'.format(key), 'prob'])\n",
    "    sb.factorplot(data=data, x='weight {}'.format(key), y='prob')"
   ]
  },
  {
   "cell_type": "code",
   "execution_count": 251,
   "metadata": {
    "collapsed": false
   },
   "outputs": [],
   "source": [
    "def get_expected(bag):\n",
    "    key = '~'.join(bag)\n",
    "    if key in expected_weight_map:\n",
    "        return expected_weight_map[key]\n",
    "    expected_weight = sum(prob * weight for prob, weight in zip(weight_map[key], weight_slices))\n",
    "    expected_weight_map[key] = expected_weight\n",
    "    return expected_weight\n",
    "\n",
    "expected_weight_map = {'': 0}\n",
    "for key in types:\n",
    "    expected_weight_map[key] = get_expected([key])\n",
    "\n",
    "def get_combined_distribution(bag, item):\n",
    "    new_key = '~'.join(sorted(bag + [item]))\n",
    "    # already caculated\n",
    "    if new_key in weight_map:\n",
    "        return weight_map[new_key]\n",
    "    if len(bag) == 0:\n",
    "        return weight_map[item]\n",
    "    \n",
    "    distribution = np.zeros((251,), dtype=np.float)\n",
    "    d1 = weight_map['~'.join(bag)]\n",
    "    d2 = weight_map[item]\n",
    "    for p1, w1 in zip(d1, weight_indices):\n",
    "        for p2, w2 in zip(d2, weight_indices):\n",
    "            new_weight = w1 + w2\n",
    "            if new_weight < 251:\n",
    "                #print (p1 * p2)\n",
    "                distribution[new_weight] += (p1 * p2)\n",
    "    weight_map[new_key] = distribution\n",
    "    return distribution"
   ]
  },
  {
   "cell_type": "code",
   "execution_count": 252,
   "metadata": {
    "collapsed": false
   },
   "outputs": [],
   "source": [
    "def add(bag, item):\n",
    "    counts[item] -= 1\n",
    "    if counts[item] < 0:\n",
    "        print ('Out of {}'.format(item))\n",
    "    else:\n",
    "        bag.append(item)\n",
    "        bag.sort()\n",
    "        \n",
    "def replace(bag, old, new):\n",
    "    counts[new] -= 1\n",
    "    counts[old] += 1\n",
    "    if counts[new] < 0:\n",
    "        print ('Out of {}'.format(item))\n",
    "    else:\n",
    "        bag.remove(old)\n",
    "        bag.append(new)\n",
    "        bag.sort()\n",
    "\n",
    "def score():\n",
    "    assert(len(bags) == 1000)\n",
    "    score_sum = 0\n",
    "    for bag in bags:\n",
    "        weight = sum(weight_gen_map[item]() for item in bag)\n",
    "        if weight < 50:\n",
    "            score_sum += weight\n",
    "    return score_sum\n",
    "\n",
    "def generate_bags_and_counts():\n",
    "    gifts = pd.read_csv('data/gifts.csv').values\n",
    "    counts = dict((name, 0) for name in types)\n",
    "    for item in gifts:\n",
    "        counts[item[0].split('_')[0]] += 1\n",
    "        #sum(item[0].split('_')[0] == name for item in gifts)\n",
    "    bags = [[] for i in range(1000)]\n",
    "    return counts, bags"
   ]
  },
  {
   "cell_type": "code",
   "execution_count": 266,
   "metadata": {
    "collapsed": false
   },
   "outputs": [],
   "source": [
    "def fill_bags():\n",
    "    gifts = [gift for key in ['bike', 'train', 'blocks', 'horse', 'doll', 'ball', 'book', 'coal', 'gloves'] for gift in [key] * counts[key]]\n",
    "    for item in gifts:\n",
    "        for bag in bags:\n",
    "            expected = get_expected(bag)\n",
    "            \n",
    "            #distributions = [get_combined_distribution(bag, test) for test in types]\n",
    "            #new_expecteds = [get_expected(sorted(bag + [item])) for test in types]\n",
    "            \n",
    "            new_expected = get_expected(sorted(bag + [item]))\n",
    "            if new_expected > expected# and new_expected == max(new_expecteds):\n",
    "                add(bag, item)\n",
    "                break\n",
    "    #gifts = [gift for key in ['bike', 'train', 'blocks', 'horse', 'doll', 'ball', 'book', 'coal', 'gloves'] for gift in [key] * counts[key]]\n",
    "    #for item in gifts:\n",
    "    #    for bag in bags:\n",
    "    #        if "
   ]
  },
  {
   "cell_type": "markdown",
   "metadata": {},
   "source": [
    " 'ball': 1100,\n",
    " 'bike': 500,\n",
    " 'blocks': 1000,\n",
    " 'book': 1200,\n",
    " 'coal': 166,\n",
    " 'doll': 1000,\n",
    " 'gloves': 200,\n",
    " 'horse': 1000,\n",
    " 'train': 1000"
   ]
  },
  {
   "cell_type": "code",
   "execution_count": 267,
   "metadata": {
    "collapsed": false
   },
   "outputs": [],
   "source": [
    "counts, bags = generate_bags_and_counts()"
   ]
  },
  {
   "cell_type": "code",
   "execution_count": 268,
   "metadata": {
    "collapsed": false
   },
   "outputs": [
    {
     "name": "stdout",
     "output_type": "stream",
     "text": [
      "32192.8443742\n"
     ]
    },
    {
     "data": {
      "text/plain": [
       "33158.585800463763"
      ]
     },
     "execution_count": 268,
     "metadata": {},
     "output_type": "execute_result"
    }
   ],
   "source": [
    "fill_bags()\n",
    "print (sum(score() for i in range(20)) / 20)\n",
    "max ((score() for i in range(20)))"
   ]
  },
  {
   "cell_type": "code",
   "execution_count": 172,
   "metadata": {
    "collapsed": false
   },
   "outputs": [
    {
     "data": {
      "text/plain": [
       "36111.064320427533"
      ]
     },
     "execution_count": 172,
     "metadata": {},
     "output_type": "execute_result"
    }
   ],
   "source": [
    "sum(counts_orig[key] * expected_weight_map[key] for key in types if not key in ['coal', 'gloves', 'bike'])"
   ]
  },
  {
   "cell_type": "code",
   "execution_count": 243,
   "metadata": {
    "collapsed": false
   },
   "outputs": [
    {
     "data": {
      "text/plain": [
       "27.187031943188451"
      ]
     },
     "execution_count": 243,
     "metadata": {},
     "output_type": "execute_result"
    }
   ],
   "source": [
    "expected_weight_map['~'.join(['book', 'doll', 'doll', 'doll', 'doll', 'doll', 'doll', 'doll', 'doll'])]"
   ]
  },
  {
   "cell_type": "code",
   "execution_count": 230,
   "metadata": {
    "collapsed": false
   },
   "outputs": [
    {
     "data": {
      "text/plain": [
       "{'ball': 1100,\n",
       " 'bike': 0,\n",
       " 'blocks': 0,\n",
       " 'book': 201,\n",
       " 'coal': 166,\n",
       " 'doll': 333,\n",
       " 'gloves': 200,\n",
       " 'horse': 0,\n",
       " 'train': 0}"
      ]
     },
     "execution_count": 230,
     "metadata": {},
     "output_type": "execute_result"
    }
   ],
   "source": [
    "counts"
   ]
  },
  {
   "cell_type": "code",
   "execution_count": 225,
   "metadata": {
    "collapsed": false
   },
   "outputs": [],
   "source": [
    "test = sorted(expected_weight_map, key=lambda key: expected_weight_map[key])\n",
    "test.reverse()"
   ]
  },
  {
   "cell_type": "code",
   "execution_count": null,
   "metadata": {
    "collapsed": true
   },
   "outputs": [],
   "source": []
  }
 ],
 "metadata": {
  "kernelspec": {
   "display_name": "Python 3",
   "language": "python",
   "name": "python3"
  },
  "language_info": {
   "codemirror_mode": {
    "name": "ipython",
    "version": 3
   },
   "file_extension": ".py",
   "mimetype": "text/x-python",
   "name": "python",
   "nbconvert_exporter": "python",
   "pygments_lexer": "ipython3",
   "version": "3.5.1"
  }
 },
 "nbformat": 4,
 "nbformat_minor": 0
}
