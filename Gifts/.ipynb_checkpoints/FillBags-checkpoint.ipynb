{
 "cells": [
  {
   "cell_type": "code",
   "execution_count": 55,
   "metadata": {
    "collapsed": true
   },
   "outputs": [],
   "source": [
    "%matplotlib inline\n",
    "import pandas as pd\n",
    "import numpy as np\n",
    "import seaborn as sb"
   ]
  },
  {
   "cell_type": "code",
   "execution_count": 56,
   "metadata": {
    "collapsed": false
   },
   "outputs": [],
   "source": [
    "types = ['ball', 'bike', 'blocks', 'book', 'doll', 'horse', 'train']\n",
    "key_to_item = dict((key, index) for key, index in zip(types, range(len(types))))"
   ]
  },
  {
   "cell_type": "code",
   "execution_count": 57,
   "metadata": {
    "collapsed": false
   },
   "outputs": [],
   "source": [
    "weight_gen_map = {\n",
    "    'horse': lambda: max(0, np.random.normal(5,2,1)[0]),\n",
    "    'ball': lambda: max(0, 1 + np.random.normal(1,0.3,1)[0]),\n",
    "    'bike': lambda: max(0, np.random.normal(20,10,1)[0]),\n",
    "    'train': lambda: max(0, np.random.normal(10,5,1)[0]),\n",
    "    'coal': lambda: 47 * np.random.beta(0.5,0.5,1)[0],\n",
    "    'book': lambda: np.random.chisquare(2,1)[0],\n",
    "    'doll': lambda: np.random.gamma(5,1,1)[0],\n",
    "    'blocks': lambda: np.random.triangular(5,10,20,1)[0],\n",
    "    'gloves': lambda: 3.0 + np.random.rand(1)[0] if np.random.rand(1) < 0.3 else np.random.rand(1)[0]\n",
    "}"
   ]
  },
  {
   "cell_type": "code",
   "execution_count": 58,
   "metadata": {
    "collapsed": false
   },
   "outputs": [],
   "source": [
    "step = 0.2\n",
    "def normal_above_zero(x, mu, sigma):\n",
    "    return 1 / (sigma * np.sqrt(2 * np.pi)) * np.exp(-(x - mu)**2 / (2 * sigma**2))\n",
    "\n",
    "def normal(x, mu, sigma):\n",
    "    if x > 0:\n",
    "        return normal_above_zero(x, mu, sigma)\n",
    "    return sum(normal_above_zero(new_x, mu, sigma) * 0.05 for new_x in np.arange(-30, step / 2, 0.05))\n",
    "\n",
    "distribution_map = {\n",
    "    'horse': lambda x: normal(x, *(5, 2)),\n",
    "    'ball': lambda x: normal(x, *(2, 0.3)),\n",
    "    'bike': lambda x: normal(x, *(20,10)),\n",
    "    'train': lambda x: normal(x, *(10,5)),\n",
    "    'coal': lambda x: ((x + (step / 2)) / 47)**(-0.5) * (1 - ((x - (step / 2)) / 47))**(-0.5) / (47 * np.pi) if x <= 47 else 0,\n",
    "    'book': lambda x: np.exp(-(x / 2)) / 2,\n",
    "    'doll': lambda x: (x**4) * np.exp(-x) / 25,\n",
    "    'blocks': lambda x: (2 * (x - 5) / 75) if (5 < x and x <= 10) else (2 * (20 - x) / 150) if (10 < x and x < 20) else 0,\n",
    "    'gloves': lambda x: 0.7 if (0 < x and x < 1) else 0.3 if (3 < x and x < 4) else 0\n",
    "}\n",
    "\n",
    "bound_map = {\n",
    "    'horse': (0, 14),\n",
    "    'ball': (0.5, 3.5),\n",
    "    'bike': (0, 60),\n",
    "    'train': (0, 30),\n",
    "    'coal': (0, 50),\n",
    "    'book': (0, 15),\n",
    "    'doll': (0, 20),\n",
    "    'blocks': (5, 20),\n",
    "    'gloves': (0, 4),\n",
    "}"
   ]
  },
  {
   "cell_type": "code",
   "execution_count": 59,
   "metadata": {
    "collapsed": false
   },
   "outputs": [],
   "source": [
    "def bag_to_key(bag):\n",
    "    return tuple(bag)\n",
    "\n",
    "def item_to_key(item):\n",
    "    return bag_to_key(item_to_full_item(item))\n",
    "\n",
    "def item_to_full_item(item):\n",
    "    item_full = np.zeros((7,), dtype=np.int)\n",
    "    item_full[item] += 1\n",
    "    return item_full"
   ]
  },
  {
   "cell_type": "code",
   "execution_count": 60,
   "metadata": {
    "collapsed": false
   },
   "outputs": [],
   "source": [
    "weight_slices = np.arange(0, 50 + step, step)\n",
    "weight_indices = list(range(251))\n",
    "weight_map = {}\n",
    "for key in types:\n",
    "    probs = [step * distribution_map[key](weight) for weight in weight_slices]\n",
    "    weight_map[item_to_key(key_to_item[key])] = probs"
   ]
  },
  {
   "cell_type": "code",
   "execution_count": 61,
   "metadata": {
    "collapsed": false
   },
   "outputs": [],
   "source": [
    "def get_expected(old_bag, item=-1):\n",
    "    if item != -1:\n",
    "        bag = old_bag.copy()\n",
    "        bag[item] += 1\n",
    "    else:\n",
    "        bag = old_bag\n",
    "\n",
    "    key = bag_to_key(bag)\n",
    "    if key in expected_weight_map:\n",
    "        return expected_weight_map[key]\n",
    "    expected_weight = sum(prob * weight for prob, weight in zip(weight_map[key], weight_slices))\n",
    "    expected_weight_map[key] = expected_weight\n",
    "    return expected_weight\n",
    "\n",
    "expected_weight_map = {(0,0,0,0,0,0,0): 0}\n",
    "for key in types:\n",
    "    expected_weight_map[item_to_key(key_to_item[key])] = get_expected(item_to_full_item(key_to_item[key]))\n",
    "\n",
    "def get_combined_distribution(old_bag, item):\n",
    "    bag = old_bag.copy()\n",
    "    bag[item] += 1\n",
    "    key = bag_to_key(bag)\n",
    "    # already caculated\n",
    "    if key in weight_map:\n",
    "        return weight_map[key]\n",
    "    \n",
    "    distribution = np.zeros((251,), dtype=np.float)\n",
    "    d1 = weight_map[bag_to_key(old_bag)]\n",
    "    d2 = weight_map[item_to_key(item)]\n",
    "    for p1, w1 in zip(d1, weight_indices):\n",
    "        for p2, w2 in zip(d2, weight_indices):\n",
    "            new_weight = w1 + w2\n",
    "            if new_weight < 251:\n",
    "                distribution[new_weight] += (p1 * p2)\n",
    "    weight_map[key] = distribution\n",
    "    return distribution"
   ]
  },
  {
   "cell_type": "code",
   "execution_count": 62,
   "metadata": {
    "collapsed": false
   },
   "outputs": [],
   "source": [
    "def add(bag, item):\n",
    "    counts[item] -= 1\n",
    "    if counts[item] < 0:\n",
    "        print ('Out of {}'.format(types[item]))\n",
    "    else:\n",
    "        bag[item] += 1\n",
    "        \n",
    "def replace(bag, old, new):\n",
    "    counts[new] -= 1\n",
    "    counts[old] += 1\n",
    "    if counts[new] < 0:\n",
    "        print ('Out of {}'.format(types[new]))\n",
    "    else:\n",
    "        bag[old] -= 1\n",
    "        bag[new] += 1\n",
    "\n",
    "def score():\n",
    "    assert(len(bags) == num_bags)\n",
    "    score_sum = 0\n",
    "    for bag in bags:\n",
    "        weight = sum(weight_gen_map[item_type]() for item_type, item_num in zip(types, bag) for i in range(item_num))\n",
    "        if weight > 50:\n",
    "            continue\n",
    "        score_sum += weight\n",
    "    return score_sum\n",
    "\n",
    "num_bags = 1000\n",
    "def generate_bags_and_counts():\n",
    "    gifts = pd.read_csv('data/gifts.csv').values\n",
    "    counts = dict((name, 0) for name in types)\n",
    "    for item in gifts:\n",
    "        key = item[0].split('_')[0]\n",
    "        if key in counts:\n",
    "            counts[key] += 1\n",
    "    counts = [counts[key] for key in types]\n",
    "    bags = np.zeros((num_bags, 7), dtype=np.int)\n",
    "    return counts, bags"
   ]
  },
  {
   "cell_type": "code",
   "execution_count": 63,
   "metadata": {
    "collapsed": false
   },
   "outputs": [],
   "source": [
    "def fill_bags():\n",
    "    gifts = [gift for count, item in zip(counts, range(len(counts))) for gift in [item] * count] # , 'coal', 'gloves'\n",
    "    np.random.shuffle(gifts)\n",
    "    for item in gifts:\n",
    "        for bag in bags:\n",
    "            expected = get_expected(bag)\n",
    "            \n",
    "            #distributions = [get_combined_distribution(bag, test) for test in types]\n",
    "            #new_expecteds = [get_expected(sorted(bag + [item])) for test in types]\n",
    "            \n",
    "            distribution = get_combined_distribution(bag, item)\n",
    "            new_expected = get_expected(bag, item)\n",
    "            \n",
    "            if new_expected > expected: # and new_expected == max(new_expecteds):\n",
    "                add(bag, item)\n",
    "                break\n",
    "    #gifts = [gift for key in ['bike', 'train', 'blocks', 'horse', 'doll', 'ball', 'book', 'coal', 'gloves'] for gift in [key] * counts[key]]\n",
    "    #for item in gifts:\n",
    "    #    for bag in bags:\n",
    "    #        if "
   ]
  },
  {
   "cell_type": "code",
   "execution_count": 64,
   "metadata": {
    "collapsed": false
   },
   "outputs": [],
   "source": [
    "counts, bags = generate_bags_and_counts()"
   ]
  },
  {
   "cell_type": "code",
   "execution_count": null,
   "metadata": {
    "collapsed": false
   },
   "outputs": [],
   "source": [
    "%%time\n",
    "fill_bags()\n",
    "print (sum(score() for i in range(20)) / 20)\n",
    "print (max ((score() for i in range(20))))"
   ]
  },
  {
   "cell_type": "code",
   "execution_count": null,
   "metadata": {
    "collapsed": true
   },
   "outputs": [],
   "source": []
  },
  {
   "cell_type": "code",
   "execution_count": null,
   "metadata": {
    "collapsed": true
   },
   "outputs": [],
   "source": []
  },
  {
   "cell_type": "code",
   "execution_count": null,
   "metadata": {
    "collapsed": false
   },
   "outputs": [],
   "source": [
    "counts"
   ]
  },
  {
   "cell_type": "code",
   "execution_count": null,
   "metadata": {
    "collapsed": false
   },
   "outputs": [],
   "source": [
    "test = sorted(expected_weight_map, key=lambda key: expected_weight_map[key])\n",
    "test.reverse()"
   ]
  },
  {
   "cell_type": "code",
   "execution_count": 52,
   "metadata": {
    "collapsed": false
   },
   "outputs": [
    {
     "data": {
      "text/plain": [
       "[((4, 0, 2, 3, 0, 1, 0), 42.717538896855388),\n",
       " ((4, 0, 2, 4, 0, 1, 0), 42.615048572202419),\n",
       " ((4, 0, 2, 2, 0, 1, 0), 41.449969203997938),\n",
       " ((5, 0, 2, 3, 0, 1, 0), 41.169070814299005),\n",
       " ((3, 0, 2, 2, 0, 1, 0), 40.58765378965586),\n",
       " ((2, 0, 2, 2, 0, 1, 0), 39.093197929239501),\n",
       " ((3, 0, 3, 1, 0, 0, 0), 38.839653830466233),\n",
       " ((0, 0, 3, 1, 0, 1, 0), 38.548890723477584),\n",
       " ((0, 0, 3, 2, 0, 1, 0), 38.402823756167884),\n",
       " ((1, 0, 2, 1, 0, 3, 0), 38.308222098752559),\n",
       " ((3, 0, 2, 2, 1, 1, 0), 38.257088252720948),\n",
       " ((3, 0, 3, 0, 0, 0, 0), 38.243082767398185),\n",
       " ((3, 0, 3, 2, 0, 0, 0), 38.05799008366521),\n",
       " ((1, 0, 2, 2, 0, 3, 0), 37.903332476622261),\n",
       " ((2, 0, 1, 3, 1, 1, 1), 37.872021428581931),\n",
       " ((2, 0, 1, 4, 1, 1, 1), 37.834333989157621),\n",
       " ((2, 0, 3, 0, 0, 0, 0), 37.754005925980515),\n",
       " ((4, 0, 3, 0, 0, 0, 0), 37.6041546564567),\n",
       " ((0, 0, 3, 0, 0, 1, 0), 37.479592037585974),\n",
       " ((1, 0, 2, 0, 0, 3, 0), 37.41292108678838)]"
      ]
     },
     "execution_count": 52,
     "metadata": {},
     "output_type": "execute_result"
    }
   ],
   "source": [
    "[(a, expected_weight_map[a]) for a in test][:20]"
   ]
  },
  {
   "cell_type": "code",
   "execution_count": 50,
   "metadata": {
    "collapsed": false
   },
   "outputs": [
    {
     "data": {
      "text/plain": [
       "[((4, 0, 2, 3, 0, 1, 0), 42.717538896855388),\n",
       " ((4, 0, 2, 4, 0, 1, 0), 42.615048572202419),\n",
       " ((4, 0, 2, 2, 0, 1, 0), 41.449969203997938),\n",
       " ((5, 0, 2, 3, 0, 1, 0), 41.169070814299005),\n",
       " ((3, 0, 2, 2, 0, 1, 0), 40.58765378965586),\n",
       " ((2, 0, 2, 2, 0, 1, 0), 39.093197929239501),\n",
       " ((3, 0, 3, 1, 0, 0, 0), 38.839653830466233),\n",
       " ((1, 0, 2, 1, 0, 3, 0), 38.308222098752559),\n",
       " ((3, 0, 2, 2, 1, 1, 0), 38.257088252720948),\n",
       " ((3, 0, 3, 0, 0, 0, 0), 38.243082767398185)]"
      ]
     },
     "execution_count": 50,
     "metadata": {},
     "output_type": "execute_result"
    }
   ],
   "source": [
    "[(a, expected_weight_map[a]) for a in test if a[0] > 0][:10]"
   ]
  },
  {
   "cell_type": "code",
   "execution_count": null,
   "metadata": {
    "collapsed": true
   },
   "outputs": [],
   "source": [
    "# ball, bike, block, book, doll, horse, train\n",
    "a = (np.array([1, 0, 2, 2, 1, 2, 0]), 36.443725537916428)\n",
    "b = (np.array([3, 0, 3, 1, 0, 0, 0]), 38.839653830466233)\n",
    "c = (np.array([2, 0, 0, 4, 1, 1, 2]), 36.752024286774869)"
   ]
  },
  {
   "cell_type": "code",
   "execution_count": null,
   "metadata": {
    "collapsed": false
   },
   "outputs": [],
   "source": [
    "def accumulate(rows):\n",
    "    counts = np.array([0, 0, 0, 0, 0, 0, 0])\n",
    "    score = 0\n",
    "    for row in rows:\n",
    "        counts += row[0]\n",
    "        score += row[1]\n",
    "    print (counts)\n",
    "    print (score)"
   ]
  }
 ],
 "metadata": {
  "kernelspec": {
   "display_name": "Python 3",
   "language": "python",
   "name": "python3"
  },
  "language_info": {
   "codemirror_mode": {
    "name": "ipython",
    "version": 3
   },
   "file_extension": ".py",
   "mimetype": "text/x-python",
   "name": "python",
   "nbconvert_exporter": "python",
   "pygments_lexer": "ipython3",
   "version": "3.5.1"
  }
 },
 "nbformat": 4,
 "nbformat_minor": 0
}
