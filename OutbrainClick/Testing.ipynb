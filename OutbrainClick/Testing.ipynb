{
 "cells": [
  {
   "cell_type": "markdown",
   "metadata": {},
   "source": [
    "# [Outbrain Clicks](https://www.kaggle.com/c/outbrain-click-prediction/)\n",
    "Notes:\n",
    "- [Sorting BTB](https://www.kaggle.com/clustifier/outbrain-click-prediction/btb-0-63/code)"
   ]
  },
  {
   "cell_type": "code",
   "execution_count": 10,
   "metadata": {
    "collapsed": false
   },
   "outputs": [],
   "source": [
    "import pandas as pd\n",
    "import numpy as np \n",
    "\n",
    "data = pd.read_csv(\"data/clicks_train.csv\", nrows=10000000) # real length 87141731\n",
    "#test = pd.read_csv(\"data/clicks_test.csv\", nrows=5000000) # real length 32225162\n",
    "from sklearn.cross_validation import train_test_split\n",
    "train = data[:9000000]\n",
    "test = data[9000000:]"
   ]
  },
  {
   "cell_type": "code",
   "execution_count": 11,
   "metadata": {
    "collapsed": false
   },
   "outputs": [],
   "source": [
    "cnt = train[train.clicked==1].ad_id.value_counts()\n",
    "cntall = train.ad_id.value_counts()"
   ]
  },
  {
   "cell_type": "code",
   "execution_count": 12,
   "metadata": {
    "collapsed": true
   },
   "outputs": [],
   "source": [
    "def get_prob(k):\n",
    "    if k not in cnt:\n",
    "        return 0\n",
    "    return cnt[k]/float(cntall[k])\n",
    "\n",
    "def srt(x):\n",
    "    ad_ids = map(int, x.split())\n",
    "    ad_ids = sorted(ad_ids, key=get_prob, reverse=True)\n",
    "    return \" \".join(map(str,ad_ids))"
   ]
  },
  {
   "cell_type": "code",
   "execution_count": 13,
   "metadata": {
    "collapsed": false
   },
   "outputs": [
    {
     "name": "stderr",
     "output_type": "stream",
     "text": [
      "/Users/jgzuke/anaconda3/lib/python3.5/site-packages/ipykernel/__main__.py:1: SettingWithCopyWarning: \n",
      "A value is trying to be set on a copy of a slice from a DataFrame.\n",
      "Try using .loc[row_indexer,col_indexer] = value instead\n",
      "\n",
      "See the caveats in the documentation: http://pandas.pydata.org/pandas-docs/stable/indexing.html#indexing-view-versus-copy\n",
      "  if __name__ == '__main__':\n"
     ]
    }
   ],
   "source": [
    "test['predict_click'] = test.ad_id.apply(lambda x: get_prob(x) > 0.5)\n",
    "#subm['ad_id'] = subm.ad_id.apply(lambda x: srt(x))"
   ]
  },
  {
   "cell_type": "code",
   "execution_count": 30,
   "metadata": {
    "collapsed": false
   },
   "outputs": [],
   "source": [
    "# return true_positive, false_positive, true_negative, false_negative\n",
    "def score(data):\n",
    "    \n",
    "    predict_clicked = data.predict_click\n",
    "    clicked = data.clicked\n",
    "    true_positive = data[predict_clicked & clicked]\n",
    "    false_positive = data[predict_clicked & np.invert(clicked)]\n",
    "    false_negative = data[np.invert(predict_clicked) & clicked]\n",
    "    true_negative = data[np.invert(predict_clicked) & np.invert(clicked)]\n",
    "    \n",
    "    scores = (len(true_positive), len(false_positive), len(true_negative), len(false_negative))\n",
    "    \n",
    "    print ('f1: ' + str(scores[0] / (scores[0] + scores[1] + scores[3])))\n",
    "    print (scores)"
   ]
  },
  {
   "cell_type": "code",
   "execution_count": 31,
   "metadata": {
    "collapsed": false
   },
   "outputs": [
    {
     "name": "stdout",
     "output_type": "stream",
     "text": [
      "f1: 0.08258184034593474\n",
      "(17207, 16089, 791637, 175067)\n"
     ]
    }
   ],
   "source": [
    "score(test.drop(['display_id', 'ad_id'], axis=1))"
   ]
  },
  {
   "cell_type": "code",
   "execution_count": null,
   "metadata": {
    "collapsed": false
   },
   "outputs": [],
   "source": []
  }
 ],
 "metadata": {
  "kernelspec": {
   "display_name": "Python 3",
   "language": "python",
   "name": "python3"
  },
  "language_info": {
   "codemirror_mode": {
    "name": "ipython",
    "version": 3
   },
   "file_extension": ".py",
   "mimetype": "text/x-python",
   "name": "python",
   "nbconvert_exporter": "python",
   "pygments_lexer": "ipython3",
   "version": "3.5.1"
  }
 },
 "nbformat": 4,
 "nbformat_minor": 0
}
