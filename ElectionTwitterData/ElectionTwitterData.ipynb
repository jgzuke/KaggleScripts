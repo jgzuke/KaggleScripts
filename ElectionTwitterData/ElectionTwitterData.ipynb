{
 "cells": [
  {
   "cell_type": "code",
   "execution_count": 662,
   "metadata": {
    "collapsed": true
   },
   "outputs": [],
   "source": [
    "%matplotlib inline\n",
    "import pandas as pd\n",
    "import numpy as np\n",
    "tweets_raw = pd.read_csv(\"data/Sentiment.csv\")"
   ]
  },
  {
   "cell_type": "code",
   "execution_count": 687,
   "metadata": {
    "collapsed": false
   },
   "outputs": [
    {
     "name": "stdout",
     "output_type": "stream",
     "text": [
      "8493\n",
      "2236\n"
     ]
    }
   ],
   "source": [
    "sentiments = tweets_raw.loc[:,['sentiment', 'text']]\n",
    "sentiments_pos = sentiments[sentiments.sentiment == 'Positive']\n",
    "sentiments_neg = sentiments[sentiments.sentiment == 'Negative']\n",
    "\n",
    "import re\n",
    "def word_feats(tweet_full):\n",
    "    words = re.findall(r\"[\\w']+|[.,!?;]\", tweet_full[1])\n",
    "    words_filtered = [e.lower() for e in words if len(e) >= 3]\n",
    "    return dict([(word, True) for word in words_filtered])\n",
    "\n",
    "neg_features = [(word_feats(tweet_full), 'neg') for tweet_full in sentiments_neg.values]\n",
    "pos_features = [(word_feats(tweet_full), 'pos') for tweet_full in sentiments_pos.values]\n",
    "sentiments_test = neg_features[:10] + pos_features[:10]\n",
    "sentiments_train = neg_features[400:2236] + pos_features[400:2236]\n",
    "print (len(neg_features))\n",
    "print (len(pos_features))"
   ]
  },
  {
   "cell_type": "code",
   "execution_count": 688,
   "metadata": {
    "collapsed": false
   },
   "outputs": [
    {
     "name": "stdout",
     "output_type": "stream",
     "text": [
      "accuracy: 0.8\n",
      "Most Informative Features\n",
      "              gopdebates = True              pos : neg    =    337.0 : 1.0\n",
      "            rwsurfergirl = True              pos : neg    =     68.6 : 1.0\n",
      "                    band = True              pos : neg    =     48.3 : 1.0\n",
      "          donniewahlberg = True              pos : neg    =     37.7 : 1.0\n",
      "                   nails = True              pos : neg    =     33.0 : 1.0\n",
      "                together = True              pos : neg    =     29.8 : 1.0\n",
      "                 ratings = True              pos : neg    =     24.4 : 1.0\n",
      "                 tedcruz = True              pos : neg    =     22.1 : 1.0\n",
      "                  headed = True              pos : neg    =     21.0 : 1.0\n",
      "                 brought = True              pos : neg    =     19.7 : 1.0\n"
     ]
    }
   ],
   "source": [
    "import nltk\n",
    "from nltk import NaiveBayesClassifier\n",
    "clf = NaiveBayesClassifier.train(sentiments_train)\n",
    "print ('accuracy:', nltk.classify.util.accuracy(clf, sentiments_test))\n",
    "clf.show_most_informative_features()"
   ]
  },
  {
   "cell_type": "code",
   "execution_count": 696,
   "metadata": {
    "collapsed": false
   },
   "outputs": [
    {
     "name": "stdout",
     "output_type": "stream",
     "text": [
      "neg vs neg\n",
      "neg vs neg\n",
      "neg vs neg\n",
      "neg vs neg\n",
      "neg vs neg\n",
      "neg vs neg\n",
      "neg vs neg\n",
      "neg vs neg\n",
      "neg vs neg\n",
      "neg vs neg\n",
      "pos vs neg\n",
      "pos vs neg\n",
      "pos vs pos\n",
      "pos vs pos\n",
      "pos vs neg\n",
      "pos vs pos\n",
      "pos vs pos\n",
      "pos vs pos\n",
      "pos vs neg\n",
      "pos vs pos\n"
     ]
    },
    {
     "data": {
      "text/plain": [
       "defaultdict(set,\n",
       "            {'neg': {0, 1, 2, 3, 4, 5, 6, 7, 8, 9, 10, 11, 14, 18},\n",
       "             'pos': {12, 13, 15, 16, 17, 19}})"
      ]
     },
     "execution_count": 696,
     "metadata": {},
     "output_type": "execute_result"
    }
   ],
   "source": [
    "import collections\n",
    "reference_sets = collections.defaultdict(set)\n",
    "test_sets = collections.defaultdict(set)\n",
    "for i, features in enumerate(sentiments_test):\n",
    "    label = features[1]\n",
    "    reference_sets[label].add(i)\n",
    "    predicted = clf.classify(features[0])\n",
    "    test_sets[predicted].add(i)\n",
    "    print (label + \" vs \" + predicted)\n",
    "test_sets"
   ]
  },
  {
   "cell_type": "code",
   "execution_count": 690,
   "metadata": {
    "collapsed": false
   },
   "outputs": [],
   "source": [
    "from nltk.metrics.scores import precision\n",
    "from nltk.metrics.scores import recall\n",
    "pos_precision = nltk.precision(reference_sets['pos'], test_sets['pos'])\n",
    "pos_recall = nltk.recall(reference_sets['pos'], test_sets['pos'])\n",
    "neg_precision = nltk.precision(reference_sets['neg'], test_sets['neg'])\n",
    "neg_recall = nltk.recall(reference_sets['neg'], test_sets['neg'])"
   ]
  },
  {
   "cell_type": "code",
   "execution_count": 691,
   "metadata": {
    "collapsed": false,
    "scrolled": true
   },
   "outputs": [
    {
     "name": "stdout",
     "output_type": "stream",
     "text": [
      "accuracy: 0.52\n",
      "pos_precision: 1.0\n",
      "pos_recall: 0.6\n",
      "neg_precision: 0.7142857142857143\n",
      "neg_recall: 1.0\n"
     ]
    }
   ],
   "source": [
    "print (\"accuracy: \" + str(accuracy))\n",
    "print (\"pos_precision: \" + str(pos_precision))\n",
    "print (\"pos_recall: \" + str(pos_recall))\n",
    "print (\"neg_precision: \" + str(neg_precision))\n",
    "print (\"neg_recall: \" + str(neg_recall))"
   ]
  },
  {
   "cell_type": "code",
   "execution_count": 692,
   "metadata": {
    "collapsed": false
   },
   "outputs": [
    {
     "data": {
      "text/plain": [
       "'neg'"
      ]
     },
     "execution_count": 692,
     "metadata": {},
     "output_type": "execute_result"
    }
   ],
   "source": [
    "sentiments_test[0][1]"
   ]
  },
  {
   "cell_type": "code",
   "execution_count": null,
   "metadata": {
    "collapsed": true
   },
   "outputs": [],
   "source": []
  }
 ],
 "metadata": {
  "kernelspec": {
   "display_name": "Python 3",
   "language": "python",
   "name": "python3"
  },
  "language_info": {
   "codemirror_mode": {
    "name": "ipython",
    "version": 3
   },
   "file_extension": ".py",
   "mimetype": "text/x-python",
   "name": "python",
   "nbconvert_exporter": "python",
   "pygments_lexer": "ipython3",
   "version": "3.5.1"
  }
 },
 "nbformat": 4,
 "nbformat_minor": 0
}
