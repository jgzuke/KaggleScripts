{
 "cells": [
  {
   "cell_type": "code",
   "execution_count": 867,
   "metadata": {
    "collapsed": true
   },
   "outputs": [],
   "source": [
    "%matplotlib inline\n",
    "import pandas as pd\n",
    "import numpy as np\n",
    "tweets_raw = pd.read_csv(\"data/Sentiment.csv\")"
   ]
  },
  {
   "cell_type": "code",
   "execution_count": 868,
   "metadata": {
    "collapsed": false
   },
   "outputs": [
    {
     "name": "stdout",
     "output_type": "stream",
     "text": [
      "[nltk_data] Downloading package stopwords to\n",
      "[nltk_data]     /Users/jgzuke/nltk_data...\n",
      "[nltk_data]   Package stopwords is already up-to-date!\n"
     ]
    }
   ],
   "source": [
    "sentiments = tweets_raw.loc[:,['sentiment', 'text']]\n",
    "sentiments_pos = sentiments[sentiments.sentiment == 'Positive']\n",
    "sentiments_neg = sentiments[sentiments.sentiment == 'Negative']\n",
    "\n",
    "import re\n",
    "nltk.download('stopwords')\n",
    "from nltk.corpus import stopwords\n",
    "stopset = set(stopwords.words('english'))\n",
    "import itertools\n",
    "from nltk.collocations import BigramCollocationFinder\n",
    "from nltk.metrics import BigramAssocMeasures\n",
    "\n",
    "def word_feats(tweet_full):\n",
    "    label = tweet_full[0]\n",
    "    words = re.findall(r\"[\\w']+|[.,!?;]\", tweet_full[1])\n",
    "    words_filtered = [e.lower() for e in words if (len(e) >= 3) & (e.lower() not in stopset)]\n",
    "    \n",
    "    bigram_finder = BigramCollocationFinder.from_words(words_filtered)\n",
    "    bigrams = bigram_finder.nbest(BigramAssocMeasures.chi_sq, 3)\n",
    "    return (dict([(ngram, True) for ngram in itertools.chain(words_filtered, bigrams)]), label)\n",
    "\n",
    "def word_feats_without_bigrams(tweet_full):\n",
    "    label = tweet_full[0]\n",
    "    words = re.findall(r\"[\\w']+|[.,!?;]\", tweet_full[1])\n",
    "    words_filtered = [e.lower() for e in words if (len(e) >= 3) & (e.lower() not in stopset)]\n",
    "    return (dict([(word, True) for word in words_filtered]), label)"
   ]
  },
  {
   "cell_type": "code",
   "execution_count": 869,
   "metadata": {
    "collapsed": false
   },
   "outputs": [
    {
     "name": "stdout",
     "output_type": "stream",
     "text": [
      "8493\n",
      "2236\n"
     ]
    }
   ],
   "source": [
    "neg_features = [word_feats(tweet_full) for tweet_full in sentiments_neg.values]\n",
    "pos_features = [word_feats(tweet_full) for tweet_full in sentiments_pos.values]\n",
    "sentiments_test = neg_features[:400] + pos_features[:400]\n",
    "sentiments_train = neg_features[400:2236] + pos_features[400:2236]\n",
    "print (len(neg_features))\n",
    "print (len(pos_features))"
   ]
  },
  {
   "cell_type": "code",
   "execution_count": 870,
   "metadata": {
    "collapsed": false
   },
   "outputs": [
    {
     "name": "stdout",
     "output_type": "stream",
     "text": [
      "Most Informative Features\n",
      "              gopdebates = True           Positi : Negati =    337.0 : 1.0\n",
      "('gopdebate', 'gopdebates') = True           Positi : Negati =     87.8 : 1.0\n",
      "            rwsurfergirl = True           Positi : Negati =     68.6 : 1.0\n",
      "       ('bush', 'rubio') = True           Positi : Negati =     48.3 : 1.0\n",
      "                    band = True           Positi : Negati =     48.3 : 1.0\n",
      "          donniewahlberg = True           Positi : Negati =     37.7 : 1.0\n",
      "                   nails = True           Positi : Negati =     33.0 : 1.0\n",
      "                together = True           Positi : Negati =     29.8 : 1.0\n",
      "       ('cruz', 'trump') = True           Positi : Negati =     29.4 : 1.0\n",
      "                 ratings = True           Positi : Negati =     24.4 : 1.0\n"
     ]
    }
   ],
   "source": [
    "import nltk\n",
    "from nltk import NaiveBayesClassifier\n",
    "clf = NaiveBayesClassifier.train(sentiments_train)\n",
    "clf.show_most_informative_features()"
   ]
  },
  {
   "cell_type": "code",
   "execution_count": 871,
   "metadata": {
    "collapsed": false
   },
   "outputs": [],
   "source": [
    "import collections\n",
    "reference_sets = collections.defaultdict(set)\n",
    "test_sets = collections.defaultdict(set)\n",
    "for i, features in enumerate(sentiments_test):\n",
    "    label = features[1]\n",
    "    reference_sets[label].add(i)\n",
    "    predicted = clf.classify(features[0])\n",
    "    test_sets[predicted].add(i)"
   ]
  },
  {
   "cell_type": "code",
   "execution_count": 872,
   "metadata": {
    "collapsed": false
   },
   "outputs": [],
   "source": [
    "from nltk.metrics.scores import precision\n",
    "from nltk.metrics.scores import recall\n",
    "accuracy = nltk.classify.util.accuracy(clf, sentiments_test)\n",
    "pos_precision = nltk.precision(reference_sets['Positive'], test_sets['Positive'])\n",
    "pos_recall = nltk.recall(reference_sets['Positive'], test_sets['Positive'])\n",
    "neg_precision = nltk.precision(reference_sets['Negative'], test_sets['Negative'])\n",
    "neg_recall = nltk.recall(reference_sets['Negative'], test_sets['Negative'])"
   ]
  },
  {
   "cell_type": "code",
   "execution_count": 873,
   "metadata": {
    "collapsed": false,
    "scrolled": true
   },
   "outputs": [
    {
     "name": "stdout",
     "output_type": "stream",
     "text": [
      "accuracy: 0.72375\n",
      "pos_precision: 0.8231046931407943\n",
      "pos_recall: 0.57\n",
      "neg_precision: 0.6711281070745698\n",
      "neg_recall: 0.8775\n"
     ]
    }
   ],
   "source": [
    "print (\"accuracy: \" + str(accuracy))\n",
    "print (\"pos_precision: \" + str(pos_precision))\n",
    "print (\"pos_recall: \" + str(pos_recall))\n",
    "print (\"neg_precision: \" + str(neg_precision))\n",
    "print (\"neg_recall: \" + str(neg_recall))"
   ]
  },
  {
   "cell_type": "code",
   "execution_count": null,
   "metadata": {
    "collapsed": false
   },
   "outputs": [],
   "source": []
  },
  {
   "cell_type": "code",
   "execution_count": null,
   "metadata": {
    "collapsed": true
   },
   "outputs": [],
   "source": []
  }
 ],
 "metadata": {
  "kernelspec": {
   "display_name": "Python 3",
   "language": "python",
   "name": "python3"
  },
  "language_info": {
   "codemirror_mode": {
    "name": "ipython",
    "version": 3
   },
   "file_extension": ".py",
   "mimetype": "text/x-python",
   "name": "python",
   "nbconvert_exporter": "python",
   "pygments_lexer": "ipython3",
   "version": "3.5.1"
  }
 },
 "nbformat": 4,
 "nbformat_minor": 0
}
