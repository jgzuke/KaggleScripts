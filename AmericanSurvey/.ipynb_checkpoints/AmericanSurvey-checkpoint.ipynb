{
 "cells": [
  {
   "cell_type": "markdown",
   "metadata": {},
   "source": [
    "# American Survey"
   ]
  },
  {
   "cell_type": "code",
   "execution_count": 39,
   "metadata": {
    "collapsed": false
   },
   "outputs": [],
   "source": [
    "%matplotlib inline\n",
    "import pandas as pd\n",
    "import numpy as np\n",
    "housing_a = pd.read_csv(\"data/pums/ss13husa.csv\",sep=\",\",usecols=('ST', 'FINCP'))\n",
    "housing_b = pd.read_csv(\"data/pums/ss13husb.csv\",sep=\",\",usecols=('ST', 'FINCP'))\n",
    "housing = housing_a.append(housing_b)\n",
    "#population_a = pd.read_csv(\"data/pums/ss13pusa.csv\",sep=\",\",usecols=(1))\n",
    "#population_b = pd.read_csv(\"data/pums/ss13pusb.csv\",sep=\",\",usecols=(1))"
   ]
  },
  {
   "cell_type": "code",
   "execution_count": 40,
   "metadata": {
    "collapsed": false
   },
   "outputs": [
    {
     "data": {
      "text/html": [
       "<div>\n",
       "<table border=\"1\" class=\"dataframe\">\n",
       "  <thead>\n",
       "    <tr style=\"text-align: right;\">\n",
       "      <th></th>\n",
       "      <th>ST</th>\n",
       "      <th>FINCP</th>\n",
       "    </tr>\n",
       "  </thead>\n",
       "  <tbody>\n",
       "    <tr>\n",
       "      <th>0</th>\n",
       "      <td>1</td>\n",
       "      <td>NaN</td>\n",
       "    </tr>\n",
       "    <tr>\n",
       "      <th>1</th>\n",
       "      <td>1</td>\n",
       "      <td>151000.0</td>\n",
       "    </tr>\n",
       "    <tr>\n",
       "      <th>2</th>\n",
       "      <td>1</td>\n",
       "      <td>NaN</td>\n",
       "    </tr>\n",
       "    <tr>\n",
       "      <th>3</th>\n",
       "      <td>1</td>\n",
       "      <td>11400.0</td>\n",
       "    </tr>\n",
       "    <tr>\n",
       "      <th>4</th>\n",
       "      <td>1</td>\n",
       "      <td>NaN</td>\n",
       "    </tr>\n",
       "  </tbody>\n",
       "</table>\n",
       "</div>"
      ],
      "text/plain": [
       "   ST     FINCP\n",
       "0   1       NaN\n",
       "1   1  151000.0\n",
       "2   1       NaN\n",
       "3   1   11400.0\n",
       "4   1       NaN"
      ]
     },
     "execution_count": 40,
     "metadata": {},
     "output_type": "execute_result"
    }
   ],
   "source": [
    "housing_a.head()"
   ]
  },
  {
   "cell_type": "code",
   "execution_count": 41,
   "metadata": {
    "collapsed": false
   },
   "outputs": [
    {
     "name": "stdout",
     "output_type": "stream",
     "text": [
      "State 1: Average income 71368\n",
      "State 2: Average income 86497\n",
      "State 4: Average income 77755\n",
      "State 5: Average income 65834\n",
      "State 6: Average income 98832\n",
      "State 8: Average income 96815\n",
      "State 9: Average income 127575\n",
      "State 10: Average income 91722\n",
      "State 11: Average income 138332\n",
      "State 12: Average income 81067\n",
      "State 13: Average income 80629\n",
      "State 15: Average income 100677\n",
      "State 16: Average income 69169\n",
      "State 17: Average income 93159\n",
      "State 18: Average income 73794\n",
      "State 19: Average income 78369\n",
      "State 20: Average income 80658\n",
      "State 21: Average income 73276\n",
      "State 22: Average income 75501\n",
      "State 23: Average income 72194\n",
      "State 24: Average income 117881\n",
      "State 25: Average income 115381\n",
      "State 26: Average income 76989\n",
      "State 27: Average income 91653\n",
      "State 28: Average income 62705\n",
      "State 29: Average income 74936\n",
      "State 30: Average income 76793\n",
      "State 31: Average income 81682\n",
      "State 32: Average income 79217\n",
      "State 33: Average income 97987\n",
      "State 34: Average income 118614\n",
      "State 35: Average income 70638\n",
      "State 36: Average income 100722\n",
      "State 37: Average income 78977\n",
      "State 38: Average income 91551\n",
      "State 39: Average income 78568\n",
      "State 40: Average income 70123\n",
      "State 41: Average income 82188\n",
      "State 42: Average income 84676\n",
      "State 44: Average income 97604\n",
      "State 45: Average income 73469\n",
      "State 46: Average income 74236\n",
      "State 47: Average income 75342\n",
      "State 48: Average income 86750\n",
      "State 49: Average income 85052\n",
      "State 50: Average income 82322\n",
      "State 51: Average income 106887\n",
      "State 53: Average income 93686\n",
      "State 54: Average income 66320\n",
      "State 55: Average income 81334\n",
      "State 56: Average income 82832\n"
     ]
    }
   ],
   "source": [
    "for i in range(1, 72):\n",
    "    incomes = housing[housing.ST == i].FINCP.values\n",
    "    if (len(incomes > 0)):\n",
    "        income_average = np.average(incomes[~np.isnan(incomes)])\n",
    "        print ('State %d: Average income %d' % (i, income_average))"
   ]
  },
  {
   "cell_type": "code",
   "execution_count": 49,
   "metadata": {
    "collapsed": false
   },
   "outputs": [],
   "source": [
    "import matplotlib as mpl\n",
    "import matplotlib.pyplot as plt\n",
    "import numpy as np\n",
    "import random\n",
    "from matplotlib.patches import Polygon, PathPatch\n",
    "from matplotlib.collections import PatchCollection\n",
    "from mpl_toolkits.basemap import Basemap\n",
    "state_codes = {'01': 'Alabama',\n",
    "               '02': 'Alaska',\n",
    "               '04': 'Arizona',\n",
    "               '05': 'Arkansas',\n",
    "               '06': 'California',\n",
    "               '08': 'Colorado',\n",
    "               '09': 'Connecticut',\n",
    "               '10': 'Delaware',\n",
    "               '11': 'District of Columbia',\n",
    "               '12': 'Florida',\n",
    "               '13': 'Georgia',\n",
    "               '15': 'Hawaii',\n",
    "               '16': 'Idaho',\n",
    "               '17': 'Illinois',\n",
    "               '18': 'Indiana',\n",
    "               '19': 'Iowa',\n",
    "               '20': 'Kansas',\n",
    "               '21': 'Kentucky',\n",
    "               '22': 'Louisiana',\n",
    "               '23': 'Maine',\n",
    "               '24': 'Maryland',\n",
    "               '25': 'Massachusetts',\n",
    "               '26': 'Michigan',\n",
    "               '27': 'Minnesota',\n",
    "               '28': 'Mississippi',\n",
    "               '29': 'Missouri',\n",
    "               '30': 'Montana',\n",
    "               '31': 'Nebraska',\n",
    "               '32': 'Nevada',\n",
    "               '33': 'New Hampshire',\n",
    "               '34': 'New Jersey',\n",
    "               '35': 'New Mexico',\n",
    "               '36': 'New York',\n",
    "               '37': 'North Carolina',\n",
    "               '38': 'North Dakota',\n",
    "               '39': 'Ohio',\n",
    "               '40': 'Oklahoma',\n",
    "               '41': 'Oregon',\n",
    "               '42': 'Pennsylvania',\n",
    "               '44': 'Rhode Island',\n",
    "               '45': 'South Carolina',\n",
    "               '46': 'South Dakota',\n",
    "               '47': 'Tennessee',\n",
    "               '48': 'Texas',\n",
    "               '49': 'Utah',\n",
    "               '50': 'Vermont',\n",
    "               '51': 'Virginia',\n",
    "               '53': 'Washington',\n",
    "               '54': 'West Virginia',\n",
    "               '55': 'Wisconsin',\n",
    "               '56': 'Wyoming'\n",
    "               }"
   ]
  },
  {
   "cell_type": "code",
   "execution_count": 50,
   "metadata": {
    "collapsed": false
   },
   "outputs": [
    {
     "data": {
      "image/png": "[encoded data removed]",
      "text/plain": [
       "<matplotlib.figure.Figure at 0x16ecd8e10>"
      ]
     },
     "metadata": {},
     "output_type": "display_data"
    }
   ],
   "source": [
    "fig = plt.figure(figsize=(20,10))\n",
    "ax = fig.add_subplot(111, axisbg='w', frame_on=False)\n",
    "fig.suptitle('PUMA Shapefiles: An Example with Basemap', fontsize=20)\n",
    "\n",
    "\n",
    "# create a map object with the Albert Equal Areas projection.\n",
    "# This projection tends to look nice for the contiguous us.\n",
    "m = Basemap(width=5000000,height=3500000,\n",
    "            resolution='l',projection='aea',\\\n",
    "            lat_1=30.,lat_2=50,lon_0=-96,lat_0=38)"
   ]
  },
  {
   "cell_type": "code",
   "execution_count": 52,
   "metadata": {
    "collapsed": false
   },
   "outputs": [
    {
     "ename": "OSError",
     "evalue": "cannot locate data/shapefiles/pums/tl_2013_18_puma10.shp",
     "output_type": "error",
     "traceback": [
      "\u001b[0;31m---------------------------------------------------------------------------\u001b[0m",
      "\u001b[0;31mOSError\u001b[0m                                   Traceback (most recent call last)",
      "\u001b[0;32m<ipython-input-52-5548eb84c1c0>\u001b[0m in \u001b[0;36m<module>\u001b[0;34m()\u001b[0m\n\u001b[1;32m     11\u001b[0m \u001b[0;32mfor\u001b[0m \u001b[0mkey\u001b[0m \u001b[0;32min\u001b[0m \u001b[0mstate_codes\u001b[0m\u001b[0;34m.\u001b[0m\u001b[0mkeys\u001b[0m\u001b[0;34m(\u001b[0m\u001b[0;34m)\u001b[0m\u001b[0;34m:\u001b[0m\u001b[0;34m\u001b[0m\u001b[0m\n\u001b[1;32m     12\u001b[0m     m.readshapefile('data/shapefiles/pums/tl_2013_{0}_puma10'.format(key),\n\u001b[0;32m---> 13\u001b[0;31m                     name='state', drawbounds=True, default_encoding='latin-1')\n\u001b[0m\u001b[1;32m     14\u001b[0m \u001b[0;34m\u001b[0m\u001b[0m\n\u001b[1;32m     15\u001b[0m     \u001b[0;31m# loop through each PUMA and assign a random color from our colorramp\u001b[0m\u001b[0;34m\u001b[0m\u001b[0;34m\u001b[0m\u001b[0m\n",
      "\u001b[0;32m/Users/jgzuke/anaconda3/lib/python3.5/site-packages/mpl_toolkits/basemap/__init__.py\u001b[0m in \u001b[0;36mreadshapefile\u001b[0;34m(self, shapefile, name, drawbounds, zorder, linewidth, color, antialiased, ax, default_encoding)\u001b[0m\n\u001b[1;32m   2122\u001b[0m         \u001b[0mshp\u001b[0m\u001b[0;34m.\u001b[0m\u001b[0mdefault_encoding\u001b[0m \u001b[0;34m=\u001b[0m \u001b[0mdefault_encoding\u001b[0m\u001b[0;34m\u001b[0m\u001b[0m\n\u001b[1;32m   2123\u001b[0m         \u001b[0;32mif\u001b[0m \u001b[0;32mnot\u001b[0m \u001b[0mos\u001b[0m\u001b[0;34m.\u001b[0m\u001b[0mpath\u001b[0m\u001b[0;34m.\u001b[0m\u001b[0mexists\u001b[0m\u001b[0;34m(\u001b[0m\u001b[0;34m'%s.shp'\u001b[0m\u001b[0;34m%\u001b[0m\u001b[0mshapefile\u001b[0m\u001b[0;34m)\u001b[0m\u001b[0;34m:\u001b[0m\u001b[0;34m\u001b[0m\u001b[0m\n\u001b[0;32m-> 2124\u001b[0;31m             \u001b[0;32mraise\u001b[0m \u001b[0mIOError\u001b[0m\u001b[0;34m(\u001b[0m\u001b[0;34m'cannot locate %s.shp'\u001b[0m\u001b[0;34m%\u001b[0m\u001b[0mshapefile\u001b[0m\u001b[0;34m)\u001b[0m\u001b[0;34m\u001b[0m\u001b[0m\n\u001b[0m\u001b[1;32m   2125\u001b[0m         \u001b[0;32mif\u001b[0m \u001b[0;32mnot\u001b[0m \u001b[0mos\u001b[0m\u001b[0;34m.\u001b[0m\u001b[0mpath\u001b[0m\u001b[0;34m.\u001b[0m\u001b[0mexists\u001b[0m\u001b[0;34m(\u001b[0m\u001b[0;34m'%s.shx'\u001b[0m\u001b[0;34m%\u001b[0m\u001b[0mshapefile\u001b[0m\u001b[0;34m)\u001b[0m\u001b[0;34m:\u001b[0m\u001b[0;34m\u001b[0m\u001b[0m\n\u001b[1;32m   2126\u001b[0m             \u001b[0;32mraise\u001b[0m \u001b[0mIOError\u001b[0m\u001b[0;34m(\u001b[0m\u001b[0;34m'cannot locate %s.shx'\u001b[0m\u001b[0;34m%\u001b[0m\u001b[0mshapefile\u001b[0m\u001b[0;34m)\u001b[0m\u001b[0;34m\u001b[0m\u001b[0m\n",
      "\u001b[0;31mOSError\u001b[0m: cannot locate data/shapefiles/pums/tl_2013_18_puma10.shp"
     ]
    }
   ],
   "source": [
    "num_colors = 12\n",
    "cm = plt.get_cmap('Blues')\n",
    "blues = [cm(1.*i/num_colors) for i in range(num_colors)]\n",
    "\n",
    "# add colorbar legend\n",
    "cmap = mpl.colors.ListedColormap(blues)\n",
    "# define the bins\n",
    "bounds = np.linspace(0.0, 1.0, num_colors)\n",
    "\n",
    "# read each states shapefile\n",
    "for key in state_codes.keys():\n",
    "    m.readshapefile('data/shapefiles/pums/tl_2013_{0}_puma10'.format(key),\n",
    "                    name='state', drawbounds=True, default_encoding='latin-1')\n",
    "                    \n",
    "    # loop through each PUMA and assign a random color from our colorramp\n",
    "    for info, shape in zip(m.state_info, m.state):\n",
    "        patches = [Polygon(np.array(shape), True)]\n",
    "        pc = PatchCollection(patches, edgecolor='k', linewidths=1., zorder=2)\n",
    "        pc.set_color(random.choice(blues))\n",
    "        ax.add_collection(pc)\n",
    "\n",
    "# create a second axes for the colorbar\n",
    "ax2 = fig.add_axes([0.82, 0.1, 0.03, 0.8])\n",
    "cb = mpl.colorbar.ColorbarBase(ax2, cmap=cmap, ticks=bounds, boundaries=bounds,\n",
    "                               format='%1i')\n",
    "cb.ax.set_yticklabels([str(round(i, 2)) for i in bounds])\n",
    "\n",
    "plt.savefig('map.png')"
   ]
  },
  {
   "cell_type": "code",
   "execution_count": null,
   "metadata": {
    "collapsed": true
   },
   "outputs": [],
   "source": []
  },
  {
   "cell_type": "code",
   "execution_count": null,
   "metadata": {
    "collapsed": true
   },
   "outputs": [],
   "source": []
  }
 ],
 "metadata": {
  "kernelspec": {
   "display_name": "Python 3",
   "language": "python",
   "name": "python3"
  },
  "language_info": {
   "codemirror_mode": {
    "name": "ipython",
    "version": 3
   },
   "file_extension": ".py",
   "mimetype": "text/x-python",
   "name": "python",
   "nbconvert_exporter": "python",
   "pygments_lexer": "ipython3",
   "version": "3.5.1"
  }
 },
 "nbformat": 4,
 "nbformat_minor": 0
}
