{
 "cells": [
  {
   "cell_type": "markdown",
   "metadata": {},
   "source": [
    "# American Survey"
   ]
  },
  {
   "cell_type": "code",
   "execution_count": 24,
   "metadata": {
    "collapsed": false
   },
   "outputs": [],
   "source": [
    "%matplotlib inline\n",
    "import pandas as pd\n",
    "import numpy as np\n",
    "housing_a = pd.read_csv(\"data/pums/ss13husa.csv\",sep=\",\",usecols=('ST', 'FINCP'))\n",
    "housing_b = pd.read_csv(\"data/pums/ss13husb.csv\",sep=\",\",usecols=('ST', 'FINCP'))\n",
    "housing = housing_a.append(housing_b)\n",
    "#population_a = pd.read_csv(\"data/pums/ss13pusa.csv\",sep=\",\",usecols=(1))\n",
    "#population_b = pd.read_csv(\"data/pums/ss13pusb.csv\",sep=\",\",usecols=(1))"
   ]
  },
  {
   "cell_type": "code",
   "execution_count": 25,
   "metadata": {
    "collapsed": false
   },
   "outputs": [
    {
     "data": {
      "text/html": [
       "<div>\n",
       "<table border=\"1\" class=\"dataframe\">\n",
       "  <thead>\n",
       "    <tr style=\"text-align: right;\">\n",
       "      <th></th>\n",
       "      <th>ST</th>\n",
       "      <th>FINCP</th>\n",
       "    </tr>\n",
       "  </thead>\n",
       "  <tbody>\n",
       "    <tr>\n",
       "      <th>0</th>\n",
       "      <td>1</td>\n",
       "      <td>NaN</td>\n",
       "    </tr>\n",
       "    <tr>\n",
       "      <th>1</th>\n",
       "      <td>1</td>\n",
       "      <td>151000.0</td>\n",
       "    </tr>\n",
       "    <tr>\n",
       "      <th>2</th>\n",
       "      <td>1</td>\n",
       "      <td>NaN</td>\n",
       "    </tr>\n",
       "    <tr>\n",
       "      <th>3</th>\n",
       "      <td>1</td>\n",
       "      <td>11400.0</td>\n",
       "    </tr>\n",
       "    <tr>\n",
       "      <th>4</th>\n",
       "      <td>1</td>\n",
       "      <td>NaN</td>\n",
       "    </tr>\n",
       "  </tbody>\n",
       "</table>\n",
       "</div>"
      ],
      "text/plain": [
       "   ST     FINCP\n",
       "0   1       NaN\n",
       "1   1  151000.0\n",
       "2   1       NaN\n",
       "3   1   11400.0\n",
       "4   1       NaN"
      ]
     },
     "execution_count": 25,
     "metadata": {},
     "output_type": "execute_result"
    }
   ],
   "source": [
    "housing_a.head()"
   ]
  },
  {
   "cell_type": "code",
   "execution_count": 38,
   "metadata": {
    "collapsed": false
   },
   "outputs": [
    {
     "name": "stdout",
     "output_type": "stream",
     "text": [
      "State 1: Average income 71368\n",
      "State 2: Average income 86497\n",
      "State 4: Average income 77755\n",
      "State 5: Average income 65834\n",
      "State 6: Average income 98832\n",
      "State 8: Average income 96815\n",
      "State 9: Average income 127575\n",
      "State 10: Average income 91722\n",
      "State 11: Average income 138332\n",
      "State 12: Average income 81067\n",
      "State 13: Average income 80629\n",
      "State 15: Average income 100677\n",
      "State 16: Average income 69169\n",
      "State 17: Average income 93159\n",
      "State 18: Average income 73794\n",
      "State 19: Average income 78369\n",
      "State 20: Average income 80658\n",
      "State 21: Average income 73276\n",
      "State 22: Average income 75501\n",
      "State 23: Average income 72194\n",
      "State 24: Average income 117881\n",
      "State 25: Average income 115381\n",
      "State 26: Average income 76989\n",
      "State 27: Average income 91653\n",
      "State 28: Average income 62705\n",
      "State 29: Average income 74936\n",
      "State 30: Average income 76793\n",
      "State 31: Average income 81682\n",
      "State 32: Average income 79217\n",
      "State 33: Average income 97987\n",
      "State 34: Average income 118614\n",
      "State 35: Average income 70638\n",
      "State 36: Average income 100722\n",
      "State 37: Average income 78977\n",
      "State 38: Average income 91551\n",
      "State 39: Average income 78568\n",
      "State 40: Average income 70123\n",
      "State 41: Average income 82188\n",
      "State 42: Average income 84676\n",
      "State 44: Average income 97604\n",
      "State 45: Average income 73469\n",
      "State 46: Average income 74236\n",
      "State 47: Average income 75342\n",
      "State 48: Average income 86750\n",
      "State 49: Average income 85052\n",
      "State 50: Average income 82322\n",
      "State 51: Average income 106887\n",
      "State 53: Average income 93686\n",
      "State 54: Average income 66320\n",
      "State 55: Average income 81334\n",
      "State 56: Average income 82832\n"
     ]
    }
   ],
   "source": [
    "for i in range(1, 72):\n",
    "    incomes = housing[housing.ST == i].FINCP.values\n",
    "    if (len(incomes > 0)):\n",
    "        income_average = np.average(incomes[~np.isnan(incomes)])\n",
    "        print ('State %d: Average income %d' % (i, income_average))"
   ]
  },
  {
   "cell_type": "code",
   "execution_count": 31,
   "metadata": {
    "collapsed": false
   },
   "outputs": [],
   "source": []
  },
  {
   "cell_type": "code",
   "execution_count": null,
   "metadata": {
    "collapsed": false
   },
   "outputs": [],
   "source": []
  },
  {
   "cell_type": "code",
   "execution_count": null,
   "metadata": {
    "collapsed": true
   },
   "outputs": [],
   "source": []
  }
 ],
 "metadata": {
  "kernelspec": {
   "display_name": "Python 3",
   "language": "python",
   "name": "python3"
  },
  "language_info": {
   "codemirror_mode": {
    "name": "ipython",
    "version": 3
   },
   "file_extension": ".py",
   "mimetype": "text/x-python",
   "name": "python",
   "nbconvert_exporter": "python",
   "pygments_lexer": "ipython3",
   "version": "3.5.1"
  }
 },
 "nbformat": 4,
 "nbformat_minor": 0
}
