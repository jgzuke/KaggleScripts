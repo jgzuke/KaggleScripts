{
 "cells": [
  {
   "cell_type": "markdown",
   "metadata": {},
   "source": [
    "# American Survey"
   ]
  },
  {
   "cell_type": "code",
   "execution_count": 12,
   "metadata": {
    "collapsed": false
   },
   "outputs": [],
   "source": [
    "%matplotlib inline\n",
    "import pandas as pd\n",
    "import numpy as np\n",
    "# Possible\n",
    "# INTP, OIP, PAP, PERNP, PINCP, RETP, SEMP, SSIP, SSP, and WAGP\n",
    "# OIP = other, RETP = retirement, SEMP = self emlpoyed, WAGP = wages\n",
    "income_types = ['OIP', 'RETP', 'SEMP', 'WAGP']\n",
    "population_a = pd.read_csv(\"data/pums/ss13pusa.csv\", usecols = income_types + ['ST'], nrows = 100000)\n",
    "population_b = pd.read_csv(\"data/pums/ss13pusb.csv\", usecols = income_types + ['ST'], nrows = 100000)\n",
    "population = population_a.append(population_b)"
   ]
  },
  {
   "cell_type": "code",
   "execution_count": 13,
   "metadata": {
    "collapsed": false
   },
   "outputs": [
    {
     "data": {
      "text/html": [
       "<div>\n",
       "<table border=\"1\" class=\"dataframe\">\n",
       "  <thead>\n",
       "    <tr style=\"text-align: right;\">\n",
       "      <th></th>\n",
       "      <th>ST</th>\n",
       "      <th>OIP</th>\n",
       "      <th>RETP</th>\n",
       "      <th>SEMP</th>\n",
       "      <th>WAGP</th>\n",
       "    </tr>\n",
       "  </thead>\n",
       "  <tbody>\n",
       "    <tr>\n",
       "      <th>0</th>\n",
       "      <td>1</td>\n",
       "      <td>0.0</td>\n",
       "      <td>0.0</td>\n",
       "      <td>0.0</td>\n",
       "      <td>0.0</td>\n",
       "    </tr>\n",
       "    <tr>\n",
       "      <th>1</th>\n",
       "      <td>1</td>\n",
       "      <td>0.0</td>\n",
       "      <td>0.0</td>\n",
       "      <td>0.0</td>\n",
       "      <td>52000.0</td>\n",
       "    </tr>\n",
       "    <tr>\n",
       "      <th>2</th>\n",
       "      <td>1</td>\n",
       "      <td>0.0</td>\n",
       "      <td>0.0</td>\n",
       "      <td>99000.0</td>\n",
       "      <td>0.0</td>\n",
       "    </tr>\n",
       "    <tr>\n",
       "      <th>3</th>\n",
       "      <td>1</td>\n",
       "      <td>0.0</td>\n",
       "      <td>0.0</td>\n",
       "      <td>0.0</td>\n",
       "      <td>0.0</td>\n",
       "    </tr>\n",
       "    <tr>\n",
       "      <th>4</th>\n",
       "      <td>1</td>\n",
       "      <td>0.0</td>\n",
       "      <td>0.0</td>\n",
       "      <td>0.0</td>\n",
       "      <td>0.0</td>\n",
       "    </tr>\n",
       "  </tbody>\n",
       "</table>\n",
       "</div>"
      ],
      "text/plain": [
       "   ST  OIP  RETP     SEMP     WAGP\n",
       "0   1  0.0   0.0      0.0      0.0\n",
       "1   1  0.0   0.0      0.0  52000.0\n",
       "2   1  0.0   0.0  99000.0      0.0\n",
       "3   1  0.0   0.0      0.0      0.0\n",
       "4   1  0.0   0.0      0.0      0.0"
      ]
     },
     "execution_count": 13,
     "metadata": {},
     "output_type": "execute_result"
    }
   ],
   "source": [
    "population.head()"
   ]
  },
  {
   "cell_type": "code",
   "execution_count": 18,
   "metadata": {
    "collapsed": false
   },
   "outputs": [],
   "source": [
    "def get_income_data(rows):\n",
    "    income_data = {}\n",
    "    for income_type in income_types:\n",
    "        income_data[income_type] = rows[income_type].values[~np.isnan(rows[income_type].values)]\n",
    "    return income_data\n",
    "\n",
    "average_incomes = {}\n",
    "for income_type in income_types:\n",
    "    average_incomes[income_type] = {}\n",
    "    \n",
    "for i in range(1, 56):\n",
    "    income_data = get_income_data(population[population.ST == i])\n",
    "    for income_type in income_types:\n",
    "        incomes = income_data[income_type]\n",
    "        if (len(incomes > 0)):\n",
    "            average = np.average(incomes[~np.isnan(incomes)])\n",
    "            key = str(i) if i > 9 else \"0\" + str(i)\n",
    "            average_incomes[income_type][key] = average"
   ]
  },
  {
   "cell_type": "code",
   "execution_count": 19,
   "metadata": {
    "collapsed": true
   },
   "outputs": [],
   "source": [
    "import matplotlib as mpl\n",
    "import matplotlib.pyplot as plt\n",
    "from matplotlib.patches import Polygon, PathPatch\n",
    "from matplotlib.collections import PatchCollection\n",
    "from mpl_toolkits.basemap import Basemap\n",
    "state_codes = {'01': 'Alabama',\n",
    "               #'02': 'Alaska',\n",
    "               '04': 'Arizona',\n",
    "               '05': 'Arkansas',\n",
    "               '06': 'California',\n",
    "               '08': 'Colorado',\n",
    "               '09': 'Connecticut',\n",
    "               '10': 'Delaware',\n",
    "               #'11': 'District of Columbia',\n",
    "               '12': 'Florida',\n",
    "               '13': 'Georgia',\n",
    "               '15': 'Hawaii',\n",
    "               '16': 'Idaho',\n",
    "               '17': 'Illinois',\n",
    "               '18': 'Indiana',\n",
    "               '19': 'Iowa',\n",
    "               '20': 'Kansas',\n",
    "               '21': 'Kentucky',\n",
    "               '22': 'Louisiana',\n",
    "               '23': 'Maine',\n",
    "               '24': 'Maryland',\n",
    "               '25': 'Massachusetts',\n",
    "               '26': 'Michigan',\n",
    "               '27': 'Minnesota',\n",
    "               '28': 'Mississippi',\n",
    "               '29': 'Missouri',\n",
    "               '30': 'Montana',\n",
    "               '31': 'Nebraska',\n",
    "               '32': 'Nevada',\n",
    "               '33': 'New Hampshire',\n",
    "               '34': 'New Jersey',\n",
    "               #'35': 'New Mexico',\n",
    "               '36': 'New York',\n",
    "               '37': 'North Carolina',\n",
    "               '38': 'North Dakota',\n",
    "               '39': 'Ohio',\n",
    "               '40': 'Oklahoma',\n",
    "               '41': 'Oregon',\n",
    "               '42': 'Pennsylvania',\n",
    "               '44': 'Rhode Island',\n",
    "               '45': 'South Carolina',\n",
    "               '46': 'South Dakota',\n",
    "               '47': 'Tennessee',\n",
    "               '48': 'Texas',\n",
    "               '49': 'Utah',\n",
    "               '50': 'Vermont',\n",
    "               '51': 'Virginia',\n",
    "               '53': 'Washington',\n",
    "               '54': 'West Virginia',\n",
    "               '55': 'Wisconsin',\n",
    "               '56': 'Wyoming'\n",
    "               }"
   ]
  },
  {
   "cell_type": "code",
   "execution_count": 20,
   "metadata": {
    "collapsed": true
   },
   "outputs": [],
   "source": [
    "def plot_basemap_for_info(state_id_to_info_map, name, cmap):\n",
    "    fig = plt.figure(figsize=(20,10))\n",
    "    ax = fig.add_subplot(111, axisbg='w', frame_on=False)\n",
    "    fig.suptitle(name, fontsize=20)\n",
    "\n",
    "    m = Basemap(width=5000000,height=3500000,\n",
    "                resolution='l',projection='aea',\\\n",
    "                lat_1=30.,lat_2=50,lon_0=-96,lat_0=38) \n",
    "\n",
    "    # read each states shapefile\n",
    "    patches = np.array([])\n",
    "    medians = np.array([])\n",
    "    for key in state_codes.keys():\n",
    "        m.readshapefile('data/shapefiles/pums/tl_2013_{0}_puma10'.format(key),\n",
    "                        name='state', drawbounds=True, default_encoding='latin-1')\n",
    "        if key in state_id_to_info_map.keys():\n",
    "            state_patches = np.asarray([Polygon(np.array(coords), True) for coords in m.state])\n",
    "            state_medians = np.asarray(state_id_to_info_map[key])\n",
    "            patches = np.append(patches, state_patches)\n",
    "            medians = np.append(medians, state_medians)\n",
    "\n",
    "\n",
    "    pc = PatchCollection(patches, cmap=cmap, linewidths=0.0, zorder=2)\n",
    "    pc.set_array(medians)\n",
    "    ax.add_collection(pc)\n",
    "\n",
    "    scale = mpl.cm.ScalarMappable(cmap=cmap)\n",
    "    scale.set_array(medians)\n",
    "    cb = m.colorbar(scale)\n",
    "    \n",
    "    cb.set_ticks([])\n",
    "    cb.set_ticklabels([])\n",
    "    ticks = np.append(np.arange(medians.min(),medians.max(),5000),[medians.max()])\n",
    "    tick_labels = [str(x) for x in ticks]\n",
    "    cb.set_ticks(ticks)\n",
    "    cb.set_ticklabels(tick_labels)"
   ]
  },
  {
   "cell_type": "code",
   "execution_count": null,
   "metadata": {
    "collapsed": true
   },
   "outputs": [],
   "source": [
    "for income_type in income_types:\n",
    "    plot_basemap_for_info(average_incomes[income_type], 'Average income by state' + income_type, 'Blues')"
   ]
  },
  {
   "cell_type": "code",
   "execution_count": null,
   "metadata": {
    "collapsed": true
   },
   "outputs": [],
   "source": []
  }
 ],
 "metadata": {
  "kernelspec": {
   "display_name": "Python 3",
   "language": "python",
   "name": "python3"
  },
  "language_info": {
   "codemirror_mode": {
    "name": "ipython",
    "version": 3
   },
   "file_extension": ".py",
   "mimetype": "text/x-python",
   "name": "python",
   "nbconvert_exporter": "python",
   "pygments_lexer": "ipython3",
   "version": "3.5.1"
  }
 },
 "nbformat": 4,
 "nbformat_minor": 0
}
