{
 "cells": [
  {
   "cell_type": "markdown",
   "metadata": {},
   "source": [
    "# AmericanSurvey"
   ]
  },
  {
   "cell_type": "code",
   "execution_count": 31,
   "metadata": {
    "collapsed": false
   },
   "outputs": [],
   "source": [
    "%matplotlib inline\n",
    "import pandas as pd\n",
    "import numpy as np\n",
    "#housing = pd.read_csv(\"data/pums/ss13husa.csv\",usecols=('ST', 'FINCP'), nrows=1000)\n",
    "population = pd.read_csv(\"data/pums/ss13pusa.csv\",usecols=('SCHL', 'PINCP', 'SEX', 'NATIVITY'), nrows=5000)"
   ]
  },
  {
   "cell_type": "code",
   "execution_count": 32,
   "metadata": {
    "collapsed": false
   },
   "outputs": [],
   "source": [
    "import seaborn as sns\n",
    "import matplotlib.pyplot as plt\n",
    "#sns.regplot(x=\"SCHL\", y=\"PINCP\", data=population, hue=\"SEX\")"
   ]
  },
  {
   "cell_type": "code",
   "execution_count": 33,
   "metadata": {
    "collapsed": false
   },
   "outputs": [
    {
     "data": {
      "image/png": "[encoded data removed]",
      "text/plain": [
       "<matplotlib.figure.Figure at 0x11250e940>"
      ]
     },
     "metadata": {},
     "output_type": "display_data"
    }
   ],
   "source": [
    "g = sns.FacetGrid(population, col='NATIVITY', hue=\"SEX\")\n",
    "g = (g.map(plt.scatter, \"SCHL\", \"PINCP\", edgecolor=\"w\").add_legend())"
   ]
  },
  {
   "cell_type": "code",
   "execution_count": 35,
   "metadata": {
    "collapsed": false
   },
   "outputs": [
    {
     "data": {
      "text/html": [
       "<div>\n",
       "<table border=\"1\" class=\"dataframe\">\n",
       "  <thead>\n",
       "    <tr style=\"text-align: right;\">\n",
       "      <th></th>\n",
       "      <th>SCHL</th>\n",
       "      <th>PINCP</th>\n",
       "      <th>NATIVITY</th>\n",
       "      <th>SEX</th>\n",
       "    </tr>\n",
       "  </thead>\n",
       "  <tbody>\n",
       "  </tbody>\n",
       "</table>\n",
       "</div>"
      ],
      "text/plain": [
       "Empty DataFrame\n",
       "Columns: [SCHL, PINCP, NATIVITY, SEX]\n",
       "Index: []"
      ]
     },
     "execution_count": 35,
     "metadata": {},
     "output_type": "execute_result"
    }
   ],
   "source": [
    "def get_average_income_for_schooling(sex, nativity):\n",
    "    incomes = housing[housing.ST == i].FINCP.values\n",
    "    if (len(incomes > 0)):\n",
    "        income_average = np.average(incomes[~np.isnan(incomes)])\n",
    "    averaged = pd.DataFrame(columns=['SCHL', 'PINCP', 'NATIVITY', 'SEX'])\n",
    "for \n",
    "#g = sns.FacetGrid(population, col='NATIVITY', hue=\"SEX\")\n",
    "#g = (g.map(plt.scatter, \"SCHL\", \"PINCP\", edgecolor=\"w\").add_legend())"
   ]
  },
  {
   "cell_type": "code",
   "execution_count": null,
   "metadata": {
    "collapsed": true
   },
   "outputs": [],
   "source": []
  }
 ],
 "metadata": {
  "kernelspec": {
   "display_name": "Python 3",
   "language": "python",
   "name": "python3"
  },
  "language_info": {
   "codemirror_mode": {
    "name": "ipython",
    "version": 3
   },
   "file_extension": ".py",
   "mimetype": "text/x-python",
   "name": "python",
   "nbconvert_exporter": "python",
   "pygments_lexer": "ipython3",
   "version": "3.5.1"
  }
 },
 "nbformat": 4,
 "nbformat_minor": 0
}
